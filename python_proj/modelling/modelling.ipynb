{
 "cells": [
  {
   "attachments": {},
   "cell_type": "markdown",
   "metadata": {},
   "source": [
    "Data loading"
   ]
  },
  {
   "cell_type": "code",
   "execution_count": 75,
   "metadata": {},
   "outputs": [
    {
     "name": "stdout",
     "output_type": "stream",
     "text": [
      "Training with 1239324 entries, and testing with 309832 entries.\n"
     ]
    }
   ],
   "source": [
    "from sklearn.ensemble import RandomForestRegressor\n",
    "from sklearn.model_selection import train_test_split\n",
    "import pandas as pd\n",
    "\n",
    "file_name = 'cumulative_dataset'\n",
    "# file_name = 'windowed_30d_dataset'\n",
    "# file_name = 'windowed_90d_dataset'\n",
    "# file_name = 'windowed_180d_dataset'\n",
    "# file_name = 'windowed_365d_dataset'\n",
    "\n",
    "# TODO: Make this work with ``exp_utils.BASE_PATH``\n",
    "data_path = f'/workspaces/msc_thesis/data/libraries/npm-libraries-1.6.0-2020-01-12/pull-requests/{file_name}.csv'\n",
    "df = pd.read_csv(filepath_or_buffer=data_path, header=0)\n",
    "\n",
    "train, test = train_test_split(df, test_size=0.2)\n",
    "\n",
    "print(\n",
    "    f'Training with {len(train)} entries, and testing with {len(test)} entries.')\n"
   ]
  },
  {
   "attachments": {},
   "cell_type": "markdown",
   "metadata": {},
   "source": [
    "Downsamples the majority class to account for class imbalance."
   ]
  },
  {
   "cell_type": "code",
   "execution_count": 76,
   "metadata": {},
   "outputs": [
    {
     "name": "stdout",
     "output_type": "stream",
     "text": [
      "class_counts=DepPRIsMerged\n",
      "True     1200819\n",
      "False     348337\n",
      "Name: count, dtype: int64\n",
      "Class imbalance: 3.447.\n"
     ]
    }
   ],
   "source": [
    "class_counts = df['DepPRIsMerged'].value_counts()\n",
    "\n",
    "print(f'{class_counts=}')\n",
    "class_imbalance = max(class_counts) / min(class_counts)\n",
    "print(f'Class imbalance: {class_imbalance:.03f}.')\n",
    "\n",
    "if False:\n",
    "    from sklearn.utils import resample\n",
    "\n",
    "\n",
    "    majority = df[df.DepPRIsMerged]\n",
    "    minority = df[df.DepPRIsMerged == False]\n",
    "\n",
    "    majority = resample(majority, replace=True,\n",
    "                        n_samples=len(minority), random_state=0)\n",
    "\n",
    "    df = pd.concat([majority, minority])\n",
    "\n",
    "    print(f'Resampled size: {len(df)}.')"
   ]
  },
  {
   "attachments": {},
   "cell_type": "markdown",
   "metadata": {},
   "source": [
    "Downsamples the dataset in case you set ``sample`` to ``>0``."
   ]
  },
  {
   "cell_type": "code",
   "execution_count": 77,
   "metadata": {},
   "outputs": [],
   "source": [
    "sample = -1\n",
    "if sample > 0:\n",
    "    train = train.sample(100000)\n",
    "    print(\"WARNING: TRAINING WITH SAMPLE!\")\n"
   ]
  },
  {
   "attachments": {},
   "cell_type": "markdown",
   "metadata": {},
   "source": [
    "Selects predictor features and the dependent feature."
   ]
  },
  {
   "cell_type": "code",
   "execution_count": 85,
   "metadata": {},
   "outputs": [
    {
     "name": "stdout",
     "output_type": "stream",
     "text": [
      "df.columns=Index(['UUID', 'PR-Source', 'PR-ID', 'User-ID', 'Closed-At', 'DepPRIsMerged',\n",
      "       'ContLifetime', 'ContHasComments', 'ContNumCommits',\n",
      "       'ContDevSuccessRate', 'PRCountEco', 'PRAcceptanceRateEco'],\n",
      "      dtype='object')\n",
      "used_predictors=['ContHasComments', 'ContNumCommits', 'PRCountEco', 'PRAcceptanceRateEco']\n"
     ]
    }
   ],
   "source": [
    "print(f'{df.columns=}')\n",
    "\n",
    "pr_merged_key = 'DepPRIsMerged'\n",
    "train_labels = train[pr_merged_key]\n",
    "test_labels = test[pr_merged_key]\n",
    "all_labels = df[pr_merged_key]\n",
    "\n",
    "used_predictors = [\n",
    "    'ContHasComments',\n",
    "    'ContDevSuccessRate',\n",
    "    'ContLifetime',\n",
    "    'ContNumCommits',\n",
    "    'PRCountEco',\n",
    "    'PRAcceptanceRateEco'\n",
    "]\n",
    "\n",
    "print(f'{used_predictors=}')\n",
    "\n",
    "train_predictors = train[used_predictors]\n",
    "test_predictors = test[used_predictors]\n",
    "all_predictors = df[used_predictors]\n"
   ]
  },
  {
   "attachments": {},
   "cell_type": "markdown",
   "metadata": {},
   "source": [
    "## Random Forest"
   ]
  },
  {
   "cell_type": "code",
   "execution_count": 86,
   "metadata": {},
   "outputs": [
    {
     "name": "stdout",
     "output_type": "stream",
     "text": [
      "Absolute error: 1547413    False\n",
      "1136979    False\n",
      "1378810     True\n",
      "1545810    False\n",
      "1335088    False\n",
      "           ...  \n",
      "567292     False\n",
      "871299     False\n",
      "343811     False\n",
      "1326597    False\n",
      "901638     False\n",
      "Name: DepPRIsMerged, Length: 309832, dtype: bool\n",
      "conf=array([[  4319,  65180],\n",
      "       [  3832, 236501]])\n",
      "f1=0.6742449517063099\n",
      "              precision    recall  f1-score   support\n",
      "\n",
      "       False       0.80      0.06      0.12 239583.276198404\n",
      "        True       0.51      0.98      0.67  240333.0\n",
      "\n",
      "    accuracy                           0.52 479916.276198404\n",
      "   macro avg       0.65      0.52      0.39 479916.276198404\n",
      "weighted avg       0.65      0.52      0.40 479916.276198404\n",
      "\n"
     ]
    }
   ],
   "source": [
    "from sklearn.metrics import f1_score, confusion_matrix, classification_report\n",
    "rf = RandomForestRegressor(100, random_state=0)\n",
    "\n",
    "rf.fit(train_predictors, train_labels)\n",
    "\n",
    "predictions = rf.predict(test_predictors)\n",
    "predictions = [pred >= 0.5 for pred in predictions]\n",
    "\n",
    "errors = abs(predictions ^ test_labels)\n",
    "\n",
    "print(f'Absolute error: {errors}')\n",
    "\n",
    "\n",
    "conf = confusion_matrix(test_labels, predictions)\n",
    "print(f'{conf=}')\n",
    "\n",
    "imbalance_weight = list([1.0 if label else class_imbalance for label in test_labels])\n",
    "f1 = f1_score(test_labels, predictions, sample_weight=imbalance_weight)\n",
    "print(f'{f1=}')\n",
    "\n",
    "print(classification_report(test_labels, predictions, sample_weight=imbalance_weight))\n"
   ]
  },
  {
   "attachments": {},
   "cell_type": "markdown",
   "metadata": {},
   "source": [
    "Generates partial dependence plots.\n",
    "\n",
    "It's visible that the intra-project experience completely overshadows other factors. \n",
    "\n",
    "When exclusing this, you can see that PR acceptance ratio matters as well as whether the PR has comments. \n",
    "Lifetime somehow has no effect whatsoever; ditto for the ecosystem PR count. "
   ]
  },
  {
   "cell_type": "code",
   "execution_count": 87,
   "metadata": {},
   "outputs": [
    {
     "data": {
      "image/png": "[encoded data removed]",
      "text/plain": [
       "<Figure size 1200x600 with 5 Axes>"
      ]
     },
     "metadata": {},
     "output_type": "display_data"
    }
   ],
   "source": [
    "from sklearn.inspection import PartialDependenceDisplay\n",
    "from matplotlib import pyplot as plt\n",
    "\n",
    "# Collective partial dependence plot.\n",
    "PartialDependenceDisplay.from_estimator(rf, test_predictors, used_predictors)\n",
    "\n",
    "fig = plt.gcf()\n",
    "fig.set_figwidth(12)\n",
    "fig.set_figheight(6)\n",
    "fig.subplots_adjust(left=0.1,\n",
    "                    bottom=0.1,\n",
    "                    right=0.9,\n",
    "                    top=0.9,\n",
    "                    wspace=0.15,\n",
    "                    hspace=0.3)\n"
   ]
  },
  {
   "cell_type": "code",
   "execution_count": 88,
   "metadata": {},
   "outputs": [],
   "source": [
    "# Disabled as this takes forever.\n",
    "# # Individual partial dependence plot.\n",
    "# PartialDependenceDisplay.from_estimator(\n",
    "#     rf, test_predictors, used_predictors, kind='individual')\n",
    "\n",
    "# fig = plt.gcf()\n",
    "# fig.set_figwidth(12)\n",
    "# fig.set_figheight(6)\n",
    "# fig.subplots_adjust(left=0.1,\n",
    "#                     bottom=0.1,\n",
    "#                     right=0.9,\n",
    "#                     top=0.9,\n",
    "#                     wspace=0.15,\n",
    "#                     hspace=0.3)\n"
   ]
  },
  {
   "attachments": {},
   "cell_type": "markdown",
   "metadata": {},
   "source": [
    "## Logistic Regression"
   ]
  },
  {
   "cell_type": "code",
   "execution_count": 89,
   "metadata": {},
   "outputs": [
    {
     "name": "stdout",
     "output_type": "stream",
     "text": [
      "score=0.5030279274618473\n",
      "Absolute error: 1547413    False\n",
      "1136979    False\n",
      "1378810     True\n",
      "1545810    False\n",
      "1335088    False\n",
      "           ...  \n",
      "567292     False\n",
      "871299     False\n",
      "343811     False\n",
      "1326597    False\n",
      "901638     False\n",
      "Name: DepPRIsMerged, Length: 309832, dtype: bool\n",
      "conf=array([[  4319,  65180],\n",
      "       [  3832, 236501]])\n",
      "f1=0.6742449517063099\n",
      "              precision    recall  f1-score   support\n",
      "\n",
      "       False       0.80      0.06      0.12 239583.276198404\n",
      "        True       0.51      0.98      0.67  240333.0\n",
      "\n",
      "    accuracy                           0.52 479916.276198404\n",
      "   macro avg       0.65      0.52      0.39 479916.276198404\n",
      "weighted avg       0.65      0.52      0.40 479916.276198404\n",
      "\n"
     ]
    }
   ],
   "source": [
    "from sklearn.linear_model import LogisticRegression\n",
    "\n",
    "lr = LogisticRegression()\n",
    "lr.fit(train_predictors, train_labels)\n",
    "\n",
    "lr_predictions = lr.predict(test_predictors)\n",
    "\n",
    "imbalance_weight = [1.0 if label else class_imbalance for label in test_labels]\n",
    "score = lr.score(test_predictors, test_labels, imbalance_weight)\n",
    "\n",
    "print(f'{score=}')\n",
    "\n",
    "errors = abs(predictions ^ test_labels)\n",
    "\n",
    "print(f'Absolute error: {errors}')\n",
    "\n",
    "\n",
    "conf = confusion_matrix(test_labels, predictions)\n",
    "print(f'{conf=}')\n",
    "\n",
    "f1 = f1_score(test_labels, predictions, sample_weight=imbalance_weight)\n",
    "print(f'{f1=}')\n",
    "\n",
    "print(classification_report(test_labels, predictions, sample_weight=imbalance_weight))"
   ]
  },
  {
   "attachments": {},
   "cell_type": "markdown",
   "metadata": {},
   "source": [
    "Calculates corresponding p-values for each feature."
   ]
  },
  {
   "cell_type": "code",
   "execution_count": 90,
   "metadata": {},
   "outputs": [
    {
     "name": "stderr",
     "output_type": "stream",
     "text": [
      "/tmp/ipykernel_52309/1709656433.py:6: SettingWithCopyWarning: \n",
      "A value is trying to be set on a copy of a slice from a DataFrame.\n",
      "Try using .loc[row_indexer,col_indexer] = value instead\n",
      "\n",
      "See the caveats in the documentation: https://pandas.pydata.org/pandas-docs/stable/user_guide/indexing.html#returning-a-view-versus-a-copy\n",
      "  train_predictors[has_comments_key] = train_predictors[has_comments_key].replace(value_mapper)\n",
      "/tmp/ipykernel_52309/1709656433.py:7: SettingWithCopyWarning: \n",
      "A value is trying to be set on a copy of a slice from a DataFrame.\n",
      "Try using .loc[row_indexer,col_indexer] = value instead\n",
      "\n",
      "See the caveats in the documentation: https://pandas.pydata.org/pandas-docs/stable/user_guide/indexing.html#returning-a-view-versus-a-copy\n",
      "  test_predictors[has_comments_key] = test_predictors[has_comments_key].replace(value_mapper)\n"
     ]
    },
    {
     "name": "stdout",
     "output_type": "stream",
     "text": [
      "Optimization terminated successfully.\n",
      "         Current function value: 0.546643\n",
      "         Iterations 6\n",
      "ContHasComments        0.203451\n",
      "ContNumCommits        -0.001312\n",
      "PRCountEco             0.001055\n",
      "PRAcceptanceRateEco    1.675227\n",
      "dtype: float64\n",
      "summary 1:\n",
      "summary 2:\n"
     ]
    },
    {
     "data": {
      "text/html": [
       "<table class=\"simpletable\">\n",
       "<tr>\n",
       "        <td>Model:</td>              <td>Logit</td>      <td>Pseudo R-squared:</td>    <td>-0.025</td>   \n",
       "</tr>\n",
       "<tr>\n",
       "  <td>Dependent Variable:</td>   <td>DepPRIsMerged</td>        <td>AIC:</td>        <td>1354942.3783</td>\n",
       "</tr>\n",
       "<tr>\n",
       "         <td>Date:</td>        <td>2023-04-27 15:19</td>       <td>BIC:</td>        <td>1354990.4986</td>\n",
       "</tr>\n",
       "<tr>\n",
       "   <td>No. Observations:</td>       <td>1239324</td>      <td>Log-Likelihood:</td>   <td>-6.7747e+05</td>\n",
       "</tr>\n",
       "<tr>\n",
       "       <td>Df Model:</td>              <td>3</td>            <td>LL-Null:</td>       <td>-6.6075e+05</td>\n",
       "</tr>\n",
       "<tr>\n",
       "     <td>Df Residuals:</td>         <td>1239320</td>       <td>LLR p-value:</td>       <td>1.0000</td>   \n",
       "</tr>\n",
       "<tr>\n",
       "      <td>Converged:</td>           <td>1.0000</td>           <td>Scale:</td>          <td>1.0000</td>   \n",
       "</tr>\n",
       "<tr>\n",
       "    <td>No. Iterations:</td>        <td>6.0000</td>              <td></td>                <td></td>      \n",
       "</tr>\n",
       "</table>\n",
       "<table class=\"simpletable\">\n",
       "<tr>\n",
       "           <td></td>            <th>Coef.</th>  <th>Std.Err.</th>     <th>z</th>     <th>P>|z|</th> <th>[0.025</th>  <th>0.975]</th> \n",
       "</tr>\n",
       "<tr>\n",
       "  <th>ContHasComments</th>     <td>0.2035</td>   <td>0.0030</td>   <td>67.5514</td> <td>0.0000</td> <td>0.1975</td>  <td>0.2094</td> \n",
       "</tr>\n",
       "<tr>\n",
       "  <th>ContNumCommits</th>      <td>-0.0013</td>  <td>0.0001</td>  <td>-21.1251</td> <td>0.0000</td> <td>-0.0014</td> <td>-0.0012</td>\n",
       "</tr>\n",
       "<tr>\n",
       "  <th>PRCountEco</th>          <td>0.0011</td>   <td>0.0000</td>   <td>48.3060</td> <td>0.0000</td> <td>0.0010</td>  <td>0.0011</td> \n",
       "</tr>\n",
       "<tr>\n",
       "  <th>PRAcceptanceRateEco</th> <td>1.6752</td>   <td>0.0048</td>  <td>347.5838</td> <td>0.0000</td> <td>1.6658</td>  <td>1.6847</td> \n",
       "</tr>\n",
       "</table>"
      ],
      "text/plain": [
       "<class 'statsmodels.iolib.summary2.Summary'>\n",
       "\"\"\"\n",
       "                           Results: Logit\n",
       "====================================================================\n",
       "Model:               Logit            Pseudo R-squared: -0.025      \n",
       "Dependent Variable:  DepPRIsMerged    AIC:              1354942.3783\n",
       "Date:                2023-04-27 15:19 BIC:              1354990.4986\n",
       "No. Observations:    1239324          Log-Likelihood:   -6.7747e+05 \n",
       "Df Model:            3                LL-Null:          -6.6075e+05 \n",
       "Df Residuals:        1239320          LLR p-value:      1.0000      \n",
       "Converged:           1.0000           Scale:            1.0000      \n",
       "No. Iterations:      6.0000                                         \n",
       "--------------------------------------------------------------------\n",
       "                     Coef.  Std.Err.    z     P>|z|   [0.025  0.975]\n",
       "--------------------------------------------------------------------\n",
       "ContHasComments      0.2035   0.0030  67.5514 0.0000  0.1975  0.2094\n",
       "ContNumCommits      -0.0013   0.0001 -21.1251 0.0000 -0.0014 -0.0012\n",
       "PRCountEco           0.0011   0.0000  48.3060 0.0000  0.0010  0.0011\n",
       "PRAcceptanceRateEco  1.6752   0.0048 347.5838 0.0000  1.6658  1.6847\n",
       "====================================================================\n",
       "\n",
       "\"\"\""
      ]
     },
     "execution_count": 90,
     "metadata": {},
     "output_type": "execute_result"
    }
   ],
   "source": [
    "import statsmodels.api as sm\n",
    "\n",
    "has_comments_key = 'ContHasComments'\n",
    "if has_comments_key in used_predictors:\n",
    "    value_mapper = {False: 0, True: 1}\n",
    "    train_predictors[has_comments_key] = train_predictors[has_comments_key].replace(value_mapper)\n",
    "    test_predictors[has_comments_key] = test_predictors[has_comments_key].replace(value_mapper)\n",
    "    \n",
    "sm_lr = sm.Logit(train_labels, train_predictors[used_predictors])\n",
    "result = sm_lr.fit()\n",
    "\n",
    "print(result.params)\n",
    "\n",
    "predictions = result.predict(test_predictors[used_predictors])\n",
    "predictions = [pred >= 0.5 for pred in predictions]\n",
    "\n",
    "result.pred_table()\n",
    "\n",
    "print('summary 1:')\n",
    "result.summary()\n",
    "\n",
    "print('summary 2:')\n",
    "result.summary2()\n"
   ]
  }
 ],
 "metadata": {
  "kernelspec": {
   "display_name": "Python 3",
   "language": "python",
   "name": "python3"
  },
  "language_info": {
   "codemirror_mode": {
    "name": "ipython",
    "version": 3
   },
   "file_extension": ".py",
   "mimetype": "text/x-python",
   "name": "python",
   "nbconvert_exporter": "python",
   "pygments_lexer": "ipython3",
   "version": "3.11.2"
  },
  "orig_nbformat": 4
 },
 "nbformat": 4,
 "nbformat_minor": 2
}
