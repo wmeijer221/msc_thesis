{
 "cells": [
  {
   "attachments": {},
   "cell_type": "markdown",
   "metadata": {},
   "source": [
    "This script just counts visualizes the distribution of issues, similar to how PRs are counted in the other notebook."
   ]
  },
  {
   "cell_type": "code",
   "execution_count": null,
   "metadata": {},
   "outputs": [],
   "source": [
    "import pandas as pd\n",
    "import python_proj.utils.exp_utils as exp_utils\n",
    "\n",
    "\n",
    "exp_utils.load_paths_for_eco()\n",
    "input_path = exp_utils.CHRONOLOGICAL_DATASET_PATH(\n",
    "    data_type='',\n",
    "    file_name='sorted_final_issues_min_5_prs'\n",
    ")\n",
    "input_ds_name = 'sorted_final_issues_min_5_prs'\n",
    "ds_iterator = exp_utils.iterate_through_multiple_chronological_issue_pr_datasets([\n",
    "                                                                                 input_ds_name], [])\n",
    "# iterator to get user IDs and repo names.\n",
    "df_entries = [\n",
    "    (entry[\"user_data\"][\"id\"],\n",
    "     \"/\".join(exp_utils.get_owner_and_repo_from_source_path(\n",
    "         entry[\"__source_path\"]))\n",
    "     )\n",
    "    for entry in ds_iterator]\n",
    "\n",
    "df = pd.DataFrame(df_entries, ['User ID', \"Repo\"])\n",
    "\n",
    "issues_per_user = df.groupby()\n",
    "\n"
   ]
  }
 ],
 "metadata": {
  "language_info": {
   "name": "python"
  },
  "orig_nbformat": 4
 },
 "nbformat": 4,
 "nbformat_minor": 2
}
