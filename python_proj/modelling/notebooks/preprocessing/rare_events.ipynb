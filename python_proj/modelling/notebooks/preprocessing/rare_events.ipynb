{
 "cells": [
  {
   "cell_type": "markdown",
   "metadata": {},
   "source": [
    "# Rare event testing\n",
    "\n",
    "Identifies what features are relatively rare; i.e., whether it's a zero-inflated column.\n",
    "This is just for insight, and isn't used for anything."
   ]
  },
  {
   "cell_type": "markdown",
   "metadata": {},
   "source": [
    "## Data loading"
   ]
  },
  {
   "cell_type": "code",
   "execution_count": null,
   "metadata": {},
   "outputs": [],
   "source": [
    "import pandas as pd\n",
    "import python_proj.utils.exp_utils as exp_utils\n",
    "\n",
    "input_data_file_name = \"dataset_transformed\"\n",
    "\n",
    "data_path_format = exp_utils.BASE_PATH + \"/final_data/{data_file_name}.csv\"\n",
    "data_path = data_path_format.format(data_file_name=input_data_file_name)\n",
    "print(f\"{data_path=}\")\n",
    "\n",
    "meta_header_count = 5\n",
    "pr_merged_key = \"PullRequestIsMerged\"\n",
    "first_time_contributor_key = \"SubmitterIsFirstTimeContributor\"\n",
    "\n",
    "df: pd.DataFrame = pd.read_csv(filepath_or_buffer=data_path, header=0)\n",
    "\n",
    "print(f\"{len(df)=}.\")\n",
    "print(f\"{len(df.columns)=}\\n\")\n",
    "\n",
    "df.describe()"
   ]
  },
  {
   "cell_type": "markdown",
   "metadata": {},
   "source": [
    "### Predictor Zero Counts\n",
    "\n",
    "Counts how many fields have partial zero data to see if they are worth including in this study"
   ]
  },
  {
   "cell_type": "code",
   "execution_count": null,
   "metadata": {},
   "outputs": [],
   "source": [
    "import regex as re\n",
    "from typing import Callable\n",
    "\n",
    "\n",
    "def count_zeroes(_df: pd.DataFrame):\n",
    "    zeroes = pd.DataFrame()\n",
    "    zeroes['zeroes'] = _df.eq(0).sum()\n",
    "    zeroes['non_zeroes'] = len(_df) - zeroes['zeroes']\n",
    "    zeroes['percentage_zeroes'] = (zeroes['zeroes'] / len(_df)) * 100\n",
    "\n",
    "    binary_fields = _df.select_dtypes(exclude='number').columns\n",
    "    ratio_fields = [field for field in _df.columns if len(\n",
    "        re.findall(r'.*SuccessRate.*', field)) > 0]\n",
    "\n",
    "    def get_fields_with_requirements(req: Callable[[str, dict], bool]) -> list[str]:\n",
    "        included_rows = []\n",
    "        for name, row_data in zeroes.iterrows():\n",
    "            # We're only interested in continuous data here.\n",
    "            # The ratio fields have a meaningful 0.\n",
    "            if name in binary_fields or name in ratio_fields:\n",
    "                continue\n",
    "\n",
    "            if req(name, row_data):\n",
    "                included_rows.append(name)\n",
    "                print(\n",
    "                    f'{name}: {row_data[\"zeroes\"]:.0f} zeroes, {row_data[\"non_zeroes\"]:.0f} non-zeroes ({row_data[\"percentage_zeroes\"]:.03f}% zeroes).')\n",
    "\n",
    "        return included_rows\n",
    "\n",
    "    rare_cutoff = 80\n",
    "    print(f\"\\nRare events ({rare_cutoff}+% zeroes):\")\n",
    "    rare_events = get_fields_with_requirements(lambda _, row_data:\n",
    "                                               row_data['percentage_zeroes'] > rare_cutoff)\n",
    "\n",
    "    print(\"\\nNon-rare events:\")\n",
    "    non_rare_events = get_fields_with_requirements(lambda name, _:\n",
    "                                                   name not in rare_events)\n",
    "\n",
    "    return rare_events, non_rare_events\n"
   ]
  },
  {
   "cell_type": "markdown",
   "metadata": {},
   "source": [
    "### Rare events over all data"
   ]
  },
  {
   "cell_type": "code",
   "execution_count": null,
   "metadata": {},
   "outputs": [],
   "source": [
    "rare_events, non_rare_events = count_zeroes(df)\n",
    "\n",
    "print(\"\\nEvent counts:\")\n",
    "print(f'{len(rare_events)=}')\n",
    "print(f'{len(non_rare_events)=}')"
   ]
  },
  {
   "cell_type": "markdown",
   "metadata": {},
   "source": [
    "### Rare events for any variable."
   ]
  },
  {
   "cell_type": "code",
   "execution_count": null,
   "metadata": {},
   "outputs": [],
   "source": [
    "import regex as re\n",
    "\n",
    "df.select_dtypes(include='number')\n",
    "independent_fields = [field for field in df.columns[meta_header_count:]\n",
    "                      if len(list(re.findall(r'.*Control.*', field))) == 0]\n",
    "print(independent_fields)\n",
    "independent_df = df[df[independent_fields].gt(0).any(axis=1)]\n",
    "print(f'{len(independent_df)=}\\n')\n",
    "\n",
    "rare_events, non_rare_events = count_zeroes(independent_df)\n",
    "\n",
    "print(\"\\nEvent Counts:\")\n",
    "print(f'{len(rare_events)=}')\n",
    "print(f'{len(non_rare_events)=}')\n"
   ]
  },
  {
   "cell_type": "markdown",
   "metadata": {},
   "source": [
    "### Rare events over ecosystem experience\n",
    "\n",
    "It performs the same test but now on entries that have some form of ecosystem experience."
   ]
  },
  {
   "cell_type": "code",
   "execution_count": null,
   "metadata": {},
   "outputs": [],
   "source": [
    "import regex as re\n",
    "\n",
    "ecosystem_fields = [field for field in df.columns[meta_header_count:] if len(list(\n",
    "    re.findall(r'.*Ecosystem.*', field))) > 0]\n",
    "print(ecosystem_fields)\n",
    "ecosystem_df = df[df[ecosystem_fields].gt(0).any(axis=1)]\n",
    "print(f'{len(ecosystem_df)=}\\n')\n",
    "\n",
    "rare_events, non_rare_events = count_zeroes(ecosystem_df)\n",
    "\n",
    "print(\"\\nEvent Counts:\")\n",
    "print(f'{len(rare_events)=}')\n",
    "print(f'{len(non_rare_events)=}')"
   ]
  },
  {
   "cell_type": "markdown",
   "metadata": {},
   "source": [
    "### Rare events in dependency ecosystems"
   ]
  },
  {
   "cell_type": "code",
   "execution_count": null,
   "metadata": {},
   "outputs": [],
   "source": [
    "import regex as re\n",
    "\n",
    "dep_ecosystem_fields = [field for field in df.columns[meta_header_count:] if len(list(\n",
    "    re.findall(r'.*DependencyEcosystem.*', field))) > 0]\n",
    "print(dep_ecosystem_fields)\n",
    "dep_ecosystem_df = df[df[dep_ecosystem_fields].gt(0).any(axis=1)]\n",
    "print(f'{len(dep_ecosystem_df)=}\\n')\n",
    "\n",
    "rare_events, non_rare_events = count_zeroes(dep_ecosystem_df)\n",
    "\n",
    "print(\"\\nEvent Counts:\")\n",
    "print(f'{len(rare_events)=}')\n",
    "print(f'{len(non_rare_events)=}')"
   ]
  },
  {
   "cell_type": "markdown",
   "metadata": {},
   "source": [
    "### Rare events in shared experience"
   ]
  },
  {
   "cell_type": "code",
   "execution_count": null,
   "metadata": {},
   "outputs": [],
   "source": [
    "import regex as re\n",
    "\n",
    "shared_experience_fields = [field for field in df.columns[meta_header_count:]\n",
    "                            if len(list(re.findall(r'.*SharedExperience.*', field))) > 0]\n",
    "print(shared_experience_fields)\n",
    "shared_experience_df = df[df[shared_experience_fields].gt(0).any(axis=1)]\n",
    "print(f'{len(shared_experience_df)=}\\n')\n",
    "\n",
    "rare_events, non_rare_events = count_zeroes(dep_ecosystem_df)\n",
    "\n",
    "print(\"\\nEvent Counts:\")\n",
    "print(f'{len(rare_events)=}')\n",
    "print(f'{len(non_rare_events)=}')\n"
   ]
  }
 ],
 "metadata": {
  "language_info": {
   "name": "python"
  }
 },
 "nbformat": 4,
 "nbformat_minor": 2
}
