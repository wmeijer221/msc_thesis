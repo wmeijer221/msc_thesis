{
 "cells": [
  {
   "cell_type": "markdown",
   "metadata": {},
   "source": [
    "# Visualization\n",
    "\n",
    "Generates a bunch of figures of the different features."
   ]
  },
  {
   "cell_type": "markdown",
   "metadata": {},
   "source": [
    "## Dataset loading"
   ]
  },
  {
   "cell_type": "code",
   "execution_count": null,
   "metadata": {},
   "outputs": [],
   "source": [
    "import pandas as pd\n",
    "import python_proj.utils.exp_utils as exp_utils\n",
    "\n",
    "input_data_file_name = \"dataset_subsampled\"\n",
    "\n",
    "data_path_format = exp_utils.BASE_PATH + \"/final_data/{data_file_name}.csv\"\n",
    "data_path = data_path_format.format(data_file_name=input_data_file_name)\n",
    "print(f\"{data_path=}\")\n",
    "\n",
    "meta_header_count = 5\n",
    "\n",
    "df: pd.DataFrame = pd.read_csv(filepath_or_buffer=data_path, header=0)\n",
    "\n",
    "print(f\"{len(df)=}.\")\n",
    "print(f\"{len(df.columns)=}\\n\")\n",
    "\n",
    "df.describe()"
   ]
  },
  {
   "cell_type": "markdown",
   "metadata": {},
   "source": [
    "## Figure creation"
   ]
  },
  {
   "cell_type": "code",
   "execution_count": null,
   "metadata": {},
   "outputs": [],
   "source": [
    "figure_base_path = f\"{exp_utils.BASE_PATH}/figures/modelling/{input_data_file_name}/\"\n",
    "print(f\"{figure_base_path=}\")"
   ]
  },
  {
   "cell_type": "code",
   "execution_count": null,
   "metadata": {},
   "outputs": [],
   "source": [
    "from python_proj.utils.nb_utils import create_predictor_histograms\n",
    "\n",
    "output_folder = f\"{figure_base_path}/untransformed/\"\n",
    "predictor_columns = df.columns[meta_header_count:]\n",
    "\n",
    "create_predictor_histograms(df, output_folder, predictor_columns)"
   ]
  },
  {
   "cell_type": "code",
   "execution_count": null,
   "metadata": {},
   "outputs": [],
   "source": [
    "import regex as re\n",
    "\n",
    "from python_proj.utils.nb_utils import create_histogram\n",
    "\n",
    "sr_re = r\".*SuccessRate.*\"\n",
    "ratio_fields = [field for field in df.columns if re.match(sr_re, field)]\n",
    "\n",
    "for field in ratio_fields:\n",
    "    related_count_field = field[: -len(\"SuccessRate\")] + \"SubmissionCount\"\n",
    "    tmp_df = df[df[related_count_field] != 0]\n",
    "    output_folder = f\"{figure_base_path}/success_rate/\"\n",
    "    create_histogram(tmp_df, field, output_folder)"
   ]
  }
 ],
 "metadata": {
  "language_info": {
   "name": "python"
  }
 },
 "nbformat": 4,
 "nbformat_minor": 2
}
