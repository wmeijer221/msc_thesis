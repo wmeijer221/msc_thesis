{
 "cells": [
  {
   "cell_type": "code",
   "execution_count": 9,
   "metadata": {},
   "outputs": [
    {
     "name": "stdout",
     "output_type": "stream",
     "text": [
      "38\n",
      "1224618\n"
     ]
    }
   ],
   "source": [
    "import uuid\n",
    "import pandas as pd\n",
    "import python_proj.utils.exp_utils as exp_utils\n",
    "\n",
    "file_name = \"dataset_90_days_started_11_07_23_untransformed\"\n",
    "\n",
    "base_path = exp_utils.BASE_PATH\n",
    "data_path = f'{base_path}/final_data/{file_name}.csv'\n",
    "df = pd.read_csv(data_path)\n",
    "\n",
    "dropped_fields = [\"Unnamed: 1\", \"Project Name.1\"]\n",
    "df = df.drop(dropped_fields, axis=1)\n",
    "df = df.reset_index(drop=True)\n",
    "\n",
    "\n",
    "obfuscated_fields = [\"Submitter ID\", \"ID\", \"PR Number\"]\n",
    "for field in obfuscated_fields:\n",
    "    df[field] = df[field].apply(\n",
    "        lambda x: uuid.uuid3(uuid.NAMESPACE_OID, str(x)))\n",
    "\n",
    "print(len(df.columns))\n",
    "print(len(df))\n",
    "\n",
    "output_path = f\"{base_path}/published_dataset.csv\"\n",
    "df.to_csv(output_path)\n"
   ]
  }
 ],
 "metadata": {
  "kernelspec": {
   "display_name": "Python 3",
   "language": "python",
   "name": "python3"
  },
  "language_info": {
   "codemirror_mode": {
    "name": "ipython",
    "version": 3
   },
   "file_extension": ".py",
   "mimetype": "text/x-python",
   "name": "python",
   "nbconvert_exporter": "python",
   "pygments_lexer": "ipython3",
   "version": "3.11.2"
  },
  "orig_nbformat": 4
 },
 "nbformat": 4,
 "nbformat_minor": 2
}
