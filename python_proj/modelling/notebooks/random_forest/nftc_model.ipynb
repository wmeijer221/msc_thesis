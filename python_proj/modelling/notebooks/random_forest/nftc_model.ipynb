{
 "cells": [
  {
   "cell_type": "code",
   "execution_count": 1,
   "metadata": {
    "execution": {
     "iopub.execute_input": "2024-02-21T18:20:29.022166Z",
     "iopub.status.busy": "2024-02-21T18:20:29.022051Z",
     "iopub.status.idle": "2024-02-21T18:20:29.035009Z",
     "shell.execute_reply": "2024-02-21T18:20:29.034718Z"
    }
   },
   "outputs": [],
   "source": [
    "# Forces the notebook to always reload packages.\n",
    "%reload_ext autoreload\n",
    "%autoreload 2"
   ]
  },
  {
   "cell_type": "markdown",
   "metadata": {},
   "source": [
    "## Dataset loading"
   ]
  },
  {
   "cell_type": "markdown",
   "metadata": {},
   "source": [
    "### Regular dataset loading"
   ]
  },
  {
   "cell_type": "code",
   "execution_count": 2,
   "metadata": {
    "execution": {
     "iopub.execute_input": "2024-02-21T18:20:29.037015Z",
     "iopub.status.busy": "2024-02-21T18:20:29.036903Z",
     "iopub.status.idle": "2024-02-21T18:20:29.346561Z",
     "shell.execute_reply": "2024-02-21T18:20:29.345960Z"
    }
   },
   "outputs": [],
   "source": [
    "from python_proj.utils.util import Counter\n",
    "import python_proj.utils.exp_utils as exp_utils\n",
    "\n",
    "# Defines a number of constants.\n",
    "\n",
    "file_name = \"dataset_transformed\"\n",
    "base_path = exp_utils.BASE_PATH\n",
    "data_path = f\"{base_path}/final_data/{file_name}.csv\"\n",
    "figure_base_path = f\"{base_path}/figures/modelling/{file_name}/rf_nftc/\"\n",
    "\n",
    "# Meta stuff.\n",
    "pr_merged_key = \"PullRequestIsMerged\"\n",
    "ftc_key = \"SubmitterIsFirstTimeContributor\"\n",
    "seed_counter = Counter()"
   ]
  },
  {
   "cell_type": "code",
   "execution_count": 3,
   "metadata": {
    "execution": {
     "iopub.execute_input": "2024-02-21T18:20:29.349303Z",
     "iopub.status.busy": "2024-02-21T18:20:29.348903Z",
     "iopub.status.idle": "2024-02-21T18:20:33.169402Z",
     "shell.execute_reply": "2024-02-21T18:20:33.168992Z"
    }
   },
   "outputs": [
    {
     "data": {
      "text/html": [
       "<div>\n",
       "<style scoped>\n",
       "    .dataframe tbody tr th:only-of-type {\n",
       "        vertical-align: middle;\n",
       "    }\n",
       "\n",
       "    .dataframe tbody tr th {\n",
       "        vertical-align: top;\n",
       "    }\n",
       "\n",
       "    .dataframe thead th {\n",
       "        text-align: right;\n",
       "    }\n",
       "</style>\n",
       "<table border=\"1\" class=\"dataframe\">\n",
       "  <thead>\n",
       "    <tr style=\"text-align: right;\">\n",
       "      <th></th>\n",
       "      <th>ID</th>\n",
       "      <th>Project Name</th>\n",
       "      <th>Submitter ID</th>\n",
       "      <th>PR Number</th>\n",
       "      <th>Closed At</th>\n",
       "      <th>IntraProjectSubmitterPullRequestSuccessRate</th>\n",
       "      <th>EcosystemExperienceSubmitterPullRequestSuccessRate</th>\n",
       "      <th>DependencyEcosystemExperienceSubmitterPullRequestSuccessRate</th>\n",
       "      <th>NonDependencyEcosystemExperienceSubmitterPullRequestSuccessRate</th>\n",
       "      <th>InversedDependencyEcosystemExperienceSubmitterPullRequestSuccessRate</th>\n",
       "      <th>...</th>\n",
       "      <th>ln(1 + DependencyEcosystemExperienceSubmitterIssueSubmissionCount)</th>\n",
       "      <th>ln(1 + DependencyEcosystemExperienceSubmitterIssueCommentCount)</th>\n",
       "      <th>ln(1 + NonDependencyEcosystemExperienceSubmitterIssueSubmissionCount)</th>\n",
       "      <th>ln(1 + NonDependencyEcosystemExperienceSubmitterIssueCommentCount)</th>\n",
       "      <th>ln(1 + InversedDependencyEcosystemExperienceSubmitterIssueSubmissionCount)</th>\n",
       "      <th>ln(1 + InversedDependencyEcosystemExperienceSubmitterIssueCommentCount)</th>\n",
       "      <th>ln(1 + WeightedEcosystemSecondOrderDegreeCentrality)</th>\n",
       "      <th>ln(1 + WeightedIntraProjectSecondOrderDegreeCentrality)</th>\n",
       "      <th>ln(1 + EcosystemLinkIntensity)</th>\n",
       "      <th>ln(1 + IntraProjectLinkIntensity)</th>\n",
       "    </tr>\n",
       "  </thead>\n",
       "  <tbody>\n",
       "    <tr>\n",
       "      <th>count</th>\n",
       "      <td>1.216221e+06</td>\n",
       "      <td>1.216221e+06</td>\n",
       "      <td>1216221.0</td>\n",
       "      <td>1216221.0</td>\n",
       "      <td>1216221.0</td>\n",
       "      <td>1.216221e+06</td>\n",
       "      <td>1.216221e+06</td>\n",
       "      <td>1.216221e+06</td>\n",
       "      <td>1.216221e+06</td>\n",
       "      <td>1.216221e+06</td>\n",
       "      <td>...</td>\n",
       "      <td>1.216221e+06</td>\n",
       "      <td>1.216221e+06</td>\n",
       "      <td>1.216221e+06</td>\n",
       "      <td>1.216221e+06</td>\n",
       "      <td>1.216221e+06</td>\n",
       "      <td>1.216221e+06</td>\n",
       "      <td>1.216221e+06</td>\n",
       "      <td>1.216221e+06</td>\n",
       "      <td>1.216221e+06</td>\n",
       "      <td>1.216221e+06</td>\n",
       "    </tr>\n",
       "    <tr>\n",
       "      <th>mean</th>\n",
       "      <td>9.081164e+05</td>\n",
       "      <td>8.677039e+03</td>\n",
       "      <td>0.0</td>\n",
       "      <td>0.0</td>\n",
       "      <td>0.0</td>\n",
       "      <td>5.027905e-01</td>\n",
       "      <td>4.027001e-01</td>\n",
       "      <td>9.860918e-02</td>\n",
       "      <td>3.749753e-01</td>\n",
       "      <td>5.920373e-02</td>\n",
       "      <td>...</td>\n",
       "      <td>1.145965e-02</td>\n",
       "      <td>1.972030e-02</td>\n",
       "      <td>7.959556e-02</td>\n",
       "      <td>1.343719e-01</td>\n",
       "      <td>9.534855e-03</td>\n",
       "      <td>1.751229e-02</td>\n",
       "      <td>6.396949e-02</td>\n",
       "      <td>6.042839e-02</td>\n",
       "      <td>2.191224e-02</td>\n",
       "      <td>4.468485e-02</td>\n",
       "    </tr>\n",
       "    <tr>\n",
       "      <th>std</th>\n",
       "      <td>5.243531e+05</td>\n",
       "      <td>5.806587e+03</td>\n",
       "      <td>0.0</td>\n",
       "      <td>0.0</td>\n",
       "      <td>0.0</td>\n",
       "      <td>4.710578e-01</td>\n",
       "      <td>4.523420e-01</td>\n",
       "      <td>2.908001e-01</td>\n",
       "      <td>4.479160e-01</td>\n",
       "      <td>2.284681e-01</td>\n",
       "      <td>...</td>\n",
       "      <td>5.401390e-02</td>\n",
       "      <td>8.011601e-02</td>\n",
       "      <td>1.179346e-01</td>\n",
       "      <td>1.749533e-01</td>\n",
       "      <td>5.258916e-02</td>\n",
       "      <td>8.239552e-02</td>\n",
       "      <td>9.937732e-02</td>\n",
       "      <td>1.003326e-01</td>\n",
       "      <td>8.736962e-02</td>\n",
       "      <td>1.013914e-01</td>\n",
       "    </tr>\n",
       "    <tr>\n",
       "      <th>min</th>\n",
       "      <td>0.000000e+00</td>\n",
       "      <td>4.300000e+01</td>\n",
       "      <td>0.0</td>\n",
       "      <td>0.0</td>\n",
       "      <td>0.0</td>\n",
       "      <td>0.000000e+00</td>\n",
       "      <td>0.000000e+00</td>\n",
       "      <td>0.000000e+00</td>\n",
       "      <td>0.000000e+00</td>\n",
       "      <td>0.000000e+00</td>\n",
       "      <td>...</td>\n",
       "      <td>0.000000e+00</td>\n",
       "      <td>0.000000e+00</td>\n",
       "      <td>0.000000e+00</td>\n",
       "      <td>0.000000e+00</td>\n",
       "      <td>0.000000e+00</td>\n",
       "      <td>0.000000e+00</td>\n",
       "      <td>0.000000e+00</td>\n",
       "      <td>0.000000e+00</td>\n",
       "      <td>0.000000e+00</td>\n",
       "      <td>0.000000e+00</td>\n",
       "    </tr>\n",
       "    <tr>\n",
       "      <th>25%</th>\n",
       "      <td>4.542500e+05</td>\n",
       "      <td>3.224000e+03</td>\n",
       "      <td>0.0</td>\n",
       "      <td>0.0</td>\n",
       "      <td>0.0</td>\n",
       "      <td>0.000000e+00</td>\n",
       "      <td>0.000000e+00</td>\n",
       "      <td>0.000000e+00</td>\n",
       "      <td>0.000000e+00</td>\n",
       "      <td>0.000000e+00</td>\n",
       "      <td>...</td>\n",
       "      <td>0.000000e+00</td>\n",
       "      <td>0.000000e+00</td>\n",
       "      <td>0.000000e+00</td>\n",
       "      <td>0.000000e+00</td>\n",
       "      <td>0.000000e+00</td>\n",
       "      <td>0.000000e+00</td>\n",
       "      <td>0.000000e+00</td>\n",
       "      <td>0.000000e+00</td>\n",
       "      <td>0.000000e+00</td>\n",
       "      <td>0.000000e+00</td>\n",
       "    </tr>\n",
       "    <tr>\n",
       "      <th>50%</th>\n",
       "      <td>9.078700e+05</td>\n",
       "      <td>8.413000e+03</td>\n",
       "      <td>0.0</td>\n",
       "      <td>0.0</td>\n",
       "      <td>0.0</td>\n",
       "      <td>6.666667e-01</td>\n",
       "      <td>0.000000e+00</td>\n",
       "      <td>0.000000e+00</td>\n",
       "      <td>0.000000e+00</td>\n",
       "      <td>0.000000e+00</td>\n",
       "      <td>...</td>\n",
       "      <td>0.000000e+00</td>\n",
       "      <td>0.000000e+00</td>\n",
       "      <td>0.000000e+00</td>\n",
       "      <td>7.753347e-02</td>\n",
       "      <td>0.000000e+00</td>\n",
       "      <td>0.000000e+00</td>\n",
       "      <td>8.438514e-03</td>\n",
       "      <td>0.000000e+00</td>\n",
       "      <td>0.000000e+00</td>\n",
       "      <td>0.000000e+00</td>\n",
       "    </tr>\n",
       "    <tr>\n",
       "      <th>75%</th>\n",
       "      <td>1.362318e+06</td>\n",
       "      <td>1.357000e+04</td>\n",
       "      <td>0.0</td>\n",
       "      <td>0.0</td>\n",
       "      <td>0.0</td>\n",
       "      <td>1.000000e+00</td>\n",
       "      <td>9.387755e-01</td>\n",
       "      <td>0.000000e+00</td>\n",
       "      <td>9.230769e-01</td>\n",
       "      <td>0.000000e+00</td>\n",
       "      <td>...</td>\n",
       "      <td>0.000000e+00</td>\n",
       "      <td>0.000000e+00</td>\n",
       "      <td>1.416667e-01</td>\n",
       "      <td>2.326004e-01</td>\n",
       "      <td>0.000000e+00</td>\n",
       "      <td>0.000000e+00</td>\n",
       "      <td>9.891430e-02</td>\n",
       "      <td>8.847414e-02</td>\n",
       "      <td>0.000000e+00</td>\n",
       "      <td>2.582313e-02</td>\n",
       "    </tr>\n",
       "    <tr>\n",
       "      <th>max</th>\n",
       "      <td>1.815970e+06</td>\n",
       "      <td>2.009400e+04</td>\n",
       "      <td>0.0</td>\n",
       "      <td>0.0</td>\n",
       "      <td>0.0</td>\n",
       "      <td>1.000000e+00</td>\n",
       "      <td>1.000000e+00</td>\n",
       "      <td>1.000000e+00</td>\n",
       "      <td>1.000000e+00</td>\n",
       "      <td>1.000000e+00</td>\n",
       "      <td>...</td>\n",
       "      <td>1.000000e+00</td>\n",
       "      <td>1.000000e+00</td>\n",
       "      <td>1.000000e+00</td>\n",
       "      <td>1.000000e+00</td>\n",
       "      <td>1.000000e+00</td>\n",
       "      <td>1.000000e+00</td>\n",
       "      <td>1.000000e+00</td>\n",
       "      <td>1.000000e+00</td>\n",
       "      <td>1.000000e+00</td>\n",
       "      <td>1.000000e+00</td>\n",
       "    </tr>\n",
       "  </tbody>\n",
       "</table>\n",
       "<p>8 rows × 37 columns</p>\n",
       "</div>"
      ],
      "text/plain": [
       "                 ID  Project Name  Submitter ID  PR Number  Closed At   \n",
       "count  1.216221e+06  1.216221e+06     1216221.0  1216221.0  1216221.0  \\\n",
       "mean   9.081164e+05  8.677039e+03           0.0        0.0        0.0   \n",
       "std    5.243531e+05  5.806587e+03           0.0        0.0        0.0   \n",
       "min    0.000000e+00  4.300000e+01           0.0        0.0        0.0   \n",
       "25%    4.542500e+05  3.224000e+03           0.0        0.0        0.0   \n",
       "50%    9.078700e+05  8.413000e+03           0.0        0.0        0.0   \n",
       "75%    1.362318e+06  1.357000e+04           0.0        0.0        0.0   \n",
       "max    1.815970e+06  2.009400e+04           0.0        0.0        0.0   \n",
       "\n",
       "       IntraProjectSubmitterPullRequestSuccessRate   \n",
       "count                                 1.216221e+06  \\\n",
       "mean                                  5.027905e-01   \n",
       "std                                   4.710578e-01   \n",
       "min                                   0.000000e+00   \n",
       "25%                                   0.000000e+00   \n",
       "50%                                   6.666667e-01   \n",
       "75%                                   1.000000e+00   \n",
       "max                                   1.000000e+00   \n",
       "\n",
       "       EcosystemExperienceSubmitterPullRequestSuccessRate   \n",
       "count                                       1.216221e+06   \\\n",
       "mean                                        4.027001e-01    \n",
       "std                                         4.523420e-01    \n",
       "min                                         0.000000e+00    \n",
       "25%                                         0.000000e+00    \n",
       "50%                                         0.000000e+00    \n",
       "75%                                         9.387755e-01    \n",
       "max                                         1.000000e+00    \n",
       "\n",
       "       DependencyEcosystemExperienceSubmitterPullRequestSuccessRate   \n",
       "count                                       1.216221e+06             \\\n",
       "mean                                        9.860918e-02              \n",
       "std                                         2.908001e-01              \n",
       "min                                         0.000000e+00              \n",
       "25%                                         0.000000e+00              \n",
       "50%                                         0.000000e+00              \n",
       "75%                                         0.000000e+00              \n",
       "max                                         1.000000e+00              \n",
       "\n",
       "       NonDependencyEcosystemExperienceSubmitterPullRequestSuccessRate   \n",
       "count                                       1.216221e+06                \\\n",
       "mean                                        3.749753e-01                 \n",
       "std                                         4.479160e-01                 \n",
       "min                                         0.000000e+00                 \n",
       "25%                                         0.000000e+00                 \n",
       "50%                                         0.000000e+00                 \n",
       "75%                                         9.230769e-01                 \n",
       "max                                         1.000000e+00                 \n",
       "\n",
       "       InversedDependencyEcosystemExperienceSubmitterPullRequestSuccessRate   \n",
       "count                                       1.216221e+06                     \\\n",
       "mean                                        5.920373e-02                      \n",
       "std                                         2.284681e-01                      \n",
       "min                                         0.000000e+00                      \n",
       "25%                                         0.000000e+00                      \n",
       "50%                                         0.000000e+00                      \n",
       "75%                                         0.000000e+00                      \n",
       "max                                         1.000000e+00                      \n",
       "\n",
       "       ...   \n",
       "count  ...  \\\n",
       "mean   ...   \n",
       "std    ...   \n",
       "min    ...   \n",
       "25%    ...   \n",
       "50%    ...   \n",
       "75%    ...   \n",
       "max    ...   \n",
       "\n",
       "       ln(1 + DependencyEcosystemExperienceSubmitterIssueSubmissionCount)   \n",
       "count                                       1.216221e+06                   \\\n",
       "mean                                        1.145965e-02                    \n",
       "std                                         5.401390e-02                    \n",
       "min                                         0.000000e+00                    \n",
       "25%                                         0.000000e+00                    \n",
       "50%                                         0.000000e+00                    \n",
       "75%                                         0.000000e+00                    \n",
       "max                                         1.000000e+00                    \n",
       "\n",
       "       ln(1 + DependencyEcosystemExperienceSubmitterIssueCommentCount)   \n",
       "count                                       1.216221e+06                \\\n",
       "mean                                        1.972030e-02                 \n",
       "std                                         8.011601e-02                 \n",
       "min                                         0.000000e+00                 \n",
       "25%                                         0.000000e+00                 \n",
       "50%                                         0.000000e+00                 \n",
       "75%                                         0.000000e+00                 \n",
       "max                                         1.000000e+00                 \n",
       "\n",
       "       ln(1 + NonDependencyEcosystemExperienceSubmitterIssueSubmissionCount)   \n",
       "count                                       1.216221e+06                      \\\n",
       "mean                                        7.959556e-02                       \n",
       "std                                         1.179346e-01                       \n",
       "min                                         0.000000e+00                       \n",
       "25%                                         0.000000e+00                       \n",
       "50%                                         0.000000e+00                       \n",
       "75%                                         1.416667e-01                       \n",
       "max                                         1.000000e+00                       \n",
       "\n",
       "       ln(1 + NonDependencyEcosystemExperienceSubmitterIssueCommentCount)   \n",
       "count                                       1.216221e+06                   \\\n",
       "mean                                        1.343719e-01                    \n",
       "std                                         1.749533e-01                    \n",
       "min                                         0.000000e+00                    \n",
       "25%                                         0.000000e+00                    \n",
       "50%                                         7.753347e-02                    \n",
       "75%                                         2.326004e-01                    \n",
       "max                                         1.000000e+00                    \n",
       "\n",
       "       ln(1 + InversedDependencyEcosystemExperienceSubmitterIssueSubmissionCount)   \n",
       "count                                       1.216221e+06                           \\\n",
       "mean                                        9.534855e-03                            \n",
       "std                                         5.258916e-02                            \n",
       "min                                         0.000000e+00                            \n",
       "25%                                         0.000000e+00                            \n",
       "50%                                         0.000000e+00                            \n",
       "75%                                         0.000000e+00                            \n",
       "max                                         1.000000e+00                            \n",
       "\n",
       "       ln(1 + InversedDependencyEcosystemExperienceSubmitterIssueCommentCount)   \n",
       "count                                       1.216221e+06                        \\\n",
       "mean                                        1.751229e-02                         \n",
       "std                                         8.239552e-02                         \n",
       "min                                         0.000000e+00                         \n",
       "25%                                         0.000000e+00                         \n",
       "50%                                         0.000000e+00                         \n",
       "75%                                         0.000000e+00                         \n",
       "max                                         1.000000e+00                         \n",
       "\n",
       "       ln(1 + WeightedEcosystemSecondOrderDegreeCentrality)   \n",
       "count                                       1.216221e+06     \\\n",
       "mean                                        6.396949e-02      \n",
       "std                                         9.937732e-02      \n",
       "min                                         0.000000e+00      \n",
       "25%                                         0.000000e+00      \n",
       "50%                                         8.438514e-03      \n",
       "75%                                         9.891430e-02      \n",
       "max                                         1.000000e+00      \n",
       "\n",
       "       ln(1 + WeightedIntraProjectSecondOrderDegreeCentrality)   \n",
       "count                                       1.216221e+06        \\\n",
       "mean                                        6.042839e-02         \n",
       "std                                         1.003326e-01         \n",
       "min                                         0.000000e+00         \n",
       "25%                                         0.000000e+00         \n",
       "50%                                         0.000000e+00         \n",
       "75%                                         8.847414e-02         \n",
       "max                                         1.000000e+00         \n",
       "\n",
       "       ln(1 + EcosystemLinkIntensity)  ln(1 + IntraProjectLinkIntensity)  \n",
       "count                    1.216221e+06                       1.216221e+06  \n",
       "mean                     2.191224e-02                       4.468485e-02  \n",
       "std                      8.736962e-02                       1.013914e-01  \n",
       "min                      0.000000e+00                       0.000000e+00  \n",
       "25%                      0.000000e+00                       0.000000e+00  \n",
       "50%                      0.000000e+00                       0.000000e+00  \n",
       "75%                      0.000000e+00                       2.582313e-02  \n",
       "max                      1.000000e+00                       1.000000e+00  \n",
       "\n",
       "[8 rows x 37 columns]"
      ]
     },
     "execution_count": 3,
     "metadata": {},
     "output_type": "execute_result"
    }
   ],
   "source": [
    "import pandas as pd\n",
    "import numpy as np\n",
    "import json\n",
    "\n",
    "\n",
    "# Loads regular dataframe.\n",
    "df: pd.DataFrame = pd.read_csv(filepath_or_buffer=data_path, header=0)\n",
    "\n",
    "# Creates sub-datasets.\n",
    "metadata_fields = [\"ID\", \"Project Name\", \"Submitter ID\", \"PR Number\", \"Closed At\"]\n",
    "dependent_fields = [pr_merged_key]\n",
    "\n",
    "df.describe()"
   ]
  },
  {
   "cell_type": "code",
   "execution_count": 4,
   "metadata": {
    "execution": {
     "iopub.execute_input": "2024-02-21T18:20:33.171260Z",
     "iopub.status.busy": "2024-02-21T18:20:33.171007Z",
     "iopub.status.idle": "2024-02-21T18:20:33.184633Z",
     "shell.execute_reply": "2024-02-21T18:20:33.184306Z"
    }
   },
   "outputs": [
    {
     "name": "stdout",
     "output_type": "stream",
     "text": [
      "['ID', 'Project Name', 'Submitter ID', 'PR Number', 'Closed At', 'PullRequestIsMerged', 'ControlIntegratedBySameUser', 'ControlPullRequestHasComments', 'ControlPullRequestHasCommentByExternalUser', 'ControlHasHashTagInDescription', 'IntraProjectSubmitterPullRequestSuccessRate', 'EcosystemExperienceSubmitterPullRequestSuccessRate', 'DependencyEcosystemExperienceSubmitterPullRequestSuccessRate', 'NonDependencyEcosystemExperienceSubmitterPullRequestSuccessRate', 'InversedDependencyEcosystemExperienceSubmitterPullRequestSuccessRate', 'SubmitterIsFirstTimeContributor', 'ln(1 + ControlPullRequestLifeTimeInMinutes)', 'ln(1 + ControlNumberOfCommitsInPullRequest)', 'ln(1 + ControlIntraProjectPullRequestExperienceOfIntegrator)', 'ln(1 + IntraProjectSubmitterPullRequestSubmissionCount)', 'ln(1 + IntraProjectSubmitterPullRequestCommentCount)', 'ln(1 + EcosystemExperienceSubmitterPullRequestSubmissionCount)', 'ln(1 + EcosystemExperienceSubmitterPullRequestCommentCount)', 'ln(1 + DependencyEcosystemExperienceSubmitterPullRequestSubmissionCount)', 'ln(1 + DependencyEcosystemExperienceSubmitterPullRequestCommentCount)', 'ln(1 + NonDependencyEcosystemExperienceSubmitterPullRequestSubmissionCount)', 'ln(1 + NonDependencyEcosystemExperienceSubmitterPullRequestCommentCount)', 'ln(1 + InversedDependencyEcosystemExperienceSubmitterPullRequestSubmissionCount)', 'ln(1 + InversedDependencyEcosystemExperienceSubmitterPullRequestCommentCount)', 'ln(1 + IntraProjectSubmitterIssueSubmissionCount)', 'ln(1 + IntraProjectSubmitterIssueCommentCount)', 'ln(1 + EcosystemExperienceSubmitterIssueSubmissionCount)', 'ln(1 + EcosystemExperienceSubmitterIssueCommentCount)', 'ln(1 + DependencyEcosystemExperienceSubmitterIssueSubmissionCount)', 'ln(1 + DependencyEcosystemExperienceSubmitterIssueCommentCount)', 'ln(1 + NonDependencyEcosystemExperienceSubmitterIssueSubmissionCount)', 'ln(1 + NonDependencyEcosystemExperienceSubmitterIssueCommentCount)', 'ln(1 + InversedDependencyEcosystemExperienceSubmitterIssueSubmissionCount)', 'ln(1 + InversedDependencyEcosystemExperienceSubmitterIssueCommentCount)', 'ln(1 + WeightedEcosystemSecondOrderDegreeCentrality)', 'ln(1 + WeightedIntraProjectSecondOrderDegreeCentrality)', 'ln(1 + EcosystemLinkIntensity)', 'ln(1 + IntraProjectLinkIntensity)']\n"
     ]
    }
   ],
   "source": [
    "print(list(df.columns))"
   ]
  },
  {
   "cell_type": "code",
   "execution_count": 5,
   "metadata": {
    "execution": {
     "iopub.execute_input": "2024-02-21T18:20:33.186098Z",
     "iopub.status.busy": "2024-02-21T18:20:33.185979Z",
     "iopub.status.idle": "2024-02-21T18:20:33.251148Z",
     "shell.execute_reply": "2024-02-21T18:20:33.250744Z"
    }
   },
   "outputs": [],
   "source": [
    "intra_collab_fields = [\n",
    "    \"ln(1 + WeightedIntraProjectSecondOrderDegreeCentrality)\",\n",
    "    \"ln(1 + IntraProjectLinkIntensity)\",\n",
    "]\n",
    "\n",
    "df = df.drop(intra_collab_fields, axis=1)"
   ]
  },
  {
   "cell_type": "code",
   "execution_count": 6,
   "metadata": {
    "execution": {
     "iopub.execute_input": "2024-02-21T18:20:33.253569Z",
     "iopub.status.busy": "2024-02-21T18:20:33.253426Z",
     "iopub.status.idle": "2024-02-21T18:20:33.267151Z",
     "shell.execute_reply": "2024-02-21T18:20:33.266827Z"
    }
   },
   "outputs": [],
   "source": [
    "# Identifieds independent / predictor fields.\n",
    "\n",
    "\n",
    "def is_independent_field(field: str) -> bool:\n",
    "    return field not in metadata_fields and field != pr_merged_key\n",
    "\n",
    "\n",
    "independent_fields = list(filter(is_independent_field, df.columns))"
   ]
  },
  {
   "cell_type": "code",
   "execution_count": 7,
   "metadata": {
    "execution": {
     "iopub.execute_input": "2024-02-21T18:20:33.268885Z",
     "iopub.status.busy": "2024-02-21T18:20:33.268736Z",
     "iopub.status.idle": "2024-02-21T18:20:33.285779Z",
     "shell.execute_reply": "2024-02-21T18:20:33.285419Z"
    }
   },
   "outputs": [
    {
     "name": "stdout",
     "output_type": "stream",
     "text": [
      "class_imbalance=3.6988274383294377\n"
     ]
    }
   ],
   "source": [
    "# Calculates class imbalance.\n",
    "class_counts = df[pr_merged_key].value_counts()\n",
    "class_imbalance = class_counts[True] / class_counts[False]\n",
    "print(f\"{class_imbalance=}\")"
   ]
  },
  {
   "cell_type": "markdown",
   "metadata": {},
   "source": [
    "### Sample only PRs by first-time contributors"
   ]
  },
  {
   "cell_type": "code",
   "execution_count": 8,
   "metadata": {
    "execution": {
     "iopub.execute_input": "2024-02-21T18:20:33.287261Z",
     "iopub.status.busy": "2024-02-21T18:20:33.287138Z",
     "iopub.status.idle": "2024-02-21T18:20:33.926275Z",
     "shell.execute_reply": "2024-02-21T18:20:33.925911Z"
    }
   },
   "outputs": [
    {
     "name": "stdout",
     "output_type": "stream",
     "text": [
      "len(df)=789136\n",
      "class_imbalance=5.992910818091592\n",
      "['ControlIntegratedBySameUser', 'ControlPullRequestHasComments', 'ControlPullRequestHasCommentByExternalUser', 'ControlHasHashTagInDescription', 'IntraProjectSubmitterPullRequestSuccessRate', 'EcosystemExperienceSubmitterPullRequestSuccessRate', 'DependencyEcosystemExperienceSubmitterPullRequestSuccessRate', 'NonDependencyEcosystemExperienceSubmitterPullRequestSuccessRate', 'InversedDependencyEcosystemExperienceSubmitterPullRequestSuccessRate', 'ln(1 + ControlPullRequestLifeTimeInMinutes)', 'ln(1 + ControlNumberOfCommitsInPullRequest)', 'ln(1 + ControlIntraProjectPullRequestExperienceOfIntegrator)', 'ln(1 + IntraProjectSubmitterPullRequestSubmissionCount)', 'ln(1 + IntraProjectSubmitterPullRequestCommentCount)', 'ln(1 + EcosystemExperienceSubmitterPullRequestSubmissionCount)', 'ln(1 + EcosystemExperienceSubmitterPullRequestCommentCount)', 'ln(1 + DependencyEcosystemExperienceSubmitterPullRequestSubmissionCount)', 'ln(1 + DependencyEcosystemExperienceSubmitterPullRequestCommentCount)', 'ln(1 + NonDependencyEcosystemExperienceSubmitterPullRequestSubmissionCount)', 'ln(1 + NonDependencyEcosystemExperienceSubmitterPullRequestCommentCount)', 'ln(1 + InversedDependencyEcosystemExperienceSubmitterPullRequestSubmissionCount)', 'ln(1 + InversedDependencyEcosystemExperienceSubmitterPullRequestCommentCount)', 'ln(1 + IntraProjectSubmitterIssueSubmissionCount)', 'ln(1 + IntraProjectSubmitterIssueCommentCount)', 'ln(1 + EcosystemExperienceSubmitterIssueSubmissionCount)', 'ln(1 + EcosystemExperienceSubmitterIssueCommentCount)', 'ln(1 + DependencyEcosystemExperienceSubmitterIssueSubmissionCount)', 'ln(1 + DependencyEcosystemExperienceSubmitterIssueCommentCount)', 'ln(1 + NonDependencyEcosystemExperienceSubmitterIssueSubmissionCount)', 'ln(1 + NonDependencyEcosystemExperienceSubmitterIssueCommentCount)', 'ln(1 + InversedDependencyEcosystemExperienceSubmitterIssueSubmissionCount)', 'ln(1 + InversedDependencyEcosystemExperienceSubmitterIssueCommentCount)', 'ln(1 + WeightedEcosystemSecondOrderDegreeCentrality)', 'ln(1 + EcosystemLinkIntensity)']\n"
     ]
    },
    {
     "data": {
      "text/html": [
       "<div>\n",
       "<style scoped>\n",
       "    .dataframe tbody tr th:only-of-type {\n",
       "        vertical-align: middle;\n",
       "    }\n",
       "\n",
       "    .dataframe tbody tr th {\n",
       "        vertical-align: top;\n",
       "    }\n",
       "\n",
       "    .dataframe thead th {\n",
       "        text-align: right;\n",
       "    }\n",
       "</style>\n",
       "<table border=\"1\" class=\"dataframe\">\n",
       "  <thead>\n",
       "    <tr style=\"text-align: right;\">\n",
       "      <th></th>\n",
       "      <th>ID</th>\n",
       "      <th>Project Name</th>\n",
       "      <th>Submitter ID</th>\n",
       "      <th>PR Number</th>\n",
       "      <th>Closed At</th>\n",
       "      <th>IntraProjectSubmitterPullRequestSuccessRate</th>\n",
       "      <th>EcosystemExperienceSubmitterPullRequestSuccessRate</th>\n",
       "      <th>DependencyEcosystemExperienceSubmitterPullRequestSuccessRate</th>\n",
       "      <th>NonDependencyEcosystemExperienceSubmitterPullRequestSuccessRate</th>\n",
       "      <th>InversedDependencyEcosystemExperienceSubmitterPullRequestSuccessRate</th>\n",
       "      <th>...</th>\n",
       "      <th>ln(1 + EcosystemExperienceSubmitterIssueSubmissionCount)</th>\n",
       "      <th>ln(1 + EcosystemExperienceSubmitterIssueCommentCount)</th>\n",
       "      <th>ln(1 + DependencyEcosystemExperienceSubmitterIssueSubmissionCount)</th>\n",
       "      <th>ln(1 + DependencyEcosystemExperienceSubmitterIssueCommentCount)</th>\n",
       "      <th>ln(1 + NonDependencyEcosystemExperienceSubmitterIssueSubmissionCount)</th>\n",
       "      <th>ln(1 + NonDependencyEcosystemExperienceSubmitterIssueCommentCount)</th>\n",
       "      <th>ln(1 + InversedDependencyEcosystemExperienceSubmitterIssueSubmissionCount)</th>\n",
       "      <th>ln(1 + InversedDependencyEcosystemExperienceSubmitterIssueCommentCount)</th>\n",
       "      <th>ln(1 + WeightedEcosystemSecondOrderDegreeCentrality)</th>\n",
       "      <th>ln(1 + EcosystemLinkIntensity)</th>\n",
       "    </tr>\n",
       "  </thead>\n",
       "  <tbody>\n",
       "    <tr>\n",
       "      <th>count</th>\n",
       "      <td>7.891360e+05</td>\n",
       "      <td>789136.000000</td>\n",
       "      <td>789136.0</td>\n",
       "      <td>789136.0</td>\n",
       "      <td>789136.0</td>\n",
       "      <td>789136.000000</td>\n",
       "      <td>789136.000000</td>\n",
       "      <td>789136.000000</td>\n",
       "      <td>789136.000000</td>\n",
       "      <td>789136.000000</td>\n",
       "      <td>...</td>\n",
       "      <td>789136.000000</td>\n",
       "      <td>789136.000000</td>\n",
       "      <td>789136.000000</td>\n",
       "      <td>789136.000000</td>\n",
       "      <td>789136.000000</td>\n",
       "      <td>789136.000000</td>\n",
       "      <td>789136.000000</td>\n",
       "      <td>789136.000000</td>\n",
       "      <td>789136.000000</td>\n",
       "      <td>789136.000000</td>\n",
       "    </tr>\n",
       "    <tr>\n",
       "      <th>mean</th>\n",
       "      <td>9.085054e+05</td>\n",
       "      <td>9515.836971</td>\n",
       "      <td>0.0</td>\n",
       "      <td>0.0</td>\n",
       "      <td>0.0</td>\n",
       "      <td>0.774904</td>\n",
       "      <td>0.477071</td>\n",
       "      <td>0.139012</td>\n",
       "      <td>0.439124</td>\n",
       "      <td>0.077807</td>\n",
       "      <td>...</td>\n",
       "      <td>0.101676</td>\n",
       "      <td>0.170156</td>\n",
       "      <td>0.016163</td>\n",
       "      <td>0.027731</td>\n",
       "      <td>0.091470</td>\n",
       "      <td>0.155922</td>\n",
       "      <td>0.012435</td>\n",
       "      <td>0.022729</td>\n",
       "      <td>0.072194</td>\n",
       "      <td>0.026768</td>\n",
       "    </tr>\n",
       "    <tr>\n",
       "      <th>std</th>\n",
       "      <td>5.242908e+05</td>\n",
       "      <td>5780.844539</td>\n",
       "      <td>0.0</td>\n",
       "      <td>0.0</td>\n",
       "      <td>0.0</td>\n",
       "      <td>0.362112</td>\n",
       "      <td>0.457017</td>\n",
       "      <td>0.336996</td>\n",
       "      <td>0.456631</td>\n",
       "      <td>0.259210</td>\n",
       "      <td>...</td>\n",
       "      <td>0.131815</td>\n",
       "      <td>0.190218</td>\n",
       "      <td>0.063896</td>\n",
       "      <td>0.094008</td>\n",
       "      <td>0.124408</td>\n",
       "      <td>0.183622</td>\n",
       "      <td>0.060248</td>\n",
       "      <td>0.093753</td>\n",
       "      <td>0.103635</td>\n",
       "      <td>0.097181</td>\n",
       "    </tr>\n",
       "    <tr>\n",
       "      <th>min</th>\n",
       "      <td>0.000000e+00</td>\n",
       "      <td>43.000000</td>\n",
       "      <td>0.0</td>\n",
       "      <td>0.0</td>\n",
       "      <td>0.0</td>\n",
       "      <td>0.000000</td>\n",
       "      <td>0.000000</td>\n",
       "      <td>0.000000</td>\n",
       "      <td>0.000000</td>\n",
       "      <td>0.000000</td>\n",
       "      <td>...</td>\n",
       "      <td>0.000000</td>\n",
       "      <td>0.000000</td>\n",
       "      <td>0.000000</td>\n",
       "      <td>0.000000</td>\n",
       "      <td>0.000000</td>\n",
       "      <td>0.000000</td>\n",
       "      <td>0.000000</td>\n",
       "      <td>0.000000</td>\n",
       "      <td>0.000000</td>\n",
       "      <td>0.000000</td>\n",
       "    </tr>\n",
       "    <tr>\n",
       "      <th>25%</th>\n",
       "      <td>4.549825e+05</td>\n",
       "      <td>4466.000000</td>\n",
       "      <td>0.0</td>\n",
       "      <td>0.0</td>\n",
       "      <td>0.0</td>\n",
       "      <td>0.750000</td>\n",
       "      <td>0.000000</td>\n",
       "      <td>0.000000</td>\n",
       "      <td>0.000000</td>\n",
       "      <td>0.000000</td>\n",
       "      <td>...</td>\n",
       "      <td>0.000000</td>\n",
       "      <td>0.000000</td>\n",
       "      <td>0.000000</td>\n",
       "      <td>0.000000</td>\n",
       "      <td>0.000000</td>\n",
       "      <td>0.000000</td>\n",
       "      <td>0.000000</td>\n",
       "      <td>0.000000</td>\n",
       "      <td>0.000000</td>\n",
       "      <td>0.000000</td>\n",
       "    </tr>\n",
       "    <tr>\n",
       "      <th>50%</th>\n",
       "      <td>9.080010e+05</td>\n",
       "      <td>9653.000000</td>\n",
       "      <td>0.0</td>\n",
       "      <td>0.0</td>\n",
       "      <td>0.0</td>\n",
       "      <td>0.977273</td>\n",
       "      <td>0.538462</td>\n",
       "      <td>0.000000</td>\n",
       "      <td>0.042553</td>\n",
       "      <td>0.000000</td>\n",
       "      <td>...</td>\n",
       "      <td>0.000000</td>\n",
       "      <td>0.122888</td>\n",
       "      <td>0.000000</td>\n",
       "      <td>0.000000</td>\n",
       "      <td>0.000000</td>\n",
       "      <td>0.077533</td>\n",
       "      <td>0.000000</td>\n",
       "      <td>0.000000</td>\n",
       "      <td>0.020448</td>\n",
       "      <td>0.000000</td>\n",
       "    </tr>\n",
       "    <tr>\n",
       "      <th>75%</th>\n",
       "      <td>1.362738e+06</td>\n",
       "      <td>14470.000000</td>\n",
       "      <td>0.0</td>\n",
       "      <td>0.0</td>\n",
       "      <td>0.0</td>\n",
       "      <td>1.000000</td>\n",
       "      <td>0.967742</td>\n",
       "      <td>0.000000</td>\n",
       "      <td>0.960000</td>\n",
       "      <td>0.000000</td>\n",
       "      <td>...</td>\n",
       "      <td>0.178763</td>\n",
       "      <td>0.310134</td>\n",
       "      <td>0.000000</td>\n",
       "      <td>0.000000</td>\n",
       "      <td>0.141667</td>\n",
       "      <td>0.277955</td>\n",
       "      <td>0.000000</td>\n",
       "      <td>0.000000</td>\n",
       "      <td>0.114628</td>\n",
       "      <td>0.000000</td>\n",
       "    </tr>\n",
       "    <tr>\n",
       "      <th>max</th>\n",
       "      <td>1.815965e+06</td>\n",
       "      <td>20094.000000</td>\n",
       "      <td>0.0</td>\n",
       "      <td>0.0</td>\n",
       "      <td>0.0</td>\n",
       "      <td>1.000000</td>\n",
       "      <td>1.000000</td>\n",
       "      <td>1.000000</td>\n",
       "      <td>1.000000</td>\n",
       "      <td>1.000000</td>\n",
       "      <td>...</td>\n",
       "      <td>0.854348</td>\n",
       "      <td>0.886728</td>\n",
       "      <td>1.000000</td>\n",
       "      <td>1.000000</td>\n",
       "      <td>0.854348</td>\n",
       "      <td>0.886162</td>\n",
       "      <td>0.999796</td>\n",
       "      <td>1.000000</td>\n",
       "      <td>0.922599</td>\n",
       "      <td>1.000000</td>\n",
       "    </tr>\n",
       "  </tbody>\n",
       "</table>\n",
       "<p>8 rows × 35 columns</p>\n",
       "</div>"
      ],
      "text/plain": [
       "                 ID   Project Name  Submitter ID  PR Number  Closed At   \n",
       "count  7.891360e+05  789136.000000      789136.0   789136.0   789136.0  \\\n",
       "mean   9.085054e+05    9515.836971           0.0        0.0        0.0   \n",
       "std    5.242908e+05    5780.844539           0.0        0.0        0.0   \n",
       "min    0.000000e+00      43.000000           0.0        0.0        0.0   \n",
       "25%    4.549825e+05    4466.000000           0.0        0.0        0.0   \n",
       "50%    9.080010e+05    9653.000000           0.0        0.0        0.0   \n",
       "75%    1.362738e+06   14470.000000           0.0        0.0        0.0   \n",
       "max    1.815965e+06   20094.000000           0.0        0.0        0.0   \n",
       "\n",
       "       IntraProjectSubmitterPullRequestSuccessRate   \n",
       "count                                789136.000000  \\\n",
       "mean                                      0.774904   \n",
       "std                                       0.362112   \n",
       "min                                       0.000000   \n",
       "25%                                       0.750000   \n",
       "50%                                       0.977273   \n",
       "75%                                       1.000000   \n",
       "max                                       1.000000   \n",
       "\n",
       "       EcosystemExperienceSubmitterPullRequestSuccessRate   \n",
       "count                                      789136.000000   \\\n",
       "mean                                            0.477071    \n",
       "std                                             0.457017    \n",
       "min                                             0.000000    \n",
       "25%                                             0.000000    \n",
       "50%                                             0.538462    \n",
       "75%                                             0.967742    \n",
       "max                                             1.000000    \n",
       "\n",
       "       DependencyEcosystemExperienceSubmitterPullRequestSuccessRate   \n",
       "count                                      789136.000000             \\\n",
       "mean                                            0.139012              \n",
       "std                                             0.336996              \n",
       "min                                             0.000000              \n",
       "25%                                             0.000000              \n",
       "50%                                             0.000000              \n",
       "75%                                             0.000000              \n",
       "max                                             1.000000              \n",
       "\n",
       "       NonDependencyEcosystemExperienceSubmitterPullRequestSuccessRate   \n",
       "count                                      789136.000000                \\\n",
       "mean                                            0.439124                 \n",
       "std                                             0.456631                 \n",
       "min                                             0.000000                 \n",
       "25%                                             0.000000                 \n",
       "50%                                             0.042553                 \n",
       "75%                                             0.960000                 \n",
       "max                                             1.000000                 \n",
       "\n",
       "       InversedDependencyEcosystemExperienceSubmitterPullRequestSuccessRate   \n",
       "count                                      789136.000000                     \\\n",
       "mean                                            0.077807                      \n",
       "std                                             0.259210                      \n",
       "min                                             0.000000                      \n",
       "25%                                             0.000000                      \n",
       "50%                                             0.000000                      \n",
       "75%                                             0.000000                      \n",
       "max                                             1.000000                      \n",
       "\n",
       "       ...  ln(1 + EcosystemExperienceSubmitterIssueSubmissionCount)   \n",
       "count  ...                                      789136.000000         \\\n",
       "mean   ...                                           0.101676          \n",
       "std    ...                                           0.131815          \n",
       "min    ...                                           0.000000          \n",
       "25%    ...                                           0.000000          \n",
       "50%    ...                                           0.000000          \n",
       "75%    ...                                           0.178763          \n",
       "max    ...                                           0.854348          \n",
       "\n",
       "       ln(1 + EcosystemExperienceSubmitterIssueCommentCount)   \n",
       "count                                      789136.000000      \\\n",
       "mean                                            0.170156       \n",
       "std                                             0.190218       \n",
       "min                                             0.000000       \n",
       "25%                                             0.000000       \n",
       "50%                                             0.122888       \n",
       "75%                                             0.310134       \n",
       "max                                             0.886728       \n",
       "\n",
       "       ln(1 + DependencyEcosystemExperienceSubmitterIssueSubmissionCount)   \n",
       "count                                      789136.000000                   \\\n",
       "mean                                            0.016163                    \n",
       "std                                             0.063896                    \n",
       "min                                             0.000000                    \n",
       "25%                                             0.000000                    \n",
       "50%                                             0.000000                    \n",
       "75%                                             0.000000                    \n",
       "max                                             1.000000                    \n",
       "\n",
       "       ln(1 + DependencyEcosystemExperienceSubmitterIssueCommentCount)   \n",
       "count                                      789136.000000                \\\n",
       "mean                                            0.027731                 \n",
       "std                                             0.094008                 \n",
       "min                                             0.000000                 \n",
       "25%                                             0.000000                 \n",
       "50%                                             0.000000                 \n",
       "75%                                             0.000000                 \n",
       "max                                             1.000000                 \n",
       "\n",
       "       ln(1 + NonDependencyEcosystemExperienceSubmitterIssueSubmissionCount)   \n",
       "count                                      789136.000000                      \\\n",
       "mean                                            0.091470                       \n",
       "std                                             0.124408                       \n",
       "min                                             0.000000                       \n",
       "25%                                             0.000000                       \n",
       "50%                                             0.000000                       \n",
       "75%                                             0.141667                       \n",
       "max                                             0.854348                       \n",
       "\n",
       "       ln(1 + NonDependencyEcosystemExperienceSubmitterIssueCommentCount)   \n",
       "count                                      789136.000000                   \\\n",
       "mean                                            0.155922                    \n",
       "std                                             0.183622                    \n",
       "min                                             0.000000                    \n",
       "25%                                             0.000000                    \n",
       "50%                                             0.077533                    \n",
       "75%                                             0.277955                    \n",
       "max                                             0.886162                    \n",
       "\n",
       "       ln(1 + InversedDependencyEcosystemExperienceSubmitterIssueSubmissionCount)   \n",
       "count                                      789136.000000                           \\\n",
       "mean                                            0.012435                            \n",
       "std                                             0.060248                            \n",
       "min                                             0.000000                            \n",
       "25%                                             0.000000                            \n",
       "50%                                             0.000000                            \n",
       "75%                                             0.000000                            \n",
       "max                                             0.999796                            \n",
       "\n",
       "       ln(1 + InversedDependencyEcosystemExperienceSubmitterIssueCommentCount)   \n",
       "count                                      789136.000000                        \\\n",
       "mean                                            0.022729                         \n",
       "std                                             0.093753                         \n",
       "min                                             0.000000                         \n",
       "25%                                             0.000000                         \n",
       "50%                                             0.000000                         \n",
       "75%                                             0.000000                         \n",
       "max                                             1.000000                         \n",
       "\n",
       "       ln(1 + WeightedEcosystemSecondOrderDegreeCentrality)   \n",
       "count                                      789136.000000     \\\n",
       "mean                                            0.072194      \n",
       "std                                             0.103635      \n",
       "min                                             0.000000      \n",
       "25%                                             0.000000      \n",
       "50%                                             0.020448      \n",
       "75%                                             0.114628      \n",
       "max                                             0.922599      \n",
       "\n",
       "       ln(1 + EcosystemLinkIntensity)  \n",
       "count                   789136.000000  \n",
       "mean                         0.026768  \n",
       "std                          0.097181  \n",
       "min                          0.000000  \n",
       "25%                          0.000000  \n",
       "50%                          0.000000  \n",
       "75%                          0.000000  \n",
       "max                          1.000000  \n",
       "\n",
       "[8 rows x 35 columns]"
      ]
     },
     "execution_count": 8,
     "metadata": {},
     "output_type": "execute_result"
    }
   ],
   "source": [
    "# Filters data\n",
    "df = df[df[ftc_key] == False]\n",
    "df = df.drop([ftc_key], axis=1)\n",
    "independent_fields.remove(ftc_key)\n",
    "print(f\"{len(df)=}\")\n",
    "\n",
    "# Recalculates class imbalance.\n",
    "class_counts = df[pr_merged_key].value_counts()\n",
    "class_imbalance = class_counts[True] / class_counts[False]\n",
    "print(f\"{class_imbalance=}\")\n",
    "\n",
    "# Resets indices.\n",
    "df = df.reset_index(drop=True)\n",
    "print(independent_fields)\n",
    "\n",
    "df.describe()"
   ]
  },
  {
   "cell_type": "markdown",
   "metadata": {},
   "source": [
    "## Model Creation"
   ]
  },
  {
   "cell_type": "code",
   "execution_count": 9,
   "metadata": {
    "execution": {
     "iopub.execute_input": "2024-02-21T18:20:33.927842Z",
     "iopub.status.busy": "2024-02-21T18:20:33.927713Z",
     "iopub.status.idle": "2024-02-21T18:20:33.941051Z",
     "shell.execute_reply": "2024-02-21T18:20:33.940727Z"
    }
   },
   "outputs": [
    {
     "name": "stdout",
     "output_type": "stream",
     "text": [
      "Using k=5 folds.\n"
     ]
    }
   ],
   "source": [
    "k = 5\n",
    "print(f\"Using {k=} folds.\")"
   ]
  },
  {
   "cell_type": "markdown",
   "metadata": {},
   "source": [
    "Generates a number of feature groups that are relevant later in the pipeline:\n",
    "- control variables\n",
    "- intra-project experience\n",
    "- ecosystem experience\n",
    "- dependency ecosystem experience\n",
    "- inverse dependency ecosystem experience\n",
    "- non-dependency ecosystem experience\n",
    "- collaboration variables"
   ]
  },
  {
   "cell_type": "code",
   "execution_count": 10,
   "metadata": {
    "execution": {
     "iopub.execute_input": "2024-02-21T18:20:33.942514Z",
     "iopub.status.busy": "2024-02-21T18:20:33.942401Z",
     "iopub.status.idle": "2024-02-21T18:20:33.958661Z",
     "shell.execute_reply": "2024-02-21T18:20:33.958299Z"
    }
   },
   "outputs": [
    {
     "name": "stdout",
     "output_type": "stream",
     "text": [
      "Feature groups:\n",
      "{\n",
      "  \"FeatureGroups.Control\": [\n",
      "    \"ControlIntegratedBySameUser\",\n",
      "    \"ControlPullRequestHasComments\",\n",
      "    \"ControlPullRequestHasCommentByExternalUser\",\n",
      "    \"ControlHasHashTagInDescription\",\n",
      "    \"ln(1 + ControlPullRequestLifeTimeInMinutes)\",\n",
      "    \"ln(1 + ControlNumberOfCommitsInPullRequest)\",\n",
      "    \"ln(1 + ControlIntraProjectPullRequestExperienceOfIntegrator)\"\n",
      "  ],\n",
      "  \"FeatureGroups.Intra\": [\n",
      "    \"IntraProjectSubmitterPullRequestSuccessRate\",\n",
      "    \"ln(1 + IntraProjectSubmitterPullRequestSubmissionCount)\",\n",
      "    \"ln(1 + IntraProjectSubmitterPullRequestCommentCount)\",\n",
      "    \"ln(1 + IntraProjectSubmitterIssueSubmissionCount)\",\n",
      "    \"ln(1 + IntraProjectSubmitterIssueCommentCount)\"\n",
      "  ],\n",
      "  \"FeatureGroups.Eco\": [\n",
      "    \"EcosystemExperienceSubmitterPullRequestSuccessRate\",\n",
      "    \"ln(1 + EcosystemExperienceSubmitterPullRequestSubmissionCount)\",\n",
      "    \"ln(1 + EcosystemExperienceSubmitterPullRequestCommentCount)\",\n",
      "    \"ln(1 + EcosystemExperienceSubmitterIssueSubmissionCount)\",\n",
      "    \"ln(1 + EcosystemExperienceSubmitterIssueCommentCount)\"\n",
      "  ],\n",
      "  \"FeatureGroups.DEco\": [\n",
      "    \"DependencyEcosystemExperienceSubmitterPullRequestSuccessRate\",\n",
      "    \"ln(1 + DependencyEcosystemExperienceSubmitterPullRequestSubmissionCount)\",\n",
      "    \"ln(1 + DependencyEcosystemExperienceSubmitterPullRequestCommentCount)\",\n",
      "    \"ln(1 + DependencyEcosystemExperienceSubmitterIssueSubmissionCount)\",\n",
      "    \"ln(1 + DependencyEcosystemExperienceSubmitterIssueCommentCount)\"\n",
      "  ],\n",
      "  \"FeatureGroups.IDEco\": [\n",
      "    \"InversedDependencyEcosystemExperienceSubmitterPullRequestSuccessRate\",\n",
      "    \"ln(1 + InversedDependencyEcosystemExperienceSubmitterPullRequestSubmissionCount)\",\n",
      "    \"ln(1 + InversedDependencyEcosystemExperienceSubmitterPullRequestCommentCount)\",\n",
      "    \"ln(1 + InversedDependencyEcosystemExperienceSubmitterIssueSubmissionCount)\",\n",
      "    \"ln(1 + InversedDependencyEcosystemExperienceSubmitterIssueCommentCount)\"\n",
      "  ],\n",
      "  \"FeatureGroups.NDEco\": [\n",
      "    \"NonDependencyEcosystemExperienceSubmitterPullRequestSuccessRate\",\n",
      "    \"ln(1 + NonDependencyEcosystemExperienceSubmitterPullRequestSubmissionCount)\",\n",
      "    \"ln(1 + NonDependencyEcosystemExperienceSubmitterPullRequestCommentCount)\",\n",
      "    \"ln(1 + NonDependencyEcosystemExperienceSubmitterIssueSubmissionCount)\",\n",
      "    \"ln(1 + NonDependencyEcosystemExperienceSubmitterIssueCommentCount)\"\n",
      "  ],\n",
      "  \"FeatureGroups.Coll\": [\n",
      "    \"ln(1 + WeightedEcosystemSecondOrderDegreeCentrality)\",\n",
      "    \"ln(1 + EcosystemLinkIntensity)\"\n",
      "  ]\n",
      "}\n"
     ]
    }
   ],
   "source": [
    "from enum import Enum\n",
    "from python_proj.utils.util import get_matching\n",
    "\n",
    "# Defines feature groups\n",
    "\n",
    "\n",
    "class FeatureGroups(Enum):\n",
    "    Control = 1\n",
    "    Intra = 2\n",
    "    Eco = 3\n",
    "    DEco = 4\n",
    "    IDEco = 5\n",
    "    NDEco = 6\n",
    "    Coll = 7\n",
    "\n",
    "\n",
    "var_group_regex_patterns = [\n",
    "    (FeatureGroups.Control, r\".*Control.*\"),\n",
    "    (\n",
    "        FeatureGroups.Intra,\n",
    "        r\"^(?:(?!Control|Degree|Link).)*Intra(?:(?!Control|Degree|Link).)*$\",\n",
    "    ),\n",
    "    (FeatureGroups.Eco, r\"^(?:(?!Dependency).)*Ecosystem(?:(?!Degree|Link).)*$\"),\n",
    "    (FeatureGroups.DEco, r\"^(?!.*(Inverse|Non)).*(?=Dependency).*\"),\n",
    "    (FeatureGroups.IDEco, r\".*(?=Inverse).*\"),\n",
    "    (FeatureGroups.NDEco, r\".*(?=NonDependency).*\"),\n",
    "    (FeatureGroups.Coll, r\"^(?:(?!Intra).)*(Weighted|LinkIntensity)(?:(?!Intra).)*$\"),\n",
    "]\n",
    "\n",
    "# Resolves the regex patterns to generate lists of fields.\n",
    "var_groups = {\n",
    "    str(name): list(get_matching(independent_fields, pattern))\n",
    "    for name, pattern in var_group_regex_patterns\n",
    "}\n",
    "\n",
    "\n",
    "print(\"Feature groups:\")\n",
    "print(json.dumps(var_groups, indent=2))"
   ]
  },
  {
   "cell_type": "code",
   "execution_count": 11,
   "metadata": {
    "execution": {
     "iopub.execute_input": "2024-02-21T18:20:33.960088Z",
     "iopub.status.busy": "2024-02-21T18:20:33.959973Z",
     "iopub.status.idle": "2024-02-21T18:20:33.972908Z",
     "shell.execute_reply": "2024-02-21T18:20:33.972488Z"
    }
   },
   "outputs": [],
   "source": [
    "from wmutils.collections.list_access import flatten\n",
    "\n",
    "\n",
    "def get_feature_groups(*feature_groups) -> list[str]:\n",
    "    return list(flatten(var_groups[str(group)] for group in feature_groups))"
   ]
  },
  {
   "cell_type": "markdown",
   "metadata": {},
   "source": [
    "### Full Model"
   ]
  },
  {
   "cell_type": "code",
   "execution_count": 12,
   "metadata": {
    "execution": {
     "iopub.execute_input": "2024-02-21T18:20:33.975112Z",
     "iopub.status.busy": "2024-02-21T18:20:33.974788Z",
     "iopub.status.idle": "2024-02-21T18:34:06.990345Z",
     "shell.execute_reply": "2024-02-21T18:34:06.989901Z"
    }
   },
   "outputs": [
    {
     "name": "stdout",
     "output_type": "stream",
     "text": [
      "random_state=43"
     ]
    },
    {
     "name": "stdout",
     "output_type": "stream",
     "text": [
      "\n"
     ]
    },
    {
     "name": "stdout",
     "output_type": "stream",
     "text": [
      "random_state=43"
     ]
    },
    {
     "name": "stdout",
     "output_type": "stream",
     "text": [
      "\n"
     ]
    },
    {
     "name": "stdout",
     "output_type": "stream",
     "text": [
      "random_state=43"
     ]
    },
    {
     "name": "stdout",
     "output_type": "stream",
     "text": [
      "\n"
     ]
    },
    {
     "name": "stdout",
     "output_type": "stream",
     "text": [
      "random_state=43"
     ]
    },
    {
     "name": "stdout",
     "output_type": "stream",
     "text": [
      "random_state=43"
     ]
    },
    {
     "name": "stdout",
     "output_type": "stream",
     "text": [
      "\n"
     ]
    },
    {
     "name": "stdout",
     "output_type": "stream",
     "text": [
      "\n"
     ]
    },
    {
     "name": "stdout",
     "output_type": "stream",
     "text": [
      "metrics={'accuracy': 0.9278830618335265, 'precision': 0.9407949596960993, 'recall': 0.9772352065858733, 'f1': 0.9586689228936838}\n"
     ]
    },
    {
     "name": "stdout",
     "output_type": "stream",
     "text": [
      "\n"
     ]
    },
    {
     "name": "stdout",
     "output_type": "stream",
     "text": [
      "Confusion matrix:\n",
      "[[ 14443   8307]\n",
      " [  3075 132002]]\n"
     ]
    },
    {
     "name": "stdout",
     "output_type": "stream",
     "text": [
      "\n"
     ]
    },
    {
     "name": "stdout",
     "output_type": "stream",
     "text": [
      "Classification report:"
     ]
    },
    {
     "name": "stdout",
     "output_type": "stream",
     "text": [
      "\n"
     ]
    },
    {
     "name": "stdout",
     "output_type": "stream",
     "text": [
      "              precision    recall  f1-score   support\n",
      "\n",
      "       False       0.82      0.63      0.72     22750\n",
      "        True       0.94      0.98      0.96    135077\n",
      "\n",
      "    accuracy                           0.93    157827\n",
      "   macro avg       0.88      0.81      0.84    157827\n",
      "weighted avg       0.92      0.93      0.92    157827\n"
     ]
    },
    {
     "name": "stdout",
     "output_type": "stream",
     "text": [
      "\n"
     ]
    },
    {
     "name": "stdout",
     "output_type": "stream",
     "text": [
      "metrics={'accuracy': 0.9278898547786197, 'precision': 0.9416716519955559, 'recall': 0.9764350542414687, 'f1': 0.9587383304631559}\n"
     ]
    },
    {
     "name": "stdout",
     "output_type": "stream",
     "text": [
      "\n"
     ]
    },
    {
     "name": "stdout",
     "output_type": "stream",
     "text": [
      "Confusion matrix:\n",
      "[[ 14225   8190]\n",
      " [  3191 132222]]\n"
     ]
    },
    {
     "name": "stdout",
     "output_type": "stream",
     "text": [
      "\n"
     ]
    },
    {
     "name": "stdout",
     "output_type": "stream",
     "text": [
      "Classification report:"
     ]
    },
    {
     "name": "stdout",
     "output_type": "stream",
     "text": [
      "\n"
     ]
    },
    {
     "name": "stdout",
     "output_type": "stream",
     "text": [
      "              precision    recall  f1-score   support\n",
      "\n",
      "       False       0.82      0.63      0.71     22415\n",
      "        True       0.94      0.98      0.96    135413\n",
      "\n",
      "    accuracy                           0.93    157828\n",
      "   macro avg       0.88      0.81      0.84    157828\n",
      "weighted avg       0.92      0.93      0.92    157828\n"
     ]
    },
    {
     "name": "stdout",
     "output_type": "stream",
     "text": [
      "\n"
     ]
    },
    {
     "name": "stdout",
     "output_type": "stream",
     "text": [
      "metrics={'accuracy': 0.9284342983139767, 'precision': 0.9408937497329859, 'recall': 0.9778443778443778, 'f1': 0.9590132703382358}\n"
     ]
    },
    {
     "name": "stdout",
     "output_type": "stream",
     "text": [
      "\n"
     ]
    },
    {
     "name": "stdout",
     "output_type": "stream",
     "text": [
      "Confusion matrix:\n",
      "[[ 14391   8301]\n",
      " [  2994 132141]]\n"
     ]
    },
    {
     "name": "stdout",
     "output_type": "stream",
     "text": [
      "\n"
     ]
    },
    {
     "name": "stdout",
     "output_type": "stream",
     "text": [
      "Classification report:"
     ]
    },
    {
     "name": "stdout",
     "output_type": "stream",
     "text": [
      "\n"
     ]
    },
    {
     "name": "stdout",
     "output_type": "stream",
     "text": [
      "              precision    recall  f1-score   support\n",
      "\n",
      "       False       0.83      0.63      0.72     22692\n",
      "        True       0.94      0.98      0.96    135135\n",
      "\n",
      "    accuracy                           0.93    157827\n",
      "   macro avg       0.88      0.81      0.84    157827\n",
      "weighted avg       0.92      0.93      0.92    157827\n"
     ]
    },
    {
     "name": "stdout",
     "output_type": "stream",
     "text": [
      "\n"
     ]
    },
    {
     "name": "stdout",
     "output_type": "stream",
     "text": [
      "metrics={'accuracy': 0.9298092214893523, 'precision': 0.9421015926331819, 'recall': 0.9782602270040198, 'f1': 0.9598404930215696}\n"
     ]
    },
    {
     "name": "stdout",
     "output_type": "stream",
     "text": [
      "\n"
     ]
    },
    {
     "name": "stdout",
     "output_type": "stream",
     "text": [
      "Confusion matrix:\n",
      "[[ 14363   8136]\n",
      " [  2942 132386]]\n"
     ]
    },
    {
     "name": "stdout",
     "output_type": "stream",
     "text": [
      "\n"
     ]
    },
    {
     "name": "stdout",
     "output_type": "stream",
     "text": [
      "Classification report:"
     ]
    },
    {
     "name": "stdout",
     "output_type": "stream",
     "text": [
      "\n"
     ]
    },
    {
     "name": "stdout",
     "output_type": "stream",
     "text": [
      "              precision    recall  f1-score   support\n",
      "\n",
      "       False       0.83      0.64      0.72     22499\n",
      "        True       0.94      0.98      0.96    135328\n",
      "\n",
      "    accuracy                           0.93    157827\n",
      "   macro avg       0.89      0.81      0.84    157827\n",
      "weighted avg       0.93      0.93      0.93    157827\n"
     ]
    },
    {
     "name": "stdout",
     "output_type": "stream",
     "text": [
      "\n"
     ]
    },
    {
     "name": "stdout",
     "output_type": "stream",
     "text": [
      "metrics={'accuracy': 0.9288334695584406, 'precision': 0.9419842869658743, 'recall': 0.977189936084531, 'f1': 0.9592642024023675}\n"
     ]
    },
    {
     "name": "stdout",
     "output_type": "stream",
     "text": [
      "\n"
     ]
    },
    {
     "name": "stdout",
     "output_type": "stream",
     "text": [
      "Confusion matrix:\n",
      "[[ 14347   8145]\n",
      " [  3087 132248]]\n"
     ]
    },
    {
     "name": "stdout",
     "output_type": "stream",
     "text": [
      "\n"
     ]
    },
    {
     "name": "stdout",
     "output_type": "stream",
     "text": [
      "Classification report:"
     ]
    },
    {
     "name": "stdout",
     "output_type": "stream",
     "text": [
      "\n"
     ]
    },
    {
     "name": "stdout",
     "output_type": "stream",
     "text": [
      "              precision    recall  f1-score   support\n",
      "\n",
      "       False       0.82      0.64      0.72     22492\n",
      "        True       0.94      0.98      0.96    135335\n",
      "\n",
      "    accuracy                           0.93    157827\n",
      "   macro avg       0.88      0.81      0.84    157827\n",
      "weighted avg       0.93      0.93      0.92    157827\n"
     ]
    },
    {
     "name": "stdout",
     "output_type": "stream",
     "text": [
      "\n"
     ]
    },
    {
     "name": "stdout",
     "output_type": "stream",
     "text": [
      "\n",
      "Performance metrics full model:\n",
      "f1_scores=[0.9586689228936838, 0.9587383304631559, 0.9590132703382358, 0.9598404930215696, 0.9592642024023675]\n",
      "f1_mean=0.9591050438238027, f1_std=0.00042410364366378536\n"
     ]
    }
   ],
   "source": [
    "from python_proj.modelling.notebooks.random_forest.rf_functions import (\n",
    "    kfold_rf_evaluation,\n",
    ")\n",
    "\n",
    "f1_scores, f1_mean, f1_std = kfold_rf_evaluation(\n",
    "    df, independent_fields, k, pr_merged_key, seed_counter\n",
    ")\n",
    "\n",
    "print(\"\\nPerformance metrics full model:\")\n",
    "print(f\"{f1_scores=}\")\n",
    "print(f\"{f1_mean=}, {f1_std=}\")"
   ]
  },
  {
   "cell_type": "markdown",
   "metadata": {},
   "source": [
    "### Control + Intra-project Model"
   ]
  },
  {
   "cell_type": "code",
   "execution_count": 13,
   "metadata": {
    "execution": {
     "iopub.execute_input": "2024-02-21T18:34:06.992249Z",
     "iopub.status.busy": "2024-02-21T18:34:06.991927Z",
     "iopub.status.idle": "2024-02-21T18:39:39.138236Z",
     "shell.execute_reply": "2024-02-21T18:39:39.137796Z"
    }
   },
   "outputs": [
    {
     "name": "stdout",
     "output_type": "stream",
     "text": [
      "['ControlIntegratedBySameUser', 'ControlPullRequestHasComments', 'ControlPullRequestHasCommentByExternalUser', 'ControlHasHashTagInDescription', 'ln(1 + ControlPullRequestLifeTimeInMinutes)', 'ln(1 + ControlNumberOfCommitsInPullRequest)', 'ln(1 + ControlIntraProjectPullRequestExperienceOfIntegrator)', 'IntraProjectSubmitterPullRequestSuccessRate', 'ln(1 + IntraProjectSubmitterPullRequestSubmissionCount)', 'ln(1 + IntraProjectSubmitterPullRequestCommentCount)', 'ln(1 + IntraProjectSubmitterIssueSubmissionCount)', 'ln(1 + IntraProjectSubmitterIssueCommentCount)']\n"
     ]
    },
    {
     "name": "stdout",
     "output_type": "stream",
     "text": [
      "random_state=45"
     ]
    },
    {
     "name": "stdout",
     "output_type": "stream",
     "text": [
      "\n"
     ]
    },
    {
     "name": "stdout",
     "output_type": "stream",
     "text": [
      "random_state=45"
     ]
    },
    {
     "name": "stdout",
     "output_type": "stream",
     "text": [
      "\n"
     ]
    },
    {
     "name": "stdout",
     "output_type": "stream",
     "text": [
      "random_state=45"
     ]
    },
    {
     "name": "stdout",
     "output_type": "stream",
     "text": [
      "\n"
     ]
    },
    {
     "name": "stdout",
     "output_type": "stream",
     "text": [
      "random_state=45"
     ]
    },
    {
     "name": "stdout",
     "output_type": "stream",
     "text": [
      "\n"
     ]
    },
    {
     "name": "stdout",
     "output_type": "stream",
     "text": [
      "random_state=45"
     ]
    },
    {
     "name": "stdout",
     "output_type": "stream",
     "text": [
      "\n"
     ]
    },
    {
     "name": "stdout",
     "output_type": "stream",
     "text": [
      "metrics={'accuracy': 0.9253681222596751, 'precision': 0.9413241829972107, 'recall': 0.9737723790828451, 'f1': 0.9572733900893418}\n"
     ]
    },
    {
     "name": "stdout",
     "output_type": "stream",
     "text": [
      "\n"
     ]
    },
    {
     "name": "stdout",
     "output_type": "stream",
     "text": [
      "Confusion matrix:\n",
      "[[ 14097   8225]\n",
      " [  3554 131952]]\n"
     ]
    },
    {
     "name": "stdout",
     "output_type": "stream",
     "text": [
      "\n"
     ]
    },
    {
     "name": "stdout",
     "output_type": "stream",
     "text": [
      "Classification report:"
     ]
    },
    {
     "name": "stdout",
     "output_type": "stream",
     "text": [
      "\n"
     ]
    },
    {
     "name": "stdout",
     "output_type": "stream",
     "text": [
      "metrics={'accuracy': 0.9244235777148396, 'precision': 0.9400661093302682, 'recall': 0.9738700826128438, 'f1': 0.956669572798605}\n"
     ]
    },
    {
     "name": "stdout",
     "output_type": "stream",
     "text": [
      "\n"
     ]
    },
    {
     "name": "stdout",
     "output_type": "stream",
     "text": [
      "Confusion matrix:\n",
      "[[ 14223   8395]\n",
      " [  3533 131676]]\n"
     ]
    },
    {
     "name": "stdout",
     "output_type": "stream",
     "text": [
      "\n"
     ]
    },
    {
     "name": "stdout",
     "output_type": "stream",
     "text": [
      "Classification report:"
     ]
    },
    {
     "name": "stdout",
     "output_type": "stream",
     "text": [
      "\n"
     ]
    },
    {
     "name": "stdout",
     "output_type": "stream",
     "text": [
      "              precision    recall  f1-score   support\n",
      "\n",
      "       False       0.80      0.63      0.71     22322\n",
      "        True       0.94      0.97      0.96    135506\n",
      "\n",
      "    accuracy                           0.93    157828\n",
      "   macro avg       0.87      0.80      0.83    157828\n",
      "weighted avg       0.92      0.93      0.92    157828\n"
     ]
    },
    {
     "name": "stdout",
     "output_type": "stream",
     "text": [
      "\n"
     ]
    },
    {
     "name": "stdout",
     "output_type": "stream",
     "text": [
      "              precision    recall  f1-score   support\n",
      "\n",
      "       False       0.80      0.63      0.70     22618\n",
      "        True       0.94      0.97      0.96    135209\n",
      "\n",
      "    accuracy                           0.92    157827\n",
      "   macro avg       0.87      0.80      0.83    157827\n",
      "weighted avg       0.92      0.92      0.92    157827\n"
     ]
    },
    {
     "name": "stdout",
     "output_type": "stream",
     "text": [
      "\n"
     ]
    },
    {
     "name": "stdout",
     "output_type": "stream",
     "text": [
      "metrics={'accuracy': 0.9249241257832944, 'precision': 0.9401384329955759, 'recall': 0.9744103660205161, 'f1': 0.9569676521966509}\n"
     ]
    },
    {
     "name": "stdout",
     "output_type": "stream",
     "text": [
      "\n"
     ]
    },
    {
     "name": "stdout",
     "output_type": "stream",
     "text": [
      "Confusion matrix:\n",
      "[[ 14227   8389]\n",
      " [  3460 131751]]\n"
     ]
    },
    {
     "name": "stdout",
     "output_type": "stream",
     "text": [
      "\n"
     ]
    },
    {
     "name": "stdout",
     "output_type": "stream",
     "text": [
      "Classification report:"
     ]
    },
    {
     "name": "stdout",
     "output_type": "stream",
     "text": [
      "\n"
     ]
    },
    {
     "name": "stdout",
     "output_type": "stream",
     "text": [
      "              precision    recall  f1-score   support\n",
      "\n",
      "       False       0.80      0.63      0.71     22616\n",
      "        True       0.94      0.97      0.96    135211\n",
      "\n",
      "    accuracy                           0.92    157827\n",
      "   macro avg       0.87      0.80      0.83    157827\n",
      "weighted avg       0.92      0.92      0.92    157827\n"
     ]
    },
    {
     "name": "stdout",
     "output_type": "stream",
     "text": [
      "\n"
     ]
    },
    {
     "name": "stdout",
     "output_type": "stream",
     "text": [
      "metrics={'accuracy': 0.9260202626926952, 'precision': 0.9408872619327953, 'recall': 0.9749199612560723, 'f1': 0.9576013304961037}\n"
     ]
    },
    {
     "name": "stdout",
     "output_type": "stream",
     "text": [
      "\n"
     ]
    },
    {
     "name": "stdout",
     "output_type": "stream",
     "text": [
      "Confusion matrix:\n",
      "[[ 14296   8284]\n",
      " [  3392 131855]]\n"
     ]
    },
    {
     "name": "stdout",
     "output_type": "stream",
     "text": [
      "\n"
     ]
    },
    {
     "name": "stdout",
     "output_type": "stream",
     "text": [
      "Classification report:"
     ]
    },
    {
     "name": "stdout",
     "output_type": "stream",
     "text": [
      "\n"
     ]
    },
    {
     "name": "stdout",
     "output_type": "stream",
     "text": [
      "              precision    recall  f1-score   support\n",
      "\n",
      "       False       0.81      0.63      0.71     22580\n",
      "        True       0.94      0.97      0.96    135247\n",
      "\n",
      "    accuracy                           0.93    157827\n",
      "   macro avg       0.87      0.80      0.83    157827\n",
      "weighted avg       0.92      0.93      0.92    157827\n"
     ]
    },
    {
     "name": "stdout",
     "output_type": "stream",
     "text": [
      "\n"
     ]
    },
    {
     "name": "stdout",
     "output_type": "stream",
     "text": [
      "metrics={'accuracy': 0.9255640669847365, 'precision': 0.9411226248453513, 'recall': 0.9739851237834437, 'f1': 0.9572719205086053}\n"
     ]
    },
    {
     "name": "stdout",
     "output_type": "stream",
     "text": [
      "\n"
     ]
    },
    {
     "name": "stdout",
     "output_type": "stream",
     "text": [
      "Confusion matrix:\n",
      "[[ 14479   8233]\n",
      " [  3515 131600]]\n"
     ]
    },
    {
     "name": "stdout",
     "output_type": "stream",
     "text": [
      "\n"
     ]
    },
    {
     "name": "stdout",
     "output_type": "stream",
     "text": [
      "Classification report:"
     ]
    },
    {
     "name": "stdout",
     "output_type": "stream",
     "text": [
      "\n"
     ]
    },
    {
     "name": "stdout",
     "output_type": "stream",
     "text": [
      "              precision    recall  f1-score   support\n",
      "\n",
      "       False       0.80      0.64      0.71     22712\n",
      "        True       0.94      0.97      0.96    135115\n",
      "\n",
      "    accuracy                           0.93    157827\n",
      "   macro avg       0.87      0.81      0.83    157827\n",
      "weighted avg       0.92      0.93      0.92    157827\n"
     ]
    },
    {
     "name": "stdout",
     "output_type": "stream",
     "text": [
      "\n"
     ]
    },
    {
     "name": "stdout",
     "output_type": "stream",
     "text": [
      "\n",
      "Performance metrics control + intra model:\n",
      "f1_scores=[0.9572733900893418, 0.956669572798605, 0.9569676521966509, 0.9576013304961037, 0.9572719205086053]\n",
      "f1_mean=0.9571567732178614, f1_std=0.0003154744287910175\n"
     ]
    }
   ],
   "source": [
    "contr_with_intra = get_feature_groups(FeatureGroups.Control, FeatureGroups.Intra)\n",
    "print(contr_with_intra)\n",
    "\n",
    "f1_scores, f1_mean, f1_std = kfold_rf_evaluation(\n",
    "    df, contr_with_intra, k, pr_merged_key, seed_counter\n",
    ")\n",
    "\n",
    "print(\"\\nPerformance metrics control + intra model:\")\n",
    "print(f\"{f1_scores=}\")\n",
    "print(f\"{f1_mean=}, {f1_std=}\")"
   ]
  },
  {
   "cell_type": "markdown",
   "metadata": {},
   "source": [
    "### Collaboration and Ecosystem Model"
   ]
  },
  {
   "cell_type": "code",
   "execution_count": 14,
   "metadata": {
    "execution": {
     "iopub.execute_input": "2024-02-21T18:39:39.139912Z",
     "iopub.status.busy": "2024-02-21T18:39:39.139755Z",
     "iopub.status.idle": "2024-02-21T18:46:57.378106Z",
     "shell.execute_reply": "2024-02-21T18:46:57.377380Z"
    }
   },
   "outputs": [
    {
     "name": "stdout",
     "output_type": "stream",
     "text": [
      "['EcosystemExperienceSubmitterPullRequestSuccessRate', 'ln(1 + EcosystemExperienceSubmitterPullRequestSubmissionCount)', 'ln(1 + EcosystemExperienceSubmitterPullRequestCommentCount)', 'ln(1 + EcosystemExperienceSubmitterIssueSubmissionCount)', 'ln(1 + EcosystemExperienceSubmitterIssueCommentCount)', 'DependencyEcosystemExperienceSubmitterPullRequestSuccessRate', 'ln(1 + DependencyEcosystemExperienceSubmitterPullRequestSubmissionCount)', 'ln(1 + DependencyEcosystemExperienceSubmitterPullRequestCommentCount)', 'ln(1 + DependencyEcosystemExperienceSubmitterIssueSubmissionCount)', 'ln(1 + DependencyEcosystemExperienceSubmitterIssueCommentCount)', 'InversedDependencyEcosystemExperienceSubmitterPullRequestSuccessRate', 'ln(1 + InversedDependencyEcosystemExperienceSubmitterPullRequestSubmissionCount)', 'ln(1 + InversedDependencyEcosystemExperienceSubmitterPullRequestCommentCount)', 'ln(1 + InversedDependencyEcosystemExperienceSubmitterIssueSubmissionCount)', 'ln(1 + InversedDependencyEcosystemExperienceSubmitterIssueCommentCount)', 'NonDependencyEcosystemExperienceSubmitterPullRequestSuccessRate', 'ln(1 + NonDependencyEcosystemExperienceSubmitterPullRequestSubmissionCount)', 'ln(1 + NonDependencyEcosystemExperienceSubmitterPullRequestCommentCount)', 'ln(1 + NonDependencyEcosystemExperienceSubmitterIssueSubmissionCount)', 'ln(1 + NonDependencyEcosystemExperienceSubmitterIssueCommentCount)', 'ln(1 + WeightedEcosystemSecondOrderDegreeCentrality)', 'ln(1 + EcosystemLinkIntensity)']\n"
     ]
    },
    {
     "name": "stdout",
     "output_type": "stream",
     "text": [
      "random_state=47"
     ]
    },
    {
     "name": "stdout",
     "output_type": "stream",
     "text": [
      "\n"
     ]
    },
    {
     "name": "stdout",
     "output_type": "stream",
     "text": [
      "random_state=47"
     ]
    },
    {
     "name": "stdout",
     "output_type": "stream",
     "text": [
      "random_state=47"
     ]
    },
    {
     "name": "stdout",
     "output_type": "stream",
     "text": [
      "\n"
     ]
    },
    {
     "name": "stdout",
     "output_type": "stream",
     "text": [
      "\n"
     ]
    },
    {
     "name": "stdout",
     "output_type": "stream",
     "text": [
      "random_state=47"
     ]
    },
    {
     "name": "stdout",
     "output_type": "stream",
     "text": [
      "random_state=47"
     ]
    },
    {
     "name": "stdout",
     "output_type": "stream",
     "text": [
      "\n"
     ]
    },
    {
     "name": "stdout",
     "output_type": "stream",
     "text": [
      "\n"
     ]
    },
    {
     "name": "stdout",
     "output_type": "stream",
     "text": [
      "metrics={'accuracy': 0.856120942551021, 'precision': 0.869918059652573, 'recall': 0.9788743822379582, 'f1': 0.9211856171039844}\n"
     ]
    },
    {
     "name": "stdout",
     "output_type": "stream",
     "text": [
      "\n"
     ]
    },
    {
     "name": "stdout",
     "output_type": "stream",
     "text": [
      "Confusion matrix:\n",
      "[[  2413  19844]\n",
      " [  2864 132706]]\n"
     ]
    },
    {
     "name": "stdout",
     "output_type": "stream",
     "text": [
      "\n"
     ]
    },
    {
     "name": "stdout",
     "output_type": "stream",
     "text": [
      "Classification report:"
     ]
    },
    {
     "name": "stdout",
     "output_type": "stream",
     "text": [
      "\n"
     ]
    },
    {
     "name": "stdout",
     "output_type": "stream",
     "text": [
      "              precision    recall  f1-score   support\n",
      "\n",
      "       False       0.46      0.11      0.18     22257\n",
      "        True       0.87      0.98      0.92    135570\n",
      "\n",
      "    accuracy                           0.86    157827\n",
      "   macro avg       0.66      0.54      0.55    157827\n",
      "weighted avg       0.81      0.86      0.82    157827\n"
     ]
    },
    {
     "name": "stdout",
     "output_type": "stream",
     "text": [
      "\n"
     ]
    },
    {
     "name": "stdout",
     "output_type": "stream",
     "text": [
      "metrics={'accuracy': 0.8548473961996363, 'precision': 0.8683873930012135, 'recall': 0.9789697857047784, 'f1': 0.9203688705511854}\n"
     ]
    },
    {
     "name": "stdout",
     "output_type": "stream",
     "text": [
      "\n"
     ]
    },
    {
     "name": "stdout",
     "output_type": "stream",
     "text": [
      "Confusion matrix:\n",
      "[[  2528  20065]\n",
      " [  2844 132390]]\n"
     ]
    },
    {
     "name": "stdout",
     "output_type": "stream",
     "text": [
      "\n"
     ]
    },
    {
     "name": "stdout",
     "output_type": "stream",
     "text": [
      "Classification report:"
     ]
    },
    {
     "name": "stdout",
     "output_type": "stream",
     "text": [
      "\n"
     ]
    },
    {
     "name": "stdout",
     "output_type": "stream",
     "text": [
      "              precision    recall  f1-score   support\n",
      "\n",
      "       False       0.47      0.11      0.18     22593\n",
      "        True       0.87      0.98      0.92    135234\n",
      "\n",
      "    accuracy                           0.85    157827\n",
      "   macro avg       0.67      0.55      0.55    157827\n",
      "weighted avg       0.81      0.85      0.81    157827\n"
     ]
    },
    {
     "name": "stdout",
     "output_type": "stream",
     "text": [
      "\n"
     ]
    },
    {
     "name": "stdout",
     "output_type": "stream",
     "text": [
      "metrics={'accuracy': 0.8550130521833895, 'precision': 0.8683609890470256, 'recall': 0.9792028755056911, 'f1': 0.9204570340064169}\n"
     ]
    },
    {
     "name": "stdout",
     "output_type": "stream",
     "text": [
      "\n"
     ]
    },
    {
     "name": "stdout",
     "output_type": "stream",
     "text": [
      "Confusion matrix:\n",
      "[[  2546  20071]\n",
      " [  2812 132399]]\n"
     ]
    },
    {
     "name": "stdout",
     "output_type": "stream",
     "text": [
      "\n"
     ]
    },
    {
     "name": "stdout",
     "output_type": "stream",
     "text": [
      "Classification report:"
     ]
    },
    {
     "name": "stdout",
     "output_type": "stream",
     "text": [
      "\n"
     ]
    },
    {
     "name": "stdout",
     "output_type": "stream",
     "text": [
      "              precision    recall  f1-score   support\n",
      "\n",
      "       False       0.48      0.11      0.18     22617\n",
      "        True       0.87      0.98      0.92    135211\n",
      "\n",
      "    accuracy                           0.86    157828\n",
      "   macro avg       0.67      0.55      0.55    157828\n",
      "weighted avg       0.81      0.86      0.81    157828\n"
     ]
    },
    {
     "name": "stdout",
     "output_type": "stream",
     "text": [
      "\n"
     ]
    },
    {
     "name": "stdout",
     "output_type": "stream",
     "text": [
      "metrics={'accuracy': 0.85337109620027, 'precision': 0.8670470943198216, 'recall': 0.9787356917563785, 'f1': 0.919512246019435}\n"
     ]
    },
    {
     "name": "stdout",
     "output_type": "stream",
     "text": [
      "\n"
     ]
    },
    {
     "name": "stdout",
     "output_type": "stream",
     "text": [
      "Confusion matrix:\n",
      "[[  2495  20270]\n",
      " [  2872 132190]]\n"
     ]
    },
    {
     "name": "stdout",
     "output_type": "stream",
     "text": [
      "\n"
     ]
    },
    {
     "name": "stdout",
     "output_type": "stream",
     "text": [
      "Classification report:"
     ]
    },
    {
     "name": "stdout",
     "output_type": "stream",
     "text": [
      "\n"
     ]
    },
    {
     "name": "stdout",
     "output_type": "stream",
     "text": [
      "              precision    recall  f1-score   support\n",
      "\n",
      "       False       0.46      0.11      0.18     22765\n",
      "        True       0.87      0.98      0.92    135062\n",
      "\n",
      "    accuracy                           0.85    157827\n",
      "   macro avg       0.67      0.54      0.55    157827\n",
      "weighted avg       0.81      0.85      0.81    157827\n"
     ]
    },
    {
     "name": "stdout",
     "output_type": "stream",
     "text": [
      "\n"
     ]
    },
    {
     "name": "stdout",
     "output_type": "stream",
     "text": [
      "metrics={'accuracy': 0.8541694386891977, 'precision': 0.86816388945403, 'recall': 0.978344957141061, 'f1': 0.919967174579772}\n"
     ]
    },
    {
     "name": "stdout",
     "output_type": "stream",
     "text": [
      "\n"
     ]
    },
    {
     "name": "stdout",
     "output_type": "stream",
     "text": [
      "Confusion matrix:\n",
      "[[  2528  20088]\n",
      " [  2928 132283]]\n"
     ]
    },
    {
     "name": "stdout",
     "output_type": "stream",
     "text": [
      "\n"
     ]
    },
    {
     "name": "stdout",
     "output_type": "stream",
     "text": [
      "Classification report:"
     ]
    },
    {
     "name": "stdout",
     "output_type": "stream",
     "text": [
      "\n"
     ]
    },
    {
     "name": "stdout",
     "output_type": "stream",
     "text": [
      "              precision    recall  f1-score   support\n",
      "\n",
      "       False       0.46      0.11      0.18     22616\n",
      "        True       0.87      0.98      0.92    135211\n",
      "\n",
      "    accuracy                           0.85    157827\n",
      "   macro avg       0.67      0.55      0.55    157827\n",
      "weighted avg       0.81      0.85      0.81    157827\n"
     ]
    },
    {
     "name": "stdout",
     "output_type": "stream",
     "text": [
      "\n"
     ]
    },
    {
     "name": "stdout",
     "output_type": "stream",
     "text": [
      "\n",
      "Performance metrics non-control model:\n",
      "f1_scores=[0.9211856171039844, 0.9203688705511854, 0.9204570340064169, 0.919512246019435, 0.919967174579772]\n",
      "f1_mean=0.9202981884521588, f1_std=0.0005558836519595848\n"
     ]
    }
   ],
   "source": [
    "non_control_intra_fields = get_feature_groups(\n",
    "    FeatureGroups.Eco,\n",
    "    FeatureGroups.DEco,\n",
    "    FeatureGroups.IDEco,\n",
    "    FeatureGroups.NDEco,\n",
    "    FeatureGroups.Coll,\n",
    ")\n",
    "print(non_control_intra_fields)\n",
    "\n",
    "f1_scores, f1_mean, f1_std = kfold_rf_evaluation(\n",
    "    df, non_control_intra_fields, k, pr_merged_key, seed_counter\n",
    ")\n",
    "\n",
    "print(\"\\nPerformance metrics non-control model:\")\n",
    "print(f\"{f1_scores=}\")\n",
    "print(f\"{f1_mean=}, {f1_std=}\")"
   ]
  },
  {
   "cell_type": "markdown",
   "metadata": {},
   "source": [
    "## Feature Explanation and Evaluation"
   ]
  },
  {
   "cell_type": "markdown",
   "metadata": {},
   "source": [
    "### Model Creation"
   ]
  },
  {
   "cell_type": "code",
   "execution_count": 15,
   "metadata": {
    "execution": {
     "iopub.execute_input": "2024-02-21T18:46:57.380904Z",
     "iopub.status.busy": "2024-02-21T18:46:57.380676Z",
     "iopub.status.idle": "2024-02-21T19:03:53.306813Z",
     "shell.execute_reply": "2024-02-21T19:03:53.306262Z"
    }
   },
   "outputs": [
    {
     "name": "stdout",
     "output_type": "stream",
     "text": [
      "random_state=49\n"
     ]
    },
    {
     "name": "stdout",
     "output_type": "stream",
     "text": [
      "metrics={'accuracy': 0.9277884785969537, 'precision': 0.9405859644383144, 'recall': 0.977538052312694, 'f1': 0.9587060728920966}\n",
      "\n",
      "Confusion matrix:\n",
      "[[ 14131   8357]\n",
      " [  3040 132300]]\n",
      "\n",
      "Classification report:\n"
     ]
    },
    {
     "name": "stdout",
     "output_type": "stream",
     "text": [
      "              precision    recall  f1-score   support\n",
      "\n",
      "       False       0.82      0.63      0.71     22488\n",
      "        True       0.94      0.98      0.96    135340\n",
      "\n",
      "    accuracy                           0.93    157828\n",
      "   macro avg       0.88      0.80      0.84    157828\n",
      "weighted avg       0.92      0.93      0.92    157828\n",
      "\n"
     ]
    }
   ],
   "source": [
    "from sklearn.model_selection import train_test_split\n",
    "\n",
    "from python_proj.modelling.notebooks.random_forest.rf_functions import create_model\n",
    "\n",
    "\n",
    "train, test = train_test_split(df, test_size=0.2, shuffle=True)\n",
    "train_predictors = train[independent_fields]\n",
    "train_dependent = train[pr_merged_key]\n",
    "test_predictors = test[independent_fields]\n",
    "test_dependent = test[pr_merged_key]\n",
    "\n",
    "\n",
    "full_rf_model, _ = create_model(\n",
    "    train_predictors, train_dependent, test_predictors, test_dependent, seed_counter\n",
    ")"
   ]
  },
  {
   "cell_type": "markdown",
   "metadata": {},
   "source": [
    "### Mean decrease in Impurity"
   ]
  },
  {
   "cell_type": "code",
   "execution_count": 16,
   "metadata": {
    "execution": {
     "iopub.execute_input": "2024-02-21T19:03:53.309472Z",
     "iopub.status.busy": "2024-02-21T19:03:53.309249Z",
     "iopub.status.idle": "2024-02-21T19:03:54.029818Z",
     "shell.execute_reply": "2024-02-21T19:03:54.026899Z"
    }
   },
   "outputs": [
    {
     "name": "stderr",
     "output_type": "stream",
     "text": [
      "/tmp/ipykernel_118284/1648129876.py:16: UserWarning: Tight layout not applied. The bottom and top margins cannot be made large enough to accommodate all axes decorations.\n",
      "  plt.tight_layout()\n"
     ]
    },
    {
     "data": {
      "image/png": "[encoded data removed]",
      "text/plain": [
       "<Figure size 1000x600 with 1 Axes>"
      ]
     },
     "metadata": {},
     "output_type": "display_data"
    }
   ],
   "source": [
    "from matplotlib import pyplot as plt\n",
    "\n",
    "feature_importances = full_rf_model.feature_importances_\n",
    "\n",
    "sorted_indices = np.argsort(feature_importances)[::-1]\n",
    "sorted_importances = feature_importances[sorted_indices]\n",
    "\n",
    "# Step 4: Plot the mean decrease accuracy plot\n",
    "plt.figure(figsize=(10, 6))\n",
    "plt.bar(range(test_predictors.shape[1]), sorted_importances)\n",
    "plt.xlabel(\"Feature Index\")\n",
    "plt.ylabel(\"Mean Decrease in Gini\")\n",
    "plt.title(\"Mean Decrease in Gini of Features\")\n",
    "ordererd_columns = np.array(test_predictors.columns)[sorted_indices]\n",
    "plt.xticks(range(test_predictors.shape[1]), ordererd_columns, rotation=90)\n",
    "plt.tight_layout()\n",
    "plt.show()"
   ]
  },
  {
   "cell_type": "code",
   "execution_count": 17,
   "metadata": {
    "execution": {
     "iopub.execute_input": "2024-02-21T19:03:54.033094Z",
     "iopub.status.busy": "2024-02-21T19:03:54.032873Z",
     "iopub.status.idle": "2024-02-21T19:03:54.061890Z",
     "shell.execute_reply": "2024-02-21T19:03:54.061308Z"
    }
   },
   "outputs": [
    {
     "name": "stdout",
     "output_type": "stream",
     "text": [
      "ln(1 + ControlIntraProjectPullRequestExperienceOfIntegrator): 0.17698263992856605\n",
      "ln(1 + ControlPullRequestLifeTimeInMinutes): 0.17643413151215362\n",
      "ln(1 + IntraProjectSubmitterPullRequestSubmissionCount): 0.16373448215215364\n",
      "IntraProjectSubmitterPullRequestSuccessRate: 0.15517133810638284\n",
      "ln(1 + IntraProjectSubmitterPullRequestCommentCount): 0.03674182068357363\n",
      "ln(1 + ControlNumberOfCommitsInPullRequest): 0.03459862608681086\n",
      "ln(1 + WeightedEcosystemSecondOrderDegreeCentrality): 0.030021603146977254\n",
      "ln(1 + IntraProjectSubmitterIssueCommentCount): 0.027727729069977006\n",
      "ControlIntegratedBySameUser: 0.01959357947494572\n",
      "ln(1 + IntraProjectSubmitterIssueSubmissionCount): 0.01576090597222648\n",
      "ln(1 + EcosystemExperienceSubmitterIssueCommentCount): 0.014104203936777452\n",
      "ControlPullRequestHasComments: 0.01403074394506453\n",
      "EcosystemExperienceSubmitterPullRequestSuccessRate: 0.013946999873665789\n",
      "ln(1 + NonDependencyEcosystemExperienceSubmitterIssueCommentCount): 0.013029051557967982\n",
      "ln(1 + EcosystemExperienceSubmitterPullRequestCommentCount): 0.012010134517979523\n",
      "ln(1 + EcosystemExperienceSubmitterPullRequestSubmissionCount): 0.011130595048535197\n",
      "ln(1 + NonDependencyEcosystemExperienceSubmitterPullRequestCommentCount): 0.010741810874042019\n",
      "ln(1 + NonDependencyEcosystemExperienceSubmitterPullRequestSubmissionCount): 0.010303553592950324\n",
      "ln(1 + NonDependencyEcosystemExperienceSubmitterIssueSubmissionCount): 0.00914815358236368\n",
      "ln(1 + EcosystemExperienceSubmitterIssueSubmissionCount): 0.008787218002058133\n",
      "ControlHasHashTagInDescription: 0.00875371819988586\n",
      "ControlPullRequestHasCommentByExternalUser: 0.007569454105549334\n",
      "NonDependencyEcosystemExperienceSubmitterPullRequestSuccessRate: 0.006992976718037218\n",
      "ln(1 + EcosystemLinkIntensity): 0.005556999922434125\n",
      "ln(1 + DependencyEcosystemExperienceSubmitterPullRequestCommentCount): 0.0025850025657458858\n",
      "ln(1 + DependencyEcosystemExperienceSubmitterPullRequestSubmissionCount): 0.002434651046676793\n",
      "ln(1 + DependencyEcosystemExperienceSubmitterIssueCommentCount): 0.00215734032253898\n",
      "DependencyEcosystemExperienceSubmitterPullRequestSuccessRate: 0.001710680592071409\n",
      "ln(1 + InversedDependencyEcosystemExperienceSubmitterPullRequestSubmissionCount): 0.0016117946625654773\n",
      "ln(1 + InversedDependencyEcosystemExperienceSubmitterIssueCommentCount): 0.0015519921194696088\n",
      "ln(1 + DependencyEcosystemExperienceSubmitterIssueSubmissionCount): 0.0015124553351675062\n",
      "ln(1 + InversedDependencyEcosystemExperienceSubmitterPullRequestCommentCount): 0.0013927942061775162\n",
      "InversedDependencyEcosystemExperienceSubmitterPullRequestSuccessRate: 0.00124012117407636\n",
      "ln(1 + InversedDependencyEcosystemExperienceSubmitterIssueSubmissionCount): 0.0009306979644322536\n"
     ]
    }
   ],
   "source": [
    "# Stores feature importances in file.\n",
    "output_file = f\"{figure_base_path}/feature_importance.txt\"\n",
    "with open(output_file, \"w+\", encoding=\"utf-8\") as output_file:\n",
    "    for field, importance in zip(ordererd_columns, sorted_importances):\n",
    "        entry = f\"{field}: {importance}\"\n",
    "        output_file.write(f'{entry}\\n')\n",
    "        print(entry)"
   ]
  },
  {
   "cell_type": "markdown",
   "metadata": {},
   "source": [
    "### Variable Group Reverse Ablation Studies\n",
    "\n",
    "Creates a model with a subset of features.\n",
    "Compared to regular ablation, it tests \"what happens if I add a feature\", instead of \"what happens when I remove one\"."
   ]
  },
  {
   "cell_type": "code",
   "execution_count": 18,
   "metadata": {
    "execution": {
     "iopub.execute_input": "2024-02-21T19:03:54.064427Z",
     "iopub.status.busy": "2024-02-21T19:03:54.064202Z",
     "iopub.status.idle": "2024-02-21T19:20:08.383852Z",
     "shell.execute_reply": "2024-02-21T19:20:08.383145Z"
    }
   },
   "outputs": [
    {
     "name": "stdout",
     "output_type": "stream",
     "text": [
      "Reverse ablation with \"FeatureGroups.Control\", including: ['ControlIntegratedBySameUser', 'ControlPullRequestHasComments', 'ControlPullRequestHasCommentByExternalUser', 'ControlHasHashTagInDescription', 'ln(1 + ControlPullRequestLifeTimeInMinutes)', 'ln(1 + ControlNumberOfCommitsInPullRequest)', 'ln(1 + ControlIntraProjectPullRequestExperienceOfIntegrator)'].\n"
     ]
    },
    {
     "name": "stdout",
     "output_type": "stream",
     "text": [
      "random_state=50"
     ]
    },
    {
     "name": "stdout",
     "output_type": "stream",
     "text": [
      "\n"
     ]
    },
    {
     "name": "stdout",
     "output_type": "stream",
     "text": [
      "random_state=50"
     ]
    },
    {
     "name": "stdout",
     "output_type": "stream",
     "text": [
      "random_state=50"
     ]
    },
    {
     "name": "stdout",
     "output_type": "stream",
     "text": [
      "\n"
     ]
    },
    {
     "name": "stdout",
     "output_type": "stream",
     "text": [
      "random_state=50"
     ]
    },
    {
     "name": "stdout",
     "output_type": "stream",
     "text": [
      "\n"
     ]
    },
    {
     "name": "stdout",
     "output_type": "stream",
     "text": [
      "\n"
     ]
    },
    {
     "name": "stdout",
     "output_type": "stream",
     "text": [
      "random_state=50"
     ]
    },
    {
     "name": "stdout",
     "output_type": "stream",
     "text": [
      "\n"
     ]
    },
    {
     "name": "stdout",
     "output_type": "stream",
     "text": [
      "metrics={'accuracy': 0.8597523886762805, 'precision': 0.8945984220109245, 'recall': 0.9480571327182399, 'f1': 0.9205523112870633}\n"
     ]
    },
    {
     "name": "stdout",
     "output_type": "stream",
     "text": [
      "\n"
     ]
    },
    {
     "name": "stdout",
     "output_type": "stream",
     "text": [
      "Confusion matrix:\n",
      "[[  7455  15109]\n",
      " [  7026 128238]]\n"
     ]
    },
    {
     "name": "stdout",
     "output_type": "stream",
     "text": [
      "\n"
     ]
    },
    {
     "name": "stdout",
     "output_type": "stream",
     "text": [
      "Classification report:"
     ]
    },
    {
     "name": "stdout",
     "output_type": "stream",
     "text": [
      "\n"
     ]
    },
    {
     "name": "stdout",
     "output_type": "stream",
     "text": [
      "              precision    recall  f1-score   support\n",
      "\n",
      "       False       0.51      0.33      0.40     22564\n",
      "        True       0.89      0.95      0.92    135264\n",
      "\n",
      "    accuracy                           0.86    157828\n",
      "   macro avg       0.70      0.64      0.66    157828\n",
      "weighted avg       0.84      0.86      0.85    157828\n"
     ]
    },
    {
     "name": "stdout",
     "output_type": "stream",
     "text": [
      "\n"
     ]
    },
    {
     "name": "stdout",
     "output_type": "stream",
     "text": [
      "metrics={'accuracy': 0.8612784884715543, 'precision': 0.8971002833257546, 'recall': 0.9469432362779776, 'f1': 0.9213481531508878}\n"
     ]
    },
    {
     "name": "stdout",
     "output_type": "stream",
     "text": [
      "\n"
     ]
    },
    {
     "name": "stdout",
     "output_type": "stream",
     "text": [
      "Confusion matrix:\n",
      "[[  7697  14709]\n",
      " [  7185 128236]]\n"
     ]
    },
    {
     "name": "stdout",
     "output_type": "stream",
     "text": [
      "\n"
     ]
    },
    {
     "name": "stdout",
     "output_type": "stream",
     "text": [
      "Classification report:"
     ]
    },
    {
     "name": "stdout",
     "output_type": "stream",
     "text": [
      "\n"
     ]
    },
    {
     "name": "stdout",
     "output_type": "stream",
     "text": [
      "              precision    recall  f1-score   support\n",
      "\n",
      "       False       0.52      0.34      0.41     22406\n",
      "        True       0.90      0.95      0.92    135421\n",
      "\n",
      "    accuracy                           0.86    157827\n",
      "   macro avg       0.71      0.65      0.67    157827\n",
      "weighted avg       0.84      0.86      0.85    157827\n"
     ]
    },
    {
     "name": "stdout",
     "output_type": "stream",
     "text": [
      "\n"
     ]
    },
    {
     "name": "stdout",
     "output_type": "stream",
     "text": [
      "metrics={'accuracy': 0.860087310789662, 'precision': 0.8953936886826732, 'recall': 0.9474158964879852, 'f1': 0.9206705034523887}\n"
     ]
    },
    {
     "name": "stdout",
     "output_type": "stream",
     "text": [
      "\n"
     ]
    },
    {
     "name": "stdout",
     "output_type": "stream",
     "text": [
      "Confusion matrix:\n",
      "[[  7607  14970]\n",
      " [  7112 128138]]\n"
     ]
    },
    {
     "name": "stdout",
     "output_type": "stream",
     "text": [
      "\n"
     ]
    },
    {
     "name": "stdout",
     "output_type": "stream",
     "text": [
      "Classification report:"
     ]
    },
    {
     "name": "stdout",
     "output_type": "stream",
     "text": [
      "\n"
     ]
    },
    {
     "name": "stdout",
     "output_type": "stream",
     "text": [
      "              precision    recall  f1-score   support\n",
      "\n",
      "       False       0.52      0.34      0.41     22577\n",
      "        True       0.90      0.95      0.92    135250\n",
      "\n",
      "    accuracy                           0.86    157827\n",
      "   macro avg       0.71      0.64      0.66    157827\n",
      "weighted avg       0.84      0.86      0.85    157827\n"
     ]
    },
    {
     "name": "stdout",
     "output_type": "stream",
     "text": [
      "\n"
     ]
    },
    {
     "name": "stdout",
     "output_type": "stream",
     "text": [
      "metrics={'accuracy': 0.8603217446951409, 'precision': 0.895546496423352, 'recall': 0.9474256546826454, 'f1': 0.9207558835476345}\n"
     ]
    },
    {
     "name": "stdout",
     "output_type": "stream",
     "text": [
      "\n"
     ]
    },
    {
     "name": "stdout",
     "output_type": "stream",
     "text": [
      "Confusion matrix:\n",
      "[[  7709  14938]\n",
      " [  7107 128073]]\n"
     ]
    },
    {
     "name": "stdout",
     "output_type": "stream",
     "text": [
      "\n"
     ]
    },
    {
     "name": "stdout",
     "output_type": "stream",
     "text": [
      "Classification report:"
     ]
    },
    {
     "name": "stdout",
     "output_type": "stream",
     "text": [
      "\n"
     ]
    },
    {
     "name": "stdout",
     "output_type": "stream",
     "text": [
      "              precision    recall  f1-score   support\n",
      "\n",
      "       False       0.52      0.34      0.41     22647\n",
      "        True       0.90      0.95      0.92    135180\n",
      "\n",
      "    accuracy                           0.86    157827\n",
      "   macro avg       0.71      0.64      0.67    157827\n",
      "weighted avg       0.84      0.86      0.85    157827\n"
     ]
    },
    {
     "name": "stdout",
     "output_type": "stream",
     "text": [
      "\n"
     ]
    },
    {
     "name": "stdout",
     "output_type": "stream",
     "text": [
      "metrics={'accuracy': 0.8604231215191317, 'precision': 0.8950724192354428, 'recall': 0.9481849185858122, 'f1': 0.9208634644192739}\n"
     ]
    },
    {
     "name": "stdout",
     "output_type": "stream",
     "text": [
      "\n"
     ]
    },
    {
     "name": "stdout",
     "output_type": "stream",
     "text": [
      "Confusion matrix:\n",
      "[[  7629  15025]\n",
      " [  7004 128169]]\n"
     ]
    },
    {
     "name": "stdout",
     "output_type": "stream",
     "text": [
      "\n"
     ]
    },
    {
     "name": "stdout",
     "output_type": "stream",
     "text": [
      "Classification report:"
     ]
    },
    {
     "name": "stdout",
     "output_type": "stream",
     "text": [
      "\n"
     ]
    },
    {
     "name": "stdout",
     "output_type": "stream",
     "text": [
      "              precision    recall  f1-score   support\n",
      "\n",
      "       False       0.52      0.34      0.41     22654\n",
      "        True       0.90      0.95      0.92    135173\n",
      "\n",
      "    accuracy                           0.86    157827\n",
      "   macro avg       0.71      0.64      0.67    157827\n",
      "weighted avg       0.84      0.86      0.85    157827\n"
     ]
    },
    {
     "name": "stdout",
     "output_type": "stream",
     "text": [
      "\n"
     ]
    },
    {
     "name": "stdout",
     "output_type": "stream",
     "text": [
      "Performance of 'FeatureGroups.Control'\n",
      "['ControlIntegratedBySameUser', 'ControlPullRequestHasComments', 'ControlPullRequestHasCommentByExternalUser', 'ControlHasHashTagInDescription', 'ln(1 + ControlPullRequestLifeTimeInMinutes)', 'ln(1 + ControlNumberOfCommitsInPullRequest)', 'ln(1 + ControlIntraProjectPullRequestExperienceOfIntegrator)']\n",
      "f1_scores=[0.9205523112870633, 0.9213481531508878, 0.9206705034523887, 0.9207558835476345, 0.9208634644192739]\n",
      "f1_mean=0.9208380631714496, f1_std=0.00027470744437194\n",
      "\n",
      "Reverse ablation with \"FeatureGroups.Intra\", including: ['IntraProjectSubmitterPullRequestSuccessRate', 'ln(1 + IntraProjectSubmitterPullRequestSubmissionCount)', 'ln(1 + IntraProjectSubmitterPullRequestCommentCount)', 'ln(1 + IntraProjectSubmitterIssueSubmissionCount)', 'ln(1 + IntraProjectSubmitterIssueCommentCount)'].\n"
     ]
    },
    {
     "name": "stdout",
     "output_type": "stream",
     "text": [
      "random_state=52"
     ]
    },
    {
     "name": "stdout",
     "output_type": "stream",
     "text": [
      "\n"
     ]
    },
    {
     "name": "stdout",
     "output_type": "stream",
     "text": [
      "random_state=52"
     ]
    },
    {
     "name": "stdout",
     "output_type": "stream",
     "text": [
      "\n"
     ]
    },
    {
     "name": "stdout",
     "output_type": "stream",
     "text": [
      "random_state=52"
     ]
    },
    {
     "name": "stdout",
     "output_type": "stream",
     "text": [
      "\n"
     ]
    },
    {
     "name": "stdout",
     "output_type": "stream",
     "text": [
      "random_state=52"
     ]
    },
    {
     "name": "stdout",
     "output_type": "stream",
     "text": [
      "random_state=52"
     ]
    },
    {
     "name": "stdout",
     "output_type": "stream",
     "text": [
      "\n"
     ]
    },
    {
     "name": "stdout",
     "output_type": "stream",
     "text": [
      "\n"
     ]
    },
    {
     "name": "stdout",
     "output_type": "stream",
     "text": [
      "metrics={'accuracy': 0.8655046348216718, 'precision': 0.882435691318328, 'recall': 0.972844830769458, 'f1': 0.9254374102084043}\n"
     ]
    },
    {
     "name": "stdout",
     "output_type": "stream",
     "text": [
      "\n"
     ]
    },
    {
     "name": "stdout",
     "output_type": "stream",
     "text": [
      "Confusion matrix:\n",
      "[[  4870  17550]\n",
      " [  3677 131730]]\n"
     ]
    },
    {
     "name": "stdout",
     "output_type": "stream",
     "text": [
      "\n"
     ]
    },
    {
     "name": "stdout",
     "output_type": "stream",
     "text": [
      "Classification report:"
     ]
    },
    {
     "name": "stdout",
     "output_type": "stream",
     "text": [
      "\n"
     ]
    },
    {
     "name": "stdout",
     "output_type": "stream",
     "text": [
      "              precision    recall  f1-score   support\n",
      "\n",
      "       False       0.57      0.22      0.31     22420\n",
      "        True       0.88      0.97      0.93    135407\n",
      "\n",
      "    accuracy                           0.87    157827\n",
      "   macro avg       0.73      0.60      0.62    157827\n",
      "weighted avg       0.84      0.87      0.84    157827\n"
     ]
    },
    {
     "name": "stdout",
     "output_type": "stream",
     "text": [
      "\n"
     ]
    },
    {
     "name": "stdout",
     "output_type": "stream",
     "text": [
      "metrics={'accuracy': 0.8643966849988595, 'precision': 0.8813701142654412, 'recall': 0.9728106274982083, 'f1': 0.9248356372218476}\n"
     ]
    },
    {
     "name": "stdout",
     "output_type": "stream",
     "text": [
      "\n"
     ]
    },
    {
     "name": "stdout",
     "output_type": "stream",
     "text": [
      "Confusion matrix:\n",
      "[[  4759  17722]\n",
      " [  3680 131667]]\n"
     ]
    },
    {
     "name": "stdout",
     "output_type": "stream",
     "text": [
      "\n"
     ]
    },
    {
     "name": "stdout",
     "output_type": "stream",
     "text": [
      "Classification report:"
     ]
    },
    {
     "name": "stdout",
     "output_type": "stream",
     "text": [
      "\n"
     ]
    },
    {
     "name": "stdout",
     "output_type": "stream",
     "text": [
      "              precision    recall  f1-score   support\n",
      "\n",
      "       False       0.56      0.21      0.31     22481\n",
      "        True       0.88      0.97      0.92    135347\n",
      "\n",
      "    accuracy                           0.86    157828\n",
      "   macro avg       0.72      0.59      0.62    157828\n",
      "weighted avg       0.84      0.86      0.84    157828\n"
     ]
    },
    {
     "name": "stdout",
     "output_type": "stream",
     "text": [
      "\n"
     ]
    },
    {
     "name": "stdout",
     "output_type": "stream",
     "text": [
      "metrics={'accuracy': 0.8623049288144614, 'precision': 0.8794473021486363, 'recall': 0.9723559294420829, 'f1': 0.9235709110859457}\n"
     ]
    },
    {
     "name": "stdout",
     "output_type": "stream",
     "text": [
      "\n"
     ]
    },
    {
     "name": "stdout",
     "output_type": "stream",
     "text": [
      "Confusion matrix:\n",
      "[[  4790  17999]\n",
      " [  3733 131305]]\n"
     ]
    },
    {
     "name": "stdout",
     "output_type": "stream",
     "text": [
      "\n"
     ]
    },
    {
     "name": "stdout",
     "output_type": "stream",
     "text": [
      "Classification report:"
     ]
    },
    {
     "name": "stdout",
     "output_type": "stream",
     "text": [
      "\n"
     ]
    },
    {
     "name": "stdout",
     "output_type": "stream",
     "text": [
      "metrics={'accuracy': 0.8646809481267463, 'precision': 0.8822000401956187, 'recall': 0.9721465535697148, 'f1': 0.9249918343407241}\n"
     ]
    },
    {
     "name": "stdout",
     "output_type": "stream",
     "text": [
      "\n"
     ]
    },
    {
     "name": "stdout",
     "output_type": "stream",
     "text": [
      "Confusion matrix:\n",
      "[[  4784  17584]\n",
      " [  3773 131686]]\n"
     ]
    },
    {
     "name": "stdout",
     "output_type": "stream",
     "text": [
      "\n"
     ]
    },
    {
     "name": "stdout",
     "output_type": "stream",
     "text": [
      "Classification report:"
     ]
    },
    {
     "name": "stdout",
     "output_type": "stream",
     "text": [
      "\n"
     ]
    },
    {
     "name": "stdout",
     "output_type": "stream",
     "text": [
      "              precision    recall  f1-score   support\n",
      "\n",
      "       False       0.56      0.21      0.31     22789\n",
      "        True       0.88      0.97      0.92    135038\n",
      "\n",
      "    accuracy                           0.86    157827\n",
      "   macro avg       0.72      0.59      0.61    157827\n",
      "weighted avg       0.83      0.86      0.83    157827\n"
     ]
    },
    {
     "name": "stdout",
     "output_type": "stream",
     "text": [
      "\n"
     ]
    },
    {
     "name": "stdout",
     "output_type": "stream",
     "text": [
      "              precision    recall  f1-score   support\n",
      "\n",
      "       False       0.56      0.21      0.31     22368\n",
      "        True       0.88      0.97      0.92    135459\n",
      "\n",
      "    accuracy                           0.86    157827\n",
      "   macro avg       0.72      0.59      0.62    157827\n",
      "weighted avg       0.84      0.86      0.84    157827\n"
     ]
    },
    {
     "name": "stdout",
     "output_type": "stream",
     "text": [
      "\n"
     ]
    },
    {
     "name": "stdout",
     "output_type": "stream",
     "text": [
      "metrics={'accuracy': 0.8627421163679219, 'precision': 0.8793396504189084, 'recall': 0.9731036678836171, 'f1': 0.9238486605055665}\n"
     ]
    },
    {
     "name": "stdout",
     "output_type": "stream",
     "text": [
      "\n"
     ]
    },
    {
     "name": "stdout",
     "output_type": "stream",
     "text": [
      "Confusion matrix:\n",
      "[[  4759  18031]\n",
      " [  3632 131405]]\n"
     ]
    },
    {
     "name": "stdout",
     "output_type": "stream",
     "text": [
      "\n"
     ]
    },
    {
     "name": "stdout",
     "output_type": "stream",
     "text": [
      "Classification report:"
     ]
    },
    {
     "name": "stdout",
     "output_type": "stream",
     "text": [
      "\n"
     ]
    },
    {
     "name": "stdout",
     "output_type": "stream",
     "text": [
      "              precision    recall  f1-score   support\n",
      "\n",
      "       False       0.57      0.21      0.31     22790\n",
      "        True       0.88      0.97      0.92    135037\n",
      "\n",
      "    accuracy                           0.86    157827\n",
      "   macro avg       0.72      0.59      0.61    157827\n",
      "weighted avg       0.83      0.86      0.83    157827\n"
     ]
    },
    {
     "name": "stdout",
     "output_type": "stream",
     "text": [
      "\n"
     ]
    },
    {
     "name": "stdout",
     "output_type": "stream",
     "text": [
      "Performance of 'FeatureGroups.Intra'\n",
      "['IntraProjectSubmitterPullRequestSuccessRate', 'ln(1 + IntraProjectSubmitterPullRequestSubmissionCount)', 'ln(1 + IntraProjectSubmitterPullRequestCommentCount)', 'ln(1 + IntraProjectSubmitterIssueSubmissionCount)', 'ln(1 + IntraProjectSubmitterIssueCommentCount)']\n",
      "f1_scores=[0.9254374102084043, 0.9248356372218476, 0.9235709110859457, 0.9249918343407241, 0.9238486605055665]\n",
      "f1_mean=0.9245368906724976, f1_std=0.0007090748903841645\n",
      "\n",
      "Reverse ablation with \"FeatureGroups.Eco\", including: ['EcosystemExperienceSubmitterPullRequestSuccessRate', 'ln(1 + EcosystemExperienceSubmitterPullRequestSubmissionCount)', 'ln(1 + EcosystemExperienceSubmitterPullRequestCommentCount)', 'ln(1 + EcosystemExperienceSubmitterIssueSubmissionCount)', 'ln(1 + EcosystemExperienceSubmitterIssueCommentCount)'].\n"
     ]
    },
    {
     "name": "stdout",
     "output_type": "stream",
     "text": [
      "random_state=54"
     ]
    },
    {
     "name": "stdout",
     "output_type": "stream",
     "text": [
      "\n"
     ]
    },
    {
     "name": "stdout",
     "output_type": "stream",
     "text": [
      "random_state=54"
     ]
    },
    {
     "name": "stdout",
     "output_type": "stream",
     "text": [
      "random_state=54"
     ]
    },
    {
     "name": "stdout",
     "output_type": "stream",
     "text": [
      "\n"
     ]
    },
    {
     "name": "stdout",
     "output_type": "stream",
     "text": [
      "\n"
     ]
    },
    {
     "name": "stdout",
     "output_type": "stream",
     "text": [
      "random_state=54"
     ]
    },
    {
     "name": "stdout",
     "output_type": "stream",
     "text": [
      "\n"
     ]
    },
    {
     "name": "stdout",
     "output_type": "stream",
     "text": [
      "random_state=54"
     ]
    },
    {
     "name": "stdout",
     "output_type": "stream",
     "text": [
      "\n"
     ]
    },
    {
     "name": "stdout",
     "output_type": "stream",
     "text": [
      "metrics={'accuracy': 0.8543731150366222, 'precision': 0.8650362142323557, 'recall': 0.9836971375807941, 'f1': 0.9205585510853034}\n"
     ]
    },
    {
     "name": "stdout",
     "output_type": "stream",
     "text": [
      "\n"
     ]
    },
    {
     "name": "stdout",
     "output_type": "stream",
     "text": [
      "Confusion matrix:\n",
      "[[  1676  20777]\n",
      " [  2207 133168]]\n"
     ]
    },
    {
     "name": "stdout",
     "output_type": "stream",
     "text": [
      "\n"
     ]
    },
    {
     "name": "stdout",
     "output_type": "stream",
     "text": [
      "Classification report:"
     ]
    },
    {
     "name": "stdout",
     "output_type": "stream",
     "text": [
      "\n"
     ]
    },
    {
     "name": "stdout",
     "output_type": "stream",
     "text": [
      "              precision    recall  f1-score   support\n",
      "\n",
      "       False       0.43      0.07      0.13     22453\n",
      "        True       0.87      0.98      0.92    135375\n",
      "\n",
      "    accuracy                           0.85    157828\n",
      "   macro avg       0.65      0.53      0.52    157828\n",
      "weighted avg       0.80      0.85      0.81    157828\n"
     ]
    },
    {
     "name": "stdout",
     "output_type": "stream",
     "text": [
      "\n"
     ]
    },
    {
     "name": "stdout",
     "output_type": "stream",
     "text": [
      "metrics={'accuracy': 0.8545812820366604, 'precision': 0.8649054201527828, 'recall': 0.9840799402812987, 'f1': 0.9206520423862125}\n"
     ]
    },
    {
     "name": "stdout",
     "output_type": "stream",
     "text": [
      "\n"
     ]
    },
    {
     "name": "stdout",
     "output_type": "stream",
     "text": [
      "Confusion matrix:\n",
      "[[  1729  20797]\n",
      " [  2154 133147]]\n"
     ]
    },
    {
     "name": "stdout",
     "output_type": "stream",
     "text": [
      "\n"
     ]
    },
    {
     "name": "stdout",
     "output_type": "stream",
     "text": [
      "Classification report:"
     ]
    },
    {
     "name": "stdout",
     "output_type": "stream",
     "text": [
      "\n"
     ]
    },
    {
     "name": "stdout",
     "output_type": "stream",
     "text": [
      "metrics={'accuracy': 0.853624538260247, 'precision': 0.863904941237582, 'recall': 0.9841558672110776, 'f1': 0.9201181181319632}\n"
     ]
    },
    {
     "name": "stdout",
     "output_type": "stream",
     "text": [
      "\n"
     ]
    },
    {
     "name": "stdout",
     "output_type": "stream",
     "text": [
      "Confusion matrix:\n",
      "[[  1675  20960]\n",
      " [  2142 133050]]\n"
     ]
    },
    {
     "name": "stdout",
     "output_type": "stream",
     "text": [
      "\n"
     ]
    },
    {
     "name": "stdout",
     "output_type": "stream",
     "text": [
      "Classification report:"
     ]
    },
    {
     "name": "stdout",
     "output_type": "stream",
     "text": [
      "\n"
     ]
    },
    {
     "name": "stdout",
     "output_type": "stream",
     "text": [
      "              precision    recall  f1-score   support\n",
      "\n",
      "       False       0.45      0.08      0.13     22526\n",
      "        True       0.86      0.98      0.92    135301\n",
      "\n",
      "    accuracy                           0.85    157827\n",
      "   macro avg       0.66      0.53      0.53    157827\n",
      "weighted avg       0.81      0.85      0.81    157827\n"
     ]
    },
    {
     "name": "stdout",
     "output_type": "stream",
     "text": [
      "\n"
     ]
    },
    {
     "name": "stdout",
     "output_type": "stream",
     "text": [
      "metrics={'accuracy': 0.8530099412648026, 'precision': 0.8638549831662962, 'recall': 0.9833386355733448, 'f1': 0.9197324761868514}\n"
     ]
    },
    {
     "name": "stdout",
     "output_type": "stream",
     "text": [
      "\n"
     ]
    },
    {
     "name": "stdout",
     "output_type": "stream",
     "text": [
      "Confusion matrix:\n",
      "[[  1717  20947]\n",
      " [  2252 132911]]\n"
     ]
    },
    {
     "name": "stdout",
     "output_type": "stream",
     "text": [
      "\n"
     ]
    },
    {
     "name": "stdout",
     "output_type": "stream",
     "text": [
      "Classification report:"
     ]
    },
    {
     "name": "stdout",
     "output_type": "stream",
     "text": [
      "\n"
     ]
    },
    {
     "name": "stdout",
     "output_type": "stream",
     "text": [
      "              precision    recall  f1-score   support\n",
      "\n",
      "       False       0.44      0.07      0.13     22635\n",
      "        True       0.86      0.98      0.92    135192\n",
      "\n",
      "    accuracy                           0.85    157827\n",
      "   macro avg       0.65      0.53      0.52    157827\n",
      "weighted avg       0.80      0.85      0.81    157827\n"
     ]
    },
    {
     "name": "stdout",
     "output_type": "stream",
     "text": [
      "\n"
     ]
    },
    {
     "name": "stdout",
     "output_type": "stream",
     "text": [
      "              precision    recall  f1-score   support\n",
      "\n",
      "       False       0.43      0.08      0.13     22664\n",
      "        True       0.86      0.98      0.92    135163\n",
      "\n",
      "    accuracy                           0.85    157827\n",
      "   macro avg       0.65      0.53      0.52    157827\n",
      "weighted avg       0.80      0.85      0.81    157827\n"
     ]
    },
    {
     "name": "stdout",
     "output_type": "stream",
     "text": [
      "\n"
     ]
    },
    {
     "name": "stdout",
     "output_type": "stream",
     "text": [
      "metrics={'accuracy': 0.8535865219512504, 'precision': 0.8641083081718126, 'recall': 0.9838825347301803, 'f1': 0.9201139451431575}\n"
     ]
    },
    {
     "name": "stdout",
     "output_type": "stream",
     "text": [
      "\n"
     ]
    },
    {
     "name": "stdout",
     "output_type": "stream",
     "text": [
      "Confusion matrix:\n",
      "[[  1642  20928]\n",
      " [  2180 133077]]\n"
     ]
    },
    {
     "name": "stdout",
     "output_type": "stream",
     "text": [
      "\n"
     ]
    },
    {
     "name": "stdout",
     "output_type": "stream",
     "text": [
      "Classification report:"
     ]
    },
    {
     "name": "stdout",
     "output_type": "stream",
     "text": [
      "\n"
     ]
    },
    {
     "name": "stdout",
     "output_type": "stream",
     "text": [
      "              precision    recall  f1-score   support\n",
      "\n",
      "       False       0.43      0.07      0.12     22570\n",
      "        True       0.86      0.98      0.92    135257\n",
      "\n",
      "    accuracy                           0.85    157827\n",
      "   macro avg       0.65      0.53      0.52    157827\n",
      "weighted avg       0.80      0.85      0.81    157827\n"
     ]
    },
    {
     "name": "stdout",
     "output_type": "stream",
     "text": [
      "\n"
     ]
    },
    {
     "name": "stdout",
     "output_type": "stream",
     "text": [
      "Performance of 'FeatureGroups.Eco'\n",
      "['EcosystemExperienceSubmitterPullRequestSuccessRate', 'ln(1 + EcosystemExperienceSubmitterPullRequestSubmissionCount)', 'ln(1 + EcosystemExperienceSubmitterPullRequestCommentCount)', 'ln(1 + EcosystemExperienceSubmitterIssueSubmissionCount)', 'ln(1 + EcosystemExperienceSubmitterIssueCommentCount)']\n",
      "f1_scores=[0.9205585510853034, 0.9206520423862125, 0.9201181181319632, 0.9197324761868514, 0.9201139451431575]\n",
      "f1_mean=0.9202350265866975, f1_std=0.00033450126618201785\n",
      "\n",
      "Reverse ablation with \"FeatureGroups.DEco\", including: ['DependencyEcosystemExperienceSubmitterPullRequestSuccessRate', 'ln(1 + DependencyEcosystemExperienceSubmitterPullRequestSubmissionCount)', 'ln(1 + DependencyEcosystemExperienceSubmitterPullRequestCommentCount)', 'ln(1 + DependencyEcosystemExperienceSubmitterIssueSubmissionCount)', 'ln(1 + DependencyEcosystemExperienceSubmitterIssueCommentCount)'].\n"
     ]
    },
    {
     "name": "stdout",
     "output_type": "stream",
     "text": [
      "random_state=56"
     ]
    },
    {
     "name": "stdout",
     "output_type": "stream",
     "text": [
      "\n"
     ]
    },
    {
     "name": "stdout",
     "output_type": "stream",
     "text": [
      "random_state=56"
     ]
    },
    {
     "name": "stdout",
     "output_type": "stream",
     "text": [
      "\n"
     ]
    },
    {
     "name": "stdout",
     "output_type": "stream",
     "text": [
      "random_state=56"
     ]
    },
    {
     "name": "stdout",
     "output_type": "stream",
     "text": [
      "\n"
     ]
    },
    {
     "name": "stdout",
     "output_type": "stream",
     "text": [
      "random_state=56"
     ]
    },
    {
     "name": "stdout",
     "output_type": "stream",
     "text": [
      "random_state=56"
     ]
    },
    {
     "name": "stdout",
     "output_type": "stream",
     "text": [
      "\n"
     ]
    },
    {
     "name": "stdout",
     "output_type": "stream",
     "text": [
      "\n"
     ]
    },
    {
     "name": "stdout",
     "output_type": "stream",
     "text": [
      "metrics={'accuracy': 0.8571356159870238, 'precision': 0.8586412062345852, 'recall': 0.9977102845156144, 'f1': 0.9229665464086585}\n"
     ]
    },
    {
     "name": "stdout",
     "output_type": "stream",
     "text": [
      "\n"
     ]
    },
    {
     "name": "stdout",
     "output_type": "stream",
     "text": [
      "Confusion matrix:\n",
      "[[   202  22238]\n",
      " [   310 135078]]\n"
     ]
    },
    {
     "name": "stdout",
     "output_type": "stream",
     "text": [
      "\n"
     ]
    },
    {
     "name": "stdout",
     "output_type": "stream",
     "text": [
      "Classification report:"
     ]
    },
    {
     "name": "stdout",
     "output_type": "stream",
     "text": [
      "\n"
     ]
    },
    {
     "name": "stdout",
     "output_type": "stream",
     "text": [
      "              precision    recall  f1-score   support\n",
      "\n",
      "       False       0.39      0.01      0.02     22440\n",
      "        True       0.86      1.00      0.92    135388\n",
      "\n",
      "    accuracy                           0.86    157828\n",
      "   macro avg       0.63      0.50      0.47    157828\n",
      "weighted avg       0.79      0.86      0.79    157828\n"
     ]
    },
    {
     "name": "stdout",
     "output_type": "stream",
     "text": [
      "\n"
     ]
    },
    {
     "name": "stdout",
     "output_type": "stream",
     "text": [
      "metrics={'accuracy': 0.8554810013495789, 'precision': 0.8569539875545837, 'recall': 0.9977502479167591, 'f1': 0.9220079807695596}\n"
     ]
    },
    {
     "name": "stdout",
     "output_type": "stream",
     "text": [
      "\n"
     ]
    },
    {
     "name": "stdout",
     "output_type": "stream",
     "text": [
      "Confusion matrix:\n",
      "[[   196  22505]\n",
      " [   304 134822]]\n"
     ]
    },
    {
     "name": "stdout",
     "output_type": "stream",
     "text": [
      "\n"
     ]
    },
    {
     "name": "stdout",
     "output_type": "stream",
     "text": [
      "Classification report:"
     ]
    },
    {
     "name": "stdout",
     "output_type": "stream",
     "text": [
      "\n"
     ]
    },
    {
     "name": "stdout",
     "output_type": "stream",
     "text": [
      "              precision    recall  f1-score   support\n",
      "\n",
      "       False       0.39      0.01      0.02     22701\n",
      "        True       0.86      1.00      0.92    135126\n",
      "\n",
      "    accuracy                           0.86    157827\n",
      "   macro avg       0.62      0.50      0.47    157827\n",
      "weighted avg       0.79      0.86      0.79    157827\n"
     ]
    },
    {
     "name": "stdout",
     "output_type": "stream",
     "text": [
      "\n"
     ]
    },
    {
     "name": "stdout",
     "output_type": "stream",
     "text": [
      "metrics={'accuracy': 0.8580597743098456, 'precision': 0.8594526572688792, 'recall': 0.99787478969273, 'f1': 0.9235055897397373}\n"
     ]
    },
    {
     "name": "stdout",
     "output_type": "stream",
     "text": [
      "\n"
     ]
    },
    {
     "name": "stdout",
     "output_type": "stream",
     "text": [
      "Confusion matrix:\n",
      "[[   197  22114]\n",
      " [   288 135228]]\n"
     ]
    },
    {
     "name": "stdout",
     "output_type": "stream",
     "text": [
      "\n"
     ]
    },
    {
     "name": "stdout",
     "output_type": "stream",
     "text": [
      "Classification report:"
     ]
    },
    {
     "name": "stdout",
     "output_type": "stream",
     "text": [
      "\n"
     ]
    },
    {
     "name": "stdout",
     "output_type": "stream",
     "text": [
      "metrics={'accuracy': 0.8561526228085182, 'precision': 0.8577169344634421, 'recall': 0.9975891140363852, 'f1': 0.9223805176911426}\n"
     ]
    },
    {
     "name": "stdout",
     "output_type": "stream",
     "text": [
      "\n"
     ]
    },
    {
     "name": "stdout",
     "output_type": "stream",
     "text": [
      "Confusion matrix:\n",
      "[[   230  22377]\n",
      " [   326 134894]]\n"
     ]
    },
    {
     "name": "stdout",
     "output_type": "stream",
     "text": [
      "\n"
     ]
    },
    {
     "name": "stdout",
     "output_type": "stream",
     "text": [
      "Classification report:"
     ]
    },
    {
     "name": "stdout",
     "output_type": "stream",
     "text": [
      "\n"
     ]
    },
    {
     "name": "stdout",
     "output_type": "stream",
     "text": [
      "              precision    recall  f1-score   support\n",
      "\n",
      "       False       0.41      0.01      0.02     22311\n",
      "        True       0.86      1.00      0.92    135516\n",
      "\n",
      "    accuracy                           0.86    157827\n",
      "   macro avg       0.63      0.50      0.47    157827\n",
      "weighted avg       0.80      0.86      0.80    157827\n"
     ]
    },
    {
     "name": "stdout",
     "output_type": "stream",
     "text": [
      "\n"
     ]
    },
    {
     "name": "stdout",
     "output_type": "stream",
     "text": [
      "              precision    recall  f1-score   support\n",
      "\n",
      "       False       0.41      0.01      0.02     22607\n",
      "        True       0.86      1.00      0.92    135220\n",
      "\n",
      "    accuracy                           0.86    157827\n",
      "   macro avg       0.64      0.50      0.47    157827\n",
      "weighted avg       0.79      0.86      0.79    157827\n"
     ]
    },
    {
     "name": "stdout",
     "output_type": "stream",
     "text": [
      "\n"
     ]
    },
    {
     "name": "stdout",
     "output_type": "stream",
     "text": [
      "metrics={'accuracy': 0.8549741172296248, 'precision': 0.8563928841545961, 'recall': 0.9978228350538367, 'f1': 0.9217140883174806}\n"
     ]
    },
    {
     "name": "stdout",
     "output_type": "stream",
     "text": [
      "\n"
     ]
    },
    {
     "name": "stdout",
     "output_type": "stream",
     "text": [
      "Confusion matrix:\n",
      "[[   194  22595]\n",
      " [   294 134744]]\n"
     ]
    },
    {
     "name": "stdout",
     "output_type": "stream",
     "text": [
      "\n"
     ]
    },
    {
     "name": "stdout",
     "output_type": "stream",
     "text": [
      "Classification report:"
     ]
    },
    {
     "name": "stdout",
     "output_type": "stream",
     "text": [
      "\n"
     ]
    },
    {
     "name": "stdout",
     "output_type": "stream",
     "text": [
      "              precision    recall  f1-score   support\n",
      "\n",
      "       False       0.40      0.01      0.02     22789\n",
      "        True       0.86      1.00      0.92    135038\n",
      "\n",
      "    accuracy                           0.85    157827\n",
      "   macro avg       0.63      0.50      0.47    157827\n",
      "weighted avg       0.79      0.85      0.79    157827\n"
     ]
    },
    {
     "name": "stdout",
     "output_type": "stream",
     "text": [
      "\n"
     ]
    },
    {
     "name": "stdout",
     "output_type": "stream",
     "text": [
      "Performance of 'FeatureGroups.DEco'\n",
      "['DependencyEcosystemExperienceSubmitterPullRequestSuccessRate', 'ln(1 + DependencyEcosystemExperienceSubmitterPullRequestSubmissionCount)', 'ln(1 + DependencyEcosystemExperienceSubmitterPullRequestCommentCount)', 'ln(1 + DependencyEcosystemExperienceSubmitterIssueSubmissionCount)', 'ln(1 + DependencyEcosystemExperienceSubmitterIssueCommentCount)']\n",
      "f1_scores=[0.9229665464086585, 0.9220079807695596, 0.9235055897397373, 0.9223805176911426, 0.9217140883174806]\n",
      "f1_mean=0.9225149445853159, f1_std=0.0006483480070023076\n",
      "\n",
      "Reverse ablation with \"FeatureGroups.IDEco\", including: ['InversedDependencyEcosystemExperienceSubmitterPullRequestSuccessRate', 'ln(1 + InversedDependencyEcosystemExperienceSubmitterPullRequestSubmissionCount)', 'ln(1 + InversedDependencyEcosystemExperienceSubmitterPullRequestCommentCount)', 'ln(1 + InversedDependencyEcosystemExperienceSubmitterIssueSubmissionCount)', 'ln(1 + InversedDependencyEcosystemExperienceSubmitterIssueCommentCount)'].\n"
     ]
    },
    {
     "name": "stdout",
     "output_type": "stream",
     "text": [
      "random_state=58"
     ]
    },
    {
     "name": "stdout",
     "output_type": "stream",
     "text": [
      "\n"
     ]
    },
    {
     "name": "stdout",
     "output_type": "stream",
     "text": [
      "random_state=58"
     ]
    },
    {
     "name": "stdout",
     "output_type": "stream",
     "text": [
      "random_state=58"
     ]
    },
    {
     "name": "stdout",
     "output_type": "stream",
     "text": [
      "\n"
     ]
    },
    {
     "name": "stdout",
     "output_type": "stream",
     "text": [
      "\n"
     ]
    },
    {
     "name": "stdout",
     "output_type": "stream",
     "text": [
      "random_state=58"
     ]
    },
    {
     "name": "stdout",
     "output_type": "stream",
     "text": [
      "random_state=58"
     ]
    },
    {
     "name": "stdout",
     "output_type": "stream",
     "text": [
      "\n"
     ]
    },
    {
     "name": "stdout",
     "output_type": "stream",
     "text": [
      "\n"
     ]
    },
    {
     "name": "stdout",
     "output_type": "stream",
     "text": [
      "metrics={'accuracy': 0.8565780469878602, 'precision': 0.857732744655846, 'recall': 0.9982182595130895, 'f1': 0.9226585029179023}\n"
     ]
    },
    {
     "name": "stdout",
     "output_type": "stream",
     "text": [
      "\n"
     ]
    },
    {
     "name": "stdout",
     "output_type": "stream",
     "text": [
      "Confusion matrix:\n",
      "[[   172  22395]\n",
      " [   241 135020]]\n"
     ]
    },
    {
     "name": "stdout",
     "output_type": "stream",
     "text": [
      "\n"
     ]
    },
    {
     "name": "stdout",
     "output_type": "stream",
     "text": [
      "Classification report:"
     ]
    },
    {
     "name": "stdout",
     "output_type": "stream",
     "text": [
      "\n"
     ]
    },
    {
     "name": "stdout",
     "output_type": "stream",
     "text": [
      "              precision    recall  f1-score   support\n",
      "\n",
      "       False       0.42      0.01      0.01     22567\n",
      "        True       0.86      1.00      0.92    135261\n",
      "\n",
      "    accuracy                           0.86    157828\n",
      "   macro avg       0.64      0.50      0.47    157828\n",
      "weighted avg       0.79      0.86      0.79    157828\n"
     ]
    },
    {
     "name": "stdout",
     "output_type": "stream",
     "text": [
      "\n"
     ]
    },
    {
     "name": "stdout",
     "output_type": "stream",
     "text": [
      "metrics={'accuracy': 0.8556203944825663, 'precision': 0.8569331842325971, 'recall': 0.9980020867094368, 'f1': 0.922103449572521}\n"
     ]
    },
    {
     "name": "stdout",
     "output_type": "stream",
     "text": [
      "\n"
     ]
    },
    {
     "name": "stdout",
     "output_type": "stream",
     "text": [
      "Confusion matrix:\n",
      "[[   169  22517]\n",
      " [   270 134871]]\n"
     ]
    },
    {
     "name": "stdout",
     "output_type": "stream",
     "text": [
      "\n"
     ]
    },
    {
     "name": "stdout",
     "output_type": "stream",
     "text": [
      "Classification report:"
     ]
    },
    {
     "name": "stdout",
     "output_type": "stream",
     "text": [
      "\n"
     ]
    },
    {
     "name": "stdout",
     "output_type": "stream",
     "text": [
      "              precision    recall  f1-score   support\n",
      "\n",
      "       False       0.38      0.01      0.01     22686\n",
      "        True       0.86      1.00      0.92    135141\n",
      "\n",
      "    accuracy                           0.86    157827\n",
      "   macro avg       0.62      0.50      0.47    157827\n",
      "weighted avg       0.79      0.86      0.79    157827\n"
     ]
    },
    {
     "name": "stdout",
     "output_type": "stream",
     "text": [
      "\n"
     ]
    },
    {
     "name": "stdout",
     "output_type": "stream",
     "text": [
      "metrics={'accuracy': 0.8562856798900061, 'precision': 0.8575003970144514, 'recall': 0.9981588423628929, 'f1': 0.922498684507254}\n"
     ]
    },
    {
     "name": "stdout",
     "output_type": "stream",
     "text": [
      "\n"
     ]
    },
    {
     "name": "stdout",
     "output_type": "stream",
     "text": [
      "Confusion matrix:\n",
      "[[   153  22433]\n",
      " [   249 134992]]\n"
     ]
    },
    {
     "name": "stdout",
     "output_type": "stream",
     "text": [
      "\n"
     ]
    },
    {
     "name": "stdout",
     "output_type": "stream",
     "text": [
      "Classification report:"
     ]
    },
    {
     "name": "stdout",
     "output_type": "stream",
     "text": [
      "\n"
     ]
    },
    {
     "name": "stdout",
     "output_type": "stream",
     "text": [
      "              precision    recall  f1-score   support\n",
      "\n",
      "       False       0.38      0.01      0.01     22586\n",
      "        True       0.86      1.00      0.92    135241\n",
      "\n",
      "    accuracy                           0.86    157827\n",
      "   macro avg       0.62      0.50      0.47    157827\n",
      "weighted avg       0.79      0.86      0.79    157827\n"
     ]
    },
    {
     "name": "stdout",
     "output_type": "stream",
     "text": [
      "\n"
     ]
    },
    {
     "name": "stdout",
     "output_type": "stream",
     "text": [
      "metrics={'accuracy': 0.8580407661553473, 'precision': 0.8593630864636812, 'recall': 0.9980003099150685, 'f1': 0.9235076219251975}\n"
     ]
    },
    {
     "name": "stdout",
     "output_type": "stream",
     "text": [
      "\n"
     ]
    },
    {
     "name": "stdout",
     "output_type": "stream",
     "text": [
      "Confusion matrix:\n",
      "[[   172  22134]\n",
      " [   271 135250]]\n"
     ]
    },
    {
     "name": "stdout",
     "output_type": "stream",
     "text": [
      "\n"
     ]
    },
    {
     "name": "stdout",
     "output_type": "stream",
     "text": [
      "Classification report:"
     ]
    },
    {
     "name": "stdout",
     "output_type": "stream",
     "text": [
      "\n"
     ]
    },
    {
     "name": "stdout",
     "output_type": "stream",
     "text": [
      "metrics={'accuracy': 0.8553732884740887, 'precision': 0.8567235486207291, 'recall': 0.997972232911992, 'f1': 0.9219693292220179}\n"
     ]
    },
    {
     "name": "stdout",
     "output_type": "stream",
     "text": [
      "\n"
     ]
    },
    {
     "name": "stdout",
     "output_type": "stream",
     "text": [
      "Confusion matrix:\n",
      "[[   151  22552]\n",
      " [   274 134850]]\n"
     ]
    },
    {
     "name": "stdout",
     "output_type": "stream",
     "text": [
      "\n"
     ]
    },
    {
     "name": "stdout",
     "output_type": "stream",
     "text": [
      "Classification report:"
     ]
    },
    {
     "name": "stdout",
     "output_type": "stream",
     "text": [
      "\n"
     ]
    },
    {
     "name": "stdout",
     "output_type": "stream",
     "text": [
      "              precision    recall  f1-score   support\n",
      "\n",
      "       False       0.39      0.01      0.02     22306\n",
      "        True       0.86      1.00      0.92    135521\n",
      "\n",
      "    accuracy                           0.86    157827\n",
      "   macro avg       0.62      0.50      0.47    157827\n",
      "weighted avg       0.79      0.86      0.80    157827\n"
     ]
    },
    {
     "name": "stdout",
     "output_type": "stream",
     "text": [
      "\n"
     ]
    },
    {
     "name": "stdout",
     "output_type": "stream",
     "text": [
      "              precision    recall  f1-score   support\n",
      "\n",
      "       False       0.36      0.01      0.01     22703\n",
      "        True       0.86      1.00      0.92    135124\n",
      "\n",
      "    accuracy                           0.86    157827\n",
      "   macro avg       0.61      0.50      0.47    157827\n",
      "weighted avg       0.78      0.86      0.79    157827\n"
     ]
    },
    {
     "name": "stdout",
     "output_type": "stream",
     "text": [
      "\n"
     ]
    },
    {
     "name": "stdout",
     "output_type": "stream",
     "text": [
      "Performance of 'FeatureGroups.IDEco'\n",
      "['InversedDependencyEcosystemExperienceSubmitterPullRequestSuccessRate', 'ln(1 + InversedDependencyEcosystemExperienceSubmitterPullRequestSubmissionCount)', 'ln(1 + InversedDependencyEcosystemExperienceSubmitterPullRequestCommentCount)', 'ln(1 + InversedDependencyEcosystemExperienceSubmitterIssueSubmissionCount)', 'ln(1 + InversedDependencyEcosystemExperienceSubmitterIssueCommentCount)']\n",
      "f1_scores=[0.9226585029179023, 0.922103449572521, 0.922498684507254, 0.9235076219251975, 0.9219693292220179]\n",
      "f1_mean=0.9225475176289784, f1_std=0.0005418488609312877\n",
      "\n",
      "Reverse ablation with \"FeatureGroups.NDEco\", including: ['NonDependencyEcosystemExperienceSubmitterPullRequestSuccessRate', 'ln(1 + NonDependencyEcosystemExperienceSubmitterPullRequestSubmissionCount)', 'ln(1 + NonDependencyEcosystemExperienceSubmitterPullRequestCommentCount)', 'ln(1 + NonDependencyEcosystemExperienceSubmitterIssueSubmissionCount)', 'ln(1 + NonDependencyEcosystemExperienceSubmitterIssueCommentCount)'].\n"
     ]
    },
    {
     "name": "stdout",
     "output_type": "stream",
     "text": [
      "random_state=60"
     ]
    },
    {
     "name": "stdout",
     "output_type": "stream",
     "text": [
      "\n"
     ]
    },
    {
     "name": "stdout",
     "output_type": "stream",
     "text": [
      "random_state=60"
     ]
    },
    {
     "name": "stdout",
     "output_type": "stream",
     "text": [
      "\n"
     ]
    },
    {
     "name": "stdout",
     "output_type": "stream",
     "text": [
      "random_state=60"
     ]
    },
    {
     "name": "stdout",
     "output_type": "stream",
     "text": [
      "\n"
     ]
    },
    {
     "name": "stdout",
     "output_type": "stream",
     "text": [
      "random_state=60"
     ]
    },
    {
     "name": "stdout",
     "output_type": "stream",
     "text": [
      "random_state=60"
     ]
    },
    {
     "name": "stdout",
     "output_type": "stream",
     "text": [
      "\n"
     ]
    },
    {
     "name": "stdout",
     "output_type": "stream",
     "text": [
      "\n"
     ]
    },
    {
     "name": "stdout",
     "output_type": "stream",
     "text": [
      "metrics={'accuracy': 0.8536878987752412, 'precision': 0.863832988527365, 'recall': 0.9845076981070713, 'f1': 0.9202310301707164}\n"
     ]
    },
    {
     "name": "stdout",
     "output_type": "stream",
     "text": [
      "\n"
     ]
    },
    {
     "name": "stdout",
     "output_type": "stream",
     "text": [
      "Confusion matrix:\n",
      "[[  1538  20996]\n",
      " [  2096 133197]]\n"
     ]
    },
    {
     "name": "stdout",
     "output_type": "stream",
     "text": [
      "\n"
     ]
    },
    {
     "name": "stdout",
     "output_type": "stream",
     "text": [
      "Classification report:"
     ]
    },
    {
     "name": "stdout",
     "output_type": "stream",
     "text": [
      "metrics={'accuracy': 0.8548537322511357, 'precision': 0.8644969762181012, 'recall': 0.9852040627885503, 'f1': 0.9209119909408532}\n"
     ]
    },
    {
     "name": "stdout",
     "output_type": "stream",
     "text": [
      "\n"
     ]
    },
    {
     "name": "stdout",
     "output_type": "stream",
     "text": [
      "\n"
     ]
    },
    {
     "name": "stdout",
     "output_type": "stream",
     "text": [
      "Confusion matrix:\n",
      "[[  1547  20905]\n",
      " [  2003 133372]]\n"
     ]
    },
    {
     "name": "stdout",
     "output_type": "stream",
     "text": [
      "\n"
     ]
    },
    {
     "name": "stdout",
     "output_type": "stream",
     "text": [
      "Classification report:"
     ]
    },
    {
     "name": "stdout",
     "output_type": "stream",
     "text": [
      "\n"
     ]
    },
    {
     "name": "stdout",
     "output_type": "stream",
     "text": [
      "              precision    recall  f1-score   support\n",
      "\n",
      "       False       0.42      0.07      0.12     22534\n",
      "        True       0.86      0.98      0.92    135293\n",
      "\n",
      "    accuracy                           0.85    157827\n",
      "   macro avg       0.64      0.53      0.52    157827\n",
      "weighted avg       0.80      0.85      0.81    157827\n"
     ]
    },
    {
     "name": "stdout",
     "output_type": "stream",
     "text": [
      "\n"
     ]
    },
    {
     "name": "stdout",
     "output_type": "stream",
     "text": [
      "              precision    recall  f1-score   support\n",
      "\n",
      "       False       0.44      0.07      0.12     22452\n",
      "        True       0.86      0.99      0.92    135375\n",
      "\n",
      "    accuracy                           0.85    157827\n",
      "   macro avg       0.65      0.53      0.52    157827\n",
      "weighted avg       0.80      0.85      0.81    157827\n"
     ]
    },
    {
     "name": "stdout",
     "output_type": "stream",
     "text": [
      "\n"
     ]
    },
    {
     "name": "stdout",
     "output_type": "stream",
     "text": [
      "metrics={'accuracy': 0.8534670654129812, 'precision': 0.8631426127083711, 'recall': 0.9851243092900944, 'f1': 0.9201081943767941}\n"
     ]
    },
    {
     "name": "stdout",
     "output_type": "stream",
     "text": [
      "\n"
     ]
    },
    {
     "name": "stdout",
     "output_type": "stream",
     "text": [
      "Confusion matrix:\n",
      "[[  1525  21116]\n",
      " [  2011 133176]]\n"
     ]
    },
    {
     "name": "stdout",
     "output_type": "stream",
     "text": [
      "\n"
     ]
    },
    {
     "name": "stdout",
     "output_type": "stream",
     "text": [
      "Classification report:"
     ]
    },
    {
     "name": "stdout",
     "output_type": "stream",
     "text": [
      "\n"
     ]
    },
    {
     "name": "stdout",
     "output_type": "stream",
     "text": [
      "              precision    recall  f1-score   support\n",
      "\n",
      "       False       0.43      0.07      0.12     22641\n",
      "        True       0.86      0.99      0.92    135187\n",
      "\n",
      "    accuracy                           0.85    157828\n",
      "   macro avg       0.65      0.53      0.52    157828\n",
      "weighted avg       0.80      0.85      0.80    157828\n"
     ]
    },
    {
     "name": "stdout",
     "output_type": "stream",
     "text": [
      "\n"
     ]
    },
    {
     "name": "stdout",
     "output_type": "stream",
     "text": [
      "metrics={'accuracy': 0.8550184695901208, 'precision': 0.8647350510452114, 'recall': 0.9851278605238478, 'f1': 0.9210137523472881}\n"
     ]
    },
    {
     "name": "stdout",
     "output_type": "stream",
     "text": [
      "\n"
     ]
    },
    {
     "name": "stdout",
     "output_type": "stream",
     "text": [
      "Confusion matrix:\n",
      "[[  1538  20868]\n",
      " [  2014 133407]]\n"
     ]
    },
    {
     "name": "stdout",
     "output_type": "stream",
     "text": [
      "\n"
     ]
    },
    {
     "name": "stdout",
     "output_type": "stream",
     "text": [
      "Classification report:"
     ]
    },
    {
     "name": "stdout",
     "output_type": "stream",
     "text": [
      "\n"
     ]
    },
    {
     "name": "stdout",
     "output_type": "stream",
     "text": [
      "metrics={'accuracy': 0.8527438271018267, 'precision': 0.8623399358122346, 'recall': 0.9851198411993008, 'f1': 0.9196499877267527}\n"
     ]
    },
    {
     "name": "stdout",
     "output_type": "stream",
     "text": [
      "\n"
     ]
    },
    {
     "name": "stdout",
     "output_type": "stream",
     "text": [
      "Confusion matrix:\n",
      "[[  1583  21232]\n",
      " [  2009 133003]]\n"
     ]
    },
    {
     "name": "stdout",
     "output_type": "stream",
     "text": [
      "\n"
     ]
    },
    {
     "name": "stdout",
     "output_type": "stream",
     "text": [
      "Classification report:"
     ]
    },
    {
     "name": "stdout",
     "output_type": "stream",
     "text": [
      "\n"
     ]
    },
    {
     "name": "stdout",
     "output_type": "stream",
     "text": [
      "              precision    recall  f1-score   support\n",
      "\n",
      "       False       0.43      0.07      0.12     22406\n",
      "        True       0.86      0.99      0.92    135421\n",
      "\n",
      "    accuracy                           0.86    157827\n",
      "   macro avg       0.65      0.53      0.52    157827\n",
      "weighted avg       0.80      0.86      0.81    157827\n"
     ]
    },
    {
     "name": "stdout",
     "output_type": "stream",
     "text": [
      "\n"
     ]
    },
    {
     "name": "stdout",
     "output_type": "stream",
     "text": [
      "              precision    recall  f1-score   support\n",
      "\n",
      "       False       0.44      0.07      0.12     22815\n",
      "        True       0.86      0.99      0.92    135012\n",
      "\n",
      "    accuracy                           0.85    157827\n",
      "   macro avg       0.65      0.53      0.52    157827\n",
      "weighted avg       0.80      0.85      0.80    157827\n"
     ]
    },
    {
     "name": "stdout",
     "output_type": "stream",
     "text": [
      "\n"
     ]
    },
    {
     "name": "stdout",
     "output_type": "stream",
     "text": [
      "Performance of 'FeatureGroups.NDEco'\n",
      "['NonDependencyEcosystemExperienceSubmitterPullRequestSuccessRate', 'ln(1 + NonDependencyEcosystemExperienceSubmitterPullRequestSubmissionCount)', 'ln(1 + NonDependencyEcosystemExperienceSubmitterPullRequestCommentCount)', 'ln(1 + NonDependencyEcosystemExperienceSubmitterIssueSubmissionCount)', 'ln(1 + NonDependencyEcosystemExperienceSubmitterIssueCommentCount)']\n",
      "f1_scores=[0.9202310301707164, 0.9209119909408532, 0.9201081943767941, 0.9210137523472881, 0.9196499877267527]\n",
      "f1_mean=0.9203829911124808, f1_std=0.0005125621700844762\n",
      "\n",
      "Reverse ablation with \"FeatureGroups.Coll\", including: ['ln(1 + WeightedEcosystemSecondOrderDegreeCentrality)', 'ln(1 + EcosystemLinkIntensity)'].\n"
     ]
    },
    {
     "name": "stdout",
     "output_type": "stream",
     "text": [
      "random_state=62"
     ]
    },
    {
     "name": "stdout",
     "output_type": "stream",
     "text": [
      "\n"
     ]
    },
    {
     "name": "stdout",
     "output_type": "stream",
     "text": [
      "random_state=62"
     ]
    },
    {
     "name": "stdout",
     "output_type": "stream",
     "text": [
      "\n"
     ]
    },
    {
     "name": "stdout",
     "output_type": "stream",
     "text": [
      "random_state=62"
     ]
    },
    {
     "name": "stdout",
     "output_type": "stream",
     "text": [
      "\n"
     ]
    },
    {
     "name": "stdout",
     "output_type": "stream",
     "text": [
      "random_state=62"
     ]
    },
    {
     "name": "stdout",
     "output_type": "stream",
     "text": [
      "random_state=62"
     ]
    },
    {
     "name": "stdout",
     "output_type": "stream",
     "text": [
      "\n"
     ]
    },
    {
     "name": "stdout",
     "output_type": "stream",
     "text": [
      "\n"
     ]
    },
    {
     "name": "stdout",
     "output_type": "stream",
     "text": [
      "metrics={'accuracy': 0.8401604288239655, 'precision': 0.8651811988017285, 'recall': 0.9639289063480695, 'f1': 0.9118895187401113}\n"
     ]
    },
    {
     "name": "stdout",
     "output_type": "stream",
     "text": [
      "\n"
     ]
    },
    {
     "name": "stdout",
     "output_type": "stream",
     "text": [
      "Confusion matrix:\n",
      "[[  2058  20342]\n",
      " [  4885 130542]]\n"
     ]
    },
    {
     "name": "stdout",
     "output_type": "stream",
     "text": [
      "\n"
     ]
    },
    {
     "name": "stdout",
     "output_type": "stream",
     "text": [
      "Classification report:"
     ]
    },
    {
     "name": "stdout",
     "output_type": "stream",
     "text": [
      "\n"
     ]
    },
    {
     "name": "stdout",
     "output_type": "stream",
     "text": [
      "              precision    recall  f1-score   support\n",
      "\n",
      "       False       0.30      0.09      0.14     22400\n",
      "        True       0.87      0.96      0.91    135427\n",
      "\n",
      "    accuracy                           0.84    157827\n",
      "   macro avg       0.58      0.53      0.53    157827\n",
      "weighted avg       0.78      0.84      0.80    157827\n"
     ]
    },
    {
     "name": "stdout",
     "output_type": "stream",
     "text": [
      "\n"
     ]
    },
    {
     "name": "stdout",
     "output_type": "stream",
     "text": [
      "metrics={'accuracy': 0.8390262756055681, 'precision': 0.8641132533154828, 'recall': 0.9637574565909981, 'f1': 0.9112193621883801}\n"
     ]
    },
    {
     "name": "stdout",
     "output_type": "stream",
     "text": [
      "\n"
     ]
    },
    {
     "name": "stdout",
     "output_type": "stream",
     "text": [
      "Confusion matrix:\n",
      "[[  2041  20503]\n",
      " [  4903 130380]]\n"
     ]
    },
    {
     "name": "stdout",
     "output_type": "stream",
     "text": [
      "\n"
     ]
    },
    {
     "name": "stdout",
     "output_type": "stream",
     "text": [
      "Classification report:"
     ]
    },
    {
     "name": "stdout",
     "output_type": "stream",
     "text": [
      "\n"
     ]
    },
    {
     "name": "stdout",
     "output_type": "stream",
     "text": [
      "              precision    recall  f1-score   support\n",
      "\n",
      "       False       0.29      0.09      0.14     22544\n",
      "        True       0.86      0.96      0.91    135283\n",
      "\n",
      "    accuracy                           0.84    157827\n",
      "   macro avg       0.58      0.53      0.52    157827\n",
      "weighted avg       0.78      0.84      0.80    157827\n"
     ]
    },
    {
     "name": "stdout",
     "output_type": "stream",
     "text": [
      "\n"
     ]
    },
    {
     "name": "stdout",
     "output_type": "stream",
     "text": [
      "metrics={'accuracy': 0.8390452837600664, 'precision': 0.8633774834437086, 'recall': 0.9646818555160089, 'f1': 0.9112227103231602}\n"
     ]
    },
    {
     "name": "stdout",
     "output_type": "stream",
     "text": [
      "\n"
     ]
    },
    {
     "name": "stdout",
     "output_type": "stream",
     "text": [
      "Confusion matrix:\n",
      "[[  2054  20630]\n",
      " [  4773 130370]]\n"
     ]
    },
    {
     "name": "stdout",
     "output_type": "stream",
     "text": [
      "\n"
     ]
    },
    {
     "name": "stdout",
     "output_type": "stream",
     "text": [
      "Classification report:"
     ]
    },
    {
     "name": "stdout",
     "output_type": "stream",
     "text": [
      "\n"
     ]
    },
    {
     "name": "stdout",
     "output_type": "stream",
     "text": [
      "              precision    recall  f1-score   support\n",
      "\n",
      "       False       0.30      0.09      0.14     22684\n",
      "        True       0.86      0.96      0.91    135143\n",
      "\n",
      "    accuracy                           0.84    157827\n",
      "   macro avg       0.58      0.53      0.53    157827\n",
      "weighted avg       0.78      0.84      0.80    157827\n"
     ]
    },
    {
     "name": "stdout",
     "output_type": "stream",
     "text": [
      "\n"
     ]
    },
    {
     "name": "stdout",
     "output_type": "stream",
     "text": [
      "metrics={'accuracy': 0.83933674212904, 'precision': 0.8636868994361648, 'recall': 0.9648182510405192, 'f1': 0.9114558780907684}\n"
     ]
    },
    {
     "name": "stdout",
     "output_type": "stream",
     "text": [
      "\n"
     ]
    },
    {
     "name": "stdout",
     "output_type": "stream",
     "text": [
      "Confusion matrix:\n",
      "[[  1960  20598]\n",
      " [  4759 130510]]\n"
     ]
    },
    {
     "name": "stdout",
     "output_type": "stream",
     "text": [
      "\n"
     ]
    },
    {
     "name": "stdout",
     "output_type": "stream",
     "text": [
      "Classification report:"
     ]
    },
    {
     "name": "stdout",
     "output_type": "stream",
     "text": [
      "\n"
     ]
    },
    {
     "name": "stdout",
     "output_type": "stream",
     "text": [
      "metrics={'accuracy': 0.8393440961046202, 'precision': 0.8633782495896648, 'recall': 0.9651317639051241, 'f1': 0.9114238005742991}\n"
     ]
    },
    {
     "name": "stdout",
     "output_type": "stream",
     "text": [
      "\n"
     ]
    },
    {
     "name": "stdout",
     "output_type": "stream",
     "text": [
      "Confusion matrix:\n",
      "[[  2019  20643]\n",
      " [  4713 130453]]\n"
     ]
    },
    {
     "name": "stdout",
     "output_type": "stream",
     "text": [
      "\n"
     ]
    },
    {
     "name": "stdout",
     "output_type": "stream",
     "text": [
      "Classification report:"
     ]
    },
    {
     "name": "stdout",
     "output_type": "stream",
     "text": [
      "\n"
     ]
    },
    {
     "name": "stdout",
     "output_type": "stream",
     "text": [
      "              precision    recall  f1-score   support\n",
      "\n",
      "       False       0.29      0.09      0.13     22558\n",
      "        True       0.86      0.96      0.91    135269\n",
      "\n",
      "    accuracy                           0.84    157827\n",
      "   macro avg       0.58      0.53      0.52    157827\n",
      "weighted avg       0.78      0.84      0.80    157827\n"
     ]
    },
    {
     "name": "stdout",
     "output_type": "stream",
     "text": [
      "\n"
     ]
    },
    {
     "name": "stdout",
     "output_type": "stream",
     "text": [
      "              precision    recall  f1-score   support\n",
      "\n",
      "       False       0.30      0.09      0.14     22662\n",
      "        True       0.86      0.97      0.91    135166\n",
      "\n",
      "    accuracy                           0.84    157828\n",
      "   macro avg       0.58      0.53      0.52    157828\n",
      "weighted avg       0.78      0.84      0.80    157828\n"
     ]
    },
    {
     "name": "stdout",
     "output_type": "stream",
     "text": [
      "\n"
     ]
    },
    {
     "name": "stdout",
     "output_type": "stream",
     "text": [
      "Performance of 'FeatureGroups.Coll'\n",
      "['ln(1 + WeightedEcosystemSecondOrderDegreeCentrality)', 'ln(1 + EcosystemLinkIntensity)']\n",
      "f1_scores=[0.9118895187401113, 0.9112193621883801, 0.9112227103231602, 0.9114558780907684, 0.9114238005742991]\n",
      "f1_mean=0.911442253983344, f1_std=0.0002443162206009794\n",
      "\n"
     ]
    }
   ],
   "source": [
    "rev_abl_results = dict()\n",
    "\n",
    "for cluster_name, cluster in var_groups.items():\n",
    "    print(f'Reverse ablation with \"{str(cluster_name)}\", including: {cluster}.')\n",
    "\n",
    "    # Creates models\n",
    "    f1_scores, f1_mean, f1_std = kfold_rf_evaluation(\n",
    "        df, cluster, k, pr_merged_key, seed_counter\n",
    "    )\n",
    "    rev_abl_results[cluster_name] = (f1_scores, f1_mean, f1_std)\n",
    "\n",
    "    print(\n",
    "        f\"Performance of '{cluster_name}'\\n{list(cluster)}\\n{f1_scores=}\\n{f1_mean=}, {f1_std=}\\n\"\n",
    "    )"
   ]
  },
  {
   "cell_type": "code",
   "execution_count": 19,
   "metadata": {
    "execution": {
     "iopub.execute_input": "2024-02-21T19:20:08.386879Z",
     "iopub.status.busy": "2024-02-21T19:20:08.386399Z",
     "iopub.status.idle": "2024-02-21T19:20:08.418536Z",
     "shell.execute_reply": "2024-02-21T19:20:08.417913Z"
    }
   },
   "outputs": [
    {
     "name": "stdout",
     "output_type": "stream",
     "text": [
      "Reverse cluster ablation results:\n",
      "Cluster 'FeatureGroups.Control':\n",
      "f1_scores=[0.9205523112870633, 0.9213481531508878, 0.9206705034523887, 0.9207558835476345, 0.9208634644192739]\n",
      "f1_mean=0.9208380631714496, f1_std=0.00027470744437194\n",
      "\n",
      "Cluster 'FeatureGroups.Intra':\n",
      "f1_scores=[0.9254374102084043, 0.9248356372218476, 0.9235709110859457, 0.9249918343407241, 0.9238486605055665]\n",
      "f1_mean=0.9245368906724976, f1_std=0.0007090748903841645\n",
      "\n",
      "Cluster 'FeatureGroups.Eco':\n",
      "f1_scores=[0.9205585510853034, 0.9206520423862125, 0.9201181181319632, 0.9197324761868514, 0.9201139451431575]\n",
      "f1_mean=0.9202350265866975, f1_std=0.00033450126618201785\n",
      "\n",
      "Cluster 'FeatureGroups.DEco':\n",
      "f1_scores=[0.9229665464086585, 0.9220079807695596, 0.9235055897397373, 0.9223805176911426, 0.9217140883174806]\n",
      "f1_mean=0.9225149445853159, f1_std=0.0006483480070023076\n",
      "\n",
      "Cluster 'FeatureGroups.IDEco':\n",
      "f1_scores=[0.9226585029179023, 0.922103449572521, 0.922498684507254, 0.9235076219251975, 0.9219693292220179]\n",
      "f1_mean=0.9225475176289784, f1_std=0.0005418488609312877\n",
      "\n",
      "Cluster 'FeatureGroups.NDEco':\n",
      "f1_scores=[0.9202310301707164, 0.9209119909408532, 0.9201081943767941, 0.9210137523472881, 0.9196499877267527]\n",
      "f1_mean=0.9203829911124808, f1_std=0.0005125621700844762\n",
      "\n",
      "Cluster 'FeatureGroups.Coll':\n",
      "f1_scores=[0.9118895187401113, 0.9112193621883801, 0.9112227103231602, 0.9114558780907684, 0.9114238005742991]\n",
      "f1_mean=0.911442253983344, f1_std=0.0002443162206009794\n",
      "\n"
     ]
    }
   ],
   "source": [
    "# Prints summarized results again for clarity.\n",
    "print(\"Reverse cluster ablation results:\")\n",
    "for cluster_name, (f1_scores, f1_mean, f1_std) in rev_abl_results.items():\n",
    "    print(f\"Cluster '{cluster_name}':\\n{f1_scores=}\\n{f1_mean=}, {f1_std=}\\n\")"
   ]
  },
  {
   "cell_type": "markdown",
   "metadata": {},
   "source": [
    "### Probability Guesser\n",
    "\n",
    "Guesses the outcome by simply considering the probability of a merged pull request.\n",
    "Technically, an RF model performs somewhat well when its performance scores are ``> 0.5`` as there are only two possible outcomes.\n",
    "However, they actually mean anything once it's better than a simple probability guesser."
   ]
  },
  {
   "cell_type": "code",
   "execution_count": 20,
   "metadata": {
    "execution": {
     "iopub.execute_input": "2024-02-21T19:20:08.421312Z",
     "iopub.status.busy": "2024-02-21T19:20:08.420847Z",
     "iopub.status.idle": "2024-02-21T19:20:08.822944Z",
     "shell.execute_reply": "2024-02-21T19:20:08.822411Z"
    }
   },
   "outputs": [
    {
     "name": "stdout",
     "output_type": "stream",
     "text": [
      "Probability guesser metrics with probability_true=0.8569980332921068.\n",
      "{\n",
      "    \"accuracy\": 0.7546316242998707,\n",
      "    \"precision\": 0.8569676189350162,\n",
      "    \"recall\": 0.8568789714792375,\n",
      "    \"f1\": 0.8569232929145146\n",
      "}\n"
     ]
    }
   ],
   "source": [
    "import random\n",
    "\n",
    "from python_proj.modelling.notebooks.random_forest.rf_functions import calculate_metrics\n",
    "\n",
    "random.seed(seed_counter.get_next())\n",
    "\n",
    "probability_true = class_imbalance / (class_imbalance + 1)\n",
    "\n",
    "predictions = [random.random() < probability_true for _ in range(len(test_dependent))]\n",
    "metrics = calculate_metrics(predictions, test_dependent)\n",
    "\n",
    "print(f\"Probability guesser metrics with {probability_true=}.\")\n",
    "print(json.dumps(metrics, indent=4))"
   ]
  },
  {
   "cell_type": "code",
   "execution_count": 21,
   "metadata": {
    "execution": {
     "iopub.execute_input": "2024-02-21T19:20:08.826635Z",
     "iopub.status.busy": "2024-02-21T19:20:08.826353Z",
     "iopub.status.idle": "2024-02-21T19:20:08.865298Z",
     "shell.execute_reply": "2024-02-21T19:20:08.864593Z"
    }
   },
   "outputs": [
    {
     "name": "stdout",
     "output_type": "stream",
     "text": [
      "2024-02-21 19:20:08.862810\n"
     ]
    }
   ],
   "source": [
    "import datetime\n",
    "\n",
    "print(datetime.datetime.now())"
   ]
  }
 ],
 "metadata": {
  "kernelspec": {
   "display_name": "Python 3",
   "language": "python",
   "name": "python3"
  },
  "language_info": {
   "codemirror_mode": {
    "name": "ipython",
    "version": 3
   },
   "file_extension": ".py",
   "mimetype": "text/x-python",
   "name": "python",
   "nbconvert_exporter": "python",
   "pygments_lexer": "ipython3",
   "version": "3.11.8"
  }
 },
 "nbformat": 4,
 "nbformat_minor": 2
}