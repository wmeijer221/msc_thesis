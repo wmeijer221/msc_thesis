{
 "cells": [
  {
   "cell_type": "markdown",
   "metadata": {},
   "source": [
    "# Feature importance plot\n",
    "\n",
    "Creates figures representing the feature importance of the FTC, nFTC and general random forest experiments."
   ]
  },
  {
   "cell_type": "markdown",
   "metadata": {},
   "source": [
    "## Data loading\n",
    "\n",
    "Loads the `.txt` files outputted by the experiment notebooks."
   ]
  },
  {
   "cell_type": "code",
   "execution_count": 46,
   "metadata": {},
   "outputs": [
    {
     "name": "stdout",
     "output_type": "stream",
     "text": [
      "Loading from \"/workspaces/msc_thesis/data//figures/modelling/dataset_transformed//rf_ftc/feature_importance.txt\".\n",
      "Loading from \"/workspaces/msc_thesis/data//figures/modelling/dataset_transformed//rf_nftc/feature_importance.txt\".\n",
      "Loading from \"/workspaces/msc_thesis/data//figures/modelling/dataset_transformed//rf_full/feature_importance.txt\".\n"
     ]
    }
   ],
   "source": [
    "%reload_ext autoreload\n",
    "%autoreload 2\n",
    "\n",
    "import python_proj.utils.exp_utils as exp_utils\n",
    "\n",
    "base_path = exp_utils.BASE_PATH\n",
    "file_name = \"dataset_transformed\"\n",
    "\n",
    "experiments = [\"rf_ftc\", \"rf_nftc\", \"rf_full\"]\n",
    "\n",
    "figure_base_path = f\"{base_path}/figures/modelling/{file_name}/\"\n",
    "\n",
    "data = {}\n",
    "for experiment in experiments:\n",
    "    data_file = f\"{figure_base_path}/{experiment}/feature_importance.txt\"\n",
    "    print(f'Loading from \"{data_file}\".')\n",
    "    with open(data_file, \"r\", encoding=\"utf-8\") as input_file:\n",
    "        data[experiment] = input_file.read()"
   ]
  },
  {
   "cell_type": "markdown",
   "metadata": {},
   "source": [
    "## Name mappings\n",
    "\n",
    "Translates experimental names to human readable ones."
   ]
  },
  {
   "cell_type": "code",
   "execution_count": 47,
   "metadata": {},
   "outputs": [],
   "source": [
    "# Feature mapping\n",
    "name_mapping = {\n",
    "    \"ln(1 + ControlPullRequestLifeTimeInMinutes)\": \"PR lifetime\",\n",
    "    \"ln(1 + ControlIntraProjectPullRequestExperienceOfIntegrator)\": \"Integrator exp.\",\n",
    "    \"IntraProjectSubmitterPullRequestSuccessRate\": \"Intra. PR merge rate\",\n",
    "    \"ln(1 + IntraProjectSubmitterPullRequestSubmissionCount)\": \"Intra. PRs\",\n",
    "    \"ln(1 + WeightedFirstOrderInDegreeCentrality)\": \"SO in-degree\",\n",
    "    \"ControlIntegratedBySameUser\": \"PR is self-integrated\",\n",
    "    \"ln(1 + WeightedFirstOrderOutDegreeCentrality)\": \"SO out-degree\",\n",
    "    \"ln(1 + ControlNumberOfCommitsInPullRequest)\": \"PR commit count\",\n",
    "    \"EcosystemExperienceSubmitterPullRequestSuccessRate\": \"Eco. PR merge rate\",\n",
    "    \"ControlPullRequestHasComments\": \"PR has comments\",\n",
    "    \"ln(1 + IntraProjectSubmitterPullRequestCommentCount)\": \"Intra. PR comments\",\n",
    "    \"ln(1 + IntraProjectSubmitterIssueCommentCount)\": \"Intra. Issue Comments\",\n",
    "    \"ln(1 + SubmitterToIntegratorLinkIntensity)\": \"Sub-to-int link\",\n",
    "    \"ln(1 + EcosystemExperienceSubmitterIssueCommentCount)\": \"Eco. issue comments\",\n",
    "    \"ln(1 + NonDependencyEcosystemExperienceSubmitterIssueCommentCount)\": \"Non-dep. issue comments\",\n",
    "    \"SubmitterIsFirstTimeContributor\": \"First-time contr.\",\n",
    "    \"ln(1 + EcosystemExperienceSubmitterPullRequestSubmissionCount)\": \"Eco. PRs\",\n",
    "    \"ln(1 + EcosystemExperienceSubmitterPullRequestCommentCount)\": \"Eco. PR comments\",\n",
    "    \"ln(1 + NonDependencyEcosystemExperienceSubmitterPullRequestCommentCount)\": \"Non-dep. PR comments\",\n",
    "    \"ControlHasHashTagInDescription\": \"PR contains '#'\",\n",
    "    \"ln(1 + NonDependencyEcosystemExperienceSubmitterIssueSubmissionCount)\": \"Non-dep. issues\",\n",
    "    \"ln(1 + IntraProjectSubmitterIssueSubmissionCount)\": \"Intra. issues\",\n",
    "    \"ln(1 + EcosystemExperienceSubmitterIssueSubmissionCount)\": \"Eco. issues\",\n",
    "    \"ln(1 + NonDependencyEcosystemExperienceSubmitterPullRequestSubmissionCount)\": \"Non-dep. PRs\",\n",
    "    \"ln(1 + IntegratorToSubmitterLinkIntensity)\": \"Int-to-sub link\",\n",
    "    \"ControlPullRequestHasCommentByExternalUser\": \"PR has com. ext. contr.\",\n",
    "    \"NonDependencyEcosystemExperienceSubmitterPullRequestSuccessRate\": \"Non-dep PR merge rate\",\n",
    "    \"ln(1 + DependencyEcosystemExperienceSubmitterPullRequestCommentCount)\": \"Downstr. PR comments\",\n",
    "    \"ln(1 + DependencyEcosystemExperienceSubmitterPullRequestSubmissionCount)\": \"Downstr. PRs\",\n",
    "    \"ln(1 + DependencyEcosystemExperienceSubmitterIssueCommentCount)\": \"Downstr. issue comments\",\n",
    "    \"ln(1 + InversedDependencyEcosystemExperienceSubmitterIssueCommentCount)\": \"Upstr. issue comments\",\n",
    "    \"DependencyEcosystemExperienceSubmitterPullRequestSuccessRate\": \"Downstr. PR merge rate\",\n",
    "    \"ln(1 + InversedDependencyEcosystemExperienceSubmitterPullRequestCommentCount)\": \"Upstr. PR comments\",\n",
    "    \"ln(1 + InversedDependencyEcosystemExperienceSubmitterPullRequestSubmissionCount)\": \"Upstr. PRs\",\n",
    "    \"InversedDependencyEcosystemExperienceSubmitterPullRequestSuccessRate\": \"Upstr. PR merge rate\",\n",
    "    \"ln(1 + DependencyEcosystemExperienceSubmitterIssueSubmissionCount)\": \"Downstr. issues\",\n",
    "    \"ln(1 + InversedDependencyEcosystemExperienceSubmitterIssueSubmissionCount)\": \"Upstr. issues\",\n",
    "}"
   ]
  },
  {
   "cell_type": "markdown",
   "metadata": {},
   "source": [
    "## Data parsing"
   ]
  },
  {
   "cell_type": "code",
   "execution_count": 48,
   "metadata": {},
   "outputs": [],
   "source": [
    "from wmeijer_utils.collections.safe_dict import SafeDict\n",
    "\n",
    "# parses the entries into separate dicts.\n",
    "importances = SafeDict(default_value=dict)\n",
    "\n",
    "for label, scores in data.items():\n",
    "    for entry in scores.split(\"\\n\"):\n",
    "        elements = entry.split(\":\")\n",
    "        field = elements[0].strip()\n",
    "        renamed_field = name_mapping[field]\n",
    "        score = float(elements[1].strip())\n",
    "        importances[label][renamed_field] = score\n",
    "\n",
    "full_importances = importances[\"rf_full\"]\n",
    "ftc_importances = importances[\"rf_ftc\"]\n",
    "non_ftc_importances = importances[\"rf_nftc\"]"
   ]
  },
  {
   "cell_type": "markdown",
   "metadata": {},
   "source": [
    "## Figure creation code"
   ]
  },
  {
   "cell_type": "code",
   "execution_count": 49,
   "metadata": {},
   "outputs": [],
   "source": [
    "from typing import Any\n",
    "import matplotlib.pyplot as plt\n",
    "from wmeijer_utils.pandas.figures.base import safe_save_fig\n",
    "\n",
    "\n",
    "from python_proj.utils.exp_utils import BASE_PATH\n",
    "\n",
    "\n",
    "def create_figure(max_entries: int):\n",
    "    # Creates dot plot.\n",
    "    sorted_full_importances = {\n",
    "        k: v for k, v in sorted(full_importances.items(), key=lambda item: -item[1])\n",
    "    }\n",
    "    sorted_full_importances = {\n",
    "        k: v\n",
    "        for i, (k, v) in enumerate(sorted_full_importances.items())\n",
    "        if i < max_entries\n",
    "    }\n",
    "    sorted_ftc_importances = [\n",
    "        ftc_importances[k] if k in non_ftc_importances else 0\n",
    "        for k in sorted_full_importances.keys()\n",
    "    ]\n",
    "    sorted_non_ftc_importances = [\n",
    "        non_ftc_importances[k] if k in non_ftc_importances else 0\n",
    "        for k in sorted_full_importances.keys()\n",
    "    ]\n",
    "    sorted_full_importances_keys = sorted_full_importances.keys()\n",
    "    sorted_full_importances = sorted_full_importances.values()\n",
    "\n",
    "    def inverse(series: list[Any]) -> list[Any]:\n",
    "        new_list = []\n",
    "        series = list(series)\n",
    "        length = len(series)\n",
    "        for i in range(length - 1, -1, -1):\n",
    "            new_list.append(series[i])\n",
    "        return new_list\n",
    "\n",
    "    sorted_full_importances = inverse(sorted_full_importances)\n",
    "    sorted_ftc_importances = inverse(sorted_ftc_importances)\n",
    "    sorted_non_ftc_importances = inverse(sorted_non_ftc_importances)\n",
    "    sorted_full_importances_keys = inverse(sorted_full_importances_keys)\n",
    "\n",
    "    # Increased width to provide more space for the left side\n",
    "    height = 1.75 / 10 * max_entries + 1.25\n",
    "    plt.figure(figsize=(5.35, height))\n",
    "\n",
    "    # Plot each data series\n",
    "    plt.plot(\n",
    "        sorted_full_importances,\n",
    "        sorted_full_importances_keys,\n",
    "        \"o\",\n",
    "        fillstyle=\"none\",\n",
    "        markersize=6,\n",
    "        label=\"Full\",\n",
    "    )\n",
    "    plt.plot(\n",
    "        sorted_ftc_importances,\n",
    "        sorted_full_importances_keys,\n",
    "        \"s\",\n",
    "        fillstyle=\"none\",\n",
    "        markersize=6,\n",
    "        label=\"FTC\",\n",
    "    )\n",
    "    plt.plot(\n",
    "        sorted_non_ftc_importances,\n",
    "        sorted_full_importances_keys,\n",
    "        \"D\",\n",
    "        fillstyle=\"none\",\n",
    "        markersize=6,\n",
    "        label=\"Non-FTC\",\n",
    "    )\n",
    "\n",
    "    # Add labels and title\n",
    "    plt.xlabel(\"Mean Decrease in Gini\")\n",
    "    plt.ylabel(\"Predictors\")\n",
    "    plt.subplots_adjust(left=0.45)\n",
    "\n",
    "    # Add a legend\n",
    "    plt.legend()\n",
    "\n",
    "    # Display the plot\n",
    "    plt.tight_layout()\n",
    "    # plt.show()\n",
    "\n",
    "    output_path = f\"{BASE_PATH}/figures/importance_figure_{max_entries}.png\"\n",
    "    print(f\"{output_path=}\")\n",
    "    safe_save_fig(output_path, output_format=['pdf', 'png'])\n",
    "\n",
    "    # plt.show()"
   ]
  },
  {
   "cell_type": "markdown",
   "metadata": {},
   "source": [
    "## Figure creation"
   ]
  },
  {
   "cell_type": "code",
   "execution_count": 50,
   "metadata": {},
   "outputs": [
    {
     "name": "stdout",
     "output_type": "stream",
     "text": [
      "output_path='/workspaces/msc_thesis/data//figures/importance_figure_10.png'\n"
     ]
    }
   ],
   "source": [
    "with plt.style.context('ggplot'):\n",
    "    create_figure(10)"
   ]
  },
  {
   "cell_type": "code",
   "execution_count": 51,
   "metadata": {},
   "outputs": [
    {
     "name": "stderr",
     "output_type": "stream",
     "text": [
      "/tmp/ipykernel_7970/1399998184.py:45: RuntimeWarning: More than 20 figures have been opened. Figures created through the pyplot interface (`matplotlib.pyplot.figure`) are retained until explicitly closed and may consume too much memory. (To control this warning, see the rcParam `figure.max_open_warning`). Consider using `matplotlib.pyplot.close()`.\n",
      "  plt.figure(figsize=(5.35, height))\n"
     ]
    },
    {
     "name": "stdout",
     "output_type": "stream",
     "text": [
      "output_path='/workspaces/msc_thesis/data//figures/importance_figure_37.png'\n"
     ]
    }
   ],
   "source": [
    "with plt.style.context('ggplot'):\n",
    "    create_figure(len(name_mapping))"
   ]
  }
 ],
 "metadata": {
  "kernelspec": {
   "display_name": "Python 3",
   "language": "python",
   "name": "python3"
  },
  "language_info": {
   "codemirror_mode": {
    "name": "ipython",
    "version": 3
   },
   "file_extension": ".py",
   "mimetype": "text/x-python",
   "name": "python",
   "nbconvert_exporter": "python",
   "pygments_lexer": "ipython3",
   "version": "3.11.7"
  }
 },
 "nbformat": 4,
 "nbformat_minor": 2
}
