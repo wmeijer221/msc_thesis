{
 "cells": [
  {
   "cell_type": "markdown",
   "metadata": {},
   "source": [
    "# Feature importance plot\n",
    "\n",
    "Creates figures representing the feature importance of the FTC, nFTC and general random forest experiments."
   ]
  },
  {
   "cell_type": "markdown",
   "metadata": {},
   "source": [
    "## Data loading\n",
    "\n",
    "Loads the `.txt` files outputted by the experiment notebooks."
   ]
  },
  {
   "cell_type": "code",
   "execution_count": 1,
   "metadata": {
    "execution": {
     "iopub.execute_input": "2024-02-21T19:20:10.800088Z",
     "iopub.status.busy": "2024-02-21T19:20:10.799866Z",
     "iopub.status.idle": "2024-02-21T19:20:11.379345Z",
     "shell.execute_reply": "2024-02-21T19:20:11.378731Z"
    }
   },
   "outputs": [
    {
     "name": "stdout",
     "output_type": "stream",
     "text": [
      "Loading from \"./data//figures/modelling/dataset_transformed//rf_ftc/feature_importance.txt\".\n",
      "Loading from \"./data//figures/modelling/dataset_transformed//rf_nftc/feature_importance.txt\".\n",
      "Loading from \"./data//figures/modelling/dataset_transformed//rf_full/feature_importance.txt\".\n"
     ]
    }
   ],
   "source": [
    "%reload_ext autoreload\n",
    "%autoreload 2\n",
    "\n",
    "import python_proj.utils.exp_utils as exp_utils\n",
    "\n",
    "base_path = exp_utils.BASE_PATH\n",
    "file_name = \"dataset_transformed\"\n",
    "\n",
    "experiments = [\"rf_ftc\", \"rf_nftc\", \"rf_full\"]\n",
    "\n",
    "figure_base_path = f\"{base_path}/figures/modelling/{file_name}/\"\n",
    "\n",
    "data = {}\n",
    "for experiment in experiments:\n",
    "    data_file = f\"{figure_base_path}/{experiment}/feature_importance.txt\"\n",
    "    print(f'Loading from \"{data_file}\".')\n",
    "    with open(data_file, \"r\", encoding=\"utf-8\") as input_file:\n",
    "        data[experiment] = input_file.read()"
   ]
  },
  {
   "cell_type": "markdown",
   "metadata": {},
   "source": [
    "## Name mappings\n",
    "\n",
    "Translates experimental names to human readable ones."
   ]
  },
  {
   "cell_type": "code",
   "execution_count": 2,
   "metadata": {
    "execution": {
     "iopub.execute_input": "2024-02-21T19:20:11.382527Z",
     "iopub.status.busy": "2024-02-21T19:20:11.382124Z",
     "iopub.status.idle": "2024-02-21T19:20:11.406484Z",
     "shell.execute_reply": "2024-02-21T19:20:11.405810Z"
    }
   },
   "outputs": [],
   "source": [
    "# Feature mapping\n",
    "name_mapping = {\n",
    "    \"ln(1 + ControlPullRequestLifeTimeInMinutes)\": \"PR lifetime\",\n",
    "    \"ln(1 + ControlIntraProjectPullRequestExperienceOfIntegrator)\": \"Integrator exp.\",\n",
    "    \"IntraProjectSubmitterPullRequestSuccessRate\": \"Intra. PR merge rate\",\n",
    "    \"ln(1 + IntraProjectSubmitterPullRequestSubmissionCount)\": \"Intra. PRs\",\n",
    "    \"ln(1 + WeightedEcosystemSecondOrderDegreeCentrality)\": \"SO degree\",\n",
    "    \"ControlIntegratedBySameUser\": \"PR is self-integrated\",\n",
    "    \"ln(1 + ControlNumberOfCommitsInPullRequest)\": \"PR commit count\",\n",
    "    \"EcosystemExperienceSubmitterPullRequestSuccessRate\": \"Eco. PR merge rate\",\n",
    "    \"ControlPullRequestHasComments\": \"PR has comments\",\n",
    "    \"ln(1 + IntraProjectSubmitterPullRequestCommentCount)\": \"Intra. PR comments\",\n",
    "    \"ln(1 + IntraProjectSubmitterIssueCommentCount)\": \"Intra. Issue Comments\",\n",
    "    \"ln(1 + EcosystemLinkIntensity)\": \"Link strength\",\n",
    "    \"ln(1 + EcosystemExperienceSubmitterIssueCommentCount)\": \"Eco. issue comments\",\n",
    "    \"ln(1 + NonDependencyEcosystemExperienceSubmitterIssueCommentCount)\": \"Non-dep. issue comments\",\n",
    "    \"SubmitterIsFirstTimeContributor\": \"First-time contr.\",\n",
    "    \"ln(1 + EcosystemExperienceSubmitterPullRequestSubmissionCount)\": \"Eco. PRs\",\n",
    "    \"ln(1 + EcosystemExperienceSubmitterPullRequestCommentCount)\": \"Eco. PR comments\",\n",
    "    \"ln(1 + NonDependencyEcosystemExperienceSubmitterPullRequestCommentCount)\": \"Non-dep. PR comments\",\n",
    "    \"ControlHasHashTagInDescription\": \"PR contains '#'\",\n",
    "    \"ln(1 + NonDependencyEcosystemExperienceSubmitterIssueSubmissionCount)\": \"Non-dep. issues\",\n",
    "    \"ln(1 + IntraProjectSubmitterIssueSubmissionCount)\": \"Intra. issues\",\n",
    "    \"ln(1 + EcosystemExperienceSubmitterIssueSubmissionCount)\": \"Eco. issues\",\n",
    "    \"ln(1 + NonDependencyEcosystemExperienceSubmitterPullRequestSubmissionCount)\": \"Non-dep. PRs\",\n",
    "    \"ControlPullRequestHasCommentByExternalUser\": \"PR has com. ext. contr.\",\n",
    "    \"NonDependencyEcosystemExperienceSubmitterPullRequestSuccessRate\": \"Non-dep PR merge rate\",\n",
    "    \"ln(1 + DependencyEcosystemExperienceSubmitterPullRequestCommentCount)\": \"Downstr. PR comments\",\n",
    "    \"ln(1 + DependencyEcosystemExperienceSubmitterPullRequestSubmissionCount)\": \"Downstr. PRs\",\n",
    "    \"ln(1 + DependencyEcosystemExperienceSubmitterIssueCommentCount)\": \"Downstr. issue comments\",\n",
    "    \"ln(1 + InversedDependencyEcosystemExperienceSubmitterIssueCommentCount)\": \"Upstr. issue comments\",\n",
    "    \"DependencyEcosystemExperienceSubmitterPullRequestSuccessRate\": \"Downstr. PR merge rate\",\n",
    "    \"ln(1 + InversedDependencyEcosystemExperienceSubmitterPullRequestCommentCount)\": \"Upstr. PR comments\",\n",
    "    \"ln(1 + InversedDependencyEcosystemExperienceSubmitterPullRequestSubmissionCount)\": \"Upstr. PRs\",\n",
    "    \"InversedDependencyEcosystemExperienceSubmitterPullRequestSuccessRate\": \"Upstr. PR merge rate\",\n",
    "    \"ln(1 + DependencyEcosystemExperienceSubmitterIssueSubmissionCount)\": \"Downstr. issues\",\n",
    "    \"ln(1 + InversedDependencyEcosystemExperienceSubmitterIssueSubmissionCount)\": \"Upstr. issues\",\n",
    "}"
   ]
  },
  {
   "cell_type": "markdown",
   "metadata": {},
   "source": [
    "## Data parsing"
   ]
  },
  {
   "cell_type": "code",
   "execution_count": 3,
   "metadata": {
    "execution": {
     "iopub.execute_input": "2024-02-21T19:20:11.409558Z",
     "iopub.status.busy": "2024-02-21T19:20:11.409277Z",
     "iopub.status.idle": "2024-02-21T19:20:11.431496Z",
     "shell.execute_reply": "2024-02-21T19:20:11.430846Z"
    }
   },
   "outputs": [],
   "source": [
    "from wmutils.collections.safe_dict import SafeDict\n",
    "\n",
    "# parses the entries into separate dicts.\n",
    "importances = SafeDict(default_value=dict)\n",
    "clean_importances = SafeDict(default_value=dict)\n",
    "\n",
    "for label, scores in data.items():\n",
    "    for entry in scores.split(\"\\n\"):\n",
    "        elements = entry.split(\":\")\n",
    "        field = elements[0].strip()\n",
    "        if len(field) == 0:\n",
    "            continue\n",
    "        renamed_field = name_mapping[field]\n",
    "        score = float(elements[1].strip())\n",
    "        importances[label][renamed_field] = score\n",
    "        clean_importances[label][field] = score\n",
    "\n",
    "full_importances = importances[\"rf_full\"]\n",
    "ftc_importances = importances[\"rf_ftc\"]\n",
    "non_ftc_importances = importances[\"rf_nftc\"]"
   ]
  },
  {
   "cell_type": "markdown",
   "metadata": {},
   "source": [
    "# Feature group comparison"
   ]
  },
  {
   "cell_type": "code",
   "execution_count": 4,
   "metadata": {
    "execution": {
     "iopub.execute_input": "2024-02-21T19:20:11.434238Z",
     "iopub.status.busy": "2024-02-21T19:20:11.433971Z",
     "iopub.status.idle": "2024-02-21T19:20:11.455228Z",
     "shell.execute_reply": "2024-02-21T19:20:11.454439Z"
    }
   },
   "outputs": [],
   "source": [
    "group_to_feature_prefix = {\"\"}\n",
    "\n",
    "exp_types = [\n",
    "    \"{group}SubmitterPullRequestSuccessRate\",\n",
    "    \"ln(1 + {group}SubmitterPullRequestSubmissionCount)\",\n",
    "    \"ln(1 + {group}SubmitterPullRequestCommentCount)\",\n",
    "    \"ln(1 + {group}SubmitterIssueSubmissionCount)\",\n",
    "    \"ln(1 + {group}SubmitterIssueCommentCount)\",\n",
    "\n",
    "]\n",
    "\n",
    "groups = [\n",
    "    \"IntraProject\",\n",
    "    \"EcosystemExperience\",\n",
    "    \"NonDependencyEcosystemExperience\",\n",
    "    \"DependencyEcosystemExperience\",\n",
    "    \"InversedDependencyEcosystemExperience\",\n",
    "]"
   ]
  },
  {
   "cell_type": "code",
   "execution_count": 5,
   "metadata": {
    "execution": {
     "iopub.execute_input": "2024-02-21T19:20:11.458487Z",
     "iopub.status.busy": "2024-02-21T19:20:11.458159Z",
     "iopub.status.idle": "2024-02-21T19:20:11.476876Z",
     "shell.execute_reply": "2024-02-21T19:20:11.476351Z"
    }
   },
   "outputs": [],
   "source": [
    "from typing import Dict\n",
    "\n",
    "\n",
    "def compare_feature_groups(\n",
    "    importances: Dict[str, float], group_a: str, group_b: str\n",
    ") -> None:\n",
    "    \"\"\"\n",
    "    Returns percentage of group a features\n",
    "    that score above group b features.\n",
    "    \"\"\"\n",
    "\n",
    "    higher = 0\n",
    "    total = 0\n",
    "\n",
    "    for exp_type in exp_types:\n",
    "        field_a = exp_type.format(group=group_a)\n",
    "        field_b = exp_type.format(group=group_b)\n",
    "\n",
    "        if field_a in importances and field_b in importances:\n",
    "            if importances[field_a] != 0 and importances[field_b] != 0:\n",
    "                if importances[field_a] > importances[field_b]:\n",
    "                    higher += 1\n",
    "\n",
    "                total += 1\n",
    "\n",
    "    rat = higher / total * 100\n",
    "    print(f\"{group_a} > {group_b}: {higher} / {total} = {rat:.2f}%\")"
   ]
  },
  {
   "cell_type": "code",
   "execution_count": 6,
   "metadata": {
    "execution": {
     "iopub.execute_input": "2024-02-21T19:20:11.479061Z",
     "iopub.status.busy": "2024-02-21T19:20:11.478881Z",
     "iopub.status.idle": "2024-02-21T19:20:11.496520Z",
     "shell.execute_reply": "2024-02-21T19:20:11.495990Z"
    }
   },
   "outputs": [],
   "source": [
    "def compare_feature_groups_in_model(model: str):\n",
    "    print(f\"{model=}\")\n",
    "    # Compare Ecosystem with Intra\n",
    "    compare_feature_groups(\n",
    "        clean_importances[model], \"IntraProject\", \"EcosystemExperience\"\n",
    "    )\n",
    "\n",
    "    #  Compare Upstream with non-dependency\n",
    "    compare_feature_groups(\n",
    "        clean_importances[model],\n",
    "        \"NonDependencyEcosystemExperience\",\n",
    "        \"InversedDependencyEcosystemExperience\",\n",
    "    )\n",
    "\n",
    "    # Compare downstream with non-dependency\n",
    "    compare_feature_groups(\n",
    "        clean_importances[model],\n",
    "        \"NonDependencyEcosystemExperience\",\n",
    "        \"DependencyEcosystemExperience\",\n",
    "    )\n",
    "\n",
    "    #  Compare Upstream with intra\n",
    "    compare_feature_groups(\n",
    "        clean_importances[model],\n",
    "        \"IntraProject\",\n",
    "        \"InversedDependencyEcosystemExperience\",\n",
    "    )\n",
    "\n",
    "    # Compare downstream with intra\n",
    "    compare_feature_groups(\n",
    "        clean_importances[model],\n",
    "        \"IntraProject\",\n",
    "        \"DependencyEcosystemExperience\",\n",
    "    )\n",
    "\n",
    "    # Compare non-dependency with intra\n",
    "    compare_feature_groups(\n",
    "        clean_importances[model],\n",
    "        \"IntraProject\",\n",
    "        \"NonDependencyEcosystemExperience\",\n",
    "    )\n",
    "\n",
    "    # Compare upstream with downstream\n",
    "    compare_feature_groups(\n",
    "        clean_importances[model],\n",
    "        \"DependencyEcosystemExperience\",\n",
    "        \"InversedDependencyEcosystemExperience\",\n",
    "    )\n",
    "\n",
    "    print()"
   ]
  },
  {
   "cell_type": "code",
   "execution_count": 7,
   "metadata": {
    "execution": {
     "iopub.execute_input": "2024-02-21T19:20:11.499399Z",
     "iopub.status.busy": "2024-02-21T19:20:11.499018Z",
     "iopub.status.idle": "2024-02-21T19:20:11.517994Z",
     "shell.execute_reply": "2024-02-21T19:20:11.517524Z"
    }
   },
   "outputs": [
    {
     "name": "stdout",
     "output_type": "stream",
     "text": [
      "model='rf_full'\n",
      "IntraProject > EcosystemExperience: 5 / 5 = 100.00%\n",
      "NonDependencyEcosystemExperience > InversedDependencyEcosystemExperience: 5 / 5 = 100.00%\n",
      "NonDependencyEcosystemExperience > DependencyEcosystemExperience: 5 / 5 = 100.00%\n",
      "IntraProject > InversedDependencyEcosystemExperience: 5 / 5 = 100.00%\n",
      "IntraProject > DependencyEcosystemExperience: 5 / 5 = 100.00%\n",
      "IntraProject > NonDependencyEcosystemExperience: 5 / 5 = 100.00%\n",
      "DependencyEcosystemExperience > InversedDependencyEcosystemExperience: 5 / 5 = 100.00%\n",
      "\n",
      "model='rf_ftc'\n",
      "IntraProject > EcosystemExperience: 1 / 3 = 33.33%\n",
      "NonDependencyEcosystemExperience > InversedDependencyEcosystemExperience: 5 / 5 = 100.00%\n",
      "NonDependencyEcosystemExperience > DependencyEcosystemExperience: 5 / 5 = 100.00%\n",
      "IntraProject > InversedDependencyEcosystemExperience: 3 / 3 = 100.00%\n",
      "IntraProject > DependencyEcosystemExperience: 3 / 3 = 100.00%\n",
      "IntraProject > NonDependencyEcosystemExperience: 1 / 3 = 33.33%\n",
      "DependencyEcosystemExperience > InversedDependencyEcosystemExperience: 2 / 5 = 40.00%\n",
      "\n",
      "model='rf_nftc'\n",
      "IntraProject > EcosystemExperience: 5 / 5 = 100.00%\n",
      "NonDependencyEcosystemExperience > InversedDependencyEcosystemExperience: 5 / 5 = 100.00%\n",
      "NonDependencyEcosystemExperience > DependencyEcosystemExperience: 5 / 5 = 100.00%\n",
      "IntraProject > InversedDependencyEcosystemExperience: 5 / 5 = 100.00%\n",
      "IntraProject > DependencyEcosystemExperience: 5 / 5 = 100.00%\n",
      "IntraProject > NonDependencyEcosystemExperience: 5 / 5 = 100.00%\n",
      "DependencyEcosystemExperience > InversedDependencyEcosystemExperience: 5 / 5 = 100.00%\n",
      "\n"
     ]
    }
   ],
   "source": [
    "compare_feature_groups_in_model(\"rf_full\")\n",
    "compare_feature_groups_in_model(\"rf_ftc\")\n",
    "compare_feature_groups_in_model(\"rf_nftc\")"
   ]
  },
  {
   "cell_type": "code",
   "execution_count": 8,
   "metadata": {
    "execution": {
     "iopub.execute_input": "2024-02-21T19:20:11.519768Z",
     "iopub.status.busy": "2024-02-21T19:20:11.519610Z",
     "iopub.status.idle": "2024-02-21T19:20:11.839947Z",
     "shell.execute_reply": "2024-02-21T19:20:11.839399Z"
    }
   },
   "outputs": [
    {
     "data": {
      "text/html": [
       "<div>\n",
       "<style scoped>\n",
       "    .dataframe tbody tr th:only-of-type {\n",
       "        vertical-align: middle;\n",
       "    }\n",
       "\n",
       "    .dataframe tbody tr th {\n",
       "        vertical-align: top;\n",
       "    }\n",
       "\n",
       "    .dataframe thead th {\n",
       "        text-align: right;\n",
       "    }\n",
       "</style>\n",
       "<table border=\"1\" class=\"dataframe\">\n",
       "  <thead>\n",
       "    <tr style=\"text-align: right;\">\n",
       "      <th></th>\n",
       "      <th>fields</th>\n",
       "      <th>rf_full</th>\n",
       "      <th>rf_ftc</th>\n",
       "      <th>rf_nftc</th>\n",
       "    </tr>\n",
       "  </thead>\n",
       "  <tbody>\n",
       "    <tr>\n",
       "      <th>0</th>\n",
       "      <td>Intra. PR merge rate</td>\n",
       "      <td>0.080008</td>\n",
       "      <td>0.000000</td>\n",
       "      <td>0.155171</td>\n",
       "    </tr>\n",
       "    <tr>\n",
       "      <th>1</th>\n",
       "      <td>Eco. PR merge rate</td>\n",
       "      <td>0.027723</td>\n",
       "      <td>0.031635</td>\n",
       "      <td>0.013947</td>\n",
       "    </tr>\n",
       "    <tr>\n",
       "      <th>2</th>\n",
       "      <td>Non-dep PR merge rate</td>\n",
       "      <td>0.006550</td>\n",
       "      <td>0.006900</td>\n",
       "      <td>0.006993</td>\n",
       "    </tr>\n",
       "    <tr>\n",
       "      <th>3</th>\n",
       "      <td>Downstr. PR merge rate</td>\n",
       "      <td>0.001385</td>\n",
       "      <td>0.002361</td>\n",
       "      <td>0.001711</td>\n",
       "    </tr>\n",
       "    <tr>\n",
       "      <th>4</th>\n",
       "      <td>Upstr. PR merge rate</td>\n",
       "      <td>0.001263</td>\n",
       "      <td>0.001722</td>\n",
       "      <td>0.001240</td>\n",
       "    </tr>\n",
       "    <tr>\n",
       "      <th>5</th>\n",
       "      <td>Intra. PRs</td>\n",
       "      <td>0.077307</td>\n",
       "      <td>0.000000</td>\n",
       "      <td>0.163734</td>\n",
       "    </tr>\n",
       "    <tr>\n",
       "      <th>6</th>\n",
       "      <td>Eco. PRs</td>\n",
       "      <td>0.012876</td>\n",
       "      <td>0.013942</td>\n",
       "      <td>0.011131</td>\n",
       "    </tr>\n",
       "    <tr>\n",
       "      <th>7</th>\n",
       "      <td>Non-dep. PRs</td>\n",
       "      <td>0.010554</td>\n",
       "      <td>0.012093</td>\n",
       "      <td>0.010304</td>\n",
       "    </tr>\n",
       "    <tr>\n",
       "      <th>8</th>\n",
       "      <td>Downstr. PRs</td>\n",
       "      <td>0.001725</td>\n",
       "      <td>0.001199</td>\n",
       "      <td>0.002435</td>\n",
       "    </tr>\n",
       "    <tr>\n",
       "      <th>9</th>\n",
       "      <td>Upstr. PRs</td>\n",
       "      <td>0.001379</td>\n",
       "      <td>0.001193</td>\n",
       "      <td>0.001612</td>\n",
       "    </tr>\n",
       "    <tr>\n",
       "      <th>10</th>\n",
       "      <td>Intra. PR comments</td>\n",
       "      <td>0.025961</td>\n",
       "      <td>0.018958</td>\n",
       "      <td>0.036742</td>\n",
       "    </tr>\n",
       "    <tr>\n",
       "      <th>11</th>\n",
       "      <td>Eco. PR comments</td>\n",
       "      <td>0.012956</td>\n",
       "      <td>0.015463</td>\n",
       "      <td>0.012010</td>\n",
       "    </tr>\n",
       "    <tr>\n",
       "      <th>12</th>\n",
       "      <td>Non-dep. PR comments</td>\n",
       "      <td>0.011802</td>\n",
       "      <td>0.014096</td>\n",
       "      <td>0.010742</td>\n",
       "    </tr>\n",
       "    <tr>\n",
       "      <th>13</th>\n",
       "      <td>Downstr. PR comments</td>\n",
       "      <td>0.001886</td>\n",
       "      <td>0.001324</td>\n",
       "      <td>0.002585</td>\n",
       "    </tr>\n",
       "    <tr>\n",
       "      <th>14</th>\n",
       "      <td>Upstr. PR comments</td>\n",
       "      <td>0.001355</td>\n",
       "      <td>0.001363</td>\n",
       "      <td>0.001393</td>\n",
       "    </tr>\n",
       "    <tr>\n",
       "      <th>15</th>\n",
       "      <td>Intra. issues</td>\n",
       "      <td>0.012406</td>\n",
       "      <td>0.010238</td>\n",
       "      <td>0.015761</td>\n",
       "    </tr>\n",
       "    <tr>\n",
       "      <th>16</th>\n",
       "      <td>Eco. issues</td>\n",
       "      <td>0.010585</td>\n",
       "      <td>0.013375</td>\n",
       "      <td>0.008787</td>\n",
       "    </tr>\n",
       "    <tr>\n",
       "      <th>17</th>\n",
       "      <td>Non-dep. issues</td>\n",
       "      <td>0.010791</td>\n",
       "      <td>0.013465</td>\n",
       "      <td>0.009148</td>\n",
       "    </tr>\n",
       "    <tr>\n",
       "      <th>18</th>\n",
       "      <td>Downstr. issues</td>\n",
       "      <td>0.001154</td>\n",
       "      <td>0.000892</td>\n",
       "      <td>0.001512</td>\n",
       "    </tr>\n",
       "    <tr>\n",
       "      <th>19</th>\n",
       "      <td>Upstr. issues</td>\n",
       "      <td>0.000928</td>\n",
       "      <td>0.000963</td>\n",
       "      <td>0.000931</td>\n",
       "    </tr>\n",
       "    <tr>\n",
       "      <th>20</th>\n",
       "      <td>Intra. Issue Comments</td>\n",
       "      <td>0.020923</td>\n",
       "      <td>0.016589</td>\n",
       "      <td>0.027728</td>\n",
       "    </tr>\n",
       "    <tr>\n",
       "      <th>21</th>\n",
       "      <td>Eco. issue comments</td>\n",
       "      <td>0.016349</td>\n",
       "      <td>0.020563</td>\n",
       "      <td>0.014104</td>\n",
       "    </tr>\n",
       "    <tr>\n",
       "      <th>22</th>\n",
       "      <td>Non-dep. issue comments</td>\n",
       "      <td>0.015357</td>\n",
       "      <td>0.019426</td>\n",
       "      <td>0.013029</td>\n",
       "    </tr>\n",
       "    <tr>\n",
       "      <th>23</th>\n",
       "      <td>Downstr. issue comments</td>\n",
       "      <td>0.001655</td>\n",
       "      <td>0.001263</td>\n",
       "      <td>0.002157</td>\n",
       "    </tr>\n",
       "    <tr>\n",
       "      <th>24</th>\n",
       "      <td>Upstr. issue comments</td>\n",
       "      <td>0.001572</td>\n",
       "      <td>0.001664</td>\n",
       "      <td>0.001552</td>\n",
       "    </tr>\n",
       "  </tbody>\n",
       "</table>\n",
       "</div>"
      ],
      "text/plain": [
       "                     fields   rf_full    rf_ftc   rf_nftc\n",
       "0      Intra. PR merge rate  0.080008  0.000000  0.155171\n",
       "1        Eco. PR merge rate  0.027723  0.031635  0.013947\n",
       "2     Non-dep PR merge rate  0.006550  0.006900  0.006993\n",
       "3    Downstr. PR merge rate  0.001385  0.002361  0.001711\n",
       "4      Upstr. PR merge rate  0.001263  0.001722  0.001240\n",
       "5                Intra. PRs  0.077307  0.000000  0.163734\n",
       "6                  Eco. PRs  0.012876  0.013942  0.011131\n",
       "7              Non-dep. PRs  0.010554  0.012093  0.010304\n",
       "8              Downstr. PRs  0.001725  0.001199  0.002435\n",
       "9                Upstr. PRs  0.001379  0.001193  0.001612\n",
       "10       Intra. PR comments  0.025961  0.018958  0.036742\n",
       "11         Eco. PR comments  0.012956  0.015463  0.012010\n",
       "12     Non-dep. PR comments  0.011802  0.014096  0.010742\n",
       "13     Downstr. PR comments  0.001886  0.001324  0.002585\n",
       "14       Upstr. PR comments  0.001355  0.001363  0.001393\n",
       "15            Intra. issues  0.012406  0.010238  0.015761\n",
       "16              Eco. issues  0.010585  0.013375  0.008787\n",
       "17          Non-dep. issues  0.010791  0.013465  0.009148\n",
       "18          Downstr. issues  0.001154  0.000892  0.001512\n",
       "19            Upstr. issues  0.000928  0.000963  0.000931\n",
       "20    Intra. Issue Comments  0.020923  0.016589  0.027728\n",
       "21      Eco. issue comments  0.016349  0.020563  0.014104\n",
       "22  Non-dep. issue comments  0.015357  0.019426  0.013029\n",
       "23  Downstr. issue comments  0.001655  0.001263  0.002157\n",
       "24    Upstr. issue comments  0.001572  0.001664  0.001552"
      ]
     },
     "execution_count": 8,
     "metadata": {},
     "output_type": "execute_result"
    }
   ],
   "source": [
    "import pandas as pd\n",
    "from itertools import product\n",
    "\n",
    "df = pd.DataFrame()\n",
    "\n",
    "# Get all relevant fields.\n",
    "fields = [field.format(group=group) for (field, group) in product(exp_types, groups)]\n",
    "fields = list(fields)\n",
    "models = [\"rf_full\", \"rf_ftc\", \"rf_nftc\"]\n",
    "\n",
    "# Set fields\n",
    "df[\"fields\"] = fields\n",
    "df[\"fields\"] = df[\"fields\"].transform(lambda x: name_mapping[x])\n",
    "\n",
    "# Set values\n",
    "for model in models:\n",
    "    df[model] = [clean_importances[model][field] for field in fields]\n",
    "\n",
    "df"
   ]
  },
  {
   "cell_type": "markdown",
   "metadata": {},
   "source": [
    "## Figure creation code"
   ]
  },
  {
   "cell_type": "code",
   "execution_count": 9,
   "metadata": {
    "execution": {
     "iopub.execute_input": "2024-02-21T19:20:11.843171Z",
     "iopub.status.busy": "2024-02-21T19:20:11.842728Z",
     "iopub.status.idle": "2024-02-21T19:20:11.874086Z",
     "shell.execute_reply": "2024-02-21T19:20:11.873472Z"
    }
   },
   "outputs": [],
   "source": [
    "from typing import Any\n",
    "import matplotlib.pyplot as plt\n",
    "from wmutils.pandas.figures.base import safe_save_fig\n",
    "\n",
    "\n",
    "from python_proj.utils.exp_utils import BASE_PATH\n",
    "\n",
    "\n",
    "def create_figure(max_entries: int):\n",
    "    # Creates dot plot.\n",
    "    sorted_full_importances = {\n",
    "        k: v for k, v in sorted(full_importances.items(), key=lambda item: -item[1])\n",
    "    }\n",
    "    sorted_full_importances = {\n",
    "        k: v\n",
    "        for i, (k, v) in enumerate(sorted_full_importances.items())\n",
    "        if i < max_entries\n",
    "    }\n",
    "    sorted_ftc_importances = [\n",
    "        ftc_importances[k] if k in non_ftc_importances else 0\n",
    "        for k in sorted_full_importances.keys()\n",
    "    ]\n",
    "    sorted_non_ftc_importances = [\n",
    "        non_ftc_importances[k] if k in non_ftc_importances else 0\n",
    "        for k in sorted_full_importances.keys()\n",
    "    ]\n",
    "    sorted_full_importances_keys = sorted_full_importances.keys()\n",
    "    sorted_full_importances = sorted_full_importances.values()\n",
    "\n",
    "    def inverse(series: list[Any]) -> list[Any]:\n",
    "        new_list = []\n",
    "        series = list(series)\n",
    "        length = len(series)\n",
    "        for i in range(length - 1, -1, -1):\n",
    "            new_list.append(series[i])\n",
    "        return new_list\n",
    "\n",
    "    sorted_full_importances = inverse(sorted_full_importances)\n",
    "    sorted_ftc_importances = inverse(sorted_ftc_importances)\n",
    "    sorted_non_ftc_importances = inverse(sorted_non_ftc_importances)\n",
    "    sorted_full_importances_keys = inverse(sorted_full_importances_keys)\n",
    "\n",
    "    # Increased width to provide more space for the left side\n",
    "    height = 1.75 / 10 * max_entries + 1.25\n",
    "    plt.figure(figsize=(5.35, height))\n",
    "\n",
    "    # Plot each data series\n",
    "    plt.plot(\n",
    "        sorted_full_importances,\n",
    "        sorted_full_importances_keys,\n",
    "        \"o\",\n",
    "        fillstyle=\"none\",\n",
    "        markersize=6,\n",
    "        label=\"Full\",\n",
    "    )\n",
    "    plt.plot(\n",
    "        sorted_ftc_importances,\n",
    "        sorted_full_importances_keys,\n",
    "        \"s\",\n",
    "        fillstyle=\"none\",\n",
    "        markersize=6,\n",
    "        label=\"FTC\",\n",
    "    )\n",
    "    plt.plot(\n",
    "        sorted_non_ftc_importances,\n",
    "        sorted_full_importances_keys,\n",
    "        \"D\",\n",
    "        fillstyle=\"none\",\n",
    "        markersize=6,\n",
    "        label=\"Non-FTC\",\n",
    "    )\n",
    "\n",
    "    # Add labels and title\n",
    "    plt.xlabel(\"Mean Decrease in Gini\")\n",
    "    plt.ylabel(\"Predictors\")\n",
    "    plt.subplots_adjust(left=0.45)\n",
    "\n",
    "    # Add a legend\n",
    "    plt.legend()\n",
    "\n",
    "    # Display the plot\n",
    "    plt.tight_layout()\n",
    "    # plt.show()\n",
    "\n",
    "    output_path = f\"{BASE_PATH}/figures/importance_figure_{max_entries}.png\"\n",
    "    print(f\"{output_path=}\")\n",
    "    safe_save_fig(output_path, output_format=['pdf', 'png'])\n",
    "\n",
    "    # plt.show()"
   ]
  },
  {
   "cell_type": "markdown",
   "metadata": {},
   "source": [
    "## Figure creation"
   ]
  },
  {
   "cell_type": "code",
   "execution_count": 10,
   "metadata": {
    "execution": {
     "iopub.execute_input": "2024-02-21T19:20:11.877163Z",
     "iopub.status.busy": "2024-02-21T19:20:11.876884Z",
     "iopub.status.idle": "2024-02-21T19:20:12.741554Z",
     "shell.execute_reply": "2024-02-21T19:20:12.740989Z"
    }
   },
   "outputs": [
    {
     "name": "stdout",
     "output_type": "stream",
     "text": [
      "output_path='./data//figures/importance_figure_10.png'\n"
     ]
    },
    {
     "data": {
      "image/png": "[encoded data removed]",
      "text/plain": [
       "<Figure size 535x300 with 1 Axes>"
      ]
     },
     "metadata": {},
     "output_type": "display_data"
    }
   ],
   "source": [
    "with plt.style.context('ggplot'):\n",
    "    create_figure(10)"
   ]
  },
  {
   "cell_type": "code",
   "execution_count": 11,
   "metadata": {
    "execution": {
     "iopub.execute_input": "2024-02-21T19:20:12.744313Z",
     "iopub.status.busy": "2024-02-21T19:20:12.744074Z",
     "iopub.status.idle": "2024-02-21T19:20:13.785312Z",
     "shell.execute_reply": "2024-02-21T19:20:13.781698Z"
    }
   },
   "outputs": [
    {
     "name": "stdout",
     "output_type": "stream",
     "text": [
      "output_path='./data//figures/importance_figure_35.png'\n"
     ]
    }
   ],
   "source": [
    "with plt.style.context('ggplot'):\n",
    "    create_figure(len(name_mapping))"
   ]
  }
 ],
 "metadata": {
  "kernelspec": {
   "display_name": "Python 3",
   "language": "python",
   "name": "python3"
  },
  "language_info": {
   "codemirror_mode": {
    "name": "ipython",
    "version": 3
   },
   "file_extension": ".py",
   "mimetype": "text/x-python",
   "name": "python",
   "nbconvert_exporter": "python",
   "pygments_lexer": "ipython3",
   "version": "3.11.8"
  }
 },
 "nbformat": 4,
 "nbformat_minor": 2
}
