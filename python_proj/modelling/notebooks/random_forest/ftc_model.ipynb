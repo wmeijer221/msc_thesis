{
 "cells": [
  {
   "cell_type": "code",
   "execution_count": 1,
   "metadata": {
    "execution": {
     "iopub.execute_input": "2024-02-21T11:01:54.749905Z",
     "iopub.status.busy": "2024-02-21T11:01:54.749738Z",
     "iopub.status.idle": "2024-02-21T11:01:54.768834Z",
     "shell.execute_reply": "2024-02-21T11:01:54.768493Z"
    }
   },
   "outputs": [],
   "source": [
    "# Forces the notebook to always reload packages.\n",
    "%reload_ext autoreload\n",
    "%autoreload 2"
   ]
  },
  {
   "cell_type": "markdown",
   "metadata": {},
   "source": [
    "## Dataset loading"
   ]
  },
  {
   "cell_type": "markdown",
   "metadata": {},
   "source": [
    "### Regular dataset loading"
   ]
  },
  {
   "cell_type": "code",
   "execution_count": 2,
   "metadata": {
    "execution": {
     "iopub.execute_input": "2024-02-21T11:01:54.770915Z",
     "iopub.status.busy": "2024-02-21T11:01:54.770770Z",
     "iopub.status.idle": "2024-02-21T11:01:55.090850Z",
     "shell.execute_reply": "2024-02-21T11:01:55.090433Z"
    }
   },
   "outputs": [],
   "source": [
    "from python_proj.utils.util import Counter\n",
    "import python_proj.utils.exp_utils as exp_utils\n",
    "\n",
    "# Defines a number of constants.\n",
    "\n",
    "file_name = \"dataset_transformed\"\n",
    "base_path = exp_utils.BASE_PATH\n",
    "data_path = f\"{base_path}/final_data/{file_name}.csv\"\n",
    "figure_base_path = f\"{base_path}/figures/modelling/{file_name}/rf_nftc/\"\n",
    "\n",
    "# Meta stuff.\n",
    "pr_merged_key = \"PullRequestIsMerged\"\n",
    "ftc_key = \"SubmitterIsFirstTimeContributor\"\n",
    "seed_counter = Counter()"
   ]
  },
  {
   "cell_type": "code",
   "execution_count": 3,
   "metadata": {
    "execution": {
     "iopub.execute_input": "2024-02-21T11:01:55.092774Z",
     "iopub.status.busy": "2024-02-21T11:01:55.092598Z",
     "iopub.status.idle": "2024-02-21T11:01:59.551360Z",
     "shell.execute_reply": "2024-02-21T11:01:59.550961Z"
    }
   },
   "outputs": [
    {
     "data": {
      "text/html": [
       "<div>\n",
       "<style scoped>\n",
       "    .dataframe tbody tr th:only-of-type {\n",
       "        vertical-align: middle;\n",
       "    }\n",
       "\n",
       "    .dataframe tbody tr th {\n",
       "        vertical-align: top;\n",
       "    }\n",
       "\n",
       "    .dataframe thead th {\n",
       "        text-align: right;\n",
       "    }\n",
       "</style>\n",
       "<table border=\"1\" class=\"dataframe\">\n",
       "  <thead>\n",
       "    <tr style=\"text-align: right;\">\n",
       "      <th></th>\n",
       "      <th>ID</th>\n",
       "      <th>Submitter ID</th>\n",
       "      <th>PR Number</th>\n",
       "      <th>IntraProjectSubmitterPullRequestSuccessRate</th>\n",
       "      <th>EcosystemExperienceSubmitterPullRequestSuccessRate</th>\n",
       "      <th>DependencyEcosystemExperienceSubmitterPullRequestSuccessRate</th>\n",
       "      <th>NonDependencyEcosystemExperienceSubmitterPullRequestSuccessRate</th>\n",
       "      <th>InversedDependencyEcosystemExperienceSubmitterPullRequestSuccessRate</th>\n",
       "      <th>ln(1 + ControlPullRequestLifeTimeInMinutes)</th>\n",
       "      <th>ln(1 + ControlNumberOfCommitsInPullRequest)</th>\n",
       "      <th>...</th>\n",
       "      <th>ln(1 + DependencyEcosystemExperienceSubmitterIssueSubmissionCount)</th>\n",
       "      <th>ln(1 + DependencyEcosystemExperienceSubmitterIssueCommentCount)</th>\n",
       "      <th>ln(1 + NonDependencyEcosystemExperienceSubmitterIssueSubmissionCount)</th>\n",
       "      <th>ln(1 + NonDependencyEcosystemExperienceSubmitterIssueCommentCount)</th>\n",
       "      <th>ln(1 + InversedDependencyEcosystemExperienceSubmitterIssueSubmissionCount)</th>\n",
       "      <th>ln(1 + InversedDependencyEcosystemExperienceSubmitterIssueCommentCount)</th>\n",
       "      <th>ln(1 + WeightedEcosystemSecondOrderDegreeCentrality)</th>\n",
       "      <th>ln(1 + WeightedIntraProjectSecondOrderDegreeCentrality)</th>\n",
       "      <th>ln(1 + EcosystemLinkIntensity)</th>\n",
       "      <th>ln(1 + IntraProjectLinkIntensity)</th>\n",
       "    </tr>\n",
       "  </thead>\n",
       "  <tbody>\n",
       "    <tr>\n",
       "      <th>count</th>\n",
       "      <td>1.216221e+06</td>\n",
       "      <td>1.216221e+06</td>\n",
       "      <td>1.216221e+06</td>\n",
       "      <td>1.216221e+06</td>\n",
       "      <td>1.216221e+06</td>\n",
       "      <td>1.216221e+06</td>\n",
       "      <td>1.216221e+06</td>\n",
       "      <td>1.216221e+06</td>\n",
       "      <td>1.216221e+06</td>\n",
       "      <td>1.216221e+06</td>\n",
       "      <td>...</td>\n",
       "      <td>1.216221e+06</td>\n",
       "      <td>1.216221e+06</td>\n",
       "      <td>1.216221e+06</td>\n",
       "      <td>1.216221e+06</td>\n",
       "      <td>1.216221e+06</td>\n",
       "      <td>1.216221e+06</td>\n",
       "      <td>1.216221e+06</td>\n",
       "      <td>1.216221e+06</td>\n",
       "      <td>1.216221e+06</td>\n",
       "      <td>1.216221e+06</td>\n",
       "    </tr>\n",
       "    <tr>\n",
       "      <th>mean</th>\n",
       "      <td>1.473092e+08</td>\n",
       "      <td>5.092504e+06</td>\n",
       "      <td>8.089130e+02</td>\n",
       "      <td>5.029367e-01</td>\n",
       "      <td>4.028501e-01</td>\n",
       "      <td>9.853429e-02</td>\n",
       "      <td>3.751776e-01</td>\n",
       "      <td>5.922709e-02</td>\n",
       "      <td>4.195426e-01</td>\n",
       "      <td>1.183858e-01</td>\n",
       "      <td>...</td>\n",
       "      <td>1.144450e-02</td>\n",
       "      <td>1.968795e-02</td>\n",
       "      <td>7.962418e-02</td>\n",
       "      <td>1.344287e-01</td>\n",
       "      <td>9.542167e-03</td>\n",
       "      <td>1.752697e-02</td>\n",
       "      <td>6.396780e-02</td>\n",
       "      <td>6.040052e-02</td>\n",
       "      <td>2.195312e-02</td>\n",
       "      <td>4.472791e-02</td>\n",
       "    </tr>\n",
       "    <tr>\n",
       "      <th>std</th>\n",
       "      <td>9.954409e+07</td>\n",
       "      <td>7.968202e+06</td>\n",
       "      <td>2.304617e+03</td>\n",
       "      <td>4.710606e-01</td>\n",
       "      <td>4.523397e-01</td>\n",
       "      <td>2.907111e-01</td>\n",
       "      <td>4.479337e-01</td>\n",
       "      <td>2.285036e-01</td>\n",
       "      <td>2.256901e-01</td>\n",
       "      <td>7.147764e-02</td>\n",
       "      <td>...</td>\n",
       "      <td>5.396848e-02</td>\n",
       "      <td>8.007560e-02</td>\n",
       "      <td>1.179799e-01</td>\n",
       "      <td>1.750052e-01</td>\n",
       "      <td>5.263118e-02</td>\n",
       "      <td>8.245257e-02</td>\n",
       "      <td>9.934566e-02</td>\n",
       "      <td>1.002992e-01</td>\n",
       "      <td>8.741610e-02</td>\n",
       "      <td>1.013945e-01</td>\n",
       "    </tr>\n",
       "    <tr>\n",
       "      <th>min</th>\n",
       "      <td>6.870000e+02</td>\n",
       "      <td>1.000000e+00</td>\n",
       "      <td>1.000000e+00</td>\n",
       "      <td>0.000000e+00</td>\n",
       "      <td>0.000000e+00</td>\n",
       "      <td>0.000000e+00</td>\n",
       "      <td>0.000000e+00</td>\n",
       "      <td>0.000000e+00</td>\n",
       "      <td>0.000000e+00</td>\n",
       "      <td>0.000000e+00</td>\n",
       "      <td>...</td>\n",
       "      <td>0.000000e+00</td>\n",
       "      <td>0.000000e+00</td>\n",
       "      <td>0.000000e+00</td>\n",
       "      <td>0.000000e+00</td>\n",
       "      <td>0.000000e+00</td>\n",
       "      <td>0.000000e+00</td>\n",
       "      <td>0.000000e+00</td>\n",
       "      <td>0.000000e+00</td>\n",
       "      <td>0.000000e+00</td>\n",
       "      <td>0.000000e+00</td>\n",
       "    </tr>\n",
       "    <tr>\n",
       "      <th>25%</th>\n",
       "      <td>5.924867e+07</td>\n",
       "      <td>4.674710e+05</td>\n",
       "      <td>5.000000e+01</td>\n",
       "      <td>0.000000e+00</td>\n",
       "      <td>0.000000e+00</td>\n",
       "      <td>0.000000e+00</td>\n",
       "      <td>0.000000e+00</td>\n",
       "      <td>0.000000e+00</td>\n",
       "      <td>2.365158e-01</td>\n",
       "      <td>7.525668e-02</td>\n",
       "      <td>...</td>\n",
       "      <td>0.000000e+00</td>\n",
       "      <td>0.000000e+00</td>\n",
       "      <td>0.000000e+00</td>\n",
       "      <td>0.000000e+00</td>\n",
       "      <td>0.000000e+00</td>\n",
       "      <td>0.000000e+00</td>\n",
       "      <td>0.000000e+00</td>\n",
       "      <td>0.000000e+00</td>\n",
       "      <td>0.000000e+00</td>\n",
       "      <td>0.000000e+00</td>\n",
       "    </tr>\n",
       "    <tr>\n",
       "      <th>50%</th>\n",
       "      <td>1.366714e+08</td>\n",
       "      <td>1.633887e+06</td>\n",
       "      <td>1.990000e+02</td>\n",
       "      <td>6.800000e-01</td>\n",
       "      <td>0.000000e+00</td>\n",
       "      <td>0.000000e+00</td>\n",
       "      <td>0.000000e+00</td>\n",
       "      <td>0.000000e+00</td>\n",
       "      <td>4.433349e-01</td>\n",
       "      <td>7.525668e-02</td>\n",
       "      <td>...</td>\n",
       "      <td>0.000000e+00</td>\n",
       "      <td>0.000000e+00</td>\n",
       "      <td>0.000000e+00</td>\n",
       "      <td>7.753347e-02</td>\n",
       "      <td>0.000000e+00</td>\n",
       "      <td>0.000000e+00</td>\n",
       "      <td>8.453635e-03</td>\n",
       "      <td>0.000000e+00</td>\n",
       "      <td>0.000000e+00</td>\n",
       "      <td>0.000000e+00</td>\n",
       "    </tr>\n",
       "    <tr>\n",
       "      <th>75%</th>\n",
       "      <td>2.260994e+08</td>\n",
       "      <td>6.254382e+06</td>\n",
       "      <td>6.840000e+02</td>\n",
       "      <td>1.000000e+00</td>\n",
       "      <td>9.391304e-01</td>\n",
       "      <td>0.000000e+00</td>\n",
       "      <td>9.230769e-01</td>\n",
       "      <td>0.000000e+00</td>\n",
       "      <td>5.863557e-01</td>\n",
       "      <td>1.505134e-01</td>\n",
       "      <td>...</td>\n",
       "      <td>0.000000e+00</td>\n",
       "      <td>0.000000e+00</td>\n",
       "      <td>1.416667e-01</td>\n",
       "      <td>2.326004e-01</td>\n",
       "      <td>0.000000e+00</td>\n",
       "      <td>0.000000e+00</td>\n",
       "      <td>9.892883e-02</td>\n",
       "      <td>8.837267e-02</td>\n",
       "      <td>0.000000e+00</td>\n",
       "      <td>2.582313e-02</td>\n",
       "    </tr>\n",
       "    <tr>\n",
       "      <th>max</th>\n",
       "      <td>3.617756e+08</td>\n",
       "      <td>5.973444e+07</td>\n",
       "      <td>8.297600e+04</td>\n",
       "      <td>1.000000e+00</td>\n",
       "      <td>1.000000e+00</td>\n",
       "      <td>1.000000e+00</td>\n",
       "      <td>1.000000e+00</td>\n",
       "      <td>1.000000e+00</td>\n",
       "      <td>1.000000e+00</td>\n",
       "      <td>1.000000e+00</td>\n",
       "      <td>...</td>\n",
       "      <td>1.000000e+00</td>\n",
       "      <td>1.000000e+00</td>\n",
       "      <td>1.000000e+00</td>\n",
       "      <td>1.000000e+00</td>\n",
       "      <td>1.000000e+00</td>\n",
       "      <td>1.000000e+00</td>\n",
       "      <td>1.000000e+00</td>\n",
       "      <td>1.000000e+00</td>\n",
       "      <td>1.000000e+00</td>\n",
       "      <td>1.000000e+00</td>\n",
       "    </tr>\n",
       "  </tbody>\n",
       "</table>\n",
       "<p>8 rows × 35 columns</p>\n",
       "</div>"
      ],
      "text/plain": [
       "                 ID  Submitter ID     PR Number   \n",
       "count  1.216221e+06  1.216221e+06  1.216221e+06  \\\n",
       "mean   1.473092e+08  5.092504e+06  8.089130e+02   \n",
       "std    9.954409e+07  7.968202e+06  2.304617e+03   \n",
       "min    6.870000e+02  1.000000e+00  1.000000e+00   \n",
       "25%    5.924867e+07  4.674710e+05  5.000000e+01   \n",
       "50%    1.366714e+08  1.633887e+06  1.990000e+02   \n",
       "75%    2.260994e+08  6.254382e+06  6.840000e+02   \n",
       "max    3.617756e+08  5.973444e+07  8.297600e+04   \n",
       "\n",
       "       IntraProjectSubmitterPullRequestSuccessRate   \n",
       "count                                 1.216221e+06  \\\n",
       "mean                                  5.029367e-01   \n",
       "std                                   4.710606e-01   \n",
       "min                                   0.000000e+00   \n",
       "25%                                   0.000000e+00   \n",
       "50%                                   6.800000e-01   \n",
       "75%                                   1.000000e+00   \n",
       "max                                   1.000000e+00   \n",
       "\n",
       "       EcosystemExperienceSubmitterPullRequestSuccessRate   \n",
       "count                                       1.216221e+06   \\\n",
       "mean                                        4.028501e-01    \n",
       "std                                         4.523397e-01    \n",
       "min                                         0.000000e+00    \n",
       "25%                                         0.000000e+00    \n",
       "50%                                         0.000000e+00    \n",
       "75%                                         9.391304e-01    \n",
       "max                                         1.000000e+00    \n",
       "\n",
       "       DependencyEcosystemExperienceSubmitterPullRequestSuccessRate   \n",
       "count                                       1.216221e+06             \\\n",
       "mean                                        9.853429e-02              \n",
       "std                                         2.907111e-01              \n",
       "min                                         0.000000e+00              \n",
       "25%                                         0.000000e+00              \n",
       "50%                                         0.000000e+00              \n",
       "75%                                         0.000000e+00              \n",
       "max                                         1.000000e+00              \n",
       "\n",
       "       NonDependencyEcosystemExperienceSubmitterPullRequestSuccessRate   \n",
       "count                                       1.216221e+06                \\\n",
       "mean                                        3.751776e-01                 \n",
       "std                                         4.479337e-01                 \n",
       "min                                         0.000000e+00                 \n",
       "25%                                         0.000000e+00                 \n",
       "50%                                         0.000000e+00                 \n",
       "75%                                         9.230769e-01                 \n",
       "max                                         1.000000e+00                 \n",
       "\n",
       "       InversedDependencyEcosystemExperienceSubmitterPullRequestSuccessRate   \n",
       "count                                       1.216221e+06                     \\\n",
       "mean                                        5.922709e-02                      \n",
       "std                                         2.285036e-01                      \n",
       "min                                         0.000000e+00                      \n",
       "25%                                         0.000000e+00                      \n",
       "50%                                         0.000000e+00                      \n",
       "75%                                         0.000000e+00                      \n",
       "max                                         1.000000e+00                      \n",
       "\n",
       "       ln(1 + ControlPullRequestLifeTimeInMinutes)   \n",
       "count                                 1.216221e+06  \\\n",
       "mean                                  4.195426e-01   \n",
       "std                                   2.256901e-01   \n",
       "min                                   0.000000e+00   \n",
       "25%                                   2.365158e-01   \n",
       "50%                                   4.433349e-01   \n",
       "75%                                   5.863557e-01   \n",
       "max                                   1.000000e+00   \n",
       "\n",
       "       ln(1 + ControlNumberOfCommitsInPullRequest)  ...   \n",
       "count                                 1.216221e+06  ...  \\\n",
       "mean                                  1.183858e-01  ...   \n",
       "std                                   7.147764e-02  ...   \n",
       "min                                   0.000000e+00  ...   \n",
       "25%                                   7.525668e-02  ...   \n",
       "50%                                   7.525668e-02  ...   \n",
       "75%                                   1.505134e-01  ...   \n",
       "max                                   1.000000e+00  ...   \n",
       "\n",
       "       ln(1 + DependencyEcosystemExperienceSubmitterIssueSubmissionCount)   \n",
       "count                                       1.216221e+06                   \\\n",
       "mean                                        1.144450e-02                    \n",
       "std                                         5.396848e-02                    \n",
       "min                                         0.000000e+00                    \n",
       "25%                                         0.000000e+00                    \n",
       "50%                                         0.000000e+00                    \n",
       "75%                                         0.000000e+00                    \n",
       "max                                         1.000000e+00                    \n",
       "\n",
       "       ln(1 + DependencyEcosystemExperienceSubmitterIssueCommentCount)   \n",
       "count                                       1.216221e+06                \\\n",
       "mean                                        1.968795e-02                 \n",
       "std                                         8.007560e-02                 \n",
       "min                                         0.000000e+00                 \n",
       "25%                                         0.000000e+00                 \n",
       "50%                                         0.000000e+00                 \n",
       "75%                                         0.000000e+00                 \n",
       "max                                         1.000000e+00                 \n",
       "\n",
       "       ln(1 + NonDependencyEcosystemExperienceSubmitterIssueSubmissionCount)   \n",
       "count                                       1.216221e+06                      \\\n",
       "mean                                        7.962418e-02                       \n",
       "std                                         1.179799e-01                       \n",
       "min                                         0.000000e+00                       \n",
       "25%                                         0.000000e+00                       \n",
       "50%                                         0.000000e+00                       \n",
       "75%                                         1.416667e-01                       \n",
       "max                                         1.000000e+00                       \n",
       "\n",
       "       ln(1 + NonDependencyEcosystemExperienceSubmitterIssueCommentCount)   \n",
       "count                                       1.216221e+06                   \\\n",
       "mean                                        1.344287e-01                    \n",
       "std                                         1.750052e-01                    \n",
       "min                                         0.000000e+00                    \n",
       "25%                                         0.000000e+00                    \n",
       "50%                                         7.753347e-02                    \n",
       "75%                                         2.326004e-01                    \n",
       "max                                         1.000000e+00                    \n",
       "\n",
       "       ln(1 + InversedDependencyEcosystemExperienceSubmitterIssueSubmissionCount)   \n",
       "count                                       1.216221e+06                           \\\n",
       "mean                                        9.542167e-03                            \n",
       "std                                         5.263118e-02                            \n",
       "min                                         0.000000e+00                            \n",
       "25%                                         0.000000e+00                            \n",
       "50%                                         0.000000e+00                            \n",
       "75%                                         0.000000e+00                            \n",
       "max                                         1.000000e+00                            \n",
       "\n",
       "       ln(1 + InversedDependencyEcosystemExperienceSubmitterIssueCommentCount)   \n",
       "count                                       1.216221e+06                        \\\n",
       "mean                                        1.752697e-02                         \n",
       "std                                         8.245257e-02                         \n",
       "min                                         0.000000e+00                         \n",
       "25%                                         0.000000e+00                         \n",
       "50%                                         0.000000e+00                         \n",
       "75%                                         0.000000e+00                         \n",
       "max                                         1.000000e+00                         \n",
       "\n",
       "       ln(1 + WeightedEcosystemSecondOrderDegreeCentrality)   \n",
       "count                                       1.216221e+06     \\\n",
       "mean                                        6.396780e-02      \n",
       "std                                         9.934566e-02      \n",
       "min                                         0.000000e+00      \n",
       "25%                                         0.000000e+00      \n",
       "50%                                         8.453635e-03      \n",
       "75%                                         9.892883e-02      \n",
       "max                                         1.000000e+00      \n",
       "\n",
       "       ln(1 + WeightedIntraProjectSecondOrderDegreeCentrality)   \n",
       "count                                       1.216221e+06        \\\n",
       "mean                                        6.040052e-02         \n",
       "std                                         1.002992e-01         \n",
       "min                                         0.000000e+00         \n",
       "25%                                         0.000000e+00         \n",
       "50%                                         0.000000e+00         \n",
       "75%                                         8.837267e-02         \n",
       "max                                         1.000000e+00         \n",
       "\n",
       "       ln(1 + EcosystemLinkIntensity)  ln(1 + IntraProjectLinkIntensity)  \n",
       "count                    1.216221e+06                       1.216221e+06  \n",
       "mean                     2.195312e-02                       4.472791e-02  \n",
       "std                      8.741610e-02                       1.013945e-01  \n",
       "min                      0.000000e+00                       0.000000e+00  \n",
       "25%                      0.000000e+00                       0.000000e+00  \n",
       "50%                      0.000000e+00                       0.000000e+00  \n",
       "75%                      0.000000e+00                       2.582313e-02  \n",
       "max                      1.000000e+00                       1.000000e+00  \n",
       "\n",
       "[8 rows x 35 columns]"
      ]
     },
     "execution_count": 3,
     "metadata": {},
     "output_type": "execute_result"
    }
   ],
   "source": [
    "import pandas as pd\n",
    "import numpy as np\n",
    "import json\n",
    "\n",
    "\n",
    "# Loads regular dataframe.\n",
    "df: pd.DataFrame = pd.read_csv(filepath_or_buffer=data_path, header=0)\n",
    "\n",
    "# Creates sub-datasets.\n",
    "metadata_fields = [\"ID\", \"Project Name\", \"Submitter ID\", \"PR Number\", \"Closed At\"]\n",
    "dependent_fields = [pr_merged_key]\n",
    "\n",
    "df.describe()"
   ]
  },
  {
   "cell_type": "code",
   "execution_count": 4,
   "metadata": {
    "execution": {
     "iopub.execute_input": "2024-02-21T11:01:59.553118Z",
     "iopub.status.busy": "2024-02-21T11:01:59.552970Z",
     "iopub.status.idle": "2024-02-21T11:01:59.566673Z",
     "shell.execute_reply": "2024-02-21T11:01:59.566370Z"
    }
   },
   "outputs": [
    {
     "name": "stdout",
     "output_type": "stream",
     "text": [
      "['ID', 'Project Name', 'Submitter ID', 'PR Number', 'Closed At', 'PullRequestIsMerged', 'ControlIntegratedBySameUser', 'ControlPullRequestHasComments', 'ControlPullRequestHasCommentByExternalUser', 'ControlHasHashTagInDescription', 'IntraProjectSubmitterPullRequestSuccessRate', 'EcosystemExperienceSubmitterPullRequestSuccessRate', 'DependencyEcosystemExperienceSubmitterPullRequestSuccessRate', 'NonDependencyEcosystemExperienceSubmitterPullRequestSuccessRate', 'InversedDependencyEcosystemExperienceSubmitterPullRequestSuccessRate', 'SubmitterIsFirstTimeContributor', 'ln(1 + ControlPullRequestLifeTimeInMinutes)', 'ln(1 + ControlNumberOfCommitsInPullRequest)', 'ln(1 + ControlIntraProjectPullRequestExperienceOfIntegrator)', 'ln(1 + IntraProjectSubmitterPullRequestSubmissionCount)', 'ln(1 + IntraProjectSubmitterPullRequestCommentCount)', 'ln(1 + EcosystemExperienceSubmitterPullRequestSubmissionCount)', 'ln(1 + EcosystemExperienceSubmitterPullRequestCommentCount)', 'ln(1 + DependencyEcosystemExperienceSubmitterPullRequestSubmissionCount)', 'ln(1 + DependencyEcosystemExperienceSubmitterPullRequestCommentCount)', 'ln(1 + NonDependencyEcosystemExperienceSubmitterPullRequestSubmissionCount)', 'ln(1 + NonDependencyEcosystemExperienceSubmitterPullRequestCommentCount)', 'ln(1 + InversedDependencyEcosystemExperienceSubmitterPullRequestSubmissionCount)', 'ln(1 + InversedDependencyEcosystemExperienceSubmitterPullRequestCommentCount)', 'ln(1 + IntraProjectSubmitterIssueSubmissionCount)', 'ln(1 + IntraProjectSubmitterIssueCommentCount)', 'ln(1 + EcosystemExperienceSubmitterIssueSubmissionCount)', 'ln(1 + EcosystemExperienceSubmitterIssueCommentCount)', 'ln(1 + DependencyEcosystemExperienceSubmitterIssueSubmissionCount)', 'ln(1 + DependencyEcosystemExperienceSubmitterIssueCommentCount)', 'ln(1 + NonDependencyEcosystemExperienceSubmitterIssueSubmissionCount)', 'ln(1 + NonDependencyEcosystemExperienceSubmitterIssueCommentCount)', 'ln(1 + InversedDependencyEcosystemExperienceSubmitterIssueSubmissionCount)', 'ln(1 + InversedDependencyEcosystemExperienceSubmitterIssueCommentCount)', 'ln(1 + WeightedEcosystemSecondOrderDegreeCentrality)', 'ln(1 + WeightedIntraProjectSecondOrderDegreeCentrality)', 'ln(1 + EcosystemLinkIntensity)', 'ln(1 + IntraProjectLinkIntensity)']\n"
     ]
    }
   ],
   "source": [
    "print(list(df.columns))"
   ]
  },
  {
   "cell_type": "code",
   "execution_count": null,
   "metadata": {},
   "outputs": [],
   "source": [
    "intra_collab_fields = [\n",
    "    \"ln(1 + WeightedIntraProjectSecondOrderDegreeCentrality)\",\n",
    "    \"ln(1 + IntraProjectLinkIntensity)\",\n",
    "]\n",
    "\n",
    "df = df.drop(intra_collab_fields, axis=1)"
   ]
  },
  {
   "cell_type": "code",
   "execution_count": 5,
   "metadata": {
    "execution": {
     "iopub.execute_input": "2024-02-21T11:01:59.568095Z",
     "iopub.status.busy": "2024-02-21T11:01:59.567970Z",
     "iopub.status.idle": "2024-02-21T11:01:59.580623Z",
     "shell.execute_reply": "2024-02-21T11:01:59.580333Z"
    }
   },
   "outputs": [],
   "source": [
    "# Identifieds independent / predictor fields.\n",
    "\n",
    "\n",
    "def is_independent_field(field: str) -> bool:\n",
    "    return field not in metadata_fields and field != pr_merged_key\n",
    "\n",
    "\n",
    "independent_fields = list(filter(is_independent_field, df.columns))"
   ]
  },
  {
   "cell_type": "code",
   "execution_count": 6,
   "metadata": {
    "execution": {
     "iopub.execute_input": "2024-02-21T11:01:59.582208Z",
     "iopub.status.busy": "2024-02-21T11:01:59.582092Z",
     "iopub.status.idle": "2024-02-21T11:01:59.597838Z",
     "shell.execute_reply": "2024-02-21T11:01:59.597455Z"
    }
   },
   "outputs": [
    {
     "name": "stdout",
     "output_type": "stream",
     "text": [
      "class_imbalance=3.6991542286634957\n"
     ]
    }
   ],
   "source": [
    "# Calculates class imbalance.\n",
    "class_counts = df[pr_merged_key].value_counts()\n",
    "class_imbalance = class_counts[True] / class_counts[False]\n",
    "print(f\"{class_imbalance=}\")"
   ]
  },
  {
   "cell_type": "markdown",
   "metadata": {},
   "source": [
    "### Sample only PRs by first-time contributors"
   ]
  },
  {
   "cell_type": "code",
   "execution_count": 7,
   "metadata": {
    "execution": {
     "iopub.execute_input": "2024-02-21T11:01:59.599400Z",
     "iopub.status.busy": "2024-02-21T11:01:59.599284Z",
     "iopub.status.idle": "2024-02-21T11:02:00.282499Z",
     "shell.execute_reply": "2024-02-21T11:02:00.282142Z"
    }
   },
   "outputs": [
    {
     "name": "stdout",
     "output_type": "stream",
     "text": [
      "len(df)=789389\n",
      "class_imbalance=5.996516760321202\n"
     ]
    },
    {
     "name": "stdout",
     "output_type": "stream",
     "text": [
      "['ControlIntegratedBySameUser', 'ControlPullRequestHasComments', 'ControlPullRequestHasCommentByExternalUser', 'ControlHasHashTagInDescription', 'IntraProjectSubmitterPullRequestSuccessRate', 'EcosystemExperienceSubmitterPullRequestSuccessRate', 'DependencyEcosystemExperienceSubmitterPullRequestSuccessRate', 'NonDependencyEcosystemExperienceSubmitterPullRequestSuccessRate', 'InversedDependencyEcosystemExperienceSubmitterPullRequestSuccessRate', 'ln(1 + ControlPullRequestLifeTimeInMinutes)', 'ln(1 + ControlNumberOfCommitsInPullRequest)', 'ln(1 + ControlIntraProjectPullRequestExperienceOfIntegrator)', 'ln(1 + IntraProjectSubmitterPullRequestSubmissionCount)', 'ln(1 + IntraProjectSubmitterPullRequestCommentCount)', 'ln(1 + EcosystemExperienceSubmitterPullRequestSubmissionCount)', 'ln(1 + EcosystemExperienceSubmitterPullRequestCommentCount)', 'ln(1 + DependencyEcosystemExperienceSubmitterPullRequestSubmissionCount)', 'ln(1 + DependencyEcosystemExperienceSubmitterPullRequestCommentCount)', 'ln(1 + NonDependencyEcosystemExperienceSubmitterPullRequestSubmissionCount)', 'ln(1 + NonDependencyEcosystemExperienceSubmitterPullRequestCommentCount)', 'ln(1 + InversedDependencyEcosystemExperienceSubmitterPullRequestSubmissionCount)', 'ln(1 + InversedDependencyEcosystemExperienceSubmitterPullRequestCommentCount)', 'ln(1 + IntraProjectSubmitterIssueSubmissionCount)', 'ln(1 + IntraProjectSubmitterIssueCommentCount)', 'ln(1 + EcosystemExperienceSubmitterIssueSubmissionCount)', 'ln(1 + EcosystemExperienceSubmitterIssueCommentCount)', 'ln(1 + DependencyEcosystemExperienceSubmitterIssueSubmissionCount)', 'ln(1 + DependencyEcosystemExperienceSubmitterIssueCommentCount)', 'ln(1 + NonDependencyEcosystemExperienceSubmitterIssueSubmissionCount)', 'ln(1 + NonDependencyEcosystemExperienceSubmitterIssueCommentCount)', 'ln(1 + InversedDependencyEcosystemExperienceSubmitterIssueSubmissionCount)', 'ln(1 + InversedDependencyEcosystemExperienceSubmitterIssueCommentCount)', 'ln(1 + WeightedEcosystemSecondOrderDegreeCentrality)', 'ln(1 + WeightedIntraProjectSecondOrderDegreeCentrality)', 'ln(1 + EcosystemLinkIntensity)', 'ln(1 + IntraProjectLinkIntensity)']\n"
     ]
    },
    {
     "data": {
      "text/html": [
       "<div>\n",
       "<style scoped>\n",
       "    .dataframe tbody tr th:only-of-type {\n",
       "        vertical-align: middle;\n",
       "    }\n",
       "\n",
       "    .dataframe tbody tr th {\n",
       "        vertical-align: top;\n",
       "    }\n",
       "\n",
       "    .dataframe thead th {\n",
       "        text-align: right;\n",
       "    }\n",
       "</style>\n",
       "<table border=\"1\" class=\"dataframe\">\n",
       "  <thead>\n",
       "    <tr style=\"text-align: right;\">\n",
       "      <th></th>\n",
       "      <th>ID</th>\n",
       "      <th>Submitter ID</th>\n",
       "      <th>PR Number</th>\n",
       "      <th>IntraProjectSubmitterPullRequestSuccessRate</th>\n",
       "      <th>EcosystemExperienceSubmitterPullRequestSuccessRate</th>\n",
       "      <th>DependencyEcosystemExperienceSubmitterPullRequestSuccessRate</th>\n",
       "      <th>NonDependencyEcosystemExperienceSubmitterPullRequestSuccessRate</th>\n",
       "      <th>InversedDependencyEcosystemExperienceSubmitterPullRequestSuccessRate</th>\n",
       "      <th>ln(1 + ControlPullRequestLifeTimeInMinutes)</th>\n",
       "      <th>ln(1 + ControlNumberOfCommitsInPullRequest)</th>\n",
       "      <th>...</th>\n",
       "      <th>ln(1 + DependencyEcosystemExperienceSubmitterIssueSubmissionCount)</th>\n",
       "      <th>ln(1 + DependencyEcosystemExperienceSubmitterIssueCommentCount)</th>\n",
       "      <th>ln(1 + NonDependencyEcosystemExperienceSubmitterIssueSubmissionCount)</th>\n",
       "      <th>ln(1 + NonDependencyEcosystemExperienceSubmitterIssueCommentCount)</th>\n",
       "      <th>ln(1 + InversedDependencyEcosystemExperienceSubmitterIssueSubmissionCount)</th>\n",
       "      <th>ln(1 + InversedDependencyEcosystemExperienceSubmitterIssueCommentCount)</th>\n",
       "      <th>ln(1 + WeightedEcosystemSecondOrderDegreeCentrality)</th>\n",
       "      <th>ln(1 + WeightedIntraProjectSecondOrderDegreeCentrality)</th>\n",
       "      <th>ln(1 + EcosystemLinkIntensity)</th>\n",
       "      <th>ln(1 + IntraProjectLinkIntensity)</th>\n",
       "    </tr>\n",
       "  </thead>\n",
       "  <tbody>\n",
       "    <tr>\n",
       "      <th>count</th>\n",
       "      <td>7.893890e+05</td>\n",
       "      <td>7.893890e+05</td>\n",
       "      <td>789389.000000</td>\n",
       "      <td>789389.000000</td>\n",
       "      <td>789389.000000</td>\n",
       "      <td>789389.000000</td>\n",
       "      <td>789389.000000</td>\n",
       "      <td>789389.000000</td>\n",
       "      <td>789389.000000</td>\n",
       "      <td>789389.000000</td>\n",
       "      <td>...</td>\n",
       "      <td>789389.000000</td>\n",
       "      <td>789389.000000</td>\n",
       "      <td>789389.000000</td>\n",
       "      <td>789389.000000</td>\n",
       "      <td>789389.000000</td>\n",
       "      <td>789389.000000</td>\n",
       "      <td>789389.000000</td>\n",
       "      <td>789389.000000</td>\n",
       "      <td>789389.000000</td>\n",
       "      <td>789389.000000</td>\n",
       "    </tr>\n",
       "    <tr>\n",
       "      <th>mean</th>\n",
       "      <td>1.613374e+08</td>\n",
       "      <td>5.071217e+06</td>\n",
       "      <td>929.996330</td>\n",
       "      <td>0.774881</td>\n",
       "      <td>0.477277</td>\n",
       "      <td>0.138873</td>\n",
       "      <td>0.439422</td>\n",
       "      <td>0.077817</td>\n",
       "      <td>0.380645</td>\n",
       "      <td>0.124870</td>\n",
       "      <td>...</td>\n",
       "      <td>0.016136</td>\n",
       "      <td>0.027668</td>\n",
       "      <td>0.091486</td>\n",
       "      <td>0.155980</td>\n",
       "      <td>0.012445</td>\n",
       "      <td>0.022748</td>\n",
       "      <td>0.072195</td>\n",
       "      <td>0.088793</td>\n",
       "      <td>0.026830</td>\n",
       "      <td>0.065518</td>\n",
       "    </tr>\n",
       "    <tr>\n",
       "      <th>std</th>\n",
       "      <td>9.890446e+07</td>\n",
       "      <td>7.946069e+06</td>\n",
       "      <td>2552.602012</td>\n",
       "      <td>0.362156</td>\n",
       "      <td>0.456992</td>\n",
       "      <td>0.336869</td>\n",
       "      <td>0.456628</td>\n",
       "      <td>0.259218</td>\n",
       "      <td>0.217298</td>\n",
       "      <td>0.075795</td>\n",
       "      <td>...</td>\n",
       "      <td>0.063825</td>\n",
       "      <td>0.093934</td>\n",
       "      <td>0.124459</td>\n",
       "      <td>0.183676</td>\n",
       "      <td>0.060300</td>\n",
       "      <td>0.093821</td>\n",
       "      <td>0.103604</td>\n",
       "      <td>0.111771</td>\n",
       "      <td>0.097241</td>\n",
       "      <td>0.119149</td>\n",
       "    </tr>\n",
       "    <tr>\n",
       "      <th>min</th>\n",
       "      <td>6.870000e+02</td>\n",
       "      <td>1.000000e+00</td>\n",
       "      <td>1.000000</td>\n",
       "      <td>0.000000</td>\n",
       "      <td>0.000000</td>\n",
       "      <td>0.000000</td>\n",
       "      <td>0.000000</td>\n",
       "      <td>0.000000</td>\n",
       "      <td>0.000000</td>\n",
       "      <td>0.000000</td>\n",
       "      <td>...</td>\n",
       "      <td>0.000000</td>\n",
       "      <td>0.000000</td>\n",
       "      <td>0.000000</td>\n",
       "      <td>0.000000</td>\n",
       "      <td>0.000000</td>\n",
       "      <td>0.000000</td>\n",
       "      <td>0.000000</td>\n",
       "      <td>0.000000</td>\n",
       "      <td>0.000000</td>\n",
       "      <td>0.000000</td>\n",
       "    </tr>\n",
       "    <tr>\n",
       "      <th>25%</th>\n",
       "      <td>7.601776e+07</td>\n",
       "      <td>4.540660e+05</td>\n",
       "      <td>68.000000</td>\n",
       "      <td>0.750000</td>\n",
       "      <td>0.000000</td>\n",
       "      <td>0.000000</td>\n",
       "      <td>0.000000</td>\n",
       "      <td>0.000000</td>\n",
       "      <td>0.198106</td>\n",
       "      <td>0.075257</td>\n",
       "      <td>...</td>\n",
       "      <td>0.000000</td>\n",
       "      <td>0.000000</td>\n",
       "      <td>0.000000</td>\n",
       "      <td>0.000000</td>\n",
       "      <td>0.000000</td>\n",
       "      <td>0.000000</td>\n",
       "      <td>0.000000</td>\n",
       "      <td>0.000000</td>\n",
       "      <td>0.000000</td>\n",
       "      <td>0.000000</td>\n",
       "    </tr>\n",
       "    <tr>\n",
       "      <th>50%</th>\n",
       "      <td>1.561170e+08</td>\n",
       "      <td>1.606068e+06</td>\n",
       "      <td>255.000000</td>\n",
       "      <td>0.977273</td>\n",
       "      <td>0.545455</td>\n",
       "      <td>0.000000</td>\n",
       "      <td>0.083333</td>\n",
       "      <td>0.000000</td>\n",
       "      <td>0.393710</td>\n",
       "      <td>0.075257</td>\n",
       "      <td>...</td>\n",
       "      <td>0.000000</td>\n",
       "      <td>0.000000</td>\n",
       "      <td>0.000000</td>\n",
       "      <td>0.077533</td>\n",
       "      <td>0.000000</td>\n",
       "      <td>0.000000</td>\n",
       "      <td>0.020509</td>\n",
       "      <td>0.044760</td>\n",
       "      <td>0.000000</td>\n",
       "      <td>0.000000</td>\n",
       "    </tr>\n",
       "    <tr>\n",
       "      <th>75%</th>\n",
       "      <td>2.410351e+08</td>\n",
       "      <td>6.193135e+06</td>\n",
       "      <td>806.000000</td>\n",
       "      <td>1.000000</td>\n",
       "      <td>0.967742</td>\n",
       "      <td>0.000000</td>\n",
       "      <td>0.960396</td>\n",
       "      <td>0.000000</td>\n",
       "      <td>0.545946</td>\n",
       "      <td>0.150513</td>\n",
       "      <td>...</td>\n",
       "      <td>0.000000</td>\n",
       "      <td>0.000000</td>\n",
       "      <td>0.141667</td>\n",
       "      <td>0.277955</td>\n",
       "      <td>0.000000</td>\n",
       "      <td>0.000000</td>\n",
       "      <td>0.114672</td>\n",
       "      <td>0.140823</td>\n",
       "      <td>0.000000</td>\n",
       "      <td>0.080350</td>\n",
       "    </tr>\n",
       "    <tr>\n",
       "      <th>max</th>\n",
       "      <td>3.617734e+08</td>\n",
       "      <td>5.943086e+07</td>\n",
       "      <td>82974.000000</td>\n",
       "      <td>1.000000</td>\n",
       "      <td>1.000000</td>\n",
       "      <td>1.000000</td>\n",
       "      <td>1.000000</td>\n",
       "      <td>1.000000</td>\n",
       "      <td>1.000000</td>\n",
       "      <td>0.993928</td>\n",
       "      <td>...</td>\n",
       "      <td>1.000000</td>\n",
       "      <td>1.000000</td>\n",
       "      <td>0.854348</td>\n",
       "      <td>0.886162</td>\n",
       "      <td>0.999796</td>\n",
       "      <td>1.000000</td>\n",
       "      <td>0.922599</td>\n",
       "      <td>1.000000</td>\n",
       "      <td>1.000000</td>\n",
       "      <td>1.000000</td>\n",
       "    </tr>\n",
       "  </tbody>\n",
       "</table>\n",
       "<p>8 rows × 35 columns</p>\n",
       "</div>"
      ],
      "text/plain": [
       "                 ID  Submitter ID      PR Number   \n",
       "count  7.893890e+05  7.893890e+05  789389.000000  \\\n",
       "mean   1.613374e+08  5.071217e+06     929.996330   \n",
       "std    9.890446e+07  7.946069e+06    2552.602012   \n",
       "min    6.870000e+02  1.000000e+00       1.000000   \n",
       "25%    7.601776e+07  4.540660e+05      68.000000   \n",
       "50%    1.561170e+08  1.606068e+06     255.000000   \n",
       "75%    2.410351e+08  6.193135e+06     806.000000   \n",
       "max    3.617734e+08  5.943086e+07   82974.000000   \n",
       "\n",
       "       IntraProjectSubmitterPullRequestSuccessRate   \n",
       "count                                789389.000000  \\\n",
       "mean                                      0.774881   \n",
       "std                                       0.362156   \n",
       "min                                       0.000000   \n",
       "25%                                       0.750000   \n",
       "50%                                       0.977273   \n",
       "75%                                       1.000000   \n",
       "max                                       1.000000   \n",
       "\n",
       "       EcosystemExperienceSubmitterPullRequestSuccessRate   \n",
       "count                                      789389.000000   \\\n",
       "mean                                            0.477277    \n",
       "std                                             0.456992    \n",
       "min                                             0.000000    \n",
       "25%                                             0.000000    \n",
       "50%                                             0.545455    \n",
       "75%                                             0.967742    \n",
       "max                                             1.000000    \n",
       "\n",
       "       DependencyEcosystemExperienceSubmitterPullRequestSuccessRate   \n",
       "count                                      789389.000000             \\\n",
       "mean                                            0.138873              \n",
       "std                                             0.336869              \n",
       "min                                             0.000000              \n",
       "25%                                             0.000000              \n",
       "50%                                             0.000000              \n",
       "75%                                             0.000000              \n",
       "max                                             1.000000              \n",
       "\n",
       "       NonDependencyEcosystemExperienceSubmitterPullRequestSuccessRate   \n",
       "count                                      789389.000000                \\\n",
       "mean                                            0.439422                 \n",
       "std                                             0.456628                 \n",
       "min                                             0.000000                 \n",
       "25%                                             0.000000                 \n",
       "50%                                             0.083333                 \n",
       "75%                                             0.960396                 \n",
       "max                                             1.000000                 \n",
       "\n",
       "       InversedDependencyEcosystemExperienceSubmitterPullRequestSuccessRate   \n",
       "count                                      789389.000000                     \\\n",
       "mean                                            0.077817                      \n",
       "std                                             0.259218                      \n",
       "min                                             0.000000                      \n",
       "25%                                             0.000000                      \n",
       "50%                                             0.000000                      \n",
       "75%                                             0.000000                      \n",
       "max                                             1.000000                      \n",
       "\n",
       "       ln(1 + ControlPullRequestLifeTimeInMinutes)   \n",
       "count                                789389.000000  \\\n",
       "mean                                      0.380645   \n",
       "std                                       0.217298   \n",
       "min                                       0.000000   \n",
       "25%                                       0.198106   \n",
       "50%                                       0.393710   \n",
       "75%                                       0.545946   \n",
       "max                                       1.000000   \n",
       "\n",
       "       ln(1 + ControlNumberOfCommitsInPullRequest)  ...   \n",
       "count                                789389.000000  ...  \\\n",
       "mean                                      0.124870  ...   \n",
       "std                                       0.075795  ...   \n",
       "min                                       0.000000  ...   \n",
       "25%                                       0.075257  ...   \n",
       "50%                                       0.075257  ...   \n",
       "75%                                       0.150513  ...   \n",
       "max                                       0.993928  ...   \n",
       "\n",
       "       ln(1 + DependencyEcosystemExperienceSubmitterIssueSubmissionCount)   \n",
       "count                                      789389.000000                   \\\n",
       "mean                                            0.016136                    \n",
       "std                                             0.063825                    \n",
       "min                                             0.000000                    \n",
       "25%                                             0.000000                    \n",
       "50%                                             0.000000                    \n",
       "75%                                             0.000000                    \n",
       "max                                             1.000000                    \n",
       "\n",
       "       ln(1 + DependencyEcosystemExperienceSubmitterIssueCommentCount)   \n",
       "count                                      789389.000000                \\\n",
       "mean                                            0.027668                 \n",
       "std                                             0.093934                 \n",
       "min                                             0.000000                 \n",
       "25%                                             0.000000                 \n",
       "50%                                             0.000000                 \n",
       "75%                                             0.000000                 \n",
       "max                                             1.000000                 \n",
       "\n",
       "       ln(1 + NonDependencyEcosystemExperienceSubmitterIssueSubmissionCount)   \n",
       "count                                      789389.000000                      \\\n",
       "mean                                            0.091486                       \n",
       "std                                             0.124459                       \n",
       "min                                             0.000000                       \n",
       "25%                                             0.000000                       \n",
       "50%                                             0.000000                       \n",
       "75%                                             0.141667                       \n",
       "max                                             0.854348                       \n",
       "\n",
       "       ln(1 + NonDependencyEcosystemExperienceSubmitterIssueCommentCount)   \n",
       "count                                      789389.000000                   \\\n",
       "mean                                            0.155980                    \n",
       "std                                             0.183676                    \n",
       "min                                             0.000000                    \n",
       "25%                                             0.000000                    \n",
       "50%                                             0.077533                    \n",
       "75%                                             0.277955                    \n",
       "max                                             0.886162                    \n",
       "\n",
       "       ln(1 + InversedDependencyEcosystemExperienceSubmitterIssueSubmissionCount)   \n",
       "count                                      789389.000000                           \\\n",
       "mean                                            0.012445                            \n",
       "std                                             0.060300                            \n",
       "min                                             0.000000                            \n",
       "25%                                             0.000000                            \n",
       "50%                                             0.000000                            \n",
       "75%                                             0.000000                            \n",
       "max                                             0.999796                            \n",
       "\n",
       "       ln(1 + InversedDependencyEcosystemExperienceSubmitterIssueCommentCount)   \n",
       "count                                      789389.000000                        \\\n",
       "mean                                            0.022748                         \n",
       "std                                             0.093821                         \n",
       "min                                             0.000000                         \n",
       "25%                                             0.000000                         \n",
       "50%                                             0.000000                         \n",
       "75%                                             0.000000                         \n",
       "max                                             1.000000                         \n",
       "\n",
       "       ln(1 + WeightedEcosystemSecondOrderDegreeCentrality)   \n",
       "count                                      789389.000000     \\\n",
       "mean                                            0.072195      \n",
       "std                                             0.103604      \n",
       "min                                             0.000000      \n",
       "25%                                             0.000000      \n",
       "50%                                             0.020509      \n",
       "75%                                             0.114672      \n",
       "max                                             0.922599      \n",
       "\n",
       "       ln(1 + WeightedIntraProjectSecondOrderDegreeCentrality)   \n",
       "count                                      789389.000000        \\\n",
       "mean                                            0.088793         \n",
       "std                                             0.111771         \n",
       "min                                             0.000000         \n",
       "25%                                             0.000000         \n",
       "50%                                             0.044760         \n",
       "75%                                             0.140823         \n",
       "max                                             1.000000         \n",
       "\n",
       "       ln(1 + EcosystemLinkIntensity)  ln(1 + IntraProjectLinkIntensity)  \n",
       "count                   789389.000000                      789389.000000  \n",
       "mean                         0.026830                           0.065518  \n",
       "std                          0.097241                           0.119149  \n",
       "min                          0.000000                           0.000000  \n",
       "25%                          0.000000                           0.000000  \n",
       "50%                          0.000000                           0.000000  \n",
       "75%                          0.000000                           0.080350  \n",
       "max                          1.000000                           1.000000  \n",
       "\n",
       "[8 rows x 35 columns]"
      ]
     },
     "execution_count": 7,
     "metadata": {},
     "output_type": "execute_result"
    }
   ],
   "source": [
    "# Filters data\n",
    "df = df[df[ftc_key] == True]\n",
    "df = df.drop([ftc_key], axis=1)\n",
    "independent_fields.remove(ftc_key)\n",
    "print(f\"{len(df)=}\")\n",
    "\n",
    "# Recalculates class imbalance.\n",
    "class_counts = df[pr_merged_key].value_counts()\n",
    "class_imbalance = class_counts[True] / class_counts[False]\n",
    "print(f\"{class_imbalance=}\")\n",
    "\n",
    "# Resets indices.\n",
    "df = df.reset_index(drop=True)\n",
    "print(independent_fields)\n",
    "\n",
    "df.describe()"
   ]
  },
  {
   "cell_type": "markdown",
   "metadata": {},
   "source": [
    "## Model Creation"
   ]
  },
  {
   "cell_type": "code",
   "execution_count": 8,
   "metadata": {
    "execution": {
     "iopub.execute_input": "2024-02-21T11:02:00.284265Z",
     "iopub.status.busy": "2024-02-21T11:02:00.284132Z",
     "iopub.status.idle": "2024-02-21T11:02:00.297674Z",
     "shell.execute_reply": "2024-02-21T11:02:00.297340Z"
    }
   },
   "outputs": [
    {
     "name": "stdout",
     "output_type": "stream",
     "text": [
      "Using k=5 folds.\n"
     ]
    }
   ],
   "source": [
    "k = 5\n",
    "print(f\"Using {k=} folds.\")"
   ]
  },
  {
   "cell_type": "markdown",
   "metadata": {},
   "source": [
    "Generates a number of feature groups that are relevant later in the pipeline:\n",
    "- control variables\n",
    "- intra-project experience\n",
    "- ecosystem experience\n",
    "- dependency ecosystem experience\n",
    "- inverse dependency ecosystem experience\n",
    "- non-dependency ecosystem experience\n",
    "- collaboration variables"
   ]
  },
  {
   "cell_type": "code",
   "execution_count": 9,
   "metadata": {
    "execution": {
     "iopub.execute_input": "2024-02-21T11:02:00.299184Z",
     "iopub.status.busy": "2024-02-21T11:02:00.299068Z",
     "iopub.status.idle": "2024-02-21T11:02:00.316566Z",
     "shell.execute_reply": "2024-02-21T11:02:00.316245Z"
    }
   },
   "outputs": [
    {
     "name": "stdout",
     "output_type": "stream",
     "text": [
      "Feature groups:\n",
      "{\n",
      "  \"FeatureGroups.Control\": [\n",
      "    \"ControlIntegratedBySameUser\",\n",
      "    \"ControlPullRequestHasComments\",\n",
      "    \"ControlPullRequestHasCommentByExternalUser\",\n",
      "    \"ControlHasHashTagInDescription\",\n",
      "    \"ln(1 + ControlPullRequestLifeTimeInMinutes)\",\n",
      "    \"ln(1 + ControlNumberOfCommitsInPullRequest)\",\n",
      "    \"ln(1 + ControlIntraProjectPullRequestExperienceOfIntegrator)\"\n",
      "  ],\n",
      "  \"FeatureGroups.Intra\": [\n",
      "    \"IntraProjectSubmitterPullRequestSuccessRate\",\n",
      "    \"ln(1 + IntraProjectSubmitterPullRequestSubmissionCount)\",\n",
      "    \"ln(1 + IntraProjectSubmitterPullRequestCommentCount)\",\n",
      "    \"ln(1 + IntraProjectSubmitterIssueSubmissionCount)\",\n",
      "    \"ln(1 + IntraProjectSubmitterIssueCommentCount)\"\n",
      "  ],\n",
      "  \"FeatureGroups.Eco\": [\n",
      "    \"EcosystemExperienceSubmitterPullRequestSuccessRate\",\n",
      "    \"ln(1 + EcosystemExperienceSubmitterPullRequestSubmissionCount)\",\n",
      "    \"ln(1 + EcosystemExperienceSubmitterPullRequestCommentCount)\",\n",
      "    \"ln(1 + EcosystemExperienceSubmitterIssueSubmissionCount)\",\n",
      "    \"ln(1 + EcosystemExperienceSubmitterIssueCommentCount)\"\n",
      "  ],\n",
      "  \"FeatureGroups.DEco\": [\n",
      "    \"DependencyEcosystemExperienceSubmitterPullRequestSuccessRate\",\n",
      "    \"ln(1 + DependencyEcosystemExperienceSubmitterPullRequestSubmissionCount)\",\n",
      "    \"ln(1 + DependencyEcosystemExperienceSubmitterPullRequestCommentCount)\",\n",
      "    \"ln(1 + DependencyEcosystemExperienceSubmitterIssueSubmissionCount)\",\n",
      "    \"ln(1 + DependencyEcosystemExperienceSubmitterIssueCommentCount)\"\n",
      "  ],\n",
      "  \"FeatureGroups.IDEco\": [\n",
      "    \"InversedDependencyEcosystemExperienceSubmitterPullRequestSuccessRate\",\n",
      "    \"ln(1 + InversedDependencyEcosystemExperienceSubmitterPullRequestSubmissionCount)\",\n",
      "    \"ln(1 + InversedDependencyEcosystemExperienceSubmitterPullRequestCommentCount)\",\n",
      "    \"ln(1 + InversedDependencyEcosystemExperienceSubmitterIssueSubmissionCount)\",\n",
      "    \"ln(1 + InversedDependencyEcosystemExperienceSubmitterIssueCommentCount)\"\n",
      "  ],\n",
      "  \"FeatureGroups.NDEco\": [\n",
      "    \"NonDependencyEcosystemExperienceSubmitterPullRequestSuccessRate\",\n",
      "    \"ln(1 + NonDependencyEcosystemExperienceSubmitterPullRequestSubmissionCount)\",\n",
      "    \"ln(1 + NonDependencyEcosystemExperienceSubmitterPullRequestCommentCount)\",\n",
      "    \"ln(1 + NonDependencyEcosystemExperienceSubmitterIssueSubmissionCount)\",\n",
      "    \"ln(1 + NonDependencyEcosystemExperienceSubmitterIssueCommentCount)\"\n",
      "  ],\n",
      "  \"FeatureGroups.Coll\": [\n",
      "    \"ln(1 + WeightedEcosystemSecondOrderDegreeCentrality)\",\n",
      "    \"ln(1 + EcosystemLinkIntensity)\"\n",
      "  ]\n",
      "}\n"
     ]
    }
   ],
   "source": [
    "from enum import Enum\n",
    "from python_proj.utils.util import get_matching\n",
    "\n",
    "# Defines feature groups\n",
    "\n",
    "\n",
    "class FeatureGroups(Enum):\n",
    "    Control = 1\n",
    "    Intra = 2\n",
    "    Eco = 3\n",
    "    DEco = 4\n",
    "    IDEco = 5\n",
    "    NDEco = 6\n",
    "    Coll = 7\n",
    "\n",
    "\n",
    "var_group_regex_patterns = [\n",
    "    (FeatureGroups.Control, r\".*Control.*\"),\n",
    "    (\n",
    "        FeatureGroups.Intra,\n",
    "        r\"^(?:(?!Control|Degree|Link).)*Intra(?:(?!Control|Degree|Link).)*$\",\n",
    "    ),\n",
    "    (FeatureGroups.Eco, r\"^(?:(?!Dependency).)*Ecosystem(?:(?!Degree|Link).)*$\"),\n",
    "    (FeatureGroups.DEco, r\"^(?!.*(Inverse|Non)).*(?=Dependency).*\"),\n",
    "    (FeatureGroups.IDEco, r\".*(?=Inverse).*\"),\n",
    "    (FeatureGroups.NDEco, r\".*(?=NonDependency).*\"),\n",
    "    (FeatureGroups.Coll, r\"^(?:(?!Intra).)*(Weighted|LinkIntensity)(?:(?!Intra).)*$\"),\n",
    "]\n",
    "\n",
    "# Resolves the regex patterns to generate lists of fields.\n",
    "var_groups = {\n",
    "    str(name): list(get_matching(independent_fields, pattern))\n",
    "    for name, pattern in var_group_regex_patterns\n",
    "}\n",
    "\n",
    "\n",
    "print(\"Feature groups:\")\n",
    "print(json.dumps(var_groups, indent=2))"
   ]
  },
  {
   "cell_type": "code",
   "execution_count": 10,
   "metadata": {
    "execution": {
     "iopub.execute_input": "2024-02-21T11:02:00.318104Z",
     "iopub.status.busy": "2024-02-21T11:02:00.317986Z",
     "iopub.status.idle": "2024-02-21T11:02:00.336917Z",
     "shell.execute_reply": "2024-02-21T11:02:00.336441Z"
    }
   },
   "outputs": [],
   "source": [
    "from wmutils.collections.list_access import flatten\n",
    "\n",
    "\n",
    "def get_feature_groups(*feature_groups) -> list[str]:\n",
    "    return list(flatten(var_groups[str(group)] for group in feature_groups))"
   ]
  },
  {
   "cell_type": "markdown",
   "metadata": {},
   "source": [
    "### Full Model"
   ]
  },
  {
   "cell_type": "code",
   "execution_count": 11,
   "metadata": {
    "execution": {
     "iopub.execute_input": "2024-02-21T11:02:00.338594Z",
     "iopub.status.busy": "2024-02-21T11:02:00.338463Z",
     "iopub.status.idle": "2024-02-21T11:16:37.030857Z",
     "shell.execute_reply": "2024-02-21T11:16:37.030467Z"
    }
   },
   "outputs": [
    {
     "name": "stdout",
     "output_type": "stream",
     "text": [
      "random_state=43"
     ]
    },
    {
     "name": "stdout",
     "output_type": "stream",
     "text": [
      "\n"
     ]
    },
    {
     "name": "stdout",
     "output_type": "stream",
     "text": [
      "random_state=43"
     ]
    },
    {
     "name": "stdout",
     "output_type": "stream",
     "text": [
      "\n"
     ]
    },
    {
     "name": "stdout",
     "output_type": "stream",
     "text": [
      "random_state=43"
     ]
    },
    {
     "name": "stdout",
     "output_type": "stream",
     "text": [
      "\n"
     ]
    },
    {
     "name": "stdout",
     "output_type": "stream",
     "text": [
      "random_state=43"
     ]
    },
    {
     "name": "stdout",
     "output_type": "stream",
     "text": [
      "\n"
     ]
    },
    {
     "name": "stdout",
     "output_type": "stream",
     "text": [
      "random_state=43"
     ]
    },
    {
     "name": "stdout",
     "output_type": "stream",
     "text": [
      "\n"
     ]
    },
    {
     "name": "stdout",
     "output_type": "stream",
     "text": [
      "metrics={'accuracy': 0.930097923713247, 'precision': 0.9420194929553399, 'recall': 0.9786108912868227, 'f1': 0.9599666267638843}\n"
     ]
    },
    {
     "name": "stdout",
     "output_type": "stream",
     "text": [
      "\n"
     ]
    },
    {
     "name": "stdout",
     "output_type": "stream",
     "text": [
      "Confusion matrix:\n",
      "[[ 14525   8144]\n",
      " [  2892 132317]]\n"
     ]
    },
    {
     "name": "stdout",
     "output_type": "stream",
     "text": [
      "\n"
     ]
    },
    {
     "name": "stdout",
     "output_type": "stream",
     "text": [
      "Classification report:"
     ]
    },
    {
     "name": "stdout",
     "output_type": "stream",
     "text": [
      "\n"
     ]
    },
    {
     "name": "stdout",
     "output_type": "stream",
     "text": [
      "              precision    recall  f1-score   support\n",
      "\n",
      "       False       0.83      0.64      0.72     22669\n",
      "        True       0.94      0.98      0.96    135209\n",
      "\n",
      "    accuracy                           0.93    157878\n",
      "   macro avg       0.89      0.81      0.84    157878\n",
      "weighted avg       0.93      0.93      0.93    157878\n"
     ]
    },
    {
     "name": "stdout",
     "output_type": "stream",
     "text": [
      "\n"
     ]
    },
    {
     "name": "stdout",
     "output_type": "stream",
     "text": [
      "metrics={'accuracy': 0.930097923713247, 'precision': 0.9428025059580722, 'recall': 0.9776544580096189, 'f1': 0.9599122399163083}\n"
     ]
    },
    {
     "name": "stdout",
     "output_type": "stream",
     "text": [
      "\n"
     ]
    },
    {
     "name": "stdout",
     "output_type": "stream",
     "text": [
      "Confusion matrix:\n",
      "[[ 14712   8016]\n",
      " [  3020 132130]]\n"
     ]
    },
    {
     "name": "stdout",
     "output_type": "stream",
     "text": [
      "\n"
     ]
    },
    {
     "name": "stdout",
     "output_type": "stream",
     "text": [
      "Classification report:"
     ]
    },
    {
     "name": "stdout",
     "output_type": "stream",
     "text": [
      "\n"
     ]
    },
    {
     "name": "stdout",
     "output_type": "stream",
     "text": [
      "              precision    recall  f1-score   support\n",
      "\n",
      "       False       0.83      0.65      0.73     22728\n",
      "        True       0.94      0.98      0.96    135150\n",
      "\n",
      "    accuracy                           0.93    157878\n",
      "   macro avg       0.89      0.81      0.84    157878\n",
      "weighted avg       0.93      0.93      0.93    157878\n"
     ]
    },
    {
     "name": "stdout",
     "output_type": "stream",
     "text": [
      "\n"
     ]
    },
    {
     "name": "stdout",
     "output_type": "stream",
     "text": [
      "metrics={'accuracy': 0.9314724027413572, 'precision': 0.9437274429266, 'recall': 0.9784922427409474, 'f1': 0.9607954689577951}\n"
     ]
    },
    {
     "name": "stdout",
     "output_type": "stream",
     "text": [
      "\n"
     ]
    },
    {
     "name": "stdout",
     "output_type": "stream",
     "text": [
      "Confusion matrix:\n",
      "[[ 14487   7905]\n",
      " [  2914 132572]]\n"
     ]
    },
    {
     "name": "stdout",
     "output_type": "stream",
     "text": [
      "\n"
     ]
    },
    {
     "name": "stdout",
     "output_type": "stream",
     "text": [
      "Classification report:"
     ]
    },
    {
     "name": "stdout",
     "output_type": "stream",
     "text": [
      "\n"
     ]
    },
    {
     "name": "stdout",
     "output_type": "stream",
     "text": [
      "              precision    recall  f1-score   support\n",
      "\n",
      "       False       0.83      0.65      0.73     22392\n",
      "        True       0.94      0.98      0.96    135486\n",
      "\n",
      "    accuracy                           0.93    157878\n",
      "   macro avg       0.89      0.81      0.84    157878\n",
      "weighted avg       0.93      0.93      0.93    157878\n"
     ]
    },
    {
     "name": "stdout",
     "output_type": "stream",
     "text": [
      "\n"
     ]
    },
    {
     "name": "stdout",
     "output_type": "stream",
     "text": [
      "metrics={'accuracy': 0.9316809921647865, 'precision': 0.9440172035660372, 'recall': 0.9784203456877593, 'f1': 0.9609109424717505}\n"
     ]
    },
    {
     "name": "stdout",
     "output_type": "stream",
     "text": [
      "\n"
     ]
    },
    {
     "name": "stdout",
     "output_type": "stream",
     "text": [
      "Confusion matrix:\n",
      "[[ 14517   7862]\n",
      " [  2924 132574]]\n"
     ]
    },
    {
     "name": "stdout",
     "output_type": "stream",
     "text": [
      "\n"
     ]
    },
    {
     "name": "stdout",
     "output_type": "stream",
     "text": [
      "Classification report:"
     ]
    },
    {
     "name": "stdout",
     "output_type": "stream",
     "text": [
      "\n"
     ]
    },
    {
     "name": "stdout",
     "output_type": "stream",
     "text": [
      "              precision    recall  f1-score   support\n",
      "\n",
      "       False       0.83      0.65      0.73     22379\n",
      "        True       0.94      0.98      0.96    135498\n",
      "\n",
      "    accuracy                           0.93    157877\n",
      "   macro avg       0.89      0.81      0.85    157877\n",
      "weighted avg       0.93      0.93      0.93    157877\n"
     ]
    },
    {
     "name": "stdout",
     "output_type": "stream",
     "text": [
      "\n"
     ]
    },
    {
     "name": "stdout",
     "output_type": "stream",
     "text": [
      "metrics={'accuracy': 0.9312570465802709, 'precision': 0.9437906351030195, 'recall': 0.9779840260316521, 'f1': 0.9605831356981758}\n"
     ]
    },
    {
     "name": "stdout",
     "output_type": "stream",
     "text": [
      "\n"
     ]
    },
    {
     "name": "stdout",
     "output_type": "stream",
     "text": [
      "Confusion matrix:\n",
      "[[ 14782   7876]\n",
      " [  2977 132243]]\n"
     ]
    },
    {
     "name": "stdout",
     "output_type": "stream",
     "text": [
      "\n"
     ]
    },
    {
     "name": "stdout",
     "output_type": "stream",
     "text": [
      "Classification report:"
     ]
    },
    {
     "name": "stdout",
     "output_type": "stream",
     "text": [
      "\n"
     ]
    },
    {
     "name": "stdout",
     "output_type": "stream",
     "text": [
      "              precision    recall  f1-score   support\n",
      "\n",
      "       False       0.83      0.65      0.73     22658\n",
      "        True       0.94      0.98      0.96    135220\n",
      "\n",
      "    accuracy                           0.93    157878\n",
      "   macro avg       0.89      0.82      0.85    157878\n",
      "weighted avg       0.93      0.93      0.93    157878\n"
     ]
    },
    {
     "name": "stdout",
     "output_type": "stream",
     "text": [
      "\n"
     ]
    },
    {
     "name": "stdout",
     "output_type": "stream",
     "text": [
      "\n",
      "Performance metrics full model:\n",
      "f1_scores=[0.9599666267638843, 0.9599122399163083, 0.9607954689577951, 0.9609109424717505, 0.9605831356981758]\n",
      "f1_mean=0.9604336827615828, f1_std=0.0004173838063100865\n"
     ]
    }
   ],
   "source": [
    "from python_proj.modelling.notebooks.random_forest.rf_functions import (\n",
    "    kfold_rf_evaluation,\n",
    ")\n",
    "\n",
    "f1_scores, f1_mean, f1_std = kfold_rf_evaluation(\n",
    "    df, independent_fields, k, pr_merged_key, seed_counter\n",
    ")\n",
    "\n",
    "print(\"\\nPerformance metrics full model:\")\n",
    "print(f\"{f1_scores=}\")\n",
    "print(f\"{f1_mean=}, {f1_std=}\")"
   ]
  },
  {
   "cell_type": "markdown",
   "metadata": {},
   "source": [
    "### Control + Intra-project Model"
   ]
  },
  {
   "cell_type": "code",
   "execution_count": 12,
   "metadata": {
    "execution": {
     "iopub.execute_input": "2024-02-21T11:16:37.032634Z",
     "iopub.status.busy": "2024-02-21T11:16:37.032295Z",
     "iopub.status.idle": "2024-02-21T11:22:05.320055Z",
     "shell.execute_reply": "2024-02-21T11:22:05.319611Z"
    }
   },
   "outputs": [
    {
     "name": "stdout",
     "output_type": "stream",
     "text": [
      "['ControlIntegratedBySameUser', 'ControlPullRequestHasComments', 'ControlPullRequestHasCommentByExternalUser', 'ControlHasHashTagInDescription', 'ln(1 + ControlPullRequestLifeTimeInMinutes)', 'ln(1 + ControlNumberOfCommitsInPullRequest)', 'ln(1 + ControlIntraProjectPullRequestExperienceOfIntegrator)', 'IntraProjectSubmitterPullRequestSuccessRate', 'ln(1 + IntraProjectSubmitterPullRequestSubmissionCount)', 'ln(1 + IntraProjectSubmitterPullRequestCommentCount)', 'ln(1 + IntraProjectSubmitterIssueSubmissionCount)', 'ln(1 + IntraProjectSubmitterIssueCommentCount)']\n"
     ]
    },
    {
     "name": "stdout",
     "output_type": "stream",
     "text": [
      "random_state=45"
     ]
    },
    {
     "name": "stdout",
     "output_type": "stream",
     "text": [
      "\n"
     ]
    },
    {
     "name": "stdout",
     "output_type": "stream",
     "text": [
      "random_state=45"
     ]
    },
    {
     "name": "stdout",
     "output_type": "stream",
     "text": [
      "random_state=45"
     ]
    },
    {
     "name": "stdout",
     "output_type": "stream",
     "text": [
      "random_state=45"
     ]
    },
    {
     "name": "stdout",
     "output_type": "stream",
     "text": [
      "\n"
     ]
    },
    {
     "name": "stdout",
     "output_type": "stream",
     "text": [
      "\n"
     ]
    },
    {
     "name": "stdout",
     "output_type": "stream",
     "text": [
      "\n"
     ]
    },
    {
     "name": "stdout",
     "output_type": "stream",
     "text": [
      "random_state=45"
     ]
    },
    {
     "name": "stdout",
     "output_type": "stream",
     "text": [
      "\n"
     ]
    },
    {
     "name": "stdout",
     "output_type": "stream",
     "text": [
      "metrics={'accuracy': 0.9262341808231672, 'precision': 0.942018641962973, 'recall': 0.9740096817993978, 'f1': 0.9577470920740423}\n"
     ]
    },
    {
     "name": "stdout",
     "output_type": "stream",
     "text": [
      "\n"
     ]
    },
    {
     "name": "stdout",
     "output_type": "stream",
     "text": [
      "Confusion matrix:\n",
      "[[ 14242   8124]\n",
      " [  3522 131990]]\n"
     ]
    },
    {
     "name": "stdout",
     "output_type": "stream",
     "text": [
      "\n"
     ]
    },
    {
     "name": "stdout",
     "output_type": "stream",
     "text": [
      "Classification report:"
     ]
    },
    {
     "name": "stdout",
     "output_type": "stream",
     "text": [
      "\n"
     ]
    },
    {
     "name": "stdout",
     "output_type": "stream",
     "text": [
      "              precision    recall  f1-score   support\n",
      "\n",
      "       False       0.80      0.64      0.71     22366\n",
      "        True       0.94      0.97      0.96    135512\n",
      "\n",
      "    accuracy                           0.93    157878\n",
      "   macro avg       0.87      0.81      0.83    157878\n",
      "weighted avg       0.92      0.93      0.92    157878\n"
     ]
    },
    {
     "name": "stdout",
     "output_type": "stream",
     "text": [
      "\n"
     ]
    },
    {
     "name": "stdout",
     "output_type": "stream",
     "text": [
      "metrics={'accuracy': 0.9248787038092704, 'precision': 0.9407697790449038, 'recall': 0.973808469824406, 'f1': 0.9570040603248261}\n"
     ]
    },
    {
     "name": "stdout",
     "output_type": "stream",
     "text": [
      "\n"
     ]
    },
    {
     "name": "stdout",
     "output_type": "stream",
     "text": [
      "Confusion matrix:\n",
      "[[ 14028   8310]\n",
      " [  3550 131990]]\n"
     ]
    },
    {
     "name": "stdout",
     "output_type": "stream",
     "text": [
      "\n"
     ]
    },
    {
     "name": "stdout",
     "output_type": "stream",
     "text": [
      "Classification report:"
     ]
    },
    {
     "name": "stdout",
     "output_type": "stream",
     "text": [
      "\n"
     ]
    },
    {
     "name": "stdout",
     "output_type": "stream",
     "text": [
      "              precision    recall  f1-score   support\n",
      "\n",
      "       False       0.80      0.63      0.70     22338\n",
      "        True       0.94      0.97      0.96    135540\n",
      "\n",
      "    accuracy                           0.92    157878\n",
      "   macro avg       0.87      0.80      0.83    157878\n",
      "weighted avg       0.92      0.92      0.92    157878\n"
     ]
    },
    {
     "name": "stdout",
     "output_type": "stream",
     "text": [
      "\n"
     ]
    },
    {
     "name": "stdout",
     "output_type": "stream",
     "text": [
      "metrics={'accuracy': 0.9241878170981207, 'precision': 0.9396477786036938, 'recall': 0.9738875349092175, 'f1': 0.9564613230024919}\n"
     ]
    },
    {
     "name": "stdout",
     "output_type": "stream",
     "text": [
      "\n"
     ]
    },
    {
     "name": "stdout",
     "output_type": "stream",
     "text": [
      "Confusion matrix:\n",
      "[[ 14440   8444]\n",
      " [  3525 131468]]\n"
     ]
    },
    {
     "name": "stdout",
     "output_type": "stream",
     "text": [
      "\n"
     ]
    },
    {
     "name": "stdout",
     "output_type": "stream",
     "text": [
      "Classification report:"
     ]
    },
    {
     "name": "stdout",
     "output_type": "stream",
     "text": [
      "\n"
     ]
    },
    {
     "name": "stdout",
     "output_type": "stream",
     "text": [
      "metrics={'accuracy': 0.9240742852075653, 'precision': 0.9396451310928333, 'recall': 0.9737769746878564, 'f1': 0.956406629014485}\n"
     ]
    },
    {
     "name": "stdout",
     "output_type": "stream",
     "text": [
      "\n"
     ]
    },
    {
     "name": "stdout",
     "output_type": "stream",
     "text": [
      "Confusion matrix:\n",
      "[[ 14398   8446]\n",
      " [  3541 131493]]\n"
     ]
    },
    {
     "name": "stdout",
     "output_type": "stream",
     "text": [
      "\n"
     ]
    },
    {
     "name": "stdout",
     "output_type": "stream",
     "text": [
      "Classification report:"
     ]
    },
    {
     "name": "stdout",
     "output_type": "stream",
     "text": [
      "\n"
     ]
    },
    {
     "name": "stdout",
     "output_type": "stream",
     "text": [
      "              precision    recall  f1-score   support\n",
      "\n",
      "       False       0.80      0.63      0.71     22884\n",
      "        True       0.94      0.97      0.96    134993\n",
      "\n",
      "    accuracy                           0.92    157877\n",
      "   macro avg       0.87      0.80      0.83    157877\n",
      "weighted avg       0.92      0.92      0.92    157877\n"
     ]
    },
    {
     "name": "stdout",
     "output_type": "stream",
     "text": [
      "\n"
     ]
    },
    {
     "name": "stdout",
     "output_type": "stream",
     "text": [
      "              precision    recall  f1-score   support\n",
      "\n",
      "       False       0.80      0.63      0.71     22844\n",
      "        True       0.94      0.97      0.96    135034\n",
      "\n",
      "    accuracy                           0.92    157878\n",
      "   macro avg       0.87      0.80      0.83    157878\n",
      "weighted avg       0.92      0.92      0.92    157878\n"
     ]
    },
    {
     "name": "stdout",
     "output_type": "stream",
     "text": [
      "\n"
     ]
    },
    {
     "name": "stdout",
     "output_type": "stream",
     "text": [
      "metrics={'accuracy': 0.9251574000177352, 'precision': 0.9413939809262749, 'recall': 0.9733843110625608, 'f1': 0.9571219136922473}\n"
     ]
    },
    {
     "name": "stdout",
     "output_type": "stream",
     "text": [
      "\n"
     ]
    },
    {
     "name": "stdout",
     "output_type": "stream",
     "text": [
      "Confusion matrix:\n",
      "[[ 14184   8210]\n",
      " [  3606 131878]]\n"
     ]
    },
    {
     "name": "stdout",
     "output_type": "stream",
     "text": [
      "\n"
     ]
    },
    {
     "name": "stdout",
     "output_type": "stream",
     "text": [
      "Classification report:"
     ]
    },
    {
     "name": "stdout",
     "output_type": "stream",
     "text": [
      "\n"
     ]
    },
    {
     "name": "stdout",
     "output_type": "stream",
     "text": [
      "              precision    recall  f1-score   support\n",
      "\n",
      "       False       0.80      0.63      0.71     22394\n",
      "        True       0.94      0.97      0.96    135484\n",
      "\n",
      "    accuracy                           0.93    157878\n",
      "   macro avg       0.87      0.80      0.83    157878\n",
      "weighted avg       0.92      0.93      0.92    157878\n"
     ]
    },
    {
     "name": "stdout",
     "output_type": "stream",
     "text": [
      "\n"
     ]
    },
    {
     "name": "stdout",
     "output_type": "stream",
     "text": [
      "\n",
      "Performance metrics control + intra model:\n",
      "f1_scores=[0.9577470920740423, 0.9570040603248261, 0.9564613230024919, 0.956406629014485, 0.9571219136922473]\n",
      "f1_mean=0.9569482036216185, f1_std=0.0004902802691767377\n"
     ]
    }
   ],
   "source": [
    "contr_with_intra = get_feature_groups(FeatureGroups.Control, FeatureGroups.Intra)\n",
    "print(contr_with_intra)\n",
    "\n",
    "f1_scores, f1_mean, f1_std = kfold_rf_evaluation(\n",
    "    df, contr_with_intra, k, pr_merged_key, seed_counter\n",
    ")\n",
    "\n",
    "print(\"\\nPerformance metrics control + intra model:\")\n",
    "print(f\"{f1_scores=}\")\n",
    "print(f\"{f1_mean=}, {f1_std=}\")"
   ]
  },
  {
   "cell_type": "markdown",
   "metadata": {},
   "source": [
    "### Collaboration and Ecosystem Model"
   ]
  },
  {
   "cell_type": "code",
   "execution_count": 13,
   "metadata": {
    "execution": {
     "iopub.execute_input": "2024-02-21T11:22:05.321896Z",
     "iopub.status.busy": "2024-02-21T11:22:05.321752Z",
     "iopub.status.idle": "2024-02-21T11:27:50.791926Z",
     "shell.execute_reply": "2024-02-21T11:27:50.791487Z"
    }
   },
   "outputs": [
    {
     "name": "stdout",
     "output_type": "stream",
     "text": [
      "['EcosystemExperienceSubmitterPullRequestSuccessRate', 'ln(1 + EcosystemExperienceSubmitterPullRequestSubmissionCount)', 'ln(1 + EcosystemExperienceSubmitterPullRequestCommentCount)', 'ln(1 + EcosystemExperienceSubmitterIssueSubmissionCount)', 'ln(1 + EcosystemExperienceSubmitterIssueCommentCount)', 'DependencyEcosystemExperienceSubmitterPullRequestSuccessRate', 'ln(1 + DependencyEcosystemExperienceSubmitterPullRequestSubmissionCount)', 'ln(1 + DependencyEcosystemExperienceSubmitterPullRequestCommentCount)', 'ln(1 + DependencyEcosystemExperienceSubmitterIssueSubmissionCount)', 'ln(1 + DependencyEcosystemExperienceSubmitterIssueCommentCount)', 'InversedDependencyEcosystemExperienceSubmitterPullRequestSuccessRate', 'ln(1 + InversedDependencyEcosystemExperienceSubmitterPullRequestSubmissionCount)', 'ln(1 + InversedDependencyEcosystemExperienceSubmitterPullRequestCommentCount)', 'ln(1 + InversedDependencyEcosystemExperienceSubmitterIssueSubmissionCount)', 'ln(1 + InversedDependencyEcosystemExperienceSubmitterIssueCommentCount)', 'NonDependencyEcosystemExperienceSubmitterPullRequestSuccessRate', 'ln(1 + NonDependencyEcosystemExperienceSubmitterPullRequestSubmissionCount)', 'ln(1 + NonDependencyEcosystemExperienceSubmitterPullRequestCommentCount)', 'ln(1 + NonDependencyEcosystemExperienceSubmitterIssueSubmissionCount)', 'ln(1 + NonDependencyEcosystemExperienceSubmitterIssueCommentCount)', 'ln(1 + WeightedEcosystemSecondOrderDegreeCentrality)', 'ln(1 + EcosystemLinkIntensity)']\n"
     ]
    },
    {
     "name": "stdout",
     "output_type": "stream",
     "text": [
      "random_state=47"
     ]
    },
    {
     "name": "stdout",
     "output_type": "stream",
     "text": [
      "random_state=47"
     ]
    },
    {
     "name": "stdout",
     "output_type": "stream",
     "text": [
      "random_state=47"
     ]
    },
    {
     "name": "stdout",
     "output_type": "stream",
     "text": [
      "random_state=47"
     ]
    },
    {
     "name": "stdout",
     "output_type": "stream",
     "text": [
      "\n"
     ]
    },
    {
     "name": "stdout",
     "output_type": "stream",
     "text": [
      "\n"
     ]
    },
    {
     "name": "stdout",
     "output_type": "stream",
     "text": [
      "\n"
     ]
    },
    {
     "name": "stdout",
     "output_type": "stream",
     "text": [
      "\n"
     ]
    },
    {
     "name": "stdout",
     "output_type": "stream",
     "text": [
      "random_state=47"
     ]
    },
    {
     "name": "stdout",
     "output_type": "stream",
     "text": [
      "\n"
     ]
    },
    {
     "name": "stdout",
     "output_type": "stream",
     "text": [
      "metrics={'accuracy': 0.8541215368829096, 'precision': 0.8676268142068622, 'recall': 0.9790074783084672, 'f1': 0.9199581562329489}\n"
     ]
    },
    {
     "name": "stdout",
     "output_type": "stream",
     "text": [
      "\n"
     ]
    },
    {
     "name": "stdout",
     "output_type": "stream",
     "text": [
      "Confusion matrix:\n",
      "[[  2494  20193]\n",
      " [  2838 132353]]\n"
     ]
    },
    {
     "name": "stdout",
     "output_type": "stream",
     "text": [
      "\n"
     ]
    },
    {
     "name": "stdout",
     "output_type": "stream",
     "text": [
      "Classification report:"
     ]
    },
    {
     "name": "stdout",
     "output_type": "stream",
     "text": [
      "\n"
     ]
    },
    {
     "name": "stdout",
     "output_type": "stream",
     "text": [
      "metrics={'accuracy': 0.8558878113974803, 'precision': 0.869641369447852, 'recall': 0.9787373845506426, 'f1': 0.9209698148598423}\n"
     ]
    },
    {
     "name": "stdout",
     "output_type": "stream",
     "text": [
      "\n"
     ]
    },
    {
     "name": "stdout",
     "output_type": "stream",
     "text": [
      "Confusion matrix:\n",
      "[[  2556  19872]\n",
      " [  2880 132569]]\n"
     ]
    },
    {
     "name": "stdout",
     "output_type": "stream",
     "text": [
      "\n"
     ]
    },
    {
     "name": "stdout",
     "output_type": "stream",
     "text": [
      "Classification report:"
     ]
    },
    {
     "name": "stdout",
     "output_type": "stream",
     "text": [
      "\n"
     ]
    },
    {
     "name": "stdout",
     "output_type": "stream",
     "text": [
      "              precision    recall  f1-score   support\n",
      "\n",
      "       False       0.47      0.11      0.18     22687\n",
      "        True       0.87      0.98      0.92    135191\n",
      "\n",
      "    accuracy                           0.85    157878\n",
      "   macro avg       0.67      0.54      0.55    157878\n",
      "weighted avg       0.81      0.85      0.81    157878\n"
     ]
    },
    {
     "name": "stdout",
     "output_type": "stream",
     "text": [
      "\n"
     ]
    },
    {
     "name": "stdout",
     "output_type": "stream",
     "text": [
      "              precision    recall  f1-score   support\n",
      "\n",
      "       False       0.47      0.11      0.18     22428\n",
      "        True       0.87      0.98      0.92    135449\n",
      "\n",
      "    accuracy                           0.86    157877\n",
      "   macro avg       0.67      0.55      0.55    157877\n",
      "weighted avg       0.81      0.86      0.82    157877\n"
     ]
    },
    {
     "name": "stdout",
     "output_type": "stream",
     "text": [
      "\n"
     ]
    },
    {
     "name": "stdout",
     "output_type": "stream",
     "text": [
      "metrics={'accuracy': 0.855375669821001, 'precision': 0.8688954269351489, 'recall': 0.9791402073426471, 'f1': 0.9207294845489673}\n"
     ]
    },
    {
     "name": "stdout",
     "output_type": "stream",
     "text": [
      "\n"
     ]
    },
    {
     "name": "stdout",
     "output_type": "stream",
     "text": [
      "Confusion matrix:\n",
      "[[  2442  20008]\n",
      " [  2825 132603]]\n"
     ]
    },
    {
     "name": "stdout",
     "output_type": "stream",
     "text": [
      "\n"
     ]
    },
    {
     "name": "stdout",
     "output_type": "stream",
     "text": [
      "Classification report:"
     ]
    },
    {
     "name": "stdout",
     "output_type": "stream",
     "text": [
      "\n"
     ]
    },
    {
     "name": "stdout",
     "output_type": "stream",
     "text": [
      "              precision    recall  f1-score   support\n",
      "\n",
      "       False       0.46      0.11      0.18     22450\n",
      "        True       0.87      0.98      0.92    135428\n",
      "\n",
      "    accuracy                           0.86    157878\n",
      "   macro avg       0.67      0.54      0.55    157878\n",
      "weighted avg       0.81      0.86      0.81    157878\n"
     ]
    },
    {
     "name": "stdout",
     "output_type": "stream",
     "text": [
      "\n"
     ]
    },
    {
     "name": "stdout",
     "output_type": "stream",
     "text": [
      "metrics={'accuracy': 0.8541215368829096, 'precision': 0.8682026621881376, 'recall': 0.9782602267855295, 'f1': 0.9199514794256778}\n"
     ]
    },
    {
     "name": "stdout",
     "output_type": "stream",
     "text": [
      "\n"
     ]
    },
    {
     "name": "stdout",
     "output_type": "stream",
     "text": [
      "Confusion matrix:\n",
      "[[  2506  20090]\n",
      " [  2941 132341]]\n"
     ]
    },
    {
     "name": "stdout",
     "output_type": "stream",
     "text": [
      "\n"
     ]
    },
    {
     "name": "stdout",
     "output_type": "stream",
     "text": [
      "Classification report:"
     ]
    },
    {
     "name": "stdout",
     "output_type": "stream",
     "text": [
      "\n"
     ]
    },
    {
     "name": "stdout",
     "output_type": "stream",
     "text": [
      "              precision    recall  f1-score   support\n",
      "\n",
      "       False       0.46      0.11      0.18     22596\n",
      "        True       0.87      0.98      0.92    135282\n",
      "\n",
      "    accuracy                           0.85    157878\n",
      "   macro avg       0.66      0.54      0.55    157878\n",
      "weighted avg       0.81      0.85      0.81    157878\n"
     ]
    },
    {
     "name": "stdout",
     "output_type": "stream",
     "text": [
      "\n"
     ]
    },
    {
     "name": "stdout",
     "output_type": "stream",
     "text": [
      "metrics={'accuracy': 0.8545205791813932, 'precision': 0.8680525953372463, 'recall': 0.9789369365371673, 'f1': 0.920166285479913}\n"
     ]
    },
    {
     "name": "stdout",
     "output_type": "stream",
     "text": [
      "\n"
     ]
    },
    {
     "name": "stdout",
     "output_type": "stream",
     "text": [
      "Confusion matrix:\n",
      "[[  2545  20120]\n",
      " [  2848 132365]]\n"
     ]
    },
    {
     "name": "stdout",
     "output_type": "stream",
     "text": [
      "\n"
     ]
    },
    {
     "name": "stdout",
     "output_type": "stream",
     "text": [
      "Classification report:"
     ]
    },
    {
     "name": "stdout",
     "output_type": "stream",
     "text": [
      "\n"
     ]
    },
    {
     "name": "stdout",
     "output_type": "stream",
     "text": [
      "              precision    recall  f1-score   support\n",
      "\n",
      "       False       0.47      0.11      0.18     22665\n",
      "        True       0.87      0.98      0.92    135213\n",
      "\n",
      "    accuracy                           0.85    157878\n",
      "   macro avg       0.67      0.55      0.55    157878\n",
      "weighted avg       0.81      0.85      0.81    157878\n"
     ]
    },
    {
     "name": "stdout",
     "output_type": "stream",
     "text": [
      "\n"
     ]
    },
    {
     "name": "stdout",
     "output_type": "stream",
     "text": [
      "\n",
      "Performance metrics non-control model:\n",
      "f1_scores=[0.9199581562329489, 0.9209698148598423, 0.9207294845489673, 0.9199514794256778, 0.920166285479913]\n",
      "f1_mean=0.9203550441094699, f1_std=0.0004181298791070265\n"
     ]
    }
   ],
   "source": [
    "non_control_intra_fields = get_feature_groups(\n",
    "    FeatureGroups.Eco,\n",
    "    FeatureGroups.DEco,\n",
    "    FeatureGroups.IDEco,\n",
    "    FeatureGroups.NDEco,\n",
    "    FeatureGroups.Coll,\n",
    ")\n",
    "print(non_control_intra_fields)\n",
    "\n",
    "f1_scores, f1_mean, f1_std = kfold_rf_evaluation(\n",
    "    df, non_control_intra_fields, k, pr_merged_key, seed_counter\n",
    ")\n",
    "\n",
    "print(\"\\nPerformance metrics non-control model:\")\n",
    "print(f\"{f1_scores=}\")\n",
    "print(f\"{f1_mean=}, {f1_std=}\")"
   ]
  },
  {
   "cell_type": "markdown",
   "metadata": {},
   "source": [
    "## Feature Explanation and Evaluation"
   ]
  },
  {
   "cell_type": "markdown",
   "metadata": {},
   "source": [
    "### Model Creation"
   ]
  },
  {
   "cell_type": "code",
   "execution_count": 14,
   "metadata": {
    "execution": {
     "iopub.execute_input": "2024-02-21T11:27:50.794483Z",
     "iopub.status.busy": "2024-02-21T11:27:50.794346Z",
     "iopub.status.idle": "2024-02-21T11:39:47.051438Z",
     "shell.execute_reply": "2024-02-21T11:39:47.051028Z"
    }
   },
   "outputs": [
    {
     "name": "stdout",
     "output_type": "stream",
     "text": [
      "random_state=49\n"
     ]
    },
    {
     "name": "stdout",
     "output_type": "stream",
     "text": [
      "metrics={'accuracy': 0.9306489821254387, 'precision': 0.942308377071479, 'recall': 0.9789296124765103, 'f1': 0.960269971152276}\n",
      "\n",
      "Confusion matrix:\n",
      "[[ 14611   8101]\n",
      " [  2848 132318]]\n",
      "\n",
      "Classification report:\n",
      "              precision    recall  f1-score   support\n",
      "\n",
      "       False       0.84      0.64      0.73     22712\n",
      "        True       0.94      0.98      0.96    135166\n",
      "\n",
      "    accuracy                           0.93    157878\n",
      "   macro avg       0.89      0.81      0.84    157878\n",
      "weighted avg       0.93      0.93      0.93    157878\n",
      "\n"
     ]
    }
   ],
   "source": [
    "from sklearn.model_selection import train_test_split\n",
    "\n",
    "from python_proj.modelling.notebooks.random_forest.rf_functions import create_model\n",
    "\n",
    "\n",
    "train, test = train_test_split(df, test_size=0.2, shuffle=True)\n",
    "train_predictors = train[independent_fields]\n",
    "train_dependent = train[pr_merged_key]\n",
    "test_predictors = test[independent_fields]\n",
    "test_dependent = test[pr_merged_key]\n",
    "\n",
    "\n",
    "full_rf_model, _ = create_model(\n",
    "    train_predictors, train_dependent, test_predictors, test_dependent, seed_counter\n",
    ")"
   ]
  },
  {
   "cell_type": "markdown",
   "metadata": {},
   "source": [
    "### Mean decrease in Impurity"
   ]
  },
  {
   "cell_type": "code",
   "execution_count": 15,
   "metadata": {
    "execution": {
     "iopub.execute_input": "2024-02-21T11:39:47.053119Z",
     "iopub.status.busy": "2024-02-21T11:39:47.052958Z",
     "iopub.status.idle": "2024-02-21T11:39:47.515418Z",
     "shell.execute_reply": "2024-02-21T11:39:47.515018Z"
    }
   },
   "outputs": [
    {
     "name": "stderr",
     "output_type": "stream",
     "text": [
      "/tmp/ipykernel_34754/1648129876.py:16: UserWarning: Tight layout not applied. The bottom and top margins cannot be made large enough to accommodate all axes decorations.\n",
      "  plt.tight_layout()\n"
     ]
    },
    {
     "data": {
      "image/png": "[encoded data removed]",
      "text/plain": [
       "<Figure size 1000x600 with 1 Axes>"
      ]
     },
     "metadata": {},
     "output_type": "display_data"
    }
   ],
   "source": [
    "from matplotlib import pyplot as plt\n",
    "\n",
    "feature_importances = full_rf_model.feature_importances_\n",
    "\n",
    "sorted_indices = np.argsort(feature_importances)[::-1]\n",
    "sorted_importances = feature_importances[sorted_indices]\n",
    "\n",
    "# Step 4: Plot the mean decrease accuracy plot\n",
    "plt.figure(figsize=(10, 6))\n",
    "plt.bar(range(test_predictors.shape[1]), sorted_importances)\n",
    "plt.xlabel(\"Feature Index\")\n",
    "plt.ylabel(\"Mean Decrease in Gini\")\n",
    "plt.title(\"Mean Decrease in Gini of Features\")\n",
    "ordererd_columns = np.array(test_predictors.columns)[sorted_indices]\n",
    "plt.xticks(range(test_predictors.shape[1]), ordererd_columns, rotation=90)\n",
    "plt.tight_layout()\n",
    "plt.show()"
   ]
  },
  {
   "cell_type": "code",
   "execution_count": 16,
   "metadata": {
    "execution": {
     "iopub.execute_input": "2024-02-21T11:39:47.519380Z",
     "iopub.status.busy": "2024-02-21T11:39:47.519076Z",
     "iopub.status.idle": "2024-02-21T11:39:47.540955Z",
     "shell.execute_reply": "2024-02-21T11:39:47.540592Z"
    }
   },
   "outputs": [
    {
     "name": "stdout",
     "output_type": "stream",
     "text": [
      "ln(1 + ControlIntraProjectPullRequestExperienceOfIntegrator): 0.16887180303703742\n",
      "ln(1 + IntraProjectSubmitterPullRequestSubmissionCount): 0.16025196777716644\n",
      "ln(1 + ControlPullRequestLifeTimeInMinutes): 0.15586514137754984\n",
      "IntraProjectSubmitterPullRequestSuccessRate: 0.15255713125022058\n",
      "ln(1 + WeightedIntraProjectSecondOrderDegreeCentrality): 0.04693709128646645\n",
      "ln(1 + IntraProjectSubmitterPullRequestCommentCount): 0.031663149685790974\n",
      "ln(1 + ControlNumberOfCommitsInPullRequest): 0.030189530965508866\n",
      "ln(1 + WeightedEcosystemSecondOrderDegreeCentrality): 0.025674819105709554\n",
      "ln(1 + IntraProjectLinkIntensity): 0.025000849568079197\n",
      "ln(1 + IntraProjectSubmitterIssueCommentCount): 0.022950980246399248\n",
      "ControlIntegratedBySameUser: 0.01831955950106314\n",
      "ControlPullRequestHasComments: 0.013661230061826074\n",
      "EcosystemExperienceSubmitterPullRequestSuccessRate: 0.013396232394107614\n",
      "ln(1 + IntraProjectSubmitterIssueSubmissionCount): 0.012686461514547212\n",
      "ln(1 + EcosystemExperienceSubmitterIssueCommentCount): 0.012443155103124158\n",
      "ln(1 + NonDependencyEcosystemExperienceSubmitterIssueCommentCount): 0.011347981948127164\n",
      "ln(1 + EcosystemExperienceSubmitterPullRequestCommentCount): 0.011101360765514963\n",
      "ln(1 + EcosystemExperienceSubmitterPullRequestSubmissionCount): 0.010199426586238016\n",
      "ln(1 + NonDependencyEcosystemExperienceSubmitterPullRequestCommentCount): 0.009509615236707255\n",
      "ln(1 + NonDependencyEcosystemExperienceSubmitterPullRequestSubmissionCount): 0.00917499728022066\n",
      "ln(1 + NonDependencyEcosystemExperienceSubmitterIssueSubmissionCount): 0.008055269989692472\n",
      "ln(1 + EcosystemExperienceSubmitterIssueSubmissionCount): 0.007704047569733645\n",
      "ControlPullRequestHasCommentByExternalUser: 0.007376403107122139\n",
      "ControlHasHashTagInDescription: 0.007234400041245221\n",
      "NonDependencyEcosystemExperienceSubmitterPullRequestSuccessRate: 0.006523129499794329\n",
      "ln(1 + EcosystemLinkIntensity): 0.004837288872271256\n",
      "ln(1 + DependencyEcosystemExperienceSubmitterPullRequestCommentCount): 0.002497144908048958\n",
      "ln(1 + DependencyEcosystemExperienceSubmitterPullRequestSubmissionCount): 0.0023923463449383666\n",
      "ln(1 + DependencyEcosystemExperienceSubmitterIssueCommentCount): 0.0019438850560879765\n",
      "DependencyEcosystemExperienceSubmitterPullRequestSuccessRate: 0.001764847957030007\n",
      "ln(1 + InversedDependencyEcosystemExperienceSubmitterIssueCommentCount): 0.0014795113804217858\n",
      "ln(1 + InversedDependencyEcosystemExperienceSubmitterPullRequestSubmissionCount): 0.0014638095632688486\n",
      "ln(1 + InversedDependencyEcosystemExperienceSubmitterPullRequestCommentCount): 0.0014560182421330845\n",
      "ln(1 + DependencyEcosystemExperienceSubmitterIssueSubmissionCount): 0.0014248111083350564\n",
      "InversedDependencyEcosystemExperienceSubmitterPullRequestSuccessRate: 0.0011676676437871636\n",
      "ln(1 + InversedDependencyEcosystemExperienceSubmitterIssueSubmissionCount): 0.0008769340246848162\n"
     ]
    }
   ],
   "source": [
    "# Stores feature importances in file.\n",
    "output_file = f\"{figure_base_path}/feature_importance.txt\"\n",
    "with open(output_file, \"w+\", encoding=\"utf-8\") as output_file:\n",
    "    for field, importance in zip(ordererd_columns, sorted_importances):\n",
    "        entry = f\"{field}: {importance}\"\n",
    "        output_file.write(f'{entry}\\n')\n",
    "        print(entry)"
   ]
  },
  {
   "cell_type": "markdown",
   "metadata": {},
   "source": [
    "### Variable Group Reverse Ablation Studies\n",
    "\n",
    "Creates a model with a subset of features.\n",
    "Compared to regular ablation, it tests \"what happens if I add a feature\", instead of \"what happens when I remove one\"."
   ]
  },
  {
   "cell_type": "code",
   "execution_count": 17,
   "metadata": {
    "execution": {
     "iopub.execute_input": "2024-02-21T11:39:47.542476Z",
     "iopub.status.busy": "2024-02-21T11:39:47.542323Z",
     "iopub.status.idle": "2024-02-21T11:53:22.919474Z",
     "shell.execute_reply": "2024-02-21T11:53:22.918897Z"
    }
   },
   "outputs": [
    {
     "name": "stdout",
     "output_type": "stream",
     "text": [
      "Reverse ablation with \"FeatureGroups.Control\", including: ['ControlIntegratedBySameUser', 'ControlPullRequestHasComments', 'ControlPullRequestHasCommentByExternalUser', 'ControlHasHashTagInDescription', 'ln(1 + ControlPullRequestLifeTimeInMinutes)', 'ln(1 + ControlNumberOfCommitsInPullRequest)', 'ln(1 + ControlIntraProjectPullRequestExperienceOfIntegrator)'].\n"
     ]
    },
    {
     "name": "stdout",
     "output_type": "stream",
     "text": [
      "random_state=50"
     ]
    },
    {
     "name": "stdout",
     "output_type": "stream",
     "text": [
      "\n"
     ]
    },
    {
     "name": "stdout",
     "output_type": "stream",
     "text": [
      "random_state=50"
     ]
    },
    {
     "name": "stdout",
     "output_type": "stream",
     "text": [
      "\n"
     ]
    },
    {
     "name": "stdout",
     "output_type": "stream",
     "text": [
      "random_state=50"
     ]
    },
    {
     "name": "stdout",
     "output_type": "stream",
     "text": [
      "\n"
     ]
    },
    {
     "name": "stdout",
     "output_type": "stream",
     "text": [
      "random_state=50"
     ]
    },
    {
     "name": "stdout",
     "output_type": "stream",
     "text": [
      "\n"
     ]
    },
    {
     "name": "stdout",
     "output_type": "stream",
     "text": [
      "random_state=50"
     ]
    },
    {
     "name": "stdout",
     "output_type": "stream",
     "text": [
      "\n"
     ]
    },
    {
     "name": "stdout",
     "output_type": "stream",
     "text": [
      "metrics={'accuracy': 0.860479993919317, 'precision': 0.8964227539970498, 'recall': 0.9467579261359441, 'f1': 0.9209030418592291}\n"
     ]
    },
    {
     "name": "stdout",
     "output_type": "stream",
     "text": [
      "\n"
     ]
    },
    {
     "name": "stdout",
     "output_type": "stream",
     "text": [
      "Confusion matrix:\n",
      "[[  7623  14816]\n",
      " [  7211 128227]]\n"
     ]
    },
    {
     "name": "stdout",
     "output_type": "stream",
     "text": [
      "\n"
     ]
    },
    {
     "name": "stdout",
     "output_type": "stream",
     "text": [
      "Classification report:"
     ]
    },
    {
     "name": "stdout",
     "output_type": "stream",
     "text": [
      "\n"
     ]
    },
    {
     "name": "stdout",
     "output_type": "stream",
     "text": [
      "metrics={'accuracy': 0.8599804912654074, 'precision': 0.8951818828749634, 'recall': 0.9476926258567715, 'f1': 0.9206891355668291}\n"
     ]
    },
    {
     "name": "stdout",
     "output_type": "stream",
     "text": [
      "\n"
     ]
    },
    {
     "name": "stdout",
     "output_type": "stream",
     "text": [
      "Confusion matrix:\n",
      "[[  7462  15024]\n",
      " [  7082 128310]]\n"
     ]
    },
    {
     "name": "stdout",
     "output_type": "stream",
     "text": [
      "\n"
     ]
    },
    {
     "name": "stdout",
     "output_type": "stream",
     "text": [
      "Classification report:"
     ]
    },
    {
     "name": "stdout",
     "output_type": "stream",
     "text": [
      "\n"
     ]
    },
    {
     "name": "stdout",
     "output_type": "stream",
     "text": [
      "              precision    recall  f1-score   support\n",
      "\n",
      "       False       0.51      0.34      0.41     22439\n",
      "        True       0.90      0.95      0.92    135438\n",
      "\n",
      "    accuracy                           0.86    157877\n",
      "   macro avg       0.71      0.64      0.66    157877\n",
      "weighted avg       0.84      0.86      0.85    157877\n"
     ]
    },
    {
     "name": "stdout",
     "output_type": "stream",
     "text": [
      "\n"
     ]
    },
    {
     "name": "stdout",
     "output_type": "stream",
     "text": [
      "metrics={'accuracy': 0.8606392277581424, 'precision': 0.8954309050926734, 'recall': 0.9480889059716606, 'f1': 0.9210078482339679}\n"
     ]
    },
    {
     "name": "stdout",
     "output_type": "stream",
     "text": [
      "\n"
     ]
    },
    {
     "name": "stdout",
     "output_type": "stream",
     "text": [
      "Confusion matrix:\n",
      "[[  7610  14979]\n",
      " [  7023 128266]]\n"
     ]
    },
    {
     "name": "stdout",
     "output_type": "stream",
     "text": [
      "\n"
     ]
    },
    {
     "name": "stdout",
     "output_type": "stream",
     "text": [
      "Classification report:"
     ]
    },
    {
     "name": "stdout",
     "output_type": "stream",
     "text": [
      "\n"
     ]
    },
    {
     "name": "stdout",
     "output_type": "stream",
     "text": [
      "              precision    recall  f1-score   support\n",
      "\n",
      "       False       0.51      0.33      0.40     22486\n",
      "        True       0.90      0.95      0.92    135392\n",
      "\n",
      "    accuracy                           0.86    157878\n",
      "   macro avg       0.70      0.64      0.66    157878\n",
      "weighted avg       0.84      0.86      0.85    157878\n"
     ]
    },
    {
     "name": "stdout",
     "output_type": "stream",
     "text": [
      "\n"
     ]
    },
    {
     "name": "stdout",
     "output_type": "stream",
     "text": [
      "              precision    recall  f1-score   support\n",
      "\n",
      "       False       0.52      0.34      0.41     22589\n",
      "        True       0.90      0.95      0.92    135289\n",
      "\n",
      "    accuracy                           0.86    157878\n",
      "   macro avg       0.71      0.64      0.66    157878\n",
      "weighted avg       0.84      0.86      0.85    157878\n"
     ]
    },
    {
     "name": "stdout",
     "output_type": "stream",
     "text": [
      "\n"
     ]
    },
    {
     "name": "stdout",
     "output_type": "stream",
     "text": [
      "metrics={'accuracy': 0.8603161935165128, 'precision': 0.8961980325483118, 'recall': 0.9466620352236026, 'f1': 0.9207390927747607}\n"
     ]
    },
    {
     "name": "stdout",
     "output_type": "stream",
     "text": [
      "\n"
     ]
    },
    {
     "name": "stdout",
     "output_type": "stream",
     "text": [
      "Confusion matrix:\n",
      "[[  7735  14836]\n",
      " [  7217 128090]]\n"
     ]
    },
    {
     "name": "stdout",
     "output_type": "stream",
     "text": [
      "\n"
     ]
    },
    {
     "name": "stdout",
     "output_type": "stream",
     "text": [
      "Classification report:"
     ]
    },
    {
     "name": "stdout",
     "output_type": "stream",
     "text": [
      "\n"
     ]
    },
    {
     "name": "stdout",
     "output_type": "stream",
     "text": [
      "metrics={'accuracy': 0.8591317346305375, 'precision': 0.8946923136086814, 'recall': 0.9468761331093631, 'f1': 0.9200448669092165}\n"
     ]
    },
    {
     "name": "stdout",
     "output_type": "stream",
     "text": [
      "\n"
     ]
    },
    {
     "name": "stdout",
     "output_type": "stream",
     "text": [
      "Confusion matrix:\n",
      "[[  7680  15061]\n",
      " [  7179 127958]]\n"
     ]
    },
    {
     "name": "stdout",
     "output_type": "stream",
     "text": [
      "\n"
     ]
    },
    {
     "name": "stdout",
     "output_type": "stream",
     "text": [
      "Classification report:"
     ]
    },
    {
     "name": "stdout",
     "output_type": "stream",
     "text": [
      "\n"
     ]
    },
    {
     "name": "stdout",
     "output_type": "stream",
     "text": [
      "              precision    recall  f1-score   support\n",
      "\n",
      "       False       0.52      0.34      0.41     22571\n",
      "        True       0.90      0.95      0.92    135307\n",
      "\n",
      "    accuracy                           0.86    157878\n",
      "   macro avg       0.71      0.64      0.67    157878\n",
      "weighted avg       0.84      0.86      0.85    157878\n"
     ]
    },
    {
     "name": "stdout",
     "output_type": "stream",
     "text": [
      "\n"
     ]
    },
    {
     "name": "stdout",
     "output_type": "stream",
     "text": [
      "              precision    recall  f1-score   support\n",
      "\n",
      "       False       0.52      0.34      0.41     22741\n",
      "        True       0.89      0.95      0.92    135137\n",
      "\n",
      "    accuracy                           0.86    157878\n",
      "   macro avg       0.71      0.64      0.66    157878\n",
      "weighted avg       0.84      0.86      0.85    157878\n"
     ]
    },
    {
     "name": "stdout",
     "output_type": "stream",
     "text": [
      "\n"
     ]
    },
    {
     "name": "stdout",
     "output_type": "stream",
     "text": [
      "Performance of 'FeatureGroups.Control'\n",
      "['ControlIntegratedBySameUser', 'ControlPullRequestHasComments', 'ControlPullRequestHasCommentByExternalUser', 'ControlHasHashTagInDescription', 'ln(1 + ControlPullRequestLifeTimeInMinutes)', 'ln(1 + ControlNumberOfCommitsInPullRequest)', 'ln(1 + ControlIntraProjectPullRequestExperienceOfIntegrator)']\n",
      "f1_scores=[0.9209030418592291, 0.9206891355668291, 0.9210078482339679, 0.9207390927747607, 0.9200448669092165]\n",
      "f1_mean=0.9206767970688006, f1_std=0.00033590186044775156\n",
      "\n",
      "Reverse ablation with \"FeatureGroups.Intra\", including: ['IntraProjectSubmitterPullRequestSuccessRate', 'ln(1 + IntraProjectSubmitterPullRequestSubmissionCount)', 'ln(1 + IntraProjectSubmitterPullRequestCommentCount)', 'ln(1 + IntraProjectSubmitterIssueSubmissionCount)', 'ln(1 + IntraProjectSubmitterIssueCommentCount)'].\n"
     ]
    },
    {
     "name": "stdout",
     "output_type": "stream",
     "text": [
      "random_state=52"
     ]
    },
    {
     "name": "stdout",
     "output_type": "stream",
     "text": [
      "\n"
     ]
    },
    {
     "name": "stdout",
     "output_type": "stream",
     "text": [
      "random_state=52"
     ]
    },
    {
     "name": "stdout",
     "output_type": "stream",
     "text": [
      "\n"
     ]
    },
    {
     "name": "stdout",
     "output_type": "stream",
     "text": [
      "random_state=52"
     ]
    },
    {
     "name": "stdout",
     "output_type": "stream",
     "text": [
      "\n"
     ]
    },
    {
     "name": "stdout",
     "output_type": "stream",
     "text": [
      "random_state=52"
     ]
    },
    {
     "name": "stdout",
     "output_type": "stream",
     "text": [
      "\n"
     ]
    },
    {
     "name": "stdout",
     "output_type": "stream",
     "text": [
      "random_state=52"
     ]
    },
    {
     "name": "stdout",
     "output_type": "stream",
     "text": [
      "\n"
     ]
    },
    {
     "name": "stdout",
     "output_type": "stream",
     "text": [
      "metrics={'accuracy': 0.8629891435158793, 'precision': 0.8803659819018467, 'recall': 0.9721166220434004, 'f1': 0.9239691672847035}\n"
     ]
    },
    {
     "name": "stdout",
     "output_type": "stream",
     "text": [
      "\n"
     ]
    },
    {
     "name": "stdout",
     "output_type": "stream",
     "text": [
      "Confusion matrix:\n",
      "[[  4811  17861]\n",
      " [  3770 131436]]\n"
     ]
    },
    {
     "name": "stdout",
     "output_type": "stream",
     "text": [
      "\n"
     ]
    },
    {
     "name": "stdout",
     "output_type": "stream",
     "text": [
      "Classification report:"
     ]
    },
    {
     "name": "stdout",
     "output_type": "stream",
     "text": [
      "\n"
     ]
    },
    {
     "name": "stdout",
     "output_type": "stream",
     "text": [
      "              precision    recall  f1-score   support\n",
      "\n",
      "       False       0.56      0.21      0.31     22672\n",
      "        True       0.88      0.97      0.92    135206\n",
      "\n",
      "    accuracy                           0.86    157878\n",
      "   macro avg       0.72      0.59      0.62    157878\n",
      "weighted avg       0.83      0.86      0.84    157878\n"
     ]
    },
    {
     "name": "stdout",
     "output_type": "stream",
     "text": [
      "\n"
     ]
    },
    {
     "name": "stdout",
     "output_type": "stream",
     "text": [
      "metrics={'accuracy': 0.8632425037053928, 'precision': 0.8805545704554731, 'recall': 0.9723654849340171, 'f1': 0.9241854438580414}\n"
     ]
    },
    {
     "name": "stdout",
     "output_type": "stream",
     "text": [
      "\n"
     ]
    },
    {
     "name": "stdout",
     "output_type": "stream",
     "text": [
      "Confusion matrix:\n",
      "[[  4689  17851]\n",
      " [  3740 131598]]\n"
     ]
    },
    {
     "name": "stdout",
     "output_type": "stream",
     "text": [
      "\n"
     ]
    },
    {
     "name": "stdout",
     "output_type": "stream",
     "text": [
      "Classification report:"
     ]
    },
    {
     "name": "stdout",
     "output_type": "stream",
     "text": [
      "\n"
     ]
    },
    {
     "name": "stdout",
     "output_type": "stream",
     "text": [
      "metrics={'accuracy': 0.863900378142478, 'precision': 0.881104929469026, 'recall': 0.972453744753798, 'f1': 0.9245283681590992}\n"
     ]
    },
    {
     "name": "stdout",
     "output_type": "stream",
     "text": [
      "\n"
     ]
    },
    {
     "name": "stdout",
     "output_type": "stream",
     "text": [
      "Confusion matrix:\n",
      "[[  4782  17759]\n",
      " [  3728 131608]]\n"
     ]
    },
    {
     "name": "stdout",
     "output_type": "stream",
     "text": [
      "\n"
     ]
    },
    {
     "name": "stdout",
     "output_type": "stream",
     "text": [
      "Classification report:"
     ]
    },
    {
     "name": "stdout",
     "output_type": "stream",
     "text": [
      "\n"
     ]
    },
    {
     "name": "stdout",
     "output_type": "stream",
     "text": [
      "              precision    recall  f1-score   support\n",
      "\n",
      "       False       0.56      0.21      0.30     22540\n",
      "        True       0.88      0.97      0.92    135338\n",
      "\n",
      "    accuracy                           0.86    157878\n",
      "   macro avg       0.72      0.59      0.61    157878\n",
      "weighted avg       0.83      0.86      0.84    157878\n"
     ]
    },
    {
     "name": "stdout",
     "output_type": "stream",
     "text": [
      "\n"
     ]
    },
    {
     "name": "stdout",
     "output_type": "stream",
     "text": [
      "              precision    recall  f1-score   support\n",
      "\n",
      "       False       0.56      0.21      0.31     22541\n",
      "        True       0.88      0.97      0.92    135336\n",
      "\n",
      "    accuracy                           0.86    157877\n",
      "   macro avg       0.72      0.59      0.62    157877\n",
      "weighted avg       0.84      0.86      0.84    157877\n"
     ]
    },
    {
     "name": "stdout",
     "output_type": "stream",
     "text": [
      "metrics={'accuracy': 0.8642496104587086, 'precision': 0.8813352875432503, 'recall': 0.9726643573058771, 'f1': 0.9247503616420656}\n"
     ]
    },
    {
     "name": "stdout",
     "output_type": "stream",
     "text": [
      "\n"
     ]
    },
    {
     "name": "stdout",
     "output_type": "stream",
     "text": [
      "\n"
     ]
    },
    {
     "name": "stdout",
     "output_type": "stream",
     "text": [
      "Confusion matrix:\n",
      "[[  4756  17731]\n",
      " [  3701 131690]]\n"
     ]
    },
    {
     "name": "stdout",
     "output_type": "stream",
     "text": [
      "\n"
     ]
    },
    {
     "name": "stdout",
     "output_type": "stream",
     "text": [
      "Classification report:"
     ]
    },
    {
     "name": "stdout",
     "output_type": "stream",
     "text": [
      "\n"
     ]
    },
    {
     "name": "stdout",
     "output_type": "stream",
     "text": [
      "              precision    recall  f1-score   support\n",
      "\n",
      "       False       0.56      0.21      0.31     22487\n",
      "        True       0.88      0.97      0.92    135391\n",
      "\n",
      "    accuracy                           0.86    157878\n",
      "   macro avg       0.72      0.59      0.62    157878\n",
      "weighted avg       0.84      0.86      0.84    157878\n"
     ]
    },
    {
     "name": "stdout",
     "output_type": "stream",
     "text": [
      "\n"
     ]
    },
    {
     "name": "stdout",
     "output_type": "stream",
     "text": [
      "metrics={'accuracy': 0.864464966619795, 'precision': 0.8816311486395926, 'recall': 0.9723930461520267, 'f1': 0.9247905185018559}\n"
     ]
    },
    {
     "name": "stdout",
     "output_type": "stream",
     "text": [
      "\n"
     ]
    },
    {
     "name": "stdout",
     "output_type": "stream",
     "text": [
      "Confusion matrix:\n",
      "[[  4923  17663]\n",
      " [  3735 131557]]\n"
     ]
    },
    {
     "name": "stdout",
     "output_type": "stream",
     "text": [
      "\n"
     ]
    },
    {
     "name": "stdout",
     "output_type": "stream",
     "text": [
      "Classification report:"
     ]
    },
    {
     "name": "stdout",
     "output_type": "stream",
     "text": [
      "\n"
     ]
    },
    {
     "name": "stdout",
     "output_type": "stream",
     "text": [
      "              precision    recall  f1-score   support\n",
      "\n",
      "       False       0.57      0.22      0.32     22586\n",
      "        True       0.88      0.97      0.92    135292\n",
      "\n",
      "    accuracy                           0.86    157878\n",
      "   macro avg       0.73      0.60      0.62    157878\n",
      "weighted avg       0.84      0.86      0.84    157878\n"
     ]
    },
    {
     "name": "stdout",
     "output_type": "stream",
     "text": [
      "\n"
     ]
    },
    {
     "name": "stdout",
     "output_type": "stream",
     "text": [
      "Performance of 'FeatureGroups.Intra'\n",
      "['IntraProjectSubmitterPullRequestSuccessRate', 'ln(1 + IntraProjectSubmitterPullRequestSubmissionCount)', 'ln(1 + IntraProjectSubmitterPullRequestCommentCount)', 'ln(1 + IntraProjectSubmitterIssueSubmissionCount)', 'ln(1 + IntraProjectSubmitterIssueCommentCount)']\n",
      "f1_scores=[0.9239691672847035, 0.9241854438580414, 0.9245283681590992, 0.9247503616420656, 0.9247905185018559]\n",
      "f1_mean=0.9244447718891532, f1_std=0.000320426253956653\n",
      "\n",
      "Reverse ablation with \"FeatureGroups.Eco\", including: ['EcosystemExperienceSubmitterPullRequestSuccessRate', 'ln(1 + EcosystemExperienceSubmitterPullRequestSubmissionCount)', 'ln(1 + EcosystemExperienceSubmitterPullRequestCommentCount)', 'ln(1 + EcosystemExperienceSubmitterIssueSubmissionCount)', 'ln(1 + EcosystemExperienceSubmitterIssueCommentCount)'].\n"
     ]
    },
    {
     "name": "stdout",
     "output_type": "stream",
     "text": [
      "random_state=54"
     ]
    },
    {
     "name": "stdout",
     "output_type": "stream",
     "text": [
      "\n"
     ]
    },
    {
     "name": "stdout",
     "output_type": "stream",
     "text": [
      "random_state=54"
     ]
    },
    {
     "name": "stdout",
     "output_type": "stream",
     "text": [
      "\n"
     ]
    },
    {
     "name": "stdout",
     "output_type": "stream",
     "text": [
      "random_state=54"
     ]
    },
    {
     "name": "stdout",
     "output_type": "stream",
     "text": [
      "\n"
     ]
    },
    {
     "name": "stdout",
     "output_type": "stream",
     "text": [
      "random_state=54"
     ]
    },
    {
     "name": "stdout",
     "output_type": "stream",
     "text": [
      "\n"
     ]
    },
    {
     "name": "stdout",
     "output_type": "stream",
     "text": [
      "random_state=54"
     ]
    },
    {
     "name": "stdout",
     "output_type": "stream",
     "text": [
      "\n"
     ]
    },
    {
     "name": "stdout",
     "output_type": "stream",
     "text": [
      "metrics={'accuracy': 0.8529307439921965, 'precision': 0.8637245802042022, 'recall': 0.9835614818318895, 'f1': 0.9197560090546214}\n"
     ]
    },
    {
     "name": "stdout",
     "output_type": "stream",
     "text": [
      "\n"
     ]
    },
    {
     "name": "stdout",
     "output_type": "stream",
     "text": [
      "Confusion matrix:\n",
      "[[  1591  20995]\n",
      " [  2224 133068]]\n"
     ]
    },
    {
     "name": "stdout",
     "output_type": "stream",
     "text": [
      "\n"
     ]
    },
    {
     "name": "stdout",
     "output_type": "stream",
     "text": [
      "Classification report:"
     ]
    },
    {
     "name": "stdout",
     "output_type": "stream",
     "text": [
      "\n"
     ]
    },
    {
     "name": "stdout",
     "output_type": "stream",
     "text": [
      "metrics={'accuracy': 0.8535831464801936, 'precision': 0.8639042118242586, 'recall': 0.9841421220723917, 'f1': 0.9201116970907608}\n"
     ]
    },
    {
     "name": "stdout",
     "output_type": "stream",
     "text": [
      "\n"
     ]
    },
    {
     "name": "stdout",
     "output_type": "stream",
     "text": [
      "metrics={'accuracy': 0.8542102129492393, 'precision': 0.8646464777580186, 'recall': 0.9840307271854342, 'f1': 0.9204837924017922}\n"
     ]
    },
    {
     "name": "stdout",
     "output_type": "stream",
     "text": [
      "Confusion matrix:\n",
      "[[  1643  20971]\n",
      " [  2145 133119]]\n"
     ]
    },
    {
     "name": "stdout",
     "output_type": "stream",
     "text": [
      "\n"
     ]
    },
    {
     "name": "stdout",
     "output_type": "stream",
     "text": [
      "\n"
     ]
    },
    {
     "name": "stdout",
     "output_type": "stream",
     "text": [
      "Confusion matrix:\n",
      "[[  1638  20855]\n",
      " [  2162 133223]]\n"
     ]
    },
    {
     "name": "stdout",
     "output_type": "stream",
     "text": [
      "Classification report:"
     ]
    },
    {
     "name": "stdout",
     "output_type": "stream",
     "text": [
      "\n"
     ]
    },
    {
     "name": "stdout",
     "output_type": "stream",
     "text": [
      "\n"
     ]
    },
    {
     "name": "stdout",
     "output_type": "stream",
     "text": [
      "Classification report:"
     ]
    },
    {
     "name": "stdout",
     "output_type": "stream",
     "text": [
      "\n"
     ]
    },
    {
     "name": "stdout",
     "output_type": "stream",
     "text": [
      "metrics={'accuracy': 0.853874510698134, 'precision': 0.8645206565387464, 'recall': 0.9835881361445427, 'f1': 0.9202188362393918}\n"
     ]
    },
    {
     "name": "stdout",
     "output_type": "stream",
     "text": [
      "\n"
     ]
    },
    {
     "name": "stdout",
     "output_type": "stream",
     "text": [
      "Confusion matrix:\n",
      "[[  1760  20850]\n",
      " [  2220 133048]]\n"
     ]
    },
    {
     "name": "stdout",
     "output_type": "stream",
     "text": [
      "\n"
     ]
    },
    {
     "name": "stdout",
     "output_type": "stream",
     "text": [
      "Classification report:"
     ]
    },
    {
     "name": "stdout",
     "output_type": "stream",
     "text": [
      "\n"
     ]
    },
    {
     "name": "stdout",
     "output_type": "stream",
     "text": [
      "metrics={'accuracy': 0.8543739746764887, 'precision': 0.8650164051586915, 'recall': 0.9836355039378223, 'f1': 0.9205203461138247}\n"
     ]
    },
    {
     "name": "stdout",
     "output_type": "stream",
     "text": [
      "\n"
     ]
    },
    {
     "name": "stdout",
     "output_type": "stream",
     "text": [
      "Confusion matrix:\n",
      "[[  1747  20776]\n",
      " [  2215 133139]]\n"
     ]
    },
    {
     "name": "stdout",
     "output_type": "stream",
     "text": [
      "\n"
     ]
    },
    {
     "name": "stdout",
     "output_type": "stream",
     "text": [
      "Classification report:"
     ]
    },
    {
     "name": "stdout",
     "output_type": "stream",
     "text": [
      "\n"
     ]
    },
    {
     "name": "stdout",
     "output_type": "stream",
     "text": [
      "              precision    recall  f1-score   support\n",
      "\n",
      "       False       0.42      0.07      0.12     22586\n",
      "        True       0.86      0.98      0.92    135292\n",
      "\n",
      "    accuracy                           0.85    157878\n",
      "   macro avg       0.64      0.53      0.52    157878\n",
      "weighted avg       0.80      0.85      0.81    157878\n"
     ]
    },
    {
     "name": "stdout",
     "output_type": "stream",
     "text": [
      "\n"
     ]
    },
    {
     "name": "stdout",
     "output_type": "stream",
     "text": [
      "              precision    recall  f1-score   support\n",
      "\n",
      "       False       0.43      0.07      0.12     22493\n",
      "        True       0.86      0.98      0.92    135385\n",
      "\n",
      "    accuracy                           0.85    157878\n",
      "   macro avg       0.65      0.53      0.52    157878\n",
      "weighted avg       0.80      0.85      0.81    157878\n"
     ]
    },
    {
     "name": "stdout",
     "output_type": "stream",
     "text": [
      "              precision    recall  f1-score   support\n",
      "\n",
      "       False       0.43      0.07      0.12     22614\n",
      "        True       0.86      0.98      0.92    135264\n",
      "\n",
      "    accuracy                           0.85    157878\n",
      "   macro avg       0.65      0.53      0.52    157878\n",
      "weighted avg       0.80      0.85      0.81    157878\n"
     ]
    },
    {
     "name": "stdout",
     "output_type": "stream",
     "text": [
      "\n"
     ]
    },
    {
     "name": "stdout",
     "output_type": "stream",
     "text": [
      "\n"
     ]
    },
    {
     "name": "stdout",
     "output_type": "stream",
     "text": [
      "              precision    recall  f1-score   support\n",
      "\n",
      "       False       0.44      0.08      0.13     22610\n",
      "        True       0.86      0.98      0.92    135268\n",
      "\n",
      "    accuracy                           0.85    157878\n",
      "   macro avg       0.65      0.53      0.53    157878\n",
      "weighted avg       0.80      0.85      0.81    157878\n"
     ]
    },
    {
     "name": "stdout",
     "output_type": "stream",
     "text": [
      "\n"
     ]
    },
    {
     "name": "stdout",
     "output_type": "stream",
     "text": [
      "              precision    recall  f1-score   support\n",
      "\n",
      "       False       0.44      0.08      0.13     22523\n",
      "        True       0.87      0.98      0.92    135354\n",
      "\n",
      "    accuracy                           0.85    157877\n",
      "   macro avg       0.65      0.53      0.53    157877\n",
      "weighted avg       0.80      0.85      0.81    157877\n"
     ]
    },
    {
     "name": "stdout",
     "output_type": "stream",
     "text": [
      "\n"
     ]
    },
    {
     "name": "stdout",
     "output_type": "stream",
     "text": [
      "Performance of 'FeatureGroups.Eco'\n",
      "['EcosystemExperienceSubmitterPullRequestSuccessRate', 'ln(1 + EcosystemExperienceSubmitterPullRequestSubmissionCount)', 'ln(1 + EcosystemExperienceSubmitterPullRequestCommentCount)', 'ln(1 + EcosystemExperienceSubmitterIssueSubmissionCount)', 'ln(1 + EcosystemExperienceSubmitterIssueCommentCount)']\n",
      "f1_scores=[0.9197560090546214, 0.9204837924017922, 0.9201116970907608, 0.9202188362393918, 0.9205203461138247]\n",
      "f1_mean=0.9202181361800781, f1_std=0.0002781349751797398\n",
      "\n",
      "Reverse ablation with \"FeatureGroups.DEco\", including: ['DependencyEcosystemExperienceSubmitterPullRequestSuccessRate', 'ln(1 + DependencyEcosystemExperienceSubmitterPullRequestSubmissionCount)', 'ln(1 + DependencyEcosystemExperienceSubmitterPullRequestCommentCount)', 'ln(1 + DependencyEcosystemExperienceSubmitterIssueSubmissionCount)', 'ln(1 + DependencyEcosystemExperienceSubmitterIssueCommentCount)'].\n"
     ]
    },
    {
     "name": "stdout",
     "output_type": "stream",
     "text": [
      "random_state=56"
     ]
    },
    {
     "name": "stdout",
     "output_type": "stream",
     "text": [
      "\n"
     ]
    },
    {
     "name": "stdout",
     "output_type": "stream",
     "text": [
      "random_state=56"
     ]
    },
    {
     "name": "stdout",
     "output_type": "stream",
     "text": [
      "\n"
     ]
    },
    {
     "name": "stdout",
     "output_type": "stream",
     "text": [
      "random_state=56"
     ]
    },
    {
     "name": "stdout",
     "output_type": "stream",
     "text": [
      "\n"
     ]
    },
    {
     "name": "stdout",
     "output_type": "stream",
     "text": [
      "random_state=56"
     ]
    },
    {
     "name": "stdout",
     "output_type": "stream",
     "text": [
      "\n"
     ]
    },
    {
     "name": "stdout",
     "output_type": "stream",
     "text": [
      "random_state=56"
     ]
    },
    {
     "name": "stdout",
     "output_type": "stream",
     "text": [
      "\n"
     ]
    },
    {
     "name": "stdout",
     "output_type": "stream",
     "text": [
      "metrics={'accuracy': 0.8556607000342036, 'precision': 0.8572073217236558, 'recall': 0.9976256342737104, 'f1': 0.9221013625766578}\n"
     ]
    },
    {
     "name": "stdout",
     "output_type": "stream",
     "text": [
      "\n"
     ]
    },
    {
     "name": "stdout",
     "output_type": "stream",
     "text": [
      "Confusion matrix:\n",
      "[[   217  22467]\n",
      " [   321 134873]]\n"
     ]
    },
    {
     "name": "stdout",
     "output_type": "stream",
     "text": [
      "\n"
     ]
    },
    {
     "name": "stdout",
     "output_type": "stream",
     "text": [
      "Classification report:"
     ]
    },
    {
     "name": "stdout",
     "output_type": "stream",
     "text": [
      "\n"
     ]
    },
    {
     "name": "stdout",
     "output_type": "stream",
     "text": [
      "metrics={'accuracy': 0.8572885392518274, 'precision': 0.859075972618586, 'recall': 0.9973509445100354, 'f1': 0.9230637896828785}\n"
     ]
    },
    {
     "name": "stdout",
     "output_type": "stream",
     "text": [
      "\n"
     ]
    },
    {
     "name": "stdout",
     "output_type": "stream",
     "text": [
      "Confusion matrix:\n",
      "[[   186  22172]\n",
      " [   359 135161]]\n"
     ]
    },
    {
     "name": "stdout",
     "output_type": "stream",
     "text": [
      "\n"
     ]
    },
    {
     "name": "stdout",
     "output_type": "stream",
     "text": [
      "Classification report:"
     ]
    },
    {
     "name": "stdout",
     "output_type": "stream",
     "text": [
      "\n"
     ]
    },
    {
     "name": "stdout",
     "output_type": "stream",
     "text": [
      "              precision    recall  f1-score   support\n",
      "\n",
      "       False       0.40      0.01      0.02     22684\n",
      "        True       0.86      1.00      0.92    135194\n",
      "\n",
      "    accuracy                           0.86    157878\n",
      "   macro avg       0.63      0.50      0.47    157878\n",
      "weighted avg       0.79      0.86      0.79    157878\n"
     ]
    },
    {
     "name": "stdout",
     "output_type": "stream",
     "text": [
      "\n"
     ]
    },
    {
     "name": "stdout",
     "output_type": "stream",
     "text": [
      "              precision    recall  f1-score   support\n",
      "\n",
      "       False       0.34      0.01      0.02     22358\n",
      "        True       0.86      1.00      0.92    135520\n",
      "\n",
      "    accuracy                           0.86    157878\n",
      "   macro avg       0.60      0.50      0.47    157878\n",
      "weighted avg       0.79      0.86      0.79    157878\n"
     ]
    },
    {
     "name": "stdout",
     "output_type": "stream",
     "text": [
      "\n"
     ]
    },
    {
     "name": "stdout",
     "output_type": "stream",
     "text": [
      "metrics={'accuracy': 0.8557367080910576, 'precision': 0.8571383188258466, 'recall': 0.9978475694547176, 'f1': 0.9221562207351001}\n"
     ]
    },
    {
     "name": "stdout",
     "output_type": "stream",
     "text": [
      "\n"
     ]
    },
    {
     "name": "stdout",
     "output_type": "stream",
     "text": [
      "Confusion matrix:\n",
      "[[   197  22485]\n",
      " [   291 134905]]\n"
     ]
    },
    {
     "name": "stdout",
     "output_type": "stream",
     "text": [
      "\n"
     ]
    },
    {
     "name": "stdout",
     "output_type": "stream",
     "text": [
      "Classification report:"
     ]
    },
    {
     "name": "stdout",
     "output_type": "stream",
     "text": [
      "\n"
     ]
    },
    {
     "name": "stdout",
     "output_type": "stream",
     "text": [
      "              precision    recall  f1-score   support\n",
      "\n",
      "       False       0.40      0.01      0.02     22682\n",
      "        True       0.86      1.00      0.92    135196\n",
      "\n",
      "    accuracy                           0.86    157878\n",
      "   macro avg       0.63      0.50      0.47    157878\n",
      "weighted avg       0.79      0.86      0.79    157878\n"
     ]
    },
    {
     "name": "stdout",
     "output_type": "stream",
     "text": [
      "\n"
     ]
    },
    {
     "name": "stdout",
     "output_type": "stream",
     "text": [
      "metrics={'accuracy': 0.8561357503895413, 'precision': 0.85757313880487, 'recall': 0.9977893935249192, 'f1': 0.922382949058364}\n"
     ]
    },
    {
     "name": "stdout",
     "output_type": "stream",
     "text": [
      "\n"
     ]
    },
    {
     "name": "stdout",
     "output_type": "stream",
     "text": [
      "Confusion matrix:\n",
      "[[   207  22414]\n",
      " [   299 134958]]\n"
     ]
    },
    {
     "name": "stdout",
     "output_type": "stream",
     "text": [
      "\n"
     ]
    },
    {
     "name": "stdout",
     "output_type": "stream",
     "text": [
      "Classification report:"
     ]
    },
    {
     "name": "stdout",
     "output_type": "stream",
     "text": [
      "\n"
     ]
    },
    {
     "name": "stdout",
     "output_type": "stream",
     "text": [
      "              precision    recall  f1-score   support\n",
      "\n",
      "       False       0.41      0.01      0.02     22621\n",
      "        True       0.86      1.00      0.92    135257\n",
      "\n",
      "    accuracy                           0.86    157878\n",
      "   macro avg       0.63      0.50      0.47    157878\n",
      "weighted avg       0.79      0.86      0.79    157878\n"
     ]
    },
    {
     "name": "stdout",
     "output_type": "stream",
     "text": [
      "\n"
     ]
    },
    {
     "name": "stdout",
     "output_type": "stream",
     "text": [
      "metrics={'accuracy': 0.8570722777858713, 'precision': 0.8584189427004911, 'recall': 0.997931992082484, 'f1': 0.9229329535480214}\n"
     ]
    },
    {
     "name": "stdout",
     "output_type": "stream",
     "text": [
      "\n"
     ]
    },
    {
     "name": "stdout",
     "output_type": "stream",
     "text": [
      "Confusion matrix:\n",
      "[[   196  22285]\n",
      " [   280 135116]]\n"
     ]
    },
    {
     "name": "stdout",
     "output_type": "stream",
     "text": [
      "\n"
     ]
    },
    {
     "name": "stdout",
     "output_type": "stream",
     "text": [
      "Classification report:"
     ]
    },
    {
     "name": "stdout",
     "output_type": "stream",
     "text": [
      "\n"
     ]
    },
    {
     "name": "stdout",
     "output_type": "stream",
     "text": [
      "              precision    recall  f1-score   support\n",
      "\n",
      "       False       0.41      0.01      0.02     22481\n",
      "        True       0.86      1.00      0.92    135396\n",
      "\n",
      "    accuracy                           0.86    157877\n",
      "   macro avg       0.64      0.50      0.47    157877\n",
      "weighted avg       0.79      0.86      0.79    157877\n"
     ]
    },
    {
     "name": "stdout",
     "output_type": "stream",
     "text": [
      "\n"
     ]
    },
    {
     "name": "stdout",
     "output_type": "stream",
     "text": [
      "Performance of 'FeatureGroups.DEco'\n",
      "['DependencyEcosystemExperienceSubmitterPullRequestSuccessRate', 'ln(1 + DependencyEcosystemExperienceSubmitterPullRequestSubmissionCount)', 'ln(1 + DependencyEcosystemExperienceSubmitterPullRequestCommentCount)', 'ln(1 + DependencyEcosystemExperienceSubmitterIssueSubmissionCount)', 'ln(1 + DependencyEcosystemExperienceSubmitterIssueCommentCount)']\n",
      "f1_scores=[0.9221013625766578, 0.9230637896828785, 0.9221562207351001, 0.922382949058364, 0.9229329535480214]\n",
      "f1_mean=0.9225274551202045, f1_std=0.0003980792796263914\n",
      "\n",
      "Reverse ablation with \"FeatureGroups.IDEco\", including: ['InversedDependencyEcosystemExperienceSubmitterPullRequestSuccessRate', 'ln(1 + InversedDependencyEcosystemExperienceSubmitterPullRequestSubmissionCount)', 'ln(1 + InversedDependencyEcosystemExperienceSubmitterPullRequestCommentCount)', 'ln(1 + InversedDependencyEcosystemExperienceSubmitterIssueSubmissionCount)', 'ln(1 + InversedDependencyEcosystemExperienceSubmitterIssueCommentCount)'].\n"
     ]
    },
    {
     "name": "stdout",
     "output_type": "stream",
     "text": [
      "random_state=58"
     ]
    },
    {
     "name": "stdout",
     "output_type": "stream",
     "text": [
      "\n"
     ]
    },
    {
     "name": "stdout",
     "output_type": "stream",
     "text": [
      "random_state=58"
     ]
    },
    {
     "name": "stdout",
     "output_type": "stream",
     "text": [
      "\n"
     ]
    },
    {
     "name": "stdout",
     "output_type": "stream",
     "text": [
      "random_state=58"
     ]
    },
    {
     "name": "stdout",
     "output_type": "stream",
     "text": [
      "\n"
     ]
    },
    {
     "name": "stdout",
     "output_type": "stream",
     "text": [
      "random_state=58"
     ]
    },
    {
     "name": "stdout",
     "output_type": "stream",
     "text": [
      "\n"
     ]
    },
    {
     "name": "stdout",
     "output_type": "stream",
     "text": [
      "random_state=58"
     ]
    },
    {
     "name": "stdout",
     "output_type": "stream",
     "text": [
      "\n"
     ]
    },
    {
     "name": "stdout",
     "output_type": "stream",
     "text": [
      "metrics={'accuracy': 0.8570605150812652, 'precision': 0.858232268715474, 'recall': 0.9982275134228932, 'f1': 0.9229513849767663}\n"
     ]
    },
    {
     "name": "stdout",
     "output_type": "stream",
     "text": [
      "\n"
     ]
    },
    {
     "name": "stdout",
     "output_type": "stream",
     "text": [
      "Confusion matrix:\n",
      "[[   148  22327]\n",
      " [   240 135163]]\n"
     ]
    },
    {
     "name": "stdout",
     "output_type": "stream",
     "text": [
      "\n"
     ]
    },
    {
     "name": "stdout",
     "output_type": "stream",
     "text": [
      "Classification report:"
     ]
    },
    {
     "name": "stdout",
     "output_type": "stream",
     "text": [
      "\n"
     ]
    },
    {
     "name": "stdout",
     "output_type": "stream",
     "text": [
      "              precision    recall  f1-score   support\n",
      "\n",
      "       False       0.38      0.01      0.01     22475\n",
      "        True       0.86      1.00      0.92    135403\n",
      "\n",
      "    accuracy                           0.86    157878\n",
      "   macro avg       0.62      0.50      0.47    157878\n",
      "weighted avg       0.79      0.86      0.79    157878\n"
     ]
    },
    {
     "name": "stdout",
     "output_type": "stream",
     "text": [
      "\n"
     ]
    },
    {
     "name": "stdout",
     "output_type": "stream",
     "text": [
      "metrics={'accuracy': 0.8568071548917519, 'precision': 0.8580438234360114, 'recall': 0.9981086771822245, 'f1': 0.9227916189955772}\n"
     ]
    },
    {
     "name": "stdout",
     "output_type": "stream",
     "text": [
      "\n"
     ]
    },
    {
     "name": "stdout",
     "output_type": "stream",
     "text": [
      "Confusion matrix:\n",
      "[[   172  22351]\n",
      " [   256 135099]]\n"
     ]
    },
    {
     "name": "stdout",
     "output_type": "stream",
     "text": [
      "\n"
     ]
    },
    {
     "name": "stdout",
     "output_type": "stream",
     "text": [
      "Classification report:"
     ]
    },
    {
     "name": "stdout",
     "output_type": "stream",
     "text": [
      "\n"
     ]
    },
    {
     "name": "stdout",
     "output_type": "stream",
     "text": [
      "              precision    recall  f1-score   support\n",
      "\n",
      "       False       0.40      0.01      0.01     22523\n",
      "        True       0.86      1.00      0.92    135355\n",
      "\n",
      "    accuracy                           0.86    157878\n",
      "   macro avg       0.63      0.50      0.47    157878\n",
      "weighted avg       0.79      0.86      0.79    157878\n"
     ]
    },
    {
     "name": "stdout",
     "output_type": "stream",
     "text": [
      "\n"
     ]
    },
    {
     "name": "stdout",
     "output_type": "stream",
     "text": [
      "metrics={'accuracy': 0.8563131025222007, 'precision': 0.8575710810930961, 'recall': 0.9980930136297785, 'f1': 0.9225114687125324}\n"
     ]
    },
    {
     "name": "stdout",
     "output_type": "stream",
     "text": [
      "\n"
     ]
    },
    {
     "name": "stdout",
     "output_type": "stream",
     "text": [
      "Confusion matrix:\n",
      "[[   159  22427]\n",
      " [   258 135034]]\n"
     ]
    },
    {
     "name": "stdout",
     "output_type": "stream",
     "text": [
      "\n"
     ]
    },
    {
     "name": "stdout",
     "output_type": "stream",
     "text": [
      "Classification report:"
     ]
    },
    {
     "name": "stdout",
     "output_type": "stream",
     "text": [
      "\n"
     ]
    },
    {
     "name": "stdout",
     "output_type": "stream",
     "text": [
      "metrics={'accuracy': 0.8559828220703459, 'precision': 0.857250827241491, 'recall': 0.9980700405217545, 'f1': 0.9223163310977256}\n"
     ]
    },
    {
     "name": "stdout",
     "output_type": "stream",
     "text": [
      "\n"
     ]
    },
    {
     "name": "stdout",
     "output_type": "stream",
     "text": [
      "Confusion matrix:\n",
      "[[   165  22476]\n",
      " [   261 134975]]\n"
     ]
    },
    {
     "name": "stdout",
     "output_type": "stream",
     "text": [
      "\n"
     ]
    },
    {
     "name": "stdout",
     "output_type": "stream",
     "text": [
      "Classification report:"
     ]
    },
    {
     "name": "stdout",
     "output_type": "stream",
     "text": [
      "\n"
     ]
    },
    {
     "name": "stdout",
     "output_type": "stream",
     "text": [
      "              precision    recall  f1-score   support\n",
      "\n",
      "       False       0.38      0.01      0.01     22586\n",
      "        True       0.86      1.00      0.92    135292\n",
      "\n",
      "    accuracy                           0.86    157878\n",
      "   macro avg       0.62      0.50      0.47    157878\n",
      "weighted avg       0.79      0.86      0.79    157878\n"
     ]
    },
    {
     "name": "stdout",
     "output_type": "stream",
     "text": [
      "\n"
     ]
    },
    {
     "name": "stdout",
     "output_type": "stream",
     "text": [
      "              precision    recall  f1-score   support\n",
      "\n",
      "       False       0.39      0.01      0.01     22641\n",
      "        True       0.86      1.00      0.92    135236\n",
      "\n",
      "    accuracy                           0.86    157877\n",
      "   macro avg       0.62      0.50      0.47    157877\n",
      "weighted avg       0.79      0.86      0.79    157877\n"
     ]
    },
    {
     "name": "stdout",
     "output_type": "stream",
     "text": [
      "\n"
     ]
    },
    {
     "name": "stdout",
     "output_type": "stream",
     "text": [
      "metrics={'accuracy': 0.8562054244416575, 'precision': 0.8575012543903663, 'recall': 0.9980336642592607, 'f1': 0.9224457167844112}\n"
     ]
    },
    {
     "name": "stdout",
     "output_type": "stream",
     "text": [
      "\n"
     ]
    },
    {
     "name": "stdout",
     "output_type": "stream",
     "text": [
      "Confusion matrix:\n",
      "[[   165  22436]\n",
      " [   266 135011]]\n"
     ]
    },
    {
     "name": "stdout",
     "output_type": "stream",
     "text": [
      "\n"
     ]
    },
    {
     "name": "stdout",
     "output_type": "stream",
     "text": [
      "Classification report:"
     ]
    },
    {
     "name": "stdout",
     "output_type": "stream",
     "text": [
      "\n"
     ]
    },
    {
     "name": "stdout",
     "output_type": "stream",
     "text": [
      "              precision    recall  f1-score   support\n",
      "\n",
      "       False       0.38      0.01      0.01     22601\n",
      "        True       0.86      1.00      0.92    135277\n",
      "\n",
      "    accuracy                           0.86    157878\n",
      "   macro avg       0.62      0.50      0.47    157878\n",
      "weighted avg       0.79      0.86      0.79    157878\n"
     ]
    },
    {
     "name": "stdout",
     "output_type": "stream",
     "text": [
      "\n"
     ]
    },
    {
     "name": "stdout",
     "output_type": "stream",
     "text": [
      "Performance of 'FeatureGroups.IDEco'\n",
      "['InversedDependencyEcosystemExperienceSubmitterPullRequestSuccessRate', 'ln(1 + InversedDependencyEcosystemExperienceSubmitterPullRequestSubmissionCount)', 'ln(1 + InversedDependencyEcosystemExperienceSubmitterPullRequestCommentCount)', 'ln(1 + InversedDependencyEcosystemExperienceSubmitterIssueSubmissionCount)', 'ln(1 + InversedDependencyEcosystemExperienceSubmitterIssueCommentCount)']\n",
      "f1_scores=[0.9229513849767663, 0.9227916189955772, 0.9225114687125324, 0.9223163310977256, 0.9224457167844112]\n",
      "f1_mean=0.9226033041134025, f1_std=0.0002333425812520404\n",
      "\n",
      "Reverse ablation with \"FeatureGroups.NDEco\", including: ['NonDependencyEcosystemExperienceSubmitterPullRequestSuccessRate', 'ln(1 + NonDependencyEcosystemExperienceSubmitterPullRequestSubmissionCount)', 'ln(1 + NonDependencyEcosystemExperienceSubmitterPullRequestCommentCount)', 'ln(1 + NonDependencyEcosystemExperienceSubmitterIssueSubmissionCount)', 'ln(1 + NonDependencyEcosystemExperienceSubmitterIssueCommentCount)'].\n"
     ]
    },
    {
     "name": "stdout",
     "output_type": "stream",
     "text": [
      "random_state=60"
     ]
    },
    {
     "name": "stdout",
     "output_type": "stream",
     "text": [
      "\n"
     ]
    },
    {
     "name": "stdout",
     "output_type": "stream",
     "text": [
      "random_state=60"
     ]
    },
    {
     "name": "stdout",
     "output_type": "stream",
     "text": [
      "\n"
     ]
    },
    {
     "name": "stdout",
     "output_type": "stream",
     "text": [
      "random_state=60"
     ]
    },
    {
     "name": "stdout",
     "output_type": "stream",
     "text": [
      "\n"
     ]
    },
    {
     "name": "stdout",
     "output_type": "stream",
     "text": [
      "random_state=60"
     ]
    },
    {
     "name": "stdout",
     "output_type": "stream",
     "text": [
      "\n"
     ]
    },
    {
     "name": "stdout",
     "output_type": "stream",
     "text": [
      "random_state=60"
     ]
    },
    {
     "name": "stdout",
     "output_type": "stream",
     "text": [
      "\n"
     ]
    },
    {
     "name": "stdout",
     "output_type": "stream",
     "text": [
      "metrics={'accuracy': 0.8544255691103257, 'precision': 0.8637491336144633, 'recall': 0.9855941223427845, 'f1': 0.9206577162209281}\n"
     ]
    },
    {
     "name": "stdout",
     "output_type": "stream",
     "text": [
      "\n"
     ]
    },
    {
     "name": "stdout",
     "output_type": "stream",
     "text": [
      "Confusion matrix:\n",
      "[[  1552  21034]\n",
      " [  1949 133343]]\n"
     ]
    },
    {
     "name": "stdout",
     "output_type": "stream",
     "text": [
      "\n"
     ]
    },
    {
     "name": "stdout",
     "output_type": "stream",
     "text": [
      "Classification report:"
     ]
    },
    {
     "name": "stdout",
     "output_type": "stream",
     "text": [
      "\n"
     ]
    },
    {
     "name": "stdout",
     "output_type": "stream",
     "text": [
      "              precision    recall  f1-score   support\n",
      "\n",
      "       False       0.44      0.07      0.12     22586\n",
      "        True       0.86      0.99      0.92    135292\n",
      "\n",
      "    accuracy                           0.85    157878\n",
      "   macro avg       0.65      0.53      0.52    157878\n",
      "weighted avg       0.80      0.85      0.81    157878\n"
     ]
    },
    {
     "name": "stdout",
     "output_type": "stream",
     "text": [
      "\n"
     ]
    },
    {
     "name": "stdout",
     "output_type": "stream",
     "text": [
      "metrics={'accuracy': 0.8539559277158801, 'precision': 0.8638013507732594, 'recall': 0.9848942821458396, 'f1': 0.9203819126711441}\n"
     ]
    },
    {
     "name": "stdout",
     "output_type": "stream",
     "text": [
      "\n"
     ]
    },
    {
     "name": "stdout",
     "output_type": "stream",
     "text": [
      "Confusion matrix:\n",
      "[[  1551  21013]\n",
      " [  2044 133269]]\n"
     ]
    },
    {
     "name": "stdout",
     "output_type": "stream",
     "text": [
      "\n"
     ]
    },
    {
     "name": "stdout",
     "output_type": "stream",
     "text": [
      "Classification report:"
     ]
    },
    {
     "name": "stdout",
     "output_type": "stream",
     "text": [
      "\n"
     ]
    },
    {
     "name": "stdout",
     "output_type": "stream",
     "text": [
      "              precision    recall  f1-score   support\n",
      "\n",
      "       False       0.43      0.07      0.12     22564\n",
      "        True       0.86      0.98      0.92    135313\n",
      "\n",
      "    accuracy                           0.85    157877\n",
      "   macro avg       0.65      0.53      0.52    157877\n",
      "weighted avg       0.80      0.85      0.81    157877\n"
     ]
    },
    {
     "name": "stdout",
     "output_type": "stream",
     "text": [
      "\n"
     ]
    },
    {
     "name": "stdout",
     "output_type": "stream",
     "text": [
      "metrics={'accuracy': 0.8535008044186017, 'precision': 0.8634484278196853, 'recall': 0.9847887948556857, 'f1': 0.920135495833952}\n"
     ]
    },
    {
     "name": "stdout",
     "output_type": "stream",
     "text": [
      "\n"
     ]
    },
    {
     "name": "stdout",
     "output_type": "stream",
     "text": [
      "Confusion matrix:\n",
      "[[  1512  21071]\n",
      " [  2058 133237]]\n"
     ]
    },
    {
     "name": "stdout",
     "output_type": "stream",
     "text": [
      "\n"
     ]
    },
    {
     "name": "stdout",
     "output_type": "stream",
     "text": [
      "Classification report:"
     ]
    },
    {
     "name": "stdout",
     "output_type": "stream",
     "text": [
      "\n"
     ]
    },
    {
     "name": "stdout",
     "output_type": "stream",
     "text": [
      "              precision    recall  f1-score   support\n",
      "\n",
      "       False       0.42      0.07      0.12     22583\n",
      "        True       0.86      0.98      0.92    135295\n",
      "\n",
      "    accuracy                           0.85    157878\n",
      "   macro avg       0.64      0.53      0.52    157878\n",
      "weighted avg       0.80      0.85      0.81    157878\n"
     ]
    },
    {
     "name": "stdout",
     "output_type": "stream",
     "text": [
      "\n"
     ]
    },
    {
     "name": "stdout",
     "output_type": "stream",
     "text": [
      "metrics={'accuracy': 0.854102534868696, 'precision': 0.8634847002572094, 'recall': 0.9854851709171035, 'f1': 0.9204599606339997}\n"
     ]
    },
    {
     "name": "stdout",
     "output_type": "stream",
     "text": [
      "\n"
     ]
    },
    {
     "name": "stdout",
     "output_type": "stream",
     "text": [
      "Confusion matrix:\n",
      "[[  1566  21071]\n",
      " [  1963 133278]]\n"
     ]
    },
    {
     "name": "stdout",
     "output_type": "stream",
     "text": [
      "\n"
     ]
    },
    {
     "name": "stdout",
     "output_type": "stream",
     "text": [
      "Classification report:"
     ]
    },
    {
     "name": "stdout",
     "output_type": "stream",
     "text": [
      "\n"
     ]
    },
    {
     "name": "stdout",
     "output_type": "stream",
     "text": [
      "              precision    recall  f1-score   support\n",
      "\n",
      "       False       0.44      0.07      0.12     22637\n",
      "        True       0.86      0.99      0.92    135241\n",
      "\n",
      "    accuracy                           0.85    157878\n",
      "   macro avg       0.65      0.53      0.52    157878\n",
      "weighted avg       0.80      0.85      0.81    157878\n"
     ]
    },
    {
     "name": "stdout",
     "output_type": "stream",
     "text": [
      "\n"
     ]
    },
    {
     "name": "stdout",
     "output_type": "stream",
     "text": [
      "metrics={'accuracy': 0.8545395811956067, 'precision': 0.8644929180306615, 'recall': 0.9847809070904284, 'f1': 0.9207247822649964}\n"
     ]
    },
    {
     "name": "stdout",
     "output_type": "stream",
     "text": [
      "\n"
     ]
    },
    {
     "name": "stdout",
     "output_type": "stream",
     "text": [
      "Confusion matrix:\n",
      "[[  1552  20904]\n",
      " [  2061 133361]]\n"
     ]
    },
    {
     "name": "stdout",
     "output_type": "stream",
     "text": [
      "\n"
     ]
    },
    {
     "name": "stdout",
     "output_type": "stream",
     "text": [
      "Classification report:"
     ]
    },
    {
     "name": "stdout",
     "output_type": "stream",
     "text": [
      "\n"
     ]
    },
    {
     "name": "stdout",
     "output_type": "stream",
     "text": [
      "              precision    recall  f1-score   support\n",
      "\n",
      "       False       0.43      0.07      0.12     22456\n",
      "        True       0.86      0.98      0.92    135422\n",
      "\n",
      "    accuracy                           0.85    157878\n",
      "   macro avg       0.65      0.53      0.52    157878\n",
      "weighted avg       0.80      0.85      0.81    157878\n"
     ]
    },
    {
     "name": "stdout",
     "output_type": "stream",
     "text": [
      "\n"
     ]
    },
    {
     "name": "stdout",
     "output_type": "stream",
     "text": [
      "Performance of 'FeatureGroups.NDEco'\n",
      "['NonDependencyEcosystemExperienceSubmitterPullRequestSuccessRate', 'ln(1 + NonDependencyEcosystemExperienceSubmitterPullRequestSubmissionCount)', 'ln(1 + NonDependencyEcosystemExperienceSubmitterPullRequestCommentCount)', 'ln(1 + NonDependencyEcosystemExperienceSubmitterIssueSubmissionCount)', 'ln(1 + NonDependencyEcosystemExperienceSubmitterIssueCommentCount)']\n",
      "f1_scores=[0.9206577162209281, 0.9203819126711441, 0.920135495833952, 0.9204599606339997, 0.9207247822649964]\n",
      "f1_mean=0.920471973525004, f1_std=0.00020970699159999972\n",
      "\n",
      "Reverse ablation with \"FeatureGroups.Coll\", including: ['ln(1 + WeightedEcosystemSecondOrderDegreeCentrality)', 'ln(1 + EcosystemLinkIntensity)'].\n"
     ]
    },
    {
     "name": "stdout",
     "output_type": "stream",
     "text": [
      "random_state=62"
     ]
    },
    {
     "name": "stdout",
     "output_type": "stream",
     "text": [
      "\n"
     ]
    },
    {
     "name": "stdout",
     "output_type": "stream",
     "text": [
      "random_state=62"
     ]
    },
    {
     "name": "stdout",
     "output_type": "stream",
     "text": [
      "random_state=62"
     ]
    },
    {
     "name": "stdout",
     "output_type": "stream",
     "text": [
      "\n"
     ]
    },
    {
     "name": "stdout",
     "output_type": "stream",
     "text": [
      "\n"
     ]
    },
    {
     "name": "stdout",
     "output_type": "stream",
     "text": [
      "random_state=62"
     ]
    },
    {
     "name": "stdout",
     "output_type": "stream",
     "text": [
      "random_state=62"
     ]
    },
    {
     "name": "stdout",
     "output_type": "stream",
     "text": [
      "\n"
     ]
    },
    {
     "name": "stdout",
     "output_type": "stream",
     "text": [
      "\n"
     ]
    },
    {
     "name": "stdout",
     "output_type": "stream",
     "text": [
      "metrics={'accuracy': 0.8393253018153257, 'precision': 0.8637828892933973, 'recall': 0.9646077880606724, 'f1': 0.9114153911698253}\n"
     ]
    },
    {
     "name": "stdout",
     "output_type": "stream",
     "text": [
      "\n"
     ]
    },
    {
     "name": "stdout",
     "output_type": "stream",
     "text": [
      "Confusion matrix:\n",
      "[[  2015  20579]\n",
      " [  4788 130496]]\n"
     ]
    },
    {
     "name": "stdout",
     "output_type": "stream",
     "text": [
      "\n"
     ]
    },
    {
     "name": "stdout",
     "output_type": "stream",
     "text": [
      "Classification report:"
     ]
    },
    {
     "name": "stdout",
     "output_type": "stream",
     "text": [
      "\n"
     ]
    },
    {
     "name": "stdout",
     "output_type": "stream",
     "text": [
      "              precision    recall  f1-score   support\n",
      "\n",
      "       False       0.30      0.09      0.14     22594\n",
      "        True       0.86      0.96      0.91    135284\n",
      "\n",
      "    accuracy                           0.84    157878\n",
      "   macro avg       0.58      0.53      0.52    157878\n",
      "weighted avg       0.78      0.84      0.80    157878\n"
     ]
    },
    {
     "name": "stdout",
     "output_type": "stream",
     "text": [
      "\n"
     ]
    },
    {
     "name": "stdout",
     "output_type": "stream",
     "text": [
      "metrics={'accuracy': 0.8389262595168421, 'precision': 0.8637411100957527, 'recall': 0.9641289082711213, 'f1': 0.9111783279311502}\n"
     ]
    },
    {
     "name": "stdout",
     "output_type": "stream",
     "text": [
      "\n"
     ]
    },
    {
     "name": "stdout",
     "output_type": "stream",
     "text": [
      "Confusion matrix:\n",
      "[[  2011  20577]\n",
      " [  4853 130437]]\n"
     ]
    },
    {
     "name": "stdout",
     "output_type": "stream",
     "text": [
      "\n"
     ]
    },
    {
     "name": "stdout",
     "output_type": "stream",
     "text": [
      "Classification report:"
     ]
    },
    {
     "name": "stdout",
     "output_type": "stream",
     "text": [
      "\n"
     ]
    },
    {
     "name": "stdout",
     "output_type": "stream",
     "text": [
      "              precision    recall  f1-score   support\n",
      "\n",
      "       False       0.29      0.09      0.14     22588\n",
      "        True       0.86      0.96      0.91    135290\n",
      "\n",
      "    accuracy                           0.84    157878\n",
      "   macro avg       0.58      0.53      0.52    157878\n",
      "weighted avg       0.78      0.84      0.80    157878\n"
     ]
    },
    {
     "name": "stdout",
     "output_type": "stream",
     "text": [
      "\n"
     ]
    },
    {
     "name": "stdout",
     "output_type": "stream",
     "text": [
      "metrics={'accuracy': 0.8388882554884151, 'precision': 0.863713144454528, 'recall': 0.9640514902143454, 'f1': 0.9111281925858635}\n"
     ]
    },
    {
     "name": "stdout",
     "output_type": "stream",
     "text": [
      "\n"
     ]
    },
    {
     "name": "stdout",
     "output_type": "stream",
     "text": [
      "Confusion matrix:\n",
      "[[  2055  20574]\n",
      " [  4862 130387]]\n"
     ]
    },
    {
     "name": "stdout",
     "output_type": "stream",
     "text": [
      "\n"
     ]
    },
    {
     "name": "stdout",
     "output_type": "stream",
     "text": [
      "Classification report:"
     ]
    },
    {
     "name": "stdout",
     "output_type": "stream",
     "text": [
      "\n"
     ]
    },
    {
     "name": "stdout",
     "output_type": "stream",
     "text": [
      "              precision    recall  f1-score   support\n",
      "\n",
      "       False       0.30      0.09      0.14     22629\n",
      "        True       0.86      0.96      0.91    135249\n",
      "\n",
      "    accuracy                           0.84    157878\n",
      "   macro avg       0.58      0.53      0.53    157878\n",
      "weighted avg       0.78      0.84      0.80    157878\n"
     ]
    },
    {
     "name": "stdout",
     "output_type": "stream",
     "text": [
      "\n"
     ]
    },
    {
     "name": "stdout",
     "output_type": "stream",
     "text": [
      "metrics={'accuracy': 0.8386022029808015, 'precision': 0.8636405804784308, 'recall': 0.9637445927459607, 'f1': 0.9109507417568016}\n"
     ]
    },
    {
     "name": "stdout",
     "output_type": "stream",
     "text": [
      "\n"
     ]
    },
    {
     "name": "stdout",
     "output_type": "stream",
     "text": [
      "Confusion matrix:\n",
      "[[  2064  20578]\n",
      " [  4903 130332]]\n"
     ]
    },
    {
     "name": "stdout",
     "output_type": "stream",
     "text": [
      "\n"
     ]
    },
    {
     "name": "stdout",
     "output_type": "stream",
     "text": [
      "Classification report:"
     ]
    },
    {
     "name": "stdout",
     "output_type": "stream",
     "text": [
      "\n"
     ]
    },
    {
     "name": "stdout",
     "output_type": "stream",
     "text": [
      "              precision    recall  f1-score   support\n",
      "\n",
      "       False       0.30      0.09      0.14     22642\n",
      "        True       0.86      0.96      0.91    135235\n",
      "\n",
      "    accuracy                           0.84    157877\n",
      "   macro avg       0.58      0.53      0.53    157877\n",
      "weighted avg       0.78      0.84      0.80    157877\n"
     ]
    },
    {
     "name": "stdout",
     "output_type": "stream",
     "text": [
      "\n"
     ]
    },
    {
     "name": "stdout",
     "output_type": "stream",
     "text": [
      "metrics={'accuracy': 0.8399840383080607, 'precision': 0.8646099300162722, 'recall': 0.9646138518873842, 'f1': 0.911878276702839}\n"
     ]
    },
    {
     "name": "stdout",
     "output_type": "stream",
     "text": [
      "\n"
     ]
    },
    {
     "name": "stdout",
     "output_type": "stream",
     "text": [
      "Confusion matrix:\n",
      "[[  1905  20468]\n",
      " [  4795 130710]]\n"
     ]
    },
    {
     "name": "stdout",
     "output_type": "stream",
     "text": [
      "\n"
     ]
    },
    {
     "name": "stdout",
     "output_type": "stream",
     "text": [
      "Classification report:"
     ]
    },
    {
     "name": "stdout",
     "output_type": "stream",
     "text": [
      "\n"
     ]
    },
    {
     "name": "stdout",
     "output_type": "stream",
     "text": [
      "              precision    recall  f1-score   support\n",
      "\n",
      "       False       0.28      0.09      0.13     22373\n",
      "        True       0.86      0.96      0.91    135505\n",
      "\n",
      "    accuracy                           0.84    157878\n",
      "   macro avg       0.57      0.52      0.52    157878\n",
      "weighted avg       0.78      0.84      0.80    157878\n"
     ]
    },
    {
     "name": "stdout",
     "output_type": "stream",
     "text": [
      "\n"
     ]
    },
    {
     "name": "stdout",
     "output_type": "stream",
     "text": [
      "Performance of 'FeatureGroups.Coll'\n",
      "['ln(1 + WeightedEcosystemSecondOrderDegreeCentrality)', 'ln(1 + EcosystemLinkIntensity)']\n",
      "f1_scores=[0.9114153911698253, 0.9111783279311502, 0.9111281925858635, 0.9109507417568016, 0.911878276702839]\n",
      "f1_mean=0.9113101860292959, f1_std=0.0003204694966727651\n",
      "\n"
     ]
    }
   ],
   "source": [
    "rev_abl_results = dict()\n",
    "\n",
    "for cluster_name, cluster in var_groups.items():\n",
    "    print(f'Reverse ablation with \"{str(cluster_name)}\", including: {cluster}.')\n",
    "\n",
    "    # Creates models\n",
    "    f1_scores, f1_mean, f1_std = kfold_rf_evaluation(\n",
    "        df, cluster, k, pr_merged_key, seed_counter\n",
    "    )\n",
    "    rev_abl_results[cluster_name] = (f1_scores, f1_mean, f1_std)\n",
    "\n",
    "    print(\n",
    "        f\"Performance of '{cluster_name}'\\n{list(cluster)}\\n{f1_scores=}\\n{f1_mean=}, {f1_std=}\\n\"\n",
    "    )"
   ]
  },
  {
   "cell_type": "code",
   "execution_count": 18,
   "metadata": {
    "execution": {
     "iopub.execute_input": "2024-02-21T11:53:22.921262Z",
     "iopub.status.busy": "2024-02-21T11:53:22.921123Z",
     "iopub.status.idle": "2024-02-21T11:53:22.943342Z",
     "shell.execute_reply": "2024-02-21T11:53:22.943061Z"
    }
   },
   "outputs": [
    {
     "name": "stdout",
     "output_type": "stream",
     "text": [
      "Reverse cluster ablation results:\n",
      "Cluster 'FeatureGroups.Control':\n",
      "f1_scores=[0.9209030418592291, 0.9206891355668291, 0.9210078482339679, 0.9207390927747607, 0.9200448669092165]\n",
      "f1_mean=0.9206767970688006, f1_std=0.00033590186044775156\n",
      "\n",
      "Cluster 'FeatureGroups.Intra':\n",
      "f1_scores=[0.9239691672847035, 0.9241854438580414, 0.9245283681590992, 0.9247503616420656, 0.9247905185018559]\n",
      "f1_mean=0.9244447718891532, f1_std=0.000320426253956653\n",
      "\n",
      "Cluster 'FeatureGroups.Eco':\n",
      "f1_scores=[0.9197560090546214, 0.9204837924017922, 0.9201116970907608, 0.9202188362393918, 0.9205203461138247]\n",
      "f1_mean=0.9202181361800781, f1_std=0.0002781349751797398\n",
      "\n",
      "Cluster 'FeatureGroups.DEco':\n",
      "f1_scores=[0.9221013625766578, 0.9230637896828785, 0.9221562207351001, 0.922382949058364, 0.9229329535480214]\n",
      "f1_mean=0.9225274551202045, f1_std=0.0003980792796263914\n",
      "\n",
      "Cluster 'FeatureGroups.IDEco':\n",
      "f1_scores=[0.9229513849767663, 0.9227916189955772, 0.9225114687125324, 0.9223163310977256, 0.9224457167844112]\n",
      "f1_mean=0.9226033041134025, f1_std=0.0002333425812520404\n",
      "\n",
      "Cluster 'FeatureGroups.NDEco':\n",
      "f1_scores=[0.9206577162209281, 0.9203819126711441, 0.920135495833952, 0.9204599606339997, 0.9207247822649964]\n",
      "f1_mean=0.920471973525004, f1_std=0.00020970699159999972\n",
      "\n",
      "Cluster 'FeatureGroups.Coll':\n",
      "f1_scores=[0.9114153911698253, 0.9111783279311502, 0.9111281925858635, 0.9109507417568016, 0.911878276702839]\n",
      "f1_mean=0.9113101860292959, f1_std=0.0003204694966727651\n",
      "\n"
     ]
    }
   ],
   "source": [
    "# Prints summarized results again for clarity.\n",
    "print(\"Reverse cluster ablation results:\")\n",
    "for cluster_name, (f1_scores, f1_mean, f1_std) in rev_abl_results.items():\n",
    "    print(f\"Cluster '{cluster_name}':\\n{f1_scores=}\\n{f1_mean=}, {f1_std=}\\n\")"
   ]
  },
  {
   "cell_type": "markdown",
   "metadata": {},
   "source": [
    "### Probability Guesser\n",
    "\n",
    "Guesses the outcome by simply considering the probability of a merged pull request.\n",
    "Technically, an RF model performs somewhat well when its performance scores are ``> 0.5`` as there are only two possible outcomes.\n",
    "However, they actually mean anything once it's better than a simple probability guesser."
   ]
  },
  {
   "cell_type": "code",
   "execution_count": 19,
   "metadata": {
    "execution": {
     "iopub.execute_input": "2024-02-21T11:53:22.944787Z",
     "iopub.status.busy": "2024-02-21T11:53:22.944663Z",
     "iopub.status.idle": "2024-02-21T11:53:23.171499Z",
     "shell.execute_reply": "2024-02-21T11:53:23.171100Z"
    }
   },
   "outputs": [
    {
     "name": "stdout",
     "output_type": "stream",
     "text": [
      "Probability guesser metrics with probability_true=0.8570717352281322.\n",
      "{\n",
      "    \"accuracy\": 0.7551970508873941,\n",
      "    \"precision\": 0.8564590827504192,\n",
      "    \"recall\": 0.8578340706982526,\n",
      "    \"f1\": 0.857146025304104\n",
      "}\n"
     ]
    }
   ],
   "source": [
    "import random\n",
    "\n",
    "from python_proj.modelling.notebooks.random_forest.rf_functions import calculate_metrics\n",
    "\n",
    "random.seed(seed_counter.get_next())\n",
    "\n",
    "probability_true = class_imbalance / (class_imbalance + 1)\n",
    "\n",
    "predictions = [random.random() < probability_true for _ in range(len(test_dependent))]\n",
    "metrics = calculate_metrics(predictions, test_dependent)\n",
    "\n",
    "print(f\"Probability guesser metrics with {probability_true=}.\")\n",
    "print(json.dumps(metrics, indent=4))"
   ]
  },
  {
   "cell_type": "code",
   "execution_count": 20,
   "metadata": {
    "execution": {
     "iopub.execute_input": "2024-02-21T11:53:23.173262Z",
     "iopub.status.busy": "2024-02-21T11:53:23.173127Z",
     "iopub.status.idle": "2024-02-21T11:53:23.193087Z",
     "shell.execute_reply": "2024-02-21T11:53:23.192686Z"
    }
   },
   "outputs": [
    {
     "name": "stdout",
     "output_type": "stream",
     "text": [
      "2024-02-21 11:53:23.191269\n"
     ]
    }
   ],
   "source": [
    "import datetime\n",
    "\n",
    "print(datetime.datetime.now())"
   ]
  }
 ],
 "metadata": {
  "kernelspec": {
   "display_name": "Python 3",
   "language": "python",
   "name": "python3"
  },
  "language_info": {
   "codemirror_mode": {
    "name": "ipython",
    "version": 3
   },
   "file_extension": ".py",
   "mimetype": "text/x-python",
   "name": "python",
   "nbconvert_exporter": "python",
   "pygments_lexer": "ipython3",
   "version": "3.11.8"
  }
 },
 "nbformat": 4,
 "nbformat_minor": 2
}
