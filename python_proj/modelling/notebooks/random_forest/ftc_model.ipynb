{
 "cells": [
  {
   "cell_type": "code",
   "execution_count": 1,
   "metadata": {
    "execution": {
     "iopub.execute_input": "2024-02-21T12:12:42.102091Z",
     "iopub.status.busy": "2024-02-21T12:12:42.101965Z",
     "iopub.status.idle": "2024-02-21T12:12:42.117496Z",
     "shell.execute_reply": "2024-02-21T12:12:42.117153Z"
    }
   },
   "outputs": [],
   "source": [
    "# Forces the notebook to always reload packages.\n",
    "%reload_ext autoreload\n",
    "%autoreload 2"
   ]
  },
  {
   "cell_type": "markdown",
   "metadata": {},
   "source": [
    "## Dataset loading"
   ]
  },
  {
   "cell_type": "markdown",
   "metadata": {},
   "source": [
    "### Regular dataset loading"
   ]
  },
  {
   "cell_type": "code",
   "execution_count": 2,
   "metadata": {
    "execution": {
     "iopub.execute_input": "2024-02-21T12:12:42.119467Z",
     "iopub.status.busy": "2024-02-21T12:12:42.119343Z",
     "iopub.status.idle": "2024-02-21T12:12:42.425087Z",
     "shell.execute_reply": "2024-02-21T12:12:42.424698Z"
    }
   },
   "outputs": [],
   "source": [
    "from python_proj.utils.util import Counter\n",
    "import python_proj.utils.exp_utils as exp_utils\n",
    "\n",
    "# Defines a number of constants.\n",
    "\n",
    "file_name = \"dataset_transformed\"\n",
    "base_path = exp_utils.BASE_PATH\n",
    "data_path = f\"{base_path}/final_data/{file_name}.csv\"\n",
    "figure_base_path = f\"{base_path}/figures/modelling/{file_name}/rf_ftc/\"\n",
    "\n",
    "# Meta stuff.\n",
    "pr_merged_key = \"PullRequestIsMerged\"\n",
    "ftc_key = \"SubmitterIsFirstTimeContributor\"\n",
    "seed_counter = Counter()"
   ]
  },
  {
   "cell_type": "code",
   "execution_count": 3,
   "metadata": {
    "execution": {
     "iopub.execute_input": "2024-02-21T12:12:42.427164Z",
     "iopub.status.busy": "2024-02-21T12:12:42.426948Z",
     "iopub.status.idle": "2024-02-21T12:12:46.952115Z",
     "shell.execute_reply": "2024-02-21T12:12:46.951742Z"
    }
   },
   "outputs": [
    {
     "data": {
      "text/html": [
       "<div>\n",
       "<style scoped>\n",
       "    .dataframe tbody tr th:only-of-type {\n",
       "        vertical-align: middle;\n",
       "    }\n",
       "\n",
       "    .dataframe tbody tr th {\n",
       "        vertical-align: top;\n",
       "    }\n",
       "\n",
       "    .dataframe thead th {\n",
       "        text-align: right;\n",
       "    }\n",
       "</style>\n",
       "<table border=\"1\" class=\"dataframe\">\n",
       "  <thead>\n",
       "    <tr style=\"text-align: right;\">\n",
       "      <th></th>\n",
       "      <th>ID</th>\n",
       "      <th>Submitter ID</th>\n",
       "      <th>PR Number</th>\n",
       "      <th>IntraProjectSubmitterPullRequestSuccessRate</th>\n",
       "      <th>EcosystemExperienceSubmitterPullRequestSuccessRate</th>\n",
       "      <th>DependencyEcosystemExperienceSubmitterPullRequestSuccessRate</th>\n",
       "      <th>NonDependencyEcosystemExperienceSubmitterPullRequestSuccessRate</th>\n",
       "      <th>InversedDependencyEcosystemExperienceSubmitterPullRequestSuccessRate</th>\n",
       "      <th>ln(1 + ControlPullRequestLifeTimeInMinutes)</th>\n",
       "      <th>ln(1 + ControlNumberOfCommitsInPullRequest)</th>\n",
       "      <th>...</th>\n",
       "      <th>ln(1 + DependencyEcosystemExperienceSubmitterIssueSubmissionCount)</th>\n",
       "      <th>ln(1 + DependencyEcosystemExperienceSubmitterIssueCommentCount)</th>\n",
       "      <th>ln(1 + NonDependencyEcosystemExperienceSubmitterIssueSubmissionCount)</th>\n",
       "      <th>ln(1 + NonDependencyEcosystemExperienceSubmitterIssueCommentCount)</th>\n",
       "      <th>ln(1 + InversedDependencyEcosystemExperienceSubmitterIssueSubmissionCount)</th>\n",
       "      <th>ln(1 + InversedDependencyEcosystemExperienceSubmitterIssueCommentCount)</th>\n",
       "      <th>ln(1 + WeightedEcosystemSecondOrderDegreeCentrality)</th>\n",
       "      <th>ln(1 + WeightedIntraProjectSecondOrderDegreeCentrality)</th>\n",
       "      <th>ln(1 + EcosystemLinkIntensity)</th>\n",
       "      <th>ln(1 + IntraProjectLinkIntensity)</th>\n",
       "    </tr>\n",
       "  </thead>\n",
       "  <tbody>\n",
       "    <tr>\n",
       "      <th>count</th>\n",
       "      <td>1.216221e+06</td>\n",
       "      <td>1.216221e+06</td>\n",
       "      <td>1.216221e+06</td>\n",
       "      <td>1.216221e+06</td>\n",
       "      <td>1.216221e+06</td>\n",
       "      <td>1.216221e+06</td>\n",
       "      <td>1.216221e+06</td>\n",
       "      <td>1.216221e+06</td>\n",
       "      <td>1.216221e+06</td>\n",
       "      <td>1.216221e+06</td>\n",
       "      <td>...</td>\n",
       "      <td>1.216221e+06</td>\n",
       "      <td>1.216221e+06</td>\n",
       "      <td>1.216221e+06</td>\n",
       "      <td>1.216221e+06</td>\n",
       "      <td>1.216221e+06</td>\n",
       "      <td>1.216221e+06</td>\n",
       "      <td>1.216221e+06</td>\n",
       "      <td>1.216221e+06</td>\n",
       "      <td>1.216221e+06</td>\n",
       "      <td>1.216221e+06</td>\n",
       "    </tr>\n",
       "    <tr>\n",
       "      <th>mean</th>\n",
       "      <td>1.473092e+08</td>\n",
       "      <td>5.092504e+06</td>\n",
       "      <td>8.089130e+02</td>\n",
       "      <td>5.029367e-01</td>\n",
       "      <td>4.028501e-01</td>\n",
       "      <td>9.853429e-02</td>\n",
       "      <td>3.751776e-01</td>\n",
       "      <td>5.922709e-02</td>\n",
       "      <td>4.195426e-01</td>\n",
       "      <td>1.183858e-01</td>\n",
       "      <td>...</td>\n",
       "      <td>1.144450e-02</td>\n",
       "      <td>1.968795e-02</td>\n",
       "      <td>7.962418e-02</td>\n",
       "      <td>1.344287e-01</td>\n",
       "      <td>9.542167e-03</td>\n",
       "      <td>1.752697e-02</td>\n",
       "      <td>6.396780e-02</td>\n",
       "      <td>6.040052e-02</td>\n",
       "      <td>2.195312e-02</td>\n",
       "      <td>4.472791e-02</td>\n",
       "    </tr>\n",
       "    <tr>\n",
       "      <th>std</th>\n",
       "      <td>9.954409e+07</td>\n",
       "      <td>7.968202e+06</td>\n",
       "      <td>2.304617e+03</td>\n",
       "      <td>4.710606e-01</td>\n",
       "      <td>4.523397e-01</td>\n",
       "      <td>2.907111e-01</td>\n",
       "      <td>4.479337e-01</td>\n",
       "      <td>2.285036e-01</td>\n",
       "      <td>2.256901e-01</td>\n",
       "      <td>7.147764e-02</td>\n",
       "      <td>...</td>\n",
       "      <td>5.396848e-02</td>\n",
       "      <td>8.007560e-02</td>\n",
       "      <td>1.179799e-01</td>\n",
       "      <td>1.750052e-01</td>\n",
       "      <td>5.263118e-02</td>\n",
       "      <td>8.245257e-02</td>\n",
       "      <td>9.934566e-02</td>\n",
       "      <td>1.002992e-01</td>\n",
       "      <td>8.741610e-02</td>\n",
       "      <td>1.013945e-01</td>\n",
       "    </tr>\n",
       "    <tr>\n",
       "      <th>min</th>\n",
       "      <td>6.870000e+02</td>\n",
       "      <td>1.000000e+00</td>\n",
       "      <td>1.000000e+00</td>\n",
       "      <td>0.000000e+00</td>\n",
       "      <td>0.000000e+00</td>\n",
       "      <td>0.000000e+00</td>\n",
       "      <td>0.000000e+00</td>\n",
       "      <td>0.000000e+00</td>\n",
       "      <td>0.000000e+00</td>\n",
       "      <td>0.000000e+00</td>\n",
       "      <td>...</td>\n",
       "      <td>0.000000e+00</td>\n",
       "      <td>0.000000e+00</td>\n",
       "      <td>0.000000e+00</td>\n",
       "      <td>0.000000e+00</td>\n",
       "      <td>0.000000e+00</td>\n",
       "      <td>0.000000e+00</td>\n",
       "      <td>0.000000e+00</td>\n",
       "      <td>0.000000e+00</td>\n",
       "      <td>0.000000e+00</td>\n",
       "      <td>0.000000e+00</td>\n",
       "    </tr>\n",
       "    <tr>\n",
       "      <th>25%</th>\n",
       "      <td>5.924867e+07</td>\n",
       "      <td>4.674710e+05</td>\n",
       "      <td>5.000000e+01</td>\n",
       "      <td>0.000000e+00</td>\n",
       "      <td>0.000000e+00</td>\n",
       "      <td>0.000000e+00</td>\n",
       "      <td>0.000000e+00</td>\n",
       "      <td>0.000000e+00</td>\n",
       "      <td>2.365158e-01</td>\n",
       "      <td>7.525668e-02</td>\n",
       "      <td>...</td>\n",
       "      <td>0.000000e+00</td>\n",
       "      <td>0.000000e+00</td>\n",
       "      <td>0.000000e+00</td>\n",
       "      <td>0.000000e+00</td>\n",
       "      <td>0.000000e+00</td>\n",
       "      <td>0.000000e+00</td>\n",
       "      <td>0.000000e+00</td>\n",
       "      <td>0.000000e+00</td>\n",
       "      <td>0.000000e+00</td>\n",
       "      <td>0.000000e+00</td>\n",
       "    </tr>\n",
       "    <tr>\n",
       "      <th>50%</th>\n",
       "      <td>1.366714e+08</td>\n",
       "      <td>1.633887e+06</td>\n",
       "      <td>1.990000e+02</td>\n",
       "      <td>6.800000e-01</td>\n",
       "      <td>0.000000e+00</td>\n",
       "      <td>0.000000e+00</td>\n",
       "      <td>0.000000e+00</td>\n",
       "      <td>0.000000e+00</td>\n",
       "      <td>4.433349e-01</td>\n",
       "      <td>7.525668e-02</td>\n",
       "      <td>...</td>\n",
       "      <td>0.000000e+00</td>\n",
       "      <td>0.000000e+00</td>\n",
       "      <td>0.000000e+00</td>\n",
       "      <td>7.753347e-02</td>\n",
       "      <td>0.000000e+00</td>\n",
       "      <td>0.000000e+00</td>\n",
       "      <td>8.453635e-03</td>\n",
       "      <td>0.000000e+00</td>\n",
       "      <td>0.000000e+00</td>\n",
       "      <td>0.000000e+00</td>\n",
       "    </tr>\n",
       "    <tr>\n",
       "      <th>75%</th>\n",
       "      <td>2.260994e+08</td>\n",
       "      <td>6.254382e+06</td>\n",
       "      <td>6.840000e+02</td>\n",
       "      <td>1.000000e+00</td>\n",
       "      <td>9.391304e-01</td>\n",
       "      <td>0.000000e+00</td>\n",
       "      <td>9.230769e-01</td>\n",
       "      <td>0.000000e+00</td>\n",
       "      <td>5.863557e-01</td>\n",
       "      <td>1.505134e-01</td>\n",
       "      <td>...</td>\n",
       "      <td>0.000000e+00</td>\n",
       "      <td>0.000000e+00</td>\n",
       "      <td>1.416667e-01</td>\n",
       "      <td>2.326004e-01</td>\n",
       "      <td>0.000000e+00</td>\n",
       "      <td>0.000000e+00</td>\n",
       "      <td>9.892883e-02</td>\n",
       "      <td>8.837267e-02</td>\n",
       "      <td>0.000000e+00</td>\n",
       "      <td>2.582313e-02</td>\n",
       "    </tr>\n",
       "    <tr>\n",
       "      <th>max</th>\n",
       "      <td>3.617756e+08</td>\n",
       "      <td>5.973444e+07</td>\n",
       "      <td>8.297600e+04</td>\n",
       "      <td>1.000000e+00</td>\n",
       "      <td>1.000000e+00</td>\n",
       "      <td>1.000000e+00</td>\n",
       "      <td>1.000000e+00</td>\n",
       "      <td>1.000000e+00</td>\n",
       "      <td>1.000000e+00</td>\n",
       "      <td>1.000000e+00</td>\n",
       "      <td>...</td>\n",
       "      <td>1.000000e+00</td>\n",
       "      <td>1.000000e+00</td>\n",
       "      <td>1.000000e+00</td>\n",
       "      <td>1.000000e+00</td>\n",
       "      <td>1.000000e+00</td>\n",
       "      <td>1.000000e+00</td>\n",
       "      <td>1.000000e+00</td>\n",
       "      <td>1.000000e+00</td>\n",
       "      <td>1.000000e+00</td>\n",
       "      <td>1.000000e+00</td>\n",
       "    </tr>\n",
       "  </tbody>\n",
       "</table>\n",
       "<p>8 rows × 35 columns</p>\n",
       "</div>"
      ],
      "text/plain": [
       "                 ID  Submitter ID     PR Number   \n",
       "count  1.216221e+06  1.216221e+06  1.216221e+06  \\\n",
       "mean   1.473092e+08  5.092504e+06  8.089130e+02   \n",
       "std    9.954409e+07  7.968202e+06  2.304617e+03   \n",
       "min    6.870000e+02  1.000000e+00  1.000000e+00   \n",
       "25%    5.924867e+07  4.674710e+05  5.000000e+01   \n",
       "50%    1.366714e+08  1.633887e+06  1.990000e+02   \n",
       "75%    2.260994e+08  6.254382e+06  6.840000e+02   \n",
       "max    3.617756e+08  5.973444e+07  8.297600e+04   \n",
       "\n",
       "       IntraProjectSubmitterPullRequestSuccessRate   \n",
       "count                                 1.216221e+06  \\\n",
       "mean                                  5.029367e-01   \n",
       "std                                   4.710606e-01   \n",
       "min                                   0.000000e+00   \n",
       "25%                                   0.000000e+00   \n",
       "50%                                   6.800000e-01   \n",
       "75%                                   1.000000e+00   \n",
       "max                                   1.000000e+00   \n",
       "\n",
       "       EcosystemExperienceSubmitterPullRequestSuccessRate   \n",
       "count                                       1.216221e+06   \\\n",
       "mean                                        4.028501e-01    \n",
       "std                                         4.523397e-01    \n",
       "min                                         0.000000e+00    \n",
       "25%                                         0.000000e+00    \n",
       "50%                                         0.000000e+00    \n",
       "75%                                         9.391304e-01    \n",
       "max                                         1.000000e+00    \n",
       "\n",
       "       DependencyEcosystemExperienceSubmitterPullRequestSuccessRate   \n",
       "count                                       1.216221e+06             \\\n",
       "mean                                        9.853429e-02              \n",
       "std                                         2.907111e-01              \n",
       "min                                         0.000000e+00              \n",
       "25%                                         0.000000e+00              \n",
       "50%                                         0.000000e+00              \n",
       "75%                                         0.000000e+00              \n",
       "max                                         1.000000e+00              \n",
       "\n",
       "       NonDependencyEcosystemExperienceSubmitterPullRequestSuccessRate   \n",
       "count                                       1.216221e+06                \\\n",
       "mean                                        3.751776e-01                 \n",
       "std                                         4.479337e-01                 \n",
       "min                                         0.000000e+00                 \n",
       "25%                                         0.000000e+00                 \n",
       "50%                                         0.000000e+00                 \n",
       "75%                                         9.230769e-01                 \n",
       "max                                         1.000000e+00                 \n",
       "\n",
       "       InversedDependencyEcosystemExperienceSubmitterPullRequestSuccessRate   \n",
       "count                                       1.216221e+06                     \\\n",
       "mean                                        5.922709e-02                      \n",
       "std                                         2.285036e-01                      \n",
       "min                                         0.000000e+00                      \n",
       "25%                                         0.000000e+00                      \n",
       "50%                                         0.000000e+00                      \n",
       "75%                                         0.000000e+00                      \n",
       "max                                         1.000000e+00                      \n",
       "\n",
       "       ln(1 + ControlPullRequestLifeTimeInMinutes)   \n",
       "count                                 1.216221e+06  \\\n",
       "mean                                  4.195426e-01   \n",
       "std                                   2.256901e-01   \n",
       "min                                   0.000000e+00   \n",
       "25%                                   2.365158e-01   \n",
       "50%                                   4.433349e-01   \n",
       "75%                                   5.863557e-01   \n",
       "max                                   1.000000e+00   \n",
       "\n",
       "       ln(1 + ControlNumberOfCommitsInPullRequest)  ...   \n",
       "count                                 1.216221e+06  ...  \\\n",
       "mean                                  1.183858e-01  ...   \n",
       "std                                   7.147764e-02  ...   \n",
       "min                                   0.000000e+00  ...   \n",
       "25%                                   7.525668e-02  ...   \n",
       "50%                                   7.525668e-02  ...   \n",
       "75%                                   1.505134e-01  ...   \n",
       "max                                   1.000000e+00  ...   \n",
       "\n",
       "       ln(1 + DependencyEcosystemExperienceSubmitterIssueSubmissionCount)   \n",
       "count                                       1.216221e+06                   \\\n",
       "mean                                        1.144450e-02                    \n",
       "std                                         5.396848e-02                    \n",
       "min                                         0.000000e+00                    \n",
       "25%                                         0.000000e+00                    \n",
       "50%                                         0.000000e+00                    \n",
       "75%                                         0.000000e+00                    \n",
       "max                                         1.000000e+00                    \n",
       "\n",
       "       ln(1 + DependencyEcosystemExperienceSubmitterIssueCommentCount)   \n",
       "count                                       1.216221e+06                \\\n",
       "mean                                        1.968795e-02                 \n",
       "std                                         8.007560e-02                 \n",
       "min                                         0.000000e+00                 \n",
       "25%                                         0.000000e+00                 \n",
       "50%                                         0.000000e+00                 \n",
       "75%                                         0.000000e+00                 \n",
       "max                                         1.000000e+00                 \n",
       "\n",
       "       ln(1 + NonDependencyEcosystemExperienceSubmitterIssueSubmissionCount)   \n",
       "count                                       1.216221e+06                      \\\n",
       "mean                                        7.962418e-02                       \n",
       "std                                         1.179799e-01                       \n",
       "min                                         0.000000e+00                       \n",
       "25%                                         0.000000e+00                       \n",
       "50%                                         0.000000e+00                       \n",
       "75%                                         1.416667e-01                       \n",
       "max                                         1.000000e+00                       \n",
       "\n",
       "       ln(1 + NonDependencyEcosystemExperienceSubmitterIssueCommentCount)   \n",
       "count                                       1.216221e+06                   \\\n",
       "mean                                        1.344287e-01                    \n",
       "std                                         1.750052e-01                    \n",
       "min                                         0.000000e+00                    \n",
       "25%                                         0.000000e+00                    \n",
       "50%                                         7.753347e-02                    \n",
       "75%                                         2.326004e-01                    \n",
       "max                                         1.000000e+00                    \n",
       "\n",
       "       ln(1 + InversedDependencyEcosystemExperienceSubmitterIssueSubmissionCount)   \n",
       "count                                       1.216221e+06                           \\\n",
       "mean                                        9.542167e-03                            \n",
       "std                                         5.263118e-02                            \n",
       "min                                         0.000000e+00                            \n",
       "25%                                         0.000000e+00                            \n",
       "50%                                         0.000000e+00                            \n",
       "75%                                         0.000000e+00                            \n",
       "max                                         1.000000e+00                            \n",
       "\n",
       "       ln(1 + InversedDependencyEcosystemExperienceSubmitterIssueCommentCount)   \n",
       "count                                       1.216221e+06                        \\\n",
       "mean                                        1.752697e-02                         \n",
       "std                                         8.245257e-02                         \n",
       "min                                         0.000000e+00                         \n",
       "25%                                         0.000000e+00                         \n",
       "50%                                         0.000000e+00                         \n",
       "75%                                         0.000000e+00                         \n",
       "max                                         1.000000e+00                         \n",
       "\n",
       "       ln(1 + WeightedEcosystemSecondOrderDegreeCentrality)   \n",
       "count                                       1.216221e+06     \\\n",
       "mean                                        6.396780e-02      \n",
       "std                                         9.934566e-02      \n",
       "min                                         0.000000e+00      \n",
       "25%                                         0.000000e+00      \n",
       "50%                                         8.453635e-03      \n",
       "75%                                         9.892883e-02      \n",
       "max                                         1.000000e+00      \n",
       "\n",
       "       ln(1 + WeightedIntraProjectSecondOrderDegreeCentrality)   \n",
       "count                                       1.216221e+06        \\\n",
       "mean                                        6.040052e-02         \n",
       "std                                         1.002992e-01         \n",
       "min                                         0.000000e+00         \n",
       "25%                                         0.000000e+00         \n",
       "50%                                         0.000000e+00         \n",
       "75%                                         8.837267e-02         \n",
       "max                                         1.000000e+00         \n",
       "\n",
       "       ln(1 + EcosystemLinkIntensity)  ln(1 + IntraProjectLinkIntensity)  \n",
       "count                    1.216221e+06                       1.216221e+06  \n",
       "mean                     2.195312e-02                       4.472791e-02  \n",
       "std                      8.741610e-02                       1.013945e-01  \n",
       "min                      0.000000e+00                       0.000000e+00  \n",
       "25%                      0.000000e+00                       0.000000e+00  \n",
       "50%                      0.000000e+00                       0.000000e+00  \n",
       "75%                      0.000000e+00                       2.582313e-02  \n",
       "max                      1.000000e+00                       1.000000e+00  \n",
       "\n",
       "[8 rows x 35 columns]"
      ]
     },
     "execution_count": 3,
     "metadata": {},
     "output_type": "execute_result"
    }
   ],
   "source": [
    "import pandas as pd\n",
    "import numpy as np\n",
    "import json\n",
    "\n",
    "\n",
    "# Loads regular dataframe.\n",
    "df: pd.DataFrame = pd.read_csv(filepath_or_buffer=data_path, header=0)\n",
    "\n",
    "# Creates sub-datasets.\n",
    "metadata_fields = [\"ID\", \"Project Name\", \"Submitter ID\", \"PR Number\", \"Closed At\"]\n",
    "dependent_fields = [pr_merged_key]\n",
    "\n",
    "df.describe()"
   ]
  },
  {
   "cell_type": "code",
   "execution_count": 4,
   "metadata": {
    "execution": {
     "iopub.execute_input": "2024-02-21T12:12:46.979000Z",
     "iopub.status.busy": "2024-02-21T12:12:46.978804Z",
     "iopub.status.idle": "2024-02-21T12:12:46.993232Z",
     "shell.execute_reply": "2024-02-21T12:12:46.992845Z"
    }
   },
   "outputs": [
    {
     "name": "stdout",
     "output_type": "stream",
     "text": [
      "['ID', 'Project Name', 'Submitter ID', 'PR Number', 'Closed At', 'PullRequestIsMerged', 'ControlIntegratedBySameUser', 'ControlPullRequestHasComments', 'ControlPullRequestHasCommentByExternalUser', 'ControlHasHashTagInDescription', 'IntraProjectSubmitterPullRequestSuccessRate', 'EcosystemExperienceSubmitterPullRequestSuccessRate', 'DependencyEcosystemExperienceSubmitterPullRequestSuccessRate', 'NonDependencyEcosystemExperienceSubmitterPullRequestSuccessRate', 'InversedDependencyEcosystemExperienceSubmitterPullRequestSuccessRate', 'SubmitterIsFirstTimeContributor', 'ln(1 + ControlPullRequestLifeTimeInMinutes)', 'ln(1 + ControlNumberOfCommitsInPullRequest)', 'ln(1 + ControlIntraProjectPullRequestExperienceOfIntegrator)', 'ln(1 + IntraProjectSubmitterPullRequestSubmissionCount)', 'ln(1 + IntraProjectSubmitterPullRequestCommentCount)', 'ln(1 + EcosystemExperienceSubmitterPullRequestSubmissionCount)', 'ln(1 + EcosystemExperienceSubmitterPullRequestCommentCount)', 'ln(1 + DependencyEcosystemExperienceSubmitterPullRequestSubmissionCount)', 'ln(1 + DependencyEcosystemExperienceSubmitterPullRequestCommentCount)', 'ln(1 + NonDependencyEcosystemExperienceSubmitterPullRequestSubmissionCount)', 'ln(1 + NonDependencyEcosystemExperienceSubmitterPullRequestCommentCount)', 'ln(1 + InversedDependencyEcosystemExperienceSubmitterPullRequestSubmissionCount)', 'ln(1 + InversedDependencyEcosystemExperienceSubmitterPullRequestCommentCount)', 'ln(1 + IntraProjectSubmitterIssueSubmissionCount)', 'ln(1 + IntraProjectSubmitterIssueCommentCount)', 'ln(1 + EcosystemExperienceSubmitterIssueSubmissionCount)', 'ln(1 + EcosystemExperienceSubmitterIssueCommentCount)', 'ln(1 + DependencyEcosystemExperienceSubmitterIssueSubmissionCount)', 'ln(1 + DependencyEcosystemExperienceSubmitterIssueCommentCount)', 'ln(1 + NonDependencyEcosystemExperienceSubmitterIssueSubmissionCount)', 'ln(1 + NonDependencyEcosystemExperienceSubmitterIssueCommentCount)', 'ln(1 + InversedDependencyEcosystemExperienceSubmitterIssueSubmissionCount)', 'ln(1 + InversedDependencyEcosystemExperienceSubmitterIssueCommentCount)', 'ln(1 + WeightedEcosystemSecondOrderDegreeCentrality)', 'ln(1 + WeightedIntraProjectSecondOrderDegreeCentrality)', 'ln(1 + EcosystemLinkIntensity)', 'ln(1 + IntraProjectLinkIntensity)']\n"
     ]
    }
   ],
   "source": [
    "print(list(df.columns))"
   ]
  },
  {
   "cell_type": "code",
   "execution_count": 5,
   "metadata": {
    "execution": {
     "iopub.execute_input": "2024-02-21T12:12:46.994880Z",
     "iopub.status.busy": "2024-02-21T12:12:46.994732Z",
     "iopub.status.idle": "2024-02-21T12:12:47.080894Z",
     "shell.execute_reply": "2024-02-21T12:12:47.080505Z"
    }
   },
   "outputs": [],
   "source": [
    "intra_collab_fields = [\n",
    "    \"ln(1 + WeightedIntraProjectSecondOrderDegreeCentrality)\",\n",
    "    \"ln(1 + IntraProjectLinkIntensity)\",\n",
    "]\n",
    "\n",
    "df = df.drop(intra_collab_fields, axis=1)"
   ]
  },
  {
   "cell_type": "code",
   "execution_count": 6,
   "metadata": {
    "execution": {
     "iopub.execute_input": "2024-02-21T12:12:47.082996Z",
     "iopub.status.busy": "2024-02-21T12:12:47.082819Z",
     "iopub.status.idle": "2024-02-21T12:12:47.095871Z",
     "shell.execute_reply": "2024-02-21T12:12:47.095560Z"
    }
   },
   "outputs": [],
   "source": [
    "# Identifieds independent / predictor fields.\n",
    "\n",
    "\n",
    "def is_independent_field(field: str) -> bool:\n",
    "    return field not in metadata_fields and field != pr_merged_key\n",
    "\n",
    "\n",
    "independent_fields = list(filter(is_independent_field, df.columns))"
   ]
  },
  {
   "cell_type": "code",
   "execution_count": 7,
   "metadata": {
    "execution": {
     "iopub.execute_input": "2024-02-21T12:12:47.097841Z",
     "iopub.status.busy": "2024-02-21T12:12:47.097702Z",
     "iopub.status.idle": "2024-02-21T12:12:47.114007Z",
     "shell.execute_reply": "2024-02-21T12:12:47.113649Z"
    }
   },
   "outputs": [
    {
     "name": "stdout",
     "output_type": "stream",
     "text": [
      "class_imbalance=3.6991542286634957\n"
     ]
    }
   ],
   "source": [
    "# Calculates class imbalance.\n",
    "class_counts = df[pr_merged_key].value_counts()\n",
    "class_imbalance = class_counts[True] / class_counts[False]\n",
    "print(f\"{class_imbalance=}\")"
   ]
  },
  {
   "cell_type": "markdown",
   "metadata": {},
   "source": [
    "### Sample only PRs by first-time contributors"
   ]
  },
  {
   "cell_type": "code",
   "execution_count": 8,
   "metadata": {
    "execution": {
     "iopub.execute_input": "2024-02-21T12:12:47.115578Z",
     "iopub.status.busy": "2024-02-21T12:12:47.115459Z",
     "iopub.status.idle": "2024-02-21T12:12:47.466069Z",
     "shell.execute_reply": "2024-02-21T12:12:47.465712Z"
    }
   },
   "outputs": [
    {
     "name": "stdout",
     "output_type": "stream",
     "text": [
      "len(df)=426832\n",
      "class_imbalance=1.9236870766006124\n",
      "['ControlIntegratedBySameUser', 'ControlPullRequestHasComments', 'ControlPullRequestHasCommentByExternalUser', 'ControlHasHashTagInDescription', 'IntraProjectSubmitterPullRequestSuccessRate', 'EcosystemExperienceSubmitterPullRequestSuccessRate', 'DependencyEcosystemExperienceSubmitterPullRequestSuccessRate', 'NonDependencyEcosystemExperienceSubmitterPullRequestSuccessRate', 'InversedDependencyEcosystemExperienceSubmitterPullRequestSuccessRate', 'ln(1 + ControlPullRequestLifeTimeInMinutes)', 'ln(1 + ControlNumberOfCommitsInPullRequest)', 'ln(1 + ControlIntraProjectPullRequestExperienceOfIntegrator)', 'ln(1 + IntraProjectSubmitterPullRequestSubmissionCount)', 'ln(1 + IntraProjectSubmitterPullRequestCommentCount)', 'ln(1 + EcosystemExperienceSubmitterPullRequestSubmissionCount)', 'ln(1 + EcosystemExperienceSubmitterPullRequestCommentCount)', 'ln(1 + DependencyEcosystemExperienceSubmitterPullRequestSubmissionCount)', 'ln(1 + DependencyEcosystemExperienceSubmitterPullRequestCommentCount)', 'ln(1 + NonDependencyEcosystemExperienceSubmitterPullRequestSubmissionCount)', 'ln(1 + NonDependencyEcosystemExperienceSubmitterPullRequestCommentCount)', 'ln(1 + InversedDependencyEcosystemExperienceSubmitterPullRequestSubmissionCount)', 'ln(1 + InversedDependencyEcosystemExperienceSubmitterPullRequestCommentCount)', 'ln(1 + IntraProjectSubmitterIssueSubmissionCount)', 'ln(1 + IntraProjectSubmitterIssueCommentCount)', 'ln(1 + EcosystemExperienceSubmitterIssueSubmissionCount)', 'ln(1 + EcosystemExperienceSubmitterIssueCommentCount)', 'ln(1 + DependencyEcosystemExperienceSubmitterIssueSubmissionCount)', 'ln(1 + DependencyEcosystemExperienceSubmitterIssueCommentCount)', 'ln(1 + NonDependencyEcosystemExperienceSubmitterIssueSubmissionCount)', 'ln(1 + NonDependencyEcosystemExperienceSubmitterIssueCommentCount)', 'ln(1 + InversedDependencyEcosystemExperienceSubmitterIssueSubmissionCount)', 'ln(1 + InversedDependencyEcosystemExperienceSubmitterIssueCommentCount)', 'ln(1 + WeightedEcosystemSecondOrderDegreeCentrality)', 'ln(1 + EcosystemLinkIntensity)']\n"
     ]
    },
    {
     "data": {
      "text/html": [
       "<div>\n",
       "<style scoped>\n",
       "    .dataframe tbody tr th:only-of-type {\n",
       "        vertical-align: middle;\n",
       "    }\n",
       "\n",
       "    .dataframe tbody tr th {\n",
       "        vertical-align: top;\n",
       "    }\n",
       "\n",
       "    .dataframe thead th {\n",
       "        text-align: right;\n",
       "    }\n",
       "</style>\n",
       "<table border=\"1\" class=\"dataframe\">\n",
       "  <thead>\n",
       "    <tr style=\"text-align: right;\">\n",
       "      <th></th>\n",
       "      <th>ID</th>\n",
       "      <th>Submitter ID</th>\n",
       "      <th>PR Number</th>\n",
       "      <th>IntraProjectSubmitterPullRequestSuccessRate</th>\n",
       "      <th>EcosystemExperienceSubmitterPullRequestSuccessRate</th>\n",
       "      <th>DependencyEcosystemExperienceSubmitterPullRequestSuccessRate</th>\n",
       "      <th>NonDependencyEcosystemExperienceSubmitterPullRequestSuccessRate</th>\n",
       "      <th>InversedDependencyEcosystemExperienceSubmitterPullRequestSuccessRate</th>\n",
       "      <th>ln(1 + ControlPullRequestLifeTimeInMinutes)</th>\n",
       "      <th>ln(1 + ControlNumberOfCommitsInPullRequest)</th>\n",
       "      <th>...</th>\n",
       "      <th>ln(1 + EcosystemExperienceSubmitterIssueSubmissionCount)</th>\n",
       "      <th>ln(1 + EcosystemExperienceSubmitterIssueCommentCount)</th>\n",
       "      <th>ln(1 + DependencyEcosystemExperienceSubmitterIssueSubmissionCount)</th>\n",
       "      <th>ln(1 + DependencyEcosystemExperienceSubmitterIssueCommentCount)</th>\n",
       "      <th>ln(1 + NonDependencyEcosystemExperienceSubmitterIssueSubmissionCount)</th>\n",
       "      <th>ln(1 + NonDependencyEcosystemExperienceSubmitterIssueCommentCount)</th>\n",
       "      <th>ln(1 + InversedDependencyEcosystemExperienceSubmitterIssueSubmissionCount)</th>\n",
       "      <th>ln(1 + InversedDependencyEcosystemExperienceSubmitterIssueCommentCount)</th>\n",
       "      <th>ln(1 + WeightedEcosystemSecondOrderDegreeCentrality)</th>\n",
       "      <th>ln(1 + EcosystemLinkIntensity)</th>\n",
       "    </tr>\n",
       "  </thead>\n",
       "  <tbody>\n",
       "    <tr>\n",
       "      <th>count</th>\n",
       "      <td>4.268320e+05</td>\n",
       "      <td>4.268320e+05</td>\n",
       "      <td>426832.000000</td>\n",
       "      <td>426832.0</td>\n",
       "      <td>426832.000000</td>\n",
       "      <td>426832.000000</td>\n",
       "      <td>426832.000000</td>\n",
       "      <td>426832.000000</td>\n",
       "      <td>426832.000000</td>\n",
       "      <td>426832.000000</td>\n",
       "      <td>...</td>\n",
       "      <td>426832.000000</td>\n",
       "      <td>426832.000000</td>\n",
       "      <td>426832.000000</td>\n",
       "      <td>426832.000000</td>\n",
       "      <td>426832.000000</td>\n",
       "      <td>426832.000000</td>\n",
       "      <td>426832.000000</td>\n",
       "      <td>426832.000000</td>\n",
       "      <td>426832.000000</td>\n",
       "      <td>426832.000000</td>\n",
       "    </tr>\n",
       "    <tr>\n",
       "      <th>mean</th>\n",
       "      <td>1.213651e+08</td>\n",
       "      <td>5.131872e+06</td>\n",
       "      <td>584.979807</td>\n",
       "      <td>0.0</td>\n",
       "      <td>0.265203</td>\n",
       "      <td>0.023931</td>\n",
       "      <td>0.256362</td>\n",
       "      <td>0.024847</td>\n",
       "      <td>0.491480</td>\n",
       "      <td>0.106394</td>\n",
       "      <td>...</td>\n",
       "      <td>0.060187</td>\n",
       "      <td>0.098324</td>\n",
       "      <td>0.002768</td>\n",
       "      <td>0.004929</td>\n",
       "      <td>0.057686</td>\n",
       "      <td>0.094571</td>\n",
       "      <td>0.004174</td>\n",
       "      <td>0.007872</td>\n",
       "      <td>0.048752</td>\n",
       "      <td>0.012933</td>\n",
       "    </tr>\n",
       "    <tr>\n",
       "      <th>std</th>\n",
       "      <td>9.542933e+07</td>\n",
       "      <td>8.008834e+06</td>\n",
       "      <td>1733.884021</td>\n",
       "      <td>0.0</td>\n",
       "      <td>0.409386</td>\n",
       "      <td>0.149548</td>\n",
       "      <td>0.405401</td>\n",
       "      <td>0.150628</td>\n",
       "      <td>0.223246</td>\n",
       "      <td>0.060923</td>\n",
       "      <td>...</td>\n",
       "      <td>0.104316</td>\n",
       "      <td>0.153459</td>\n",
       "      <td>0.025482</td>\n",
       "      <td>0.040209</td>\n",
       "      <td>0.101355</td>\n",
       "      <td>0.149757</td>\n",
       "      <td>0.033526</td>\n",
       "      <td>0.054303</td>\n",
       "      <td>0.088964</td>\n",
       "      <td>0.064506</td>\n",
       "    </tr>\n",
       "    <tr>\n",
       "      <th>min</th>\n",
       "      <td>1.153000e+03</td>\n",
       "      <td>1.000000e+00</td>\n",
       "      <td>1.000000</td>\n",
       "      <td>0.0</td>\n",
       "      <td>0.000000</td>\n",
       "      <td>0.000000</td>\n",
       "      <td>0.000000</td>\n",
       "      <td>0.000000</td>\n",
       "      <td>0.000000</td>\n",
       "      <td>0.000000</td>\n",
       "      <td>...</td>\n",
       "      <td>0.000000</td>\n",
       "      <td>0.000000</td>\n",
       "      <td>0.000000</td>\n",
       "      <td>0.000000</td>\n",
       "      <td>0.000000</td>\n",
       "      <td>0.000000</td>\n",
       "      <td>0.000000</td>\n",
       "      <td>0.000000</td>\n",
       "      <td>0.000000</td>\n",
       "      <td>0.000000</td>\n",
       "    </tr>\n",
       "    <tr>\n",
       "      <th>25%</th>\n",
       "      <td>3.799896e+07</td>\n",
       "      <td>4.987750e+05</td>\n",
       "      <td>30.000000</td>\n",
       "      <td>0.0</td>\n",
       "      <td>0.000000</td>\n",
       "      <td>0.000000</td>\n",
       "      <td>0.000000</td>\n",
       "      <td>0.000000</td>\n",
       "      <td>0.334352</td>\n",
       "      <td>0.075257</td>\n",
       "      <td>...</td>\n",
       "      <td>0.000000</td>\n",
       "      <td>0.000000</td>\n",
       "      <td>0.000000</td>\n",
       "      <td>0.000000</td>\n",
       "      <td>0.000000</td>\n",
       "      <td>0.000000</td>\n",
       "      <td>0.000000</td>\n",
       "      <td>0.000000</td>\n",
       "      <td>0.000000</td>\n",
       "      <td>0.000000</td>\n",
       "    </tr>\n",
       "    <tr>\n",
       "      <th>50%</th>\n",
       "      <td>1.011235e+08</td>\n",
       "      <td>1.681449e+06</td>\n",
       "      <td>122.000000</td>\n",
       "      <td>0.0</td>\n",
       "      <td>0.000000</td>\n",
       "      <td>0.000000</td>\n",
       "      <td>0.000000</td>\n",
       "      <td>0.000000</td>\n",
       "      <td>0.502926</td>\n",
       "      <td>0.075257</td>\n",
       "      <td>...</td>\n",
       "      <td>0.000000</td>\n",
       "      <td>0.000000</td>\n",
       "      <td>0.000000</td>\n",
       "      <td>0.000000</td>\n",
       "      <td>0.000000</td>\n",
       "      <td>0.000000</td>\n",
       "      <td>0.000000</td>\n",
       "      <td>0.000000</td>\n",
       "      <td>0.000000</td>\n",
       "      <td>0.000000</td>\n",
       "    </tr>\n",
       "    <tr>\n",
       "      <th>75%</th>\n",
       "      <td>1.888974e+08</td>\n",
       "      <td>6.317507e+06</td>\n",
       "      <td>469.000000</td>\n",
       "      <td>0.0</td>\n",
       "      <td>0.666667</td>\n",
       "      <td>0.000000</td>\n",
       "      <td>0.647059</td>\n",
       "      <td>0.000000</td>\n",
       "      <td>0.662211</td>\n",
       "      <td>0.119279</td>\n",
       "      <td>...</td>\n",
       "      <td>0.089382</td>\n",
       "      <td>0.155067</td>\n",
       "      <td>0.000000</td>\n",
       "      <td>0.000000</td>\n",
       "      <td>0.089382</td>\n",
       "      <td>0.155067</td>\n",
       "      <td>0.000000</td>\n",
       "      <td>0.000000</td>\n",
       "      <td>0.064858</td>\n",
       "      <td>0.000000</td>\n",
       "    </tr>\n",
       "    <tr>\n",
       "      <th>max</th>\n",
       "      <td>3.617756e+08</td>\n",
       "      <td>5.973444e+07</td>\n",
       "      <td>82976.000000</td>\n",
       "      <td>0.0</td>\n",
       "      <td>1.000000</td>\n",
       "      <td>1.000000</td>\n",
       "      <td>1.000000</td>\n",
       "      <td>1.000000</td>\n",
       "      <td>1.000000</td>\n",
       "      <td>1.000000</td>\n",
       "      <td>...</td>\n",
       "      <td>1.000000</td>\n",
       "      <td>1.000000</td>\n",
       "      <td>0.759557</td>\n",
       "      <td>1.000000</td>\n",
       "      <td>1.000000</td>\n",
       "      <td>1.000000</td>\n",
       "      <td>1.000000</td>\n",
       "      <td>0.999543</td>\n",
       "      <td>1.000000</td>\n",
       "      <td>0.951250</td>\n",
       "    </tr>\n",
       "  </tbody>\n",
       "</table>\n",
       "<p>8 rows × 33 columns</p>\n",
       "</div>"
      ],
      "text/plain": [
       "                 ID  Submitter ID      PR Number   \n",
       "count  4.268320e+05  4.268320e+05  426832.000000  \\\n",
       "mean   1.213651e+08  5.131872e+06     584.979807   \n",
       "std    9.542933e+07  8.008834e+06    1733.884021   \n",
       "min    1.153000e+03  1.000000e+00       1.000000   \n",
       "25%    3.799896e+07  4.987750e+05      30.000000   \n",
       "50%    1.011235e+08  1.681449e+06     122.000000   \n",
       "75%    1.888974e+08  6.317507e+06     469.000000   \n",
       "max    3.617756e+08  5.973444e+07   82976.000000   \n",
       "\n",
       "       IntraProjectSubmitterPullRequestSuccessRate   \n",
       "count                                     426832.0  \\\n",
       "mean                                           0.0   \n",
       "std                                            0.0   \n",
       "min                                            0.0   \n",
       "25%                                            0.0   \n",
       "50%                                            0.0   \n",
       "75%                                            0.0   \n",
       "max                                            0.0   \n",
       "\n",
       "       EcosystemExperienceSubmitterPullRequestSuccessRate   \n",
       "count                                      426832.000000   \\\n",
       "mean                                            0.265203    \n",
       "std                                             0.409386    \n",
       "min                                             0.000000    \n",
       "25%                                             0.000000    \n",
       "50%                                             0.000000    \n",
       "75%                                             0.666667    \n",
       "max                                             1.000000    \n",
       "\n",
       "       DependencyEcosystemExperienceSubmitterPullRequestSuccessRate   \n",
       "count                                      426832.000000             \\\n",
       "mean                                            0.023931              \n",
       "std                                             0.149548              \n",
       "min                                             0.000000              \n",
       "25%                                             0.000000              \n",
       "50%                                             0.000000              \n",
       "75%                                             0.000000              \n",
       "max                                             1.000000              \n",
       "\n",
       "       NonDependencyEcosystemExperienceSubmitterPullRequestSuccessRate   \n",
       "count                                      426832.000000                \\\n",
       "mean                                            0.256362                 \n",
       "std                                             0.405401                 \n",
       "min                                             0.000000                 \n",
       "25%                                             0.000000                 \n",
       "50%                                             0.000000                 \n",
       "75%                                             0.647059                 \n",
       "max                                             1.000000                 \n",
       "\n",
       "       InversedDependencyEcosystemExperienceSubmitterPullRequestSuccessRate   \n",
       "count                                      426832.000000                     \\\n",
       "mean                                            0.024847                      \n",
       "std                                             0.150628                      \n",
       "min                                             0.000000                      \n",
       "25%                                             0.000000                      \n",
       "50%                                             0.000000                      \n",
       "75%                                             0.000000                      \n",
       "max                                             1.000000                      \n",
       "\n",
       "       ln(1 + ControlPullRequestLifeTimeInMinutes)   \n",
       "count                                426832.000000  \\\n",
       "mean                                      0.491480   \n",
       "std                                       0.223246   \n",
       "min                                       0.000000   \n",
       "25%                                       0.334352   \n",
       "50%                                       0.502926   \n",
       "75%                                       0.662211   \n",
       "max                                       1.000000   \n",
       "\n",
       "       ln(1 + ControlNumberOfCommitsInPullRequest)  ...   \n",
       "count                                426832.000000  ...  \\\n",
       "mean                                      0.106394  ...   \n",
       "std                                       0.060923  ...   \n",
       "min                                       0.000000  ...   \n",
       "25%                                       0.075257  ...   \n",
       "50%                                       0.075257  ...   \n",
       "75%                                       0.119279  ...   \n",
       "max                                       1.000000  ...   \n",
       "\n",
       "       ln(1 + EcosystemExperienceSubmitterIssueSubmissionCount)   \n",
       "count                                      426832.000000         \\\n",
       "mean                                            0.060187          \n",
       "std                                             0.104316          \n",
       "min                                             0.000000          \n",
       "25%                                             0.000000          \n",
       "50%                                             0.000000          \n",
       "75%                                             0.089382          \n",
       "max                                             1.000000          \n",
       "\n",
       "       ln(1 + EcosystemExperienceSubmitterIssueCommentCount)   \n",
       "count                                      426832.000000      \\\n",
       "mean                                            0.098324       \n",
       "std                                             0.153459       \n",
       "min                                             0.000000       \n",
       "25%                                             0.000000       \n",
       "50%                                             0.000000       \n",
       "75%                                             0.155067       \n",
       "max                                             1.000000       \n",
       "\n",
       "       ln(1 + DependencyEcosystemExperienceSubmitterIssueSubmissionCount)   \n",
       "count                                      426832.000000                   \\\n",
       "mean                                            0.002768                    \n",
       "std                                             0.025482                    \n",
       "min                                             0.000000                    \n",
       "25%                                             0.000000                    \n",
       "50%                                             0.000000                    \n",
       "75%                                             0.000000                    \n",
       "max                                             0.759557                    \n",
       "\n",
       "       ln(1 + DependencyEcosystemExperienceSubmitterIssueCommentCount)   \n",
       "count                                      426832.000000                \\\n",
       "mean                                            0.004929                 \n",
       "std                                             0.040209                 \n",
       "min                                             0.000000                 \n",
       "25%                                             0.000000                 \n",
       "50%                                             0.000000                 \n",
       "75%                                             0.000000                 \n",
       "max                                             1.000000                 \n",
       "\n",
       "       ln(1 + NonDependencyEcosystemExperienceSubmitterIssueSubmissionCount)   \n",
       "count                                      426832.000000                      \\\n",
       "mean                                            0.057686                       \n",
       "std                                             0.101355                       \n",
       "min                                             0.000000                       \n",
       "25%                                             0.000000                       \n",
       "50%                                             0.000000                       \n",
       "75%                                             0.089382                       \n",
       "max                                             1.000000                       \n",
       "\n",
       "       ln(1 + NonDependencyEcosystemExperienceSubmitterIssueCommentCount)   \n",
       "count                                      426832.000000                   \\\n",
       "mean                                            0.094571                    \n",
       "std                                             0.149757                    \n",
       "min                                             0.000000                    \n",
       "25%                                             0.000000                    \n",
       "50%                                             0.000000                    \n",
       "75%                                             0.155067                    \n",
       "max                                             1.000000                    \n",
       "\n",
       "       ln(1 + InversedDependencyEcosystemExperienceSubmitterIssueSubmissionCount)   \n",
       "count                                      426832.000000                           \\\n",
       "mean                                            0.004174                            \n",
       "std                                             0.033526                            \n",
       "min                                             0.000000                            \n",
       "25%                                             0.000000                            \n",
       "50%                                             0.000000                            \n",
       "75%                                             0.000000                            \n",
       "max                                             1.000000                            \n",
       "\n",
       "       ln(1 + InversedDependencyEcosystemExperienceSubmitterIssueCommentCount)   \n",
       "count                                      426832.000000                        \\\n",
       "mean                                            0.007872                         \n",
       "std                                             0.054303                         \n",
       "min                                             0.000000                         \n",
       "25%                                             0.000000                         \n",
       "50%                                             0.000000                         \n",
       "75%                                             0.000000                         \n",
       "max                                             0.999543                         \n",
       "\n",
       "       ln(1 + WeightedEcosystemSecondOrderDegreeCentrality)   \n",
       "count                                      426832.000000     \\\n",
       "mean                                            0.048752      \n",
       "std                                             0.088964      \n",
       "min                                             0.000000      \n",
       "25%                                             0.000000      \n",
       "50%                                             0.000000      \n",
       "75%                                             0.064858      \n",
       "max                                             1.000000      \n",
       "\n",
       "       ln(1 + EcosystemLinkIntensity)  \n",
       "count                   426832.000000  \n",
       "mean                         0.012933  \n",
       "std                          0.064506  \n",
       "min                          0.000000  \n",
       "25%                          0.000000  \n",
       "50%                          0.000000  \n",
       "75%                          0.000000  \n",
       "max                          0.951250  \n",
       "\n",
       "[8 rows x 33 columns]"
      ]
     },
     "execution_count": 8,
     "metadata": {},
     "output_type": "execute_result"
    }
   ],
   "source": [
    "# Filters data\n",
    "df = df[df[ftc_key] == True]\n",
    "df = df.drop([ftc_key], axis=1)\n",
    "independent_fields.remove(ftc_key)\n",
    "print(f\"{len(df)=}\")\n",
    "\n",
    "# Recalculates class imbalance.\n",
    "class_counts = df[pr_merged_key].value_counts()\n",
    "class_imbalance = class_counts[True] / class_counts[False]\n",
    "print(f\"{class_imbalance=}\")\n",
    "\n",
    "# Resets indices.\n",
    "df = df.reset_index(drop=True)\n",
    "print(independent_fields)\n",
    "\n",
    "df.describe()"
   ]
  },
  {
   "cell_type": "markdown",
   "metadata": {},
   "source": [
    "## Model Creation"
   ]
  },
  {
   "cell_type": "code",
   "execution_count": 9,
   "metadata": {
    "execution": {
     "iopub.execute_input": "2024-02-21T12:12:47.467910Z",
     "iopub.status.busy": "2024-02-21T12:12:47.467773Z",
     "iopub.status.idle": "2024-02-21T12:12:47.481167Z",
     "shell.execute_reply": "2024-02-21T12:12:47.480798Z"
    }
   },
   "outputs": [
    {
     "name": "stdout",
     "output_type": "stream",
     "text": [
      "Using k=5 folds.\n"
     ]
    }
   ],
   "source": [
    "k = 5\n",
    "print(f\"Using {k=} folds.\")"
   ]
  },
  {
   "cell_type": "markdown",
   "metadata": {},
   "source": [
    "Generates a number of feature groups that are relevant later in the pipeline:\n",
    "- control variables\n",
    "- intra-project experience\n",
    "- ecosystem experience\n",
    "- dependency ecosystem experience\n",
    "- inverse dependency ecosystem experience\n",
    "- non-dependency ecosystem experience\n",
    "- collaboration variables"
   ]
  },
  {
   "cell_type": "code",
   "execution_count": 10,
   "metadata": {
    "execution": {
     "iopub.execute_input": "2024-02-21T12:12:47.482763Z",
     "iopub.status.busy": "2024-02-21T12:12:47.482645Z",
     "iopub.status.idle": "2024-02-21T12:12:47.499470Z",
     "shell.execute_reply": "2024-02-21T12:12:47.499092Z"
    }
   },
   "outputs": [
    {
     "name": "stdout",
     "output_type": "stream",
     "text": [
      "Feature groups:\n",
      "{\n",
      "  \"FeatureGroups.Control\": [\n",
      "    \"ControlIntegratedBySameUser\",\n",
      "    \"ControlPullRequestHasComments\",\n",
      "    \"ControlPullRequestHasCommentByExternalUser\",\n",
      "    \"ControlHasHashTagInDescription\",\n",
      "    \"ln(1 + ControlPullRequestLifeTimeInMinutes)\",\n",
      "    \"ln(1 + ControlNumberOfCommitsInPullRequest)\",\n",
      "    \"ln(1 + ControlIntraProjectPullRequestExperienceOfIntegrator)\"\n",
      "  ],\n",
      "  \"FeatureGroups.Intra\": [\n",
      "    \"IntraProjectSubmitterPullRequestSuccessRate\",\n",
      "    \"ln(1 + IntraProjectSubmitterPullRequestSubmissionCount)\",\n",
      "    \"ln(1 + IntraProjectSubmitterPullRequestCommentCount)\",\n",
      "    \"ln(1 + IntraProjectSubmitterIssueSubmissionCount)\",\n",
      "    \"ln(1 + IntraProjectSubmitterIssueCommentCount)\"\n",
      "  ],\n",
      "  \"FeatureGroups.Eco\": [\n",
      "    \"EcosystemExperienceSubmitterPullRequestSuccessRate\",\n",
      "    \"ln(1 + EcosystemExperienceSubmitterPullRequestSubmissionCount)\",\n",
      "    \"ln(1 + EcosystemExperienceSubmitterPullRequestCommentCount)\",\n",
      "    \"ln(1 + EcosystemExperienceSubmitterIssueSubmissionCount)\",\n",
      "    \"ln(1 + EcosystemExperienceSubmitterIssueCommentCount)\"\n",
      "  ],\n",
      "  \"FeatureGroups.DEco\": [\n",
      "    \"DependencyEcosystemExperienceSubmitterPullRequestSuccessRate\",\n",
      "    \"ln(1 + DependencyEcosystemExperienceSubmitterPullRequestSubmissionCount)\",\n",
      "    \"ln(1 + DependencyEcosystemExperienceSubmitterPullRequestCommentCount)\",\n",
      "    \"ln(1 + DependencyEcosystemExperienceSubmitterIssueSubmissionCount)\",\n",
      "    \"ln(1 + DependencyEcosystemExperienceSubmitterIssueCommentCount)\"\n",
      "  ],\n",
      "  \"FeatureGroups.IDEco\": [\n",
      "    \"InversedDependencyEcosystemExperienceSubmitterPullRequestSuccessRate\",\n",
      "    \"ln(1 + InversedDependencyEcosystemExperienceSubmitterPullRequestSubmissionCount)\",\n",
      "    \"ln(1 + InversedDependencyEcosystemExperienceSubmitterPullRequestCommentCount)\",\n",
      "    \"ln(1 + InversedDependencyEcosystemExperienceSubmitterIssueSubmissionCount)\",\n",
      "    \"ln(1 + InversedDependencyEcosystemExperienceSubmitterIssueCommentCount)\"\n",
      "  ],\n",
      "  \"FeatureGroups.NDEco\": [\n",
      "    \"NonDependencyEcosystemExperienceSubmitterPullRequestSuccessRate\",\n",
      "    \"ln(1 + NonDependencyEcosystemExperienceSubmitterPullRequestSubmissionCount)\",\n",
      "    \"ln(1 + NonDependencyEcosystemExperienceSubmitterPullRequestCommentCount)\",\n",
      "    \"ln(1 + NonDependencyEcosystemExperienceSubmitterIssueSubmissionCount)\",\n",
      "    \"ln(1 + NonDependencyEcosystemExperienceSubmitterIssueCommentCount)\"\n",
      "  ],\n",
      "  \"FeatureGroups.Coll\": [\n",
      "    \"ln(1 + WeightedEcosystemSecondOrderDegreeCentrality)\",\n",
      "    \"ln(1 + EcosystemLinkIntensity)\"\n",
      "  ]\n",
      "}\n"
     ]
    }
   ],
   "source": [
    "from enum import Enum\n",
    "from python_proj.utils.util import get_matching\n",
    "\n",
    "# Defines feature groups\n",
    "\n",
    "\n",
    "class FeatureGroups(Enum):\n",
    "    Control = 1\n",
    "    Intra = 2\n",
    "    Eco = 3\n",
    "    DEco = 4\n",
    "    IDEco = 5\n",
    "    NDEco = 6\n",
    "    Coll = 7\n",
    "\n",
    "\n",
    "var_group_regex_patterns = [\n",
    "    (FeatureGroups.Control, r\".*Control.*\"),\n",
    "    (\n",
    "        FeatureGroups.Intra,\n",
    "        r\"^(?:(?!Control|Degree|Link).)*Intra(?:(?!Control|Degree|Link).)*$\",\n",
    "    ),\n",
    "    (FeatureGroups.Eco, r\"^(?:(?!Dependency).)*Ecosystem(?:(?!Degree|Link).)*$\"),\n",
    "    (FeatureGroups.DEco, r\"^(?!.*(Inverse|Non)).*(?=Dependency).*\"),\n",
    "    (FeatureGroups.IDEco, r\".*(?=Inverse).*\"),\n",
    "    (FeatureGroups.NDEco, r\".*(?=NonDependency).*\"),\n",
    "    (FeatureGroups.Coll, r\"^(?:(?!Intra).)*(Weighted|LinkIntensity)(?:(?!Intra).)*$\"),\n",
    "]\n",
    "\n",
    "# Resolves the regex patterns to generate lists of fields.\n",
    "var_groups = {\n",
    "    str(name): list(get_matching(independent_fields, pattern))\n",
    "    for name, pattern in var_group_regex_patterns\n",
    "}\n",
    "\n",
    "\n",
    "print(\"Feature groups:\")\n",
    "print(json.dumps(var_groups, indent=2))"
   ]
  },
  {
   "cell_type": "code",
   "execution_count": 11,
   "metadata": {
    "execution": {
     "iopub.execute_input": "2024-02-21T12:12:47.500860Z",
     "iopub.status.busy": "2024-02-21T12:12:47.500744Z",
     "iopub.status.idle": "2024-02-21T12:12:47.514291Z",
     "shell.execute_reply": "2024-02-21T12:12:47.513938Z"
    }
   },
   "outputs": [],
   "source": [
    "from wmutils.collections.list_access import flatten\n",
    "\n",
    "\n",
    "def get_feature_groups(*feature_groups) -> list[str]:\n",
    "    return list(flatten(var_groups[str(group)] for group in feature_groups))"
   ]
  },
  {
   "cell_type": "markdown",
   "metadata": {},
   "source": [
    "### Full Model"
   ]
  },
  {
   "cell_type": "code",
   "execution_count": 12,
   "metadata": {
    "execution": {
     "iopub.execute_input": "2024-02-21T12:12:47.515938Z",
     "iopub.status.busy": "2024-02-21T12:12:47.515813Z",
     "iopub.status.idle": "2024-02-21T12:17:05.723976Z",
     "shell.execute_reply": "2024-02-21T12:17:05.723534Z"
    }
   },
   "outputs": [
    {
     "name": "stdout",
     "output_type": "stream",
     "text": [
      "random_state=43"
     ]
    },
    {
     "name": "stdout",
     "output_type": "stream",
     "text": [
      "random_state=43"
     ]
    },
    {
     "name": "stdout",
     "output_type": "stream",
     "text": [
      "\n"
     ]
    },
    {
     "name": "stdout",
     "output_type": "stream",
     "text": [
      "\n"
     ]
    },
    {
     "name": "stdout",
     "output_type": "stream",
     "text": [
      "random_state=43"
     ]
    },
    {
     "name": "stdout",
     "output_type": "stream",
     "text": [
      "\n"
     ]
    },
    {
     "name": "stdout",
     "output_type": "stream",
     "text": [
      "random_state=43"
     ]
    },
    {
     "name": "stdout",
     "output_type": "stream",
     "text": [
      "\n"
     ]
    },
    {
     "name": "stdout",
     "output_type": "stream",
     "text": [
      "random_state=43"
     ]
    },
    {
     "name": "stdout",
     "output_type": "stream",
     "text": [
      "\n"
     ]
    },
    {
     "name": "stdout",
     "output_type": "stream",
     "text": [
      "metrics={'accuracy': 0.7646514461091523, 'precision': 0.7909625512940645, 'recall': 0.872538361462102, 'f1': 0.829750273284241}\n"
     ]
    },
    {
     "name": "stdout",
     "output_type": "stream",
     "text": [
      "\n"
     ]
    },
    {
     "name": "stdout",
     "output_type": "stream",
     "text": [
      "Confusion matrix:\n",
      "[[16317 12939]\n",
      " [ 7152 48959]]\n"
     ]
    },
    {
     "name": "stdout",
     "output_type": "stream",
     "text": [
      "\n"
     ]
    },
    {
     "name": "stdout",
     "output_type": "stream",
     "text": [
      "Classification report:"
     ]
    },
    {
     "name": "stdout",
     "output_type": "stream",
     "text": [
      "\n"
     ]
    },
    {
     "name": "stdout",
     "output_type": "stream",
     "text": [
      "metrics={'accuracy': 0.7659958297214348, 'precision': 0.7947957679158768, 'recall': 0.8702918477778764, 'f1': 0.8308322888791031}\n"
     ]
    },
    {
     "name": "stdout",
     "output_type": "stream",
     "text": [
      "\n"
     ]
    },
    {
     "name": "stdout",
     "output_type": "stream",
     "text": [
      "Confusion matrix:\n",
      "[[16336 12665]\n",
      " [ 7311 49054]]\n"
     ]
    },
    {
     "name": "stdout",
     "output_type": "stream",
     "text": [
      "\n"
     ]
    },
    {
     "name": "stdout",
     "output_type": "stream",
     "text": [
      "Classification report:"
     ]
    },
    {
     "name": "stdout",
     "output_type": "stream",
     "text": [
      "\n"
     ]
    },
    {
     "name": "stdout",
     "output_type": "stream",
     "text": [
      "              precision    recall  f1-score   support\n",
      "\n",
      "       False       0.70      0.56      0.62     29256\n",
      "        True       0.79      0.87      0.83     56111\n",
      "\n",
      "    accuracy                           0.76     85367\n",
      "   macro avg       0.74      0.72      0.72     85367\n",
      "weighted avg       0.76      0.76      0.76     85367\n"
     ]
    },
    {
     "name": "stdout",
     "output_type": "stream",
     "text": [
      "\n"
     ]
    },
    {
     "name": "stdout",
     "output_type": "stream",
     "text": [
      "              precision    recall  f1-score   support\n",
      "\n",
      "       False       0.69      0.56      0.62     29001\n",
      "        True       0.79      0.87      0.83     56365\n",
      "\n",
      "    accuracy                           0.77     85366\n",
      "   macro avg       0.74      0.72      0.73     85366\n",
      "weighted avg       0.76      0.77      0.76     85366\n"
     ]
    },
    {
     "name": "stdout",
     "output_type": "stream",
     "text": [
      "\n"
     ]
    },
    {
     "name": "stdout",
     "output_type": "stream",
     "text": [
      "metrics={'accuracy': 0.7667717033514121, 'precision': 0.792601801918171, 'recall': 0.8741852762047227, 'f1': 0.83139692432762}\n"
     ]
    },
    {
     "name": "stdout",
     "output_type": "stream",
     "text": [
      "\n"
     ]
    },
    {
     "name": "stdout",
     "output_type": "stream",
     "text": [
      "Confusion matrix:\n",
      "[[16368 12845]\n",
      " [ 7065 49089]]\n"
     ]
    },
    {
     "name": "stdout",
     "output_type": "stream",
     "text": [
      "\n"
     ]
    },
    {
     "name": "stdout",
     "output_type": "stream",
     "text": [
      "Classification report:"
     ]
    },
    {
     "name": "stdout",
     "output_type": "stream",
     "text": [
      "\n"
     ]
    },
    {
     "name": "stdout",
     "output_type": "stream",
     "text": [
      "              precision    recall  f1-score   support\n",
      "\n",
      "       False       0.70      0.56      0.62     29213\n",
      "        True       0.79      0.87      0.83     56154\n",
      "\n",
      "    accuracy                           0.77     85367\n",
      "   macro avg       0.75      0.72      0.73     85367\n",
      "weighted avg       0.76      0.77      0.76     85367\n"
     ]
    },
    {
     "name": "stdout",
     "output_type": "stream",
     "text": [
      "\n"
     ]
    },
    {
     "name": "stdout",
     "output_type": "stream",
     "text": [
      "metrics={'accuracy': 0.766136400909027, 'precision': 0.7914185667489633, 'recall': 0.8745074264928766, 'f1': 0.8308909482101411}\n"
     ]
    },
    {
     "name": "stdout",
     "output_type": "stream",
     "text": [
      "\n"
     ]
    },
    {
     "name": "stdout",
     "output_type": "stream",
     "text": [
      "Confusion matrix:\n",
      "[[16357 12926]\n",
      " [ 7038 49045]]\n"
     ]
    },
    {
     "name": "stdout",
     "output_type": "stream",
     "text": [
      "\n"
     ]
    },
    {
     "name": "stdout",
     "output_type": "stream",
     "text": [
      "Classification report:"
     ]
    },
    {
     "name": "stdout",
     "output_type": "stream",
     "text": [
      "\n"
     ]
    },
    {
     "name": "stdout",
     "output_type": "stream",
     "text": [
      "              precision    recall  f1-score   support\n",
      "\n",
      "       False       0.70      0.56      0.62     29283\n",
      "        True       0.79      0.87      0.83     56083\n",
      "\n",
      "    accuracy                           0.77     85366\n",
      "   macro avg       0.75      0.72      0.73     85366\n",
      "weighted avg       0.76      0.77      0.76     85366\n"
     ]
    },
    {
     "name": "stdout",
     "output_type": "stream",
     "text": [
      "\n"
     ]
    },
    {
     "name": "stdout",
     "output_type": "stream",
     "text": [
      "metrics={'accuracy': 0.7665932572687019, 'precision': 0.7930705091880514, 'recall': 0.8727194982896237, 'f1': 0.8309908137039519}\n"
     ]
    },
    {
     "name": "stdout",
     "output_type": "stream",
     "text": [
      "\n"
     ]
    },
    {
     "name": "stdout",
     "output_type": "stream",
     "text": [
      "Confusion matrix:\n",
      "[[16457 12781]\n",
      " [ 7144 48984]]\n"
     ]
    },
    {
     "name": "stdout",
     "output_type": "stream",
     "text": [
      "\n"
     ]
    },
    {
     "name": "stdout",
     "output_type": "stream",
     "text": [
      "Classification report:"
     ]
    },
    {
     "name": "stdout",
     "output_type": "stream",
     "text": [
      "\n"
     ]
    },
    {
     "name": "stdout",
     "output_type": "stream",
     "text": [
      "              precision    recall  f1-score   support\n",
      "\n",
      "       False       0.70      0.56      0.62     29238\n",
      "        True       0.79      0.87      0.83     56128\n",
      "\n",
      "    accuracy                           0.77     85366\n",
      "   macro avg       0.75      0.72      0.73     85366\n",
      "weighted avg       0.76      0.77      0.76     85366\n"
     ]
    },
    {
     "name": "stdout",
     "output_type": "stream",
     "text": [
      "\n"
     ]
    },
    {
     "name": "stdout",
     "output_type": "stream",
     "text": [
      "\n",
      "Performance metrics full model:\n",
      "f1_scores=[0.829750273284241, 0.8308322888791031, 0.83139692432762, 0.8308909482101411, 0.8309908137039519]\n",
      "f1_mean=0.8307722496810115, f1_std=0.0005477441826108959\n"
     ]
    }
   ],
   "source": [
    "from python_proj.modelling.notebooks.random_forest.rf_functions import (\n",
    "    kfold_rf_evaluation,\n",
    ")\n",
    "\n",
    "f1_scores, f1_mean, f1_std = kfold_rf_evaluation(\n",
    "    df, independent_fields, k, pr_merged_key, seed_counter\n",
    ")\n",
    "\n",
    "print(\"\\nPerformance metrics full model:\")\n",
    "print(f\"{f1_scores=}\")\n",
    "print(f\"{f1_mean=}, {f1_std=}\")"
   ]
  },
  {
   "cell_type": "markdown",
   "metadata": {},
   "source": [
    "### Control + Intra-project Model"
   ]
  },
  {
   "cell_type": "code",
   "execution_count": 13,
   "metadata": {
    "execution": {
     "iopub.execute_input": "2024-02-21T12:17:05.725950Z",
     "iopub.status.busy": "2024-02-21T12:17:05.725569Z",
     "iopub.status.idle": "2024-02-21T12:18:54.380892Z",
     "shell.execute_reply": "2024-02-21T12:18:54.380513Z"
    }
   },
   "outputs": [
    {
     "name": "stdout",
     "output_type": "stream",
     "text": [
      "['ControlIntegratedBySameUser', 'ControlPullRequestHasComments', 'ControlPullRequestHasCommentByExternalUser', 'ControlHasHashTagInDescription', 'ln(1 + ControlPullRequestLifeTimeInMinutes)', 'ln(1 + ControlNumberOfCommitsInPullRequest)', 'ln(1 + ControlIntraProjectPullRequestExperienceOfIntegrator)', 'IntraProjectSubmitterPullRequestSuccessRate', 'ln(1 + IntraProjectSubmitterPullRequestSubmissionCount)', 'ln(1 + IntraProjectSubmitterPullRequestCommentCount)', 'ln(1 + IntraProjectSubmitterIssueSubmissionCount)', 'ln(1 + IntraProjectSubmitterIssueCommentCount)']\n"
     ]
    },
    {
     "name": "stdout",
     "output_type": "stream",
     "text": [
      "random_state=45"
     ]
    },
    {
     "name": "stdout",
     "output_type": "stream",
     "text": [
      "\n"
     ]
    },
    {
     "name": "stdout",
     "output_type": "stream",
     "text": [
      "random_state=45"
     ]
    },
    {
     "name": "stdout",
     "output_type": "stream",
     "text": [
      "random_state=45"
     ]
    },
    {
     "name": "stdout",
     "output_type": "stream",
     "text": [
      "\n"
     ]
    },
    {
     "name": "stdout",
     "output_type": "stream",
     "text": [
      "random_state=45"
     ]
    },
    {
     "name": "stdout",
     "output_type": "stream",
     "text": [
      "\n"
     ]
    },
    {
     "name": "stdout",
     "output_type": "stream",
     "text": [
      "\n"
     ]
    },
    {
     "name": "stdout",
     "output_type": "stream",
     "text": [
      "random_state=45"
     ]
    },
    {
     "name": "stdout",
     "output_type": "stream",
     "text": [
      "\n"
     ]
    },
    {
     "name": "stdout",
     "output_type": "stream",
     "text": [
      "metrics={'accuracy': 0.7402830166576857, 'precision': 0.7844895364592918, 'recall': 0.8346860316104229, 'f1': 0.8088097065443287}\n"
     ]
    },
    {
     "name": "stdout",
     "output_type": "stream",
     "text": [
      "\n"
     ]
    },
    {
     "name": "stdout",
     "output_type": "stream",
     "text": [
      "Confusion matrix:\n",
      "[[16299 12883]\n",
      " [ 9288 46896]]\n"
     ]
    },
    {
     "name": "stdout",
     "output_type": "stream",
     "text": [
      "\n"
     ]
    },
    {
     "name": "stdout",
     "output_type": "stream",
     "text": [
      "Classification report:"
     ]
    },
    {
     "name": "stdout",
     "output_type": "stream",
     "text": [
      "\n"
     ]
    },
    {
     "name": "stdout",
     "output_type": "stream",
     "text": [
      "              precision    recall  f1-score   support\n",
      "\n",
      "       False       0.64      0.56      0.60     29182\n",
      "        True       0.78      0.83      0.81     56184\n",
      "\n",
      "    accuracy                           0.74     85366\n",
      "   macro avg       0.71      0.70      0.70     85366\n",
      "weighted avg       0.73      0.74      0.74     85366\n"
     ]
    },
    {
     "name": "stdout",
     "output_type": "stream",
     "text": [
      "\n"
     ]
    },
    {
     "name": "stdout",
     "output_type": "stream",
     "text": [
      "metrics={'accuracy': 0.7374481643745754, 'precision': 0.7813761147924867, 'recall': 0.8357135244591282, 'f1': 0.8076318974174113}\n"
     ]
    },
    {
     "name": "stdout",
     "output_type": "stream",
     "text": [
      "\n"
     ]
    },
    {
     "name": "stdout",
     "output_type": "stream",
     "text": [
      "Confusion matrix:\n",
      "[[15904 13164]\n",
      " [ 9249 47049]]\n"
     ]
    },
    {
     "name": "stdout",
     "output_type": "stream",
     "text": [
      "\n"
     ]
    },
    {
     "name": "stdout",
     "output_type": "stream",
     "text": [
      "Classification report:"
     ]
    },
    {
     "name": "stdout",
     "output_type": "stream",
     "text": [
      "\n"
     ]
    },
    {
     "name": "stdout",
     "output_type": "stream",
     "text": [
      "              precision    recall  f1-score   support\n",
      "\n",
      "       False       0.63      0.55      0.59     29068\n",
      "        True       0.78      0.84      0.81     56298\n",
      "\n",
      "    accuracy                           0.74     85366\n",
      "   macro avg       0.71      0.69      0.70     85366\n",
      "weighted avg       0.73      0.74      0.73     85366\n"
     ]
    },
    {
     "name": "stdout",
     "output_type": "stream",
     "text": [
      "\n"
     ]
    },
    {
     "name": "stdout",
     "output_type": "stream",
     "text": [
      "metrics={'accuracy': 0.7346867056356672, 'precision': 0.7766056109436587, 'recall': 0.8365832337252244, 'f1': 0.8054794520547945}\n"
     ]
    },
    {
     "name": "stdout",
     "output_type": "stream",
     "text": [
      "\n"
     ]
    },
    {
     "name": "stdout",
     "output_type": "stream",
     "text": [
      "Confusion matrix:\n",
      "[[15825 13489]\n",
      " [ 9160 46893]]\n"
     ]
    },
    {
     "name": "stdout",
     "output_type": "stream",
     "text": [
      "\n"
     ]
    },
    {
     "name": "stdout",
     "output_type": "stream",
     "text": [
      "Classification report:"
     ]
    },
    {
     "name": "stdout",
     "output_type": "stream",
     "text": [
      "\n"
     ]
    },
    {
     "name": "stdout",
     "output_type": "stream",
     "text": [
      "              precision    recall  f1-score   support\n",
      "\n",
      "       False       0.63      0.54      0.58     29314\n",
      "        True       0.78      0.84      0.81     56053\n",
      "\n",
      "    accuracy                           0.73     85367\n",
      "   macro avg       0.70      0.69      0.69     85367\n",
      "weighted avg       0.73      0.73      0.73     85367\n"
     ]
    },
    {
     "name": "stdout",
     "output_type": "stream",
     "text": [
      "\n"
     ]
    },
    {
     "name": "stdout",
     "output_type": "stream",
     "text": [
      "metrics={'accuracy': 0.7362533092800412, 'precision': 0.7797673681224238, 'recall': 0.8337377774605667, 'f1': 0.8058499400691576}\n"
     ]
    },
    {
     "name": "stdout",
     "output_type": "stream",
     "text": [
      "\n"
     ]
    },
    {
     "name": "stdout",
     "output_type": "stream",
     "text": [
      "Confusion matrix:\n",
      "[[16125 13197]\n",
      " [ 9318 46726]]\n"
     ]
    },
    {
     "name": "stdout",
     "output_type": "stream",
     "text": [
      "\n"
     ]
    },
    {
     "name": "stdout",
     "output_type": "stream",
     "text": [
      "Classification report:"
     ]
    },
    {
     "name": "stdout",
     "output_type": "stream",
     "text": [
      "\n"
     ]
    },
    {
     "name": "stdout",
     "output_type": "stream",
     "text": [
      "              precision    recall  f1-score   support\n",
      "\n",
      "       False       0.63      0.55      0.59     29322\n",
      "        True       0.78      0.83      0.81     56044\n",
      "\n",
      "    accuracy                           0.74     85366\n",
      "   macro avg       0.71      0.69      0.70     85366\n",
      "weighted avg       0.73      0.74      0.73     85366\n"
     ]
    },
    {
     "name": "stdout",
     "output_type": "stream",
     "text": [
      "\n"
     ]
    },
    {
     "name": "stdout",
     "output_type": "stream",
     "text": [
      "metrics={'accuracy': 0.7361392575585414, 'precision': 0.7819734884576166, 'recall': 0.8314670648039529, 'f1': 0.8059611491579445}\n"
     ]
    },
    {
     "name": "stdout",
     "output_type": "stream",
     "text": [
      "\n"
     ]
    },
    {
     "name": "stdout",
     "output_type": "stream",
     "text": [
      "Confusion matrix:\n",
      "[[16062 13043]\n",
      " [ 9482 46780]]\n"
     ]
    },
    {
     "name": "stdout",
     "output_type": "stream",
     "text": [
      "\n"
     ]
    },
    {
     "name": "stdout",
     "output_type": "stream",
     "text": [
      "Classification report:"
     ]
    },
    {
     "name": "stdout",
     "output_type": "stream",
     "text": [
      "\n"
     ]
    },
    {
     "name": "stdout",
     "output_type": "stream",
     "text": [
      "              precision    recall  f1-score   support\n",
      "\n",
      "       False       0.63      0.55      0.59     29105\n",
      "        True       0.78      0.83      0.81     56262\n",
      "\n",
      "    accuracy                           0.74     85367\n",
      "   macro avg       0.71      0.69      0.70     85367\n",
      "weighted avg       0.73      0.74      0.73     85367\n"
     ]
    },
    {
     "name": "stdout",
     "output_type": "stream",
     "text": [
      "\n"
     ]
    },
    {
     "name": "stdout",
     "output_type": "stream",
     "text": [
      "\n",
      "Performance metrics control + intra model:\n",
      "f1_scores=[0.8088097065443287, 0.8076318974174113, 0.8054794520547945, 0.8058499400691576, 0.8059611491579445]\n",
      "f1_mean=0.8067464290487273, f1_std=0.001270177621933864\n"
     ]
    }
   ],
   "source": [
    "contr_with_intra = get_feature_groups(FeatureGroups.Control, FeatureGroups.Intra)\n",
    "print(contr_with_intra)\n",
    "\n",
    "f1_scores, f1_mean, f1_std = kfold_rf_evaluation(\n",
    "    df, contr_with_intra, k, pr_merged_key, seed_counter\n",
    ")\n",
    "\n",
    "print(\"\\nPerformance metrics control + intra model:\")\n",
    "print(f\"{f1_scores=}\")\n",
    "print(f\"{f1_mean=}, {f1_std=}\")"
   ]
  },
  {
   "cell_type": "markdown",
   "metadata": {},
   "source": [
    "### Collaboration and Ecosystem Model"
   ]
  },
  {
   "cell_type": "code",
   "execution_count": 14,
   "metadata": {
    "execution": {
     "iopub.execute_input": "2024-02-21T12:18:54.382578Z",
     "iopub.status.busy": "2024-02-21T12:18:54.382449Z",
     "iopub.status.idle": "2024-02-21T12:24:17.903729Z",
     "shell.execute_reply": "2024-02-21T12:24:17.903134Z"
    }
   },
   "outputs": [
    {
     "name": "stdout",
     "output_type": "stream",
     "text": [
      "['EcosystemExperienceSubmitterPullRequestSuccessRate', 'ln(1 + EcosystemExperienceSubmitterPullRequestSubmissionCount)', 'ln(1 + EcosystemExperienceSubmitterPullRequestCommentCount)', 'ln(1 + EcosystemExperienceSubmitterIssueSubmissionCount)', 'ln(1 + EcosystemExperienceSubmitterIssueCommentCount)', 'DependencyEcosystemExperienceSubmitterPullRequestSuccessRate', 'ln(1 + DependencyEcosystemExperienceSubmitterPullRequestSubmissionCount)', 'ln(1 + DependencyEcosystemExperienceSubmitterPullRequestCommentCount)', 'ln(1 + DependencyEcosystemExperienceSubmitterIssueSubmissionCount)', 'ln(1 + DependencyEcosystemExperienceSubmitterIssueCommentCount)', 'InversedDependencyEcosystemExperienceSubmitterPullRequestSuccessRate', 'ln(1 + InversedDependencyEcosystemExperienceSubmitterPullRequestSubmissionCount)', 'ln(1 + InversedDependencyEcosystemExperienceSubmitterPullRequestCommentCount)', 'ln(1 + InversedDependencyEcosystemExperienceSubmitterIssueSubmissionCount)', 'ln(1 + InversedDependencyEcosystemExperienceSubmitterIssueCommentCount)', 'NonDependencyEcosystemExperienceSubmitterPullRequestSuccessRate', 'ln(1 + NonDependencyEcosystemExperienceSubmitterPullRequestSubmissionCount)', 'ln(1 + NonDependencyEcosystemExperienceSubmitterPullRequestCommentCount)', 'ln(1 + NonDependencyEcosystemExperienceSubmitterIssueSubmissionCount)', 'ln(1 + NonDependencyEcosystemExperienceSubmitterIssueCommentCount)', 'ln(1 + WeightedEcosystemSecondOrderDegreeCentrality)', 'ln(1 + EcosystemLinkIntensity)']\n"
     ]
    },
    {
     "name": "stdout",
     "output_type": "stream",
     "text": [
      "random_state=47"
     ]
    },
    {
     "name": "stdout",
     "output_type": "stream",
     "text": [
      "random_state=47"
     ]
    },
    {
     "name": "stdout",
     "output_type": "stream",
     "text": [
      "random_state=47"
     ]
    },
    {
     "name": "stdout",
     "output_type": "stream",
     "text": [
      "random_state=47"
     ]
    },
    {
     "name": "stdout",
     "output_type": "stream",
     "text": [
      "\n"
     ]
    },
    {
     "name": "stdout",
     "output_type": "stream",
     "text": [
      "\n"
     ]
    },
    {
     "name": "stdout",
     "output_type": "stream",
     "text": [
      "\n"
     ]
    },
    {
     "name": "stdout",
     "output_type": "stream",
     "text": [
      "\n"
     ]
    },
    {
     "name": "stdout",
     "output_type": "stream",
     "text": [
      "random_state=47"
     ]
    },
    {
     "name": "stdout",
     "output_type": "stream",
     "text": [
      "\n"
     ]
    },
    {
     "name": "stdout",
     "output_type": "stream",
     "text": [
      "metrics={'accuracy': 0.6415083288428648, 'precision': 0.6603768859951168, 'recall': 0.9381181074350765, 'f1': 0.7751184921188963}\n"
     ]
    },
    {
     "name": "stdout",
     "output_type": "stream",
     "text": [
      "\n"
     ]
    },
    {
     "name": "stdout",
     "output_type": "stream",
     "text": [
      "Confusion matrix:\n",
      "[[ 2022 27124]\n",
      " [ 3479 52741]]\n"
     ]
    },
    {
     "name": "stdout",
     "output_type": "stream",
     "text": [
      "\n"
     ]
    },
    {
     "name": "stdout",
     "output_type": "stream",
     "text": [
      "Classification report:"
     ]
    },
    {
     "name": "stdout",
     "output_type": "stream",
     "text": [
      "\n"
     ]
    },
    {
     "name": "stdout",
     "output_type": "stream",
     "text": [
      "              precision    recall  f1-score   support\n",
      "\n",
      "       False       0.37      0.07      0.12     29146\n",
      "        True       0.66      0.94      0.78     56220\n",
      "\n",
      "    accuracy                           0.64     85366\n",
      "   macro avg       0.51      0.50      0.45     85366\n",
      "weighted avg       0.56      0.64      0.55     85366\n"
     ]
    },
    {
     "name": "stdout",
     "output_type": "stream",
     "text": [
      "\n"
     ]
    },
    {
     "name": "stdout",
     "output_type": "stream",
     "text": [
      "metrics={'accuracy': 0.6392357613101235, 'precision': 0.6590586847685609, 'recall': 0.9354407836153161, 'f1': 0.7732964290709402}\n"
     ]
    },
    {
     "name": "stdout",
     "output_type": "stream",
     "text": [
      "\n"
     ]
    },
    {
     "name": "stdout",
     "output_type": "stream",
     "text": [
      "Confusion matrix:\n",
      "[[ 2044 27172]\n",
      " [ 3625 52525]]\n"
     ]
    },
    {
     "name": "stdout",
     "output_type": "stream",
     "text": [
      "\n"
     ]
    },
    {
     "name": "stdout",
     "output_type": "stream",
     "text": [
      "Classification report:"
     ]
    },
    {
     "name": "stdout",
     "output_type": "stream",
     "text": [
      "\n"
     ]
    },
    {
     "name": "stdout",
     "output_type": "stream",
     "text": [
      "              precision    recall  f1-score   support\n",
      "\n",
      "       False       0.36      0.07      0.12     29216\n",
      "        True       0.66      0.94      0.77     56150\n",
      "\n",
      "    accuracy                           0.64     85366\n",
      "   macro avg       0.51      0.50      0.45     85366\n",
      "weighted avg       0.56      0.64      0.55     85366\n"
     ]
    },
    {
     "name": "stdout",
     "output_type": "stream",
     "text": [
      "\n"
     ]
    },
    {
     "name": "stdout",
     "output_type": "stream",
     "text": [
      "metrics={'accuracy': 0.6419183281400089, 'precision': 0.6617226321337148, 'recall': 0.9359292914951015, 'f1': 0.7752947749125232}\n"
     ]
    },
    {
     "name": "stdout",
     "output_type": "stream",
     "text": [
      "\n"
     ]
    },
    {
     "name": "stdout",
     "output_type": "stream",
     "text": [
      "Confusion matrix:\n",
      "[[ 2064 26958]\n",
      " [ 3610 52734]]\n"
     ]
    },
    {
     "name": "stdout",
     "output_type": "stream",
     "text": [
      "\n"
     ]
    },
    {
     "name": "stdout",
     "output_type": "stream",
     "text": [
      "Classification report:"
     ]
    },
    {
     "name": "stdout",
     "output_type": "stream",
     "text": [
      "\n"
     ]
    },
    {
     "name": "stdout",
     "output_type": "stream",
     "text": [
      "              precision    recall  f1-score   support\n",
      "\n",
      "       False       0.36      0.07      0.12     29022\n",
      "        True       0.66      0.94      0.78     56344\n",
      "\n",
      "    accuracy                           0.64     85366\n",
      "   macro avg       0.51      0.50      0.45     85366\n",
      "weighted avg       0.56      0.64      0.55     85366\n"
     ]
    },
    {
     "name": "stdout",
     "output_type": "stream",
     "text": [
      "\n"
     ]
    },
    {
     "name": "stdout",
     "output_type": "stream",
     "text": [
      "metrics={'accuracy': 0.6383262853327398, 'precision': 0.6589771710219465, 'recall': 0.9318692288495134, 'f1': 0.7720173968263344}\n"
     ]
    },
    {
     "name": "stdout",
     "output_type": "stream",
     "text": [
      "\n"
     ]
    },
    {
     "name": "stdout",
     "output_type": "stream",
     "text": [
      "Confusion matrix:\n",
      "[[ 2216 27053]\n",
      " [ 3822 52276]]\n"
     ]
    },
    {
     "name": "stdout",
     "output_type": "stream",
     "text": [
      "\n"
     ]
    },
    {
     "name": "stdout",
     "output_type": "stream",
     "text": [
      "Classification report:"
     ]
    },
    {
     "name": "stdout",
     "output_type": "stream",
     "text": [
      "\n"
     ]
    },
    {
     "name": "stdout",
     "output_type": "stream",
     "text": [
      "              precision    recall  f1-score   support\n",
      "\n",
      "       False       0.37      0.08      0.13     29269\n",
      "        True       0.66      0.93      0.77     56098\n",
      "\n",
      "    accuracy                           0.64     85367\n",
      "   macro avg       0.51      0.50      0.45     85367\n",
      "weighted avg       0.56      0.64      0.55     85367\n"
     ]
    },
    {
     "name": "stdout",
     "output_type": "stream",
     "text": [
      "\n"
     ]
    },
    {
     "name": "stdout",
     "output_type": "stream",
     "text": [
      "metrics={'accuracy': 0.6401419752363325, 'precision': 0.6589421857141062, 'recall': 0.9363543879062628, 'f1': 0.7735281541659909}\n"
     ]
    },
    {
     "name": "stdout",
     "output_type": "stream",
     "text": [
      "\n"
     ]
    },
    {
     "name": "stdout",
     "output_type": "stream",
     "text": [
      "Confusion matrix:\n",
      "[[ 2184 27154]\n",
      " [ 3566 52463]]\n"
     ]
    },
    {
     "name": "stdout",
     "output_type": "stream",
     "text": [
      "\n"
     ]
    },
    {
     "name": "stdout",
     "output_type": "stream",
     "text": [
      "Classification report:"
     ]
    },
    {
     "name": "stdout",
     "output_type": "stream",
     "text": [
      "\n"
     ]
    },
    {
     "name": "stdout",
     "output_type": "stream",
     "text": [
      "              precision    recall  f1-score   support\n",
      "\n",
      "       False       0.38      0.07      0.12     29338\n",
      "        True       0.66      0.94      0.77     56029\n",
      "\n",
      "    accuracy                           0.64     85367\n",
      "   macro avg       0.52      0.51      0.45     85367\n",
      "weighted avg       0.56      0.64      0.55     85367\n"
     ]
    },
    {
     "name": "stdout",
     "output_type": "stream",
     "text": [
      "\n"
     ]
    },
    {
     "name": "stdout",
     "output_type": "stream",
     "text": [
      "\n",
      "Performance metrics non-control model:\n",
      "f1_scores=[0.7751184921188963, 0.7732964290709402, 0.7752947749125232, 0.7720173968263344, 0.7735281541659909]\n",
      "f1_mean=0.773851049418937, f1_std=0.0012218757059256206\n"
     ]
    }
   ],
   "source": [
    "non_control_intra_fields = get_feature_groups(\n",
    "    FeatureGroups.Eco,\n",
    "    FeatureGroups.DEco,\n",
    "    FeatureGroups.IDEco,\n",
    "    FeatureGroups.NDEco,\n",
    "    FeatureGroups.Coll,\n",
    ")\n",
    "print(non_control_intra_fields)\n",
    "\n",
    "f1_scores, f1_mean, f1_std = kfold_rf_evaluation(\n",
    "    df, non_control_intra_fields, k, pr_merged_key, seed_counter\n",
    ")\n",
    "\n",
    "print(\"\\nPerformance metrics non-control model:\")\n",
    "print(f\"{f1_scores=}\")\n",
    "print(f\"{f1_mean=}, {f1_std=}\")"
   ]
  },
  {
   "cell_type": "markdown",
   "metadata": {},
   "source": [
    "## Feature Explanation and Evaluation"
   ]
  },
  {
   "cell_type": "markdown",
   "metadata": {},
   "source": [
    "### Model Creation"
   ]
  },
  {
   "cell_type": "code",
   "execution_count": 15,
   "metadata": {
    "execution": {
     "iopub.execute_input": "2024-02-21T12:24:17.907789Z",
     "iopub.status.busy": "2024-02-21T12:24:17.906841Z",
     "iopub.status.idle": "2024-02-21T12:29:24.252079Z",
     "shell.execute_reply": "2024-02-21T12:29:24.251697Z"
    }
   },
   "outputs": [
    {
     "name": "stdout",
     "output_type": "stream",
     "text": [
      "random_state=49\n"
     ]
    },
    {
     "name": "stdout",
     "output_type": "stream",
     "text": [
      "metrics={'accuracy': 0.7645225906966392, 'precision': 0.7916888652104422, 'recall': 0.8719881928267866, 'f1': 0.8299006583289614}\n",
      "\n",
      "Confusion matrix:\n",
      "[[16227 12903]\n",
      " [ 7199 49038]]\n",
      "\n",
      "Classification report:\n",
      "              precision    recall  f1-score   support\n",
      "\n",
      "       False       0.69      0.56      0.62     29130\n",
      "        True       0.79      0.87      0.83     56237\n",
      "\n",
      "    accuracy                           0.76     85367\n",
      "   macro avg       0.74      0.71      0.72     85367\n",
      "weighted avg       0.76      0.76      0.76     85367\n",
      "\n"
     ]
    }
   ],
   "source": [
    "from sklearn.model_selection import train_test_split\n",
    "\n",
    "from python_proj.modelling.notebooks.random_forest.rf_functions import create_model\n",
    "\n",
    "\n",
    "train, test = train_test_split(df, test_size=0.2, shuffle=True)\n",
    "train_predictors = train[independent_fields]\n",
    "train_dependent = train[pr_merged_key]\n",
    "test_predictors = test[independent_fields]\n",
    "test_dependent = test[pr_merged_key]\n",
    "\n",
    "\n",
    "full_rf_model, _ = create_model(\n",
    "    train_predictors, train_dependent, test_predictors, test_dependent, seed_counter\n",
    ")"
   ]
  },
  {
   "cell_type": "markdown",
   "metadata": {},
   "source": [
    "### Mean decrease in Impurity"
   ]
  },
  {
   "cell_type": "code",
   "execution_count": 16,
   "metadata": {
    "execution": {
     "iopub.execute_input": "2024-02-21T12:29:24.253689Z",
     "iopub.status.busy": "2024-02-21T12:29:24.253530Z",
     "iopub.status.idle": "2024-02-21T12:29:24.673861Z",
     "shell.execute_reply": "2024-02-21T12:29:24.673477Z"
    }
   },
   "outputs": [
    {
     "name": "stderr",
     "output_type": "stream",
     "text": [
      "/tmp/ipykernel_48532/1648129876.py:16: UserWarning: Tight layout not applied. The bottom and top margins cannot be made large enough to accommodate all axes decorations.\n",
      "  plt.tight_layout()\n"
     ]
    },
    {
     "data": {
      "image/png": "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",
      "text/plain": [
       "<Figure size 1000x600 with 1 Axes>"
      ]
     },
     "metadata": {},
     "output_type": "display_data"
    }
   ],
   "source": [
    "from matplotlib import pyplot as plt\n",
    "\n",
    "feature_importances = full_rf_model.feature_importances_\n",
    "\n",
    "sorted_indices = np.argsort(feature_importances)[::-1]\n",
    "sorted_importances = feature_importances[sorted_indices]\n",
    "\n",
    "# Step 4: Plot the mean decrease accuracy plot\n",
    "plt.figure(figsize=(10, 6))\n",
    "plt.bar(range(test_predictors.shape[1]), sorted_importances)\n",
    "plt.xlabel(\"Feature Index\")\n",
    "plt.ylabel(\"Mean Decrease in Gini\")\n",
    "plt.title(\"Mean Decrease in Gini of Features\")\n",
    "ordererd_columns = np.array(test_predictors.columns)[sorted_indices]\n",
    "plt.xticks(range(test_predictors.shape[1]), ordererd_columns, rotation=90)\n",
    "plt.tight_layout()\n",
    "plt.show()"
   ]
  },
  {
   "cell_type": "code",
   "execution_count": 17,
   "metadata": {
    "execution": {
     "iopub.execute_input": "2024-02-21T12:29:24.677030Z",
     "iopub.status.busy": "2024-02-21T12:29:24.676785Z",
     "iopub.status.idle": "2024-02-21T12:29:24.702628Z",
     "shell.execute_reply": "2024-02-21T12:29:24.702298Z"
    }
   },
   "outputs": [
    {
     "name": "stdout",
     "output_type": "stream",
     "text": [
      "ln(1 + ControlPullRequestLifeTimeInMinutes): 0.4208155710816016\n",
      "ControlIntegratedBySameUser: 0.10026613658246289\n",
      "ln(1 + ControlIntraProjectPullRequestExperienceOfIntegrator): 0.08942006432610825\n",
      "ln(1 + WeightedEcosystemSecondOrderDegreeCentrality): 0.05905347737297361\n",
      "ln(1 + ControlNumberOfCommitsInPullRequest): 0.04168892912382907\n",
      "ControlPullRequestHasComments: 0.03410959136810731\n",
      "EcosystemExperienceSubmitterPullRequestSuccessRate: 0.031635384910157174\n",
      "ln(1 + EcosystemExperienceSubmitterIssueCommentCount): 0.0205631479472939\n",
      "ln(1 + NonDependencyEcosystemExperienceSubmitterIssueCommentCount): 0.01942632080875986\n",
      "ln(1 + IntraProjectSubmitterPullRequestCommentCount): 0.01895838453745731\n",
      "ln(1 + IntraProjectSubmitterIssueCommentCount): 0.01658890978807088\n",
      "ln(1 + EcosystemExperienceSubmitterPullRequestCommentCount): 0.015463284033904345\n",
      "ln(1 + NonDependencyEcosystemExperienceSubmitterPullRequestCommentCount): 0.014096040494466743\n",
      "ln(1 + EcosystemExperienceSubmitterPullRequestSubmissionCount): 0.013942494801791345\n",
      "ControlHasHashTagInDescription: 0.013704526726723246\n",
      "ln(1 + NonDependencyEcosystemExperienceSubmitterIssueSubmissionCount): 0.013464804739205121\n",
      "ln(1 + EcosystemExperienceSubmitterIssueSubmissionCount): 0.013374948349083872\n",
      "ControlPullRequestHasCommentByExternalUser: 0.01325880093469227\n",
      "ln(1 + NonDependencyEcosystemExperienceSubmitterPullRequestSubmissionCount): 0.012093020402745952\n",
      "ln(1 + IntraProjectSubmitterIssueSubmissionCount): 0.010238480597913952\n",
      "ln(1 + EcosystemLinkIntensity): 0.006993663982709674\n",
      "NonDependencyEcosystemExperienceSubmitterPullRequestSuccessRate: 0.0069001328163605215\n",
      "DependencyEcosystemExperienceSubmitterPullRequestSuccessRate: 0.0023609995239027\n",
      "InversedDependencyEcosystemExperienceSubmitterPullRequestSuccessRate: 0.001722014735637273\n",
      "ln(1 + InversedDependencyEcosystemExperienceSubmitterIssueCommentCount): 0.0016642968463742947\n",
      "ln(1 + InversedDependencyEcosystemExperienceSubmitterPullRequestCommentCount): 0.001363166236296798\n",
      "ln(1 + DependencyEcosystemExperienceSubmitterPullRequestCommentCount): 0.0013237187014782962\n",
      "ln(1 + DependencyEcosystemExperienceSubmitterIssueCommentCount): 0.0012629024134893454\n",
      "ln(1 + DependencyEcosystemExperienceSubmitterPullRequestSubmissionCount): 0.0011993935921541152\n",
      "ln(1 + InversedDependencyEcosystemExperienceSubmitterPullRequestSubmissionCount): 0.00119270452516318\n",
      "ln(1 + InversedDependencyEcosystemExperienceSubmitterIssueSubmissionCount): 0.0009626460183999512\n",
      "ln(1 + DependencyEcosystemExperienceSubmitterIssueSubmissionCount): 0.0008920416806852071\n",
      "ln(1 + IntraProjectSubmitterPullRequestSubmissionCount): 0.0\n",
      "IntraProjectSubmitterPullRequestSuccessRate: 0.0\n"
     ]
    }
   ],
   "source": [
    "# Stores feature importances in file.\n",
    "output_file = f\"{figure_base_path}/feature_importance.txt\"\n",
    "with open(output_file, \"w+\", encoding=\"utf-8\") as output_file:\n",
    "    for field, importance in zip(ordererd_columns, sorted_importances):\n",
    "        entry = f\"{field}: {importance}\"\n",
    "        output_file.write(f'{entry}\\n')\n",
    "        print(entry)"
   ]
  },
  {
   "cell_type": "markdown",
   "metadata": {},
   "source": [
    "### Variable Group Reverse Ablation Studies\n",
    "\n",
    "Creates a model with a subset of features.\n",
    "Compared to regular ablation, it tests \"what happens if I add a feature\", instead of \"what happens when I remove one\"."
   ]
  },
  {
   "cell_type": "code",
   "execution_count": 18,
   "metadata": {
    "execution": {
     "iopub.execute_input": "2024-02-21T12:29:24.704200Z",
     "iopub.status.busy": "2024-02-21T12:29:24.704054Z",
     "iopub.status.idle": "2024-02-21T12:32:58.320641Z",
     "shell.execute_reply": "2024-02-21T12:32:58.320124Z"
    }
   },
   "outputs": [
    {
     "name": "stdout",
     "output_type": "stream",
     "text": [
      "Reverse ablation with \"FeatureGroups.Control\", including: ['ControlIntegratedBySameUser', 'ControlPullRequestHasComments', 'ControlPullRequestHasCommentByExternalUser', 'ControlHasHashTagInDescription', 'ln(1 + ControlPullRequestLifeTimeInMinutes)', 'ln(1 + ControlNumberOfCommitsInPullRequest)', 'ln(1 + ControlIntraProjectPullRequestExperienceOfIntegrator)'].\n"
     ]
    },
    {
     "name": "stdout",
     "output_type": "stream",
     "text": [
      "random_state=50"
     ]
    },
    {
     "name": "stdout",
     "output_type": "stream",
     "text": [
      "\n"
     ]
    },
    {
     "name": "stdout",
     "output_type": "stream",
     "text": [
      "random_state=50"
     ]
    },
    {
     "name": "stdout",
     "output_type": "stream",
     "text": [
      "\n"
     ]
    },
    {
     "name": "stdout",
     "output_type": "stream",
     "text": [
      "random_state=50"
     ]
    },
    {
     "name": "stdout",
     "output_type": "stream",
     "text": [
      "\n"
     ]
    },
    {
     "name": "stdout",
     "output_type": "stream",
     "text": [
      "random_state=50"
     ]
    },
    {
     "name": "stdout",
     "output_type": "stream",
     "text": [
      "\n"
     ]
    },
    {
     "name": "stdout",
     "output_type": "stream",
     "text": [
      "random_state=50"
     ]
    },
    {
     "name": "stdout",
     "output_type": "stream",
     "text": [
      "\n"
     ]
    },
    {
     "name": "stdout",
     "output_type": "stream",
     "text": [
      "metrics={'accuracy': 0.7262876755654996, 'precision': 0.7728269787846821, 'recall': 0.8248708737690562, 'f1': 0.7980012794577865}\n"
     ]
    },
    {
     "name": "stdout",
     "output_type": "stream",
     "text": [
      "\n"
     ]
    },
    {
     "name": "stdout",
     "output_type": "stream",
     "text": [
      "Confusion matrix:\n",
      "[[15847 13567]\n",
      " [ 9799 46154]]\n"
     ]
    },
    {
     "name": "stdout",
     "output_type": "stream",
     "text": [
      "\n"
     ]
    },
    {
     "name": "stdout",
     "output_type": "stream",
     "text": [
      "Classification report:"
     ]
    },
    {
     "name": "stdout",
     "output_type": "stream",
     "text": [
      "\n"
     ]
    },
    {
     "name": "stdout",
     "output_type": "stream",
     "text": [
      "              precision    recall  f1-score   support\n",
      "\n",
      "       False       0.62      0.54      0.58     29414\n",
      "        True       0.77      0.82      0.80     55953\n",
      "\n",
      "    accuracy                           0.73     85367\n",
      "   macro avg       0.70      0.68      0.69     85367\n",
      "weighted avg       0.72      0.73      0.72     85367\n"
     ]
    },
    {
     "name": "stdout",
     "output_type": "stream",
     "text": [
      "\n"
     ]
    },
    {
     "name": "stdout",
     "output_type": "stream",
     "text": [
      "metrics={'accuracy': 0.7214816203172223, 'precision': 0.7734550326578462, 'recall': 0.8183831868443436, 'f1': 0.7952850820547261}\n"
     ]
    },
    {
     "name": "stdout",
     "output_type": "stream",
     "text": [
      "\n"
     ]
    },
    {
     "name": "stdout",
     "output_type": "stream",
     "text": [
      "Confusion matrix:\n",
      "[[15407 13527]\n",
      " [10249 46183]]\n"
     ]
    },
    {
     "name": "stdout",
     "output_type": "stream",
     "text": [
      "\n"
     ]
    },
    {
     "name": "stdout",
     "output_type": "stream",
     "text": [
      "Classification report:"
     ]
    },
    {
     "name": "stdout",
     "output_type": "stream",
     "text": [
      "\n"
     ]
    },
    {
     "name": "stdout",
     "output_type": "stream",
     "text": [
      "metrics={'accuracy': 0.723417714104982, 'precision': 0.7713884524088128, 'recall': 0.8228455270055812, 'f1': 0.7962865499598802}\n"
     ]
    },
    {
     "name": "stdout",
     "output_type": "stream",
     "text": [
      "\n"
     ]
    },
    {
     "name": "stdout",
     "output_type": "stream",
     "text": [
      "Confusion matrix:\n",
      "[[15610 13676]\n",
      " [ 9935 46146]]\n"
     ]
    },
    {
     "name": "stdout",
     "output_type": "stream",
     "text": [
      "\n"
     ]
    },
    {
     "name": "stdout",
     "output_type": "stream",
     "text": [
      "Classification report:"
     ]
    },
    {
     "name": "stdout",
     "output_type": "stream",
     "text": [
      "\n"
     ]
    },
    {
     "name": "stdout",
     "output_type": "stream",
     "text": [
      "              precision    recall  f1-score   support\n",
      "\n",
      "       False       0.60      0.53      0.56     28934\n",
      "        True       0.77      0.82      0.80     56432\n",
      "\n",
      "    accuracy                           0.72     85366\n",
      "   macro avg       0.69      0.68      0.68     85366\n",
      "weighted avg       0.71      0.72      0.72     85366\n"
     ]
    },
    {
     "name": "stdout",
     "output_type": "stream",
     "text": [
      "\n"
     ]
    },
    {
     "name": "stdout",
     "output_type": "stream",
     "text": [
      "              precision    recall  f1-score   support\n",
      "\n",
      "       False       0.61      0.53      0.57     29286\n",
      "        True       0.77      0.82      0.80     56081\n",
      "\n",
      "    accuracy                           0.72     85367\n",
      "   macro avg       0.69      0.68      0.68     85367\n",
      "weighted avg       0.72      0.72      0.72     85367\n"
     ]
    },
    {
     "name": "stdout",
     "output_type": "stream",
     "text": [
      "\n"
     ]
    },
    {
     "name": "stdout",
     "output_type": "stream",
     "text": [
      "metrics={'accuracy': 0.7215519059110185, 'precision': 0.7737211567527625, 'recall': 0.8173431734317343, 'f1': 0.7949341753368877}\n"
     ]
    },
    {
     "name": "stdout",
     "output_type": "stream",
     "text": [
      "\n"
     ]
    },
    {
     "name": "stdout",
     "output_type": "stream",
     "text": [
      "Confusion matrix:\n",
      "[[15524 13474]\n",
      " [10296 46072]]\n"
     ]
    },
    {
     "name": "stdout",
     "output_type": "stream",
     "text": [
      "\n"
     ]
    },
    {
     "name": "stdout",
     "output_type": "stream",
     "text": [
      "Classification report:"
     ]
    },
    {
     "name": "stdout",
     "output_type": "stream",
     "text": [
      "\n"
     ]
    },
    {
     "name": "stdout",
     "output_type": "stream",
     "text": [
      "              precision    recall  f1-score   support\n",
      "\n",
      "       False       0.60      0.54      0.57     28998\n",
      "        True       0.77      0.82      0.79     56368\n",
      "\n",
      "    accuracy                           0.72     85366\n",
      "   macro avg       0.69      0.68      0.68     85366\n",
      "weighted avg       0.72      0.72      0.72     85366\n"
     ]
    },
    {
     "name": "stdout",
     "output_type": "stream",
     "text": [
      "\n"
     ]
    },
    {
     "name": "stdout",
     "output_type": "stream",
     "text": [
      "metrics={'accuracy': 0.7239416161000867, 'precision': 0.7718686623200308, 'recall': 0.8222543610620101, 'f1': 0.7962652373130458}\n"
     ]
    },
    {
     "name": "stdout",
     "output_type": "stream",
     "text": [
      "\n"
     ]
    },
    {
     "name": "stdout",
     "output_type": "stream",
     "text": [
      "Confusion matrix:\n",
      "[[15748 13611]\n",
      " [ 9955 46052]]\n"
     ]
    },
    {
     "name": "stdout",
     "output_type": "stream",
     "text": [
      "\n"
     ]
    },
    {
     "name": "stdout",
     "output_type": "stream",
     "text": [
      "Classification report:"
     ]
    },
    {
     "name": "stdout",
     "output_type": "stream",
     "text": [
      "\n"
     ]
    },
    {
     "name": "stdout",
     "output_type": "stream",
     "text": [
      "              precision    recall  f1-score   support\n",
      "\n",
      "       False       0.61      0.54      0.57     29359\n",
      "        True       0.77      0.82      0.80     56007\n",
      "\n",
      "    accuracy                           0.72     85366\n",
      "   macro avg       0.69      0.68      0.68     85366\n",
      "weighted avg       0.72      0.72      0.72     85366\n"
     ]
    },
    {
     "name": "stdout",
     "output_type": "stream",
     "text": [
      "\n"
     ]
    },
    {
     "name": "stdout",
     "output_type": "stream",
     "text": [
      "Performance of 'FeatureGroups.Control'\n",
      "['ControlIntegratedBySameUser', 'ControlPullRequestHasComments', 'ControlPullRequestHasCommentByExternalUser', 'ControlHasHashTagInDescription', 'ln(1 + ControlPullRequestLifeTimeInMinutes)', 'ln(1 + ControlNumberOfCommitsInPullRequest)', 'ln(1 + ControlIntraProjectPullRequestExperienceOfIntegrator)']\n",
      "f1_scores=[0.7980012794577865, 0.7962865499598802, 0.7952850820547261, 0.7949341753368877, 0.7962652373130458]\n",
      "f1_mean=0.7961544648244653, f1_std=0.0010663371090687101\n",
      "\n",
      "Reverse ablation with \"FeatureGroups.Intra\", including: ['IntraProjectSubmitterPullRequestSuccessRate', 'ln(1 + IntraProjectSubmitterPullRequestSubmissionCount)', 'ln(1 + IntraProjectSubmitterPullRequestCommentCount)', 'ln(1 + IntraProjectSubmitterIssueSubmissionCount)', 'ln(1 + IntraProjectSubmitterIssueCommentCount)'].\n"
     ]
    },
    {
     "name": "stdout",
     "output_type": "stream",
     "text": [
      "random_state=52"
     ]
    },
    {
     "name": "stdout",
     "output_type": "stream",
     "text": [
      "\n"
     ]
    },
    {
     "name": "stdout",
     "output_type": "stream",
     "text": [
      "random_state=52"
     ]
    },
    {
     "name": "stdout",
     "output_type": "stream",
     "text": [
      "\n"
     ]
    },
    {
     "name": "stdout",
     "output_type": "stream",
     "text": [
      "random_state=52"
     ]
    },
    {
     "name": "stdout",
     "output_type": "stream",
     "text": [
      "\n"
     ]
    },
    {
     "name": "stdout",
     "output_type": "stream",
     "text": [
      "random_state=52"
     ]
    },
    {
     "name": "stdout",
     "output_type": "stream",
     "text": [
      "random_state=52"
     ]
    },
    {
     "name": "stdout",
     "output_type": "stream",
     "text": [
      "\n"
     ]
    },
    {
     "name": "stdout",
     "output_type": "stream",
     "text": [
      "\n"
     ]
    },
    {
     "name": "stdout",
     "output_type": "stream",
     "text": [
      "metrics={'accuracy': 0.6536483652933803, 'precision': 0.654077061982599, 'recall': 0.9988181997242466, 'f1': 0.7904966378278029}\n"
     ]
    },
    {
     "name": "stdout",
     "output_type": "stream",
     "text": [
      "\n"
     ]
    },
    {
     "name": "stdout",
     "output_type": "stream",
     "text": [
      "Confusion matrix:\n",
      "[[   19 29501]\n",
      " [   66 55781]]\n"
     ]
    },
    {
     "name": "stdout",
     "output_type": "stream",
     "text": [
      "\n"
     ]
    },
    {
     "name": "stdout",
     "output_type": "stream",
     "text": [
      "Classification report:"
     ]
    },
    {
     "name": "stdout",
     "output_type": "stream",
     "text": [
      "\n"
     ]
    },
    {
     "name": "stdout",
     "output_type": "stream",
     "text": [
      "metrics={'accuracy': 0.6577794438066678, 'precision': 0.6581684706765331, 'recall': 0.9988431899482105, 'f1': 0.7934851762310727}\n"
     ]
    },
    {
     "name": "stdout",
     "output_type": "stream",
     "text": [
      "metrics={'accuracy': 0.6595482979172036, 'precision': 0.6599971852129856, 'recall': 0.9987044563153318, 'f1': 0.7947687679629407}\n"
     ]
    },
    {
     "name": "stdout",
     "output_type": "stream",
     "text": [
      "\n"
     ]
    },
    {
     "name": "stdout",
     "output_type": "stream",
     "text": [
      "\n"
     ]
    },
    {
     "name": "stdout",
     "output_type": "stream",
     "text": [
      "Confusion matrix:\n",
      "[[   28 29149]\n",
      " [   65 56124]]\n"
     ]
    },
    {
     "name": "stdout",
     "output_type": "stream",
     "text": [
      "\n"
     ]
    },
    {
     "name": "stdout",
     "output_type": "stream",
     "text": [
      "Confusion matrix:\n",
      "[[   29 28990]\n",
      " [   73 56274]]\n"
     ]
    },
    {
     "name": "stdout",
     "output_type": "stream",
     "text": [
      "Classification report:"
     ]
    },
    {
     "name": "stdout",
     "output_type": "stream",
     "text": [
      "\n"
     ]
    },
    {
     "name": "stdout",
     "output_type": "stream",
     "text": [
      "\n"
     ]
    },
    {
     "name": "stdout",
     "output_type": "stream",
     "text": [
      "Classification report:"
     ]
    },
    {
     "name": "stdout",
     "output_type": "stream",
     "text": [
      "\n"
     ]
    },
    {
     "name": "stdout",
     "output_type": "stream",
     "text": [
      "metrics={'accuracy': 0.6595522860121593, 'precision': 0.660032603469103, 'recall': 0.9986691273024098, 'f1': 0.7947832595448414}\n"
     ]
    },
    {
     "name": "stdout",
     "output_type": "stream",
     "text": [
      "\n"
     ]
    },
    {
     "name": "stdout",
     "output_type": "stream",
     "text": [
      "Confusion matrix:\n",
      "[[   25 28988]\n",
      " [   75 56279]]\n"
     ]
    },
    {
     "name": "stdout",
     "output_type": "stream",
     "text": [
      "\n"
     ]
    },
    {
     "name": "stdout",
     "output_type": "stream",
     "text": [
      "Classification report:"
     ]
    },
    {
     "name": "stdout",
     "output_type": "stream",
     "text": [
      "\n"
     ]
    },
    {
     "name": "stdout",
     "output_type": "stream",
     "text": [
      "              precision    recall  f1-score   support\n",
      "\n",
      "       False       0.22      0.00      0.00     29520\n",
      "        True       0.65      1.00      0.79     55847\n",
      "\n",
      "    accuracy                           0.65     85367\n",
      "   macro avg       0.44      0.50      0.40     85367\n",
      "weighted avg       0.51      0.65      0.52     85367\n"
     ]
    },
    {
     "name": "stdout",
     "output_type": "stream",
     "text": [
      "\n"
     ]
    },
    {
     "name": "stdout",
     "output_type": "stream",
     "text": [
      "metrics={'accuracy': 0.6567720169622566, 'precision': 0.6571492225792078, 'recall': 0.9989127334949379, 'f1': 0.7927659032718939}\n"
     ]
    },
    {
     "name": "stdout",
     "output_type": "stream",
     "text": [
      "\n"
     ]
    },
    {
     "name": "stdout",
     "output_type": "stream",
     "text": [
      "Confusion matrix:\n",
      "[[   23 29239]\n",
      " [   61 56043]]\n"
     ]
    },
    {
     "name": "stdout",
     "output_type": "stream",
     "text": [
      "\n"
     ]
    },
    {
     "name": "stdout",
     "output_type": "stream",
     "text": [
      "Classification report:"
     ]
    },
    {
     "name": "stdout",
     "output_type": "stream",
     "text": [
      "\n"
     ]
    },
    {
     "name": "stdout",
     "output_type": "stream",
     "text": [
      "              precision    recall  f1-score   support\n",
      "\n",
      "       False       0.30      0.00      0.00     29177\n",
      "        True       0.66      1.00      0.79     56189\n",
      "\n",
      "    accuracy                           0.66     85366\n",
      "   macro avg       0.48      0.50      0.40     85366\n",
      "weighted avg       0.54      0.66      0.52     85366\n"
     ]
    },
    {
     "name": "stdout",
     "output_type": "stream",
     "text": [
      "\n"
     ]
    },
    {
     "name": "stdout",
     "output_type": "stream",
     "text": [
      "              precision    recall  f1-score   support\n",
      "\n",
      "       False       0.28      0.00      0.00     29019\n",
      "        True       0.66      1.00      0.79     56347\n",
      "\n",
      "    accuracy                           0.66     85366\n",
      "   macro avg       0.47      0.50      0.40     85366\n",
      "weighted avg       0.53      0.66      0.53     85366\n"
     ]
    },
    {
     "name": "stdout",
     "output_type": "stream",
     "text": [
      "\n"
     ]
    },
    {
     "name": "stdout",
     "output_type": "stream",
     "text": [
      "              precision    recall  f1-score   support\n",
      "\n",
      "       False       0.25      0.00      0.00     29013\n",
      "        True       0.66      1.00      0.79     56354\n",
      "\n",
      "    accuracy                           0.66     85367\n",
      "   macro avg       0.46      0.50      0.40     85367\n",
      "weighted avg       0.52      0.66      0.53     85367\n"
     ]
    },
    {
     "name": "stdout",
     "output_type": "stream",
     "text": [
      "\n"
     ]
    },
    {
     "name": "stdout",
     "output_type": "stream",
     "text": [
      "              precision    recall  f1-score   support\n",
      "\n",
      "       False       0.27      0.00      0.00     29262\n",
      "        True       0.66      1.00      0.79     56104\n",
      "\n",
      "    accuracy                           0.66     85366\n",
      "   macro avg       0.47      0.50      0.40     85366\n",
      "weighted avg       0.53      0.66      0.52     85366\n"
     ]
    },
    {
     "name": "stdout",
     "output_type": "stream",
     "text": [
      "\n"
     ]
    },
    {
     "name": "stdout",
     "output_type": "stream",
     "text": [
      "Performance of 'FeatureGroups.Intra'\n",
      "['IntraProjectSubmitterPullRequestSuccessRate', 'ln(1 + IntraProjectSubmitterPullRequestSubmissionCount)', 'ln(1 + IntraProjectSubmitterPullRequestCommentCount)', 'ln(1 + IntraProjectSubmitterIssueSubmissionCount)', 'ln(1 + IntraProjectSubmitterIssueCommentCount)']\n",
      "f1_scores=[0.7904966378278029, 0.7934851762310727, 0.7947687679629407, 0.7947832595448414, 0.7927659032718939]\n",
      "f1_mean=0.7932599489677103, f1_std=0.0015828901920487421\n",
      "\n",
      "Reverse ablation with \"FeatureGroups.Eco\", including: ['EcosystemExperienceSubmitterPullRequestSuccessRate', 'ln(1 + EcosystemExperienceSubmitterPullRequestSubmissionCount)', 'ln(1 + EcosystemExperienceSubmitterPullRequestCommentCount)', 'ln(1 + EcosystemExperienceSubmitterIssueSubmissionCount)', 'ln(1 + EcosystemExperienceSubmitterIssueCommentCount)'].\n"
     ]
    },
    {
     "name": "stdout",
     "output_type": "stream",
     "text": [
      "random_state=54"
     ]
    },
    {
     "name": "stdout",
     "output_type": "stream",
     "text": [
      "\n"
     ]
    },
    {
     "name": "stdout",
     "output_type": "stream",
     "text": [
      "random_state=54"
     ]
    },
    {
     "name": "stdout",
     "output_type": "stream",
     "text": [
      "\n"
     ]
    },
    {
     "name": "stdout",
     "output_type": "stream",
     "text": [
      "random_state=54"
     ]
    },
    {
     "name": "stdout",
     "output_type": "stream",
     "text": [
      "\n"
     ]
    },
    {
     "name": "stdout",
     "output_type": "stream",
     "text": [
      "random_state=54"
     ]
    },
    {
     "name": "stdout",
     "output_type": "stream",
     "text": [
      "\n"
     ]
    },
    {
     "name": "stdout",
     "output_type": "stream",
     "text": [
      "random_state=54"
     ]
    },
    {
     "name": "stdout",
     "output_type": "stream",
     "text": [
      "\n"
     ]
    },
    {
     "name": "stdout",
     "output_type": "stream",
     "text": [
      "metrics={'accuracy': 0.6463931776116956, 'precision': 0.6573488643548465, 'recall': 0.9642398516087608, 'f1': 0.7817542946382092}\n"
     ]
    },
    {
     "name": "stdout",
     "output_type": "stream",
     "text": [
      "\n"
     ]
    },
    {
     "name": "stdout",
     "output_type": "stream",
     "text": [
      "Confusion matrix:\n",
      "[[ 1117 28181]\n",
      " [ 2005 54063]]\n"
     ]
    },
    {
     "name": "stdout",
     "output_type": "stream",
     "text": [
      "\n"
     ]
    },
    {
     "name": "stdout",
     "output_type": "stream",
     "text": [
      "Classification report:"
     ]
    },
    {
     "name": "stdout",
     "output_type": "stream",
     "text": [
      "\n"
     ]
    },
    {
     "name": "stdout",
     "output_type": "stream",
     "text": [
      "metrics={'accuracy': 0.647896728243935, 'precision': 0.6593585949014019, 'recall': 0.9628101378390396, 'f1': 0.7827017335858768}\n"
     ]
    },
    {
     "name": "stdout",
     "output_type": "stream",
     "text": [
      "\n"
     ]
    },
    {
     "name": "stdout",
     "output_type": "stream",
     "text": [
      "Confusion matrix:\n",
      "[[ 1175 27967]\n",
      " [ 2091 54134]]\n"
     ]
    },
    {
     "name": "stdout",
     "output_type": "stream",
     "text": [
      "\n"
     ]
    },
    {
     "name": "stdout",
     "output_type": "stream",
     "text": [
      "Classification report:"
     ]
    },
    {
     "name": "stdout",
     "output_type": "stream",
     "text": [
      "\n"
     ]
    },
    {
     "name": "stdout",
     "output_type": "stream",
     "text": [
      "              precision    recall  f1-score   support\n",
      "\n",
      "       False       0.36      0.04      0.07     29298\n",
      "        True       0.66      0.96      0.78     56068\n",
      "\n",
      "    accuracy                           0.65     85366\n",
      "   macro avg       0.51      0.50      0.43     85366\n",
      "weighted avg       0.55      0.65      0.54     85366\n"
     ]
    },
    {
     "name": "stdout",
     "output_type": "stream",
     "text": [
      "\n"
     ]
    },
    {
     "name": "stdout",
     "output_type": "stream",
     "text": [
      "              precision    recall  f1-score   support\n",
      "\n",
      "       False       0.36      0.04      0.07     29142\n",
      "        True       0.66      0.96      0.78     56225\n",
      "\n",
      "    accuracy                           0.65     85367\n",
      "   macro avg       0.51      0.50      0.43     85367\n",
      "weighted avg       0.56      0.65      0.54     85367\n"
     ]
    },
    {
     "name": "stdout",
     "output_type": "stream",
     "text": [
      "\n"
     ]
    },
    {
     "name": "stdout",
     "output_type": "stream",
     "text": [
      "metrics={'accuracy': 0.6474826043155355, 'precision': 0.6587579695332652, 'recall': 0.9635693819074908, 'f1': 0.7825288884713499}\n"
     ]
    },
    {
     "name": "stdout",
     "output_type": "stream",
     "text": [
      "\n"
     ]
    },
    {
     "name": "stdout",
     "output_type": "stream",
     "text": [
      "Confusion matrix:\n",
      "[[ 1131 28046]\n",
      " [ 2047 54142]]\n"
     ]
    },
    {
     "name": "stdout",
     "output_type": "stream",
     "text": [
      "\n"
     ]
    },
    {
     "name": "stdout",
     "output_type": "stream",
     "text": [
      "Classification report:"
     ]
    },
    {
     "name": "stdout",
     "output_type": "stream",
     "text": [
      "\n"
     ]
    },
    {
     "name": "stdout",
     "output_type": "stream",
     "text": [
      "metrics={'accuracy': 0.6473537473935759, 'precision': 0.6590186693946147, 'recall': 0.9625571426030346, 'f1': 0.7823786253361478}\n"
     ]
    },
    {
     "name": "stdout",
     "output_type": "stream",
     "text": [
      "\n"
     ]
    },
    {
     "name": "stdout",
     "output_type": "stream",
     "text": [
      "Confusion matrix:\n",
      "[[ 1148 27999]\n",
      " [ 2105 54114]]\n"
     ]
    },
    {
     "name": "stdout",
     "output_type": "stream",
     "text": [
      "\n"
     ]
    },
    {
     "name": "stdout",
     "output_type": "stream",
     "text": [
      "Classification report:"
     ]
    },
    {
     "name": "stdout",
     "output_type": "stream",
     "text": [
      "\n"
     ]
    },
    {
     "name": "stdout",
     "output_type": "stream",
     "text": [
      "              precision    recall  f1-score   support\n",
      "\n",
      "       False       0.36      0.04      0.07     29177\n",
      "        True       0.66      0.96      0.78     56189\n",
      "\n",
      "    accuracy                           0.65     85366\n",
      "   macro avg       0.51      0.50      0.43     85366\n",
      "weighted avg       0.56      0.65      0.54     85366\n"
     ]
    },
    {
     "name": "stdout",
     "output_type": "stream",
     "text": [
      "\n"
     ]
    },
    {
     "name": "stdout",
     "output_type": "stream",
     "text": [
      "              precision    recall  f1-score   support\n",
      "\n",
      "       False       0.35      0.04      0.07     29147\n",
      "        True       0.66      0.96      0.78     56219\n",
      "\n",
      "    accuracy                           0.65     85366\n",
      "   macro avg       0.51      0.50      0.43     85366\n",
      "weighted avg       0.55      0.65      0.54     85366\n"
     ]
    },
    {
     "name": "stdout",
     "output_type": "stream",
     "text": [
      "\n"
     ]
    },
    {
     "name": "stdout",
     "output_type": "stream",
     "text": [
      "metrics={'accuracy': 0.6469478838427026, 'precision': 0.658262827926228, 'recall': 0.9631813323833274, 'f1': 0.7820515601836787}\n"
     ]
    },
    {
     "name": "stdout",
     "output_type": "stream",
     "text": [
      "\n"
     ]
    },
    {
     "name": "stdout",
     "output_type": "stream",
     "text": [
      "Confusion matrix:\n",
      "[[ 1155 28072]\n",
      " [ 2067 54073]]\n"
     ]
    },
    {
     "name": "stdout",
     "output_type": "stream",
     "text": [
      "\n"
     ]
    },
    {
     "name": "stdout",
     "output_type": "stream",
     "text": [
      "Classification report:"
     ]
    },
    {
     "name": "stdout",
     "output_type": "stream",
     "text": [
      "\n"
     ]
    },
    {
     "name": "stdout",
     "output_type": "stream",
     "text": [
      "              precision    recall  f1-score   support\n",
      "\n",
      "       False       0.36      0.04      0.07     29227\n",
      "        True       0.66      0.96      0.78     56140\n",
      "\n",
      "    accuracy                           0.65     85367\n",
      "   macro avg       0.51      0.50      0.43     85367\n",
      "weighted avg       0.56      0.65      0.54     85367\n"
     ]
    },
    {
     "name": "stdout",
     "output_type": "stream",
     "text": [
      "\n"
     ]
    },
    {
     "name": "stdout",
     "output_type": "stream",
     "text": [
      "Performance of 'FeatureGroups.Eco'\n",
      "['EcosystemExperienceSubmitterPullRequestSuccessRate', 'ln(1 + EcosystemExperienceSubmitterPullRequestSubmissionCount)', 'ln(1 + EcosystemExperienceSubmitterPullRequestCommentCount)', 'ln(1 + EcosystemExperienceSubmitterIssueSubmissionCount)', 'ln(1 + EcosystemExperienceSubmitterIssueCommentCount)']\n",
      "f1_scores=[0.7817542946382092, 0.7827017335858768, 0.7825288884713499, 0.7823786253361478, 0.7820515601836787]\n",
      "f1_mean=0.7822830204430524, f1_std=0.00034001085490701044\n",
      "\n",
      "Reverse ablation with \"FeatureGroups.DEco\", including: ['DependencyEcosystemExperienceSubmitterPullRequestSuccessRate', 'ln(1 + DependencyEcosystemExperienceSubmitterPullRequestSubmissionCount)', 'ln(1 + DependencyEcosystemExperienceSubmitterPullRequestCommentCount)', 'ln(1 + DependencyEcosystemExperienceSubmitterIssueSubmissionCount)', 'ln(1 + DependencyEcosystemExperienceSubmitterIssueCommentCount)'].\n"
     ]
    },
    {
     "name": "stdout",
     "output_type": "stream",
     "text": [
      "random_state=56"
     ]
    },
    {
     "name": "stdout",
     "output_type": "stream",
     "text": [
      "\n"
     ]
    },
    {
     "name": "stdout",
     "output_type": "stream",
     "text": [
      "random_state=56"
     ]
    },
    {
     "name": "stdout",
     "output_type": "stream",
     "text": [
      "\n"
     ]
    },
    {
     "name": "stdout",
     "output_type": "stream",
     "text": [
      "random_state=56"
     ]
    },
    {
     "name": "stdout",
     "output_type": "stream",
     "text": [
      "\n"
     ]
    },
    {
     "name": "stdout",
     "output_type": "stream",
     "text": [
      "random_state=56"
     ]
    },
    {
     "name": "stdout",
     "output_type": "stream",
     "text": [
      "\n"
     ]
    },
    {
     "name": "stdout",
     "output_type": "stream",
     "text": [
      "random_state=56"
     ]
    },
    {
     "name": "stdout",
     "output_type": "stream",
     "text": [
      "\n"
     ]
    },
    {
     "name": "stdout",
     "output_type": "stream",
     "text": [
      "metrics={'accuracy': 0.6584471569477309, 'precision': 0.6586716083555201, 'recall': 0.9990215960436902, 'f1': 0.7939070507156741}\n"
     ]
    },
    {
     "name": "stdout",
     "output_type": "stream",
     "text": [
      "\n"
     ]
    },
    {
     "name": "stdout",
     "output_type": "stream",
     "text": [
      "Confusion matrix:\n",
      "[[   50 29102]\n",
      " [   55 56159]]\n"
     ]
    },
    {
     "name": "stdout",
     "output_type": "stream",
     "text": [
      "\n"
     ]
    },
    {
     "name": "stdout",
     "output_type": "stream",
     "text": [
      "Classification report:"
     ]
    },
    {
     "name": "stdout",
     "output_type": "stream",
     "text": [
      "\n"
     ]
    },
    {
     "name": "stdout",
     "output_type": "stream",
     "text": [
      "metrics={'accuracy': 0.6596108566542106, 'precision': 0.66, 'recall': 0.9987042493521247, 'f1': 0.7947707432833291}\n"
     ]
    },
    {
     "name": "stdout",
     "output_type": "stream",
     "text": [
      "\n"
     ]
    },
    {
     "name": "stdout",
     "output_type": "stream",
     "text": [
      "Confusion matrix:\n",
      "[[   44 28985]\n",
      " [   73 56265]]\n"
     ]
    },
    {
     "name": "stdout",
     "output_type": "stream",
     "text": [
      "\n"
     ]
    },
    {
     "name": "stdout",
     "output_type": "stream",
     "text": [
      "Classification report:"
     ]
    },
    {
     "name": "stdout",
     "output_type": "stream",
     "text": [
      "\n"
     ]
    },
    {
     "name": "stdout",
     "output_type": "stream",
     "text": [
      "              precision    recall  f1-score   support\n",
      "\n",
      "       False       0.48      0.00      0.00     29152\n",
      "        True       0.66      1.00      0.79     56214\n",
      "\n",
      "    accuracy                           0.66     85366\n",
      "   macro avg       0.57      0.50      0.40     85366\n",
      "weighted avg       0.60      0.66      0.52     85366\n"
     ]
    },
    {
     "name": "stdout",
     "output_type": "stream",
     "text": [
      "\n"
     ]
    },
    {
     "name": "stdout",
     "output_type": "stream",
     "text": [
      "metrics={'accuracy': 0.6595054294985182, 'precision': 0.6599056825113792, 'recall': 0.998650783788102, 'f1': 0.7946854273060542}\n"
     ]
    },
    {
     "name": "stdout",
     "output_type": "stream",
     "text": [
      "\n"
     ]
    },
    {
     "name": "stdout",
     "output_type": "stream",
     "text": [
      "Confusion matrix:\n",
      "[[   47 28991]\n",
      " [   76 56253]]\n"
     ]
    },
    {
     "name": "stdout",
     "output_type": "stream",
     "text": [
      "\n"
     ]
    },
    {
     "name": "stdout",
     "output_type": "stream",
     "text": [
      "Classification report:"
     ]
    },
    {
     "name": "stdout",
     "output_type": "stream",
     "text": [
      "\n"
     ]
    },
    {
     "name": "stdout",
     "output_type": "stream",
     "text": [
      "              precision    recall  f1-score   support\n",
      "\n",
      "       False       0.38      0.00      0.00     29029\n",
      "        True       0.66      1.00      0.79     56338\n",
      "\n",
      "    accuracy                           0.66     85367\n",
      "   macro avg       0.52      0.50      0.40     85367\n",
      "weighted avg       0.56      0.66      0.53     85367\n"
     ]
    },
    {
     "name": "stdout",
     "output_type": "stream",
     "text": [
      "\n"
     ]
    },
    {
     "name": "stdout",
     "output_type": "stream",
     "text": [
      "              precision    recall  f1-score   support\n",
      "\n",
      "       False       0.38      0.00      0.00     29038\n",
      "        True       0.66      1.00      0.79     56329\n",
      "\n",
      "    accuracy                           0.66     85367\n",
      "   macro avg       0.52      0.50      0.40     85367\n",
      "weighted avg       0.57      0.66      0.53     85367\n"
     ]
    },
    {
     "name": "stdout",
     "output_type": "stream",
     "text": [
      "\n"
     ]
    },
    {
     "name": "stdout",
     "output_type": "stream",
     "text": [
      "metrics={'accuracy': 0.6560691610242954, 'precision': 0.6567083616906433, 'recall': 0.9981451756732656, 'f1': 0.7922033802338421}\n"
     ]
    },
    {
     "name": "stdout",
     "output_type": "stream",
     "text": [
      "\n"
     ]
    },
    {
     "name": "stdout",
     "output_type": "stream",
     "text": [
      "Confusion matrix:\n",
      "[[   40 29256]\n",
      " [  104 55966]]\n"
     ]
    },
    {
     "name": "stdout",
     "output_type": "stream",
     "text": [
      "\n"
     ]
    },
    {
     "name": "stdout",
     "output_type": "stream",
     "text": [
      "Classification report:"
     ]
    },
    {
     "name": "stdout",
     "output_type": "stream",
     "text": [
      "\n"
     ]
    },
    {
     "name": "stdout",
     "output_type": "stream",
     "text": [
      "metrics={'accuracy': 0.6543705925075557, 'precision': 0.6547416573807988, 'recall': 0.9987475398103417, 'f1': 0.7909596514222963}\n"
     ]
    },
    {
     "name": "stdout",
     "output_type": "stream",
     "text": [
      "\n"
     ]
    },
    {
     "name": "stdout",
     "output_type": "stream",
     "text": [
      "Confusion matrix:\n",
      "[[   41 29435]\n",
      " [   70 55820]]\n"
     ]
    },
    {
     "name": "stdout",
     "output_type": "stream",
     "text": [
      "\n"
     ]
    },
    {
     "name": "stdout",
     "output_type": "stream",
     "text": [
      "Classification report:"
     ]
    },
    {
     "name": "stdout",
     "output_type": "stream",
     "text": [
      "\n"
     ]
    },
    {
     "name": "stdout",
     "output_type": "stream",
     "text": [
      "              precision    recall  f1-score   support\n",
      "\n",
      "       False       0.28      0.00      0.00     29296\n",
      "        True       0.66      1.00      0.79     56070\n",
      "\n",
      "    accuracy                           0.66     85366\n",
      "   macro avg       0.47      0.50      0.40     85366\n",
      "weighted avg       0.53      0.66      0.52     85366\n"
     ]
    },
    {
     "name": "stdout",
     "output_type": "stream",
     "text": [
      "\n"
     ]
    },
    {
     "name": "stdout",
     "output_type": "stream",
     "text": [
      "              precision    recall  f1-score   support\n",
      "\n",
      "       False       0.37      0.00      0.00     29476\n",
      "        True       0.65      1.00      0.79     55890\n",
      "\n",
      "    accuracy                           0.65     85366\n",
      "   macro avg       0.51      0.50      0.40     85366\n",
      "weighted avg       0.56      0.65      0.52     85366\n"
     ]
    },
    {
     "name": "stdout",
     "output_type": "stream",
     "text": [
      "\n"
     ]
    },
    {
     "name": "stdout",
     "output_type": "stream",
     "text": [
      "Performance of 'FeatureGroups.DEco'\n",
      "['DependencyEcosystemExperienceSubmitterPullRequestSuccessRate', 'ln(1 + DependencyEcosystemExperienceSubmitterPullRequestSubmissionCount)', 'ln(1 + DependencyEcosystemExperienceSubmitterPullRequestCommentCount)', 'ln(1 + DependencyEcosystemExperienceSubmitterIssueSubmissionCount)', 'ln(1 + DependencyEcosystemExperienceSubmitterIssueCommentCount)']\n",
      "f1_scores=[0.7939070507156741, 0.7947707432833291, 0.7946854273060542, 0.7922033802338421, 0.7909596514222963]\n",
      "f1_mean=0.793305250592239, f1_std=0.0014920237082776105\n",
      "\n",
      "Reverse ablation with \"FeatureGroups.IDEco\", including: ['InversedDependencyEcosystemExperienceSubmitterPullRequestSuccessRate', 'ln(1 + InversedDependencyEcosystemExperienceSubmitterPullRequestSubmissionCount)', 'ln(1 + InversedDependencyEcosystemExperienceSubmitterPullRequestCommentCount)', 'ln(1 + InversedDependencyEcosystemExperienceSubmitterIssueSubmissionCount)', 'ln(1 + InversedDependencyEcosystemExperienceSubmitterIssueCommentCount)'].\n"
     ]
    },
    {
     "name": "stdout",
     "output_type": "stream",
     "text": [
      "random_state=58"
     ]
    },
    {
     "name": "stdout",
     "output_type": "stream",
     "text": [
      "\n"
     ]
    },
    {
     "name": "stdout",
     "output_type": "stream",
     "text": [
      "random_state=58"
     ]
    },
    {
     "name": "stdout",
     "output_type": "stream",
     "text": [
      "\n"
     ]
    },
    {
     "name": "stdout",
     "output_type": "stream",
     "text": [
      "random_state=58"
     ]
    },
    {
     "name": "stdout",
     "output_type": "stream",
     "text": [
      "\n"
     ]
    },
    {
     "name": "stdout",
     "output_type": "stream",
     "text": [
      "random_state=58"
     ]
    },
    {
     "name": "stdout",
     "output_type": "stream",
     "text": [
      "\n"
     ]
    },
    {
     "name": "stdout",
     "output_type": "stream",
     "text": [
      "random_state=58"
     ]
    },
    {
     "name": "stdout",
     "output_type": "stream",
     "text": [
      "\n"
     ]
    },
    {
     "name": "stdout",
     "output_type": "stream",
     "text": [
      "metrics={'accuracy': 0.6578654515210796, 'precision': 0.6587013475252294, 'recall': 0.9972253841775754, 'f1': 0.7933608314525658}\n"
     ]
    },
    {
     "name": "stdout",
     "output_type": "stream",
     "text": [
      "\n"
     ]
    },
    {
     "name": "stdout",
     "output_type": "stream",
     "text": [
      "Confusion matrix:\n",
      "[[   92 29051]\n",
      " [  156 56068]]\n"
     ]
    },
    {
     "name": "stdout",
     "output_type": "stream",
     "text": [
      "\n"
     ]
    },
    {
     "name": "stdout",
     "output_type": "stream",
     "text": [
      "Classification report:"
     ]
    },
    {
     "name": "stdout",
     "output_type": "stream",
     "text": [
      "\n"
     ]
    },
    {
     "name": "stdout",
     "output_type": "stream",
     "text": [
      "              precision    recall  f1-score   support\n",
      "\n",
      "       False       0.37      0.00      0.01     29143\n",
      "        True       0.66      1.00      0.79     56224\n",
      "\n",
      "    accuracy                           0.66     85367\n",
      "   macro avg       0.51      0.50      0.40     85367\n",
      "weighted avg       0.56      0.66      0.52     85367\n"
     ]
    },
    {
     "name": "stdout",
     "output_type": "stream",
     "text": [
      "\n"
     ]
    },
    {
     "name": "stdout",
     "output_type": "stream",
     "text": [
      "metrics={'accuracy': 0.6580957289787503, 'precision': 0.6587510271158586, 'recall': 0.9979372277051658, 'f1': 0.7936220611631607}\n"
     ]
    },
    {
     "name": "stdout",
     "output_type": "stream",
     "text": [
      "metrics={'accuracy': 0.6573108731813603, 'precision': 0.6580343726521413, 'recall': 0.9977927302502759, 'f1': 0.7930561254085257}\n"
     ]
    },
    {
     "name": "stdout",
     "output_type": "stream",
     "text": [
      "\n"
     ]
    },
    {
     "name": "stdout",
     "output_type": "stream",
     "text": [
      "\n"
     ]
    },
    {
     "name": "stdout",
     "output_type": "stream",
     "text": [
      "Confusion matrix:\n",
      "[[   60 29071]\n",
      " [  116 56119]]\n"
     ]
    },
    {
     "name": "stdout",
     "output_type": "stream",
     "text": [
      "Confusion matrix:\n",
      "[[   58 29130]\n",
      " [  124 56054]]\n"
     ]
    },
    {
     "name": "stdout",
     "output_type": "stream",
     "text": [
      "\n"
     ]
    },
    {
     "name": "stdout",
     "output_type": "stream",
     "text": [
      "\n"
     ]
    },
    {
     "name": "stdout",
     "output_type": "stream",
     "text": [
      "Classification report:"
     ]
    },
    {
     "name": "stdout",
     "output_type": "stream",
     "text": [
      "Classification report:"
     ]
    },
    {
     "name": "stdout",
     "output_type": "stream",
     "text": [
      "\n"
     ]
    },
    {
     "name": "stdout",
     "output_type": "stream",
     "text": [
      "\n"
     ]
    },
    {
     "name": "stdout",
     "output_type": "stream",
     "text": [
      "metrics={'accuracy': 0.6574748729002179, 'precision': 0.6582604099371586, 'recall': 0.9974015341627067, 'f1': 0.7930966162380946}\n"
     ]
    },
    {
     "name": "stdout",
     "output_type": "stream",
     "text": [
      "\n"
     ]
    },
    {
     "name": "stdout",
     "output_type": "stream",
     "text": [
      "Confusion matrix:\n",
      "[[   85 29094]\n",
      " [  146 56041]]\n"
     ]
    },
    {
     "name": "stdout",
     "output_type": "stream",
     "text": [
      "\n"
     ]
    },
    {
     "name": "stdout",
     "output_type": "stream",
     "text": [
      "Classification report:"
     ]
    },
    {
     "name": "stdout",
     "output_type": "stream",
     "text": [
      "\n"
     ]
    },
    {
     "name": "stdout",
     "output_type": "stream",
     "text": [
      "              precision    recall  f1-score   support\n",
      "\n",
      "       False       0.34      0.00      0.00     29131\n",
      "        True       0.66      1.00      0.79     56235\n",
      "\n",
      "    accuracy                           0.66     85366\n",
      "   macro avg       0.50      0.50      0.40     85366\n",
      "weighted avg       0.55      0.66      0.52     85366\n"
     ]
    },
    {
     "name": "stdout",
     "output_type": "stream",
     "text": [
      "\n"
     ]
    },
    {
     "name": "stdout",
     "output_type": "stream",
     "text": [
      "              precision    recall  f1-score   support\n",
      "\n",
      "       False       0.32      0.00      0.00     29188\n",
      "        True       0.66      1.00      0.79     56178\n",
      "\n",
      "    accuracy                           0.66     85366\n",
      "   macro avg       0.49      0.50      0.40     85366\n",
      "weighted avg       0.54      0.66      0.52     85366\n"
     ]
    },
    {
     "name": "stdout",
     "output_type": "stream",
     "text": [
      "\n"
     ]
    },
    {
     "name": "stdout",
     "output_type": "stream",
     "text": [
      "              precision    recall  f1-score   support\n",
      "\n",
      "       False       0.37      0.00      0.01     29179\n",
      "        True       0.66      1.00      0.79     56187\n",
      "\n",
      "    accuracy                           0.66     85366\n",
      "   macro avg       0.51      0.50      0.40     85366\n",
      "weighted avg       0.56      0.66      0.52     85366\n"
     ]
    },
    {
     "name": "stdout",
     "output_type": "stream",
     "text": [
      "\n"
     ]
    },
    {
     "name": "stdout",
     "output_type": "stream",
     "text": [
      "metrics={'accuracy': 0.6556163388663067, 'precision': 0.6562822921559418, 'recall': 0.9977149793812593, 'f1': 0.7917578642413425}\n"
     ]
    },
    {
     "name": "stdout",
     "output_type": "stream",
     "text": [
      "\n"
     ]
    },
    {
     "name": "stdout",
     "output_type": "stream",
     "text": [
      "Confusion matrix:\n",
      "[[   79 29271]\n",
      " [  128 55889]]\n"
     ]
    },
    {
     "name": "stdout",
     "output_type": "stream",
     "text": [
      "\n"
     ]
    },
    {
     "name": "stdout",
     "output_type": "stream",
     "text": [
      "Classification report:"
     ]
    },
    {
     "name": "stdout",
     "output_type": "stream",
     "text": [
      "\n"
     ]
    },
    {
     "name": "stdout",
     "output_type": "stream",
     "text": [
      "              precision    recall  f1-score   support\n",
      "\n",
      "       False       0.38      0.00      0.01     29350\n",
      "        True       0.66      1.00      0.79     56017\n",
      "\n",
      "    accuracy                           0.66     85367\n",
      "   macro avg       0.52      0.50      0.40     85367\n",
      "weighted avg       0.56      0.66      0.52     85367\n"
     ]
    },
    {
     "name": "stdout",
     "output_type": "stream",
     "text": [
      "\n"
     ]
    },
    {
     "name": "stdout",
     "output_type": "stream",
     "text": [
      "Performance of 'FeatureGroups.IDEco'\n",
      "['InversedDependencyEcosystemExperienceSubmitterPullRequestSuccessRate', 'ln(1 + InversedDependencyEcosystemExperienceSubmitterPullRequestSubmissionCount)', 'ln(1 + InversedDependencyEcosystemExperienceSubmitterPullRequestCommentCount)', 'ln(1 + InversedDependencyEcosystemExperienceSubmitterIssueSubmissionCount)', 'ln(1 + InversedDependencyEcosystemExperienceSubmitterIssueCommentCount)']\n",
      "f1_scores=[0.7933608314525658, 0.7936220611631607, 0.7930561254085257, 0.7930966162380946, 0.7917578642413425]\n",
      "f1_mean=0.7929786997007379, f1_std=0.0006434713538319384\n",
      "\n",
      "Reverse ablation with \"FeatureGroups.NDEco\", including: ['NonDependencyEcosystemExperienceSubmitterPullRequestSuccessRate', 'ln(1 + NonDependencyEcosystemExperienceSubmitterPullRequestSubmissionCount)', 'ln(1 + NonDependencyEcosystemExperienceSubmitterPullRequestCommentCount)', 'ln(1 + NonDependencyEcosystemExperienceSubmitterIssueSubmissionCount)', 'ln(1 + NonDependencyEcosystemExperienceSubmitterIssueCommentCount)'].\n"
     ]
    },
    {
     "name": "stdout",
     "output_type": "stream",
     "text": [
      "random_state=60"
     ]
    },
    {
     "name": "stdout",
     "output_type": "stream",
     "text": [
      "\n"
     ]
    },
    {
     "name": "stdout",
     "output_type": "stream",
     "text": [
      "random_state=60"
     ]
    },
    {
     "name": "stdout",
     "output_type": "stream",
     "text": [
      "\n"
     ]
    },
    {
     "name": "stdout",
     "output_type": "stream",
     "text": [
      "random_state=60"
     ]
    },
    {
     "name": "stdout",
     "output_type": "stream",
     "text": [
      "\n"
     ]
    },
    {
     "name": "stdout",
     "output_type": "stream",
     "text": [
      "random_state=60"
     ]
    },
    {
     "name": "stdout",
     "output_type": "stream",
     "text": [
      "\n"
     ]
    },
    {
     "name": "stdout",
     "output_type": "stream",
     "text": [
      "random_state=60"
     ]
    },
    {
     "name": "stdout",
     "output_type": "stream",
     "text": [
      "\n"
     ]
    },
    {
     "name": "stdout",
     "output_type": "stream",
     "text": [
      "metrics={'accuracy': 0.6457881851300854, 'precision': 0.6569667047693168, 'recall': 0.9638027616227209, 'f1': 0.7813403910679162}\n"
     ]
    },
    {
     "name": "stdout",
     "output_type": "stream",
     "text": [
      "\n"
     ]
    },
    {
     "name": "stdout",
     "output_type": "stream",
     "text": [
      "Confusion matrix:\n",
      "[[ 1104 28209]\n",
      " [ 2029 54025]]\n"
     ]
    },
    {
     "name": "stdout",
     "output_type": "stream",
     "text": [
      "\n"
     ]
    },
    {
     "name": "stdout",
     "output_type": "stream",
     "text": [
      "Classification report:"
     ]
    },
    {
     "name": "stdout",
     "output_type": "stream",
     "text": [
      "\n"
     ]
    },
    {
     "name": "stdout",
     "output_type": "stream",
     "text": [
      "              precision    recall  f1-score   support\n",
      "\n",
      "       False       0.35      0.04      0.07     29313\n",
      "        True       0.66      0.96      0.78     56054\n",
      "\n",
      "    accuracy                           0.65     85367\n",
      "   macro avg       0.50      0.50      0.42     85367\n",
      "weighted avg       0.55      0.65      0.54     85367\n"
     ]
    },
    {
     "name": "stdout",
     "output_type": "stream",
     "text": [
      "\n"
     ]
    },
    {
     "name": "stdout",
     "output_type": "stream",
     "text": [
      "metrics={'accuracy': 0.6491928870979078, 'precision': 0.6597189325753987, 'recall': 0.9656508907300074, 'f1': 0.7838931986289014}\n"
     ]
    },
    {
     "name": "stdout",
     "output_type": "stream",
     "text": [
      "\n"
     ]
    },
    {
     "name": "stdout",
     "output_type": "stream",
     "text": [
      "Confusion matrix:\n",
      "[[ 1105 28015]\n",
      " [ 1932 54314]]\n"
     ]
    },
    {
     "name": "stdout",
     "output_type": "stream",
     "text": [
      "\n"
     ]
    },
    {
     "name": "stdout",
     "output_type": "stream",
     "text": [
      "Classification report:"
     ]
    },
    {
     "name": "stdout",
     "output_type": "stream",
     "text": [
      "\n"
     ]
    },
    {
     "name": "stdout",
     "output_type": "stream",
     "text": [
      "              precision    recall  f1-score   support\n",
      "\n",
      "       False       0.36      0.04      0.07     29120\n",
      "        True       0.66      0.97      0.78     56246\n",
      "\n",
      "    accuracy                           0.65     85366\n",
      "   macro avg       0.51      0.50      0.43     85366\n",
      "weighted avg       0.56      0.65      0.54     85366\n"
     ]
    },
    {
     "name": "stdout",
     "output_type": "stream",
     "text": [
      "\n"
     ]
    },
    {
     "name": "stdout",
     "output_type": "stream",
     "text": [
      "metrics={'accuracy': 0.6471897476747183, 'precision': 0.6588638935189128, 'recall': 0.9630288264897836, 'f1': 0.782425266929623}\n"
     ]
    },
    {
     "name": "stdout",
     "output_type": "stream",
     "text": [
      "\n"
     ]
    },
    {
     "name": "stdout",
     "output_type": "stream",
     "text": [
      "Confusion matrix:\n",
      "[[ 1094 28039]\n",
      " [ 2079 54154]]\n"
     ]
    },
    {
     "name": "stdout",
     "output_type": "stream",
     "text": [
      "\n"
     ]
    },
    {
     "name": "stdout",
     "output_type": "stream",
     "text": [
      "Classification report:"
     ]
    },
    {
     "name": "stdout",
     "output_type": "stream",
     "text": [
      "\n"
     ]
    },
    {
     "name": "stdout",
     "output_type": "stream",
     "text": [
      "              precision    recall  f1-score   support\n",
      "\n",
      "       False       0.34      0.04      0.07     29133\n",
      "        True       0.66      0.96      0.78     56233\n",
      "\n",
      "    accuracy                           0.65     85366\n",
      "   macro avg       0.50      0.50      0.43     85366\n",
      "weighted avg       0.55      0.65      0.54     85366\n"
     ]
    },
    {
     "name": "stdout",
     "output_type": "stream",
     "text": [
      "\n"
     ]
    },
    {
     "name": "stdout",
     "output_type": "stream",
     "text": [
      "metrics={'accuracy': 0.6474943185811681, 'precision': 0.6582838797548399, 'recall': 0.9645071627111396, 'f1': 0.7825031079244846}\n"
     ]
    },
    {
     "name": "stdout",
     "output_type": "stream",
     "text": [
      "\n"
     ]
    },
    {
     "name": "stdout",
     "output_type": "stream",
     "text": [
      "Confusion matrix:\n",
      "[[ 1142 28100]\n",
      " [ 1992 54132]]\n"
     ]
    },
    {
     "name": "stdout",
     "output_type": "stream",
     "text": [
      "\n"
     ]
    },
    {
     "name": "stdout",
     "output_type": "stream",
     "text": [
      "metrics={'accuracy': 0.6481310108121405, 'precision': 0.6587800908494668, 'recall': 0.9653994019649722, 'f1': 0.7831473165942332}\n"
     ]
    },
    {
     "name": "stdout",
     "output_type": "stream",
     "text": [
      "Classification report:"
     ]
    },
    {
     "name": "stdout",
     "output_type": "stream",
     "text": [
      "\n"
     ]
    },
    {
     "name": "stdout",
     "output_type": "stream",
     "text": [
      "\n"
     ]
    },
    {
     "name": "stdout",
     "output_type": "stream",
     "text": [
      "Confusion matrix:\n",
      "[[ 1089 28094]\n",
      " [ 1944 54240]]\n"
     ]
    },
    {
     "name": "stdout",
     "output_type": "stream",
     "text": [
      "\n"
     ]
    },
    {
     "name": "stdout",
     "output_type": "stream",
     "text": [
      "Classification report:"
     ]
    },
    {
     "name": "stdout",
     "output_type": "stream",
     "text": [
      "\n"
     ]
    },
    {
     "name": "stdout",
     "output_type": "stream",
     "text": [
      "              precision    recall  f1-score   support\n",
      "\n",
      "       False       0.36      0.04      0.07     29242\n",
      "        True       0.66      0.96      0.78     56124\n",
      "\n",
      "    accuracy                           0.65     85366\n",
      "   macro avg       0.51      0.50      0.43     85366\n",
      "weighted avg       0.56      0.65      0.54     85366\n"
     ]
    },
    {
     "name": "stdout",
     "output_type": "stream",
     "text": [
      "\n"
     ]
    },
    {
     "name": "stdout",
     "output_type": "stream",
     "text": [
      "              precision    recall  f1-score   support\n",
      "\n",
      "       False       0.36      0.04      0.07     29183\n",
      "        True       0.66      0.97      0.78     56184\n",
      "\n",
      "    accuracy                           0.65     85367\n",
      "   macro avg       0.51      0.50      0.43     85367\n",
      "weighted avg       0.56      0.65      0.54     85367\n"
     ]
    },
    {
     "name": "stdout",
     "output_type": "stream",
     "text": [
      "\n"
     ]
    },
    {
     "name": "stdout",
     "output_type": "stream",
     "text": [
      "Performance of 'FeatureGroups.NDEco'\n",
      "['NonDependencyEcosystemExperienceSubmitterPullRequestSuccessRate', 'ln(1 + NonDependencyEcosystemExperienceSubmitterPullRequestSubmissionCount)', 'ln(1 + NonDependencyEcosystemExperienceSubmitterPullRequestCommentCount)', 'ln(1 + NonDependencyEcosystemExperienceSubmitterIssueSubmissionCount)', 'ln(1 + NonDependencyEcosystemExperienceSubmitterIssueCommentCount)']\n",
      "f1_scores=[0.7813403910679162, 0.7838931986289014, 0.782425266929623, 0.7831473165942332, 0.7825031079244846]\n",
      "f1_mean=0.7826618562290317, f1_std=0.0008460876508650523\n",
      "\n",
      "Reverse ablation with \"FeatureGroups.Coll\", including: ['ln(1 + WeightedEcosystemSecondOrderDegreeCentrality)', 'ln(1 + EcosystemLinkIntensity)'].\n"
     ]
    },
    {
     "name": "stdout",
     "output_type": "stream",
     "text": [
      "random_state=62"
     ]
    },
    {
     "name": "stdout",
     "output_type": "stream",
     "text": [
      "\n"
     ]
    },
    {
     "name": "stdout",
     "output_type": "stream",
     "text": [
      "random_state=62"
     ]
    },
    {
     "name": "stdout",
     "output_type": "stream",
     "text": [
      "\n"
     ]
    },
    {
     "name": "stdout",
     "output_type": "stream",
     "text": [
      "random_state=62"
     ]
    },
    {
     "name": "stdout",
     "output_type": "stream",
     "text": [
      "\n"
     ]
    },
    {
     "name": "stdout",
     "output_type": "stream",
     "text": [
      "random_state=62"
     ]
    },
    {
     "name": "stdout",
     "output_type": "stream",
     "text": [
      "\n"
     ]
    },
    {
     "name": "stdout",
     "output_type": "stream",
     "text": [
      "random_state=62"
     ]
    },
    {
     "name": "stdout",
     "output_type": "stream",
     "text": [
      "\n"
     ]
    },
    {
     "name": "stdout",
     "output_type": "stream",
     "text": [
      "metrics={'accuracy': 0.6240350486722035, 'precision': 0.6564747036341259, 'recall': 0.9008, 'f1': 0.75947090343613}\n"
     ]
    },
    {
     "name": "stdout",
     "output_type": "stream",
     "text": [
      "\n"
     ]
    },
    {
     "name": "stdout",
     "output_type": "stream",
     "text": [
      "Confusion matrix:\n",
      "[[ 2602 26515]\n",
      " [ 5580 50670]]\n"
     ]
    },
    {
     "name": "stdout",
     "output_type": "stream",
     "text": [
      "\n"
     ]
    },
    {
     "name": "stdout",
     "output_type": "stream",
     "text": [
      "Classification report:"
     ]
    },
    {
     "name": "stdout",
     "output_type": "stream",
     "text": [
      "\n"
     ]
    },
    {
     "name": "stdout",
     "output_type": "stream",
     "text": [
      "              precision    recall  f1-score   support\n",
      "\n",
      "       False       0.32      0.09      0.14     29117\n",
      "        True       0.66      0.90      0.76     56250\n",
      "\n",
      "    accuracy                           0.62     85367\n",
      "   macro avg       0.49      0.50      0.45     85367\n",
      "weighted avg       0.54      0.62      0.55     85367\n"
     ]
    },
    {
     "name": "stdout",
     "output_type": "stream",
     "text": [
      "\n"
     ]
    },
    {
     "name": "stdout",
     "output_type": "stream",
     "text": [
      "metrics={'accuracy': 0.6218210784026614, 'precision': 0.6537396121883656, 'recall': 0.9012455833541525, 'f1': 0.7577949164240915}\n"
     ]
    },
    {
     "name": "stdout",
     "output_type": "stream",
     "text": [
      "\n"
     ]
    },
    {
     "name": "stdout",
     "output_type": "stream",
     "text": [
      "Confusion matrix:\n",
      "[[ 2579 26750]\n",
      " [ 5534 50504]]\n"
     ]
    },
    {
     "name": "stdout",
     "output_type": "stream",
     "text": [
      "\n"
     ]
    },
    {
     "name": "stdout",
     "output_type": "stream",
     "text": [
      "Classification report:"
     ]
    },
    {
     "name": "stdout",
     "output_type": "stream",
     "text": [
      "\n"
     ]
    },
    {
     "name": "stdout",
     "output_type": "stream",
     "text": [
      "              precision    recall  f1-score   support\n",
      "\n",
      "       False       0.32      0.09      0.14     29329\n",
      "        True       0.65      0.90      0.76     56038\n",
      "\n",
      "    accuracy                           0.62     85367\n",
      "   macro avg       0.49      0.49      0.45     85367\n",
      "weighted avg       0.54      0.62      0.54     85367\n"
     ]
    },
    {
     "name": "stdout",
     "output_type": "stream",
     "text": [
      "\n"
     ]
    },
    {
     "name": "stdout",
     "output_type": "stream",
     "text": [
      "metrics={'accuracy': 0.6229060750181571, 'precision': 0.6550082165547404, 'recall': 0.9015316117542297, 'f1': 0.7587478359925954}\n"
     ]
    },
    {
     "name": "stdout",
     "output_type": "stream",
     "text": [
      "\n"
     ]
    },
    {
     "name": "stdout",
     "output_type": "stream",
     "text": [
      "Confusion matrix:\n",
      "[[ 2554 26662]\n",
      " [ 5529 50621]]\n"
     ]
    },
    {
     "name": "stdout",
     "output_type": "stream",
     "text": [
      "\n"
     ]
    },
    {
     "name": "stdout",
     "output_type": "stream",
     "text": [
      "Classification report:"
     ]
    },
    {
     "name": "stdout",
     "output_type": "stream",
     "text": [
      "\n"
     ]
    },
    {
     "name": "stdout",
     "output_type": "stream",
     "text": [
      "              precision    recall  f1-score   support\n",
      "\n",
      "       False       0.32      0.09      0.14     29216\n",
      "        True       0.66      0.90      0.76     56150\n",
      "\n",
      "    accuracy                           0.62     85366\n",
      "   macro avg       0.49      0.49      0.45     85366\n",
      "weighted avg       0.54      0.62      0.55     85366\n"
     ]
    },
    {
     "name": "stdout",
     "output_type": "stream",
     "text": [
      "\n"
     ]
    },
    {
     "name": "stdout",
     "output_type": "stream",
     "text": [
      "metrics={'accuracy': 0.6233395028465666, 'precision': 0.6565758623816371, 'recall': 0.8998384491114702, 'f1': 0.7591965730034151}\n"
     ]
    },
    {
     "name": "stdout",
     "output_type": "stream",
     "text": [
      "\n"
     ]
    },
    {
     "name": "stdout",
     "output_type": "stream",
     "text": [
      "Confusion matrix:\n",
      "[[ 2525 26512]\n",
      " [ 5642 50687]]\n"
     ]
    },
    {
     "name": "stdout",
     "output_type": "stream",
     "text": [
      "\n"
     ]
    },
    {
     "name": "stdout",
     "output_type": "stream",
     "text": [
      "Classification report:"
     ]
    },
    {
     "name": "stdout",
     "output_type": "stream",
     "text": [
      "\n"
     ]
    },
    {
     "name": "stdout",
     "output_type": "stream",
     "text": [
      "              precision    recall  f1-score   support\n",
      "\n",
      "       False       0.31      0.09      0.14     29037\n",
      "        True       0.66      0.90      0.76     56329\n",
      "\n",
      "    accuracy                           0.62     85366\n",
      "   macro avg       0.48      0.49      0.45     85366\n",
      "weighted avg       0.54      0.62      0.55     85366\n"
     ]
    },
    {
     "name": "stdout",
     "output_type": "stream",
     "text": [
      "\n"
     ]
    },
    {
     "name": "stdout",
     "output_type": "stream",
     "text": [
      "metrics={'accuracy': 0.6214652203453366, 'precision': 0.6538461538461539, 'recall': 0.9004173057031779, 'f1': 0.7575734841778324}\n"
     ]
    },
    {
     "name": "stdout",
     "output_type": "stream",
     "text": [
      "\n"
     ]
    },
    {
     "name": "stdout",
     "output_type": "stream",
     "text": [
      "Confusion matrix:\n",
      "[[ 2562 26730]\n",
      " [ 5584 50490]]\n"
     ]
    },
    {
     "name": "stdout",
     "output_type": "stream",
     "text": [
      "\n"
     ]
    },
    {
     "name": "stdout",
     "output_type": "stream",
     "text": [
      "Classification report:"
     ]
    },
    {
     "name": "stdout",
     "output_type": "stream",
     "text": [
      "\n"
     ]
    },
    {
     "name": "stdout",
     "output_type": "stream",
     "text": [
      "              precision    recall  f1-score   support\n",
      "\n",
      "       False       0.31      0.09      0.14     29292\n",
      "        True       0.65      0.90      0.76     56074\n",
      "\n",
      "    accuracy                           0.62     85366\n",
      "   macro avg       0.48      0.49      0.45     85366\n",
      "weighted avg       0.54      0.62      0.54     85366\n"
     ]
    },
    {
     "name": "stdout",
     "output_type": "stream",
     "text": [
      "\n"
     ]
    },
    {
     "name": "stdout",
     "output_type": "stream",
     "text": [
      "Performance of 'FeatureGroups.Coll'\n",
      "['ln(1 + WeightedEcosystemSecondOrderDegreeCentrality)', 'ln(1 + EcosystemLinkIntensity)']\n",
      "f1_scores=[0.75947090343613, 0.7577949164240915, 0.7587478359925954, 0.7591965730034151, 0.7575734841778324]\n",
      "f1_mean=0.7585567426068129, f1_std=0.0007521656614343379\n",
      "\n"
     ]
    }
   ],
   "source": [
    "rev_abl_results = dict()\n",
    "\n",
    "for cluster_name, cluster in var_groups.items():\n",
    "    print(f'Reverse ablation with \"{str(cluster_name)}\", including: {cluster}.')\n",
    "\n",
    "    # Creates models\n",
    "    f1_scores, f1_mean, f1_std = kfold_rf_evaluation(\n",
    "        df, cluster, k, pr_merged_key, seed_counter\n",
    "    )\n",
    "    rev_abl_results[cluster_name] = (f1_scores, f1_mean, f1_std)\n",
    "\n",
    "    print(\n",
    "        f\"Performance of '{cluster_name}'\\n{list(cluster)}\\n{f1_scores=}\\n{f1_mean=}, {f1_std=}\\n\"\n",
    "    )"
   ]
  },
  {
   "cell_type": "code",
   "execution_count": 19,
   "metadata": {
    "execution": {
     "iopub.execute_input": "2024-02-21T12:32:58.322354Z",
     "iopub.status.busy": "2024-02-21T12:32:58.322188Z",
     "iopub.status.idle": "2024-02-21T12:32:58.344294Z",
     "shell.execute_reply": "2024-02-21T12:32:58.343955Z"
    }
   },
   "outputs": [
    {
     "name": "stdout",
     "output_type": "stream",
     "text": [
      "Reverse cluster ablation results:\n",
      "Cluster 'FeatureGroups.Control':\n",
      "f1_scores=[0.7980012794577865, 0.7962865499598802, 0.7952850820547261, 0.7949341753368877, 0.7962652373130458]\n",
      "f1_mean=0.7961544648244653, f1_std=0.0010663371090687101\n",
      "\n",
      "Cluster 'FeatureGroups.Intra':\n",
      "f1_scores=[0.7904966378278029, 0.7934851762310727, 0.7947687679629407, 0.7947832595448414, 0.7927659032718939]\n",
      "f1_mean=0.7932599489677103, f1_std=0.0015828901920487421\n",
      "\n",
      "Cluster 'FeatureGroups.Eco':\n",
      "f1_scores=[0.7817542946382092, 0.7827017335858768, 0.7825288884713499, 0.7823786253361478, 0.7820515601836787]\n",
      "f1_mean=0.7822830204430524, f1_std=0.00034001085490701044\n",
      "\n",
      "Cluster 'FeatureGroups.DEco':\n",
      "f1_scores=[0.7939070507156741, 0.7947707432833291, 0.7946854273060542, 0.7922033802338421, 0.7909596514222963]\n",
      "f1_mean=0.793305250592239, f1_std=0.0014920237082776105\n",
      "\n",
      "Cluster 'FeatureGroups.IDEco':\n",
      "f1_scores=[0.7933608314525658, 0.7936220611631607, 0.7930561254085257, 0.7930966162380946, 0.7917578642413425]\n",
      "f1_mean=0.7929786997007379, f1_std=0.0006434713538319384\n",
      "\n",
      "Cluster 'FeatureGroups.NDEco':\n",
      "f1_scores=[0.7813403910679162, 0.7838931986289014, 0.782425266929623, 0.7831473165942332, 0.7825031079244846]\n",
      "f1_mean=0.7826618562290317, f1_std=0.0008460876508650523\n",
      "\n",
      "Cluster 'FeatureGroups.Coll':\n",
      "f1_scores=[0.75947090343613, 0.7577949164240915, 0.7587478359925954, 0.7591965730034151, 0.7575734841778324]\n",
      "f1_mean=0.7585567426068129, f1_std=0.0007521656614343379\n",
      "\n"
     ]
    }
   ],
   "source": [
    "# Prints summarized results again for clarity.\n",
    "print(\"Reverse cluster ablation results:\")\n",
    "for cluster_name, (f1_scores, f1_mean, f1_std) in rev_abl_results.items():\n",
    "    print(f\"Cluster '{cluster_name}':\\n{f1_scores=}\\n{f1_mean=}, {f1_std=}\\n\")"
   ]
  },
  {
   "cell_type": "markdown",
   "metadata": {},
   "source": [
    "### Probability Guesser\n",
    "\n",
    "Guesses the outcome by simply considering the probability of a merged pull request.\n",
    "Technically, an RF model performs somewhat well when its performance scores are ``> 0.5`` as there are only two possible outcomes.\n",
    "However, they actually mean anything once it's better than a simple probability guesser."
   ]
  },
  {
   "cell_type": "code",
   "execution_count": 20,
   "metadata": {
    "execution": {
     "iopub.execute_input": "2024-02-21T12:32:58.345905Z",
     "iopub.status.busy": "2024-02-21T12:32:58.345601Z",
     "iopub.status.idle": "2024-02-21T12:32:58.477565Z",
     "shell.execute_reply": "2024-02-21T12:32:58.477134Z"
    }
   },
   "outputs": [
    {
     "name": "stdout",
     "output_type": "stream",
     "text": [
      "Probability guesser metrics with probability_true=0.657966131873899.\n",
      "{\n",
      "    \"accuracy\": 0.552274298030855,\n",
      "    \"precision\": 0.6601251422070534,\n",
      "    \"recall\": 0.6603481693546953,\n",
      "    \"f1\": 0.6602366369462989\n",
      "}\n"
     ]
    }
   ],
   "source": [
    "import random\n",
    "\n",
    "from python_proj.modelling.notebooks.random_forest.rf_functions import calculate_metrics\n",
    "\n",
    "random.seed(seed_counter.get_next())\n",
    "\n",
    "probability_true = class_imbalance / (class_imbalance + 1)\n",
    "\n",
    "predictions = [random.random() < probability_true for _ in range(len(test_dependent))]\n",
    "metrics = calculate_metrics(predictions, test_dependent)\n",
    "\n",
    "print(f\"Probability guesser metrics with {probability_true=}.\")\n",
    "print(json.dumps(metrics, indent=4))"
   ]
  },
  {
   "cell_type": "code",
   "execution_count": 21,
   "metadata": {
    "execution": {
     "iopub.execute_input": "2024-02-21T12:32:58.479419Z",
     "iopub.status.busy": "2024-02-21T12:32:58.479131Z",
     "iopub.status.idle": "2024-02-21T12:32:58.500315Z",
     "shell.execute_reply": "2024-02-21T12:32:58.499944Z"
    }
   },
   "outputs": [
    {
     "name": "stdout",
     "output_type": "stream",
     "text": [
      "2024-02-21 12:32:58.498427\n"
     ]
    }
   ],
   "source": [
    "import datetime\n",
    "\n",
    "print(datetime.datetime.now())"
   ]
  }
 ],
 "metadata": {
  "kernelspec": {
   "display_name": "Python 3",
   "language": "python",
   "name": "python3"
  },
  "language_info": {
   "codemirror_mode": {
    "name": "ipython",
    "version": 3
   },
   "file_extension": ".py",
   "mimetype": "text/x-python",
   "name": "python",
   "nbconvert_exporter": "python",
   "pygments_lexer": "ipython3",
   "version": "3.11.8"
  }
 },
 "nbformat": 4,
 "nbformat_minor": 2
}    " [ 5534 50504]]\n"
     ]
    },
    {
     "name": "stdout",
     "output_type": "stream",
     "text": [
      "\n"
     ]
    },
    {
     "name": "stdout",
     "output_type": "stream",
     "text": [
      "Classification report:"
     ]
    },
    {
     "name": "stdout",
     "output_type": "stream",
     "text": [
      "\n"
     ]
    },
    {
     "name": "stdout",
     "output_type": "stream",
     "text": [
      "              precision    recall  f1-score   support\n",
      "\n",
      "       False       0.32      0.09      0.14     29329\n",
      "        True       0.65      0.90      0.76     56038\n",
      "\n",
      "    accuracy                           0.62     85367\n",
      "   macro avg       0.49      0.49      0.45     85367\n",
      "weighted avg       0.54      0.62      0.54     85367\n"
     ]
    },
    {
     "name": "stdout",
     "output_type": "stream",
     "text": [
      "\n"
     ]
    },
    {
     "name": "stdout",
     "output_type": "stream",
     "text": [
      "metrics={'accuracy': 0.6229060750181571, 'precision': 0.6550082165547404, 'recall': 0.9015316117542297, 'f1': 0.7587478359925954}\n"
     ]
    },
    {
     "name": "stdout",
     "output_type": "stream",
     "text": [
      "\n"
     ]
    },
    {
     "name": "stdout",
     "output_type": "stream",
     "text": [
      "Confusion matrix:\n",
      "[[ 2554 26662]\n",
      " [ 5529 50621]]\n"
     ]
    },
    {
     "name": "stdout",
     "output_type": "stream",
     "text": [
      "\n"
     ]
    },
    {
     "name": "stdout",
     "output_type": "stream",
     "text": [
      "Classification report:"
     ]
    },
    {
     "name": "stdout",
     "output_type": "stream",
     "text": [
      "\n"
     ]
    },
    {
     "name": "stdout",
     "output_type": "stream",
     "text": [
      "              precision    recall  f1-score   support\n",
      "\n",
      "       False       0.32      0.09      0.14     29216\n",
      "        True       0.66      0.90      0.76     56150\n",
      "\n",
      "    accuracy                           0.62     85366\n",
      "   macro avg       0.49      0.49      0.45     85366\n",
      "weighted avg       0.54      0.62      0.55     85366\n"
     ]
    },
    {
     "name": "stdout",
     "output_type": "stream",
     "text": [
      "\n"
     ]
    },
    {
     "name": "stdout",
     "output_type": "stream",
     "text": [
      "metrics={'accuracy': 0.6233395028465666, 'precision': 0.6565758623816371, 'recall': 0.8998384491114702, 'f1': 0.7591965730034151}\n"
     ]
    },
    {
     "name": "stdout",
     "output_type": "stream",
     "text": [
      "\n"
     ]
    },
    {
     "name": "stdout",
     "output_type": "stream",
     "text": [
      "Confusion matrix:\n",
      "[[ 2525 26512]\n",
      " [ 5642 50687]]\n"
     ]
    },
    {
     "name": "stdout",
     "output_type": "stream",
     "text": [
      "\n"
     ]
    },
    {
     "name": "stdout",
     "output_type": "stream",
     "text": [
      "Classification report:"
     ]
    },
    {
     "name": "stdout",
     "output_type": "stream",
     "text": [
      "\n"
     ]
    },
    {
     "name": "stdout",
     "output_type": "stream",
     "text": [
      "              precision    recall  f1-score   support\n",
      "\n",
      "       False       0.31      0.09      0.14     29037\n",
      "        True       0.66      0.90      0.76     56329\n",
      "\n",
      "    accuracy                           0.62     85366\n",
      "   macro avg       0.48      0.49      0.45     85366\n",
      "weighted avg       0.54      0.62      0.55     85366\n"
     ]
    },
    {
     "name": "stdout",
     "output_type": "stream",
     "text": [
      "\n"
     ]
    },
    {
     "name": "stdout",
     "output_type": "stream",
     "text": [
      "metrics={'accuracy': 0.6214652203453366, 'precision': 0.6538461538461539, 'recall': 0.9004173057031779, 'f1': 0.7575734841778324}\n"
     ]
    },
    {
     "name": "stdout",
     "output_type": "stream",
     "text": [
      "\n"
     ]
    },
    {
     "name": "stdout",
     "output_type": "stream",
     "text": [
      "Confusion matrix:\n",
      "[[ 2562 26730]\n",
      " [ 5584 50490]]\n"
     ]
    },
    {
     "name": "stdout",
     "output_type": "stream",
     "text": [
      "\n"
     ]
    },
    {
     "name": "stdout",
     "output_type": "stream",
     "text": [
      "Classification report:"
     ]
    },
    {
     "name": "stdout",
     "output_type": "stream",
     "text": [
      "\n"
     ]
    },
    {
     "name": "stdout",
     "output_type": "stream",
     "text": [
      "              precision    recall  f1-score   support\n",
      "\n",
      "       False       0.31      0.09      0.14     29292\n",
      "        True       0.65      0.90      0.76     56074\n",
      "\n",
      "    accuracy                           0.62     85366\n",
      "   macro avg       0.48      0.49      0.45     85366\n",
      "weighted avg       0.54      0.62      0.54     85366\n"
     ]
    },
    {
     "name": "stdout",
     "output_type": "stream",
     "text": [
      "\n"
     ]
    },
    {
     "name": "stdout",
     "output_type": "stream",
     "text": [
      "Performance of 'FeatureGroups.Coll'\n",
      "['ln(1 + WeightedEcosystemSecondOrderDegreeCentrality)', 'ln(1 + EcosystemLinkIntensity)']\n",
      "f1_scores=[0.75947090343613, 0.7577949164240915, 0.7587478359925954, 0.7591965730034151, 0.7575734841778324]\n",
      "f1_mean=0.7585567426068129, f1_std=0.0007521656614343379\n",
      "\n"
     ]
    }
   ],
   "source": [
    "rev_abl_results = dict()\n",
    "\n",
    "for cluster_name, cluster in var_groups.items():\n",
    "    print(f'Reverse ablation with \"{str(cluster_name)}\", including: {cluster}.')\n",
    "\n",
    "    # Creates models\n",
    "    f1_scores, f1_mean, f1_std = kfold_rf_evaluation(\n",
    "        df, cluster, k, pr_merged_key, seed_counter\n",
    "    )\n",
    "    rev_abl_results[cluster_name] = (f1_scores, f1_mean, f1_std)\n",
    "\n",
    "    print(\n",
    "        f\"Performance of '{cluster_name}'\\n{list(cluster)}\\n{f1_scores=}\\n{f1_mean=}, {f1_std=}\\n\"\n",
    "    )"
   ]
  },
  {
   "cell_type": "code",
   "execution_count": 18,
   "metadata": {
    "execution": {
     "iopub.execute_input": "2024-02-21T09:39:39.610603Z",
     "iopub.status.busy": "2024-02-21T09:39:39.610464Z",
     "iopub.status.idle": "2024-02-21T09:39:39.632448Z",
     "shell.execute_reply": "2024-02-21T09:39:39.632100Z"
    }
   },
   "outputs": [
    {
     "name": "stdout",
     "output_type": "stream",
     "text": [
      "Reverse cluster ablation results:\n",
      "Cluster 'FeatureGroups.Control':\n",
      "f1_scores=[0.7952850820547261, 0.7980012794577865, 0.7962865499598802, 0.7949341753368877, 0.7962652373130458]\n",
      "f1_mean=0.7961544648244653, f1_std=0.0010663371090687101\n",
      "\n",
      "Cluster 'FeatureGroups.Intra':\n",
      "f1_scores=[0.7947832595448414, 0.7904966378278029, 0.7934851762310727, 0.7947687679629407, 0.7927659032718939]\n",
      "f1_mean=0.7932599489677103, f1_std=0.0015828901920487421\n",
      "\n",
      "Cluster 'FeatureGroups.Eco':\n",
      "f1_scores=[0.7825288884713499, 0.7817542946382092, 0.7827017335858768, 0.7820515601836787, 0.7823786253361478]\n",
      "f1_mean=0.7822830204430524, f1_std=0.0003400108549070104\n",
      "\n",
      "Cluster 'FeatureGroups.DEco':\n",
      "f1_scores=[0.7946854273060542, 0.7939070507156741, 0.7947707432833291, 0.7922033802338421, 0.7909596514222963]\n",
      "f1_mean=0.793305250592239, f1_std=0.0014920237082776105\n",
      "\n",
      "Cluster 'FeatureGroups.IDEco':\n",
      "f1_scores=[0.7933608314525658, 0.7917578642413425, 0.7936220611631607, 0.7930561254085257, 0.7930966162380946]\n",
      "f1_mean=0.7929786997007379, f1_std=0.0006434713538319384\n",
      "\n",
      "Cluster 'FeatureGroups.NDEco':\n",
      "f1_scores=[0.7825031079244846, 0.7813403910679162, 0.782425266929623, 0.7838931986289014, 0.7831473165942332]\n",
      "f1_mean=0.7826618562290316, f1_std=0.0008460876508650523\n",
      "\n",
      "Cluster 'FeatureGroups.Coll':\n",
      "f1_scores=[0.75947090343613, 0.7577949164240915, 0.7587478359925954, 0.7591965730034151, 0.7575734841778324]\n",
      "f1_mean=0.7585567426068129, f1_std=0.0007521656614343379\n",
      "\n"
     ]
    }
   ],
   "source": [
    "# Prints summarized results again for clarity.\n",
    "print(\"Reverse cluster ablation results:\")\n",
    "for cluster_name, (f1_scores, f1_mean, f1_std) in rev_abl_results.items():\n",
    "    print(f\"Cluster '{cluster_name}':\\n{f1_scores=}\\n{f1_mean=}, {f1_std=}\\n\")"
   ]
  },
  {
   "cell_type": "markdown",
   "metadata": {},
   "source": [
    "### Probability Guesser\n",
    "\n",
    "Guesses the outcome by simply considering the probability of a merged pull request.\n",
    "Technically, an RF model performs somewhat well when its performance scores are ``> 0.5`` as there are only two possible outcomes.\n",
    "However, they actually mean anything once it's better than a simple probability guesser."
   ]
  },
  {
   "cell_type": "code",
   "execution_count": 19,
   "metadata": {
    "execution": {
     "iopub.execute_input": "2024-02-21T09:39:39.634043Z",
     "iopub.status.busy": "2024-02-21T09:39:39.633926Z",
     "iopub.status.idle": "2024-02-21T09:39:39.775545Z",
     "shell.execute_reply": "2024-02-21T09:39:39.775166Z"
    }
   },
   "outputs": [
    {
     "name": "stdout",
     "output_type": "stream",
     "text": [
      "Probability guesser metrics with probability_true=0.657966131873899.\n",
      "{\n",
      "    \"accuracy\": 0.5496737615237738,\n",
      "    \"precision\": 0.6589163822525598,\n",
      "    \"recall\": 0.6581325568595423,\n",
      "    \"f1\": 0.6585242363140551\n",
      "}\n"
     ]
    }
   ],
   "source": [
    "import random\n",
    "\n",
    "from python_proj.modelling.notebooks.random_forest.rf_functions import calculate_metrics\n",
    "\n",
    "random.seed(seed_counter.get_next())\n",
    "\n",
    "probability_true = class_imbalance / (class_imbalance + 1)\n",
    "\n",
    "predictions = [random.random() < probability_true for _ in range(len(test_dependent))]\n",
    "metrics = calculate_metrics(predictions, test_dependent)\n",
    "\n",
    "print(f\"Probability guesser metrics with {probability_true=}.\")\n",
    "print(json.dumps(metrics, indent=4))"
   ]
  },
  {
   "cell_type": "code",
   "execution_count": 20,
   "metadata": {
    "execution": {
     "iopub.execute_input": "2024-02-21T09:39:39.777202Z",
     "iopub.status.busy": "2024-02-21T09:39:39.777082Z",
     "iopub.status.idle": "2024-02-21T09:39:39.796152Z",
     "shell.execute_reply": "2024-02-21T09:39:39.795759Z"
    }
   },
   "outputs": [
    {
     "name": "stdout",
     "output_type": "stream",
     "text": [
      "2024-02-21 09:39:39.794465\n"
     ]
    }
   ],
   "source": [
    "import datetime\n",
    "\n",
    "print(datetime.datetime.now())"
   ]
  }
 ],
 "metadata": {
  "kernelspec": {
   "display_name": "Python 3",
   "language": "python",
   "name": "python3"
  },
  "language_info": {
   "codemirror_mode": {
    "name": "ipython",
    "version": 3
   },
   "file_extension": ".py",
   "mimetype": "text/x-python",
   "name": "python",
   "nbconvert_exporter": "python",
   "pygments_lexer": "ipython3",
   "version": "3.11.8"
  }
 },
 "nbformat": 4,
 "nbformat_minor": 2
}
