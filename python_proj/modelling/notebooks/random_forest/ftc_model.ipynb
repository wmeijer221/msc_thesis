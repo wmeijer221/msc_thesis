{
 "cells": [
  {
   "cell_type": "code",
   "execution_count": 1,
   "metadata": {
    "execution": {
     "iopub.execute_input": "2024-02-21T16:59:31.248982Z",
     "iopub.status.busy": "2024-02-21T16:59:31.248864Z",
     "iopub.status.idle": "2024-02-21T16:59:31.267819Z",
     "shell.execute_reply": "2024-02-21T16:59:31.267394Z"
    }
   },
   "outputs": [],
   "source": [
    "# Forces the notebook to always reload packages.\n",
    "%reload_ext autoreload\n",
    "%autoreload 2"
   ]
  },
  {
   "cell_type": "markdown",
   "metadata": {},
   "source": [
    "## Dataset loading"
   ]
  },
  {
   "cell_type": "markdown",
   "metadata": {},
   "source": [
    "### Regular dataset loading"
   ]
  },
  {
   "cell_type": "code",
   "execution_count": 2,
   "metadata": {
    "execution": {
     "iopub.execute_input": "2024-02-21T16:59:31.269612Z",
     "iopub.status.busy": "2024-02-21T16:59:31.269495Z",
     "iopub.status.idle": "2024-02-21T16:59:31.589303Z",
     "shell.execute_reply": "2024-02-21T16:59:31.588871Z"
    }
   },
   "outputs": [],
   "source": [
    "from python_proj.utils.util import Counter\n",
    "import python_proj.utils.exp_utils as exp_utils\n",
    "\n",
    "# Defines a number of constants.\n",
    "\n",
    "file_name = \"dataset_transformed\"\n",
    "base_path = exp_utils.BASE_PATH\n",
    "data_path = f\"{base_path}/final_data/{file_name}.csv\"\n",
    "figure_base_path = f\"{base_path}/figures/modelling/{file_name}/rf_nftc/\"\n",
    "\n",
    "# Meta stuff.\n",
    "pr_merged_key = \"PullRequestIsMerged\"\n",
    "ftc_key = \"SubmitterIsFirstTimeContributor\"\n",
    "seed_counter = Counter()"
   ]
  },
  {
   "cell_type": "code",
   "execution_count": 3,
   "metadata": {
    "execution": {
     "iopub.execute_input": "2024-02-21T16:59:31.591305Z",
     "iopub.status.busy": "2024-02-21T16:59:31.591125Z",
     "iopub.status.idle": "2024-02-21T16:59:35.444916Z",
     "shell.execute_reply": "2024-02-21T16:59:35.444535Z"
    }
   },
   "outputs": [
    {
     "data": {
      "text/html": [
       "<div>\n",
       "<style scoped>\n",
       "    .dataframe tbody tr th:only-of-type {\n",
       "        vertical-align: middle;\n",
       "    }\n",
       "\n",
       "    .dataframe tbody tr th {\n",
       "        vertical-align: top;\n",
       "    }\n",
       "\n",
       "    .dataframe thead th {\n",
       "        text-align: right;\n",
       "    }\n",
       "</style>\n",
       "<table border=\"1\" class=\"dataframe\">\n",
       "  <thead>\n",
       "    <tr style=\"text-align: right;\">\n",
       "      <th></th>\n",
       "      <th>ID</th>\n",
       "      <th>Project Name</th>\n",
       "      <th>Submitter ID</th>\n",
       "      <th>PR Number</th>\n",
       "      <th>Closed At</th>\n",
       "      <th>IntraProjectSubmitterPullRequestSuccessRate</th>\n",
       "      <th>EcosystemExperienceSubmitterPullRequestSuccessRate</th>\n",
       "      <th>DependencyEcosystemExperienceSubmitterPullRequestSuccessRate</th>\n",
       "      <th>NonDependencyEcosystemExperienceSubmitterPullRequestSuccessRate</th>\n",
       "      <th>InversedDependencyEcosystemExperienceSubmitterPullRequestSuccessRate</th>\n",
       "      <th>...</th>\n",
       "      <th>ln(1 + DependencyEcosystemExperienceSubmitterIssueSubmissionCount)</th>\n",
       "      <th>ln(1 + DependencyEcosystemExperienceSubmitterIssueCommentCount)</th>\n",
       "      <th>ln(1 + NonDependencyEcosystemExperienceSubmitterIssueSubmissionCount)</th>\n",
       "      <th>ln(1 + NonDependencyEcosystemExperienceSubmitterIssueCommentCount)</th>\n",
       "      <th>ln(1 + InversedDependencyEcosystemExperienceSubmitterIssueSubmissionCount)</th>\n",
       "      <th>ln(1 + InversedDependencyEcosystemExperienceSubmitterIssueCommentCount)</th>\n",
       "      <th>ln(1 + WeightedEcosystemSecondOrderDegreeCentrality)</th>\n",
       "      <th>ln(1 + WeightedIntraProjectSecondOrderDegreeCentrality)</th>\n",
       "      <th>ln(1 + EcosystemLinkIntensity)</th>\n",
       "      <th>ln(1 + IntraProjectLinkIntensity)</th>\n",
       "    </tr>\n",
       "  </thead>\n",
       "  <tbody>\n",
       "    <tr>\n",
       "      <th>count</th>\n",
       "      <td>1.216221e+06</td>\n",
       "      <td>1.216221e+06</td>\n",
       "      <td>1216221.0</td>\n",
       "      <td>1216221.0</td>\n",
       "      <td>1216221.0</td>\n",
       "      <td>1.216221e+06</td>\n",
       "      <td>1.216221e+06</td>\n",
       "      <td>1.216221e+06</td>\n",
       "      <td>1.216221e+06</td>\n",
       "      <td>1.216221e+06</td>\n",
       "      <td>...</td>\n",
       "      <td>1.216221e+06</td>\n",
       "      <td>1.216221e+06</td>\n",
       "      <td>1.216221e+06</td>\n",
       "      <td>1.216221e+06</td>\n",
       "      <td>1.216221e+06</td>\n",
       "      <td>1.216221e+06</td>\n",
       "      <td>1.216221e+06</td>\n",
       "      <td>1.216221e+06</td>\n",
       "      <td>1.216221e+06</td>\n",
       "      <td>1.216221e+06</td>\n",
       "    </tr>\n",
       "    <tr>\n",
       "      <th>mean</th>\n",
       "      <td>9.081164e+05</td>\n",
       "      <td>8.677039e+03</td>\n",
       "      <td>0.0</td>\n",
       "      <td>0.0</td>\n",
       "      <td>0.0</td>\n",
       "      <td>5.027905e-01</td>\n",
       "      <td>4.027001e-01</td>\n",
       "      <td>9.860918e-02</td>\n",
       "      <td>3.749753e-01</td>\n",
       "      <td>5.920373e-02</td>\n",
       "      <td>...</td>\n",
       "      <td>1.145965e-02</td>\n",
       "      <td>1.972030e-02</td>\n",
       "      <td>7.959556e-02</td>\n",
       "      <td>1.343719e-01</td>\n",
       "      <td>9.534855e-03</td>\n",
       "      <td>1.751229e-02</td>\n",
       "      <td>6.396949e-02</td>\n",
       "      <td>6.042839e-02</td>\n",
       "      <td>2.191224e-02</td>\n",
       "      <td>4.468485e-02</td>\n",
       "    </tr>\n",
       "    <tr>\n",
       "      <th>std</th>\n",
       "      <td>5.243531e+05</td>\n",
       "      <td>5.806587e+03</td>\n",
       "      <td>0.0</td>\n",
       "      <td>0.0</td>\n",
       "      <td>0.0</td>\n",
       "      <td>4.710578e-01</td>\n",
       "      <td>4.523420e-01</td>\n",
       "      <td>2.908001e-01</td>\n",
       "      <td>4.479160e-01</td>\n",
       "      <td>2.284681e-01</td>\n",
       "      <td>...</td>\n",
       "      <td>5.401390e-02</td>\n",
       "      <td>8.011601e-02</td>\n",
       "      <td>1.179346e-01</td>\n",
       "      <td>1.749533e-01</td>\n",
       "      <td>5.258916e-02</td>\n",
       "      <td>8.239552e-02</td>\n",
       "      <td>9.937732e-02</td>\n",
       "      <td>1.003326e-01</td>\n",
       "      <td>8.736962e-02</td>\n",
       "      <td>1.013914e-01</td>\n",
       "    </tr>\n",
       "    <tr>\n",
       "      <th>min</th>\n",
       "      <td>0.000000e+00</td>\n",
       "      <td>4.300000e+01</td>\n",
       "      <td>0.0</td>\n",
       "      <td>0.0</td>\n",
       "      <td>0.0</td>\n",
       "      <td>0.000000e+00</td>\n",
       "      <td>0.000000e+00</td>\n",
       "      <td>0.000000e+00</td>\n",
       "      <td>0.000000e+00</td>\n",
       "      <td>0.000000e+00</td>\n",
       "      <td>...</td>\n",
       "      <td>0.000000e+00</td>\n",
       "      <td>0.000000e+00</td>\n",
       "      <td>0.000000e+00</td>\n",
       "      <td>0.000000e+00</td>\n",
       "      <td>0.000000e+00</td>\n",
       "      <td>0.000000e+00</td>\n",
       "      <td>0.000000e+00</td>\n",
       "      <td>0.000000e+00</td>\n",
       "      <td>0.000000e+00</td>\n",
       "      <td>0.000000e+00</td>\n",
       "    </tr>\n",
       "    <tr>\n",
       "      <th>25%</th>\n",
       "      <td>4.542500e+05</td>\n",
       "      <td>3.224000e+03</td>\n",
       "      <td>0.0</td>\n",
       "      <td>0.0</td>\n",
       "      <td>0.0</td>\n",
       "      <td>0.000000e+00</td>\n",
       "      <td>0.000000e+00</td>\n",
       "      <td>0.000000e+00</td>\n",
       "      <td>0.000000e+00</td>\n",
       "      <td>0.000000e+00</td>\n",
       "      <td>...</td>\n",
       "      <td>0.000000e+00</td>\n",
       "      <td>0.000000e+00</td>\n",
       "      <td>0.000000e+00</td>\n",
       "      <td>0.000000e+00</td>\n",
       "      <td>0.000000e+00</td>\n",
       "      <td>0.000000e+00</td>\n",
       "      <td>0.000000e+00</td>\n",
       "      <td>0.000000e+00</td>\n",
       "      <td>0.000000e+00</td>\n",
       "      <td>0.000000e+00</td>\n",
       "    </tr>\n",
       "    <tr>\n",
       "      <th>50%</th>\n",
       "      <td>9.078700e+05</td>\n",
       "      <td>8.413000e+03</td>\n",
       "      <td>0.0</td>\n",
       "      <td>0.0</td>\n",
       "      <td>0.0</td>\n",
       "      <td>6.666667e-01</td>\n",
       "      <td>0.000000e+00</td>\n",
       "      <td>0.000000e+00</td>\n",
       "      <td>0.000000e+00</td>\n",
       "      <td>0.000000e+00</td>\n",
       "      <td>...</td>\n",
       "      <td>0.000000e+00</td>\n",
       "      <td>0.000000e+00</td>\n",
       "      <td>0.000000e+00</td>\n",
       "      <td>7.753347e-02</td>\n",
       "      <td>0.000000e+00</td>\n",
       "      <td>0.000000e+00</td>\n",
       "      <td>8.438514e-03</td>\n",
       "      <td>0.000000e+00</td>\n",
       "      <td>0.000000e+00</td>\n",
       "      <td>0.000000e+00</td>\n",
       "    </tr>\n",
       "    <tr>\n",
       "      <th>75%</th>\n",
       "      <td>1.362318e+06</td>\n",
       "      <td>1.357000e+04</td>\n",
       "      <td>0.0</td>\n",
       "      <td>0.0</td>\n",
       "      <td>0.0</td>\n",
       "      <td>1.000000e+00</td>\n",
       "      <td>9.387755e-01</td>\n",
       "      <td>0.000000e+00</td>\n",
       "      <td>9.230769e-01</td>\n",
       "      <td>0.000000e+00</td>\n",
       "      <td>...</td>\n",
       "      <td>0.000000e+00</td>\n",
       "      <td>0.000000e+00</td>\n",
       "      <td>1.416667e-01</td>\n",
       "      <td>2.326004e-01</td>\n",
       "      <td>0.000000e+00</td>\n",
       "      <td>0.000000e+00</td>\n",
       "      <td>9.891430e-02</td>\n",
       "      <td>8.847414e-02</td>\n",
       "      <td>0.000000e+00</td>\n",
       "      <td>2.582313e-02</td>\n",
       "    </tr>\n",
       "    <tr>\n",
       "      <th>max</th>\n",
       "      <td>1.815970e+06</td>\n",
       "      <td>2.009400e+04</td>\n",
       "      <td>0.0</td>\n",
       "      <td>0.0</td>\n",
       "      <td>0.0</td>\n",
       "      <td>1.000000e+00</td>\n",
       "      <td>1.000000e+00</td>\n",
       "      <td>1.000000e+00</td>\n",
       "      <td>1.000000e+00</td>\n",
       "      <td>1.000000e+00</td>\n",
       "      <td>...</td>\n",
       "      <td>1.000000e+00</td>\n",
       "      <td>1.000000e+00</td>\n",
       "      <td>1.000000e+00</td>\n",
       "      <td>1.000000e+00</td>\n",
       "      <td>1.000000e+00</td>\n",
       "      <td>1.000000e+00</td>\n",
       "      <td>1.000000e+00</td>\n",
       "      <td>1.000000e+00</td>\n",
       "      <td>1.000000e+00</td>\n",
       "      <td>1.000000e+00</td>\n",
       "    </tr>\n",
       "  </tbody>\n",
       "</table>\n",
       "<p>8 rows × 37 columns</p>\n",
       "</div>"
      ],
      "text/plain": [
       "                 ID  Project Name  Submitter ID  PR Number  Closed At   \n",
       "count  1.216221e+06  1.216221e+06     1216221.0  1216221.0  1216221.0  \\\n",
       "mean   9.081164e+05  8.677039e+03           0.0        0.0        0.0   \n",
       "std    5.243531e+05  5.806587e+03           0.0        0.0        0.0   \n",
       "min    0.000000e+00  4.300000e+01           0.0        0.0        0.0   \n",
       "25%    4.542500e+05  3.224000e+03           0.0        0.0        0.0   \n",
       "50%    9.078700e+05  8.413000e+03           0.0        0.0        0.0   \n",
       "75%    1.362318e+06  1.357000e+04           0.0        0.0        0.0   \n",
       "max    1.815970e+06  2.009400e+04           0.0        0.0        0.0   \n",
       "\n",
       "       IntraProjectSubmitterPullRequestSuccessRate   \n",
       "count                                 1.216221e+06  \\\n",
       "mean                                  5.027905e-01   \n",
       "std                                   4.710578e-01   \n",
       "min                                   0.000000e+00   \n",
       "25%                                   0.000000e+00   \n",
       "50%                                   6.666667e-01   \n",
       "75%                                   1.000000e+00   \n",
       "max                                   1.000000e+00   \n",
       "\n",
       "       EcosystemExperienceSubmitterPullRequestSuccessRate   \n",
       "count                                       1.216221e+06   \\\n",
       "mean                                        4.027001e-01    \n",
       "std                                         4.523420e-01    \n",
       "min                                         0.000000e+00    \n",
       "25%                                         0.000000e+00    \n",
       "50%                                         0.000000e+00    \n",
       "75%                                         9.387755e-01    \n",
       "max                                         1.000000e+00    \n",
       "\n",
       "       DependencyEcosystemExperienceSubmitterPullRequestSuccessRate   \n",
       "count                                       1.216221e+06             \\\n",
       "mean                                        9.860918e-02              \n",
       "std                                         2.908001e-01              \n",
       "min                                         0.000000e+00              \n",
       "25%                                         0.000000e+00              \n",
       "50%                                         0.000000e+00              \n",
       "75%                                         0.000000e+00              \n",
       "max                                         1.000000e+00              \n",
       "\n",
       "       NonDependencyEcosystemExperienceSubmitterPullRequestSuccessRate   \n",
       "count                                       1.216221e+06                \\\n",
       "mean                                        3.749753e-01                 \n",
       "std                                         4.479160e-01                 \n",
       "min                                         0.000000e+00                 \n",
       "25%                                         0.000000e+00                 \n",
       "50%                                         0.000000e+00                 \n",
       "75%                                         9.230769e-01                 \n",
       "max                                         1.000000e+00                 \n",
       "\n",
       "       InversedDependencyEcosystemExperienceSubmitterPullRequestSuccessRate   \n",
       "count                                       1.216221e+06                     \\\n",
       "mean                                        5.920373e-02                      \n",
       "std                                         2.284681e-01                      \n",
       "min                                         0.000000e+00                      \n",
       "25%                                         0.000000e+00                      \n",
       "50%                                         0.000000e+00                      \n",
       "75%                                         0.000000e+00                      \n",
       "max                                         1.000000e+00                      \n",
       "\n",
       "       ...   \n",
       "count  ...  \\\n",
       "mean   ...   \n",
       "std    ...   \n",
       "min    ...   \n",
       "25%    ...   \n",
       "50%    ...   \n",
       "75%    ...   \n",
       "max    ...   \n",
       "\n",
       "       ln(1 + DependencyEcosystemExperienceSubmitterIssueSubmissionCount)   \n",
       "count                                       1.216221e+06                   \\\n",
       "mean                                        1.145965e-02                    \n",
       "std                                         5.401390e-02                    \n",
       "min                                         0.000000e+00                    \n",
       "25%                                         0.000000e+00                    \n",
       "50%                                         0.000000e+00                    \n",
       "75%                                         0.000000e+00                    \n",
       "max                                         1.000000e+00                    \n",
       "\n",
       "       ln(1 + DependencyEcosystemExperienceSubmitterIssueCommentCount)   \n",
       "count                                       1.216221e+06                \\\n",
       "mean                                        1.972030e-02                 \n",
       "std                                         8.011601e-02                 \n",
       "min                                         0.000000e+00                 \n",
       "25%                                         0.000000e+00                 \n",
       "50%                                         0.000000e+00                 \n",
       "75%                                         0.000000e+00                 \n",
       "max                                         1.000000e+00                 \n",
       "\n",
       "       ln(1 + NonDependencyEcosystemExperienceSubmitterIssueSubmissionCount)   \n",
       "count                                       1.216221e+06                      \\\n",
       "mean                                        7.959556e-02                       \n",
       "std                                         1.179346e-01                       \n",
       "min                                         0.000000e+00                       \n",
       "25%                                         0.000000e+00                       \n",
       "50%                                         0.000000e+00                       \n",
       "75%                                         1.416667e-01                       \n",
       "max                                         1.000000e+00                       \n",
       "\n",
       "       ln(1 + NonDependencyEcosystemExperienceSubmitterIssueCommentCount)   \n",
       "count                                       1.216221e+06                   \\\n",
       "mean                                        1.343719e-01                    \n",
       "std                                         1.749533e-01                    \n",
       "min                                         0.000000e+00                    \n",
       "25%                                         0.000000e+00                    \n",
       "50%                                         7.753347e-02                    \n",
       "75%                                         2.326004e-01                    \n",
       "max                                         1.000000e+00                    \n",
       "\n",
       "       ln(1 + InversedDependencyEcosystemExperienceSubmitterIssueSubmissionCount)   \n",
       "count                                       1.216221e+06                           \\\n",
       "mean                                        9.534855e-03                            \n",
       "std                                         5.258916e-02                            \n",
       "min                                         0.000000e+00                            \n",
       "25%                                         0.000000e+00                            \n",
       "50%                                         0.000000e+00                            \n",
       "75%                                         0.000000e+00                            \n",
       "max                                         1.000000e+00                            \n",
       "\n",
       "       ln(1 + InversedDependencyEcosystemExperienceSubmitterIssueCommentCount)   \n",
       "count                                       1.216221e+06                        \\\n",
       "mean                                        1.751229e-02                         \n",
       "std                                         8.239552e-02                         \n",
       "min                                         0.000000e+00                         \n",
       "25%                                         0.000000e+00                         \n",
       "50%                                         0.000000e+00                         \n",
       "75%                                         0.000000e+00                         \n",
       "max                                         1.000000e+00                         \n",
       "\n",
       "       ln(1 + WeightedEcosystemSecondOrderDegreeCentrality)   \n",
       "count                                       1.216221e+06     \\\n",
       "mean                                        6.396949e-02      \n",
       "std                                         9.937732e-02      \n",
       "min                                         0.000000e+00      \n",
       "25%                                         0.000000e+00      \n",
       "50%                                         8.438514e-03      \n",
       "75%                                         9.891430e-02      \n",
       "max                                         1.000000e+00      \n",
       "\n",
       "       ln(1 + WeightedIntraProjectSecondOrderDegreeCentrality)   \n",
       "count                                       1.216221e+06        \\\n",
       "mean                                        6.042839e-02         \n",
       "std                                         1.003326e-01         \n",
       "min                                         0.000000e+00         \n",
       "25%                                         0.000000e+00         \n",
       "50%                                         0.000000e+00         \n",
       "75%                                         8.847414e-02         \n",
       "max                                         1.000000e+00         \n",
       "\n",
       "       ln(1 + EcosystemLinkIntensity)  ln(1 + IntraProjectLinkIntensity)  \n",
       "count                    1.216221e+06                       1.216221e+06  \n",
       "mean                     2.191224e-02                       4.468485e-02  \n",
       "std                      8.736962e-02                       1.013914e-01  \n",
       "min                      0.000000e+00                       0.000000e+00  \n",
       "25%                      0.000000e+00                       0.000000e+00  \n",
       "50%                      0.000000e+00                       0.000000e+00  \n",
       "75%                      0.000000e+00                       2.582313e-02  \n",
       "max                      1.000000e+00                       1.000000e+00  \n",
       "\n",
       "[8 rows x 37 columns]"
      ]
     },
     "execution_count": 3,
     "metadata": {},
     "output_type": "execute_result"
    }
   ],
   "source": [
    "import pandas as pd\n",
    "import numpy as np\n",
    "import json\n",
    "\n",
    "\n",
    "# Loads regular dataframe.\n",
    "df: pd.DataFrame = pd.read_csv(filepath_or_buffer=data_path, header=0)\n",
    "\n",
    "# Creates sub-datasets.\n",
    "metadata_fields = [\"ID\", \"Project Name\", \"Submitter ID\", \"PR Number\", \"Closed At\"]\n",
    "dependent_fields = [pr_merged_key]\n",
    "\n",
    "df.describe()"
   ]
  },
  {
   "cell_type": "code",
   "execution_count": 4,
   "metadata": {
    "execution": {
     "iopub.execute_input": "2024-02-21T16:59:35.447089Z",
     "iopub.status.busy": "2024-02-21T16:59:35.446963Z",
     "iopub.status.idle": "2024-02-21T16:59:35.460395Z",
     "shell.execute_reply": "2024-02-21T16:59:35.460088Z"
    }
   },
   "outputs": [
    {
     "name": "stdout",
     "output_type": "stream",
     "text": [
      "['ID', 'Project Name', 'Submitter ID', 'PR Number', 'Closed At', 'PullRequestIsMerged', 'ControlIntegratedBySameUser', 'ControlPullRequestHasComments', 'ControlPullRequestHasCommentByExternalUser', 'ControlHasHashTagInDescription', 'IntraProjectSubmitterPullRequestSuccessRate', 'EcosystemExperienceSubmitterPullRequestSuccessRate', 'DependencyEcosystemExperienceSubmitterPullRequestSuccessRate', 'NonDependencyEcosystemExperienceSubmitterPullRequestSuccessRate', 'InversedDependencyEcosystemExperienceSubmitterPullRequestSuccessRate', 'SubmitterIsFirstTimeContributor', 'ln(1 + ControlPullRequestLifeTimeInMinutes)', 'ln(1 + ControlNumberOfCommitsInPullRequest)', 'ln(1 + ControlIntraProjectPullRequestExperienceOfIntegrator)', 'ln(1 + IntraProjectSubmitterPullRequestSubmissionCount)', 'ln(1 + IntraProjectSubmitterPullRequestCommentCount)', 'ln(1 + EcosystemExperienceSubmitterPullRequestSubmissionCount)', 'ln(1 + EcosystemExperienceSubmitterPullRequestCommentCount)', 'ln(1 + DependencyEcosystemExperienceSubmitterPullRequestSubmissionCount)', 'ln(1 + DependencyEcosystemExperienceSubmitterPullRequestCommentCount)', 'ln(1 + NonDependencyEcosystemExperienceSubmitterPullRequestSubmissionCount)', 'ln(1 + NonDependencyEcosystemExperienceSubmitterPullRequestCommentCount)', 'ln(1 + InversedDependencyEcosystemExperienceSubmitterPullRequestSubmissionCount)', 'ln(1 + InversedDependencyEcosystemExperienceSubmitterPullRequestCommentCount)', 'ln(1 + IntraProjectSubmitterIssueSubmissionCount)', 'ln(1 + IntraProjectSubmitterIssueCommentCount)', 'ln(1 + EcosystemExperienceSubmitterIssueSubmissionCount)', 'ln(1 + EcosystemExperienceSubmitterIssueCommentCount)', 'ln(1 + DependencyEcosystemExperienceSubmitterIssueSubmissionCount)', 'ln(1 + DependencyEcosystemExperienceSubmitterIssueCommentCount)', 'ln(1 + NonDependencyEcosystemExperienceSubmitterIssueSubmissionCount)', 'ln(1 + NonDependencyEcosystemExperienceSubmitterIssueCommentCount)', 'ln(1 + InversedDependencyEcosystemExperienceSubmitterIssueSubmissionCount)', 'ln(1 + InversedDependencyEcosystemExperienceSubmitterIssueCommentCount)', 'ln(1 + WeightedEcosystemSecondOrderDegreeCentrality)', 'ln(1 + WeightedIntraProjectSecondOrderDegreeCentrality)', 'ln(1 + EcosystemLinkIntensity)', 'ln(1 + IntraProjectLinkIntensity)']\n"
     ]
    }
   ],
   "source": [
    "print(list(df.columns))"
   ]
  },
  {
   "cell_type": "code",
   "execution_count": 5,
   "metadata": {
    "execution": {
     "iopub.execute_input": "2024-02-21T16:59:35.461804Z",
     "iopub.status.busy": "2024-02-21T16:59:35.461682Z",
     "iopub.status.idle": "2024-02-21T16:59:35.526940Z",
     "shell.execute_reply": "2024-02-21T16:59:35.526520Z"
    }
   },
   "outputs": [],
   "source": [
    "intra_collab_fields = [\n",
    "    \"ln(1 + WeightedIntraProjectSecondOrderDegreeCentrality)\",\n",
    "    \"ln(1 + IntraProjectLinkIntensity)\",\n",
    "]\n",
    "\n",
    "df = df.drop(intra_collab_fields, axis=1)"
   ]
  },
  {
   "cell_type": "code",
   "execution_count": 6,
   "metadata": {
    "execution": {
     "iopub.execute_input": "2024-02-21T16:59:35.528865Z",
     "iopub.status.busy": "2024-02-21T16:59:35.528740Z",
     "iopub.status.idle": "2024-02-21T16:59:35.542280Z",
     "shell.execute_reply": "2024-02-21T16:59:35.541903Z"
    }
   },
   "outputs": [],
   "source": [
    "# Identifieds independent / predictor fields.\n",
    "\n",
    "\n",
    "def is_independent_field(field: str) -> bool:\n",
    "    return field not in metadata_fields and field != pr_merged_key\n",
    "\n",
    "\n",
    "independent_fields = list(filter(is_independent_field, df.columns))"
   ]
  },
  {
   "cell_type": "code",
   "execution_count": 7,
   "metadata": {
    "execution": {
     "iopub.execute_input": "2024-02-21T16:59:35.544228Z",
     "iopub.status.busy": "2024-02-21T16:59:35.544111Z",
     "iopub.status.idle": "2024-02-21T16:59:35.567239Z",
     "shell.execute_reply": "2024-02-21T16:59:35.566850Z"
    }
   },
   "outputs": [
    {
     "name": "stdout",
     "output_type": "stream",
     "text": [
      "class_imbalance=3.6988274383294377\n"
     ]
    }
   ],
   "source": [
    "# Calculates class imbalance.\n",
    "class_counts = df[pr_merged_key].value_counts()\n",
    "class_imbalance = class_counts[True] / class_counts[False]\n",
    "print(f\"{class_imbalance=}\")"
   ]
  },
  {
   "cell_type": "markdown",
   "metadata": {},
   "source": [
    "### Sample only PRs by first-time contributors"
   ]
  },
  {
   "cell_type": "code",
   "execution_count": 8,
   "metadata": {
    "execution": {
     "iopub.execute_input": "2024-02-21T16:59:35.568656Z",
     "iopub.status.busy": "2024-02-21T16:59:35.568524Z",
     "iopub.status.idle": "2024-02-21T16:59:35.905528Z",
     "shell.execute_reply": "2024-02-21T16:59:35.905169Z"
    }
   },
   "outputs": [
    {
     "name": "stdout",
     "output_type": "stream",
     "text": [
      "len(df)=427085\n",
      "class_imbalance=1.9255002157726373\n",
      "['ControlIntegratedBySameUser', 'ControlPullRequestHasComments', 'ControlPullRequestHasCommentByExternalUser', 'ControlHasHashTagInDescription', 'IntraProjectSubmitterPullRequestSuccessRate', 'EcosystemExperienceSubmitterPullRequestSuccessRate', 'DependencyEcosystemExperienceSubmitterPullRequestSuccessRate', 'NonDependencyEcosystemExperienceSubmitterPullRequestSuccessRate', 'InversedDependencyEcosystemExperienceSubmitterPullRequestSuccessRate', 'ln(1 + ControlPullRequestLifeTimeInMinutes)', 'ln(1 + ControlNumberOfCommitsInPullRequest)', 'ln(1 + ControlIntraProjectPullRequestExperienceOfIntegrator)', 'ln(1 + IntraProjectSubmitterPullRequestSubmissionCount)', 'ln(1 + IntraProjectSubmitterPullRequestCommentCount)', 'ln(1 + EcosystemExperienceSubmitterPullRequestSubmissionCount)', 'ln(1 + EcosystemExperienceSubmitterPullRequestCommentCount)', 'ln(1 + DependencyEcosystemExperienceSubmitterPullRequestSubmissionCount)', 'ln(1 + DependencyEcosystemExperienceSubmitterPullRequestCommentCount)', 'ln(1 + NonDependencyEcosystemExperienceSubmitterPullRequestSubmissionCount)', 'ln(1 + NonDependencyEcosystemExperienceSubmitterPullRequestCommentCount)', 'ln(1 + InversedDependencyEcosystemExperienceSubmitterPullRequestSubmissionCount)', 'ln(1 + InversedDependencyEcosystemExperienceSubmitterPullRequestCommentCount)', 'ln(1 + IntraProjectSubmitterIssueSubmissionCount)', 'ln(1 + IntraProjectSubmitterIssueCommentCount)', 'ln(1 + EcosystemExperienceSubmitterIssueSubmissionCount)', 'ln(1 + EcosystemExperienceSubmitterIssueCommentCount)', 'ln(1 + DependencyEcosystemExperienceSubmitterIssueSubmissionCount)', 'ln(1 + DependencyEcosystemExperienceSubmitterIssueCommentCount)', 'ln(1 + NonDependencyEcosystemExperienceSubmitterIssueSubmissionCount)', 'ln(1 + NonDependencyEcosystemExperienceSubmitterIssueCommentCount)', 'ln(1 + InversedDependencyEcosystemExperienceSubmitterIssueSubmissionCount)', 'ln(1 + InversedDependencyEcosystemExperienceSubmitterIssueCommentCount)', 'ln(1 + WeightedEcosystemSecondOrderDegreeCentrality)', 'ln(1 + EcosystemLinkIntensity)']\n"
     ]
    },
    {
     "data": {
      "text/html": [
       "<div>\n",
       "<style scoped>\n",
       "    .dataframe tbody tr th:only-of-type {\n",
       "        vertical-align: middle;\n",
       "    }\n",
       "\n",
       "    .dataframe tbody tr th {\n",
       "        vertical-align: top;\n",
       "    }\n",
       "\n",
       "    .dataframe thead th {\n",
       "        text-align: right;\n",
       "    }\n",
       "</style>\n",
       "<table border=\"1\" class=\"dataframe\">\n",
       "  <thead>\n",
       "    <tr style=\"text-align: right;\">\n",
       "      <th></th>\n",
       "      <th>ID</th>\n",
       "      <th>Project Name</th>\n",
       "      <th>Submitter ID</th>\n",
       "      <th>PR Number</th>\n",
       "      <th>Closed At</th>\n",
       "      <th>IntraProjectSubmitterPullRequestSuccessRate</th>\n",
       "      <th>EcosystemExperienceSubmitterPullRequestSuccessRate</th>\n",
       "      <th>DependencyEcosystemExperienceSubmitterPullRequestSuccessRate</th>\n",
       "      <th>NonDependencyEcosystemExperienceSubmitterPullRequestSuccessRate</th>\n",
       "      <th>InversedDependencyEcosystemExperienceSubmitterPullRequestSuccessRate</th>\n",
       "      <th>...</th>\n",
       "      <th>ln(1 + EcosystemExperienceSubmitterIssueSubmissionCount)</th>\n",
       "      <th>ln(1 + EcosystemExperienceSubmitterIssueCommentCount)</th>\n",
       "      <th>ln(1 + DependencyEcosystemExperienceSubmitterIssueSubmissionCount)</th>\n",
       "      <th>ln(1 + DependencyEcosystemExperienceSubmitterIssueCommentCount)</th>\n",
       "      <th>ln(1 + NonDependencyEcosystemExperienceSubmitterIssueSubmissionCount)</th>\n",
       "      <th>ln(1 + NonDependencyEcosystemExperienceSubmitterIssueCommentCount)</th>\n",
       "      <th>ln(1 + InversedDependencyEcosystemExperienceSubmitterIssueSubmissionCount)</th>\n",
       "      <th>ln(1 + InversedDependencyEcosystemExperienceSubmitterIssueCommentCount)</th>\n",
       "      <th>ln(1 + WeightedEcosystemSecondOrderDegreeCentrality)</th>\n",
       "      <th>ln(1 + EcosystemLinkIntensity)</th>\n",
       "    </tr>\n",
       "  </thead>\n",
       "  <tbody>\n",
       "    <tr>\n",
       "      <th>count</th>\n",
       "      <td>4.270850e+05</td>\n",
       "      <td>427085.000000</td>\n",
       "      <td>427085.0</td>\n",
       "      <td>427085.0</td>\n",
       "      <td>427085.0</td>\n",
       "      <td>427085.0</td>\n",
       "      <td>427085.000000</td>\n",
       "      <td>427085.000000</td>\n",
       "      <td>427085.000000</td>\n",
       "      <td>427085.000000</td>\n",
       "      <td>...</td>\n",
       "      <td>427085.000000</td>\n",
       "      <td>427085.000000</td>\n",
       "      <td>427085.000000</td>\n",
       "      <td>427085.000000</td>\n",
       "      <td>427085.000000</td>\n",
       "      <td>427085.000000</td>\n",
       "      <td>427085.000000</td>\n",
       "      <td>427085.000000</td>\n",
       "      <td>427085.000000</td>\n",
       "      <td>427085.000000</td>\n",
       "    </tr>\n",
       "    <tr>\n",
       "      <th>mean</th>\n",
       "      <td>9.073976e+05</td>\n",
       "      <td>7127.171032</td>\n",
       "      <td>0.0</td>\n",
       "      <td>0.0</td>\n",
       "      <td>0.0</td>\n",
       "      <td>0.0</td>\n",
       "      <td>0.265283</td>\n",
       "      <td>0.023956</td>\n",
       "      <td>0.256446</td>\n",
       "      <td>0.024830</td>\n",
       "      <td>...</td>\n",
       "      <td>0.060157</td>\n",
       "      <td>0.098302</td>\n",
       "      <td>0.002769</td>\n",
       "      <td>0.004918</td>\n",
       "      <td>0.057654</td>\n",
       "      <td>0.094553</td>\n",
       "      <td>0.004177</td>\n",
       "      <td>0.007874</td>\n",
       "      <td>0.048772</td>\n",
       "      <td>0.012940</td>\n",
       "    </tr>\n",
       "    <tr>\n",
       "      <th>std</th>\n",
       "      <td>5.244681e+05</td>\n",
       "      <td>5528.613961</td>\n",
       "      <td>0.0</td>\n",
       "      <td>0.0</td>\n",
       "      <td>0.0</td>\n",
       "      <td>0.0</td>\n",
       "      <td>0.409457</td>\n",
       "      <td>0.149628</td>\n",
       "      <td>0.405476</td>\n",
       "      <td>0.150583</td>\n",
       "      <td>...</td>\n",
       "      <td>0.104294</td>\n",
       "      <td>0.153440</td>\n",
       "      <td>0.025460</td>\n",
       "      <td>0.040142</td>\n",
       "      <td>0.101331</td>\n",
       "      <td>0.149739</td>\n",
       "      <td>0.033534</td>\n",
       "      <td>0.054307</td>\n",
       "      <td>0.089011</td>\n",
       "      <td>0.064526</td>\n",
       "    </tr>\n",
       "    <tr>\n",
       "      <th>min</th>\n",
       "      <td>4.000000e+00</td>\n",
       "      <td>43.000000</td>\n",
       "      <td>0.0</td>\n",
       "      <td>0.0</td>\n",
       "      <td>0.0</td>\n",
       "      <td>0.0</td>\n",
       "      <td>0.000000</td>\n",
       "      <td>0.000000</td>\n",
       "      <td>0.000000</td>\n",
       "      <td>0.000000</td>\n",
       "      <td>...</td>\n",
       "      <td>0.000000</td>\n",
       "      <td>0.000000</td>\n",
       "      <td>0.000000</td>\n",
       "      <td>0.000000</td>\n",
       "      <td>0.000000</td>\n",
       "      <td>0.000000</td>\n",
       "      <td>0.000000</td>\n",
       "      <td>0.000000</td>\n",
       "      <td>0.000000</td>\n",
       "      <td>0.000000</td>\n",
       "    </tr>\n",
       "    <tr>\n",
       "      <th>25%</th>\n",
       "      <td>4.528710e+05</td>\n",
       "      <td>2106.000000</td>\n",
       "      <td>0.0</td>\n",
       "      <td>0.0</td>\n",
       "      <td>0.0</td>\n",
       "      <td>0.0</td>\n",
       "      <td>0.000000</td>\n",
       "      <td>0.000000</td>\n",
       "      <td>0.000000</td>\n",
       "      <td>0.000000</td>\n",
       "      <td>...</td>\n",
       "      <td>0.000000</td>\n",
       "      <td>0.000000</td>\n",
       "      <td>0.000000</td>\n",
       "      <td>0.000000</td>\n",
       "      <td>0.000000</td>\n",
       "      <td>0.000000</td>\n",
       "      <td>0.000000</td>\n",
       "      <td>0.000000</td>\n",
       "      <td>0.000000</td>\n",
       "      <td>0.000000</td>\n",
       "    </tr>\n",
       "    <tr>\n",
       "      <th>50%</th>\n",
       "      <td>9.075840e+05</td>\n",
       "      <td>6296.000000</td>\n",
       "      <td>0.0</td>\n",
       "      <td>0.0</td>\n",
       "      <td>0.0</td>\n",
       "      <td>0.0</td>\n",
       "      <td>0.000000</td>\n",
       "      <td>0.000000</td>\n",
       "      <td>0.000000</td>\n",
       "      <td>0.000000</td>\n",
       "      <td>...</td>\n",
       "      <td>0.000000</td>\n",
       "      <td>0.000000</td>\n",
       "      <td>0.000000</td>\n",
       "      <td>0.000000</td>\n",
       "      <td>0.000000</td>\n",
       "      <td>0.000000</td>\n",
       "      <td>0.000000</td>\n",
       "      <td>0.000000</td>\n",
       "      <td>0.000000</td>\n",
       "      <td>0.000000</td>\n",
       "    </tr>\n",
       "    <tr>\n",
       "      <th>75%</th>\n",
       "      <td>1.361581e+06</td>\n",
       "      <td>11408.000000</td>\n",
       "      <td>0.0</td>\n",
       "      <td>0.0</td>\n",
       "      <td>0.0</td>\n",
       "      <td>0.0</td>\n",
       "      <td>0.666667</td>\n",
       "      <td>0.000000</td>\n",
       "      <td>0.648649</td>\n",
       "      <td>0.000000</td>\n",
       "      <td>...</td>\n",
       "      <td>0.089382</td>\n",
       "      <td>0.155067</td>\n",
       "      <td>0.000000</td>\n",
       "      <td>0.000000</td>\n",
       "      <td>0.089382</td>\n",
       "      <td>0.155067</td>\n",
       "      <td>0.000000</td>\n",
       "      <td>0.000000</td>\n",
       "      <td>0.064858</td>\n",
       "      <td>0.000000</td>\n",
       "    </tr>\n",
       "    <tr>\n",
       "      <th>max</th>\n",
       "      <td>1.815970e+06</td>\n",
       "      <td>20094.000000</td>\n",
       "      <td>0.0</td>\n",
       "      <td>0.0</td>\n",
       "      <td>0.0</td>\n",
       "      <td>0.0</td>\n",
       "      <td>1.000000</td>\n",
       "      <td>1.000000</td>\n",
       "      <td>1.000000</td>\n",
       "      <td>1.000000</td>\n",
       "      <td>...</td>\n",
       "      <td>1.000000</td>\n",
       "      <td>1.000000</td>\n",
       "      <td>0.759557</td>\n",
       "      <td>1.000000</td>\n",
       "      <td>1.000000</td>\n",
       "      <td>1.000000</td>\n",
       "      <td>1.000000</td>\n",
       "      <td>0.999543</td>\n",
       "      <td>1.000000</td>\n",
       "      <td>0.951250</td>\n",
       "    </tr>\n",
       "  </tbody>\n",
       "</table>\n",
       "<p>8 rows × 35 columns</p>\n",
       "</div>"
      ],
      "text/plain": [
       "                 ID   Project Name  Submitter ID  PR Number  Closed At   \n",
       "count  4.270850e+05  427085.000000      427085.0   427085.0   427085.0  \\\n",
       "mean   9.073976e+05    7127.171032           0.0        0.0        0.0   \n",
       "std    5.244681e+05    5528.613961           0.0        0.0        0.0   \n",
       "min    4.000000e+00      43.000000           0.0        0.0        0.0   \n",
       "25%    4.528710e+05    2106.000000           0.0        0.0        0.0   \n",
       "50%    9.075840e+05    6296.000000           0.0        0.0        0.0   \n",
       "75%    1.361581e+06   11408.000000           0.0        0.0        0.0   \n",
       "max    1.815970e+06   20094.000000           0.0        0.0        0.0   \n",
       "\n",
       "       IntraProjectSubmitterPullRequestSuccessRate   \n",
       "count                                     427085.0  \\\n",
       "mean                                           0.0   \n",
       "std                                            0.0   \n",
       "min                                            0.0   \n",
       "25%                                            0.0   \n",
       "50%                                            0.0   \n",
       "75%                                            0.0   \n",
       "max                                            0.0   \n",
       "\n",
       "       EcosystemExperienceSubmitterPullRequestSuccessRate   \n",
       "count                                      427085.000000   \\\n",
       "mean                                            0.265283    \n",
       "std                                             0.409457    \n",
       "min                                             0.000000    \n",
       "25%                                             0.000000    \n",
       "50%                                             0.000000    \n",
       "75%                                             0.666667    \n",
       "max                                             1.000000    \n",
       "\n",
       "       DependencyEcosystemExperienceSubmitterPullRequestSuccessRate   \n",
       "count                                      427085.000000             \\\n",
       "mean                                            0.023956              \n",
       "std                                             0.149628              \n",
       "min                                             0.000000              \n",
       "25%                                             0.000000              \n",
       "50%                                             0.000000              \n",
       "75%                                             0.000000              \n",
       "max                                             1.000000              \n",
       "\n",
       "       NonDependencyEcosystemExperienceSubmitterPullRequestSuccessRate   \n",
       "count                                      427085.000000                \\\n",
       "mean                                            0.256446                 \n",
       "std                                             0.405476                 \n",
       "min                                             0.000000                 \n",
       "25%                                             0.000000                 \n",
       "50%                                             0.000000                 \n",
       "75%                                             0.648649                 \n",
       "max                                             1.000000                 \n",
       "\n",
       "       InversedDependencyEcosystemExperienceSubmitterPullRequestSuccessRate   \n",
       "count                                      427085.000000                     \\\n",
       "mean                                            0.024830                      \n",
       "std                                             0.150583                      \n",
       "min                                             0.000000                      \n",
       "25%                                             0.000000                      \n",
       "50%                                             0.000000                      \n",
       "75%                                             0.000000                      \n",
       "max                                             1.000000                      \n",
       "\n",
       "       ...  ln(1 + EcosystemExperienceSubmitterIssueSubmissionCount)   \n",
       "count  ...                                      427085.000000         \\\n",
       "mean   ...                                           0.060157          \n",
       "std    ...                                           0.104294          \n",
       "min    ...                                           0.000000          \n",
       "25%    ...                                           0.000000          \n",
       "50%    ...                                           0.000000          \n",
       "75%    ...                                           0.089382          \n",
       "max    ...                                           1.000000          \n",
       "\n",
       "       ln(1 + EcosystemExperienceSubmitterIssueCommentCount)   \n",
       "count                                      427085.000000      \\\n",
       "mean                                            0.098302       \n",
       "std                                             0.153440       \n",
       "min                                             0.000000       \n",
       "25%                                             0.000000       \n",
       "50%                                             0.000000       \n",
       "75%                                             0.155067       \n",
       "max                                             1.000000       \n",
       "\n",
       "       ln(1 + DependencyEcosystemExperienceSubmitterIssueSubmissionCount)   \n",
       "count                                      427085.000000                   \\\n",
       "mean                                            0.002769                    \n",
       "std                                             0.025460                    \n",
       "min                                             0.000000                    \n",
       "25%                                             0.000000                    \n",
       "50%                                             0.000000                    \n",
       "75%                                             0.000000                    \n",
       "max                                             0.759557                    \n",
       "\n",
       "       ln(1 + DependencyEcosystemExperienceSubmitterIssueCommentCount)   \n",
       "count                                      427085.000000                \\\n",
       "mean                                            0.004918                 \n",
       "std                                             0.040142                 \n",
       "min                                             0.000000                 \n",
       "25%                                             0.000000                 \n",
       "50%                                             0.000000                 \n",
       "75%                                             0.000000                 \n",
       "max                                             1.000000                 \n",
       "\n",
       "       ln(1 + NonDependencyEcosystemExperienceSubmitterIssueSubmissionCount)   \n",
       "count                                      427085.000000                      \\\n",
       "mean                                            0.057654                       \n",
       "std                                             0.101331                       \n",
       "min                                             0.000000                       \n",
       "25%                                             0.000000                       \n",
       "50%                                             0.000000                       \n",
       "75%                                             0.089382                       \n",
       "max                                             1.000000                       \n",
       "\n",
       "       ln(1 + NonDependencyEcosystemExperienceSubmitterIssueCommentCount)   \n",
       "count                                      427085.000000                   \\\n",
       "mean                                            0.094553                    \n",
       "std                                             0.149739                    \n",
       "min                                             0.000000                    \n",
       "25%                                             0.000000                    \n",
       "50%                                             0.000000                    \n",
       "75%                                             0.155067                    \n",
       "max                                             1.000000                    \n",
       "\n",
       "       ln(1 + InversedDependencyEcosystemExperienceSubmitterIssueSubmissionCount)   \n",
       "count                                      427085.000000                           \\\n",
       "mean                                            0.004177                            \n",
       "std                                             0.033534                            \n",
       "min                                             0.000000                            \n",
       "25%                                             0.000000                            \n",
       "50%                                             0.000000                            \n",
       "75%                                             0.000000                            \n",
       "max                                             1.000000                            \n",
       "\n",
       "       ln(1 + InversedDependencyEcosystemExperienceSubmitterIssueCommentCount)   \n",
       "count                                      427085.000000                        \\\n",
       "mean                                            0.007874                         \n",
       "std                                             0.054307                         \n",
       "min                                             0.000000                         \n",
       "25%                                             0.000000                         \n",
       "50%                                             0.000000                         \n",
       "75%                                             0.000000                         \n",
       "max                                             0.999543                         \n",
       "\n",
       "       ln(1 + WeightedEcosystemSecondOrderDegreeCentrality)   \n",
       "count                                      427085.000000     \\\n",
       "mean                                            0.048772      \n",
       "std                                             0.089011      \n",
       "min                                             0.000000      \n",
       "25%                                             0.000000      \n",
       "50%                                             0.000000      \n",
       "75%                                             0.064858      \n",
       "max                                             1.000000      \n",
       "\n",
       "       ln(1 + EcosystemLinkIntensity)  \n",
       "count                   427085.000000  \n",
       "mean                         0.012940  \n",
       "std                          0.064526  \n",
       "min                          0.000000  \n",
       "25%                          0.000000  \n",
       "50%                          0.000000  \n",
       "75%                          0.000000  \n",
       "max                          0.951250  \n",
       "\n",
       "[8 rows x 35 columns]"
      ]
     },
     "execution_count": 8,
     "metadata": {},
     "output_type": "execute_result"
    }
   ],
   "source": [
    "# Filters data\n",
    "df = df[df[ftc_key] == True]\n",
    "df = df.drop([ftc_key], axis=1)\n",
    "independent_fields.remove(ftc_key)\n",
    "print(f\"{len(df)=}\")\n",
    "\n",
    "# Recalculates class imbalance.\n",
    "class_counts = df[pr_merged_key].value_counts()\n",
    "class_imbalance = class_counts[True] / class_counts[False]\n",
    "print(f\"{class_imbalance=}\")\n",
    "\n",
    "# Resets indices.\n",
    "df = df.reset_index(drop=True)\n",
    "print(independent_fields)\n",
    "\n",
    "df.describe()"
   ]
  },
  {
   "cell_type": "markdown",
   "metadata": {},
   "source": [
    "## Model Creation"
   ]
  },
  {
   "cell_type": "code",
   "execution_count": 9,
   "metadata": {
    "execution": {
     "iopub.execute_input": "2024-02-21T16:59:35.907125Z",
     "iopub.status.busy": "2024-02-21T16:59:35.907002Z",
     "iopub.status.idle": "2024-02-21T16:59:35.920435Z",
     "shell.execute_reply": "2024-02-21T16:59:35.920105Z"
    }
   },
   "outputs": [
    {
     "name": "stdout",
     "output_type": "stream",
     "text": [
      "Using k=5 folds.\n"
     ]
    }
   ],
   "source": [
    "k = 5\n",
    "print(f\"Using {k=} folds.\")"
   ]
  },
  {
   "cell_type": "markdown",
   "metadata": {},
   "source": [
    "Generates a number of feature groups that are relevant later in the pipeline:\n",
    "- control variables\n",
    "- intra-project experience\n",
    "- ecosystem experience\n",
    "- dependency ecosystem experience\n",
    "- inverse dependency ecosystem experience\n",
    "- non-dependency ecosystem experience\n",
    "- collaboration variables"
   ]
  },
  {
   "cell_type": "code",
   "execution_count": 10,
   "metadata": {
    "execution": {
     "iopub.execute_input": "2024-02-21T16:59:35.921953Z",
     "iopub.status.busy": "2024-02-21T16:59:35.921839Z",
     "iopub.status.idle": "2024-02-21T16:59:35.938846Z",
     "shell.execute_reply": "2024-02-21T16:59:35.938500Z"
    }
   },
   "outputs": [
    {
     "name": "stdout",
     "output_type": "stream",
     "text": [
      "Feature groups:\n",
      "{\n",
      "  \"FeatureGroups.Control\": [\n",
      "    \"ControlIntegratedBySameUser\",\n",
      "    \"ControlPullRequestHasComments\",\n",
      "    \"ControlPullRequestHasCommentByExternalUser\",\n",
      "    \"ControlHasHashTagInDescription\",\n",
      "    \"ln(1 + ControlPullRequestLifeTimeInMinutes)\",\n",
      "    \"ln(1 + ControlNumberOfCommitsInPullRequest)\",\n",
      "    \"ln(1 + ControlIntraProjectPullRequestExperienceOfIntegrator)\"\n",
      "  ],\n",
      "  \"FeatureGroups.Intra\": [\n",
      "    \"IntraProjectSubmitterPullRequestSuccessRate\",\n",
      "    \"ln(1 + IntraProjectSubmitterPullRequestSubmissionCount)\",\n",
      "    \"ln(1 + IntraProjectSubmitterPullRequestCommentCount)\",\n",
      "    \"ln(1 + IntraProjectSubmitterIssueSubmissionCount)\",\n",
      "    \"ln(1 + IntraProjectSubmitterIssueCommentCount)\"\n",
      "  ],\n",
      "  \"FeatureGroups.Eco\": [\n",
      "    \"EcosystemExperienceSubmitterPullRequestSuccessRate\",\n",
      "    \"ln(1 + EcosystemExperienceSubmitterPullRequestSubmissionCount)\",\n",
      "    \"ln(1 + EcosystemExperienceSubmitterPullRequestCommentCount)\",\n",
      "    \"ln(1 + EcosystemExperienceSubmitterIssueSubmissionCount)\",\n",
      "    \"ln(1 + EcosystemExperienceSubmitterIssueCommentCount)\"\n",
      "  ],\n",
      "  \"FeatureGroups.DEco\": [\n",
      "    \"DependencyEcosystemExperienceSubmitterPullRequestSuccessRate\",\n",
      "    \"ln(1 + DependencyEcosystemExperienceSubmitterPullRequestSubmissionCount)\",\n",
      "    \"ln(1 + DependencyEcosystemExperienceSubmitterPullRequestCommentCount)\",\n",
      "    \"ln(1 + DependencyEcosystemExperienceSubmitterIssueSubmissionCount)\",\n",
      "    \"ln(1 + DependencyEcosystemExperienceSubmitterIssueCommentCount)\"\n",
      "  ],\n",
      "  \"FeatureGroups.IDEco\": [\n",
      "    \"InversedDependencyEcosystemExperienceSubmitterPullRequestSuccessRate\",\n",
      "    \"ln(1 + InversedDependencyEcosystemExperienceSubmitterPullRequestSubmissionCount)\",\n",
      "    \"ln(1 + InversedDependencyEcosystemExperienceSubmitterPullRequestCommentCount)\",\n",
      "    \"ln(1 + InversedDependencyEcosystemExperienceSubmitterIssueSubmissionCount)\",\n",
      "    \"ln(1 + InversedDependencyEcosystemExperienceSubmitterIssueCommentCount)\"\n",
      "  ],\n",
      "  \"FeatureGroups.NDEco\": [\n",
      "    \"NonDependencyEcosystemExperienceSubmitterPullRequestSuccessRate\",\n",
      "    \"ln(1 + NonDependencyEcosystemExperienceSubmitterPullRequestSubmissionCount)\",\n",
      "    \"ln(1 + NonDependencyEcosystemExperienceSubmitterPullRequestCommentCount)\",\n",
      "    \"ln(1 + NonDependencyEcosystemExperienceSubmitterIssueSubmissionCount)\",\n",
      "    \"ln(1 + NonDependencyEcosystemExperienceSubmitterIssueCommentCount)\"\n",
      "  ],\n",
      "  \"FeatureGroups.Coll\": [\n",
      "    \"ln(1 + WeightedEcosystemSecondOrderDegreeCentrality)\",\n",
      "    \"ln(1 + EcosystemLinkIntensity)\"\n",
      "  ]\n",
      "}\n"
     ]
    }
   ],
   "source": [
    "from enum import Enum\n",
    "from python_proj.utils.util import get_matching\n",
    "\n",
    "# Defines feature groups\n",
    "\n",
    "\n",
    "class FeatureGroups(Enum):\n",
    "    Control = 1\n",
    "    Intra = 2\n",
    "    Eco = 3\n",
    "    DEco = 4\n",
    "    IDEco = 5\n",
    "    NDEco = 6\n",
    "    Coll = 7\n",
    "\n",
    "\n",
    "var_group_regex_patterns = [\n",
    "    (FeatureGroups.Control, r\".*Control.*\"),\n",
    "    (\n",
    "        FeatureGroups.Intra,\n",
    "        r\"^(?:(?!Control|Degree|Link).)*Intra(?:(?!Control|Degree|Link).)*$\",\n",
    "    ),\n",
    "    (FeatureGroups.Eco, r\"^(?:(?!Dependency).)*Ecosystem(?:(?!Degree|Link).)*$\"),\n",
    "    (FeatureGroups.DEco, r\"^(?!.*(Inverse|Non)).*(?=Dependency).*\"),\n",
    "    (FeatureGroups.IDEco, r\".*(?=Inverse).*\"),\n",
    "    (FeatureGroups.NDEco, r\".*(?=NonDependency).*\"),\n",
    "    (FeatureGroups.Coll, r\"^(?:(?!Intra).)*(Weighted|LinkIntensity)(?:(?!Intra).)*$\"),\n",
    "]\n",
    "\n",
    "# Resolves the regex patterns to generate lists of fields.\n",
    "var_groups = {\n",
    "    str(name): list(get_matching(independent_fields, pattern))\n",
    "    for name, pattern in var_group_regex_patterns\n",
    "}\n",
    "\n",
    "\n",
    "print(\"Feature groups:\")\n",
    "print(json.dumps(var_groups, indent=2))"
   ]
  },
  {
   "cell_type": "code",
   "execution_count": 11,
   "metadata": {
    "execution": {
     "iopub.execute_input": "2024-02-21T16:59:35.940241Z",
     "iopub.status.busy": "2024-02-21T16:59:35.940123Z",
     "iopub.status.idle": "2024-02-21T16:59:35.952626Z",
     "shell.execute_reply": "2024-02-21T16:59:35.952259Z"
    }
   },
   "outputs": [],
   "source": [
    "from wmutils.collections.list_access import flatten\n",
    "\n",
    "\n",
    "def get_feature_groups(*feature_groups) -> list[str]:\n",
    "    return list(flatten(var_groups[str(group)] for group in feature_groups))"
   ]
  },
  {
   "cell_type": "markdown",
   "metadata": {},
   "source": [
    "### Full Model"
   ]
  },
  {
   "cell_type": "code",
   "execution_count": 12,
   "metadata": {
    "execution": {
     "iopub.execute_input": "2024-02-21T16:59:35.954290Z",
     "iopub.status.busy": "2024-02-21T16:59:35.954173Z",
     "iopub.status.idle": "2024-02-21T17:03:57.143314Z",
     "shell.execute_reply": "2024-02-21T17:03:57.142892Z"
    }
   },
   "outputs": [
    {
     "name": "stdout",
     "output_type": "stream",
     "text": [
      "random_state=43"
     ]
    },
    {
     "name": "stdout",
     "output_type": "stream",
     "text": [
      "\n"
     ]
    },
    {
     "name": "stdout",
     "output_type": "stream",
     "text": [
      "random_state=43"
     ]
    },
    {
     "name": "stdout",
     "output_type": "stream",
     "text": [
      "\n"
     ]
    },
    {
     "name": "stdout",
     "output_type": "stream",
     "text": [
      "random_state=43"
     ]
    },
    {
     "name": "stdout",
     "output_type": "stream",
     "text": [
      "\n"
     ]
    },
    {
     "name": "stdout",
     "output_type": "stream",
     "text": [
      "random_state=43"
     ]
    },
    {
     "name": "stdout",
     "output_type": "stream",
     "text": [
      "\n"
     ]
    },
    {
     "name": "stdout",
     "output_type": "stream",
     "text": [
      "random_state=43"
     ]
    },
    {
     "name": "stdout",
     "output_type": "stream",
     "text": [
      "\n"
     ]
    },
    {
     "name": "stdout",
     "output_type": "stream",
     "text": [
      "metrics={'accuracy': 0.766627252186333, 'precision': 0.7922275187848429, 'recall': 0.8738748373527262, 'f1': 0.8310506153168118}\n"
     ]
    },
    {
     "name": "stdout",
     "output_type": "stream",
     "text": [
      "\n"
     ]
    },
    {
     "name": "stdout",
     "output_type": "stream",
     "text": [
      "Confusion matrix:\n",
      "[[16456 12858]\n",
      " [ 7076 49027]]\n"
     ]
    },
    {
     "name": "stdout",
     "output_type": "stream",
     "text": [
      "\n"
     ]
    },
    {
     "name": "stdout",
     "output_type": "stream",
     "text": [
      "Classification report:"
     ]
    },
    {
     "name": "stdout",
     "output_type": "stream",
     "text": [
      "\n"
     ]
    },
    {
     "name": "stdout",
     "output_type": "stream",
     "text": [
      "              precision    recall  f1-score   support\n",
      "\n",
      "       False       0.70      0.56      0.62     29314\n",
      "        True       0.79      0.87      0.83     56103\n",
      "\n",
      "    accuracy                           0.77     85417\n",
      "   macro avg       0.75      0.72      0.73     85417\n",
      "weighted avg       0.76      0.77      0.76     85417\n"
     ]
    },
    {
     "name": "stdout",
     "output_type": "stream",
     "text": [
      "\n"
     ]
    },
    {
     "name": "stdout",
     "output_type": "stream",
     "text": [
      "metrics={'accuracy': 0.7654916468618659, 'precision': 0.7931837289012481, 'recall': 0.8714186752873053, 'f1': 0.8304627129689973}\n"
     ]
    },
    {
     "name": "stdout",
     "output_type": "stream",
     "text": [
      "\n"
     ]
    },
    {
     "name": "stdout",
     "output_type": "stream",
     "text": [
      "Confusion matrix:\n",
      "[[16326 12792]\n",
      " [ 7239 49060]]\n"
     ]
    },
    {
     "name": "stdout",
     "output_type": "stream",
     "text": [
      "\n"
     ]
    },
    {
     "name": "stdout",
     "output_type": "stream",
     "text": [
      "Classification report:"
     ]
    },
    {
     "name": "stdout",
     "output_type": "stream",
     "text": [
      "\n"
     ]
    },
    {
     "name": "stdout",
     "output_type": "stream",
     "text": [
      "metrics={'accuracy': 0.7672009084842596, 'precision': 0.794295410471881, 'recall': 0.8729110057364093, 'f1': 0.8317496848215118}\n"
     ]
    },
    {
     "name": "stdout",
     "output_type": "stream",
     "text": [
      "\n"
     ]
    },
    {
     "name": "stdout",
     "output_type": "stream",
     "text": [
      "Confusion matrix:\n",
      "[[16381 12729]\n",
      " [ 7156 49151]]\n"
     ]
    },
    {
     "name": "stdout",
     "output_type": "stream",
     "text": [
      "\n"
     ]
    },
    {
     "name": "stdout",
     "output_type": "stream",
     "text": [
      "Classification report:"
     ]
    },
    {
     "name": "stdout",
     "output_type": "stream",
     "text": [
      "\n"
     ]
    },
    {
     "name": "stdout",
     "output_type": "stream",
     "text": [
      "              precision    recall  f1-score   support\n",
      "\n",
      "       False       0.69      0.56      0.62     29118\n",
      "        True       0.79      0.87      0.83     56299\n",
      "\n",
      "    accuracy                           0.77     85417\n",
      "   macro avg       0.74      0.72      0.73     85417\n",
      "weighted avg       0.76      0.77      0.76     85417\n"
     ]
    },
    {
     "name": "stdout",
     "output_type": "stream",
     "text": [
      "\n"
     ]
    },
    {
     "name": "stdout",
     "output_type": "stream",
     "text": [
      "              precision    recall  f1-score   support\n",
      "\n",
      "       False       0.70      0.56      0.62     29110\n",
      "        True       0.79      0.87      0.83     56307\n",
      "\n",
      "    accuracy                           0.77     85417\n",
      "   macro avg       0.75      0.72      0.73     85417\n",
      "weighted avg       0.76      0.77      0.76     85417\n"
     ]
    },
    {
     "name": "stdout",
     "output_type": "stream",
     "text": [
      "\n"
     ]
    },
    {
     "name": "stdout",
     "output_type": "stream",
     "text": [
      "metrics={'accuracy': 0.76594823044593, 'precision': 0.7915554908714565, 'recall': 0.8732939644252555, 'f1': 0.830418186444991}\n"
     ]
    },
    {
     "name": "stdout",
     "output_type": "stream",
     "text": [
      "\n"
     ]
    },
    {
     "name": "stdout",
     "output_type": "stream",
     "text": [
      "Confusion matrix:\n",
      "[[16476 12890]\n",
      " [ 7102 48949]]\n"
     ]
    },
    {
     "name": "stdout",
     "output_type": "stream",
     "text": [
      "\n"
     ]
    },
    {
     "name": "stdout",
     "output_type": "stream",
     "text": [
      "Classification report:"
     ]
    },
    {
     "name": "stdout",
     "output_type": "stream",
     "text": [
      "\n"
     ]
    },
    {
     "name": "stdout",
     "output_type": "stream",
     "text": [
      "              precision    recall  f1-score   support\n",
      "\n",
      "       False       0.70      0.56      0.62     29366\n",
      "        True       0.79      0.87      0.83     56051\n",
      "\n",
      "    accuracy                           0.77     85417\n",
      "   macro avg       0.75      0.72      0.73     85417\n",
      "weighted avg       0.76      0.77      0.76     85417\n"
     ]
    },
    {
     "name": "stdout",
     "output_type": "stream",
     "text": [
      "\n"
     ]
    },
    {
     "name": "stdout",
     "output_type": "stream",
     "text": [
      "metrics={'accuracy': 0.7652457941627545, 'precision': 0.7927517991415755, 'recall': 0.872057936028968, 'f1': 0.8305159239975657}\n"
     ]
    },
    {
     "name": "stdout",
     "output_type": "stream",
     "text": [
      "\n"
     ]
    },
    {
     "name": "stdout",
     "output_type": "stream",
     "text": [
      "Confusion matrix:\n",
      "[[16235 12844]\n",
      " [ 7208 49130]]\n"
     ]
    },
    {
     "name": "stdout",
     "output_type": "stream",
     "text": [
      "\n"
     ]
    },
    {
     "name": "stdout",
     "output_type": "stream",
     "text": [
      "Classification report:"
     ]
    },
    {
     "name": "stdout",
     "output_type": "stream",
     "text": [
      "\n"
     ]
    },
    {
     "name": "stdout",
     "output_type": "stream",
     "text": [
      "              precision    recall  f1-score   support\n",
      "\n",
      "       False       0.69      0.56      0.62     29079\n",
      "        True       0.79      0.87      0.83     56338\n",
      "\n",
      "    accuracy                           0.77     85417\n",
      "   macro avg       0.74      0.72      0.72     85417\n",
      "weighted avg       0.76      0.77      0.76     85417\n"
     ]
    },
    {
     "name": "stdout",
     "output_type": "stream",
     "text": [
      "\n"
     ]
    },
    {
     "name": "stdout",
     "output_type": "stream",
     "text": [
      "\n",
      "Performance metrics full model:\n",
      "f1_scores=[0.8310506153168118, 0.8304627129689973, 0.8317496848215118, 0.830418186444991, 0.8305159239975657]\n",
      "f1_mean=0.8308394247099755, f1_std=0.0005093488128341074\n"
     ]
    }
   ],
   "source": [
    "from python_proj.modelling.notebooks.random_forest.rf_functions import (\n",
    "    kfold_rf_evaluation,\n",
    ")\n",
    "\n",
    "f1_scores, f1_mean, f1_std = kfold_rf_evaluation(\n",
    "    df, independent_fields, k, pr_merged_key, seed_counter\n",
    ")\n",
    "\n",
    "print(\"\\nPerformance metrics full model:\")\n",
    "print(f\"{f1_scores=}\")\n",
    "print(f\"{f1_mean=}, {f1_std=}\")"
   ]
  },
  {
   "cell_type": "markdown",
   "metadata": {},
   "source": [
    "### Control + Intra-project Model"
   ]
  },
  {
   "cell_type": "code",
   "execution_count": 13,
   "metadata": {
    "execution": {
     "iopub.execute_input": "2024-02-21T17:03:57.145242Z",
     "iopub.status.busy": "2024-02-21T17:03:57.144935Z",
     "iopub.status.idle": "2024-02-21T17:05:44.312001Z",
     "shell.execute_reply": "2024-02-21T17:05:44.311593Z"
    }
   },
   "outputs": [
    {
     "name": "stdout",
     "output_type": "stream",
     "text": [
      "['ControlIntegratedBySameUser', 'ControlPullRequestHasComments', 'ControlPullRequestHasCommentByExternalUser', 'ControlHasHashTagInDescription', 'ln(1 + ControlPullRequestLifeTimeInMinutes)', 'ln(1 + ControlNumberOfCommitsInPullRequest)', 'ln(1 + ControlIntraProjectPullRequestExperienceOfIntegrator)', 'IntraProjectSubmitterPullRequestSuccessRate', 'ln(1 + IntraProjectSubmitterPullRequestSubmissionCount)', 'ln(1 + IntraProjectSubmitterPullRequestCommentCount)', 'ln(1 + IntraProjectSubmitterIssueSubmissionCount)', 'ln(1 + IntraProjectSubmitterIssueCommentCount)']\n"
     ]
    },
    {
     "name": "stdout",
     "output_type": "stream",
     "text": [
      "random_state=45"
     ]
    },
    {
     "name": "stdout",
     "output_type": "stream",
     "text": [
      "\n"
     ]
    },
    {
     "name": "stdout",
     "output_type": "stream",
     "text": [
      "random_state=45"
     ]
    },
    {
     "name": "stdout",
     "output_type": "stream",
     "text": [
      "\n"
     ]
    },
    {
     "name": "stdout",
     "output_type": "stream",
     "text": [
      "random_state=45"
     ]
    },
    {
     "name": "stdout",
     "output_type": "stream",
     "text": [
      "random_state=45"
     ]
    },
    {
     "name": "stdout",
     "output_type": "stream",
     "text": [
      "\n"
     ]
    },
    {
     "name": "stdout",
     "output_type": "stream",
     "text": [
      "\n"
     ]
    },
    {
     "name": "stdout",
     "output_type": "stream",
     "text": [
      "random_state=45"
     ]
    },
    {
     "name": "stdout",
     "output_type": "stream",
     "text": [
      "\n"
     ]
    },
    {
     "name": "stdout",
     "output_type": "stream",
     "text": [
      "metrics={'accuracy': 0.736094688410972, 'precision': 0.7819159596499432, 'recall': 0.8315512770416682, 'f1': 0.8059701492537314}\n"
     ]
    },
    {
     "name": "stdout",
     "output_type": "stream",
     "text": [
      "\n"
     ]
    },
    {
     "name": "stdout",
     "output_type": "stream",
     "text": [
      "Confusion matrix:\n",
      "[[16057 13058]\n",
      " [ 9484 46818]]\n"
     ]
    },
    {
     "name": "stdout",
     "output_type": "stream",
     "text": [
      "\n"
     ]
    },
    {
     "name": "stdout",
     "output_type": "stream",
     "text": [
      "Classification report:"
     ]
    },
    {
     "name": "stdout",
     "output_type": "stream",
     "text": [
      "\n"
     ]
    },
    {
     "name": "stdout",
     "output_type": "stream",
     "text": [
      "              precision    recall  f1-score   support\n",
      "\n",
      "       False       0.63      0.55      0.59     29115\n",
      "        True       0.78      0.83      0.81     56302\n",
      "\n",
      "    accuracy                           0.74     85417\n",
      "   macro avg       0.71      0.69      0.70     85417\n",
      "weighted avg       0.73      0.74      0.73     85417\n"
     ]
    },
    {
     "name": "stdout",
     "output_type": "stream",
     "text": [
      "\n"
     ]
    },
    {
     "name": "stdout",
     "output_type": "stream",
     "text": [
      "metrics={'accuracy': 0.7384127281454511, 'precision': 0.7815308953760779, 'recall': 0.8364839151387975, 'f1': 0.8080742140525683}\n"
     ]
    },
    {
     "name": "stdout",
     "output_type": "stream",
     "text": [
      "\n"
     ]
    },
    {
     "name": "stdout",
     "output_type": "stream",
     "text": [
      "Confusion matrix:\n",
      "[[16035 13149]\n",
      " [ 9195 47038]]\n"
     ]
    },
    {
     "name": "stdout",
     "output_type": "stream",
     "text": [
      "\n"
     ]
    },
    {
     "name": "stdout",
     "output_type": "stream",
     "text": [
      "Classification report:"
     ]
    },
    {
     "name": "stdout",
     "output_type": "stream",
     "text": [
      "\n"
     ]
    },
    {
     "name": "stdout",
     "output_type": "stream",
     "text": [
      "              precision    recall  f1-score   support\n",
      "\n",
      "       False       0.64      0.55      0.59     29184\n",
      "        True       0.78      0.84      0.81     56233\n",
      "\n",
      "    accuracy                           0.74     85417\n",
      "   macro avg       0.71      0.69      0.70     85417\n",
      "weighted avg       0.73      0.74      0.73     85417\n"
     ]
    },
    {
     "name": "stdout",
     "output_type": "stream",
     "text": [
      "\n"
     ]
    },
    {
     "name": "stdout",
     "output_type": "stream",
     "text": [
      "metrics={'accuracy': 0.7380380954610909, 'precision': 0.7820946790948958, 'recall': 0.8344096351247976, 'f1': 0.8074056222134237}\n"
     ]
    },
    {
     "name": "stdout",
     "output_type": "stream",
     "text": [
      "\n"
     ]
    },
    {
     "name": "stdout",
     "output_type": "stream",
     "text": [
      "Confusion matrix:\n",
      "[[16138 13068]\n",
      " [ 9308 46903]]\n"
     ]
    },
    {
     "name": "stdout",
     "output_type": "stream",
     "text": [
      "\n"
     ]
    },
    {
     "name": "stdout",
     "output_type": "stream",
     "text": [
      "Classification report:"
     ]
    },
    {
     "name": "stdout",
     "output_type": "stream",
     "text": [
      "\n"
     ]
    },
    {
     "name": "stdout",
     "output_type": "stream",
     "text": [
      "              precision    recall  f1-score   support\n",
      "\n",
      "       False       0.63      0.55      0.59     29206\n",
      "        True       0.78      0.83      0.81     56211\n",
      "\n",
      "    accuracy                           0.74     85417\n",
      "   macro avg       0.71      0.69      0.70     85417\n",
      "weighted avg       0.73      0.74      0.73     85417\n"
     ]
    },
    {
     "name": "stdout",
     "output_type": "stream",
     "text": [
      "\n"
     ]
    },
    {
     "name": "stdout",
     "output_type": "stream",
     "text": [
      "metrics={'accuracy': 0.7366449301661262, 'precision': 0.7810257861530522, 'recall': 0.8339613921575598, 'f1': 0.8066260347806652}\n"
     ]
    },
    {
     "name": "stdout",
     "output_type": "stream",
     "text": [
      "\n"
     ]
    },
    {
     "name": "stdout",
     "output_type": "stream",
     "text": [
      "Confusion matrix:\n",
      "[[16005 13154]\n",
      " [ 9341 46917]]\n"
     ]
    },
    {
     "name": "stdout",
     "output_type": "stream",
     "text": [
      "\n"
     ]
    },
    {
     "name": "stdout",
     "output_type": "stream",
     "text": [
      "Classification report:"
     ]
    },
    {
     "name": "stdout",
     "output_type": "stream",
     "text": [
      "\n"
     ]
    },
    {
     "name": "stdout",
     "output_type": "stream",
     "text": [
      "metrics={'accuracy': 0.7392439444138754, 'precision': 0.7807793846613645, 'recall': 0.8383071273219952, 'f1': 0.8085212472382459}\n"
     ]
    },
    {
     "name": "stdout",
     "output_type": "stream",
     "text": [
      "\n"
     ]
    },
    {
     "name": "stdout",
     "output_type": "stream",
     "text": [
      "Confusion matrix:\n",
      "[[16120 13203]\n",
      " [ 9070 47024]]\n"
     ]
    },
    {
     "name": "stdout",
     "output_type": "stream",
     "text": [
      "\n"
     ]
    },
    {
     "name": "stdout",
     "output_type": "stream",
     "text": [
      "Classification report:"
     ]
    },
    {
     "name": "stdout",
     "output_type": "stream",
     "text": [
      "\n"
     ]
    },
    {
     "name": "stdout",
     "output_type": "stream",
     "text": [
      "              precision    recall  f1-score   support\n",
      "\n",
      "       False       0.63      0.55      0.59     29159\n",
      "        True       0.78      0.83      0.81     56258\n",
      "\n",
      "    accuracy                           0.74     85417\n",
      "   macro avg       0.71      0.69      0.70     85417\n",
      "weighted avg       0.73      0.74      0.73     85417\n"
     ]
    },
    {
     "name": "stdout",
     "output_type": "stream",
     "text": [
      "\n"
     ]
    },
    {
     "name": "stdout",
     "output_type": "stream",
     "text": [
      "              precision    recall  f1-score   support\n",
      "\n",
      "       False       0.64      0.55      0.59     29323\n",
      "        True       0.78      0.84      0.81     56094\n",
      "\n",
      "    accuracy                           0.74     85417\n",
      "   macro avg       0.71      0.69      0.70     85417\n",
      "weighted avg       0.73      0.74      0.73     85417\n"
     ]
    },
    {
     "name": "stdout",
     "output_type": "stream",
     "text": [
      "\n"
     ]
    },
    {
     "name": "stdout",
     "output_type": "stream",
     "text": [
      "\n",
      "Performance metrics control + intra model:\n",
      "f1_scores=[0.8059701492537314, 0.8080742140525683, 0.8074056222134237, 0.8066260347806652, 0.8085212472382459]\n",
      "f1_mean=0.8073194535077268, f1_std=0.0009298223698638006\n"
     ]
    }
   ],
   "source": [
    "contr_with_intra = get_feature_groups(FeatureGroups.Control, FeatureGroups.Intra)\n",
    "print(contr_with_intra)\n",
    "\n",
    "f1_scores, f1_mean, f1_std = kfold_rf_evaluation(\n",
    "    df, contr_with_intra, k, pr_merged_key, seed_counter\n",
    ")\n",
    "\n",
    "print(\"\\nPerformance metrics control + intra model:\")\n",
    "print(f\"{f1_scores=}\")\n",
    "print(f\"{f1_mean=}, {f1_std=}\")"
   ]
  },
  {
   "cell_type": "markdown",
   "metadata": {},
   "source": [
    "### Collaboration and Ecosystem Model"
   ]
  },
  {
   "cell_type": "code",
   "execution_count": 14,
   "metadata": {
    "execution": {
     "iopub.execute_input": "2024-02-21T17:05:44.313690Z",
     "iopub.status.busy": "2024-02-21T17:05:44.313540Z",
     "iopub.status.idle": "2024-02-21T17:07:46.926306Z",
     "shell.execute_reply": "2024-02-21T17:07:46.925872Z"
    }
   },
   "outputs": [
    {
     "name": "stdout",
     "output_type": "stream",
     "text": [
      "['EcosystemExperienceSubmitterPullRequestSuccessRate', 'ln(1 + EcosystemExperienceSubmitterPullRequestSubmissionCount)', 'ln(1 + EcosystemExperienceSubmitterPullRequestCommentCount)', 'ln(1 + EcosystemExperienceSubmitterIssueSubmissionCount)', 'ln(1 + EcosystemExperienceSubmitterIssueCommentCount)', 'DependencyEcosystemExperienceSubmitterPullRequestSuccessRate', 'ln(1 + DependencyEcosystemExperienceSubmitterPullRequestSubmissionCount)', 'ln(1 + DependencyEcosystemExperienceSubmitterPullRequestCommentCount)', 'ln(1 + DependencyEcosystemExperienceSubmitterIssueSubmissionCount)', 'ln(1 + DependencyEcosystemExperienceSubmitterIssueCommentCount)', 'InversedDependencyEcosystemExperienceSubmitterPullRequestSuccessRate', 'ln(1 + InversedDependencyEcosystemExperienceSubmitterPullRequestSubmissionCount)', 'ln(1 + InversedDependencyEcosystemExperienceSubmitterPullRequestCommentCount)', 'ln(1 + InversedDependencyEcosystemExperienceSubmitterIssueSubmissionCount)', 'ln(1 + InversedDependencyEcosystemExperienceSubmitterIssueCommentCount)', 'NonDependencyEcosystemExperienceSubmitterPullRequestSuccessRate', 'ln(1 + NonDependencyEcosystemExperienceSubmitterPullRequestSubmissionCount)', 'ln(1 + NonDependencyEcosystemExperienceSubmitterPullRequestCommentCount)', 'ln(1 + NonDependencyEcosystemExperienceSubmitterIssueSubmissionCount)', 'ln(1 + NonDependencyEcosystemExperienceSubmitterIssueCommentCount)', 'ln(1 + WeightedEcosystemSecondOrderDegreeCentrality)', 'ln(1 + EcosystemLinkIntensity)']\n"
     ]
    },
    {
     "name": "stdout",
     "output_type": "stream",
     "text": [
      "random_state=47"
     ]
    },
    {
     "name": "stdout",
     "output_type": "stream",
     "text": [
      "\n"
     ]
    },
    {
     "name": "stdout",
     "output_type": "stream",
     "text": [
      "random_state=47"
     ]
    },
    {
     "name": "stdout",
     "output_type": "stream",
     "text": [
      "\n"
     ]
    },
    {
     "name": "stdout",
     "output_type": "stream",
     "text": [
      "random_state=47"
     ]
    },
    {
     "name": "stdout",
     "output_type": "stream",
     "text": [
      "random_state=47"
     ]
    },
    {
     "name": "stdout",
     "output_type": "stream",
     "text": [
      "\n"
     ]
    },
    {
     "name": "stdout",
     "output_type": "stream",
     "text": [
      "\n"
     ]
    },
    {
     "name": "stdout",
     "output_type": "stream",
     "text": [
      "random_state=47"
     ]
    },
    {
     "name": "stdout",
     "output_type": "stream",
     "text": [
      "\n"
     ]
    },
    {
     "name": "stdout",
     "output_type": "stream",
     "text": [
      "metrics={'accuracy': 0.6377887305805636, 'precision': 0.6574945782301839, 'recall': 0.9354867477615667, 'f1': 0.772234369133594}\n"
     ]
    },
    {
     "name": "stdout",
     "output_type": "stream",
     "text": [
      "\n"
     ]
    },
    {
     "name": "stdout",
     "output_type": "stream",
     "text": [
      "Confusion matrix:\n",
      "[[ 2029 27322]\n",
      " [ 3617 52449]]\n"
     ]
    },
    {
     "name": "stdout",
     "output_type": "stream",
     "text": [
      "\n"
     ]
    },
    {
     "name": "stdout",
     "output_type": "stream",
     "text": [
      "Classification report:"
     ]
    },
    {
     "name": "stdout",
     "output_type": "stream",
     "text": [
      "\n"
     ]
    },
    {
     "name": "stdout",
     "output_type": "stream",
     "text": [
      "              precision    recall  f1-score   support\n",
      "\n",
      "       False       0.36      0.07      0.12     29351\n",
      "        True       0.66      0.94      0.77     56066\n",
      "\n",
      "    accuracy                           0.64     85417\n",
      "   macro avg       0.51      0.50      0.44     85417\n",
      "weighted avg       0.56      0.64      0.55     85417\n"
     ]
    },
    {
     "name": "stdout",
     "output_type": "stream",
     "text": [
      "\n"
     ]
    },
    {
     "name": "stdout",
     "output_type": "stream",
     "text": [
      "metrics={'accuracy': 0.6428111500052682, 'precision': 0.6627217448112971, 'recall': 0.9350515829404049, 'f1': 0.7756782589515477}\n"
     ]
    },
    {
     "name": "stdout",
     "output_type": "stream",
     "text": [
      "\n"
     ]
    },
    {
     "name": "stdout",
     "output_type": "stream",
     "text": [
      "Confusion matrix:\n",
      "[[ 2157 26846]\n",
      " [ 3664 52750]]\n"
     ]
    },
    {
     "name": "stdout",
     "output_type": "stream",
     "text": [
      "\n"
     ]
    },
    {
     "name": "stdout",
     "output_type": "stream",
     "text": [
      "Classification report:"
     ]
    },
    {
     "name": "stdout",
     "output_type": "stream",
     "text": [
      "\n"
     ]
    },
    {
     "name": "stdout",
     "output_type": "stream",
     "text": [
      "              precision    recall  f1-score   support\n",
      "\n",
      "       False       0.37      0.07      0.12     29003\n",
      "        True       0.66      0.94      0.78     56414\n",
      "\n",
      "    accuracy                           0.64     85417\n",
      "   macro avg       0.52      0.50      0.45     85417\n",
      "weighted avg       0.56      0.64      0.55     85417\n"
     ]
    },
    {
     "name": "stdout",
     "output_type": "stream",
     "text": [
      "\n"
     ]
    },
    {
     "name": "stdout",
     "output_type": "stream",
     "text": [
      "metrics={'accuracy': 0.6403994520996992, 'precision': 0.6611947620664931, 'recall': 0.9328778063714616, 'f1': 0.7738843656601052}\n"
     ]
    },
    {
     "name": "stdout",
     "output_type": "stream",
     "text": [
      "\n"
     ]
    },
    {
     "name": "stdout",
     "output_type": "stream",
     "text": [
      "Confusion matrix:\n",
      "[[ 2138 26934]\n",
      " [ 3782 52563]]\n"
     ]
    },
    {
     "name": "stdout",
     "output_type": "stream",
     "text": [
      "\n"
     ]
    },
    {
     "name": "stdout",
     "output_type": "stream",
     "text": [
      "Classification report:"
     ]
    },
    {
     "name": "stdout",
     "output_type": "stream",
     "text": [
      "\n"
     ]
    },
    {
     "name": "stdout",
     "output_type": "stream",
     "text": [
      "              precision    recall  f1-score   support\n",
      "\n",
      "       False       0.36      0.07      0.12     29072\n",
      "        True       0.66      0.93      0.77     56345\n",
      "\n",
      "    accuracy                           0.64     85417\n",
      "   macro avg       0.51      0.50      0.45     85417\n",
      "weighted avg       0.56      0.64      0.55     85417\n"
     ]
    },
    {
     "name": "stdout",
     "output_type": "stream",
     "text": [
      "\n"
     ]
    },
    {
     "name": "stdout",
     "output_type": "stream",
     "text": [
      "metrics={'accuracy': 0.6380579978224475, 'precision': 0.6582690422938707, 'recall': 0.9337171169886647, 'f1': 0.7721638392264949}\n"
     ]
    },
    {
     "name": "stdout",
     "output_type": "stream",
     "text": [
      "\n"
     ]
    },
    {
     "name": "stdout",
     "output_type": "stream",
     "text": [
      "Confusion matrix:\n",
      "[[ 2112 27197]\n",
      " [ 3719 52389]]\n"
     ]
    },
    {
     "name": "stdout",
     "output_type": "stream",
     "text": [
      "\n"
     ]
    },
    {
     "name": "stdout",
     "output_type": "stream",
     "text": [
      "Classification report:"
     ]
    },
    {
     "name": "stdout",
     "output_type": "stream",
     "text": [
      "\n"
     ]
    },
    {
     "name": "stdout",
     "output_type": "stream",
     "text": [
      "              precision    recall  f1-score   support\n",
      "\n",
      "       False       0.36      0.07      0.12     29309\n",
      "        True       0.66      0.93      0.77     56108\n",
      "\n",
      "    accuracy                           0.64     85417\n",
      "   macro avg       0.51      0.50      0.45     85417\n",
      "weighted avg       0.56      0.64      0.55     85417\n"
     ]
    },
    {
     "name": "stdout",
     "output_type": "stream",
     "text": [
      "\n"
     ]
    },
    {
     "name": "stdout",
     "output_type": "stream",
     "text": [
      "metrics={'accuracy': 0.6390297013475069, 'precision': 0.6589209535759096, 'recall': 0.9350307130775394, 'f1': 0.7730614948662275}\n"
     ]
    },
    {
     "name": "stdout",
     "output_type": "stream",
     "text": [
      "\n"
     ]
    },
    {
     "name": "stdout",
     "output_type": "stream",
     "text": [
      "Confusion matrix:\n",
      "[[ 2068 27184]\n",
      " [ 3649 52516]]\n"
     ]
    },
    {
     "name": "stdout",
     "output_type": "stream",
     "text": [
      "\n"
     ]
    },
    {
     "name": "stdout",
     "output_type": "stream",
     "text": [
      "Classification report:"
     ]
    },
    {
     "name": "stdout",
     "output_type": "stream",
     "text": [
      "\n"
     ]
    },
    {
     "name": "stdout",
     "output_type": "stream",
     "text": [
      "              precision    recall  f1-score   support\n",
      "\n",
      "       False       0.36      0.07      0.12     29252\n",
      "        True       0.66      0.94      0.77     56165\n",
      "\n",
      "    accuracy                           0.64     85417\n",
      "   macro avg       0.51      0.50      0.45     85417\n",
      "weighted avg       0.56      0.64      0.55     85417\n"
     ]
    },
    {
     "name": "stdout",
     "output_type": "stream",
     "text": [
      "\n"
     ]
    },
    {
     "name": "stdout",
     "output_type": "stream",
     "text": [
      "\n",
      "Performance metrics non-control model:\n",
      "f1_scores=[0.772234369133594, 0.7756782589515477, 0.7738843656601052, 0.7721638392264949, 0.7730614948662275]\n",
      "f1_mean=0.7734044655675939, f1_std=0.0012981793972166036\n"
     ]
    }
   ],
   "source": [
    "non_control_intra_fields = get_feature_groups(\n",
    "    FeatureGroups.Eco,\n",
    "    FeatureGroups.DEco,\n",
    "    FeatureGroups.IDEco,\n",
    "    FeatureGroups.NDEco,\n",
    "    FeatureGroups.Coll,\n",
    ")\n",
    "print(non_control_intra_fields)\n",
    "\n",
    "f1_scores, f1_mean, f1_std = kfold_rf_evaluation(\n",
    "    df, non_control_intra_fields, k, pr_merged_key, seed_counter\n",
    ")\n",
    "\n",
    "print(\"\\nPerformance metrics non-control model:\")\n",
    "print(f\"{f1_scores=}\")\n",
    "print(f\"{f1_mean=}, {f1_std=}\")"
   ]
  },
  {
   "cell_type": "markdown",
   "metadata": {},
   "source": [
    "## Feature Explanation and Evaluation"
   ]
  },
  {
   "cell_type": "markdown",
   "metadata": {},
   "source": [
    "### Model Creation"
   ]
  },
  {
   "cell_type": "code",
   "execution_count": 15,
   "metadata": {
    "execution": {
     "iopub.execute_input": "2024-02-21T17:07:46.928188Z",
     "iopub.status.busy": "2024-02-21T17:07:46.928058Z",
     "iopub.status.idle": "2024-02-21T17:11:03.386137Z",
     "shell.execute_reply": "2024-02-21T17:11:03.385670Z"
    }
   },
   "outputs": [
    {
     "name": "stdout",
     "output_type": "stream",
     "text": [
      "random_state=49\n"
     ]
    },
    {
     "name": "stdout",
     "output_type": "stream",
     "text": [
      "metrics={'accuracy': 0.7665570085580153, 'precision': 0.7931923170435206, 'recall': 0.872035212146052, 'f1': 0.8307472922962008}\n",
      "\n",
      "Confusion matrix:\n",
      "[[16541 12759]\n",
      " [ 7181 48936]]\n",
      "\n",
      "Classification report:\n",
      "              precision    recall  f1-score   support\n",
      "\n",
      "       False       0.70      0.56      0.62     29300\n",
      "        True       0.79      0.87      0.83     56117\n",
      "\n",
      "    accuracy                           0.77     85417\n",
      "   macro avg       0.75      0.72      0.73     85417\n",
      "weighted avg       0.76      0.77      0.76     85417\n",
      "\n"
     ]
    }
   ],
   "source": [
    "from sklearn.model_selection import train_test_split\n",
    "\n",
    "from python_proj.modelling.notebooks.random_forest.rf_functions import create_model\n",
    "\n",
    "\n",
    "train, test = train_test_split(df, test_size=0.2, shuffle=True)\n",
    "train_predictors = train[independent_fields]\n",
    "train_dependent = train[pr_merged_key]\n",
    "test_predictors = test[independent_fields]\n",
    "test_dependent = test[pr_merged_key]\n",
    "\n",
    "\n",
    "full_rf_model, _ = create_model(\n",
    "    train_predictors, train_dependent, test_predictors, test_dependent, seed_counter\n",
    ")"
   ]
  },
  {
   "cell_type": "markdown",
   "metadata": {},
   "source": [
    "### Mean decrease in Impurity"
   ]
  },
  {
   "cell_type": "code",
   "execution_count": 16,
   "metadata": {
    "execution": {
     "iopub.execute_input": "2024-02-21T17:11:03.387813Z",
     "iopub.status.busy": "2024-02-21T17:11:03.387688Z",
     "iopub.status.idle": "2024-02-21T17:11:03.811018Z",
     "shell.execute_reply": "2024-02-21T17:11:03.810675Z"
    }
   },
   "outputs": [
    {
     "name": "stderr",
     "output_type": "stream",
     "text": [
      "/tmp/ipykernel_104019/1648129876.py:16: UserWarning: Tight layout not applied. The bottom and top margins cannot be made large enough to accommodate all axes decorations.\n",
      "  plt.tight_layout()\n"
     ]
    },
    {
     "data": {
      "image/png": "[encoded data removed]",
      "text/plain": [
       "<Figure size 1000x600 with 1 Axes>"
      ]
     },
     "metadata": {},
     "output_type": "display_data"
    }
   ],
   "source": [
    "from matplotlib import pyplot as plt\n",
    "\n",
    "feature_importances = full_rf_model.feature_importances_\n",
    "\n",
    "sorted_indices = np.argsort(feature_importances)[::-1]\n",
    "sorted_importances = feature_importances[sorted_indices]\n",
    "\n",
    "# Step 4: Plot the mean decrease accuracy plot\n",
    "plt.figure(figsize=(10, 6))\n",
    "plt.bar(range(test_predictors.shape[1]), sorted_importances)\n",
    "plt.xlabel(\"Feature Index\")\n",
    "plt.ylabel(\"Mean Decrease in Gini\")\n",
    "plt.title(\"Mean Decrease in Gini of Features\")\n",
    "ordererd_columns = np.array(test_predictors.columns)[sorted_indices]\n",
    "plt.xticks(range(test_predictors.shape[1]), ordererd_columns, rotation=90)\n",
    "plt.tight_layout()\n",
    "plt.show()"
   ]
  },
  {
   "cell_type": "code",
   "execution_count": 17,
   "metadata": {
    "execution": {
     "iopub.execute_input": "2024-02-21T17:11:03.814041Z",
     "iopub.status.busy": "2024-02-21T17:11:03.813874Z",
     "iopub.status.idle": "2024-02-21T17:11:03.840067Z",
     "shell.execute_reply": "2024-02-21T17:11:03.839743Z"
    }
   },
   "outputs": [
    {
     "name": "stdout",
     "output_type": "stream",
     "text": [
      "ln(1 + ControlPullRequestLifeTimeInMinutes): 0.4215065413321492\n",
      "ControlIntegratedBySameUser: 0.09999691397240791\n",
      "ln(1 + ControlIntraProjectPullRequestExperienceOfIntegrator): 0.08849968391022102\n",
      "ln(1 + WeightedEcosystemSecondOrderDegreeCentrality): 0.05926974470515328\n",
      "ln(1 + ControlNumberOfCommitsInPullRequest): 0.041865486825591096\n",
      "ControlPullRequestHasComments: 0.03432197360312389\n",
      "EcosystemExperienceSubmitterPullRequestSuccessRate: 0.031558272193249456\n",
      "ln(1 + EcosystemExperienceSubmitterIssueCommentCount): 0.020551645267282082\n",
      "ln(1 + NonDependencyEcosystemExperienceSubmitterIssueCommentCount): 0.019771860278340502\n",
      "ln(1 + IntraProjectSubmitterPullRequestCommentCount): 0.018743245740212418\n",
      "ln(1 + IntraProjectSubmitterIssueCommentCount): 0.016393117387124873\n",
      "ln(1 + EcosystemExperienceSubmitterPullRequestCommentCount): 0.015394228614531054\n",
      "ln(1 + NonDependencyEcosystemExperienceSubmitterPullRequestCommentCount): 0.014031531178270154\n",
      "ln(1 + EcosystemExperienceSubmitterPullRequestSubmissionCount): 0.0139714258948926\n",
      "ln(1 + EcosystemExperienceSubmitterIssueSubmissionCount): 0.013671432457198976\n",
      "ln(1 + NonDependencyEcosystemExperienceSubmitterIssueSubmissionCount): 0.013557326024622769\n",
      "ControlHasHashTagInDescription: 0.013446810751615112\n",
      "ControlPullRequestHasCommentByExternalUser: 0.013136037582241996\n",
      "ln(1 + NonDependencyEcosystemExperienceSubmitterPullRequestSubmissionCount): 0.011914381122056115\n",
      "ln(1 + IntraProjectSubmitterIssueSubmissionCount): 0.010278964142105409\n",
      "NonDependencyEcosystemExperienceSubmitterPullRequestSuccessRate: 0.007076664019340456\n",
      "ln(1 + EcosystemLinkIntensity): 0.0070338952527060905\n",
      "DependencyEcosystemExperienceSubmitterPullRequestSuccessRate: 0.002489028129913743\n",
      "ln(1 + InversedDependencyEcosystemExperienceSubmitterIssueCommentCount): 0.0016752726551096141\n",
      "InversedDependencyEcosystemExperienceSubmitterPullRequestSuccessRate: 0.0015511620248472027\n",
      "ln(1 + InversedDependencyEcosystemExperienceSubmitterPullRequestCommentCount): 0.0014120645350645218\n",
      "ln(1 + DependencyEcosystemExperienceSubmitterPullRequestCommentCount): 0.0013303217121174852\n",
      "ln(1 + InversedDependencyEcosystemExperienceSubmitterPullRequestSubmissionCount): 0.0012586350885325753\n",
      "ln(1 + DependencyEcosystemExperienceSubmitterIssueCommentCount): 0.0012455108281700196\n",
      "ln(1 + DependencyEcosystemExperienceSubmitterPullRequestSubmissionCount): 0.0011267249756554138\n",
      "ln(1 + InversedDependencyEcosystemExperienceSubmitterIssueSubmissionCount): 0.0010247563743838294\n",
      "ln(1 + DependencyEcosystemExperienceSubmitterIssueSubmissionCount): 0.0008953414217689985\n",
      "ln(1 + IntraProjectSubmitterPullRequestSubmissionCount): 0.0\n",
      "IntraProjectSubmitterPullRequestSuccessRate: 0.0\n"
     ]
    }
   ],
   "source": [
    "# Stores feature importances in file.\n",
    "output_file = f\"{figure_base_path}/feature_importance.txt\"\n",
    "with open(output_file, \"w+\", encoding=\"utf-8\") as output_file:\n",
    "    for field, importance in zip(ordererd_columns, sorted_importances):\n",
    "        entry = f\"{field}: {importance}\"\n",
    "        output_file.write(f'{entry}\\n')\n",
    "        print(entry)"
   ]
  },
  {
   "cell_type": "markdown",
   "metadata": {},
   "source": [
    "### Variable Group Reverse Ablation Studies\n",
    "\n",
    "Creates a model with a subset of features.\n",
    "Compared to regular ablation, it tests \"what happens if I add a feature\", instead of \"what happens when I remove one\"."
   ]
  },
  {
   "cell_type": "code",
   "execution_count": 18,
   "metadata": {
    "execution": {
     "iopub.execute_input": "2024-02-21T17:11:03.841562Z",
     "iopub.status.busy": "2024-02-21T17:11:03.841442Z",
     "iopub.status.idle": "2024-02-21T17:14:35.381777Z",
     "shell.execute_reply": "2024-02-21T17:14:35.381216Z"
    }
   },
   "outputs": [
    {
     "name": "stdout",
     "output_type": "stream",
     "text": [
      "Reverse ablation with \"FeatureGroups.Control\", including: ['ControlIntegratedBySameUser', 'ControlPullRequestHasComments', 'ControlPullRequestHasCommentByExternalUser', 'ControlHasHashTagInDescription', 'ln(1 + ControlPullRequestLifeTimeInMinutes)', 'ln(1 + ControlNumberOfCommitsInPullRequest)', 'ln(1 + ControlIntraProjectPullRequestExperienceOfIntegrator)'].\n"
     ]
    },
    {
     "name": "stdout",
     "output_type": "stream",
     "text": [
      "random_state=50"
     ]
    },
    {
     "name": "stdout",
     "output_type": "stream",
     "text": [
      "\n"
     ]
    },
    {
     "name": "stdout",
     "output_type": "stream",
     "text": [
      "random_state=50"
     ]
    },
    {
     "name": "stdout",
     "output_type": "stream",
     "text": [
      "\n"
     ]
    },
    {
     "name": "stdout",
     "output_type": "stream",
     "text": [
      "random_state=50"
     ]
    },
    {
     "name": "stdout",
     "output_type": "stream",
     "text": [
      "\n"
     ]
    },
    {
     "name": "stdout",
     "output_type": "stream",
     "text": [
      "random_state=50"
     ]
    },
    {
     "name": "stdout",
     "output_type": "stream",
     "text": [
      "random_state=50"
     ]
    },
    {
     "name": "stdout",
     "output_type": "stream",
     "text": [
      "\n"
     ]
    },
    {
     "name": "stdout",
     "output_type": "stream",
     "text": [
      "\n"
     ]
    },
    {
     "name": "stdout",
     "output_type": "stream",
     "text": [
      "metrics={'accuracy': 0.724293758853624, 'precision': 0.7759862951579584, 'recall': 0.8189843126827971, 'f1': 0.7969057228603953}\n"
     ]
    },
    {
     "name": "stdout",
     "output_type": "stream",
     "text": [
      "\n"
     ]
    },
    {
     "name": "stdout",
     "output_type": "stream",
     "text": [
      "Confusion matrix:\n",
      "[[15664 13338]\n",
      " [10212 46203]]\n"
     ]
    },
    {
     "name": "stdout",
     "output_type": "stream",
     "text": [
      "\n"
     ]
    },
    {
     "name": "stdout",
     "output_type": "stream",
     "text": [
      "Classification report:"
     ]
    },
    {
     "name": "stdout",
     "output_type": "stream",
     "text": [
      "\n"
     ]
    },
    {
     "name": "stdout",
     "output_type": "stream",
     "text": [
      "              precision    recall  f1-score   support\n",
      "\n",
      "       False       0.61      0.54      0.57     29002\n",
      "        True       0.78      0.82      0.80     56415\n",
      "\n",
      "    accuracy                           0.72     85417\n",
      "   macro avg       0.69      0.68      0.68     85417\n",
      "weighted avg       0.72      0.72      0.72     85417\n"
     ]
    },
    {
     "name": "stdout",
     "output_type": "stream",
     "text": [
      "\n"
     ]
    },
    {
     "name": "stdout",
     "output_type": "stream",
     "text": [
      "metrics={'accuracy': 0.7251483896648209, 'precision': 0.7740918919825, 'recall': 0.822000711997152, 'f1': 0.7973272788487271}\n"
     ]
    },
    {
     "name": "stdout",
     "output_type": "stream",
     "text": [
      "\n"
     ]
    },
    {
     "name": "stdout",
     "output_type": "stream",
     "text": [
      "Confusion matrix:\n",
      "[[15760 13477]\n",
      " [10000 46180]]\n"
     ]
    },
    {
     "name": "stdout",
     "output_type": "stream",
     "text": [
      "\n"
     ]
    },
    {
     "name": "stdout",
     "output_type": "stream",
     "text": [
      "Classification report:"
     ]
    },
    {
     "name": "stdout",
     "output_type": "stream",
     "text": [
      "\n"
     ]
    },
    {
     "name": "stdout",
     "output_type": "stream",
     "text": [
      "metrics={'accuracy': 0.7229357153728181, 'precision': 0.7716916380681342, 'recall': 0.8213273942093541, 'f1': 0.79573623338512}\n"
     ]
    },
    {
     "name": "stdout",
     "output_type": "stream",
     "text": [
      "\n"
     ]
    },
    {
     "name": "stdout",
     "output_type": "stream",
     "text": [
      "Confusion matrix:\n",
      "[[15654 13638]\n",
      " [10028 46097]]\n"
     ]
    },
    {
     "name": "stdout",
     "output_type": "stream",
     "text": [
      "\n"
     ]
    },
    {
     "name": "stdout",
     "output_type": "stream",
     "text": [
      "Classification report:"
     ]
    },
    {
     "name": "stdout",
     "output_type": "stream",
     "text": [
      "\n"
     ]
    },
    {
     "name": "stdout",
     "output_type": "stream",
     "text": [
      "              precision    recall  f1-score   support\n",
      "\n",
      "       False       0.61      0.54      0.57     29237\n",
      "        True       0.77      0.82      0.80     56180\n",
      "\n",
      "    accuracy                           0.73     85417\n",
      "   macro avg       0.69      0.68      0.69     85417\n",
      "weighted avg       0.72      0.73      0.72     85417\n"
     ]
    },
    {
     "name": "stdout",
     "output_type": "stream",
     "text": [
      "\n"
     ]
    },
    {
     "name": "stdout",
     "output_type": "stream",
     "text": [
      "metrics={'accuracy': 0.7213669410070594, 'precision': 0.7705427912109963, 'recall': 0.8205420420955162, 'f1': 0.7947568126940323}\n"
     ]
    },
    {
     "name": "stdout",
     "output_type": "stream",
     "text": [
      "\n"
     ]
    },
    {
     "name": "stdout",
     "output_type": "stream",
     "text": [
      "Confusion matrix:\n",
      "[[15537 13722]\n",
      " [10078 46080]]\n"
     ]
    },
    {
     "name": "stdout",
     "output_type": "stream",
     "text": [
      "\n"
     ]
    },
    {
     "name": "stdout",
     "output_type": "stream",
     "text": [
      "Classification report:"
     ]
    },
    {
     "name": "stdout",
     "output_type": "stream",
     "text": [
      "\n"
     ]
    },
    {
     "name": "stdout",
     "output_type": "stream",
     "text": [
      "              precision    recall  f1-score   support\n",
      "\n",
      "       False       0.61      0.53      0.57     29292\n",
      "        True       0.77      0.82      0.80     56125\n",
      "\n",
      "    accuracy                           0.72     85417\n",
      "   macro avg       0.69      0.68      0.68     85417\n",
      "weighted avg       0.72      0.72      0.72     85417\n"
     ]
    },
    {
     "name": "stdout",
     "output_type": "stream",
     "text": [
      "\n"
     ]
    },
    {
     "name": "stdout",
     "output_type": "stream",
     "text": [
      "metrics={'accuracy': 0.7244927824671904, 'precision': 0.7744177846432829, 'recall': 0.820384204909285, 'f1': 0.7967385577446298}\n"
     ]
    },
    {
     "name": "stdout",
     "output_type": "stream",
     "text": [
      "\n"
     ]
    },
    {
     "name": "stdout",
     "output_type": "stream",
     "text": [
      "Confusion matrix:\n",
      "[[15762 13435]\n",
      " [10098 46122]]\n"
     ]
    },
    {
     "name": "stdout",
     "output_type": "stream",
     "text": [
      "\n"
     ]
    },
    {
     "name": "stdout",
     "output_type": "stream",
     "text": [
      "Classification report:"
     ]
    },
    {
     "name": "stdout",
     "output_type": "stream",
     "text": [
      "\n"
     ]
    },
    {
     "name": "stdout",
     "output_type": "stream",
     "text": [
      "              precision    recall  f1-score   support\n",
      "\n",
      "       False       0.61      0.53      0.57     29259\n",
      "        True       0.77      0.82      0.79     56158\n",
      "\n",
      "    accuracy                           0.72     85417\n",
      "   macro avg       0.69      0.68      0.68     85417\n",
      "weighted avg       0.71      0.72      0.72     85417\n"
     ]
    },
    {
     "name": "stdout",
     "output_type": "stream",
     "text": [
      "\n"
     ]
    },
    {
     "name": "stdout",
     "output_type": "stream",
     "text": [
      "              precision    recall  f1-score   support\n",
      "\n",
      "       False       0.61      0.54      0.57     29197\n",
      "        True       0.77      0.82      0.80     56220\n",
      "\n",
      "    accuracy                           0.72     85417\n",
      "   macro avg       0.69      0.68      0.68     85417\n",
      "weighted avg       0.72      0.72      0.72     85417\n"
     ]
    },
    {
     "name": "stdout",
     "output_type": "stream",
     "text": [
      "\n"
     ]
    },
    {
     "name": "stdout",
     "output_type": "stream",
     "text": [
      "Performance of 'FeatureGroups.Control'\n",
      "['ControlIntegratedBySameUser', 'ControlPullRequestHasComments', 'ControlPullRequestHasCommentByExternalUser', 'ControlHasHashTagInDescription', 'ln(1 + ControlPullRequestLifeTimeInMinutes)', 'ln(1 + ControlNumberOfCommitsInPullRequest)', 'ln(1 + ControlIntraProjectPullRequestExperienceOfIntegrator)']\n",
      "f1_scores=[0.7969057228603953, 0.7973272788487271, 0.79573623338512, 0.7947568126940323, 0.7967385577446298]\n",
      "f1_mean=0.7962929211065809, f1_std=0.0009288212116134273\n",
      "\n",
      "Reverse ablation with \"FeatureGroups.Intra\", including: ['IntraProjectSubmitterPullRequestSuccessRate', 'ln(1 + IntraProjectSubmitterPullRequestSubmissionCount)', 'ln(1 + IntraProjectSubmitterPullRequestCommentCount)', 'ln(1 + IntraProjectSubmitterIssueSubmissionCount)', 'ln(1 + IntraProjectSubmitterIssueCommentCount)'].\n"
     ]
    },
    {
     "name": "stdout",
     "output_type": "stream",
     "text": [
      "random_state=52"
     ]
    },
    {
     "name": "stdout",
     "output_type": "stream",
     "text": [
      "\n"
     ]
    },
    {
     "name": "stdout",
     "output_type": "stream",
     "text": [
      "random_state=52"
     ]
    },
    {
     "name": "stdout",
     "output_type": "stream",
     "text": [
      "\n"
     ]
    },
    {
     "name": "stdout",
     "output_type": "stream",
     "text": [
      "random_state=52"
     ]
    },
    {
     "name": "stdout",
     "output_type": "stream",
     "text": [
      "\n"
     ]
    },
    {
     "name": "stdout",
     "output_type": "stream",
     "text": [
      "random_state=52"
     ]
    },
    {
     "name": "stdout",
     "output_type": "stream",
     "text": [
      "\n"
     ]
    },
    {
     "name": "stdout",
     "output_type": "stream",
     "text": [
      "random_state=52"
     ]
    },
    {
     "name": "stdout",
     "output_type": "stream",
     "text": [
      "\n"
     ]
    },
    {
     "name": "stdout",
     "output_type": "stream",
     "text": [
      "metrics={'accuracy': 0.6590491354180081, 'precision': 0.6594974096908038, 'recall': 0.9987220220451197, 'f1': 0.7944118539853308}\n"
     ]
    },
    {
     "name": "stdout",
     "output_type": "stream",
     "text": [
      "\n"
     ]
    },
    {
     "name": "stdout",
     "output_type": "stream",
     "text": [
      "Confusion matrix:\n",
      "[[   27 29051]\n",
      " [   72 56267]]\n"
     ]
    },
    {
     "name": "stdout",
     "output_type": "stream",
     "text": [
      "\n"
     ]
    },
    {
     "name": "stdout",
     "output_type": "stream",
     "text": [
      "Classification report:"
     ]
    },
    {
     "name": "stdout",
     "output_type": "stream",
     "text": [
      "\n"
     ]
    },
    {
     "name": "stdout",
     "output_type": "stream",
     "text": [
      "metrics={'accuracy': 0.656731095683529, 'precision': 0.6572476677136562, 'recall': 0.99864660315199, 'f1': 0.7927536948946486}\n"
     ]
    },
    {
     "name": "stdout",
     "output_type": "stream",
     "text": [
      "\n"
     ]
    },
    {
     "name": "stdout",
     "output_type": "stream",
     "text": [
      "Confusion matrix:\n",
      "[[   17 29245]\n",
      " [   76 56079]]\n"
     ]
    },
    {
     "name": "stdout",
     "output_type": "stream",
     "text": [
      "\n"
     ]
    },
    {
     "name": "stdout",
     "output_type": "stream",
     "text": [
      "Classification report:"
     ]
    },
    {
     "name": "stdout",
     "output_type": "stream",
     "text": [
      "\n"
     ]
    },
    {
     "name": "stdout",
     "output_type": "stream",
     "text": [
      "metrics={'accuracy': 0.657047192010958, 'precision': 0.6575236487674508, 'recall': 0.9986291858788343, 'f1': 0.7929489263651914}\n"
     ]
    },
    {
     "name": "stdout",
     "output_type": "stream",
     "text": [
      "\n"
     ]
    },
    {
     "name": "stdout",
     "output_type": "stream",
     "text": [
      "Confusion matrix:\n",
      "[[   29 29217]\n",
      " [   77 56094]]\n"
     ]
    },
    {
     "name": "stdout",
     "output_type": "stream",
     "text": [
      "\n"
     ]
    },
    {
     "name": "stdout",
     "output_type": "stream",
     "text": [
      "Classification report:"
     ]
    },
    {
     "name": "stdout",
     "output_type": "stream",
     "text": [
      "\n"
     ]
    },
    {
     "name": "stdout",
     "output_type": "stream",
     "text": [
      "metrics={'accuracy': 0.6582647482351288, 'precision': 0.658582898669636, 'recall': 0.9988977581823677, 'f1': 0.7938035093667882}\n"
     ]
    },
    {
     "name": "stdout",
     "output_type": "stream",
     "text": [
      "\n"
     ]
    },
    {
     "name": "stdout",
     "output_type": "stream",
     "text": [
      "Confusion matrix:\n",
      "[[   40 29128]\n",
      " [   62 56187]]\n"
     ]
    },
    {
     "name": "stdout",
     "output_type": "stream",
     "text": [
      "\n"
     ]
    },
    {
     "name": "stdout",
     "output_type": "stream",
     "text": [
      "Classification report:"
     ]
    },
    {
     "name": "stdout",
     "output_type": "stream",
     "text": [
      "\n"
     ]
    },
    {
     "name": "stdout",
     "output_type": "stream",
     "text": [
      "metrics={'accuracy': 0.6570940210965031, 'precision': 0.657632522917497, 'recall': 0.9985049124305853, 'f1': 0.7929889038094564}\n"
     ]
    },
    {
     "name": "stdout",
     "output_type": "stream",
     "text": [
      "\n"
     ]
    },
    {
     "name": "stdout",
     "output_type": "stream",
     "text": [
      "Confusion matrix:\n",
      "[[   27 29206]\n",
      " [   84 56100]]\n"
     ]
    },
    {
     "name": "stdout",
     "output_type": "stream",
     "text": [
      "\n"
     ]
    },
    {
     "name": "stdout",
     "output_type": "stream",
     "text": [
      "Classification report:"
     ]
    },
    {
     "name": "stdout",
     "output_type": "stream",
     "text": [
      "\n"
     ]
    },
    {
     "name": "stdout",
     "output_type": "stream",
     "text": [
      "              precision    recall  f1-score   support\n",
      "\n",
      "       False       0.27      0.00      0.00     29078\n",
      "        True       0.66      1.00      0.79     56339\n",
      "\n",
      "    accuracy                           0.66     85417\n",
      "   macro avg       0.47      0.50      0.40     85417\n",
      "weighted avg       0.53      0.66      0.52     85417\n"
     ]
    },
    {
     "name": "stdout",
     "output_type": "stream",
     "text": [
      "\n"
     ]
    },
    {
     "name": "stdout",
     "output_type": "stream",
     "text": [
      "              precision    recall  f1-score   support\n",
      "\n",
      "       False       0.18      0.00      0.00     29262\n",
      "        True       0.66      1.00      0.79     56155\n",
      "\n",
      "    accuracy                           0.66     85417\n",
      "   macro avg       0.42      0.50      0.40     85417\n",
      "weighted avg       0.49      0.66      0.52     85417\n"
     ]
    },
    {
     "name": "stdout",
     "output_type": "stream",
     "text": [
      "\n"
     ]
    },
    {
     "name": "stdout",
     "output_type": "stream",
     "text": [
      "              precision    recall  f1-score   support\n",
      "\n",
      "       False       0.27      0.00      0.00     29246\n",
      "        True       0.66      1.00      0.79     56171\n",
      "\n",
      "    accuracy                           0.66     85417\n",
      "   macro avg       0.47      0.50      0.40     85417\n",
      "weighted avg       0.53      0.66      0.52     85417\n"
     ]
    },
    {
     "name": "stdout",
     "output_type": "stream",
     "text": [
      "\n"
     ]
    },
    {
     "name": "stdout",
     "output_type": "stream",
     "text": [
      "              precision    recall  f1-score   support\n",
      "\n",
      "       False       0.39      0.00      0.00     29168\n",
      "        True       0.66      1.00      0.79     56249\n",
      "\n",
      "    accuracy                           0.66     85417\n",
      "   macro avg       0.53      0.50      0.40     85417\n",
      "weighted avg       0.57      0.66      0.52     85417\n"
     ]
    },
    {
     "name": "stdout",
     "output_type": "stream",
     "text": [
      "\n"
     ]
    },
    {
     "name": "stdout",
     "output_type": "stream",
     "text": [
      "              precision    recall  f1-score   support\n",
      "\n",
      "       False       0.24      0.00      0.00     29233\n",
      "        True       0.66      1.00      0.79     56184\n",
      "\n",
      "    accuracy                           0.66     85417\n",
      "   macro avg       0.45      0.50      0.40     85417\n",
      "weighted avg       0.52      0.66      0.52     85417\n"
     ]
    },
    {
     "name": "stdout",
     "output_type": "stream",
     "text": [
      "\n"
     ]
    },
    {
     "name": "stdout",
     "output_type": "stream",
     "text": [
      "Performance of 'FeatureGroups.Intra'\n",
      "['IntraProjectSubmitterPullRequestSuccessRate', 'ln(1 + IntraProjectSubmitterPullRequestSubmissionCount)', 'ln(1 + IntraProjectSubmitterPullRequestCommentCount)', 'ln(1 + IntraProjectSubmitterIssueSubmissionCount)', 'ln(1 + IntraProjectSubmitterIssueCommentCount)']\n",
      "f1_scores=[0.7944118539853308, 0.7927536948946486, 0.7929489263651914, 0.7938035093667882, 0.7929889038094564]\n",
      "f1_mean=0.7933813776842832, f1_std=0.0006285080961458457\n",
      "\n",
      "Reverse ablation with \"FeatureGroups.Eco\", including: ['EcosystemExperienceSubmitterPullRequestSuccessRate', 'ln(1 + EcosystemExperienceSubmitterPullRequestSubmissionCount)', 'ln(1 + EcosystemExperienceSubmitterPullRequestCommentCount)', 'ln(1 + EcosystemExperienceSubmitterIssueSubmissionCount)', 'ln(1 + EcosystemExperienceSubmitterIssueCommentCount)'].\n"
     ]
    },
    {
     "name": "stdout",
     "output_type": "stream",
     "text": [
      "random_state=54"
     ]
    },
    {
     "name": "stdout",
     "output_type": "stream",
     "text": [
      "\n"
     ]
    },
    {
     "name": "stdout",
     "output_type": "stream",
     "text": [
      "random_state=54"
     ]
    },
    {
     "name": "stdout",
     "output_type": "stream",
     "text": [
      "\n"
     ]
    },
    {
     "name": "stdout",
     "output_type": "stream",
     "text": [
      "random_state=54"
     ]
    },
    {
     "name": "stdout",
     "output_type": "stream",
     "text": [
      "\n"
     ]
    },
    {
     "name": "stdout",
     "output_type": "stream",
     "text": [
      "random_state=54"
     ]
    },
    {
     "name": "stdout",
     "output_type": "stream",
     "text": [
      "\n"
     ]
    },
    {
     "name": "stdout",
     "output_type": "stream",
     "text": [
      "random_state=54"
     ]
    },
    {
     "name": "stdout",
     "output_type": "stream",
     "text": [
      "\n"
     ]
    },
    {
     "name": "stdout",
     "output_type": "stream",
     "text": [
      "metrics={'accuracy': 0.6464169895922357, 'precision': 0.6584055923616524, 'recall': 0.9617012950049808, 'f1': 0.7816638713781736}\n"
     ]
    },
    {
     "name": "stdout",
     "output_type": "stream",
     "text": [
      "\n"
     ]
    },
    {
     "name": "stdout",
     "output_type": "stream",
     "text": [
      "Confusion matrix:\n",
      "[[ 1152 28049]\n",
      " [ 2153 54063]]\n"
     ]
    },
    {
     "name": "stdout",
     "output_type": "stream",
     "text": [
      "\n"
     ]
    },
    {
     "name": "stdout",
     "output_type": "stream",
     "text": [
      "Classification report:"
     ]
    },
    {
     "name": "stdout",
     "output_type": "stream",
     "text": [
      "\n"
     ]
    },
    {
     "name": "stdout",
     "output_type": "stream",
     "text": [
      "metrics={'accuracy': 0.6488403947691912, 'precision': 0.6602762417480694, 'recall': 0.9626551595546321, 'f1': 0.7832966080265866}\n"
     ]
    },
    {
     "name": "stdout",
     "output_type": "stream",
     "text": [
      "\n"
     ]
    },
    {
     "name": "stdout",
     "output_type": "stream",
     "text": [
      "Confusion matrix:\n",
      "[[ 1212 27892]\n",
      " [ 2103 54210]]\n"
     ]
    },
    {
     "name": "stdout",
     "output_type": "stream",
     "text": [
      "\n"
     ]
    },
    {
     "name": "stdout",
     "output_type": "stream",
     "text": [
      "Classification report:"
     ]
    },
    {
     "name": "stdout",
     "output_type": "stream",
     "text": [
      "\n"
     ]
    },
    {
     "name": "stdout",
     "output_type": "stream",
     "text": [
      "              precision    recall  f1-score   support\n",
      "\n",
      "       False       0.35      0.04      0.07     29201\n",
      "        True       0.66      0.96      0.78     56216\n",
      "\n",
      "    accuracy                           0.65     85417\n",
      "   macro avg       0.50      0.50      0.43     85417\n",
      "weighted avg       0.55      0.65      0.54     85417\n"
     ]
    },
    {
     "name": "stdout",
     "output_type": "stream",
     "text": [
      "\n"
     ]
    },
    {
     "name": "stdout",
     "output_type": "stream",
     "text": [
      "              precision    recall  f1-score   support\n",
      "\n",
      "       False       0.37      0.04      0.07     29104\n",
      "        True       0.66      0.96      0.78     56313\n",
      "\n",
      "    accuracy                           0.65     85417\n",
      "   macro avg       0.51      0.50      0.43     85417\n",
      "weighted avg       0.56      0.65      0.54     85417\n"
     ]
    },
    {
     "name": "stdout",
     "output_type": "stream",
     "text": [
      "\n"
     ]
    },
    {
     "name": "stdout",
     "output_type": "stream",
     "text": [
      "metrics={'accuracy': 0.6451408970111336, 'precision': 0.6569078386994719, 'recall': 0.9623001372524554, 'f1': 0.7808045819081161}\n"
     ]
    },
    {
     "name": "stdout",
     "output_type": "stream",
     "text": [
      "\n"
     ]
    },
    {
     "name": "stdout",
     "output_type": "stream",
     "text": [
      "Confusion matrix:\n",
      "[[ 1120 28196]\n",
      " [ 2115 53986]]\n"
     ]
    },
    {
     "name": "stdout",
     "output_type": "stream",
     "text": [
      "\n"
     ]
    },
    {
     "name": "stdout",
     "output_type": "stream",
     "text": [
      "Classification report:"
     ]
    },
    {
     "name": "stdout",
     "output_type": "stream",
     "text": [
      "\n"
     ]
    },
    {
     "name": "stdout",
     "output_type": "stream",
     "text": [
      "metrics={'accuracy': 0.6473652785745226, 'precision': 0.6580980611302785, 'recall': 0.9647901120233664, 'f1': 0.7824648828223739}\n"
     ]
    },
    {
     "name": "stdout",
     "output_type": "stream",
     "text": [
      "\n"
     ]
    },
    {
     "name": "stdout",
     "output_type": "stream",
     "text": [
      "Confusion matrix:\n",
      "[[ 1124 28144]\n",
      " [ 1977 54172]]\n"
     ]
    },
    {
     "name": "stdout",
     "output_type": "stream",
     "text": [
      "\n"
     ]
    },
    {
     "name": "stdout",
     "output_type": "stream",
     "text": [
      "Classification report:"
     ]
    },
    {
     "name": "stdout",
     "output_type": "stream",
     "text": [
      "\n"
     ]
    },
    {
     "name": "stdout",
     "output_type": "stream",
     "text": [
      "              precision    recall  f1-score   support\n",
      "\n",
      "       False       0.35      0.04      0.07     29316\n",
      "        True       0.66      0.96      0.78     56101\n",
      "\n",
      "    accuracy                           0.65     85417\n",
      "   macro avg       0.50      0.50      0.42     85417\n",
      "weighted avg       0.55      0.65      0.54     85417\n"
     ]
    },
    {
     "name": "stdout",
     "output_type": "stream",
     "text": [
      "\n"
     ]
    },
    {
     "name": "stdout",
     "output_type": "stream",
     "text": [
      "              precision    recall  f1-score   support\n",
      "\n",
      "       False       0.36      0.04      0.07     29268\n",
      "        True       0.66      0.96      0.78     56149\n",
      "\n",
      "    accuracy                           0.65     85417\n",
      "   macro avg       0.51      0.50      0.43     85417\n",
      "weighted avg       0.56      0.65      0.54     85417\n"
     ]
    },
    {
     "name": "stdout",
     "output_type": "stream",
     "text": [
      "\n"
     ]
    },
    {
     "name": "stdout",
     "output_type": "stream",
     "text": [
      "metrics={'accuracy': 0.6493906365243453, 'precision': 0.6604094940327742, 'recall': 0.9638843019229745, 'f1': 0.7837970516467174}\n"
     ]
    },
    {
     "name": "stdout",
     "output_type": "stream",
     "text": [
      "\n"
     ]
    },
    {
     "name": "stdout",
     "output_type": "stream",
     "text": [
      "Confusion matrix:\n",
      "[[ 1184 27914]\n",
      " [ 2034 54285]]\n"
     ]
    },
    {
     "name": "stdout",
     "output_type": "stream",
     "text": [
      "\n"
     ]
    },
    {
     "name": "stdout",
     "output_type": "stream",
     "text": [
      "Classification report:"
     ]
    },
    {
     "name": "stdout",
     "output_type": "stream",
     "text": [
      "\n"
     ]
    },
    {
     "name": "stdout",
     "output_type": "stream",
     "text": [
      "              precision    recall  f1-score   support\n",
      "\n",
      "       False       0.37      0.04      0.07     29098\n",
      "        True       0.66      0.96      0.78     56319\n",
      "\n",
      "    accuracy                           0.65     85417\n",
      "   macro avg       0.51      0.50      0.43     85417\n",
      "weighted avg       0.56      0.65      0.54     85417\n"
     ]
    },
    {
     "name": "stdout",
     "output_type": "stream",
     "text": [
      "\n"
     ]
    },
    {
     "name": "stdout",
     "output_type": "stream",
     "text": [
      "Performance of 'FeatureGroups.Eco'\n",
      "['EcosystemExperienceSubmitterPullRequestSuccessRate', 'ln(1 + EcosystemExperienceSubmitterPullRequestSubmissionCount)', 'ln(1 + EcosystemExperienceSubmitterPullRequestCommentCount)', 'ln(1 + EcosystemExperienceSubmitterIssueSubmissionCount)', 'ln(1 + EcosystemExperienceSubmitterIssueCommentCount)']\n",
      "f1_scores=[0.7816638713781736, 0.7832966080265866, 0.7808045819081161, 0.7824648828223739, 0.7837970516467174]\n",
      "f1_mean=0.7824053991563935, f1_std=0.0010813849933218394\n",
      "\n",
      "Reverse ablation with \"FeatureGroups.DEco\", including: ['DependencyEcosystemExperienceSubmitterPullRequestSuccessRate', 'ln(1 + DependencyEcosystemExperienceSubmitterPullRequestSubmissionCount)', 'ln(1 + DependencyEcosystemExperienceSubmitterPullRequestCommentCount)', 'ln(1 + DependencyEcosystemExperienceSubmitterIssueSubmissionCount)', 'ln(1 + DependencyEcosystemExperienceSubmitterIssueCommentCount)'].\n"
     ]
    },
    {
     "name": "stdout",
     "output_type": "stream",
     "text": [
      "random_state=56"
     ]
    },
    {
     "name": "stdout",
     "output_type": "stream",
     "text": [
      "\n"
     ]
    },
    {
     "name": "stdout",
     "output_type": "stream",
     "text": [
      "random_state=56"
     ]
    },
    {
     "name": "stdout",
     "output_type": "stream",
     "text": [
      "\n"
     ]
    },
    {
     "name": "stdout",
     "output_type": "stream",
     "text": [
      "random_state=56"
     ]
    },
    {
     "name": "stdout",
     "output_type": "stream",
     "text": [
      "\n"
     ]
    },
    {
     "name": "stdout",
     "output_type": "stream",
     "text": [
      "random_state=56"
     ]
    },
    {
     "name": "stdout",
     "output_type": "stream",
     "text": [
      "\n"
     ]
    },
    {
     "name": "stdout",
     "output_type": "stream",
     "text": [
      "random_state=56"
     ]
    },
    {
     "name": "stdout",
     "output_type": "stream",
     "text": [
      "\n"
     ]
    },
    {
     "name": "stdout",
     "output_type": "stream",
     "text": [
      "metrics={'accuracy': 0.6603720570846553, 'precision': 0.6607616010504842, 'recall': 0.998671013927774, 'f1': 0.7953121472115601}\n"
     ]
    },
    {
     "name": "stdout",
     "output_type": "stream",
     "text": [
      "\n"
     ]
    },
    {
     "name": "stdout",
     "output_type": "stream",
     "text": [
      "Confusion matrix:\n",
      "[[   48 28935]\n",
      " [   75 56359]]\n"
     ]
    },
    {
     "name": "stdout",
     "output_type": "stream",
     "text": [
      "\n"
     ]
    },
    {
     "name": "stdout",
     "output_type": "stream",
     "text": [
      "Classification report:"
     ]
    },
    {
     "name": "stdout",
     "output_type": "stream",
     "text": [
      "\n"
     ]
    },
    {
     "name": "stdout",
     "output_type": "stream",
     "text": [
      "metrics={'accuracy': 0.656684266597984, 'precision': 0.6570604511560287, 'recall': 0.9986635066022774, 'f1': 0.7926228175010077}\n"
     ]
    },
    {
     "name": "stdout",
     "output_type": "stream",
     "text": [
      "\n"
     ]
    },
    {
     "name": "stdout",
     "output_type": "stream",
     "text": [
      "Confusion matrix:\n",
      "[[   50 29250]\n",
      " [   75 56042]]\n"
     ]
    },
    {
     "name": "stdout",
     "output_type": "stream",
     "text": [
      "\n"
     ]
    },
    {
     "name": "stdout",
     "output_type": "stream",
     "text": [
      "Classification report:"
     ]
    },
    {
     "name": "stdout",
     "output_type": "stream",
     "text": [
      "\n"
     ]
    },
    {
     "name": "stdout",
     "output_type": "stream",
     "text": [
      "metrics={'accuracy': 0.6582881627779014, 'precision': 0.6587464394143643, 'recall': 0.9986494411174097, 'f1': 0.7938438502069473}\n"
     ]
    },
    {
     "name": "stdout",
     "output_type": "stream",
     "text": [
      "\n"
     ]
    },
    {
     "name": "stdout",
     "output_type": "stream",
     "text": [
      "Confusion matrix:\n",
      "[[   32 29112]\n",
      " [   76 56197]]\n"
     ]
    },
    {
     "name": "stdout",
     "output_type": "stream",
     "text": [
      "\n"
     ]
    },
    {
     "name": "stdout",
     "output_type": "stream",
     "text": [
      "Classification report:"
     ]
    },
    {
     "name": "stdout",
     "output_type": "stream",
     "text": [
      "\n"
     ]
    },
    {
     "name": "stdout",
     "output_type": "stream",
     "text": [
      "              precision    recall  f1-score   support\n",
      "\n",
      "       False       0.39      0.00      0.00     28983\n",
      "        True       0.66      1.00      0.80     56434\n",
      "\n",
      "    accuracy                           0.66     85417\n",
      "   macro avg       0.53      0.50      0.40     85417\n",
      "weighted avg       0.57      0.66      0.53     85417\n"
     ]
    },
    {
     "name": "stdout",
     "output_type": "stream",
     "text": [
      "\n"
     ]
    },
    {
     "name": "stdout",
     "output_type": "stream",
     "text": [
      "metrics={'accuracy': 0.6562862193708512, 'precision': 0.6565859033418903, 'recall': 0.9988943576574648, 'f1': 0.7923500746178928}\n"
     ]
    },
    {
     "name": "stdout",
     "output_type": "stream",
     "text": [
      "\n"
     ]
    },
    {
     "name": "stdout",
     "output_type": "stream",
     "text": [
      "Confusion matrix:\n",
      "[[   44 29297]\n",
      " [   62 56014]]\n"
     ]
    },
    {
     "name": "stdout",
     "output_type": "stream",
     "text": [
      "\n"
     ]
    },
    {
     "name": "stdout",
     "output_type": "stream",
     "text": [
      "Classification report:"
     ]
    },
    {
     "name": "stdout",
     "output_type": "stream",
     "text": [
      "\n"
     ]
    },
    {
     "name": "stdout",
     "output_type": "stream",
     "text": [
      "              precision    recall  f1-score   support\n",
      "\n",
      "       False       0.40      0.00      0.00     29300\n",
      "        True       0.66      1.00      0.79     56117\n",
      "\n",
      "    accuracy                           0.66     85417\n",
      "   macro avg       0.53      0.50      0.40     85417\n",
      "weighted avg       0.57      0.66      0.52     85417\n"
     ]
    },
    {
     "name": "stdout",
     "output_type": "stream",
     "text": [
      "\n"
     ]
    },
    {
     "name": "stdout",
     "output_type": "stream",
     "text": [
      "metrics={'accuracy': 0.6575740192233396, 'precision': 0.6579382289163688, 'recall': 0.9988255809815296, 'f1': 0.7933122751973317}\n"
     ]
    },
    {
     "name": "stdout",
     "output_type": "stream",
     "text": [
      "\n"
     ]
    },
    {
     "name": "stdout",
     "output_type": "stream",
     "text": [
      "Confusion matrix:\n",
      "[[   36 29183]\n",
      " [   66 56132]]\n"
     ]
    },
    {
     "name": "stdout",
     "output_type": "stream",
     "text": [
      "\n"
     ]
    },
    {
     "name": "stdout",
     "output_type": "stream",
     "text": [
      "Classification report:"
     ]
    },
    {
     "name": "stdout",
     "output_type": "stream",
     "text": [
      "\n"
     ]
    },
    {
     "name": "stdout",
     "output_type": "stream",
     "text": [
      "              precision    recall  f1-score   support\n",
      "\n",
      "       False       0.30      0.00      0.00     29144\n",
      "        True       0.66      1.00      0.79     56273\n",
      "\n",
      "    accuracy                           0.66     85417\n",
      "   macro avg       0.48      0.50      0.40     85417\n",
      "weighted avg       0.54      0.66      0.52     85417\n"
     ]
    },
    {
     "name": "stdout",
     "output_type": "stream",
     "text": [
      "\n"
     ]
    },
    {
     "name": "stdout",
     "output_type": "stream",
     "text": [
      "              precision    recall  f1-score   support\n",
      "\n",
      "       False       0.42      0.00      0.00     29341\n",
      "        True       0.66      1.00      0.79     56076\n",
      "\n",
      "    accuracy                           0.66     85417\n",
      "   macro avg       0.54      0.50      0.40     85417\n",
      "weighted avg       0.57      0.66      0.52     85417\n"
     ]
    },
    {
     "name": "stdout",
     "output_type": "stream",
     "text": [
      "\n"
     ]
    },
    {
     "name": "stdout",
     "output_type": "stream",
     "text": [
      "              precision    recall  f1-score   support\n",
      "\n",
      "       False       0.35      0.00      0.00     29219\n",
      "        True       0.66      1.00      0.79     56198\n",
      "\n",
      "    accuracy                           0.66     85417\n",
      "   macro avg       0.51      0.50      0.40     85417\n",
      "weighted avg       0.55      0.66      0.52     85417\n"
     ]
    },
    {
     "name": "stdout",
     "output_type": "stream",
     "text": [
      "\n"
     ]
    },
    {
     "name": "stdout",
     "output_type": "stream",
     "text": [
      "Performance of 'FeatureGroups.DEco'\n",
      "['DependencyEcosystemExperienceSubmitterPullRequestSuccessRate', 'ln(1 + DependencyEcosystemExperienceSubmitterPullRequestSubmissionCount)', 'ln(1 + DependencyEcosystemExperienceSubmitterPullRequestCommentCount)', 'ln(1 + DependencyEcosystemExperienceSubmitterIssueSubmissionCount)', 'ln(1 + DependencyEcosystemExperienceSubmitterIssueCommentCount)']\n",
      "f1_scores=[0.7953121472115601, 0.7926228175010077, 0.7938438502069473, 0.7923500746178928, 0.7933122751973317]\n",
      "f1_mean=0.7934882329469479, f1_std=0.0010515166461815672\n",
      "\n",
      "Reverse ablation with \"FeatureGroups.IDEco\", including: ['InversedDependencyEcosystemExperienceSubmitterPullRequestSuccessRate', 'ln(1 + InversedDependencyEcosystemExperienceSubmitterPullRequestSubmissionCount)', 'ln(1 + InversedDependencyEcosystemExperienceSubmitterPullRequestCommentCount)', 'ln(1 + InversedDependencyEcosystemExperienceSubmitterIssueSubmissionCount)', 'ln(1 + InversedDependencyEcosystemExperienceSubmitterIssueCommentCount)'].\n"
     ]
    },
    {
     "name": "stdout",
     "output_type": "stream",
     "text": [
      "random_state=58"
     ]
    },
    {
     "name": "stdout",
     "output_type": "stream",
     "text": [
      "\n"
     ]
    },
    {
     "name": "stdout",
     "output_type": "stream",
     "text": [
      "random_state=58"
     ]
    },
    {
     "name": "stdout",
     "output_type": "stream",
     "text": [
      "\n"
     ]
    },
    {
     "name": "stdout",
     "output_type": "stream",
     "text": [
      "random_state=58"
     ]
    },
    {
     "name": "stdout",
     "output_type": "stream",
     "text": [
      "\n"
     ]
    },
    {
     "name": "stdout",
     "output_type": "stream",
     "text": [
      "random_state=58"
     ]
    },
    {
     "name": "stdout",
     "output_type": "stream",
     "text": [
      "\n"
     ]
    },
    {
     "name": "stdout",
     "output_type": "stream",
     "text": [
      "random_state=58"
     ]
    },
    {
     "name": "stdout",
     "output_type": "stream",
     "text": [
      "\n"
     ]
    },
    {
     "name": "stdout",
     "output_type": "stream",
     "text": [
      "metrics={'accuracy': 0.6577145064799748, 'precision': 0.6585394485074013, 'recall': 0.9973510169250462, 'f1': 0.7932831335949375}\n"
     ]
    },
    {
     "name": "stdout",
     "output_type": "stream",
     "text": [
      "\n"
     ]
    },
    {
     "name": "stdout",
     "output_type": "stream",
     "text": [
      "Confusion matrix:\n",
      "[[   81 29088]\n",
      " [  149 56099]]\n"
     ]
    },
    {
     "name": "stdout",
     "output_type": "stream",
     "text": [
      "\n"
     ]
    },
    {
     "name": "stdout",
     "output_type": "stream",
     "text": [
      "Classification report:"
     ]
    },
    {
     "name": "stdout",
     "output_type": "stream",
     "text": [
      "\n"
     ]
    },
    {
     "name": "stdout",
     "output_type": "stream",
     "text": [
      "metrics={'accuracy': 0.6596344989873211, 'precision': 0.6603432700993677, 'recall': 0.9978549141965679, 'f1': 0.7947503300458182}\n"
     ]
    },
    {
     "name": "stdout",
     "output_type": "stream",
     "text": [
      "\n"
     ]
    },
    {
     "name": "stdout",
     "output_type": "stream",
     "text": [
      "Confusion matrix:\n",
      "[[   57 28952]\n",
      " [  121 56287]]\n"
     ]
    },
    {
     "name": "stdout",
     "output_type": "stream",
     "text": [
      "\n"
     ]
    },
    {
     "name": "stdout",
     "output_type": "stream",
     "text": [
      "Classification report:"
     ]
    },
    {
     "name": "stdout",
     "output_type": "stream",
     "text": [
      "\n"
     ]
    },
    {
     "name": "stdout",
     "output_type": "stream",
     "text": [
      "              precision    recall  f1-score   support\n",
      "\n",
      "       False       0.35      0.00      0.01     29169\n",
      "        True       0.66      1.00      0.79     56248\n",
      "\n",
      "    accuracy                           0.66     85417\n",
      "   macro avg       0.51      0.50      0.40     85417\n",
      "weighted avg       0.55      0.66      0.52     85417\n"
     ]
    },
    {
     "name": "stdout",
     "output_type": "stream",
     "text": [
      "\n"
     ]
    },
    {
     "name": "stdout",
     "output_type": "stream",
     "text": [
      "              precision    recall  f1-score   support\n",
      "\n",
      "       False       0.32      0.00      0.00     29009\n",
      "        True       0.66      1.00      0.79     56408\n",
      "\n",
      "    accuracy                           0.66     85417\n",
      "   macro avg       0.49      0.50      0.40     85417\n",
      "weighted avg       0.54      0.66      0.53     85417\n"
     ]
    },
    {
     "name": "stdout",
     "output_type": "stream",
     "text": [
      "\n"
     ]
    },
    {
     "name": "stdout",
     "output_type": "stream",
     "text": [
      "metrics={'accuracy': 0.6583115773206739, 'precision': 0.6590583706902622, 'recall': 0.9976374036309376, 'f1': 0.7937501766684569}\n"
     ]
    },
    {
     "name": "stdout",
     "output_type": "stream",
     "text": [
      "\n"
     ]
    },
    {
     "name": "stdout",
     "output_type": "stream",
     "text": [
      "Confusion matrix:\n",
      "[[   70 29053]\n",
      " [  133 56161]]\n"
     ]
    },
    {
     "name": "stdout",
     "output_type": "stream",
     "text": [
      "\n"
     ]
    },
    {
     "name": "stdout",
     "output_type": "stream",
     "text": [
      "Classification report:"
     ]
    },
    {
     "name": "stdout",
     "output_type": "stream",
     "text": [
      "\n"
     ]
    },
    {
     "name": "stdout",
     "output_type": "stream",
     "text": [
      "              precision    recall  f1-score   support\n",
      "\n",
      "       False       0.34      0.00      0.00     29123\n",
      "        True       0.66      1.00      0.79     56294\n",
      "\n",
      "    accuracy                           0.66     85417\n",
      "   macro avg       0.50      0.50      0.40     85417\n",
      "weighted avg       0.55      0.66      0.52     85417\n"
     ]
    },
    {
     "name": "stdout",
     "output_type": "stream",
     "text": [
      "\n"
     ]
    },
    {
     "name": "stdout",
     "output_type": "stream",
     "text": [
      "metrics={'accuracy': 0.657866701007996, 'precision': 0.6584862277696965, 'recall': 0.9980086764810469, 'f1': 0.7934524482641638}\n"
     ]
    },
    {
     "name": "stdout",
     "output_type": "stream",
     "text": [
      "\n"
     ]
    },
    {
     "name": "stdout",
     "output_type": "stream",
     "text": [
      "Confusion matrix:\n",
      "[[   61 29112]\n",
      " [  112 56132]]\n"
     ]
    },
    {
     "name": "stdout",
     "output_type": "stream",
     "text": [
      "\n"
     ]
    },
    {
     "name": "stdout",
     "output_type": "stream",
     "text": [
      "Classification report:"
     ]
    },
    {
     "name": "stdout",
     "output_type": "stream",
     "text": [
      "\n"
     ]
    },
    {
     "name": "stdout",
     "output_type": "stream",
     "text": [
      "metrics={'accuracy': 0.654143788707166, 'precision': 0.6547247329498768, 'recall': 0.9977103606182026, 'f1': 0.7906218549335904}\n"
     ]
    },
    {
     "name": "stdout",
     "output_type": "stream",
     "text": [
      "\n"
     ]
    },
    {
     "name": "stdout",
     "output_type": "stream",
     "text": [
      "Confusion matrix:\n",
      "[[   99 29414]\n",
      " [  128 55776]]\n"
     ]
    },
    {
     "name": "stdout",
     "output_type": "stream",
     "text": [
      "\n"
     ]
    },
    {
     "name": "stdout",
     "output_type": "stream",
     "text": [
      "Classification report:"
     ]
    },
    {
     "name": "stdout",
     "output_type": "stream",
     "text": [
      "\n"
     ]
    },
    {
     "name": "stdout",
     "output_type": "stream",
     "text": [
      "              precision    recall  f1-score   support\n",
      "\n",
      "       False       0.35      0.00      0.00     29173\n",
      "        True       0.66      1.00      0.79     56244\n",
      "\n",
      "    accuracy                           0.66     85417\n",
      "   macro avg       0.51      0.50      0.40     85417\n",
      "weighted avg       0.55      0.66      0.52     85417\n"
     ]
    },
    {
     "name": "stdout",
     "output_type": "stream",
     "text": [
      "\n"
     ]
    },
    {
     "name": "stdout",
     "output_type": "stream",
     "text": [
      "              precision    recall  f1-score   support\n",
      "\n",
      "       False       0.44      0.00      0.01     29513\n",
      "        True       0.65      1.00      0.79     55904\n",
      "\n",
      "    accuracy                           0.65     85417\n",
      "   macro avg       0.55      0.50      0.40     85417\n",
      "weighted avg       0.58      0.65      0.52     85417\n"
     ]
    },
    {
     "name": "stdout",
     "output_type": "stream",
     "text": [
      "\n"
     ]
    },
    {
     "name": "stdout",
     "output_type": "stream",
     "text": [
      "Performance of 'FeatureGroups.IDEco'\n",
      "['InversedDependencyEcosystemExperienceSubmitterPullRequestSuccessRate', 'ln(1 + InversedDependencyEcosystemExperienceSubmitterPullRequestSubmissionCount)', 'ln(1 + InversedDependencyEcosystemExperienceSubmitterPullRequestCommentCount)', 'ln(1 + InversedDependencyEcosystemExperienceSubmitterIssueSubmissionCount)', 'ln(1 + InversedDependencyEcosystemExperienceSubmitterIssueCommentCount)']\n",
      "f1_scores=[0.7932831335949375, 0.7947503300458182, 0.7937501766684569, 0.7934524482641638, 0.7906218549335904]\n",
      "f1_mean=0.7931715887013934, f1_std=0.0013725636533273948\n",
      "\n",
      "Reverse ablation with \"FeatureGroups.NDEco\", including: ['NonDependencyEcosystemExperienceSubmitterPullRequestSuccessRate', 'ln(1 + NonDependencyEcosystemExperienceSubmitterPullRequestSubmissionCount)', 'ln(1 + NonDependencyEcosystemExperienceSubmitterPullRequestCommentCount)', 'ln(1 + NonDependencyEcosystemExperienceSubmitterIssueSubmissionCount)', 'ln(1 + NonDependencyEcosystemExperienceSubmitterIssueCommentCount)'].\n"
     ]
    },
    {
     "name": "stdout",
     "output_type": "stream",
     "text": [
      "random_state=60"
     ]
    },
    {
     "name": "stdout",
     "output_type": "stream",
     "text": [
      "\n"
     ]
    },
    {
     "name": "stdout",
     "output_type": "stream",
     "text": [
      "random_state=60"
     ]
    },
    {
     "name": "stdout",
     "output_type": "stream",
     "text": [
      "\n"
     ]
    },
    {
     "name": "stdout",
     "output_type": "stream",
     "text": [
      "random_state=60"
     ]
    },
    {
     "name": "stdout",
     "output_type": "stream",
     "text": [
      "\n"
     ]
    },
    {
     "name": "stdout",
     "output_type": "stream",
     "text": [
      "random_state=60"
     ]
    },
    {
     "name": "stdout",
     "output_type": "stream",
     "text": [
      "\n"
     ]
    },
    {
     "name": "stdout",
     "output_type": "stream",
     "text": [
      "random_state=60"
     ]
    },
    {
     "name": "stdout",
     "output_type": "stream",
     "text": [
      "\n"
     ]
    },
    {
     "name": "stdout",
     "output_type": "stream",
     "text": [
      "metrics={'accuracy': 0.6478335694299729, 'precision': 0.6594446065557825, 'recall': 0.963220799516951, 'f1': 0.7828980130920847}\n"
     ]
    },
    {
     "name": "stdout",
     "output_type": "stream",
     "text": [
      "\n"
     ]
    },
    {
     "name": "stdout",
     "output_type": "stream",
     "text": [
      "Confusion matrix:\n",
      "[[ 1098 28010]\n",
      " [ 2071 54238]]\n"
     ]
    },
    {
     "name": "stdout",
     "output_type": "stream",
     "text": [
      "\n"
     ]
    },
    {
     "name": "stdout",
     "output_type": "stream",
     "text": [
      "Classification report:"
     ]
    },
    {
     "name": "stdout",
     "output_type": "stream",
     "text": [
      "\n"
     ]
    },
    {
     "name": "stdout",
     "output_type": "stream",
     "text": [
      "metrics={'accuracy': 0.6487935656836461, 'precision': 0.6583558686926257, 'recall': 0.9674602608881603, 'f1': 0.7835241991932399}\n"
     ]
    },
    {
     "name": "stdout",
     "output_type": "stream",
     "text": [
      "\n"
     ]
    },
    {
     "name": "stdout",
     "output_type": "stream",
     "text": [
      "Confusion matrix:\n",
      "[[ 1128 28173]\n",
      " [ 1826 54290]]\n"
     ]
    },
    {
     "name": "stdout",
     "output_type": "stream",
     "text": [
      "\n"
     ]
    },
    {
     "name": "stdout",
     "output_type": "stream",
     "text": [
      "Classification report:"
     ]
    },
    {
     "name": "stdout",
     "output_type": "stream",
     "text": [
      "\n"
     ]
    },
    {
     "name": "stdout",
     "output_type": "stream",
     "text": [
      "              precision    recall  f1-score   support\n",
      "\n",
      "       False       0.35      0.04      0.07     29108\n",
      "        True       0.66      0.96      0.78     56309\n",
      "\n",
      "    accuracy                           0.65     85417\n",
      "   macro avg       0.50      0.50      0.43     85417\n",
      "weighted avg       0.55      0.65      0.54     85417\n"
     ]
    },
    {
     "name": "stdout",
     "output_type": "stream",
     "text": [
      "\n"
     ]
    },
    {
     "name": "stdout",
     "output_type": "stream",
     "text": [
      "              precision    recall  f1-score   support\n",
      "\n",
      "       False       0.38      0.04      0.07     29301\n",
      "        True       0.66      0.97      0.78     56116\n",
      "\n",
      "    accuracy                           0.65     85417\n",
      "   macro avg       0.52      0.50      0.43     85417\n",
      "weighted avg       0.56      0.65      0.54     85417\n"
     ]
    },
    {
     "name": "stdout",
     "output_type": "stream",
     "text": [
      "\n"
     ]
    },
    {
     "name": "stdout",
     "output_type": "stream",
     "text": [
      "metrics={'accuracy': 0.6452345551822237, 'precision': 0.6567489026421701, 'recall': 0.9630389045394573, 'f1': 0.7809353064071886}\n"
     ]
    },
    {
     "name": "stdout",
     "output_type": "stream",
     "text": [
      "\n"
     ]
    },
    {
     "name": "stdout",
     "output_type": "stream",
     "text": [
      "Confusion matrix:\n",
      "[[ 1101 28230]\n",
      " [ 2073 54013]]\n"
     ]
    },
    {
     "name": "stdout",
     "output_type": "stream",
     "text": [
      "\n"
     ]
    },
    {
     "name": "stdout",
     "output_type": "stream",
     "text": [
      "Classification report:"
     ]
    },
    {
     "name": "stdout",
     "output_type": "stream",
     "text": [
      "\n"
     ]
    },
    {
     "name": "stdout",
     "output_type": "stream",
     "text": [
      "metrics={'accuracy': 0.6491213692824613, 'precision': 0.6605188020168884, 'recall': 0.9640032627584495, 'f1': 0.7839133663544798}\n"
     ]
    },
    {
     "name": "stdout",
     "output_type": "stream",
     "text": [
      "\n"
     ]
    },
    {
     "name": "stdout",
     "output_type": "stream",
     "text": [
      "Confusion matrix:\n",
      "[[ 1082 27941]\n",
      " [ 2030 54364]]\n"
     ]
    },
    {
     "name": "stdout",
     "output_type": "stream",
     "text": [
      "\n"
     ]
    },
    {
     "name": "stdout",
     "output_type": "stream",
     "text": [
      "Classification report:"
     ]
    },
    {
     "name": "stdout",
     "output_type": "stream",
     "text": [
      "\n"
     ]
    },
    {
     "name": "stdout",
     "output_type": "stream",
     "text": [
      "              precision    recall  f1-score   support\n",
      "\n",
      "       False       0.35      0.04      0.07     29331\n",
      "        True       0.66      0.96      0.78     56086\n",
      "\n",
      "    accuracy                           0.65     85417\n",
      "   macro avg       0.50      0.50      0.42     85417\n",
      "weighted avg       0.55      0.65      0.54     85417\n"
     ]
    },
    {
     "name": "stdout",
     "output_type": "stream",
     "text": [
      "\n"
     ]
    },
    {
     "name": "stdout",
     "output_type": "stream",
     "text": [
      "              precision    recall  f1-score   support\n",
      "\n",
      "       False       0.35      0.04      0.07     29023\n",
      "        True       0.66      0.96      0.78     56394\n",
      "\n",
      "    accuracy                           0.65     85417\n",
      "   macro avg       0.50      0.50      0.43     85417\n",
      "weighted avg       0.55      0.65      0.54     85417\n"
     ]
    },
    {
     "name": "stdout",
     "output_type": "stream",
     "text": [
      "\n"
     ]
    },
    {
     "name": "stdout",
     "output_type": "stream",
     "text": [
      "metrics={'accuracy': 0.648196494842947, 'precision': 0.6584558689828228, 'recall': 0.966632854626021, 'f1': 0.7833234789380327}\n"
     ]
    },
    {
     "name": "stdout",
     "output_type": "stream",
     "text": [
      "\n"
     ]
    },
    {
     "name": "stdout",
     "output_type": "stream",
     "text": [
      "Confusion matrix:\n",
      "[[ 1049 28175]\n",
      " [ 1875 54318]]\n"
     ]
    },
    {
     "name": "stdout",
     "output_type": "stream",
     "text": [
      "\n"
     ]
    },
    {
     "name": "stdout",
     "output_type": "stream",
     "text": [
      "Classification report:"
     ]
    },
    {
     "name": "stdout",
     "output_type": "stream",
     "text": [
      "\n"
     ]
    },
    {
     "name": "stdout",
     "output_type": "stream",
     "text": [
      "              precision    recall  f1-score   support\n",
      "\n",
      "       False       0.36      0.04      0.07     29224\n",
      "        True       0.66      0.97      0.78     56193\n",
      "\n",
      "    accuracy                           0.65     85417\n",
      "   macro avg       0.51      0.50      0.42     85417\n",
      "weighted avg       0.56      0.65      0.54     85417\n"
     ]
    },
    {
     "name": "stdout",
     "output_type": "stream",
     "text": [
      "\n"
     ]
    },
    {
     "name": "stdout",
     "output_type": "stream",
     "text": [
      "Performance of 'FeatureGroups.NDEco'\n",
      "['NonDependencyEcosystemExperienceSubmitterPullRequestSuccessRate', 'ln(1 + NonDependencyEcosystemExperienceSubmitterPullRequestSubmissionCount)', 'ln(1 + NonDependencyEcosystemExperienceSubmitterPullRequestCommentCount)', 'ln(1 + NonDependencyEcosystemExperienceSubmitterIssueSubmissionCount)', 'ln(1 + NonDependencyEcosystemExperienceSubmitterIssueCommentCount)']\n",
      "f1_scores=[0.7828980130920847, 0.7835241991932399, 0.7809353064071886, 0.7839133663544798, 0.7833234789380327]\n",
      "f1_mean=0.7829188727970051, f1_std=0.0010444246608821324\n",
      "\n",
      "Reverse ablation with \"FeatureGroups.Coll\", including: ['ln(1 + WeightedEcosystemSecondOrderDegreeCentrality)', 'ln(1 + EcosystemLinkIntensity)'].\n"
     ]
    },
    {
     "name": "stdout",
     "output_type": "stream",
     "text": [
      "random_state=62"
     ]
    },
    {
     "name": "stdout",
     "output_type": "stream",
     "text": [
      "\n"
     ]
    },
    {
     "name": "stdout",
     "output_type": "stream",
     "text": [
      "random_state=62"
     ]
    },
    {
     "name": "stdout",
     "output_type": "stream",
     "text": [
      "\n"
     ]
    },
    {
     "name": "stdout",
     "output_type": "stream",
     "text": [
      "random_state=62"
     ]
    },
    {
     "name": "stdout",
     "output_type": "stream",
     "text": [
      "\n"
     ]
    },
    {
     "name": "stdout",
     "output_type": "stream",
     "text": [
      "random_state=62"
     ]
    },
    {
     "name": "stdout",
     "output_type": "stream",
     "text": [
      "random_state=62"
     ]
    },
    {
     "name": "stdout",
     "output_type": "stream",
     "text": [
      "\n"
     ]
    },
    {
     "name": "stdout",
     "output_type": "stream",
     "text": [
      "\n"
     ]
    },
    {
     "name": "stdout",
     "output_type": "stream",
     "text": [
      "metrics={'accuracy': 0.6203917253005842, 'precision': 0.653603410961212, 'recall': 0.8985212898628184, 'f1': 0.7567389135213402}\n"
     ]
    },
    {
     "name": "stdout",
     "output_type": "stream",
     "text": [
      "\n"
     ]
    },
    {
     "name": "stdout",
     "output_type": "stream",
     "text": [
      "Confusion matrix:\n",
      "[[ 2558 26729]\n",
      " [ 5696 50434]]\n"
     ]
    },
    {
     "name": "stdout",
     "output_type": "stream",
     "text": [
      "\n"
     ]
    },
    {
     "name": "stdout",
     "output_type": "stream",
     "text": [
      "Classification report:"
     ]
    },
    {
     "name": "stdout",
     "output_type": "stream",
     "text": [
      "\n"
     ]
    },
    {
     "name": "stdout",
     "output_type": "stream",
     "text": [
      "              precision    recall  f1-score   support\n",
      "\n",
      "       False       0.31      0.09      0.14     29287\n",
      "        True       0.65      0.90      0.76     56130\n",
      "\n",
      "    accuracy                           0.62     85417\n",
      "   macro avg       0.48      0.49      0.45     85417\n",
      "weighted avg       0.54      0.62      0.54     85417\n"
     ]
    },
    {
     "name": "stdout",
     "output_type": "stream",
     "text": [
      "\n"
     ]
    },
    {
     "name": "stdout",
     "output_type": "stream",
     "text": [
      "metrics={'accuracy': 0.6229087886486296, 'precision': 0.6570427106322212, 'recall': 0.8973122473583434, 'f1': 0.7586072515250984}\n"
     ]
    },
    {
     "name": "stdout",
     "output_type": "stream",
     "text": [
      "\n"
     ]
    },
    {
     "name": "stdout",
     "output_type": "stream",
     "text": [
      "Confusion matrix:\n",
      "[[ 2595 26418]\n",
      " [ 5792 50612]]\n"
     ]
    },
    {
     "name": "stdout",
     "output_type": "stream",
     "text": [
      "\n"
     ]
    },
    {
     "name": "stdout",
     "output_type": "stream",
     "text": [
      "Classification report:"
     ]
    },
    {
     "name": "stdout",
     "output_type": "stream",
     "text": [
      "\n"
     ]
    },
    {
     "name": "stdout",
     "output_type": "stream",
     "text": [
      "              precision    recall  f1-score   support\n",
      "\n",
      "       False       0.31      0.09      0.14     29013\n",
      "        True       0.66      0.90      0.76     56404\n",
      "\n",
      "    accuracy                           0.62     85417\n",
      "   macro avg       0.48      0.49      0.45     85417\n",
      "weighted avg       0.54      0.62      0.55     85417\n"
     ]
    },
    {
     "name": "stdout",
     "output_type": "stream",
     "text": [
      "\n"
     ]
    },
    {
     "name": "stdout",
     "output_type": "stream",
     "text": [
      "metrics={'accuracy': 0.6238570776309166, 'precision': 0.6561764629825968, 'recall': 0.9016291506031588, 'f1': 0.7595656631419827}\n"
     ]
    },
    {
     "name": "stdout",
     "output_type": "stream",
     "text": [
      "\n"
     ]
    },
    {
     "name": "stdout",
     "output_type": "stream",
     "text": [
      "Confusion matrix:\n",
      "[[ 2538 26592]\n",
      " [ 5537 50750]]\n"
     ]
    },
    {
     "name": "stdout",
     "output_type": "stream",
     "text": [
      "\n"
     ]
    },
    {
     "name": "stdout",
     "output_type": "stream",
     "text": [
      "Classification report:"
     ]
    },
    {
     "name": "stdout",
     "output_type": "stream",
     "text": [
      "\n"
     ]
    },
    {
     "name": "stdout",
     "output_type": "stream",
     "text": [
      "              precision    recall  f1-score   support\n",
      "\n",
      "       False       0.31      0.09      0.14     29130\n",
      "        True       0.66      0.90      0.76     56287\n",
      "\n",
      "    accuracy                           0.62     85417\n",
      "   macro avg       0.49      0.49      0.45     85417\n",
      "weighted avg       0.54      0.62      0.55     85417\n"
     ]
    },
    {
     "name": "stdout",
     "output_type": "stream",
     "text": [
      "\n"
     ]
    },
    {
     "name": "stdout",
     "output_type": "stream",
     "text": [
      "metrics={'accuracy': 0.6231663486191273, 'precision': 0.6544297095928618, 'recall': 0.9032919243588144, 'f1': 0.7589816548109323}\n"
     ]
    },
    {
     "name": "stdout",
     "output_type": "stream",
     "text": [
      "\n"
     ]
    },
    {
     "name": "stdout",
     "output_type": "stream",
     "text": [
      "Confusion matrix:\n",
      "[[ 2548 26762]\n",
      " [ 5426 50681]]\n"
     ]
    },
    {
     "name": "stdout",
     "output_type": "stream",
     "text": [
      "\n"
     ]
    },
    {
     "name": "stdout",
     "output_type": "stream",
     "text": [
      "Classification report:"
     ]
    },
    {
     "name": "stdout",
     "output_type": "stream",
     "text": [
      "\n"
     ]
    },
    {
     "name": "stdout",
     "output_type": "stream",
     "text": [
      "              precision    recall  f1-score   support\n",
      "\n",
      "       False       0.32      0.09      0.14     29310\n",
      "        True       0.65      0.90      0.76     56107\n",
      "\n",
      "    accuracy                           0.62     85417\n",
      "   macro avg       0.49      0.50      0.45     85417\n",
      "weighted avg       0.54      0.62      0.55     85417\n"
     ]
    },
    {
     "name": "stdout",
     "output_type": "stream",
     "text": [
      "\n"
     ]
    },
    {
     "name": "stdout",
     "output_type": "stream",
     "text": [
      "metrics={'accuracy': 0.6242668321294356, 'precision': 0.6556061115276234, 'recall': 0.9029553142246751, 'f1': 0.7596531168558849}\n"
     ]
    },
    {
     "name": "stdout",
     "output_type": "stream",
     "text": [
      "\n"
     ]
    },
    {
     "name": "stdout",
     "output_type": "stream",
     "text": [
      "Confusion matrix:\n",
      "[[ 2604 26643]\n",
      " [ 5451 50719]]\n"
     ]
    },
    {
     "name": "stdout",
     "output_type": "stream",
     "text": [
      "\n"
     ]
    },
    {
     "name": "stdout",
     "output_type": "stream",
     "text": [
      "Classification report:"
     ]
    },
    {
     "name": "stdout",
     "output_type": "stream",
     "text": [
      "\n"
     ]
    },
    {
     "name": "stdout",
     "output_type": "stream",
     "text": [
      "              precision    recall  f1-score   support\n",
      "\n",
      "       False       0.32      0.09      0.14     29247\n",
      "        True       0.66      0.90      0.76     56170\n",
      "\n",
      "    accuracy                           0.62     85417\n",
      "   macro avg       0.49      0.50      0.45     85417\n",
      "weighted avg       0.54      0.62      0.55     85417\n"
     ]
    },
    {
     "name": "stdout",
     "output_type": "stream",
     "text": [
      "\n"
     ]
    },
    {
     "name": "stdout",
     "output_type": "stream",
     "text": [
      "Performance of 'FeatureGroups.Coll'\n",
      "['ln(1 + WeightedEcosystemSecondOrderDegreeCentrality)', 'ln(1 + EcosystemLinkIntensity)']\n",
      "f1_scores=[0.7567389135213402, 0.7586072515250984, 0.7595656631419827, 0.7589816548109323, 0.7596531168558849]\n",
      "f1_mean=0.7587093199710477, f1_std=0.0010574650817835967\n",
      "\n"
     ]
    }
   ],
   "source": [
    "rev_abl_results = dict()\n",
    "\n",
    "for cluster_name, cluster in var_groups.items():\n",
    "    print(f'Reverse ablation with \"{str(cluster_name)}\", including: {cluster}.')\n",
    "\n",
    "    # Creates models\n",
    "    f1_scores, f1_mean, f1_std = kfold_rf_evaluation(\n",
    "        df, cluster, k, pr_merged_key, seed_counter\n",
    "    )\n",
    "    rev_abl_results[cluster_name] = (f1_scores, f1_mean, f1_std)\n",
    "\n",
    "    print(\n",
    "        f\"Performance of '{cluster_name}'\\n{list(cluster)}\\n{f1_scores=}\\n{f1_mean=}, {f1_std=}\\n\"\n",
    "    )"
   ]
  },
  {
   "cell_type": "code",
   "execution_count": 19,
   "metadata": {
    "execution": {
     "iopub.execute_input": "2024-02-21T17:14:35.383544Z",
     "iopub.status.busy": "2024-02-21T17:14:35.383367Z",
     "iopub.status.idle": "2024-02-21T17:14:35.405013Z",
     "shell.execute_reply": "2024-02-21T17:14:35.404624Z"
    }
   },
   "outputs": [
    {
     "name": "stdout",
     "output_type": "stream",
     "text": [
      "Reverse cluster ablation results:\n",
      "Cluster 'FeatureGroups.Control':\n",
      "f1_scores=[0.7969057228603953, 0.7973272788487271, 0.79573623338512, 0.7947568126940323, 0.7967385577446298]\n",
      "f1_mean=0.7962929211065809, f1_std=0.0009288212116134273\n",
      "\n",
      "Cluster 'FeatureGroups.Intra':\n",
      "f1_scores=[0.7944118539853308, 0.7927536948946486, 0.7929489263651914, 0.7938035093667882, 0.7929889038094564]\n",
      "f1_mean=0.7933813776842832, f1_std=0.0006285080961458457\n",
      "\n",
      "Cluster 'FeatureGroups.Eco':\n",
      "f1_scores=[0.7816638713781736, 0.7832966080265866, 0.7808045819081161, 0.7824648828223739, 0.7837970516467174]\n",
      "f1_mean=0.7824053991563935, f1_std=0.0010813849933218394\n",
      "\n",
      "Cluster 'FeatureGroups.DEco':\n",
      "f1_scores=[0.7953121472115601, 0.7926228175010077, 0.7938438502069473, 0.7923500746178928, 0.7933122751973317]\n",
      "f1_mean=0.7934882329469479, f1_std=0.0010515166461815672\n",
      "\n",
      "Cluster 'FeatureGroups.IDEco':\n",
      "f1_scores=[0.7932831335949375, 0.7947503300458182, 0.7937501766684569, 0.7934524482641638, 0.7906218549335904]\n",
      "f1_mean=0.7931715887013934, f1_std=0.0013725636533273948\n",
      "\n",
      "Cluster 'FeatureGroups.NDEco':\n",
      "f1_scores=[0.7828980130920847, 0.7835241991932399, 0.7809353064071886, 0.7839133663544798, 0.7833234789380327]\n",
      "f1_mean=0.7829188727970051, f1_std=0.0010444246608821324\n",
      "\n",
      "Cluster 'FeatureGroups.Coll':\n",
      "f1_scores=[0.7567389135213402, 0.7586072515250984, 0.7595656631419827, 0.7589816548109323, 0.7596531168558849]\n",
      "f1_mean=0.7587093199710477, f1_std=0.0010574650817835967\n",
      "\n"
     ]
    }
   ],
   "source": [
    "# Prints summarized results again for clarity.\n",
    "print(\"Reverse cluster ablation results:\")\n",
    "for cluster_name, (f1_scores, f1_mean, f1_std) in rev_abl_results.items():\n",
    "    print(f\"Cluster '{cluster_name}':\\n{f1_scores=}\\n{f1_mean=}, {f1_std=}\\n\")"
   ]
  },
  {
   "cell_type": "markdown",
   "metadata": {},
   "source": [
    "### Probability Guesser\n",
    "\n",
    "Guesses the outcome by simply considering the probability of a merged pull request.\n",
    "Technically, an RF model performs somewhat well when its performance scores are ``> 0.5`` as there are only two possible outcomes.\n",
    "However, they actually mean anything once it's better than a simple probability guesser."
   ]
  },
  {
   "cell_type": "code",
   "execution_count": 20,
   "metadata": {
    "execution": {
     "iopub.execute_input": "2024-02-21T17:14:35.406605Z",
     "iopub.status.busy": "2024-02-21T17:14:35.406486Z",
     "iopub.status.idle": "2024-02-21T17:14:35.540949Z",
     "shell.execute_reply": "2024-02-21T17:14:35.540548Z"
    }
   },
   "outputs": [
    {
     "name": "stdout",
     "output_type": "stream",
     "text": [
      "Probability guesser metrics with probability_true=0.6581781144268705.\n",
      "{\n",
      "    \"accuracy\": 0.5529110130301931,\n",
      "    \"precision\": 0.6592128165962132,\n",
      "    \"recall\": 0.6613860327529982,\n",
      "    \"f1\": 0.660297636520517\n",
      "}\n"
     ]
    }
   ],
   "source": [
    "import random\n",
    "\n",
    "from python_proj.modelling.notebooks.random_forest.rf_functions import calculate_metrics\n",
    "\n",
    "random.seed(seed_counter.get_next())\n",
    "\n",
    "probability_true = class_imbalance / (class_imbalance + 1)\n",
    "\n",
    "predictions = [random.random() < probability_true for _ in range(len(test_dependent))]\n",
    "metrics = calculate_metrics(predictions, test_dependent)\n",
    "\n",
    "print(f\"Probability guesser metrics with {probability_true=}.\")\n",
    "print(json.dumps(metrics, indent=4))"
   ]
  },
  {
   "cell_type": "code",
   "execution_count": 21,
   "metadata": {
    "execution": {
     "iopub.execute_input": "2024-02-21T17:14:35.542604Z",
     "iopub.status.busy": "2024-02-21T17:14:35.542480Z",
     "iopub.status.idle": "2024-02-21T17:14:35.562159Z",
     "shell.execute_reply": "2024-02-21T17:14:35.561819Z"
    }
   },
   "outputs": [
    {
     "name": "stdout",
     "output_type": "stream",
     "text": [
      "2024-02-21 17:14:35.560420\n"
     ]
    }
   ],
   "source": [
    "import datetime\n",
    "\n",
    "print(datetime.datetime.now())"
   ]
  }
 ],
 "metadata": {
  "kernelspec": {
   "display_name": "Python 3",
   "language": "python",
   "name": "python3"
  },
  "language_info": {
   "codemirror_mode": {
    "name": "ipython",
    "version": 3
   },
   "file_extension": ".py",
   "mimetype": "text/x-python",
   "name": "python",
   "nbconvert_exporter": "python",
   "pygments_lexer": "ipython3",
   "version": "3.11.8"
  }
 },
 "nbformat": 4,
 "nbformat_minor": 2
}