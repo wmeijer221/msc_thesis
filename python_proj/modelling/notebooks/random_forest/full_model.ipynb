{
 "cells": [
  {
   "cell_type": "code",
   "execution_count": 1,
   "metadata": {
    "execution": {
     "iopub.execute_input": "2024-02-21T09:39:41.228736Z",
     "iopub.status.busy": "2024-02-21T09:39:41.228619Z",
     "iopub.status.idle": "2024-02-21T09:39:41.241562Z",
     "shell.execute_reply": "2024-02-21T09:39:41.241285Z"
    }
   },
   "outputs": [],
   "source": [
    "# Forces the notebook to always reload packages.\n",
    "%reload_ext autoreload\n",
    "%autoreload 2"
   ]
  },
  {
   "cell_type": "markdown",
   "metadata": {},
   "source": [
    "## Dataset loading"
   ]
  },
  {
   "cell_type": "markdown",
   "metadata": {},
   "source": [
    "### Regular dataset loading"
   ]
  },
  {
   "cell_type": "code",
   "execution_count": 2,
   "metadata": {
    "execution": {
     "iopub.execute_input": "2024-02-21T09:39:41.243229Z",
     "iopub.status.busy": "2024-02-21T09:39:41.243118Z",
     "iopub.status.idle": "2024-02-21T09:39:41.559337Z",
     "shell.execute_reply": "2024-02-21T09:39:41.558978Z"
    }
   },
   "outputs": [],
   "source": [
    "from python_proj.utils.util import Counter\n",
    "import python_proj.utils.exp_utils as exp_utils\n",
    "\n",
    "# Defines a number of constants.\n",
    "\n",
    "file_name = \"dataset_transformed\"\n",
    "base_path = exp_utils.BASE_PATH\n",
    "data_path = f\"{base_path}/final_data/{file_name}.csv\"\n",
    "figure_base_path = f\"{base_path}/figures/modelling/{file_name}/rf_full/\"\n",
    "\n",
    "# Meta stuff.\n",
    "pr_merged_key = \"PullRequestIsMerged\"\n",
    "ftc_key = \"SubmitterIsFirstTimeContributor\"\n",
    "seed_counter = Counter()"
   ]
  },
  {
   "cell_type": "code",
   "execution_count": 3,
   "metadata": {
    "execution": {
     "iopub.execute_input": "2024-02-21T09:39:41.561963Z",
     "iopub.status.busy": "2024-02-21T09:39:41.561768Z",
     "iopub.status.idle": "2024-02-21T09:39:46.294601Z",
     "shell.execute_reply": "2024-02-21T09:39:46.294267Z"
    }
   },
   "outputs": [
    {
     "data": {
      "text/html": [
       "<div>\n",
       "<style scoped>\n",
       "    .dataframe tbody tr th:only-of-type {\n",
       "        vertical-align: middle;\n",
       "    }\n",
       "\n",
       "    .dataframe tbody tr th {\n",
       "        vertical-align: top;\n",
       "    }\n",
       "\n",
       "    .dataframe thead th {\n",
       "        text-align: right;\n",
       "    }\n",
       "</style>\n",
       "<table border=\"1\" class=\"dataframe\">\n",
       "  <thead>\n",
       "    <tr style=\"text-align: right;\">\n",
       "      <th></th>\n",
       "      <th>ID</th>\n",
       "      <th>Submitter ID</th>\n",
       "      <th>PR Number</th>\n",
       "      <th>IntraProjectSubmitterPullRequestSuccessRate</th>\n",
       "      <th>EcosystemExperienceSubmitterPullRequestSuccessRate</th>\n",
       "      <th>DependencyEcosystemExperienceSubmitterPullRequestSuccessRate</th>\n",
       "      <th>NonDependencyEcosystemExperienceSubmitterPullRequestSuccessRate</th>\n",
       "      <th>InversedDependencyEcosystemExperienceSubmitterPullRequestSuccessRate</th>\n",
       "      <th>ln(1 + ControlPullRequestLifeTimeInMinutes)</th>\n",
       "      <th>ln(1 + ControlNumberOfCommitsInPullRequest)</th>\n",
       "      <th>...</th>\n",
       "      <th>ln(1 + DependencyEcosystemExperienceSubmitterIssueSubmissionCount)</th>\n",
       "      <th>ln(1 + DependencyEcosystemExperienceSubmitterIssueCommentCount)</th>\n",
       "      <th>ln(1 + NonDependencyEcosystemExperienceSubmitterIssueSubmissionCount)</th>\n",
       "      <th>ln(1 + NonDependencyEcosystemExperienceSubmitterIssueCommentCount)</th>\n",
       "      <th>ln(1 + InversedDependencyEcosystemExperienceSubmitterIssueSubmissionCount)</th>\n",
       "      <th>ln(1 + InversedDependencyEcosystemExperienceSubmitterIssueCommentCount)</th>\n",
       "      <th>ln(1 + WeightedEcosystemSecondOrderDegreeCentrality)</th>\n",
       "      <th>ln(1 + WeightedIntraProjectSecondOrderDegreeCentrality)</th>\n",
       "      <th>ln(1 + EcosystemLinkIntensity)</th>\n",
       "      <th>ln(1 + IntraProjectLinkIntensity)</th>\n",
       "    </tr>\n",
       "  </thead>\n",
       "  <tbody>\n",
       "    <tr>\n",
       "      <th>count</th>\n",
       "      <td>1.216221e+06</td>\n",
       "      <td>1.216221e+06</td>\n",
       "      <td>1.216221e+06</td>\n",
       "      <td>1.216221e+06</td>\n",
       "      <td>1.216221e+06</td>\n",
       "      <td>1.216221e+06</td>\n",
       "      <td>1.216221e+06</td>\n",
       "      <td>1.216221e+06</td>\n",
       "      <td>1.216221e+06</td>\n",
       "      <td>1.216221e+06</td>\n",
       "      <td>...</td>\n",
       "      <td>1.216221e+06</td>\n",
       "      <td>1.216221e+06</td>\n",
       "      <td>1.216221e+06</td>\n",
       "      <td>1.216221e+06</td>\n",
       "      <td>1.216221e+06</td>\n",
       "      <td>1.216221e+06</td>\n",
       "      <td>1.216221e+06</td>\n",
       "      <td>1.216221e+06</td>\n",
       "      <td>1.216221e+06</td>\n",
       "      <td>1.216221e+06</td>\n",
       "    </tr>\n",
       "    <tr>\n",
       "      <th>mean</th>\n",
       "      <td>1.473092e+08</td>\n",
       "      <td>5.092504e+06</td>\n",
       "      <td>8.089130e+02</td>\n",
       "      <td>5.029367e-01</td>\n",
       "      <td>4.028501e-01</td>\n",
       "      <td>9.853429e-02</td>\n",
       "      <td>3.751776e-01</td>\n",
       "      <td>5.922709e-02</td>\n",
       "      <td>4.195426e-01</td>\n",
       "      <td>1.183858e-01</td>\n",
       "      <td>...</td>\n",
       "      <td>1.144450e-02</td>\n",
       "      <td>1.968795e-02</td>\n",
       "      <td>7.962418e-02</td>\n",
       "      <td>1.344287e-01</td>\n",
       "      <td>9.542167e-03</td>\n",
       "      <td>1.752697e-02</td>\n",
       "      <td>6.396780e-02</td>\n",
       "      <td>6.040052e-02</td>\n",
       "      <td>2.195312e-02</td>\n",
       "      <td>4.472791e-02</td>\n",
       "    </tr>\n",
       "    <tr>\n",
       "      <th>std</th>\n",
       "      <td>9.954409e+07</td>\n",
       "      <td>7.968202e+06</td>\n",
       "      <td>2.304617e+03</td>\n",
       "      <td>4.710606e-01</td>\n",
       "      <td>4.523397e-01</td>\n",
       "      <td>2.907111e-01</td>\n",
       "      <td>4.479337e-01</td>\n",
       "      <td>2.285036e-01</td>\n",
       "      <td>2.256901e-01</td>\n",
       "      <td>7.147764e-02</td>\n",
       "      <td>...</td>\n",
       "      <td>5.396848e-02</td>\n",
       "      <td>8.007560e-02</td>\n",
       "      <td>1.179799e-01</td>\n",
       "      <td>1.750052e-01</td>\n",
       "      <td>5.263118e-02</td>\n",
       "      <td>8.245257e-02</td>\n",
       "      <td>9.934566e-02</td>\n",
       "      <td>1.002992e-01</td>\n",
       "      <td>8.741610e-02</td>\n",
       "      <td>1.013945e-01</td>\n",
       "    </tr>\n",
       "    <tr>\n",
       "      <th>min</th>\n",
       "      <td>6.870000e+02</td>\n",
       "      <td>1.000000e+00</td>\n",
       "      <td>1.000000e+00</td>\n",
       "      <td>0.000000e+00</td>\n",
       "      <td>0.000000e+00</td>\n",
       "      <td>0.000000e+00</td>\n",
       "      <td>0.000000e+00</td>\n",
       "      <td>0.000000e+00</td>\n",
       "      <td>0.000000e+00</td>\n",
       "      <td>0.000000e+00</td>\n",
       "      <td>...</td>\n",
       "      <td>0.000000e+00</td>\n",
       "      <td>0.000000e+00</td>\n",
       "      <td>0.000000e+00</td>\n",
       "      <td>0.000000e+00</td>\n",
       "      <td>0.000000e+00</td>\n",
       "      <td>0.000000e+00</td>\n",
       "      <td>0.000000e+00</td>\n",
       "      <td>0.000000e+00</td>\n",
       "      <td>0.000000e+00</td>\n",
       "      <td>0.000000e+00</td>\n",
       "    </tr>\n",
       "    <tr>\n",
       "      <th>25%</th>\n",
       "      <td>5.924867e+07</td>\n",
       "      <td>4.674710e+05</td>\n",
       "      <td>5.000000e+01</td>\n",
       "      <td>0.000000e+00</td>\n",
       "      <td>0.000000e+00</td>\n",
       "      <td>0.000000e+00</td>\n",
       "      <td>0.000000e+00</td>\n",
       "      <td>0.000000e+00</td>\n",
       "      <td>2.365158e-01</td>\n",
       "      <td>7.525668e-02</td>\n",
       "      <td>...</td>\n",
       "      <td>0.000000e+00</td>\n",
       "      <td>0.000000e+00</td>\n",
       "      <td>0.000000e+00</td>\n",
       "      <td>0.000000e+00</td>\n",
       "      <td>0.000000e+00</td>\n",
       "      <td>0.000000e+00</td>\n",
       "      <td>0.000000e+00</td>\n",
       "      <td>0.000000e+00</td>\n",
       "      <td>0.000000e+00</td>\n",
       "      <td>0.000000e+00</td>\n",
       "    </tr>\n",
       "    <tr>\n",
       "      <th>50%</th>\n",
       "      <td>1.366714e+08</td>\n",
       "      <td>1.633887e+06</td>\n",
       "      <td>1.990000e+02</td>\n",
       "      <td>6.800000e-01</td>\n",
       "      <td>0.000000e+00</td>\n",
       "      <td>0.000000e+00</td>\n",
       "      <td>0.000000e+00</td>\n",
       "      <td>0.000000e+00</td>\n",
       "      <td>4.433349e-01</td>\n",
       "      <td>7.525668e-02</td>\n",
       "      <td>...</td>\n",
       "      <td>0.000000e+00</td>\n",
       "      <td>0.000000e+00</td>\n",
       "      <td>0.000000e+00</td>\n",
       "      <td>7.753347e-02</td>\n",
       "      <td>0.000000e+00</td>\n",
       "      <td>0.000000e+00</td>\n",
       "      <td>8.453635e-03</td>\n",
       "      <td>0.000000e+00</td>\n",
       "      <td>0.000000e+00</td>\n",
       "      <td>0.000000e+00</td>\n",
       "    </tr>\n",
       "    <tr>\n",
       "      <th>75%</th>\n",
       "      <td>2.260994e+08</td>\n",
       "      <td>6.254382e+06</td>\n",
       "      <td>6.840000e+02</td>\n",
       "      <td>1.000000e+00</td>\n",
       "      <td>9.391304e-01</td>\n",
       "      <td>0.000000e+00</td>\n",
       "      <td>9.230769e-01</td>\n",
       "      <td>0.000000e+00</td>\n",
       "      <td>5.863557e-01</td>\n",
       "      <td>1.505134e-01</td>\n",
       "      <td>...</td>\n",
       "      <td>0.000000e+00</td>\n",
       "      <td>0.000000e+00</td>\n",
       "      <td>1.416667e-01</td>\n",
       "      <td>2.326004e-01</td>\n",
       "      <td>0.000000e+00</td>\n",
       "      <td>0.000000e+00</td>\n",
       "      <td>9.892883e-02</td>\n",
       "      <td>8.837267e-02</td>\n",
       "      <td>0.000000e+00</td>\n",
       "      <td>2.582313e-02</td>\n",
       "    </tr>\n",
       "    <tr>\n",
       "      <th>max</th>\n",
       "      <td>3.617756e+08</td>\n",
       "      <td>5.973444e+07</td>\n",
       "      <td>8.297600e+04</td>\n",
       "      <td>1.000000e+00</td>\n",
       "      <td>1.000000e+00</td>\n",
       "      <td>1.000000e+00</td>\n",
       "      <td>1.000000e+00</td>\n",
       "      <td>1.000000e+00</td>\n",
       "      <td>1.000000e+00</td>\n",
       "      <td>1.000000e+00</td>\n",
       "      <td>...</td>\n",
       "      <td>1.000000e+00</td>\n",
       "      <td>1.000000e+00</td>\n",
       "      <td>1.000000e+00</td>\n",
       "      <td>1.000000e+00</td>\n",
       "      <td>1.000000e+00</td>\n",
       "      <td>1.000000e+00</td>\n",
       "      <td>1.000000e+00</td>\n",
       "      <td>1.000000e+00</td>\n",
       "      <td>1.000000e+00</td>\n",
       "      <td>1.000000e+00</td>\n",
       "    </tr>\n",
       "  </tbody>\n",
       "</table>\n",
       "<p>8 rows × 35 columns</p>\n",
       "</div>"
      ],
      "text/plain": [
       "                 ID  Submitter ID     PR Number   \n",
       "count  1.216221e+06  1.216221e+06  1.216221e+06  \\\n",
       "mean   1.473092e+08  5.092504e+06  8.089130e+02   \n",
       "std    9.954409e+07  7.968202e+06  2.304617e+03   \n",
       "min    6.870000e+02  1.000000e+00  1.000000e+00   \n",
       "25%    5.924867e+07  4.674710e+05  5.000000e+01   \n",
       "50%    1.366714e+08  1.633887e+06  1.990000e+02   \n",
       "75%    2.260994e+08  6.254382e+06  6.840000e+02   \n",
       "max    3.617756e+08  5.973444e+07  8.297600e+04   \n",
       "\n",
       "       IntraProjectSubmitterPullRequestSuccessRate   \n",
       "count                                 1.216221e+06  \\\n",
       "mean                                  5.029367e-01   \n",
       "std                                   4.710606e-01   \n",
       "min                                   0.000000e+00   \n",
       "25%                                   0.000000e+00   \n",
       "50%                                   6.800000e-01   \n",
       "75%                                   1.000000e+00   \n",
       "max                                   1.000000e+00   \n",
       "\n",
       "       EcosystemExperienceSubmitterPullRequestSuccessRate   \n",
       "count                                       1.216221e+06   \\\n",
       "mean                                        4.028501e-01    \n",
       "std                                         4.523397e-01    \n",
       "min                                         0.000000e+00    \n",
       "25%                                         0.000000e+00    \n",
       "50%                                         0.000000e+00    \n",
       "75%                                         9.391304e-01    \n",
       "max                                         1.000000e+00    \n",
       "\n",
       "       DependencyEcosystemExperienceSubmitterPullRequestSuccessRate   \n",
       "count                                       1.216221e+06             \\\n",
       "mean                                        9.853429e-02              \n",
       "std                                         2.907111e-01              \n",
       "min                                         0.000000e+00              \n",
       "25%                                         0.000000e+00              \n",
       "50%                                         0.000000e+00              \n",
       "75%                                         0.000000e+00              \n",
       "max                                         1.000000e+00              \n",
       "\n",
       "       NonDependencyEcosystemExperienceSubmitterPullRequestSuccessRate   \n",
       "count                                       1.216221e+06                \\\n",
       "mean                                        3.751776e-01                 \n",
       "std                                         4.479337e-01                 \n",
       "min                                         0.000000e+00                 \n",
       "25%                                         0.000000e+00                 \n",
       "50%                                         0.000000e+00                 \n",
       "75%                                         9.230769e-01                 \n",
       "max                                         1.000000e+00                 \n",
       "\n",
       "       InversedDependencyEcosystemExperienceSubmitterPullRequestSuccessRate   \n",
       "count                                       1.216221e+06                     \\\n",
       "mean                                        5.922709e-02                      \n",
       "std                                         2.285036e-01                      \n",
       "min                                         0.000000e+00                      \n",
       "25%                                         0.000000e+00                      \n",
       "50%                                         0.000000e+00                      \n",
       "75%                                         0.000000e+00                      \n",
       "max                                         1.000000e+00                      \n",
       "\n",
       "       ln(1 + ControlPullRequestLifeTimeInMinutes)   \n",
       "count                                 1.216221e+06  \\\n",
       "mean                                  4.195426e-01   \n",
       "std                                   2.256901e-01   \n",
       "min                                   0.000000e+00   \n",
       "25%                                   2.365158e-01   \n",
       "50%                                   4.433349e-01   \n",
       "75%                                   5.863557e-01   \n",
       "max                                   1.000000e+00   \n",
       "\n",
       "       ln(1 + ControlNumberOfCommitsInPullRequest)  ...   \n",
       "count                                 1.216221e+06  ...  \\\n",
       "mean                                  1.183858e-01  ...   \n",
       "std                                   7.147764e-02  ...   \n",
       "min                                   0.000000e+00  ...   \n",
       "25%                                   7.525668e-02  ...   \n",
       "50%                                   7.525668e-02  ...   \n",
       "75%                                   1.505134e-01  ...   \n",
       "max                                   1.000000e+00  ...   \n",
       "\n",
       "       ln(1 + DependencyEcosystemExperienceSubmitterIssueSubmissionCount)   \n",
       "count                                       1.216221e+06                   \\\n",
       "mean                                        1.144450e-02                    \n",
       "std                                         5.396848e-02                    \n",
       "min                                         0.000000e+00                    \n",
       "25%                                         0.000000e+00                    \n",
       "50%                                         0.000000e+00                    \n",
       "75%                                         0.000000e+00                    \n",
       "max                                         1.000000e+00                    \n",
       "\n",
       "       ln(1 + DependencyEcosystemExperienceSubmitterIssueCommentCount)   \n",
       "count                                       1.216221e+06                \\\n",
       "mean                                        1.968795e-02                 \n",
       "std                                         8.007560e-02                 \n",
       "min                                         0.000000e+00                 \n",
       "25%                                         0.000000e+00                 \n",
       "50%                                         0.000000e+00                 \n",
       "75%                                         0.000000e+00                 \n",
       "max                                         1.000000e+00                 \n",
       "\n",
       "       ln(1 + NonDependencyEcosystemExperienceSubmitterIssueSubmissionCount)   \n",
       "count                                       1.216221e+06                      \\\n",
       "mean                                        7.962418e-02                       \n",
       "std                                         1.179799e-01                       \n",
       "min                                         0.000000e+00                       \n",
       "25%                                         0.000000e+00                       \n",
       "50%                                         0.000000e+00                       \n",
       "75%                                         1.416667e-01                       \n",
       "max                                         1.000000e+00                       \n",
       "\n",
       "       ln(1 + NonDependencyEcosystemExperienceSubmitterIssueCommentCount)   \n",
       "count                                       1.216221e+06                   \\\n",
       "mean                                        1.344287e-01                    \n",
       "std                                         1.750052e-01                    \n",
       "min                                         0.000000e+00                    \n",
       "25%                                         0.000000e+00                    \n",
       "50%                                         7.753347e-02                    \n",
       "75%                                         2.326004e-01                    \n",
       "max                                         1.000000e+00                    \n",
       "\n",
       "       ln(1 + InversedDependencyEcosystemExperienceSubmitterIssueSubmissionCount)   \n",
       "count                                       1.216221e+06                           \\\n",
       "mean                                        9.542167e-03                            \n",
       "std                                         5.263118e-02                            \n",
       "min                                         0.000000e+00                            \n",
       "25%                                         0.000000e+00                            \n",
       "50%                                         0.000000e+00                            \n",
       "75%                                         0.000000e+00                            \n",
       "max                                         1.000000e+00                            \n",
       "\n",
       "       ln(1 + InversedDependencyEcosystemExperienceSubmitterIssueCommentCount)   \n",
       "count                                       1.216221e+06                        \\\n",
       "mean                                        1.752697e-02                         \n",
       "std                                         8.245257e-02                         \n",
       "min                                         0.000000e+00                         \n",
       "25%                                         0.000000e+00                         \n",
       "50%                                         0.000000e+00                         \n",
       "75%                                         0.000000e+00                         \n",
       "max                                         1.000000e+00                         \n",
       "\n",
       "       ln(1 + WeightedEcosystemSecondOrderDegreeCentrality)   \n",
       "count                                       1.216221e+06     \\\n",
       "mean                                        6.396780e-02      \n",
       "std                                         9.934566e-02      \n",
       "min                                         0.000000e+00      \n",
       "25%                                         0.000000e+00      \n",
       "50%                                         8.453635e-03      \n",
       "75%                                         9.892883e-02      \n",
       "max                                         1.000000e+00      \n",
       "\n",
       "       ln(1 + WeightedIntraProjectSecondOrderDegreeCentrality)   \n",
       "count                                       1.216221e+06        \\\n",
       "mean                                        6.040052e-02         \n",
       "std                                         1.002992e-01         \n",
       "min                                         0.000000e+00         \n",
       "25%                                         0.000000e+00         \n",
       "50%                                         0.000000e+00         \n",
       "75%                                         8.837267e-02         \n",
       "max                                         1.000000e+00         \n",
       "\n",
       "       ln(1 + EcosystemLinkIntensity)  ln(1 + IntraProjectLinkIntensity)  \n",
       "count                    1.216221e+06                       1.216221e+06  \n",
       "mean                     2.195312e-02                       4.472791e-02  \n",
       "std                      8.741610e-02                       1.013945e-01  \n",
       "min                      0.000000e+00                       0.000000e+00  \n",
       "25%                      0.000000e+00                       0.000000e+00  \n",
       "50%                      0.000000e+00                       0.000000e+00  \n",
       "75%                      0.000000e+00                       2.582313e-02  \n",
       "max                      1.000000e+00                       1.000000e+00  \n",
       "\n",
       "[8 rows x 35 columns]"
      ]
     },
     "execution_count": 3,
     "metadata": {},
     "output_type": "execute_result"
    }
   ],
   "source": [
    "import pandas as pd\n",
    "import numpy as np\n",
    "import json\n",
    "\n",
    "\n",
    "# Loads regular dataframe.\n",
    "df: pd.DataFrame = pd.read_csv(filepath_or_buffer=data_path, header=0)\n",
    "\n",
    "# Creates sub-datasets.\n",
    "metadata_fields = [\"ID\", \"Project Name\", \"Submitter ID\", \"PR Number\", \"Closed At\"]\n",
    "dependent_fields = [pr_merged_key]\n",
    "\n",
    "df.describe()"
   ]
  },
  {
   "cell_type": "code",
   "execution_count": 4,
   "metadata": {
    "execution": {
     "iopub.execute_input": "2024-02-21T09:39:46.296382Z",
     "iopub.status.busy": "2024-02-21T09:39:46.296134Z",
     "iopub.status.idle": "2024-02-21T09:39:46.310028Z",
     "shell.execute_reply": "2024-02-21T09:39:46.309660Z"
    }
   },
   "outputs": [
    {
     "name": "stdout",
     "output_type": "stream",
     "text": [
      "['ID', 'Project Name', 'Submitter ID', 'PR Number', 'Closed At', 'PullRequestIsMerged', 'ControlIntegratedBySameUser', 'ControlPullRequestHasComments', 'ControlPullRequestHasCommentByExternalUser', 'ControlHasHashTagInDescription', 'IntraProjectSubmitterPullRequestSuccessRate', 'EcosystemExperienceSubmitterPullRequestSuccessRate', 'DependencyEcosystemExperienceSubmitterPullRequestSuccessRate', 'NonDependencyEcosystemExperienceSubmitterPullRequestSuccessRate', 'InversedDependencyEcosystemExperienceSubmitterPullRequestSuccessRate', 'SubmitterIsFirstTimeContributor', 'ln(1 + ControlPullRequestLifeTimeInMinutes)', 'ln(1 + ControlNumberOfCommitsInPullRequest)', 'ln(1 + ControlIntraProjectPullRequestExperienceOfIntegrator)', 'ln(1 + IntraProjectSubmitterPullRequestSubmissionCount)', 'ln(1 + IntraProjectSubmitterPullRequestCommentCount)', 'ln(1 + EcosystemExperienceSubmitterPullRequestSubmissionCount)', 'ln(1 + EcosystemExperienceSubmitterPullRequestCommentCount)', 'ln(1 + DependencyEcosystemExperienceSubmitterPullRequestSubmissionCount)', 'ln(1 + DependencyEcosystemExperienceSubmitterPullRequestCommentCount)', 'ln(1 + NonDependencyEcosystemExperienceSubmitterPullRequestSubmissionCount)', 'ln(1 + NonDependencyEcosystemExperienceSubmitterPullRequestCommentCount)', 'ln(1 + InversedDependencyEcosystemExperienceSubmitterPullRequestSubmissionCount)', 'ln(1 + InversedDependencyEcosystemExperienceSubmitterPullRequestCommentCount)', 'ln(1 + IntraProjectSubmitterIssueSubmissionCount)', 'ln(1 + IntraProjectSubmitterIssueCommentCount)', 'ln(1 + EcosystemExperienceSubmitterIssueSubmissionCount)', 'ln(1 + EcosystemExperienceSubmitterIssueCommentCount)', 'ln(1 + DependencyEcosystemExperienceSubmitterIssueSubmissionCount)', 'ln(1 + DependencyEcosystemExperienceSubmitterIssueCommentCount)', 'ln(1 + NonDependencyEcosystemExperienceSubmitterIssueSubmissionCount)', 'ln(1 + NonDependencyEcosystemExperienceSubmitterIssueCommentCount)', 'ln(1 + InversedDependencyEcosystemExperienceSubmitterIssueSubmissionCount)', 'ln(1 + InversedDependencyEcosystemExperienceSubmitterIssueCommentCount)', 'ln(1 + WeightedEcosystemSecondOrderDegreeCentrality)', 'ln(1 + WeightedIntraProjectSecondOrderDegreeCentrality)', 'ln(1 + EcosystemLinkIntensity)', 'ln(1 + IntraProjectLinkIntensity)']\n"
     ]
    }
   ],
   "source": [
    "print(list(df.columns))"
   ]
  },
  {
   "cell_type": "code",
   "execution_count": null,
   "metadata": {},
   "outputs": [],
   "source": [
    "intra_collab_fields = [\n",
    "    \"ln(1 + WeightedIntraProjectSecondOrderDegreeCentrality)\",\n",
    "    \"ln(1 + IntraProjectLinkIntensity)\",\n",
    "]\n",
    "\n",
    "df = df.drop(intra_collab_fields, axis=1)"
   ]
  },
  {
   "cell_type": "code",
   "execution_count": 5,
   "metadata": {
    "execution": {
     "iopub.execute_input": "2024-02-21T09:39:46.311613Z",
     "iopub.status.busy": "2024-02-21T09:39:46.311382Z",
     "iopub.status.idle": "2024-02-21T09:39:46.325233Z",
     "shell.execute_reply": "2024-02-21T09:39:46.324805Z"
    }
   },
   "outputs": [],
   "source": [
    "# Identifieds independent / predictor fields.\n",
    "\n",
    "\n",
    "def is_independent_field(field: str) -> bool:\n",
    "    return field not in metadata_fields and field != pr_merged_key\n",
    "\n",
    "\n",
    "independent_fields = list(filter(is_independent_field, df.columns))"
   ]
  },
  {
   "cell_type": "code",
   "execution_count": 6,
   "metadata": {
    "execution": {
     "iopub.execute_input": "2024-02-21T09:39:46.327219Z",
     "iopub.status.busy": "2024-02-21T09:39:46.326967Z",
     "iopub.status.idle": "2024-02-21T09:39:46.344758Z",
     "shell.execute_reply": "2024-02-21T09:39:46.344414Z"
    }
   },
   "outputs": [
    {
     "name": "stdout",
     "output_type": "stream",
     "text": [
      "class_imbalance=3.6991542286634957\n"
     ]
    }
   ],
   "source": [
    "# Calculates class imbalance.\n",
    "class_counts = df[pr_merged_key].value_counts()\n",
    "class_imbalance = class_counts[True] / class_counts[False]\n",
    "print(f\"{class_imbalance=}\")"
   ]
  },
  {
   "cell_type": "markdown",
   "metadata": {},
   "source": [
    "## Model Creation"
   ]
  },
  {
   "cell_type": "code",
   "execution_count": 7,
   "metadata": {
    "execution": {
     "iopub.execute_input": "2024-02-21T09:39:46.346357Z",
     "iopub.status.busy": "2024-02-21T09:39:46.346160Z",
     "iopub.status.idle": "2024-02-21T09:39:46.359933Z",
     "shell.execute_reply": "2024-02-21T09:39:46.359573Z"
    }
   },
   "outputs": [
    {
     "name": "stdout",
     "output_type": "stream",
     "text": [
      "Using k=5 folds.\n"
     ]
    }
   ],
   "source": [
    "k = 5\n",
    "print(f\"Using {k=} folds.\")"
   ]
  },
  {
   "cell_type": "markdown",
   "metadata": {},
   "source": [
    "Generates a number of feature groups that are relevant later in the pipeline:\n",
    "- control variables\n",
    "- intra-project experience\n",
    "- ecosystem experience\n",
    "- dependency ecosystem experience\n",
    "- inverse dependency ecosystem experience\n",
    "- non-dependency ecosystem experience\n",
    "- collaboration variables"
   ]
  },
  {
   "cell_type": "code",
   "execution_count": 8,
   "metadata": {
    "execution": {
     "iopub.execute_input": "2024-02-21T09:39:46.361404Z",
     "iopub.status.busy": "2024-02-21T09:39:46.361247Z",
     "iopub.status.idle": "2024-02-21T09:39:46.378884Z",
     "shell.execute_reply": "2024-02-21T09:39:46.378530Z"
    }
   },
   "outputs": [
    {
     "name": "stdout",
     "output_type": "stream",
     "text": [
      "Feature groups:\n",
      "{\n",
      "  \"FeatureGroups.Control\": [\n",
      "    \"ControlIntegratedBySameUser\",\n",
      "    \"ControlPullRequestHasComments\",\n",
      "    \"ControlPullRequestHasCommentByExternalUser\",\n",
      "    \"ControlHasHashTagInDescription\",\n",
      "    \"ln(1 + ControlPullRequestLifeTimeInMinutes)\",\n",
      "    \"ln(1 + ControlNumberOfCommitsInPullRequest)\",\n",
      "    \"ln(1 + ControlIntraProjectPullRequestExperienceOfIntegrator)\"\n",
      "  ],\n",
      "  \"FeatureGroups.Intra\": [\n",
      "    \"IntraProjectSubmitterPullRequestSuccessRate\",\n",
      "    \"ln(1 + IntraProjectSubmitterPullRequestSubmissionCount)\",\n",
      "    \"ln(1 + IntraProjectSubmitterPullRequestCommentCount)\",\n",
      "    \"ln(1 + IntraProjectSubmitterIssueSubmissionCount)\",\n",
      "    \"ln(1 + IntraProjectSubmitterIssueCommentCount)\"\n",
      "  ],\n",
      "  \"FeatureGroups.Eco\": [\n",
      "    \"EcosystemExperienceSubmitterPullRequestSuccessRate\",\n",
      "    \"ln(1 + EcosystemExperienceSubmitterPullRequestSubmissionCount)\",\n",
      "    \"ln(1 + EcosystemExperienceSubmitterPullRequestCommentCount)\",\n",
      "    \"ln(1 + EcosystemExperienceSubmitterIssueSubmissionCount)\",\n",
      "    \"ln(1 + EcosystemExperienceSubmitterIssueCommentCount)\"\n",
      "  ],\n",
      "  \"FeatureGroups.DEco\": [\n",
      "    \"DependencyEcosystemExperienceSubmitterPullRequestSuccessRate\",\n",
      "    \"ln(1 + DependencyEcosystemExperienceSubmitterPullRequestSubmissionCount)\",\n",
      "    \"ln(1 + DependencyEcosystemExperienceSubmitterPullRequestCommentCount)\",\n",
      "    \"ln(1 + DependencyEcosystemExperienceSubmitterIssueSubmissionCount)\",\n",
      "    \"ln(1 + DependencyEcosystemExperienceSubmitterIssueCommentCount)\"\n",
      "  ],\n",
      "  \"FeatureGroups.IDEco\": [\n",
      "    \"InversedDependencyEcosystemExperienceSubmitterPullRequestSuccessRate\",\n",
      "    \"ln(1 + InversedDependencyEcosystemExperienceSubmitterPullRequestSubmissionCount)\",\n",
      "    \"ln(1 + InversedDependencyEcosystemExperienceSubmitterPullRequestCommentCount)\",\n",
      "    \"ln(1 + InversedDependencyEcosystemExperienceSubmitterIssueSubmissionCount)\",\n",
      "    \"ln(1 + InversedDependencyEcosystemExperienceSubmitterIssueCommentCount)\"\n",
      "  ],\n",
      "  \"FeatureGroups.NDEco\": [\n",
      "    \"NonDependencyEcosystemExperienceSubmitterPullRequestSuccessRate\",\n",
      "    \"ln(1 + NonDependencyEcosystemExperienceSubmitterPullRequestSubmissionCount)\",\n",
      "    \"ln(1 + NonDependencyEcosystemExperienceSubmitterPullRequestCommentCount)\",\n",
      "    \"ln(1 + NonDependencyEcosystemExperienceSubmitterIssueSubmissionCount)\",\n",
      "    \"ln(1 + NonDependencyEcosystemExperienceSubmitterIssueCommentCount)\"\n",
      "  ],\n",
      "  \"FeatureGroups.Coll\": [\n",
      "    \"ln(1 + WeightedEcosystemSecondOrderDegreeCentrality)\",\n",
      "    \"ln(1 + EcosystemLinkIntensity)\"\n",
      "  ]\n",
      "}\n"
     ]
    }
   ],
   "source": [
    "from enum import Enum\n",
    "from python_proj.utils.util import get_matching\n",
    "\n",
    "# Defines feature groups\n",
    "\n",
    "\n",
    "class FeatureGroups(Enum):\n",
    "    Control = 1\n",
    "    Intra = 2\n",
    "    Eco = 3\n",
    "    DEco = 4\n",
    "    IDEco = 5\n",
    "    NDEco = 6\n",
    "    Coll = 7\n",
    "\n",
    "\n",
    "var_group_regex_patterns = [\n",
    "    (FeatureGroups.Control, r\".*Control.*\"),\n",
    "    (\n",
    "        FeatureGroups.Intra,\n",
    "        r\"^(?:(?!Control|Degree|Link).)*Intra(?:(?!Control|Degree|Link).)*$\",\n",
    "    ),\n",
    "    (FeatureGroups.Eco, r\"^(?:(?!Dependency).)*Ecosystem(?:(?!Degree|Link).)*$\"),\n",
    "    (FeatureGroups.DEco, r\"^(?!.*(Inverse|Non)).*(?=Dependency).*\"),\n",
    "    (FeatureGroups.IDEco, r\".*(?=Inverse).*\"),\n",
    "    (FeatureGroups.NDEco, r\".*(?=NonDependency).*\"),\n",
    "    (FeatureGroups.Coll, r\"^(?:(?!Intra).)*(Weighted|LinkIntensity)(?:(?!Intra).)*$\"),\n",
    "]\n",
    "\n",
    "# Resolves the regex patterns to generate lists of fields.\n",
    "var_groups = {\n",
    "    str(name): list(get_matching(independent_fields, pattern))\n",
    "    for name, pattern in var_group_regex_patterns\n",
    "}\n",
    "\n",
    "\n",
    "print(\"Feature groups:\")\n",
    "print(json.dumps(var_groups, indent=2))"
   ]
  },
  {
   "cell_type": "code",
   "execution_count": 9,
   "metadata": {
    "execution": {
     "iopub.execute_input": "2024-02-21T09:39:46.380266Z",
     "iopub.status.busy": "2024-02-21T09:39:46.380121Z",
     "iopub.status.idle": "2024-02-21T09:39:46.393582Z",
     "shell.execute_reply": "2024-02-21T09:39:46.393276Z"
    }
   },
   "outputs": [],
   "source": [
    "from wmutils.collections.list_access import flatten\n",
    "\n",
    "\n",
    "def get_feature_groups(*feature_groups) -> list[str]:\n",
    "    return list(flatten(var_groups[str(group)] for group in feature_groups))"
   ]
  },
  {
   "cell_type": "markdown",
   "metadata": {},
   "source": [
    "### Full Model"
   ]
  },
  {
   "cell_type": "code",
   "execution_count": 10,
   "metadata": {
    "execution": {
     "iopub.execute_input": "2024-02-21T09:39:46.395332Z",
     "iopub.status.busy": "2024-02-21T09:39:46.395160Z",
     "iopub.status.idle": "2024-02-21T10:00:11.768781Z",
     "shell.execute_reply": "2024-02-21T10:00:11.768330Z"
    }
   },
   "outputs": [
    {
     "name": "stdout",
     "output_type": "stream",
     "text": [
      "random_state=43"
     ]
    },
    {
     "name": "stdout",
     "output_type": "stream",
     "text": [
      "\n"
     ]
    },
    {
     "name": "stdout",
     "output_type": "stream",
     "text": [
      "random_state=43"
     ]
    },
    {
     "name": "stdout",
     "output_type": "stream",
     "text": [
      "\n"
     ]
    },
    {
     "name": "stdout",
     "output_type": "stream",
     "text": [
      "random_state=43"
     ]
    },
    {
     "name": "stdout",
     "output_type": "stream",
     "text": [
      "\n"
     ]
    },
    {
     "name": "stdout",
     "output_type": "stream",
     "text": [
      "random_state=43"
     ]
    },
    {
     "name": "stdout",
     "output_type": "stream",
     "text": [
      "\n"
     ]
    },
    {
     "name": "stdout",
     "output_type": "stream",
     "text": [
      "random_state=43"
     ]
    },
    {
     "name": "stdout",
     "output_type": "stream",
     "text": [
      "\n"
     ]
    },
    {
     "name": "stdout",
     "output_type": "stream",
     "text": [
      "metrics={'accuracy': 0.8749691667625923, 'precision': 0.8994257287398238, 'recall': 0.9472181926340287, 'f1': 0.922703509133099}\n"
     ]
    },
    {
     "name": "stdout",
     "output_type": "stream",
     "text": [
      "\n"
     ]
    },
    {
     "name": "stdout",
     "output_type": "stream",
     "text": [
      "Confusion matrix:\n",
      "[[ 31308  20298]\n",
      " [ 10115 181523]]\n"
     ]
    },
    {
     "name": "stdout",
     "output_type": "stream",
     "text": [
      "\n"
     ]
    },
    {
     "name": "stdout",
     "output_type": "stream",
     "text": [
      "Classification report:"
     ]
    },
    {
     "name": "stdout",
     "output_type": "stream",
     "text": [
      "\n"
     ]
    },
    {
     "name": "stdout",
     "output_type": "stream",
     "text": [
      "              precision    recall  f1-score   support\n",
      "\n",
      "       False       0.76      0.61      0.67     51606\n",
      "        True       0.90      0.95      0.92    191638\n",
      "\n",
      "    accuracy                           0.87    243244\n",
      "   macro avg       0.83      0.78      0.80    243244\n",
      "weighted avg       0.87      0.87      0.87    243244\n"
     ]
    },
    {
     "name": "stdout",
     "output_type": "stream",
     "text": [
      "\n"
     ]
    },
    {
     "name": "stdout",
     "output_type": "stream",
     "text": [
      "metrics={'accuracy': 0.8734650249748196, 'precision': 0.8971733159444346, 'recall': 0.9479895812127761, 'f1': 0.9218817020088578}\n"
     ]
    },
    {
     "name": "stdout",
     "output_type": "stream",
     "text": [
      "\n"
     ]
    },
    {
     "name": "stdout",
     "output_type": "stream",
     "text": [
      "Confusion matrix:\n",
      "[[ 30853  20815]\n",
      " [  9964 181613]]\n"
     ]
    },
    {
     "name": "stdout",
     "output_type": "stream",
     "text": [
      "\n"
     ]
    },
    {
     "name": "stdout",
     "output_type": "stream",
     "text": [
      "Classification report:"
     ]
    },
    {
     "name": "stdout",
     "output_type": "stream",
     "text": [
      "\n"
     ]
    },
    {
     "name": "stdout",
     "output_type": "stream",
     "text": [
      "              precision    recall  f1-score   support\n",
      "\n",
      "       False       0.76      0.60      0.67     51668\n",
      "        True       0.90      0.95      0.92    191577\n",
      "\n",
      "    accuracy                           0.87    243245\n",
      "   macro avg       0.83      0.77      0.79    243245\n",
      "weighted avg       0.87      0.87      0.87    243245\n"
     ]
    },
    {
     "name": "stdout",
     "output_type": "stream",
     "text": [
      "\n"
     ]
    },
    {
     "name": "stdout",
     "output_type": "stream",
     "text": [
      "metrics={'accuracy': 0.8715733995494236, 'precision': 0.8962530885899195, 'recall': 0.9462224499184476, 'f1': 0.9205601653947579}\n"
     ]
    },
    {
     "name": "stdout",
     "output_type": "stream",
     "text": [
      "\n"
     ]
    },
    {
     "name": "stdout",
     "output_type": "stream",
     "text": [
      "Confusion matrix:\n",
      "[[ 31004  20952]\n",
      " [ 10287 181001]]\n"
     ]
    },
    {
     "name": "stdout",
     "output_type": "stream",
     "text": [
      "\n"
     ]
    },
    {
     "name": "stdout",
     "output_type": "stream",
     "text": [
      "Classification report:"
     ]
    },
    {
     "name": "stdout",
     "output_type": "stream",
     "text": [
      "\n"
     ]
    },
    {
     "name": "stdout",
     "output_type": "stream",
     "text": [
      "              precision    recall  f1-score   support\n",
      "\n",
      "       False       0.75      0.60      0.66     51956\n",
      "        True       0.90      0.95      0.92    191288\n",
      "\n",
      "    accuracy                           0.87    243244\n",
      "   macro avg       0.82      0.77      0.79    243244\n",
      "weighted avg       0.87      0.87      0.87    243244\n"
     ]
    },
    {
     "name": "stdout",
     "output_type": "stream",
     "text": [
      "\n"
     ]
    },
    {
     "name": "stdout",
     "output_type": "stream",
     "text": [
      "metrics={'accuracy': 0.8740400585420401, 'precision': 0.8974063770808525, 'recall': 0.9484265825561115, 'f1': 0.9222113614725486}\n"
     ]
    },
    {
     "name": "stdout",
     "output_type": "stream",
     "text": [
      "\n"
     ]
    },
    {
     "name": "stdout",
     "output_type": "stream",
     "text": [
      "Confusion matrix:\n",
      "[[ 30987  20763]\n",
      " [  9876 181618]]\n"
     ]
    },
    {
     "name": "stdout",
     "output_type": "stream",
     "text": [
      "\n"
     ]
    },
    {
     "name": "stdout",
     "output_type": "stream",
     "text": [
      "Classification report:"
     ]
    },
    {
     "name": "stdout",
     "output_type": "stream",
     "text": [
      "\n"
     ]
    },
    {
     "name": "stdout",
     "output_type": "stream",
     "text": [
      "              precision    recall  f1-score   support\n",
      "\n",
      "       False       0.76      0.60      0.67     51750\n",
      "        True       0.90      0.95      0.92    191494\n",
      "\n",
      "    accuracy                           0.87    243244\n",
      "   macro avg       0.83      0.77      0.80    243244\n",
      "weighted avg       0.87      0.87      0.87    243244\n"
     ]
    },
    {
     "name": "stdout",
     "output_type": "stream",
     "text": [
      "\n"
     ]
    },
    {
     "name": "stdout",
     "output_type": "stream",
     "text": [
      "metrics={'accuracy': 0.8728807288155104, 'precision': 0.8965045262284065, 'recall': 0.947880694018505, 'f1': 0.9214770571609237}\n"
     ]
    },
    {
     "name": "stdout",
     "output_type": "stream",
     "text": [
      "\n"
     ]
    },
    {
     "name": "stdout",
     "output_type": "stream",
     "text": [
      "Confusion matrix:\n",
      "[[ 30892  20945]\n",
      " [  9976 181431]]\n"
     ]
    },
    {
     "name": "stdout",
     "output_type": "stream",
     "text": [
      "\n"
     ]
    },
    {
     "name": "stdout",
     "output_type": "stream",
     "text": [
      "Classification report:"
     ]
    },
    {
     "name": "stdout",
     "output_type": "stream",
     "text": [
      "\n"
     ]
    },
    {
     "name": "stdout",
     "output_type": "stream",
     "text": [
      "              precision    recall  f1-score   support\n",
      "\n",
      "       False       0.76      0.60      0.67     51837\n",
      "        True       0.90      0.95      0.92    191407\n",
      "\n",
      "    accuracy                           0.87    243244\n",
      "   macro avg       0.83      0.77      0.79    243244\n",
      "weighted avg       0.87      0.87      0.87    243244\n"
     ]
    },
    {
     "name": "stdout",
     "output_type": "stream",
     "text": [
      "\n"
     ]
    },
    {
     "name": "stdout",
     "output_type": "stream",
     "text": [
      "\n",
      "Performance metrics full model:\n",
      "f1_scores=[0.922703509133099, 0.9218817020088578, 0.9205601653947579, 0.9222113614725486, 0.9214770571609237]\n",
      "f1_mean=0.9217667590340375, f1_std=0.0007250074964464491\n"
     ]
    }
   ],
   "source": [
    "from python_proj.modelling.notebooks.random_forest.rf_functions import (\n",
    "    kfold_rf_evaluation,\n",
    ")\n",
    "\n",
    "f1_scores, f1_mean, f1_std = kfold_rf_evaluation(\n",
    "    df, independent_fields, k, pr_merged_key, seed_counter\n",
    ")\n",
    "\n",
    "print(\"\\nPerformance metrics full model:\")\n",
    "print(f\"{f1_scores=}\")\n",
    "print(f\"{f1_mean=}, {f1_std=}\")"
   ]
  },
  {
   "cell_type": "markdown",
   "metadata": {},
   "source": [
    "### Control + Intra-project Model"
   ]
  },
  {
   "cell_type": "code",
   "execution_count": 11,
   "metadata": {
    "execution": {
     "iopub.execute_input": "2024-02-21T10:00:11.770724Z",
     "iopub.status.busy": "2024-02-21T10:00:11.770434Z",
     "iopub.status.idle": "2024-02-21T10:08:07.841294Z",
     "shell.execute_reply": "2024-02-21T10:08:07.840757Z"
    }
   },
   "outputs": [
    {
     "name": "stdout",
     "output_type": "stream",
     "text": [
      "['ControlIntegratedBySameUser', 'ControlPullRequestHasComments', 'ControlPullRequestHasCommentByExternalUser', 'ControlHasHashTagInDescription', 'ln(1 + ControlPullRequestLifeTimeInMinutes)', 'ln(1 + ControlNumberOfCommitsInPullRequest)', 'ln(1 + ControlIntraProjectPullRequestExperienceOfIntegrator)', 'IntraProjectSubmitterPullRequestSuccessRate', 'ln(1 + IntraProjectSubmitterPullRequestSubmissionCount)', 'ln(1 + IntraProjectSubmitterPullRequestCommentCount)', 'ln(1 + IntraProjectSubmitterIssueSubmissionCount)', 'ln(1 + IntraProjectSubmitterIssueCommentCount)']\n"
     ]
    },
    {
     "name": "stdout",
     "output_type": "stream",
     "text": [
      "random_state=45"
     ]
    },
    {
     "name": "stdout",
     "output_type": "stream",
     "text": [
      "\n"
     ]
    },
    {
     "name": "stdout",
     "output_type": "stream",
     "text": [
      "random_state=45"
     ]
    },
    {
     "name": "stdout",
     "output_type": "stream",
     "text": [
      "\n"
     ]
    },
    {
     "name": "stdout",
     "output_type": "stream",
     "text": [
      "random_state=45"
     ]
    },
    {
     "name": "stdout",
     "output_type": "stream",
     "text": [
      "\n"
     ]
    },
    {
     "name": "stdout",
     "output_type": "stream",
     "text": [
      "random_state=45"
     ]
    },
    {
     "name": "stdout",
     "output_type": "stream",
     "text": [
      "\n"
     ]
    },
    {
     "name": "stdout",
     "output_type": "stream",
     "text": [
      "random_state=45"
     ]
    },
    {
     "name": "stdout",
     "output_type": "stream",
     "text": [
      "\n"
     ]
    },
    {
     "name": "stdout",
     "output_type": "stream",
     "text": [
      "metrics={'accuracy': 0.8552077123887438, 'precision': 0.8908728274290056, 'recall': 0.9301233240609783, 'f1': 0.9100750651074913}\n"
     ]
    },
    {
     "name": "stdout",
     "output_type": "stream",
     "text": [
      "\n"
     ]
    },
    {
     "name": "stdout",
     "output_type": "stream",
     "text": [
      "Confusion matrix:\n",
      "[[ 29805  21831]\n",
      " [ 13389 178220]]\n"
     ]
    },
    {
     "name": "stdout",
     "output_type": "stream",
     "text": [
      "\n"
     ]
    },
    {
     "name": "stdout",
     "output_type": "stream",
     "text": [
      "Classification report:"
     ]
    },
    {
     "name": "stdout",
     "output_type": "stream",
     "text": [
      "\n"
     ]
    },
    {
     "name": "stdout",
     "output_type": "stream",
     "text": [
      "              precision    recall  f1-score   support\n",
      "\n",
      "       False       0.69      0.58      0.63     51636\n",
      "        True       0.89      0.93      0.91    191609\n",
      "\n",
      "    accuracy                           0.86    243245\n",
      "   macro avg       0.79      0.75      0.77    243245\n",
      "weighted avg       0.85      0.86      0.85    243245\n"
     ]
    },
    {
     "name": "stdout",
     "output_type": "stream",
     "text": [
      "\n"
     ]
    },
    {
     "name": "stdout",
     "output_type": "stream",
     "text": [
      "metrics={'accuracy': 0.8556634490470474, 'precision': 0.8897133305057259, 'recall': 0.9320108724060425, 'f1': 0.9103710605925226}\n"
     ]
    },
    {
     "name": "stdout",
     "output_type": "stream",
     "text": [
      "\n"
     ]
    },
    {
     "name": "stdout",
     "output_type": "stream",
     "text": [
      "Confusion matrix:\n",
      "[[ 29832  22102]\n",
      " [ 13007 178303]]\n"
     ]
    },
    {
     "name": "stdout",
     "output_type": "stream",
     "text": [
      "\n"
     ]
    },
    {
     "name": "stdout",
     "output_type": "stream",
     "text": [
      "Classification report:"
     ]
    },
    {
     "name": "stdout",
     "output_type": "stream",
     "text": [
      "\n"
     ]
    },
    {
     "name": "stdout",
     "output_type": "stream",
     "text": [
      "metrics={'accuracy': 0.8545000082221966, 'precision': 0.8896731203420648, 'recall': 0.9304909776714347, 'f1': 0.9096243711856183}\n"
     ]
    },
    {
     "name": "stdout",
     "output_type": "stream",
     "text": [
      "\n"
     ]
    },
    {
     "name": "stdout",
     "output_type": "stream",
     "text": [
      "Confusion matrix:\n",
      "[[ 29743  22087]\n",
      " [ 13305 178109]]\n"
     ]
    },
    {
     "name": "stdout",
     "output_type": "stream",
     "text": [
      "\n"
     ]
    },
    {
     "name": "stdout",
     "output_type": "stream",
     "text": [
      "Classification report:"
     ]
    },
    {
     "name": "stdout",
     "output_type": "stream",
     "text": [
      "\n"
     ]
    },
    {
     "name": "stdout",
     "output_type": "stream",
     "text": [
      "metrics={'accuracy': 0.8553962276561806, 'precision': 0.891045037385281, 'recall': 0.9301014361860411, 'f1': 0.9101544340398575}\n"
     ]
    },
    {
     "name": "stdout",
     "output_type": "stream",
     "text": [
      "\n"
     ]
    },
    {
     "name": "stdout",
     "output_type": "stream",
     "text": [
      "Confusion matrix:\n",
      "[[ 29910  21785]\n",
      " [ 13389 178160]]\n"
     ]
    },
    {
     "name": "stdout",
     "output_type": "stream",
     "text": [
      "\n"
     ]
    },
    {
     "name": "stdout",
     "output_type": "stream",
     "text": [
      "Classification report:"
     ]
    },
    {
     "name": "stdout",
     "output_type": "stream",
     "text": [
      "\n"
     ]
    },
    {
     "name": "stdout",
     "output_type": "stream",
     "text": [
      "metrics={'accuracy': 0.8551207840686718, 'precision': 0.8905599456198487, 'recall': 0.9303213207882123, 'f1': 0.9100065118298243}\n"
     ]
    },
    {
     "name": "stdout",
     "output_type": "stream",
     "text": [
      "\n"
     ]
    },
    {
     "name": "stdout",
     "output_type": "stream",
     "text": [
      "Confusion matrix:\n",
      "[[ 29826  21896]\n",
      " [ 13345 178177]]\n"
     ]
    },
    {
     "name": "stdout",
     "output_type": "stream",
     "text": [
      "\n"
     ]
    },
    {
     "name": "stdout",
     "output_type": "stream",
     "text": [
      "Classification report:"
     ]
    },
    {
     "name": "stdout",
     "output_type": "stream",
     "text": [
      "\n"
     ]
    },
    {
     "name": "stdout",
     "output_type": "stream",
     "text": [
      "              precision    recall  f1-score   support\n",
      "\n",
      "       False       0.70      0.57      0.63     51934\n",
      "        True       0.89      0.93      0.91    191310\n",
      "\n",
      "    accuracy                           0.86    243244\n",
      "   macro avg       0.79      0.75      0.77    243244\n",
      "weighted avg       0.85      0.86      0.85    243244\n"
     ]
    },
    {
     "name": "stdout",
     "output_type": "stream",
     "text": [
      "\n"
     ]
    },
    {
     "name": "stdout",
     "output_type": "stream",
     "text": [
      "              precision    recall  f1-score   support\n",
      "\n",
      "       False       0.69      0.57      0.63     51830\n",
      "        True       0.89      0.93      0.91    191414\n",
      "\n",
      "    accuracy                           0.85    243244\n",
      "   macro avg       0.79      0.75      0.77    243244\n",
      "weighted avg       0.85      0.85      0.85    243244\n"
     ]
    },
    {
     "name": "stdout",
     "output_type": "stream",
     "text": [
      "\n"
     ]
    },
    {
     "name": "stdout",
     "output_type": "stream",
     "text": [
      "              precision    recall  f1-score   support\n",
      "\n",
      "       False       0.69      0.58      0.63     51695\n",
      "        True       0.89      0.93      0.91    191549\n",
      "\n",
      "    accuracy                           0.86    243244\n",
      "   macro avg       0.79      0.75      0.77    243244\n",
      "weighted avg       0.85      0.86      0.85    243244\n"
     ]
    },
    {
     "name": "stdout",
     "output_type": "stream",
     "text": [
      "\n"
     ]
    },
    {
     "name": "stdout",
     "output_type": "stream",
     "text": [
      "              precision    recall  f1-score   support\n",
      "\n",
      "       False       0.69      0.58      0.63     51722\n",
      "        True       0.89      0.93      0.91    191522\n",
      "\n",
      "    accuracy                           0.86    243244\n",
      "   macro avg       0.79      0.75      0.77    243244\n",
      "weighted avg       0.85      0.86      0.85    243244\n"
     ]
    },
    {
     "name": "stdout",
     "output_type": "stream",
     "text": [
      "\n"
     ]
    },
    {
     "name": "stdout",
     "output_type": "stream",
     "text": [
      "\n",
      "Performance metrics control + intra model:\n",
      "f1_scores=[0.9100750651074913, 0.9103710605925226, 0.9096243711856183, 0.9101544340398575, 0.9100065118298243]\n",
      "f1_mean=0.9100462885510627, f1_std=0.00024396592658671497\n"
     ]
    }
   ],
   "source": [
    "contr_with_intra = get_feature_groups(FeatureGroups.Control, FeatureGroups.Intra)\n",
    "print(contr_with_intra)\n",
    "\n",
    "f1_scores, f1_mean, f1_std = kfold_rf_evaluation(\n",
    "    df, contr_with_intra, k, pr_merged_key, seed_counter\n",
    ")\n",
    "\n",
    "print(\"\\nPerformance metrics control + intra model:\")\n",
    "print(f\"{f1_scores=}\")\n",
    "print(f\"{f1_mean=}, {f1_std=}\")"
   ]
  },
  {
   "cell_type": "markdown",
   "metadata": {},
   "source": [
    "### Collaboration and Ecosystem Model"
   ]
  },
  {
   "cell_type": "code",
   "execution_count": 12,
   "metadata": {
    "execution": {
     "iopub.execute_input": "2024-02-21T10:08:07.842974Z",
     "iopub.status.busy": "2024-02-21T10:08:07.842846Z",
     "iopub.status.idle": "2024-02-21T10:16:20.358361Z",
     "shell.execute_reply": "2024-02-21T10:16:20.357852Z"
    }
   },
   "outputs": [
    {
     "name": "stdout",
     "output_type": "stream",
     "text": [
      "['EcosystemExperienceSubmitterPullRequestSuccessRate', 'ln(1 + EcosystemExperienceSubmitterPullRequestSubmissionCount)', 'ln(1 + EcosystemExperienceSubmitterPullRequestCommentCount)', 'ln(1 + EcosystemExperienceSubmitterIssueSubmissionCount)', 'ln(1 + EcosystemExperienceSubmitterIssueCommentCount)', 'DependencyEcosystemExperienceSubmitterPullRequestSuccessRate', 'ln(1 + DependencyEcosystemExperienceSubmitterPullRequestSubmissionCount)', 'ln(1 + DependencyEcosystemExperienceSubmitterPullRequestCommentCount)', 'ln(1 + DependencyEcosystemExperienceSubmitterIssueSubmissionCount)', 'ln(1 + DependencyEcosystemExperienceSubmitterIssueCommentCount)', 'InversedDependencyEcosystemExperienceSubmitterPullRequestSuccessRate', 'ln(1 + InversedDependencyEcosystemExperienceSubmitterPullRequestSubmissionCount)', 'ln(1 + InversedDependencyEcosystemExperienceSubmitterPullRequestCommentCount)', 'ln(1 + InversedDependencyEcosystemExperienceSubmitterIssueSubmissionCount)', 'ln(1 + InversedDependencyEcosystemExperienceSubmitterIssueCommentCount)', 'NonDependencyEcosystemExperienceSubmitterPullRequestSuccessRate', 'ln(1 + NonDependencyEcosystemExperienceSubmitterPullRequestSubmissionCount)', 'ln(1 + NonDependencyEcosystemExperienceSubmitterPullRequestCommentCount)', 'ln(1 + NonDependencyEcosystemExperienceSubmitterIssueSubmissionCount)', 'ln(1 + NonDependencyEcosystemExperienceSubmitterIssueCommentCount)', 'ln(1 + WeightedEcosystemSecondOrderDegreeCentrality)', 'ln(1 + EcosystemLinkIntensity)']\n"
     ]
    },
    {
     "name": "stdout",
     "output_type": "stream",
     "text": [
      "random_state=47"
     ]
    },
    {
     "name": "stdout",
     "output_type": "stream",
     "text": [
      "\n"
     ]
    },
    {
     "name": "stdout",
     "output_type": "stream",
     "text": [
      "random_state=47"
     ]
    },
    {
     "name": "stdout",
     "output_type": "stream",
     "text": [
      "\n"
     ]
    },
    {
     "name": "stdout",
     "output_type": "stream",
     "text": [
      "random_state=47"
     ]
    },
    {
     "name": "stdout",
     "output_type": "stream",
     "text": [
      "\n"
     ]
    },
    {
     "name": "stdout",
     "output_type": "stream",
     "text": [
      "random_state=47"
     ]
    },
    {
     "name": "stdout",
     "output_type": "stream",
     "text": [
      "\n"
     ]
    },
    {
     "name": "stdout",
     "output_type": "stream",
     "text": [
      "random_state=47"
     ]
    },
    {
     "name": "stdout",
     "output_type": "stream",
     "text": [
      "\n"
     ]
    },
    {
     "name": "stdout",
     "output_type": "stream",
     "text": [
      "metrics={'accuracy': 0.7801352545787169, 'precision': 0.7962613933479592, 'recall': 0.9685313224573351, 'f1': 0.8739883085579376}\n"
     ]
    },
    {
     "name": "stdout",
     "output_type": "stream",
     "text": [
      "\n"
     ]
    },
    {
     "name": "stdout",
     "output_type": "stream",
     "text": [
      "Confusion matrix:\n",
      "[[  4298  47455]\n",
      " [  6026 185466]]\n"
     ]
    },
    {
     "name": "stdout",
     "output_type": "stream",
     "text": [
      "\n"
     ]
    },
    {
     "name": "stdout",
     "output_type": "stream",
     "text": [
      "Classification report:"
     ]
    },
    {
     "name": "stdout",
     "output_type": "stream",
     "text": [
      "\n"
     ]
    },
    {
     "name": "stdout",
     "output_type": "stream",
     "text": [
      "              precision    recall  f1-score   support\n",
      "\n",
      "       False       0.42      0.08      0.14     51753\n",
      "        True       0.80      0.97      0.87    191492\n",
      "\n",
      "    accuracy                           0.78    243245\n",
      "   macro avg       0.61      0.53      0.51    243245\n",
      "weighted avg       0.72      0.78      0.72    243245\n"
     ]
    },
    {
     "name": "stdout",
     "output_type": "stream",
     "text": [
      "\n"
     ]
    },
    {
     "name": "stdout",
     "output_type": "stream",
     "text": [
      "metrics={'accuracy': 0.7823954547696963, 'precision': 0.7979528336301797, 'recall': 0.9694806549170925, 'f1': 0.8753934343256001}\n"
     ]
    },
    {
     "name": "stdout",
     "output_type": "stream",
     "text": [
      "\n"
     ]
    },
    {
     "name": "stdout",
     "output_type": "stream",
     "text": [
      "Confusion matrix:\n",
      "[[  4386  47078]\n",
      " [  5853 185927]]\n"
     ]
    },
    {
     "name": "stdout",
     "output_type": "stream",
     "text": [
      "\n"
     ]
    },
    {
     "name": "stdout",
     "output_type": "stream",
     "text": [
      "Classification report:"
     ]
    },
    {
     "name": "stdout",
     "output_type": "stream",
     "text": [
      "\n"
     ]
    },
    {
     "name": "stdout",
     "output_type": "stream",
     "text": [
      "              precision    recall  f1-score   support\n",
      "\n",
      "       False       0.43      0.09      0.14     51464\n",
      "        True       0.80      0.97      0.88    191780\n",
      "\n",
      "    accuracy                           0.78    243244\n",
      "   macro avg       0.61      0.53      0.51    243244\n",
      "weighted avg       0.72      0.78      0.72    243244\n"
     ]
    },
    {
     "name": "stdout",
     "output_type": "stream",
     "text": [
      "\n"
     ]
    },
    {
     "name": "stdout",
     "output_type": "stream",
     "text": [
      "metrics={'accuracy': 0.7807962375228166, 'precision': 0.79643470790378, 'recall': 0.9690080485000523, 'f1': 0.8742867920969492}\n"
     ]
    },
    {
     "name": "stdout",
     "output_type": "stream",
     "text": [
      "\n"
     ]
    },
    {
     "name": "stdout",
     "output_type": "stream",
     "text": [
      "Confusion matrix:\n",
      "[[  4514  47390]\n",
      " [  5930 185410]]\n"
     ]
    },
    {
     "name": "stdout",
     "output_type": "stream",
     "text": [
      "\n"
     ]
    },
    {
     "name": "stdout",
     "output_type": "stream",
     "text": [
      "Classification report:"
     ]
    },
    {
     "name": "stdout",
     "output_type": "stream",
     "text": [
      "\n"
     ]
    },
    {
     "name": "stdout",
     "output_type": "stream",
     "text": [
      "              precision    recall  f1-score   support\n",
      "\n",
      "       False       0.43      0.09      0.14     51904\n",
      "        True       0.80      0.97      0.87    191340\n",
      "\n",
      "    accuracy                           0.78    243244\n",
      "   macro avg       0.61      0.53      0.51    243244\n",
      "weighted avg       0.72      0.78      0.72    243244\n"
     ]
    },
    {
     "name": "stdout",
     "output_type": "stream",
     "text": [
      "\n"
     ]
    },
    {
     "name": "stdout",
     "output_type": "stream",
     "text": [
      "metrics={'accuracy': 0.7812196806498825, 'precision': 0.7968028388660002, 'recall': 0.9690736193113538, 'f1': 0.8745352568258601}\n"
     ]
    },
    {
     "name": "stdout",
     "output_type": "stream",
     "text": [
      "\n"
     ]
    },
    {
     "name": "stdout",
     "output_type": "stream",
     "text": [
      "Confusion matrix:\n",
      "[[  4556  47298]\n",
      " [  5919 185471]]\n"
     ]
    },
    {
     "name": "stdout",
     "output_type": "stream",
     "text": [
      "\n"
     ]
    },
    {
     "name": "stdout",
     "output_type": "stream",
     "text": [
      "Classification report:"
     ]
    },
    {
     "name": "stdout",
     "output_type": "stream",
     "text": [
      "\n"
     ]
    },
    {
     "name": "stdout",
     "output_type": "stream",
     "text": [
      "              precision    recall  f1-score   support\n",
      "\n",
      "       False       0.43      0.09      0.15     51854\n",
      "        True       0.80      0.97      0.87    191390\n",
      "\n",
      "    accuracy                           0.78    243244\n",
      "   macro avg       0.62      0.53      0.51    243244\n",
      "weighted avg       0.72      0.78      0.72    243244\n"
     ]
    },
    {
     "name": "stdout",
     "output_type": "stream",
     "text": [
      "\n"
     ]
    },
    {
     "name": "stdout",
     "output_type": "stream",
     "text": [
      "metrics={'accuracy': 0.7803481278058246, 'precision': 0.7964394522101952, 'recall': 0.9683545626482482, 'f1': 0.8740235641411961}\n"
     ]
    },
    {
     "name": "stdout",
     "output_type": "stream",
     "text": [
      "\n"
     ]
    },
    {
     "name": "stdout",
     "output_type": "stream",
     "text": [
      "Confusion matrix:\n",
      "[[  4470  47372]\n",
      " [  6057 185345]]\n"
     ]
    },
    {
     "name": "stdout",
     "output_type": "stream",
     "text": [
      "\n"
     ]
    },
    {
     "name": "stdout",
     "output_type": "stream",
     "text": [
      "Classification report:"
     ]
    },
    {
     "name": "stdout",
     "output_type": "stream",
     "text": [
      "\n"
     ]
    },
    {
     "name": "stdout",
     "output_type": "stream",
     "text": [
      "              precision    recall  f1-score   support\n",
      "\n",
      "       False       0.42      0.09      0.14     51842\n",
      "        True       0.80      0.97      0.87    191402\n",
      "\n",
      "    accuracy                           0.78    243244\n",
      "   macro avg       0.61      0.53      0.51    243244\n",
      "weighted avg       0.72      0.78      0.72    243244\n"
     ]
    },
    {
     "name": "stdout",
     "output_type": "stream",
     "text": [
      "\n"
     ]
    },
    {
     "name": "stdout",
     "output_type": "stream",
     "text": [
      "\n",
      "Performance metrics non-control model:\n",
      "f1_scores=[0.8739883085579376, 0.8753934343256001, 0.8742867920969492, 0.8745352568258601, 0.8740235641411961]\n",
      "f1_mean=0.8744454711895087, f1_std=0.0005135908588399307\n"
     ]
    }
   ],
   "source": [
    "non_control_intra_fields = get_feature_groups(\n",
    "    FeatureGroups.Eco,\n",
    "    FeatureGroups.DEco,\n",
    "    FeatureGroups.IDEco,\n",
    "    FeatureGroups.NDEco,\n",
    "    FeatureGroups.Coll,\n",
    ")\n",
    "print(non_control_intra_fields)\n",
    "\n",
    "f1_scores, f1_mean, f1_std = kfold_rf_evaluation(\n",
    "    df, non_control_intra_fields, k, pr_merged_key, seed_counter\n",
    ")\n",
    "\n",
    "print(\"\\nPerformance metrics non-control model:\")\n",
    "print(f\"{f1_scores=}\")\n",
    "print(f\"{f1_mean=}, {f1_std=}\")"
   ]
  },
  {
   "cell_type": "markdown",
   "metadata": {},
   "source": [
    "## Feature Explanation and Evaluation"
   ]
  },
  {
   "cell_type": "markdown",
   "metadata": {},
   "source": [
    "### Model Creation"
   ]
  },
  {
   "cell_type": "code",
   "execution_count": 13,
   "metadata": {
    "execution": {
     "iopub.execute_input": "2024-02-21T10:16:20.360212Z",
     "iopub.status.busy": "2024-02-21T10:16:20.360030Z",
     "iopub.status.idle": "2024-02-21T10:38:59.913013Z",
     "shell.execute_reply": "2024-02-21T10:38:59.912544Z"
    }
   },
   "outputs": [
    {
     "name": "stdout",
     "output_type": "stream",
     "text": [
      "random_state=49\n"
     ]
    },
    {
     "name": "stdout",
     "output_type": "stream",
     "text": [
      "metrics={'accuracy': 0.8736623568829781, 'precision': 0.8978999792077149, 'recall': 0.9472166951290206, 'f1': 0.9218992627306667}\n",
      "\n",
      "Confusion matrix:\n",
      "[[ 31140  20624]\n",
      " [ 10107 181374]]\n",
      "\n",
      "Classification report:\n"
     ]
    },
    {
     "name": "stdout",
     "output_type": "stream",
     "text": [
      "              precision    recall  f1-score   support\n",
      "\n",
      "       False       0.75      0.60      0.67     51764\n",
      "        True       0.90      0.95      0.92    191481\n",
      "\n",
      "    accuracy                           0.87    243245\n",
      "   macro avg       0.83      0.77      0.80    243245\n",
      "weighted avg       0.87      0.87      0.87    243245\n",
      "\n"
     ]
    }
   ],
   "source": [
    "from sklearn.model_selection import train_test_split\n",
    "\n",
    "from python_proj.modelling.notebooks.random_forest.rf_functions import create_model\n",
    "\n",
    "\n",
    "train, test = train_test_split(df, test_size=0.2, shuffle=True)\n",
    "train_predictors = train[independent_fields]\n",
    "train_dependent = train[pr_merged_key]\n",
    "test_predictors = test[independent_fields]\n",
    "test_dependent = test[pr_merged_key]\n",
    "\n",
    "\n",
    "full_rf_model, _ = create_model(\n",
    "    train_predictors, train_dependent, test_predictors, test_dependent, seed_counter\n",
    ")"
   ]
  },
  {
   "cell_type": "markdown",
   "metadata": {},
   "source": [
    "### Mean decrease in Impurity"
   ]
  },
  {
   "cell_type": "code",
   "execution_count": 14,
   "metadata": {
    "execution": {
     "iopub.execute_input": "2024-02-21T10:38:59.916584Z",
     "iopub.status.busy": "2024-02-21T10:38:59.915713Z",
     "iopub.status.idle": "2024-02-21T10:39:00.756392Z",
     "shell.execute_reply": "2024-02-21T10:39:00.755889Z"
    }
   },
   "outputs": [
    {
     "name": "stderr",
     "output_type": "stream",
     "text": [
      "/tmp/ipykernel_16900/1648129876.py:16: UserWarning: Tight layout not applied. The bottom and top margins cannot be made large enough to accommodate all axes decorations.\n",
      "  plt.tight_layout()\n"
     ]
    },
    {
     "data": {
      "image/png": "[encoded data removed]",
      "text/plain": [
       "<Figure size 1000x600 with 1 Axes>"
      ]
     },
     "metadata": {},
     "output_type": "display_data"
    }
   ],
   "source": [
    "from matplotlib import pyplot as plt\n",
    "\n",
    "feature_importances = full_rf_model.feature_importances_\n",
    "\n",
    "sorted_indices = np.argsort(feature_importances)[::-1]\n",
    "sorted_importances = feature_importances[sorted_indices]\n",
    "\n",
    "# Step 4: Plot the mean decrease accuracy plot\n",
    "plt.figure(figsize=(10, 6))\n",
    "plt.bar(range(test_predictors.shape[1]), sorted_importances)\n",
    "plt.xlabel(\"Feature Index\")\n",
    "plt.ylabel(\"Mean Decrease in Gini\")\n",
    "plt.title(\"Mean Decrease in Gini of Features\")\n",
    "ordererd_columns = np.array(test_predictors.columns)[sorted_indices]\n",
    "plt.xticks(range(test_predictors.shape[1]), ordererd_columns, rotation=90)\n",
    "plt.tight_layout()\n",
    "plt.show()"
   ]
  },
  {
   "cell_type": "code",
   "execution_count": 15,
   "metadata": {
    "execution": {
     "iopub.execute_input": "2024-02-21T10:39:00.759129Z",
     "iopub.status.busy": "2024-02-21T10:39:00.758775Z",
     "iopub.status.idle": "2024-02-21T10:39:00.790238Z",
     "shell.execute_reply": "2024-02-21T10:39:00.789716Z"
    }
   },
   "outputs": [
    {
     "name": "stdout",
     "output_type": "stream",
     "text": [
      "ln(1 + ControlPullRequestLifeTimeInMinutes): 0.3141301050826137\n",
      "ln(1 + ControlIntraProjectPullRequestExperienceOfIntegrator): 0.11576323475001665\n",
      "IntraProjectSubmitterPullRequestSuccessRate: 0.08067274527656629\n",
      "ln(1 + IntraProjectSubmitterPullRequestSubmissionCount): 0.07426043020148054\n",
      "ControlIntegratedBySameUser: 0.045420011074970255\n",
      "ln(1 + WeightedEcosystemSecondOrderDegreeCentrality): 0.03936259526769938\n",
      "ln(1 + ControlNumberOfCommitsInPullRequest): 0.033538293232779015\n",
      "ln(1 + WeightedIntraProjectSecondOrderDegreeCentrality): 0.029636231708714326\n",
      "EcosystemExperienceSubmitterPullRequestSuccessRate: 0.027729276329130775\n",
      "ControlPullRequestHasComments: 0.02272738376267443\n",
      "ln(1 + IntraProjectSubmitterPullRequestCommentCount): 0.022176750971998345\n",
      "ln(1 + IntraProjectLinkIntensity): 0.016732116318174114\n",
      "ln(1 + IntraProjectSubmitterIssueCommentCount): 0.016290966023646936\n",
      "ln(1 + EcosystemExperienceSubmitterIssueCommentCount): 0.015248218273812788\n",
      "ln(1 + NonDependencyEcosystemExperienceSubmitterIssueCommentCount): 0.014219373499282092\n",
      "ln(1 + EcosystemExperienceSubmitterPullRequestCommentCount): 0.01226713974434643\n",
      "ln(1 + EcosystemExperienceSubmitterPullRequestSubmissionCount): 0.012195936482881692\n",
      "SubmitterIsFirstTimeContributor: 0.012176206904969554\n",
      "ln(1 + NonDependencyEcosystemExperienceSubmitterPullRequestCommentCount): 0.010994521491342302\n",
      "ln(1 + NonDependencyEcosystemExperienceSubmitterIssueSubmissionCount): 0.010092806516582557\n",
      "ln(1 + EcosystemExperienceSubmitterIssueSubmissionCount): 0.009874694238016932\n",
      "ln(1 + NonDependencyEcosystemExperienceSubmitterPullRequestSubmissionCount): 0.009836515008067264\n",
      "ControlHasHashTagInDescription: 0.009708605187092684\n",
      "ln(1 + IntraProjectSubmitterIssueSubmissionCount): 0.009614490614371881\n",
      "ControlPullRequestHasCommentByExternalUser: 0.009383289705878154\n",
      "NonDependencyEcosystemExperienceSubmitterPullRequestSuccessRate: 0.0064988265381616655\n",
      "ln(1 + EcosystemLinkIntensity): 0.005556607872486239\n",
      "ln(1 + DependencyEcosystemExperienceSubmitterPullRequestCommentCount): 0.001810063612751802\n",
      "ln(1 + DependencyEcosystemExperienceSubmitterPullRequestSubmissionCount): 0.001684829257998269\n",
      "ln(1 + InversedDependencyEcosystemExperienceSubmitterIssueCommentCount): 0.0015732795648060766\n",
      "ln(1 + DependencyEcosystemExperienceSubmitterIssueCommentCount): 0.0015579932721404937\n",
      "ln(1 + InversedDependencyEcosystemExperienceSubmitterPullRequestCommentCount): 0.0013707463885230993\n",
      "DependencyEcosystemExperienceSubmitterPullRequestSuccessRate: 0.0013439280975130186\n",
      "ln(1 + InversedDependencyEcosystemExperienceSubmitterPullRequestSubmissionCount): 0.0013249695608604862\n",
      "InversedDependencyEcosystemExperienceSubmitterPullRequestSuccessRate: 0.001188052750643038\n",
      "ln(1 + DependencyEcosystemExperienceSubmitterIssueSubmissionCount): 0.0011379742679689076\n",
      "ln(1 + InversedDependencyEcosystemExperienceSubmitterIssueSubmissionCount): 0.0009007911490378369\n"
     ]
    }
   ],
   "source": [
    "# Stores feature importances in file.\n",
    "output_file = f\"{figure_base_path}/feature_importance.txt\"\n",
    "with open(output_file, \"w+\", encoding=\"utf-8\") as output_file:\n",
    "    for field, importance in zip(ordererd_columns, sorted_importances):\n",
    "        entry = f\"{field}: {importance}\"\n",
    "        output_file.write(f'{entry}\\n')\n",
    "        print(entry)"
   ]
  },
  {
   "cell_type": "markdown",
   "metadata": {},
   "source": [
    "### Variable Group Reverse Ablation Studies\n",
    "\n",
    "Creates a model with a subset of features.\n",
    "Compared to regular ablation, it tests \"what happens if I add a feature\", instead of \"what happens when I remove one\"."
   ]
  },
  {
   "cell_type": "code",
   "execution_count": 16,
   "metadata": {
    "execution": {
     "iopub.execute_input": "2024-02-21T10:39:00.793587Z",
     "iopub.status.busy": "2024-02-21T10:39:00.792666Z",
     "iopub.status.idle": "2024-02-21T11:01:52.898818Z",
     "shell.execute_reply": "2024-02-21T11:01:52.898391Z"
    }
   },
   "outputs": [
    {
     "name": "stdout",
     "output_type": "stream",
     "text": [
      "Reverse ablation with \"FeatureGroups.Control\", including: ['ControlIntegratedBySameUser', 'ControlPullRequestHasComments', 'ControlPullRequestHasCommentByExternalUser', 'ControlHasHashTagInDescription', 'ln(1 + ControlPullRequestLifeTimeInMinutes)', 'ln(1 + ControlNumberOfCommitsInPullRequest)', 'ln(1 + ControlIntraProjectPullRequestExperienceOfIntegrator)'].\n"
     ]
    },
    {
     "name": "stdout",
     "output_type": "stream",
     "text": [
      "random_state=50"
     ]
    },
    {
     "name": "stdout",
     "output_type": "stream",
     "text": [
      "\n"
     ]
    },
    {
     "name": "stdout",
     "output_type": "stream",
     "text": [
      "random_state=50"
     ]
    },
    {
     "name": "stdout",
     "output_type": "stream",
     "text": [
      "\n"
     ]
    },
    {
     "name": "stdout",
     "output_type": "stream",
     "text": [
      "random_state=50"
     ]
    },
    {
     "name": "stdout",
     "output_type": "stream",
     "text": [
      "\n"
     ]
    },
    {
     "name": "stdout",
     "output_type": "stream",
     "text": [
      "random_state=50"
     ]
    },
    {
     "name": "stdout",
     "output_type": "stream",
     "text": [
      "\n"
     ]
    },
    {
     "name": "stdout",
     "output_type": "stream",
     "text": [
      "random_state=50"
     ]
    },
    {
     "name": "stdout",
     "output_type": "stream",
     "text": [
      "\n"
     ]
    },
    {
     "name": "stdout",
     "output_type": "stream",
     "text": [
      "metrics={'accuracy': 0.7995642253694835, 'precision': 0.8517131568083978, 'recall': 0.9031689865600784, 'f1': 0.8766866898514071}\n"
     ]
    },
    {
     "name": "stdout",
     "output_type": "stream",
     "text": [
      "\n"
     ]
    },
    {
     "name": "stdout",
     "output_type": "stream",
     "text": [
      "Confusion matrix:\n",
      "[[ 21180  30174]\n",
      " [ 18581 173310]]\n"
     ]
    },
    {
     "name": "stdout",
     "output_type": "stream",
     "text": [
      "\n"
     ]
    },
    {
     "name": "stdout",
     "output_type": "stream",
     "text": [
      "Classification report:"
     ]
    },
    {
     "name": "stdout",
     "output_type": "stream",
     "text": [
      "\n"
     ]
    },
    {
     "name": "stdout",
     "output_type": "stream",
     "text": [
      "              precision    recall  f1-score   support\n",
      "\n",
      "       False       0.53      0.41      0.46     51354\n",
      "        True       0.85      0.90      0.88    191891\n",
      "\n",
      "    accuracy                           0.80    243245\n",
      "   macro avg       0.69      0.66      0.67    243245\n",
      "weighted avg       0.78      0.80      0.79    243245\n"
     ]
    },
    {
     "name": "stdout",
     "output_type": "stream",
     "text": [
      "\n"
     ]
    },
    {
     "name": "stdout",
     "output_type": "stream",
     "text": [
      "metrics={'accuracy': 0.798831625857164, 'precision': 0.8494723880633624, 'recall': 0.9046591574019894, 'f1': 0.8761976566789205}\n"
     ]
    },
    {
     "name": "stdout",
     "output_type": "stream",
     "text": [
      "\n"
     ]
    },
    {
     "name": "stdout",
     "output_type": "stream",
     "text": [
      "Confusion matrix:\n",
      "[[ 21152  30684]\n",
      " [ 18249 173159]]\n"
     ]
    },
    {
     "name": "stdout",
     "output_type": "stream",
     "text": [
      "\n"
     ]
    },
    {
     "name": "stdout",
     "output_type": "stream",
     "text": [
      "Classification report:"
     ]
    },
    {
     "name": "stdout",
     "output_type": "stream",
     "text": [
      "\n"
     ]
    },
    {
     "name": "stdout",
     "output_type": "stream",
     "text": [
      "              precision    recall  f1-score   support\n",
      "\n",
      "       False       0.54      0.41      0.46     51836\n",
      "        True       0.85      0.90      0.88    191408\n",
      "\n",
      "    accuracy                           0.80    243244\n",
      "   macro avg       0.69      0.66      0.67    243244\n",
      "weighted avg       0.78      0.80      0.79    243244\n"
     ]
    },
    {
     "name": "stdout",
     "output_type": "stream",
     "text": [
      "\n"
     ]
    },
    {
     "name": "stdout",
     "output_type": "stream",
     "text": [
      "metrics={'accuracy': 0.7988891812336584, 'precision': 0.8499997543637283, 'recall': 0.9039424051492638, 'f1': 0.8761415741887133}\n"
     ]
    },
    {
     "name": "stdout",
     "output_type": "stream",
     "text": [
      "\n"
     ]
    },
    {
     "name": "stdout",
     "output_type": "stream",
     "text": [
      "Confusion matrix:\n",
      "[[ 21305  30533]\n",
      " [ 18386 173020]]\n"
     ]
    },
    {
     "name": "stdout",
     "output_type": "stream",
     "text": [
      "\n"
     ]
    },
    {
     "name": "stdout",
     "output_type": "stream",
     "text": [
      "Classification report:"
     ]
    },
    {
     "name": "stdout",
     "output_type": "stream",
     "text": [
      "\n"
     ]
    },
    {
     "name": "stdout",
     "output_type": "stream",
     "text": [
      "              precision    recall  f1-score   support\n",
      "\n",
      "       False       0.54      0.41      0.47     51838\n",
      "        True       0.85      0.90      0.88    191406\n",
      "\n",
      "    accuracy                           0.80    243244\n",
      "   macro avg       0.69      0.66      0.67    243244\n",
      "weighted avg       0.78      0.80      0.79    243244\n"
     ]
    },
    {
     "name": "stdout",
     "output_type": "stream",
     "text": [
      "\n"
     ]
    },
    {
     "name": "stdout",
     "output_type": "stream",
     "text": [
      "metrics={'accuracy': 0.7977586291953759, 'precision': 0.8484619350403849, 'recall': 0.9040929614456948, 'f1': 0.8753945055446076}\n"
     ]
    },
    {
     "name": "stdout",
     "output_type": "stream",
     "text": [
      "\n"
     ]
    },
    {
     "name": "stdout",
     "output_type": "stream",
     "text": [
      "Confusion matrix:\n",
      "[[ 21248  30863]\n",
      " [ 18331 172802]]\n"
     ]
    },
    {
     "name": "stdout",
     "output_type": "stream",
     "text": [
      "\n"
     ]
    },
    {
     "name": "stdout",
     "output_type": "stream",
     "text": [
      "Classification report:"
     ]
    },
    {
     "name": "stdout",
     "output_type": "stream",
     "text": [
      "\n"
     ]
    },
    {
     "name": "stdout",
     "output_type": "stream",
     "text": [
      "              precision    recall  f1-score   support\n",
      "\n",
      "       False       0.54      0.41      0.46     52111\n",
      "        True       0.85      0.90      0.88    191133\n",
      "\n",
      "    accuracy                           0.80    243244\n",
      "   macro avg       0.69      0.66      0.67    243244\n",
      "weighted avg       0.78      0.80      0.79    243244\n"
     ]
    },
    {
     "name": "stdout",
     "output_type": "stream",
     "text": [
      "\n"
     ]
    },
    {
     "name": "stdout",
     "output_type": "stream",
     "text": [
      "metrics={'accuracy': 0.8008255085428623, 'precision': 0.8507312721783284, 'recall': 0.9060741467692597, 'f1': 0.8775310040091608}\n"
     ]
    },
    {
     "name": "stdout",
     "output_type": "stream",
     "text": [
      "\n"
     ]
    },
    {
     "name": "stdout",
     "output_type": "stream",
     "text": [
      "Confusion matrix:\n",
      "[[ 21223  30455]\n",
      " [ 17993 173573]]\n"
     ]
    },
    {
     "name": "stdout",
     "output_type": "stream",
     "text": [
      "\n"
     ]
    },
    {
     "name": "stdout",
     "output_type": "stream",
     "text": [
      "Classification report:"
     ]
    },
    {
     "name": "stdout",
     "output_type": "stream",
     "text": [
      "\n"
     ]
    },
    {
     "name": "stdout",
     "output_type": "stream",
     "text": [
      "              precision    recall  f1-score   support\n",
      "\n",
      "       False       0.54      0.41      0.47     51678\n",
      "        True       0.85      0.91      0.88    191566\n",
      "\n",
      "    accuracy                           0.80    243244\n",
      "   macro avg       0.70      0.66      0.67    243244\n",
      "weighted avg       0.78      0.80      0.79    243244\n"
     ]
    },
    {
     "name": "stdout",
     "output_type": "stream",
     "text": [
      "\n"
     ]
    },
    {
     "name": "stdout",
     "output_type": "stream",
     "text": [
      "Performance of 'FeatureGroups.Control'\n",
      "['ControlIntegratedBySameUser', 'ControlPullRequestHasComments', 'ControlPullRequestHasCommentByExternalUser', 'ControlHasHashTagInDescription', 'ln(1 + ControlPullRequestLifeTimeInMinutes)', 'ln(1 + ControlNumberOfCommitsInPullRequest)', 'ln(1 + ControlIntraProjectPullRequestExperienceOfIntegrator)']\n",
      "f1_scores=[0.8766866898514071, 0.8761976566789205, 0.8761415741887133, 0.8753945055446076, 0.8775310040091608]\n",
      "f1_mean=0.8763902860545618, f1_std=0.0007042208680957024\n",
      "\n",
      "Reverse ablation with \"FeatureGroups.Intra\", including: ['IntraProjectSubmitterPullRequestSuccessRate', 'ln(1 + IntraProjectSubmitterPullRequestSubmissionCount)', 'ln(1 + IntraProjectSubmitterPullRequestCommentCount)', 'ln(1 + IntraProjectSubmitterIssueSubmissionCount)', 'ln(1 + IntraProjectSubmitterIssueCommentCount)'].\n"
     ]
    },
    {
     "name": "stdout",
     "output_type": "stream",
     "text": [
      "random_state=52"
     ]
    },
    {
     "name": "stdout",
     "output_type": "stream",
     "text": [
      "\n"
     ]
    },
    {
     "name": "stdout",
     "output_type": "stream",
     "text": [
      "random_state=52"
     ]
    },
    {
     "name": "stdout",
     "output_type": "stream",
     "text": [
      "\n"
     ]
    },
    {
     "name": "stdout",
     "output_type": "stream",
     "text": [
      "random_state=52"
     ]
    },
    {
     "name": "stdout",
     "output_type": "stream",
     "text": [
      "\n"
     ]
    },
    {
     "name": "stdout",
     "output_type": "stream",
     "text": [
      "random_state=52"
     ]
    },
    {
     "name": "stdout",
     "output_type": "stream",
     "text": [
      "\n"
     ]
    },
    {
     "name": "stdout",
     "output_type": "stream",
     "text": [
      "random_state=52"
     ]
    },
    {
     "name": "stdout",
     "output_type": "stream",
     "text": [
      "\n"
     ]
    },
    {
     "name": "stdout",
     "output_type": "stream",
     "text": [
      "metrics={'accuracy': 0.791036983440496, 'precision': 0.7993797007717478, 'recall': 0.9801077518568888, 'f1': 0.8805661880291271}\n"
     ]
    },
    {
     "name": "stdout",
     "output_type": "stream",
     "text": [
      "\n"
     ]
    },
    {
     "name": "stdout",
     "output_type": "stream",
     "text": [
      "Confusion matrix:\n",
      "[[  5038  47026]\n",
      " [  3803 187377]]\n"
     ]
    },
    {
     "name": "stdout",
     "output_type": "stream",
     "text": [
      "\n"
     ]
    },
    {
     "name": "stdout",
     "output_type": "stream",
     "text": [
      "Classification report:"
     ]
    },
    {
     "name": "stdout",
     "output_type": "stream",
     "text": [
      "\n"
     ]
    },
    {
     "name": "stdout",
     "output_type": "stream",
     "text": [
      "              precision    recall  f1-score   support\n",
      "\n",
      "       False       0.57      0.10      0.17     52064\n",
      "        True       0.80      0.98      0.88    191180\n",
      "\n",
      "    accuracy                           0.79    243244\n",
      "   macro avg       0.68      0.54      0.52    243244\n",
      "weighted avg       0.75      0.79      0.73    243244\n"
     ]
    },
    {
     "name": "stdout",
     "output_type": "stream",
     "text": [
      "\n"
     ]
    },
    {
     "name": "stdout",
     "output_type": "stream",
     "text": [
      "metrics={'accuracy': 0.7916166483037609, 'precision': 0.8000221591538612, 'recall': 0.9803653301862161, 'f1': 0.88105987366366}\n"
     ]
    },
    {
     "name": "stdout",
     "output_type": "stream",
     "text": [
      "\n"
     ]
    },
    {
     "name": "stdout",
     "output_type": "stream",
     "text": [
      "Confusion matrix:\n",
      "[[  4818  46928]\n",
      " [  3760 187738]]\n"
     ]
    },
    {
     "name": "stdout",
     "output_type": "stream",
     "text": [
      "\n"
     ]
    },
    {
     "name": "stdout",
     "output_type": "stream",
     "text": [
      "Classification report:"
     ]
    },
    {
     "name": "stdout",
     "output_type": "stream",
     "text": [
      "\n"
     ]
    },
    {
     "name": "stdout",
     "output_type": "stream",
     "text": [
      "              precision    recall  f1-score   support\n",
      "\n",
      "       False       0.56      0.09      0.16     51746\n",
      "        True       0.80      0.98      0.88    191498\n",
      "\n",
      "    accuracy                           0.79    243244\n",
      "   macro avg       0.68      0.54      0.52    243244\n",
      "weighted avg       0.75      0.79      0.73    243244\n"
     ]
    },
    {
     "name": "stdout",
     "output_type": "stream",
     "text": [
      "\n"
     ]
    },
    {
     "name": "stdout",
     "output_type": "stream",
     "text": [
      "metrics={'accuracy': 0.7924799789511766, 'precision': 0.8012232546244992, 'recall': 0.9799764367336725, 'f1': 0.8816304133719786}\n"
     ]
    },
    {
     "name": "stdout",
     "output_type": "stream",
     "text": [
      "\n"
     ]
    },
    {
     "name": "stdout",
     "output_type": "stream",
     "text": [
      "Confusion matrix:\n",
      "[[  4783  46637]\n",
      " [  3841 187983]]\n"
     ]
    },
    {
     "name": "stdout",
     "output_type": "stream",
     "text": [
      "\n"
     ]
    },
    {
     "name": "stdout",
     "output_type": "stream",
     "text": [
      "Classification report:"
     ]
    },
    {
     "name": "stdout",
     "output_type": "stream",
     "text": [
      "\n"
     ]
    },
    {
     "name": "stdout",
     "output_type": "stream",
     "text": [
      "              precision    recall  f1-score   support\n",
      "\n",
      "       False       0.55      0.09      0.16     51420\n",
      "        True       0.80      0.98      0.88    191824\n",
      "\n",
      "    accuracy                           0.79    243244\n",
      "   macro avg       0.68      0.54      0.52    243244\n",
      "weighted avg       0.75      0.79      0.73    243244\n"
     ]
    },
    {
     "name": "stdout",
     "output_type": "stream",
     "text": [
      "\n"
     ]
    },
    {
     "name": "stdout",
     "output_type": "stream",
     "text": [
      "metrics={'accuracy': 0.7917194257617866, 'precision': 0.8001073272117072, 'recall': 0.9805366640395425, 'f1': 0.8811807114194381}\n"
     ]
    },
    {
     "name": "stdout",
     "output_type": "stream",
     "text": [
      "\n"
     ]
    },
    {
     "name": "stdout",
     "output_type": "stream",
     "text": [
      "Confusion matrix:\n",
      "[[  4719  46934]\n",
      " [  3729 187862]]\n"
     ]
    },
    {
     "name": "stdout",
     "output_type": "stream",
     "text": [
      "\n"
     ]
    },
    {
     "name": "stdout",
     "output_type": "stream",
     "text": [
      "Classification report:"
     ]
    },
    {
     "name": "stdout",
     "output_type": "stream",
     "text": [
      "\n"
     ]
    },
    {
     "name": "stdout",
     "output_type": "stream",
     "text": [
      "              precision    recall  f1-score   support\n",
      "\n",
      "       False       0.56      0.09      0.16     51653\n",
      "        True       0.80      0.98      0.88    191591\n",
      "\n",
      "    accuracy                           0.79    243244\n",
      "   macro avg       0.68      0.54      0.52    243244\n",
      "weighted avg       0.75      0.79      0.73    243244\n"
     ]
    },
    {
     "name": "stdout",
     "output_type": "stream",
     "text": [
      "\n"
     ]
    },
    {
     "name": "stdout",
     "output_type": "stream",
     "text": [
      "metrics={'accuracy': 0.7911940635984296, 'precision': 0.7991391128860581, 'recall': 0.9811092932450304, 'f1': 0.8808240552811571}\n"
     ]
    },
    {
     "name": "stdout",
     "output_type": "stream",
     "text": [
      "\n"
     ]
    },
    {
     "name": "stdout",
     "output_type": "stream",
     "text": [
      "Confusion matrix:\n",
      "[[  4757  47177]\n",
      " [  3614 187697]]\n"
     ]
    },
    {
     "name": "stdout",
     "output_type": "stream",
     "text": [
      "\n"
     ]
    },
    {
     "name": "stdout",
     "output_type": "stream",
     "text": [
      "Classification report:"
     ]
    },
    {
     "name": "stdout",
     "output_type": "stream",
     "text": [
      "\n"
     ]
    },
    {
     "name": "stdout",
     "output_type": "stream",
     "text": [
      "              precision    recall  f1-score   support\n",
      "\n",
      "       False       0.57      0.09      0.16     51934\n",
      "        True       0.80      0.98      0.88    191311\n",
      "\n",
      "    accuracy                           0.79    243245\n",
      "   macro avg       0.68      0.54      0.52    243245\n",
      "weighted avg       0.75      0.79      0.73    243245\n"
     ]
    },
    {
     "name": "stdout",
     "output_type": "stream",
     "text": [
      "\n"
     ]
    },
    {
     "name": "stdout",
     "output_type": "stream",
     "text": [
      "Performance of 'FeatureGroups.Intra'\n",
      "['IntraProjectSubmitterPullRequestSuccessRate', 'ln(1 + IntraProjectSubmitterPullRequestSubmissionCount)', 'ln(1 + IntraProjectSubmitterPullRequestCommentCount)', 'ln(1 + IntraProjectSubmitterIssueSubmissionCount)', 'ln(1 + IntraProjectSubmitterIssueCommentCount)']\n",
      "f1_scores=[0.8805661880291271, 0.88105987366366, 0.8816304133719786, 0.8811807114194381, 0.8808240552811571]\n",
      "f1_mean=0.8810522483530722, f1_std=0.0003575366863560466\n",
      "\n",
      "Reverse ablation with \"FeatureGroups.Eco\", including: ['EcosystemExperienceSubmitterPullRequestSuccessRate', 'ln(1 + EcosystemExperienceSubmitterPullRequestSubmissionCount)', 'ln(1 + EcosystemExperienceSubmitterPullRequestCommentCount)', 'ln(1 + EcosystemExperienceSubmitterIssueSubmissionCount)', 'ln(1 + EcosystemExperienceSubmitterIssueCommentCount)'].\n"
     ]
    },
    {
     "name": "stdout",
     "output_type": "stream",
     "text": [
      "random_state=54"
     ]
    },
    {
     "name": "stdout",
     "output_type": "stream",
     "text": [
      "\n"
     ]
    },
    {
     "name": "stdout",
     "output_type": "stream",
     "text": [
      "random_state=54"
     ]
    },
    {
     "name": "stdout",
     "output_type": "stream",
     "text": [
      "\n"
     ]
    },
    {
     "name": "stdout",
     "output_type": "stream",
     "text": [
      "random_state=54"
     ]
    },
    {
     "name": "stdout",
     "output_type": "stream",
     "text": [
      "\n"
     ]
    },
    {
     "name": "stdout",
     "output_type": "stream",
     "text": [
      "random_state=54"
     ]
    },
    {
     "name": "stdout",
     "output_type": "stream",
     "text": [
      "random_state=54"
     ]
    },
    {
     "name": "stdout",
     "output_type": "stream",
     "text": [
      "\n"
     ]
    },
    {
     "name": "stdout",
     "output_type": "stream",
     "text": [
      "\n"
     ]
    },
    {
     "name": "stdout",
     "output_type": "stream",
     "text": [
      "metrics={'accuracy': 0.7828435644866882, 'precision': 0.7923650535230753, 'recall': 0.9812334820169437, 'f1': 0.8767430790195823}\n"
     ]
    },
    {
     "name": "stdout",
     "output_type": "stream",
     "text": [
      "\n"
     ]
    },
    {
     "name": "stdout",
     "output_type": "stream",
     "text": [
      "Confusion matrix:\n",
      "[[  2557  49229]\n",
      " [  3593 187865]]\n"
     ]
    },
    {
     "name": "stdout",
     "output_type": "stream",
     "text": [
      "\n"
     ]
    },
    {
     "name": "stdout",
     "output_type": "stream",
     "text": [
      "Classification report:"
     ]
    },
    {
     "name": "stdout",
     "output_type": "stream",
     "text": [
      "\n"
     ]
    },
    {
     "name": "stdout",
     "output_type": "stream",
     "text": [
      "              precision    recall  f1-score   support\n",
      "\n",
      "       False       0.42      0.05      0.09     51786\n",
      "        True       0.79      0.98      0.88    191458\n",
      "\n",
      "    accuracy                           0.78    243244\n",
      "   macro avg       0.60      0.52      0.48    243244\n",
      "weighted avg       0.71      0.78      0.71    243244\n"
     ]
    },
    {
     "name": "stdout",
     "output_type": "stream",
     "text": [
      "\n"
     ]
    },
    {
     "name": "stdout",
     "output_type": "stream",
     "text": [
      "metrics={'accuracy': 0.7815362352206016, 'precision': 0.7912192200298626, 'recall': 0.9809599012696886, 'f1': 0.8759321432407066}\n"
     ]
    },
    {
     "name": "stdout",
     "output_type": "stream",
     "text": [
      "\n"
     ]
    },
    {
     "name": "stdout",
     "output_type": "stream",
     "text": [
      "Confusion matrix:\n",
      "[[  2517  49499]\n",
      " [  3641 187587]]\n"
     ]
    },
    {
     "name": "stdout",
     "output_type": "stream",
     "text": [
      "\n"
     ]
    },
    {
     "name": "stdout",
     "output_type": "stream",
     "text": [
      "Classification report:"
     ]
    },
    {
     "name": "stdout",
     "output_type": "stream",
     "text": [
      "\n"
     ]
    },
    {
     "name": "stdout",
     "output_type": "stream",
     "text": [
      "              precision    recall  f1-score   support\n",
      "\n",
      "       False       0.41      0.05      0.09     52016\n",
      "        True       0.79      0.98      0.88    191228\n",
      "\n",
      "    accuracy                           0.78    243244\n",
      "   macro avg       0.60      0.51      0.48    243244\n",
      "weighted avg       0.71      0.78      0.71    243244\n"
     ]
    },
    {
     "name": "stdout",
     "output_type": "stream",
     "text": [
      "\n"
     ]
    },
    {
     "name": "stdout",
     "output_type": "stream",
     "text": [
      "metrics={'accuracy': 0.7839905609182549, 'precision': 0.7936764463873546, 'recall': 0.9809792529389062, 'f1': 0.8774435827161933}\n"
     ]
    },
    {
     "name": "stdout",
     "output_type": "stream",
     "text": [
      "\n"
     ]
    },
    {
     "name": "stdout",
     "output_type": "stream",
     "text": [
      "Confusion matrix:\n",
      "[[  2610  48896]\n",
      " [  3647 188091]]\n"
     ]
    },
    {
     "name": "stdout",
     "output_type": "stream",
     "text": [
      "\n"
     ]
    },
    {
     "name": "stdout",
     "output_type": "stream",
     "text": [
      "Classification report:"
     ]
    },
    {
     "name": "stdout",
     "output_type": "stream",
     "text": [
      "\n"
     ]
    },
    {
     "name": "stdout",
     "output_type": "stream",
     "text": [
      "metrics={'accuracy': 0.7821487888704346, 'precision': 0.7924096395719125, 'recall': 0.979948919101018, 'f1': 0.8762571952315902}\n"
     ]
    },
    {
     "name": "stdout",
     "output_type": "stream",
     "text": [
      "\n"
     ]
    },
    {
     "name": "stdout",
     "output_type": "stream",
     "text": [
      "Confusion matrix:\n",
      "[[  2631  49152]\n",
      " [  3839 187622]]\n"
     ]
    },
    {
     "name": "stdout",
     "output_type": "stream",
     "text": [
      "\n"
     ]
    },
    {
     "name": "stdout",
     "output_type": "stream",
     "text": [
      "Classification report:"
     ]
    },
    {
     "name": "stdout",
     "output_type": "stream",
     "text": [
      "\n"
     ]
    },
    {
     "name": "stdout",
     "output_type": "stream",
     "text": [
      "              precision    recall  f1-score   support\n",
      "\n",
      "       False       0.42      0.05      0.09     51506\n",
      "        True       0.79      0.98      0.88    191738\n",
      "\n",
      "    accuracy                           0.78    243244\n",
      "   macro avg       0.61      0.52      0.48    243244\n",
      "weighted avg       0.71      0.78      0.71    243244\n"
     ]
    },
    {
     "name": "stdout",
     "output_type": "stream",
     "text": [
      "\n"
     ]
    },
    {
     "name": "stdout",
     "output_type": "stream",
     "text": [
      "              precision    recall  f1-score   support\n",
      "\n",
      "       False       0.41      0.05      0.09     51783\n",
      "        True       0.79      0.98      0.88    191461\n",
      "\n",
      "    accuracy                           0.78    243244\n",
      "   macro avg       0.60      0.52      0.48    243244\n",
      "weighted avg       0.71      0.78      0.71    243244\n"
     ]
    },
    {
     "name": "stdout",
     "output_type": "stream",
     "text": [
      "\n"
     ]
    },
    {
     "name": "stdout",
     "output_type": "stream",
     "text": [
      "metrics={'accuracy': 0.781903019589303, 'precision': 0.7922770371245957, 'recall': 0.9799184415123303, 'f1': 0.876163932053679}\n"
     ]
    },
    {
     "name": "stdout",
     "output_type": "stream",
     "text": [
      "\n"
     ]
    },
    {
     "name": "stdout",
     "output_type": "stream",
     "text": [
      "Confusion matrix:\n",
      "[[  2521  49205]\n",
      " [  3846 187673]]\n"
     ]
    },
    {
     "name": "stdout",
     "output_type": "stream",
     "text": [
      "\n"
     ]
    },
    {
     "name": "stdout",
     "output_type": "stream",
     "text": [
      "Classification report:"
     ]
    },
    {
     "name": "stdout",
     "output_type": "stream",
     "text": [
      "\n"
     ]
    },
    {
     "name": "stdout",
     "output_type": "stream",
     "text": [
      "              precision    recall  f1-score   support\n",
      "\n",
      "       False       0.40      0.05      0.09     51726\n",
      "        True       0.79      0.98      0.88    191519\n",
      "\n",
      "    accuracy                           0.78    243245\n",
      "   macro avg       0.59      0.51      0.48    243245\n",
      "weighted avg       0.71      0.78      0.71    243245\n"
     ]
    },
    {
     "name": "stdout",
     "output_type": "stream",
     "text": [
      "\n"
     ]
    },
    {
     "name": "stdout",
     "output_type": "stream",
     "text": [
      "Performance of 'FeatureGroups.Eco'\n",
      "['EcosystemExperienceSubmitterPullRequestSuccessRate', 'ln(1 + EcosystemExperienceSubmitterPullRequestSubmissionCount)', 'ln(1 + EcosystemExperienceSubmitterPullRequestCommentCount)', 'ln(1 + EcosystemExperienceSubmitterIssueSubmissionCount)', 'ln(1 + EcosystemExperienceSubmitterIssueCommentCount)']\n",
      "f1_scores=[0.8767430790195823, 0.8759321432407066, 0.8774435827161933, 0.8762571952315902, 0.876163932053679]\n",
      "f1_mean=0.8765079864523504, f1_std=0.0005373032577858074\n",
      "\n",
      "Reverse ablation with \"FeatureGroups.DEco\", including: ['DependencyEcosystemExperienceSubmitterPullRequestSuccessRate', 'ln(1 + DependencyEcosystemExperienceSubmitterPullRequestSubmissionCount)', 'ln(1 + DependencyEcosystemExperienceSubmitterPullRequestCommentCount)', 'ln(1 + DependencyEcosystemExperienceSubmitterIssueSubmissionCount)', 'ln(1 + DependencyEcosystemExperienceSubmitterIssueCommentCount)'].\n"
     ]
    },
    {
     "name": "stdout",
     "output_type": "stream",
     "text": [
      "random_state=56"
     ]
    },
    {
     "name": "stdout",
     "output_type": "stream",
     "text": [
      "\n"
     ]
    },
    {
     "name": "stdout",
     "output_type": "stream",
     "text": [
      "random_state=56"
     ]
    },
    {
     "name": "stdout",
     "output_type": "stream",
     "text": [
      "\n"
     ]
    },
    {
     "name": "stdout",
     "output_type": "stream",
     "text": [
      "random_state=56"
     ]
    },
    {
     "name": "stdout",
     "output_type": "stream",
     "text": [
      "\n"
     ]
    },
    {
     "name": "stdout",
     "output_type": "stream",
     "text": [
      "random_state=56"
     ]
    },
    {
     "name": "stdout",
     "output_type": "stream",
     "text": [
      "\n"
     ]
    },
    {
     "name": "stdout",
     "output_type": "stream",
     "text": [
      "random_state=56"
     ]
    },
    {
     "name": "stdout",
     "output_type": "stream",
     "text": [
      "\n"
     ]
    },
    {
     "name": "stdout",
     "output_type": "stream",
     "text": [
      "metrics={'accuracy': 0.7865312196806499, 'precision': 0.787534056295417, 'recall': 0.9980255322705334, 'f1': 0.8803728542564686}\n"
     ]
    },
    {
     "name": "stdout",
     "output_type": "stream",
     "text": [
      "\n"
     ]
    },
    {
     "name": "stdout",
     "output_type": "stream",
     "text": [
      "Confusion matrix:\n",
      "[[   253  51547]\n",
      " [   378 191066]]\n"
     ]
    },
    {
     "name": "stdout",
     "output_type": "stream",
     "text": [
      "\n"
     ]
    },
    {
     "name": "stdout",
     "output_type": "stream",
     "text": [
      "Classification report:"
     ]
    },
    {
     "name": "stdout",
     "output_type": "stream",
     "text": [
      "\n"
     ]
    },
    {
     "name": "stdout",
     "output_type": "stream",
     "text": [
      "metrics={'accuracy': 0.7877193270954268, 'precision': 0.7885736654510992, 'recall': 0.9982994350577201, 'f1': 0.8811287656600351}\n"
     ]
    },
    {
     "name": "stdout",
     "output_type": "stream",
     "text": [
      "\n"
     ]
    },
    {
     "name": "stdout",
     "output_type": "stream",
     "text": [
      "Confusion matrix:\n",
      "[[   233  51310]\n",
      " [   326 191375]]\n"
     ]
    },
    {
     "name": "stdout",
     "output_type": "stream",
     "text": [
      "\n"
     ]
    },
    {
     "name": "stdout",
     "output_type": "stream",
     "text": [
      "Classification report:"
     ]
    },
    {
     "name": "stdout",
     "output_type": "stream",
     "text": [
      "\n"
     ]
    },
    {
     "name": "stdout",
     "output_type": "stream",
     "text": [
      "metrics={'accuracy': 0.7874077576106395, 'precision': 0.7884311009991097, 'recall': 0.9980069703862929, 'f1': 0.8809258457599175}\n"
     ]
    },
    {
     "name": "stdout",
     "output_type": "stream",
     "text": [
      "\n"
     ]
    },
    {
     "name": "stdout",
     "output_type": "stream",
     "text": [
      "Confusion matrix:\n",
      "[[   247  51330]\n",
      " [   382 191286]]\n"
     ]
    },
    {
     "name": "stdout",
     "output_type": "stream",
     "text": [
      "\n"
     ]
    },
    {
     "name": "stdout",
     "output_type": "stream",
     "text": [
      "Classification report:"
     ]
    },
    {
     "name": "stdout",
     "output_type": "stream",
     "text": [
      "\n"
     ]
    },
    {
     "name": "stdout",
     "output_type": "stream",
     "text": [
      "metrics={'accuracy': 0.7855692226735295, 'precision': 0.7864973129801194, 'recall': 0.9981537174089281, 'f1': 0.8797744806300897}\n"
     ]
    },
    {
     "name": "stdout",
     "output_type": "stream",
     "text": [
      "\n"
     ]
    },
    {
     "name": "stdout",
     "output_type": "stream",
     "text": [
      "Confusion matrix:\n",
      "[[   243  51806]\n",
      " [   353 190842]]\n"
     ]
    },
    {
     "name": "stdout",
     "output_type": "stream",
     "text": [
      "\n"
     ]
    },
    {
     "name": "stdout",
     "output_type": "stream",
     "text": [
      "Classification report:"
     ]
    },
    {
     "name": "stdout",
     "output_type": "stream",
     "text": [
      "\n"
     ]
    },
    {
     "name": "stdout",
     "output_type": "stream",
     "text": [
      "metrics={'accuracy': 0.786247553896499, 'precision': 0.7872917473847346, 'recall': 0.9979727893999875, 'f1': 0.8802009170295615}\n"
     ]
    },
    {
     "name": "stdout",
     "output_type": "stream",
     "text": [
      "\n"
     ]
    },
    {
     "name": "stdout",
     "output_type": "stream",
     "text": [
      "Confusion matrix:\n",
      "[[   242  51606]\n",
      " [   388 191008]]\n"
     ]
    },
    {
     "name": "stdout",
     "output_type": "stream",
     "text": [
      "\n"
     ]
    },
    {
     "name": "stdout",
     "output_type": "stream",
     "text": [
      "Classification report:"
     ]
    },
    {
     "name": "stdout",
     "output_type": "stream",
     "text": [
      "\n"
     ]
    },
    {
     "name": "stdout",
     "output_type": "stream",
     "text": [
      "              precision    recall  f1-score   support\n",
      "\n",
      "       False       0.40      0.00      0.01     51800\n",
      "        True       0.79      1.00      0.88    191444\n",
      "\n",
      "    accuracy                           0.79    243244\n",
      "   macro avg       0.59      0.50      0.45    243244\n",
      "weighted avg       0.71      0.79      0.69    243244\n"
     ]
    },
    {
     "name": "stdout",
     "output_type": "stream",
     "text": [
      "\n"
     ]
    },
    {
     "name": "stdout",
     "output_type": "stream",
     "text": [
      "              precision    recall  f1-score   support\n",
      "\n",
      "       False       0.42      0.00      0.01     51543\n",
      "        True       0.79      1.00      0.88    191701\n",
      "\n",
      "    accuracy                           0.79    243244\n",
      "   macro avg       0.60      0.50      0.45    243244\n",
      "weighted avg       0.71      0.79      0.70    243244\n"
     ]
    },
    {
     "name": "stdout",
     "output_type": "stream",
     "text": [
      "\n"
     ]
    },
    {
     "name": "stdout",
     "output_type": "stream",
     "text": [
      "              precision    recall  f1-score   support\n",
      "\n",
      "       False       0.39      0.00      0.01     51577\n",
      "        True       0.79      1.00      0.88    191668\n",
      "\n",
      "    accuracy                           0.79    243245\n",
      "   macro avg       0.59      0.50      0.45    243245\n",
      "weighted avg       0.70      0.79      0.70    243245\n"
     ]
    },
    {
     "name": "stdout",
     "output_type": "stream",
     "text": [
      "\n"
     ]
    },
    {
     "name": "stdout",
     "output_type": "stream",
     "text": [
      "              precision    recall  f1-score   support\n",
      "\n",
      "       False       0.41      0.00      0.01     52049\n",
      "        True       0.79      1.00      0.88    191195\n",
      "\n",
      "    accuracy                           0.79    243244\n",
      "   macro avg       0.60      0.50      0.44    243244\n",
      "weighted avg       0.71      0.79      0.69    243244\n"
     ]
    },
    {
     "name": "stdout",
     "output_type": "stream",
     "text": [
      "\n"
     ]
    },
    {
     "name": "stdout",
     "output_type": "stream",
     "text": [
      "              precision    recall  f1-score   support\n",
      "\n",
      "       False       0.38      0.00      0.01     51848\n",
      "        True       0.79      1.00      0.88    191396\n",
      "\n",
      "    accuracy                           0.79    243244\n",
      "   macro avg       0.59      0.50      0.44    243244\n",
      "weighted avg       0.70      0.79      0.69    243244\n"
     ]
    },
    {
     "name": "stdout",
     "output_type": "stream",
     "text": [
      "\n"
     ]
    },
    {
     "name": "stdout",
     "output_type": "stream",
     "text": [
      "Performance of 'FeatureGroups.DEco'\n",
      "['DependencyEcosystemExperienceSubmitterPullRequestSuccessRate', 'ln(1 + DependencyEcosystemExperienceSubmitterPullRequestSubmissionCount)', 'ln(1 + DependencyEcosystemExperienceSubmitterPullRequestCommentCount)', 'ln(1 + DependencyEcosystemExperienceSubmitterIssueSubmissionCount)', 'ln(1 + DependencyEcosystemExperienceSubmitterIssueCommentCount)']\n",
      "f1_scores=[0.8803728542564686, 0.8811287656600351, 0.8809258457599175, 0.8797744806300897, 0.8802009170295615]\n",
      "f1_mean=0.8804805726672145, f1_std=0.0004912837834903154\n",
      "\n",
      "Reverse ablation with \"FeatureGroups.IDEco\", including: ['InversedDependencyEcosystemExperienceSubmitterPullRequestSuccessRate', 'ln(1 + InversedDependencyEcosystemExperienceSubmitterPullRequestSubmissionCount)', 'ln(1 + InversedDependencyEcosystemExperienceSubmitterPullRequestCommentCount)', 'ln(1 + InversedDependencyEcosystemExperienceSubmitterIssueSubmissionCount)', 'ln(1 + InversedDependencyEcosystemExperienceSubmitterIssueCommentCount)'].\n"
     ]
    },
    {
     "name": "stdout",
     "output_type": "stream",
     "text": [
      "random_state=58"
     ]
    },
    {
     "name": "stdout",
     "output_type": "stream",
     "text": [
      "\n"
     ]
    },
    {
     "name": "stdout",
     "output_type": "stream",
     "text": [
      "random_state=58"
     ]
    },
    {
     "name": "stdout",
     "output_type": "stream",
     "text": [
      "\n"
     ]
    },
    {
     "name": "stdout",
     "output_type": "stream",
     "text": [
      "random_state=58"
     ]
    },
    {
     "name": "stdout",
     "output_type": "stream",
     "text": [
      "\n"
     ]
    },
    {
     "name": "stdout",
     "output_type": "stream",
     "text": [
      "random_state=58"
     ]
    },
    {
     "name": "stdout",
     "output_type": "stream",
     "text": [
      "\n"
     ]
    },
    {
     "name": "stdout",
     "output_type": "stream",
     "text": [
      "random_state=58"
     ]
    },
    {
     "name": "stdout",
     "output_type": "stream",
     "text": [
      "\n"
     ]
    },
    {
     "name": "stdout",
     "output_type": "stream",
     "text": [
      "metrics={'accuracy': 0.7867532189899854, 'precision': 0.787653028848333, 'recall': 0.9982348763368984, 'f1': 0.8805286396373778}\n"
     ]
    },
    {
     "name": "stdout",
     "output_type": "stream",
     "text": [
      "\n"
     ]
    },
    {
     "name": "stdout",
     "output_type": "stream",
     "text": [
      "Confusion matrix:\n",
      "[[   223  51533]\n",
      " [   338 191150]]\n"
     ]
    },
    {
     "name": "stdout",
     "output_type": "stream",
     "text": [
      "\n"
     ]
    },
    {
     "name": "stdout",
     "output_type": "stream",
     "text": [
      "Classification report:"
     ]
    },
    {
     "name": "stdout",
     "output_type": "stream",
     "text": [
      "\n"
     ]
    },
    {
     "name": "stdout",
     "output_type": "stream",
     "text": [
      "metrics={'accuracy': 0.7886731019059052, 'precision': 0.7896226881614083, 'recall': 0.9981611327005824, 'f1': 0.8817292869797299}\n"
     ]
    },
    {
     "name": "stdout",
     "output_type": "stream",
     "text": [
      "\n"
     ]
    },
    {
     "name": "stdout",
     "output_type": "stream",
     "text": [
      "Confusion matrix:\n",
      "[[   227  51051]\n",
      " [   353 191613]]\n"
     ]
    },
    {
     "name": "stdout",
     "output_type": "stream",
     "text": [
      "\n"
     ]
    },
    {
     "name": "stdout",
     "output_type": "stream",
     "text": [
      "Classification report:"
     ]
    },
    {
     "name": "stdout",
     "output_type": "stream",
     "text": [
      "\n"
     ]
    },
    {
     "name": "stdout",
     "output_type": "stream",
     "text": [
      "              precision    recall  f1-score   support\n",
      "\n",
      "       False       0.40      0.00      0.01     51756\n",
      "        True       0.79      1.00      0.88    191488\n",
      "\n",
      "    accuracy                           0.79    243244\n",
      "   macro avg       0.59      0.50      0.44    243244\n",
      "weighted avg       0.70      0.79      0.69    243244\n"
     ]
    },
    {
     "name": "stdout",
     "output_type": "stream",
     "text": [
      "\n"
     ]
    },
    {
     "name": "stdout",
     "output_type": "stream",
     "text": [
      "metrics={'accuracy': 0.7855157783953561, 'precision': 0.7864550927318502, 'recall': 0.998185250848539, 'f1': 0.8797603134362756}\n"
     ]
    },
    {
     "name": "stdout",
     "output_type": "stream",
     "text": [
      "\n"
     ]
    },
    {
     "name": "stdout",
     "output_type": "stream",
     "text": [
      "Confusion matrix:\n",
      "[[   208  51825]\n",
      " [   347 190864]]\n"
     ]
    },
    {
     "name": "stdout",
     "output_type": "stream",
     "text": [
      "\n"
     ]
    },
    {
     "name": "stdout",
     "output_type": "stream",
     "text": [
      "Classification report:"
     ]
    },
    {
     "name": "stdout",
     "output_type": "stream",
     "text": [
      "\n"
     ]
    },
    {
     "name": "stdout",
     "output_type": "stream",
     "text": [
      "              precision    recall  f1-score   support\n",
      "\n",
      "       False       0.39      0.00      0.01     51278\n",
      "        True       0.79      1.00      0.88    191966\n",
      "\n",
      "    accuracy                           0.79    243244\n",
      "   macro avg       0.59      0.50      0.45    243244\n",
      "weighted avg       0.71      0.79      0.70    243244\n"
     ]
    },
    {
     "name": "stdout",
     "output_type": "stream",
     "text": [
      "\n"
     ]
    },
    {
     "name": "stdout",
     "output_type": "stream",
     "text": [
      "              precision    recall  f1-score   support\n",
      "\n",
      "       False       0.37      0.00      0.01     52033\n",
      "        True       0.79      1.00      0.88    191211\n",
      "\n",
      "    accuracy                           0.79    243244\n",
      "   macro avg       0.58      0.50      0.44    243244\n",
      "weighted avg       0.70      0.79      0.69    243244\n"
     ]
    },
    {
     "name": "stdout",
     "output_type": "stream",
     "text": [
      "\n"
     ]
    },
    {
     "name": "stdout",
     "output_type": "stream",
     "text": [
      "metrics={'accuracy': 0.7856441036814734, 'precision': 0.7866448504531536, 'recall': 0.9980443421878268, 'f1': 0.8798242803769768}\n"
     ]
    },
    {
     "name": "stdout",
     "output_type": "stream",
     "text": [
      "\n"
     ]
    },
    {
     "name": "stdout",
     "output_type": "stream",
     "text": [
      "metrics={'accuracy': 0.7867902188748747, 'precision': 0.7876752685425156, 'recall': 0.9982715314440285, 'f1': 0.8805567966688008}\n"
     ]
    },
    {
     "name": "stdout",
     "output_type": "stream",
     "text": [
      "Confusion matrix:\n",
      "[[   238  51767]\n",
      " [   374 190866]]\n"
     ]
    },
    {
     "name": "stdout",
     "output_type": "stream",
     "text": [
      "\n"
     ]
    },
    {
     "name": "stdout",
     "output_type": "stream",
     "text": [
      "\n"
     ]
    },
    {
     "name": "stdout",
     "output_type": "stream",
     "text": [
      "Classification report:"
     ]
    },
    {
     "name": "stdout",
     "output_type": "stream",
     "text": [
      "Confusion matrix:\n",
      "[[   214  51531]\n",
      " [   331 191168]]\n"
     ]
    },
    {
     "name": "stdout",
     "output_type": "stream",
     "text": [
      "\n"
     ]
    },
    {
     "name": "stdout",
     "output_type": "stream",
     "text": [
      "\n"
     ]
    },
    {
     "name": "stdout",
     "output_type": "stream",
     "text": [
      "Classification report:"
     ]
    },
    {
     "name": "stdout",
     "output_type": "stream",
     "text": [
      "\n"
     ]
    },
    {
     "name": "stdout",
     "output_type": "stream",
     "text": [
      "              precision    recall  f1-score   support\n",
      "\n",
      "       False       0.39      0.00      0.01     51745\n",
      "        True       0.79      1.00      0.88    191499\n",
      "\n",
      "    accuracy                           0.79    243244\n",
      "   macro avg       0.59      0.50      0.44    243244\n",
      "weighted avg       0.70      0.79      0.69    243244\n"
     ]
    },
    {
     "name": "stdout",
     "output_type": "stream",
     "text": [
      "\n"
     ]
    },
    {
     "name": "stdout",
     "output_type": "stream",
     "text": [
      "              precision    recall  f1-score   support\n",
      "\n",
      "       False       0.39      0.00      0.01     52005\n",
      "        True       0.79      1.00      0.88    191240\n",
      "\n",
      "    accuracy                           0.79    243245\n",
      "   macro avg       0.59      0.50      0.44    243245\n",
      "weighted avg       0.70      0.79      0.69    243245\n"
     ]
    },
    {
     "name": "stdout",
     "output_type": "stream",
     "text": [
      "\n"
     ]
    },
    {
     "name": "stdout",
     "output_type": "stream",
     "text": [
      "Performance of 'FeatureGroups.IDEco'\n",
      "['InversedDependencyEcosystemExperienceSubmitterPullRequestSuccessRate', 'ln(1 + InversedDependencyEcosystemExperienceSubmitterPullRequestSubmissionCount)', 'ln(1 + InversedDependencyEcosystemExperienceSubmitterPullRequestCommentCount)', 'ln(1 + InversedDependencyEcosystemExperienceSubmitterIssueSubmissionCount)', 'ln(1 + InversedDependencyEcosystemExperienceSubmitterIssueCommentCount)']\n",
      "f1_scores=[0.8805286396373778, 0.8817292869797299, 0.8797603134362756, 0.8805567966688008, 0.8798242803769768]\n",
      "f1_mean=0.8804798634198322, f1_std=0.0007094925483947133\n",
      "\n",
      "Reverse ablation with \"FeatureGroups.NDEco\", including: ['NonDependencyEcosystemExperienceSubmitterPullRequestSuccessRate', 'ln(1 + NonDependencyEcosystemExperienceSubmitterPullRequestSubmissionCount)', 'ln(1 + NonDependencyEcosystemExperienceSubmitterPullRequestCommentCount)', 'ln(1 + NonDependencyEcosystemExperienceSubmitterIssueSubmissionCount)', 'ln(1 + NonDependencyEcosystemExperienceSubmitterIssueCommentCount)'].\n"
     ]
    },
    {
     "name": "stdout",
     "output_type": "stream",
     "text": [
      "random_state=60"
     ]
    },
    {
     "name": "stdout",
     "output_type": "stream",
     "text": [
      "\n"
     ]
    },
    {
     "name": "stdout",
     "output_type": "stream",
     "text": [
      "random_state=60"
     ]
    },
    {
     "name": "stdout",
     "output_type": "stream",
     "text": [
      "\n"
     ]
    },
    {
     "name": "stdout",
     "output_type": "stream",
     "text": [
      "random_state=60"
     ]
    },
    {
     "name": "stdout",
     "output_type": "stream",
     "text": [
      "\n"
     ]
    },
    {
     "name": "stdout",
     "output_type": "stream",
     "text": [
      "random_state=60"
     ]
    },
    {
     "name": "stdout",
     "output_type": "stream",
     "text": [
      "\n"
     ]
    },
    {
     "name": "stdout",
     "output_type": "stream",
     "text": [
      "random_state=60"
     ]
    },
    {
     "name": "stdout",
     "output_type": "stream",
     "text": [
      "\n"
     ]
    },
    {
     "name": "stdout",
     "output_type": "stream",
     "text": [
      "metrics={'accuracy': 0.7837521172156353, 'precision': 0.793079762667296, 'recall': 0.9817526434671021, 'f1': 0.8773878038148918}\n"
     ]
    },
    {
     "name": "stdout",
     "output_type": "stream",
     "text": [
      "\n"
     ]
    },
    {
     "name": "stdout",
     "output_type": "stream",
     "text": [
      "Confusion matrix:\n",
      "[[  2442  49103]\n",
      " [  3498 188201]]\n"
     ]
    },
    {
     "name": "stdout",
     "output_type": "stream",
     "text": [
      "\n"
     ]
    },
    {
     "name": "stdout",
     "output_type": "stream",
     "text": [
      "Classification report:"
     ]
    },
    {
     "name": "stdout",
     "output_type": "stream",
     "text": [
      "\n"
     ]
    },
    {
     "name": "stdout",
     "output_type": "stream",
     "text": [
      "              precision    recall  f1-score   support\n",
      "\n",
      "       False       0.41      0.05      0.08     51545\n",
      "        True       0.79      0.98      0.88    191699\n",
      "\n",
      "    accuracy                           0.78    243244\n",
      "   macro avg       0.60      0.51      0.48    243244\n",
      "weighted avg       0.71      0.78      0.71    243244\n"
     ]
    },
    {
     "name": "stdout",
     "output_type": "stream",
     "text": [
      "\n"
     ]
    },
    {
     "name": "stdout",
     "output_type": "stream",
     "text": [
      "metrics={'accuracy': 0.7818363453980366, 'precision': 0.7907468482926233, 'recall': 0.9822729175387191, 'f1': 0.8761653182616893}\n"
     ]
    },
    {
     "name": "stdout",
     "output_type": "stream",
     "text": [
      "\n"
     ]
    },
    {
     "name": "stdout",
     "output_type": "stream",
     "text": [
      "Confusion matrix:\n",
      "[[  2445  49679]\n",
      " [  3388 187732]]\n"
     ]
    },
    {
     "name": "stdout",
     "output_type": "stream",
     "text": [
      "\n"
     ]
    },
    {
     "name": "stdout",
     "output_type": "stream",
     "text": [
      "Classification report:"
     ]
    },
    {
     "name": "stdout",
     "output_type": "stream",
     "text": [
      "\n"
     ]
    },
    {
     "name": "stdout",
     "output_type": "stream",
     "text": [
      "              precision    recall  f1-score   support\n",
      "\n",
      "       False       0.42      0.05      0.08     52124\n",
      "        True       0.79      0.98      0.88    191120\n",
      "\n",
      "    accuracy                           0.78    243244\n",
      "   macro avg       0.60      0.51      0.48    243244\n",
      "weighted avg       0.71      0.78      0.71    243244\n"
     ]
    },
    {
     "name": "stdout",
     "output_type": "stream",
     "text": [
      "\n"
     ]
    },
    {
     "name": "stdout",
     "output_type": "stream",
     "text": [
      "metrics={'accuracy': 0.782502343326043, 'precision': 0.7919400858926215, 'recall': 0.981519399928961, 'f1': 0.8765969159142278}\n"
     ]
    },
    {
     "name": "stdout",
     "output_type": "stream",
     "text": [
      "\n"
     ]
    },
    {
     "name": "stdout",
     "output_type": "stream",
     "text": [
      "Confusion matrix:\n",
      "[[  2433  49367]\n",
      " [  3538 187906]]\n"
     ]
    },
    {
     "name": "stdout",
     "output_type": "stream",
     "text": [
      "\n"
     ]
    },
    {
     "name": "stdout",
     "output_type": "stream",
     "text": [
      "Classification report:"
     ]
    },
    {
     "name": "stdout",
     "output_type": "stream",
     "text": [
      "\n"
     ]
    },
    {
     "name": "stdout",
     "output_type": "stream",
     "text": [
      "metrics={'accuracy': 0.7843244465456638, 'precision': 0.7935278107805219, 'recall': 0.9819866320476325, 'f1': 0.8777554082897595}\n"
     ]
    },
    {
     "name": "stdout",
     "output_type": "stream",
     "text": [
      "\n"
     ]
    },
    {
     "name": "stdout",
     "output_type": "stream",
     "text": [
      "Confusion matrix:\n",
      "[[  2436  49007]\n",
      " [  3455 188347]]\n"
     ]
    },
    {
     "name": "stdout",
     "output_type": "stream",
     "text": [
      "\n"
     ]
    },
    {
     "name": "stdout",
     "output_type": "stream",
     "text": [
      "Classification report:"
     ]
    },
    {
     "name": "stdout",
     "output_type": "stream",
     "text": [
      "\n"
     ]
    },
    {
     "name": "stdout",
     "output_type": "stream",
     "text": [
      "metrics={'accuracy': 0.7824900100310799, 'precision': 0.7915183779708631, 'recall': 0.9821886808230418, 'f1': 0.8766051729365395}\n"
     ]
    },
    {
     "name": "stdout",
     "output_type": "stream",
     "text": [
      "\n"
     ]
    },
    {
     "name": "stdout",
     "output_type": "stream",
     "text": [
      "Confusion matrix:\n",
      "[[  2405  49500]\n",
      " [  3408 187931]]\n"
     ]
    },
    {
     "name": "stdout",
     "output_type": "stream",
     "text": [
      "\n"
     ]
    },
    {
     "name": "stdout",
     "output_type": "stream",
     "text": [
      "Classification report:"
     ]
    },
    {
     "name": "stdout",
     "output_type": "stream",
     "text": [
      "\n"
     ]
    },
    {
     "name": "stdout",
     "output_type": "stream",
     "text": [
      "              precision    recall  f1-score   support\n",
      "\n",
      "       False       0.41      0.05      0.08     51800\n",
      "        True       0.79      0.98      0.88    191444\n",
      "\n",
      "    accuracy                           0.78    243244\n",
      "   macro avg       0.60      0.51      0.48    243244\n",
      "weighted avg       0.71      0.78      0.71    243244\n"
     ]
    },
    {
     "name": "stdout",
     "output_type": "stream",
     "text": [
      "\n"
     ]
    },
    {
     "name": "stdout",
     "output_type": "stream",
     "text": [
      "              precision    recall  f1-score   support\n",
      "\n",
      "       False       0.41      0.05      0.08     51443\n",
      "        True       0.79      0.98      0.88    191802\n",
      "\n",
      "    accuracy                           0.78    243245\n",
      "   macro avg       0.60      0.51      0.48    243245\n",
      "weighted avg       0.71      0.78      0.71    243245\n"
     ]
    },
    {
     "name": "stdout",
     "output_type": "stream",
     "text": [
      "\n"
     ]
    },
    {
     "name": "stdout",
     "output_type": "stream",
     "text": [
      "              precision    recall  f1-score   support\n",
      "\n",
      "       False       0.41      0.05      0.08     51905\n",
      "        True       0.79      0.98      0.88    191339\n",
      "\n",
      "    accuracy                           0.78    243244\n",
      "   macro avg       0.60      0.51      0.48    243244\n",
      "weighted avg       0.71      0.78      0.71    243244\n"
     ]
    },
    {
     "name": "stdout",
     "output_type": "stream",
     "text": [
      "\n"
     ]
    },
    {
     "name": "stdout",
     "output_type": "stream",
     "text": [
      "Performance of 'FeatureGroups.NDEco'\n",
      "['NonDependencyEcosystemExperienceSubmitterPullRequestSuccessRate', 'ln(1 + NonDependencyEcosystemExperienceSubmitterPullRequestSubmissionCount)', 'ln(1 + NonDependencyEcosystemExperienceSubmitterPullRequestCommentCount)', 'ln(1 + NonDependencyEcosystemExperienceSubmitterIssueSubmissionCount)', 'ln(1 + NonDependencyEcosystemExperienceSubmitterIssueCommentCount)']\n",
      "f1_scores=[0.8773878038148918, 0.8761653182616893, 0.8765969159142278, 0.8777554082897595, 0.8766051729365395]\n",
      "f1_mean=0.8769021238434215, f1_std=0.0005810668752324782\n",
      "\n",
      "Reverse ablation with \"FeatureGroups.Coll\", including: ['ln(1 + WeightedEcosystemSecondOrderDegreeCentrality)', 'ln(1 + EcosystemLinkIntensity)'].\n"
     ]
    },
    {
     "name": "stdout",
     "output_type": "stream",
     "text": [
      "random_state=62"
     ]
    },
    {
     "name": "stdout",
     "output_type": "stream",
     "text": [
      "\n"
     ]
    },
    {
     "name": "stdout",
     "output_type": "stream",
     "text": [
      "random_state=62"
     ]
    },
    {
     "name": "stdout",
     "output_type": "stream",
     "text": [
      "\n"
     ]
    },
    {
     "name": "stdout",
     "output_type": "stream",
     "text": [
      "random_state=62"
     ]
    },
    {
     "name": "stdout",
     "output_type": "stream",
     "text": [
      "\n"
     ]
    },
    {
     "name": "stdout",
     "output_type": "stream",
     "text": [
      "random_state=62"
     ]
    },
    {
     "name": "stdout",
     "output_type": "stream",
     "text": [
      "\n"
     ]
    },
    {
     "name": "stdout",
     "output_type": "stream",
     "text": [
      "random_state=62"
     ]
    },
    {
     "name": "stdout",
     "output_type": "stream",
     "text": [
      "\n"
     ]
    },
    {
     "name": "stdout",
     "output_type": "stream",
     "text": [
      "metrics={'accuracy': 0.7634268471164757, 'precision': 0.7913471592889508, 'recall': 0.9495255770185849, 'f1': 0.8632501990233005}\n"
     ]
    },
    {
     "name": "stdout",
     "output_type": "stream",
     "text": [
      "\n"
     ]
    },
    {
     "name": "stdout",
     "output_type": "stream",
     "text": [
      "Confusion matrix:\n",
      "[[  4069  47890]\n",
      " [  9655 181630]]\n"
     ]
    },
    {
     "name": "stdout",
     "output_type": "stream",
     "text": [
      "\n"
     ]
    },
    {
     "name": "stdout",
     "output_type": "stream",
     "text": [
      "Classification report:"
     ]
    },
    {
     "name": "stdout",
     "output_type": "stream",
     "text": [
      "\n"
     ]
    },
    {
     "name": "stdout",
     "output_type": "stream",
     "text": [
      "              precision    recall  f1-score   support\n",
      "\n",
      "       False       0.30      0.08      0.12     51959\n",
      "        True       0.79      0.95      0.86    191285\n",
      "\n",
      "    accuracy                           0.76    243244\n",
      "   macro avg       0.54      0.51      0.49    243244\n",
      "weighted avg       0.69      0.76      0.71    243244\n"
     ]
    },
    {
     "name": "stdout",
     "output_type": "stream",
     "text": [
      "\n"
     ]
    },
    {
     "name": "stdout",
     "output_type": "stream",
     "text": [
      "metrics={'accuracy': 0.7640065119797405, 'precision': 0.7915850164171435, 'recall': 0.9501155120686591, 'f1': 0.8636354998099581}\n"
     ]
    },
    {
     "name": "stdout",
     "output_type": "stream",
     "text": [
      "\n"
     ]
    },
    {
     "name": "stdout",
     "output_type": "stream",
     "text": [
      "Confusion matrix:\n",
      "[[  4062  47860]\n",
      " [  9544 181778]]\n"
     ]
    },
    {
     "name": "stdout",
     "output_type": "stream",
     "text": [
      "\n"
     ]
    },
    {
     "name": "stdout",
     "output_type": "stream",
     "text": [
      "Classification report:"
     ]
    },
    {
     "name": "stdout",
     "output_type": "stream",
     "text": [
      "\n"
     ]
    },
    {
     "name": "stdout",
     "output_type": "stream",
     "text": [
      "              precision    recall  f1-score   support\n",
      "\n",
      "       False       0.30      0.08      0.12     51922\n",
      "        True       0.79      0.95      0.86    191322\n",
      "\n",
      "    accuracy                           0.76    243244\n",
      "   macro avg       0.55      0.51      0.49    243244\n",
      "weighted avg       0.69      0.76      0.71    243244\n"
     ]
    },
    {
     "name": "stdout",
     "output_type": "stream",
     "text": [
      "\n"
     ]
    },
    {
     "name": "stdout",
     "output_type": "stream",
     "text": [
      "metrics={'accuracy': 0.7654216941766532, 'precision': 0.7931647002481605, 'recall': 0.9501809798992354, 'f1': 0.8646019211055849}\n"
     ]
    },
    {
     "name": "stdout",
     "output_type": "stream",
     "text": [
      "\n"
     ]
    },
    {
     "name": "stdout",
     "output_type": "stream",
     "text": [
      "Confusion matrix:\n",
      "[[  4003  47508]\n",
      " [  9552 182182]]\n"
     ]
    },
    {
     "name": "stdout",
     "output_type": "stream",
     "text": [
      "\n"
     ]
    },
    {
     "name": "stdout",
     "output_type": "stream",
     "text": [
      "Classification report:"
     ]
    },
    {
     "name": "stdout",
     "output_type": "stream",
     "text": [
      "\n"
     ]
    },
    {
     "name": "stdout",
     "output_type": "stream",
     "text": [
      "              precision    recall  f1-score   support\n",
      "\n",
      "       False       0.30      0.08      0.12     51511\n",
      "        True       0.79      0.95      0.86    191734\n",
      "\n",
      "    accuracy                           0.77    243245\n",
      "   macro avg       0.54      0.51      0.49    243245\n",
      "weighted avg       0.69      0.77      0.71    243245\n"
     ]
    },
    {
     "name": "stdout",
     "output_type": "stream",
     "text": [
      "\n"
     ]
    },
    {
     "name": "stdout",
     "output_type": "stream",
     "text": [
      "metrics={'accuracy': 0.7639078456200359, 'precision': 0.7914645130690942, 'recall': 0.9503487551921419, 'f1': 0.8636601046503899}\n"
     ]
    },
    {
     "name": "stdout",
     "output_type": "stream",
     "text": [
      "\n"
     ]
    },
    {
     "name": "stdout",
     "output_type": "stream",
     "text": [
      "Confusion matrix:\n",
      "[[  3924  47925]\n",
      " [  9503 181892]]\n"
     ]
    },
    {
     "name": "stdout",
     "output_type": "stream",
     "text": [
      "\n"
     ]
    },
    {
     "name": "stdout",
     "output_type": "stream",
     "text": [
      "Classification report:"
     ]
    },
    {
     "name": "stdout",
     "output_type": "stream",
     "text": [
      "\n"
     ]
    },
    {
     "name": "stdout",
     "output_type": "stream",
     "text": [
      "              precision    recall  f1-score   support\n",
      "\n",
      "       False       0.29      0.08      0.12     51849\n",
      "        True       0.79      0.95      0.86    191395\n",
      "\n",
      "    accuracy                           0.76    243244\n",
      "   macro avg       0.54      0.51      0.49    243244\n",
      "weighted avg       0.69      0.76      0.71    243244\n"
     ]
    },
    {
     "name": "stdout",
     "output_type": "stream",
     "text": [
      "\n"
     ]
    },
    {
     "name": "stdout",
     "output_type": "stream",
     "text": [
      "metrics={'accuracy': 0.7643888441235961, 'precision': 0.7925854627335008, 'recall': 0.9494542646659849, 'f1': 0.863956930337004}\n"
     ]
    },
    {
     "name": "stdout",
     "output_type": "stream",
     "text": [
      "\n"
     ]
    },
    {
     "name": "stdout",
     "output_type": "stream",
     "text": [
      "Confusion matrix:\n",
      "[[  3953  47623]\n",
      " [  9688 181980]]\n"
     ]
    },
    {
     "name": "stdout",
     "output_type": "stream",
     "text": [
      "\n"
     ]
    },
    {
     "name": "stdout",
     "output_type": "stream",
     "text": [
      "Classification report:"
     ]
    },
    {
     "name": "stdout",
     "output_type": "stream",
     "text": [
      "\n"
     ]
    },
    {
     "name": "stdout",
     "output_type": "stream",
     "text": [
      "              precision    recall  f1-score   support\n",
      "\n",
      "       False       0.29      0.08      0.12     51576\n",
      "        True       0.79      0.95      0.86    191668\n",
      "\n",
      "    accuracy                           0.76    243244\n",
      "   macro avg       0.54      0.51      0.49    243244\n",
      "weighted avg       0.69      0.76      0.71    243244\n"
     ]
    },
    {
     "name": "stdout",
     "output_type": "stream",
     "text": [
      "\n"
     ]
    },
    {
     "name": "stdout",
     "output_type": "stream",
     "text": [
      "Performance of 'FeatureGroups.Coll'\n",
      "['ln(1 + WeightedEcosystemSecondOrderDegreeCentrality)', 'ln(1 + EcosystemLinkIntensity)']\n",
      "f1_scores=[0.8632501990233005, 0.8636354998099581, 0.8646019211055849, 0.8636601046503899, 0.863956930337004]\n",
      "f1_mean=0.8638209309852474, f1_std=0.00045042783992191613\n",
      "\n"
     ]
    }
   ],
   "source": [
    "rev_abl_results = dict()\n",
    "\n",
    "for cluster_name, cluster in var_groups.items():\n",
    "    print(f'Reverse ablation with \"{str(cluster_name)}\", including: {cluster}.')\n",
    "\n",
    "    # Creates models\n",
    "    f1_scores, f1_mean, f1_std = kfold_rf_evaluation(\n",
    "        df, cluster, k, pr_merged_key, seed_counter\n",
    "    )\n",
    "    rev_abl_results[cluster_name] = (f1_scores, f1_mean, f1_std)\n",
    "\n",
    "    print(\n",
    "        f\"Performance of '{cluster_name}'\\n{list(cluster)}\\n{f1_scores=}\\n{f1_mean=}, {f1_std=}\\n\"\n",
    "    )"
   ]
  },
  {
   "cell_type": "code",
   "execution_count": 17,
   "metadata": {
    "execution": {
     "iopub.execute_input": "2024-02-21T11:01:52.900414Z",
     "iopub.status.busy": "2024-02-21T11:01:52.900287Z",
     "iopub.status.idle": "2024-02-21T11:01:52.923079Z",
     "shell.execute_reply": "2024-02-21T11:01:52.922695Z"
    }
   },
   "outputs": [
    {
     "name": "stdout",
     "output_type": "stream",
     "text": [
      "Reverse cluster ablation results:\n",
      "Cluster 'FeatureGroups.Control':\n",
      "f1_scores=[0.8766866898514071, 0.8761976566789205, 0.8761415741887133, 0.8753945055446076, 0.8775310040091608]\n",
      "f1_mean=0.8763902860545618, f1_std=0.0007042208680957024\n",
      "\n",
      "Cluster 'FeatureGroups.Intra':\n",
      "f1_scores=[0.8805661880291271, 0.88105987366366, 0.8816304133719786, 0.8811807114194381, 0.8808240552811571]\n",
      "f1_mean=0.8810522483530722, f1_std=0.0003575366863560466\n",
      "\n",
      "Cluster 'FeatureGroups.Eco':\n",
      "f1_scores=[0.8767430790195823, 0.8759321432407066, 0.8774435827161933, 0.8762571952315902, 0.876163932053679]\n",
      "f1_mean=0.8765079864523504, f1_std=0.0005373032577858074\n",
      "\n",
      "Cluster 'FeatureGroups.DEco':\n",
      "f1_scores=[0.8803728542564686, 0.8811287656600351, 0.8809258457599175, 0.8797744806300897, 0.8802009170295615]\n",
      "f1_mean=0.8804805726672145, f1_std=0.0004912837834903154\n",
      "\n",
      "Cluster 'FeatureGroups.IDEco':\n",
      "f1_scores=[0.8805286396373778, 0.8817292869797299, 0.8797603134362756, 0.8805567966688008, 0.8798242803769768]\n",
      "f1_mean=0.8804798634198322, f1_std=0.0007094925483947133\n",
      "\n",
      "Cluster 'FeatureGroups.NDEco':\n",
      "f1_scores=[0.8773878038148918, 0.8761653182616893, 0.8765969159142278, 0.8777554082897595, 0.8766051729365395]\n",
      "f1_mean=0.8769021238434215, f1_std=0.0005810668752324782\n",
      "\n",
      "Cluster 'FeatureGroups.Coll':\n",
      "f1_scores=[0.8632501990233005, 0.8636354998099581, 0.8646019211055849, 0.8636601046503899, 0.863956930337004]\n",
      "f1_mean=0.8638209309852474, f1_std=0.00045042783992191613\n",
      "\n"
     ]
    }
   ],
   "source": [
    "# Prints summarized results again for clarity.\n",
    "print(\"Reverse cluster ablation results:\")\n",
    "for cluster_name, (f1_scores, f1_mean, f1_std) in rev_abl_results.items():\n",
    "    print(f\"Cluster '{cluster_name}':\\n{f1_scores=}\\n{f1_mean=}, {f1_std=}\\n\")"
   ]
  },
  {
   "cell_type": "markdown",
   "metadata": {},
   "source": [
    "### Probability Guesser\n",
    "\n",
    "Guesses the outcome by simply considering the probability of a merged pull request.\n",
    "Technically, an RF model performs somewhat well when its performance scores are ``> 0.5`` as there are only two possible outcomes.\n",
    "However, they actually mean anything once it's better than a simple probability guesser."
   ]
  },
  {
   "cell_type": "code",
   "execution_count": 18,
   "metadata": {
    "execution": {
     "iopub.execute_input": "2024-02-21T11:01:52.925147Z",
     "iopub.status.busy": "2024-02-21T11:01:52.924978Z",
     "iopub.status.idle": "2024-02-21T11:01:53.261023Z",
     "shell.execute_reply": "2024-02-21T11:01:53.260603Z"
    }
   },
   "outputs": [
    {
     "name": "stdout",
     "output_type": "stream",
     "text": [
      "Probability guesser metrics with probability_true=0.7871957481411684.\n",
      "{\n",
      "    \"accuracy\": 0.6666899627947132,\n",
      "    \"precision\": 0.7877063235194479,\n",
      "    \"recall\": 0.789310688788966,\n",
      "    \"f1\": 0.7885076900603102\n",
      "}\n"
     ]
    }
   ],
   "source": [
    "import random\n",
    "\n",
    "from python_proj.modelling.notebooks.random_forest.rf_functions import calculate_metrics\n",
    "\n",
    "random.seed(seed_counter.get_next())\n",
    "\n",
    "probability_true = class_imbalance / (class_imbalance + 1)\n",
    "\n",
    "predictions = [random.random() < probability_true for _ in range(len(test_dependent))]\n",
    "metrics = calculate_metrics(predictions, test_dependent)\n",
    "\n",
    "print(f\"Probability guesser metrics with {probability_true=}.\")\n",
    "print(json.dumps(metrics, indent=4))"
   ]
  },
  {
   "cell_type": "code",
   "execution_count": 19,
   "metadata": {
    "execution": {
     "iopub.execute_input": "2024-02-21T11:01:53.262614Z",
     "iopub.status.busy": "2024-02-21T11:01:53.262491Z",
     "iopub.status.idle": "2024-02-21T11:01:53.281664Z",
     "shell.execute_reply": "2024-02-21T11:01:53.281322Z"
    }
   },
   "outputs": [
    {
     "name": "stdout",
     "output_type": "stream",
     "text": [
      "2024-02-21 11:01:53.280054\n"
     ]
    }
   ],
   "source": [
    "import datetime\n",
    "\n",
    "print(datetime.datetime.now())"
   ]
  }
 ],
 "metadata": {
  "kernelspec": {
   "display_name": "Python 3",
   "language": "python",
   "name": "python3"
  },
  "language_info": {
   "codemirror_mode": {
    "name": "ipython",
    "version": 3
   },
   "file_extension": ".py",
   "mimetype": "text/x-python",
   "name": "python",
   "nbconvert_exporter": "python",
   "pygments_lexer": "ipython3",
   "version": "3.11.8"
  }
 },
 "nbformat": 4,
 "nbformat_minor": 2
}
