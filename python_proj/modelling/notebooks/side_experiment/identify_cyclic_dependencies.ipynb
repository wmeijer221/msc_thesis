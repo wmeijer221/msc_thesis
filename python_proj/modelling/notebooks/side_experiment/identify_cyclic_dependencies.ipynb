{
 "cells": [
  {
   "cell_type": "markdown",
   "metadata": {},
   "source": [
    "This script attempts to identify simple cyclic dependencies inside the ecosystem. \n",
    "It searches for cycles of length 2; i.e., such that A -> B and B -> A where A =/= B.\n",
    "We don't have to account for the scenario A = A as these are ignored during the dataset generation process.\n",
    "\n",
    "In addition, it outputs a list of projects involved in such a cycle in an output file."
   ]
  },
  {
   "cell_type": "code",
   "execution_count": null,
   "metadata": {},
   "outputs": [],
   "source": [
    "# Forces packages to be reloaded.\n",
    "\n",
    "%reload_ext autoreload\n",
    "%autoreload 2"
   ]
  },
  {
   "cell_type": "code",
   "execution_count": 3,
   "metadata": {},
   "outputs": [
    {
     "name": "stdout",
     "output_type": "stream",
     "text": [
      "Attempting quick load dependencies.\n",
      "Loading projects and dependencies from: \"/workspaces/msc_thesis/data/libraries/npm-libraries-1.6.0-2020-01-12/ql_dependencies.csv\".\n",
      "Finished quick load!\n",
      "Loaded 631066 projects and 1695834 projects with dependencies.\n",
      "Loaded dependency data in 0:00:28.838419.\n"
     ]
    }
   ],
   "source": [
    "from python_proj.data_preprocessing.sliding_window_features.dependent_ecosystem_experience import load_dependency_map\n",
    "\n",
    "dependency_map, proj_name_to_id = load_dependency_map()"
   ]
  },
  {
   "cell_type": "code",
   "execution_count": 4,
   "metadata": {},
   "outputs": [
    {
     "name": "stdout",
     "output_type": "stream",
     "text": [
      "len(dep_cycles)=37637\n"
     ]
    }
   ],
   "source": [
    "dep_cycles = set()\n",
    "\n",
    "cp = dependency_map.copy()\n",
    "\n",
    "for focal in dependency_map.keys():\n",
    "    for other in dependency_map[focal]:\n",
    "        if other in cp and focal in cp[other]:\n",
    "            entry = (focal, other) \\\n",
    "                if focal < other \\\n",
    "                else (other, focal)\n",
    "            dep_cycles.add(entry)\n",
    "\n",
    "print(f'{len(dep_cycles)=}')"
   ]
  },
  {
   "cell_type": "markdown",
   "metadata": {},
   "source": [
    "Conclusion: the dataset has cyclic dependencies; i.e., where dependencies A -> B and B -> A exist.\n",
    "\n",
    "A consequence of this is that, when calculating experience for project A, both the dependency and inverse dependency experience contains experience acquired in project B; i.e., duplicate entries. Consequently, when calculating `non_dep_exp = eco_exp - dep_exp - inv_dep_exp`, the results can be negative."
   ]
  },
  {
   "cell_type": "code",
   "execution_count": null,
   "metadata": {},
   "outputs": [
    {
     "name": "stdout",
     "output_type": "stream",
     "text": [
      "output_file_name='/workspaces/msc_thesis/data//cyclic_dependency_projects.csv'\n"
     ]
    }
   ],
   "source": [
    "# outputs file with illegal project IDs\n",
    "\n",
    "from csv import writer\n",
    "\n",
    "from python_proj.utils.util import flip_dict, flatten\n",
    "from python_proj.utils.exp_utils import BASE_PATH\n",
    "\n",
    "project_id_to_name = flip_dict(proj_name_to_id)\n",
    "cyclic_projects = set(flatten(dep_cycles))\n",
    "\n",
    "\n",
    "output_file_name = f'{BASE_PATH}/cyclic_dependency_projects.csv'\n",
    "print(f'{output_file_name=}')\n",
    "with open(output_file_name, 'w+', encoding='utf-8') as output_file:\n",
    "    csv_writer = writer(output_file)\n",
    "    csv_writer.writerow(['proj-id', 'proj-name'])\n",
    "\n",
    "    for project_id in cyclic_projects:\n",
    "        if project_id in project_id_to_name:\n",
    "            project_name = project_id_to_name[project_id]\n",
    "\n",
    "        csv_writer.writerow([project_id, project_name])"
   ]
  }
 ],
 "metadata": {
  "kernelspec": {
   "display_name": "Python 3",
   "language": "python",
   "name": "python3"
  },
  "language_info": {
   "codemirror_mode": {
    "name": "ipython",
    "version": 3
   },
   "file_extension": ".py",
   "mimetype": "text/x-python",
   "name": "python",
   "nbconvert_exporter": "python",
   "pygments_lexer": "ipython3",
   "version": "3.11.7"
  }
 },
 "nbformat": 4,
 "nbformat_minor": 2
}
