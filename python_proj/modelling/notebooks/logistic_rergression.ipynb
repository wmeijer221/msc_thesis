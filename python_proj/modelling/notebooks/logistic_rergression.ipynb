{
 "cells": [
  {
   "cell_type": "markdown",
   "metadata": {},
   "source": [
    "# Logistic Regression\n",
    "\n",
    "Implements everything related to logistic regression.\n",
    "It:\n",
    "- Loads the data\n",
    "- Tests the assumptions\n",
    "- Transforms data\n",
    "- Creates and tests a LR model\n",
    "- Outputs the created dataset"
   ]
  },
  {
   "cell_type": "code",
   "execution_count": null,
   "metadata": {},
   "outputs": [],
   "source": []
  }
 ],
 "metadata": {
  "language_info": {
   "name": "python"
  },
  "orig_nbformat": 4
 },
 "nbformat": 4,
 "nbformat_minor": 2
}
