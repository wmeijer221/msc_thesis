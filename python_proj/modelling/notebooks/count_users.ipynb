{
 "cells": [
  {
   "cell_type": "code",
   "execution_count": null,
   "metadata": {},
   "outputs": [],
   "source": [
    "import pandas as pd\n",
    "import numpy as np\n",
    "import math\n",
    "import matplotlib.pyplot as plt\n",
    "import json\n",
    "\n",
    "import regex as re\n",
    "from python_proj.utils.util import safe_save_fig, subtract_dict, Counter\n",
    "import python_proj.utils.exp_utils as exp_utils\n",
    "\n",
    "file_name = \"dataset_90_days_started_11_07_23_preprocessed\"\n",
    "base_path = exp_utils.BASE_PATH\n",
    "data_path = f'{base_path}/final_data/{file_name}.csv'\n",
    "figure_base_path = f\"{base_path}/figures/modelling/{file_name}/\"\n",
    "\n",
    "# Meta stuff.\n",
    "pr_merged_key = 'PullRequestIsMerged'\n",
    "ftc_key = 'SubmitterIsFirstTimeContributor'\n",
    "seed_counter = Counter()\n",
    "\n",
    "\n",
    "# Loads regular dataframe.\n",
    "df: pd.DataFrame = pd.read_csv(filepath_or_buffer=data_path, header=0)\n",
    "if 'Unnamed: 1' in df.columns:\n",
    "    df = df.drop(['Unnamed: 1', \"Project Name.1\"], axis=1)\n",
    "print(df.columns)\n",
    "\n",
    "# Creates sub-datasets.\n",
    "metadata_fields = ['ID', 'Project Name',\n",
    "                   'Submitter ID', 'PR Number', 'Closed At']\n",
    "dependent_fields = [pr_merged_key]\n",
    "independent_fields = [field for field in df.columns\n",
    "                      if (field not in metadata_fields\n",
    "                          and field != pr_merged_key)]\n",
    "\n",
    "df[independent_fields].describe()\n",
    "\n",
    "class_counts = df[pr_merged_key].value_counts()\n",
    "class_imbalance = class_counts[True] / class_counts[False]\n",
    "print(f'{class_imbalance=}')"
   ]
  },
  {
   "cell_type": "code",
   "execution_count": null,
   "metadata": {},
   "outputs": [],
   "source": [
    "users = len(df['Submitter ID'].unique())\n",
    "print(f'{users}')\n",
    "\n",
    "projects = len(df['Project Name'].unique())\n",
    "print(f'{projects=}')"
   ]
  }
 ],
 "metadata": {
  "language_info": {
   "name": "python"
  },
  "orig_nbformat": 4
 },
 "nbformat": 4,
 "nbformat_minor": 2
}
